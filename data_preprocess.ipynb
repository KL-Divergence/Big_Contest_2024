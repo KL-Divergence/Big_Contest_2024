{
 "cells": [
  {
   "cell_type": "code",
   "execution_count": null,
   "metadata": {},
   "outputs": [],
   "source": [
    "import numpy as np\n",
    "import pandas as pd"
   ]
  },
  {
   "cell_type": "markdown",
   "metadata": {},
   "source": [
    "# 제주지역_매출액상위_요식업가맹점"
   ]
  },
  {
   "cell_type": "code",
   "execution_count": null,
   "metadata": {},
   "outputs": [],
   "source": [
    "df = pd.read_csv(\"./data/raw_data/JEJU_MCT_DATA.csv\", encoding = 'cp949')\n",
    "df"
   ]
  },
  {
   "cell_type": "code",
   "execution_count": null,
   "metadata": {},
   "outputs": [],
   "source": [
    "df['MCT_TYPE'].unique()"
   ]
  },
  {
   "cell_type": "code",
   "execution_count": null,
   "metadata": {},
   "outputs": [],
   "source": [
    "df.nunique()"
   ]
  },
  {
   "cell_type": "code",
   "execution_count": null,
   "metadata": {},
   "outputs": [],
   "source": [
    "# 소수점 4자리로 출력되도록 설정\n",
    "pd.options.display.float_format = '{:.6f}'.format\n",
    "\n",
    "# 연속형(continuous) 피처만 선택 (숫자형 컬럼)\n",
    "continuous_df = df.select_dtypes(include=['float64'])\n",
    "\n",
    "# min, max, mean 계산\n",
    "min_values = continuous_df.min()\n",
    "max_values = continuous_df.max()\n",
    "mean_values = continuous_df.mean()\n",
    "\n",
    "# range 계산 (max - min)\n",
    "range_values = max_values - min_values\n",
    "\n",
    "# 결과를 하나의 데이터프레임으로 결합\n",
    "summary_df = pd.DataFrame({\n",
    "    'min': min_values,\n",
    "    'max': max_values,\n",
    "    'mean': mean_values,\n",
    "    'range': range_values\n",
    "})\n",
    "\n",
    "print(summary_df)"
   ]
  },
  {
   "cell_type": "code",
   "execution_count": null,
   "metadata": {},
   "outputs": [],
   "source": [
    "# NaN값 유무\n",
    "df.isna().sum().sum()"
   ]
  },
  {
   "cell_type": "code",
   "execution_count": null,
   "metadata": {},
   "outputs": [],
   "source": [
    "# 각 컬럼별 최빈값과 해당 값의 빈도수 구하기\n",
    "mode_count = {}\n",
    "for col in df.columns:\n",
    "    mode_value = df[col].mode()[0]  # 최빈값 구하기\n",
    "    mode_frequency = df[col].value_counts()[mode_value]  # 최빈값의 빈도수 구하기\n",
    "    mode_count[col] = (mode_value, mode_frequency)\n",
    "\n",
    "# 결과 출력\n",
    "for col, (mode_value, frequency) in mode_count.items():\n",
    "    print(f\"Column '{col}': 최빈값 = {mode_value}, 빈도수 = {frequency}\")"
   ]
  },
  {
   "cell_type": "code",
   "execution_count": null,
   "metadata": {},
   "outputs": [],
   "source": [
    "# 각 컬럼별 최소빈값과 빈도수 구하기\n",
    "min_count = {}\n",
    "for col in df.columns:\n",
    "    value_counts = df[col].value_counts()\n",
    "    min_value = value_counts.idxmin()  # 최소빈값\n",
    "    min_frequency = value_counts.min()  # 해당 값의 빈도수\n",
    "    min_count[col] = (min_value, min_frequency)\n",
    "\n",
    "# 결과 출력\n",
    "for col, (min_value, frequency) in min_count.items():\n",
    "    print(f\"Column '{col}': 최소빈값 = {min_value}, 빈도수 = {frequency}\")"
   ]
  },
  {
   "cell_type": "code",
   "execution_count": null,
   "metadata": {},
   "outputs": [],
   "source": []
  },
  {
   "cell_type": "markdown",
   "metadata": {},
   "source": [
    "# 비짓제주 월별 데이터"
   ]
  },
  {
   "cell_type": "code",
   "execution_count": null,
   "metadata": {},
   "outputs": [],
   "source": [
    "import pandas as pd\n",
    "\n",
    "# 첫 번째 파일을 기준으로 병합을 시작\n",
    "df_month_merged = pd.read_csv(f\"./data/raw_data/제주_관광_데이터/제주 관광수요 예측 데이터_비짓제주 월별 데이터/JT_MT_ACCTO_TRRSRT_SCCNT_LIST_202301.csv\", encoding='utf-8')[['CL_CD','CL_NM','AREA_NM','ADDR','BASE_YEAR','JAN_VIEWS_CO']]\n",
    "\n",
    "# 나머지 2월부터 12월까지의 파일을 불러와 필요한 열만 병합\n",
    "month_columns = ['FEB_VIEWS_CO', 'MAR_VIEWS_CO', 'APR_VIEWS_CO', 'MAY_VIEWS_CO', 'JUN_VIEWS_CO', \n",
    "                 'JULY_VIEWS_CO', 'AUG_VIEWS_CO', 'SEP_VIEWS_CO', 'OCT_VIEWS_CO', 'NOV_VIEWS_CO', 'DEC_VIEWS_CO']\n",
    "\n",
    "for month, col in zip(range(2, 13), month_columns):\n",
    "    df_temp = pd.read_csv(f\"./data/raw_data/제주_관광_데이터/제주 관광수요 예측 데이터_비짓제주 월별 데이터/JT_MT_ACCTO_TRRSRT_SCCNT_LIST_2023{str(month).zfill(2)}.csv\", encoding='utf-8')[['CL_CD','CL_NM','AREA_NM','ADDR','BASE_YEAR', col]]\n",
    "    df_month_merged = pd.merge(df_month_merged, df_temp, on=['CL_CD','CL_NM','AREA_NM','ADDR','BASE_YEAR'], how='outer')\n",
    "\n",
    "# 결과 확인\n",
    "print(df_month_merged.head())\n"
   ]
  },
  {
   "cell_type": "code",
   "execution_count": null,
   "metadata": {},
   "outputs": [],
   "source": [
    "df_month_merged.to_csv('./data/preprocessed_data/JT_MT_ACCTO_TRRSRT_SCCNT_LIST_ALL_MONTH.csv')\n"
   ]
  },
  {
   "cell_type": "code",
   "execution_count": null,
   "metadata": {},
   "outputs": [],
   "source": [
    "df_month_merged[df_month_merged['CL_NM'] == '음식점']"
   ]
  },
  {
   "cell_type": "code",
   "execution_count": null,
   "metadata": {},
   "outputs": [],
   "source": [
    "df_month_merged.nunique()"
   ]
  },
  {
   "cell_type": "code",
   "execution_count": null,
   "metadata": {},
   "outputs": [],
   "source": [
    "df_month_merged.shape"
   ]
  },
  {
   "cell_type": "code",
   "execution_count": null,
   "metadata": {},
   "outputs": [],
   "source": [
    "# 소수점 4자리로 출력되도록 설정\n",
    "pd.options.display.float_format = '{:.6f}'.format\n",
    "\n",
    "# 연속형(continuous) 피처만 선택 (숫자형 컬럼)\n",
    "continuous_df = df_month_merged.select_dtypes(include=['float64', 'int64'])\n",
    "\n",
    "# min, max, mean 계산\n",
    "min_values = continuous_df.min()\n",
    "max_values = continuous_df.max()\n",
    "mean_values = continuous_df.mean()\n",
    "\n",
    "# range 계산 (max - min)\n",
    "range_values = max_values - min_values\n",
    "\n",
    "# 결과를 하나의 데이터프레임으로 결합\n",
    "summary_df = pd.DataFrame({\n",
    "    'min': min_values,\n",
    "    'max': max_values,\n",
    "    'mean': mean_values,\n",
    "    'range': range_values\n",
    "})\n",
    "\n",
    "print(summary_df)"
   ]
  },
  {
   "cell_type": "code",
   "execution_count": null,
   "metadata": {},
   "outputs": [],
   "source": [
    "# 각 컬럼별 최빈값과 해당 값의 빈도수 구하기\n",
    "mode_count = {}\n",
    "for col in df_month_merged.columns:\n",
    "    mode_value = df_month_merged[col].mode()[0]  # 최빈값 구하기\n",
    "    mode_frequency = df_month_merged[col].value_counts()[mode_value]  # 최빈값의 빈도수 구하기\n",
    "    mode_count[col] = (mode_value, mode_frequency)\n",
    "\n",
    "# 결과 출력\n",
    "for col, (mode_value, frequency) in mode_count.items():\n",
    "    print(f\"Column '{col}': 최빈값 = {mode_value}, 빈도수 = {frequency}\")"
   ]
  },
  {
   "cell_type": "code",
   "execution_count": null,
   "metadata": {},
   "outputs": [],
   "source": [
    "# 각 컬럼별 최소빈값과 빈도수 구하기\n",
    "min_count = {}\n",
    "for col in df_month_merged.columns:\n",
    "    value_counts = df_month_merged[col].value_counts()\n",
    "    min_value = value_counts.idxmin()  # 최소빈값\n",
    "    min_frequency = value_counts.min()  # 해당 값의 빈도수\n",
    "    min_count[col] = (min_value, min_frequency)\n",
    "\n",
    "# 결과 출력\n",
    "for col, (min_value, frequency) in min_count.items():\n",
    "    print(f\"Column '{col}': 최소빈값 = {min_value}, 빈도수 = {frequency}\")"
   ]
  },
  {
   "cell_type": "code",
   "execution_count": null,
   "metadata": {},
   "outputs": [],
   "source": [
    "# 같은 업장이 왜 여러 행에 존재할까?\n",
    "df_month_merged[df_month_merged['AREA_NM'] == '제주빅볼랜드']"
   ]
  },
  {
   "cell_type": "code",
   "execution_count": null,
   "metadata": {},
   "outputs": [],
   "source": []
  },
  {
   "cell_type": "markdown",
   "metadata": {},
   "source": [
    "# 비짓제주 요일별 데이터"
   ]
  },
  {
   "cell_type": "code",
   "execution_count": null,
   "metadata": {},
   "outputs": [],
   "source": [
    "import pandas as pd\n",
    "\n",
    "# 첫 번째 파일을 기준으로 병합을 시작\n",
    "df_day_merged = pd.read_csv(f\"./data/raw_data/제주_관광_데이터/제주 관광수요 예측 데이터_비짓제주 요일별 데이터/JT_WKDAY_ACCTO_TRRSRT_SCCNT_LIST_202301.csv\", encoding='utf-8')\n",
    "\n",
    "for month in range(2, 13):\n",
    "    df_day_temp = pd.read_csv(f\"./data/raw_data/제주_관광_데이터/제주 관광수요 예측 데이터_비짓제주 요일별 데이터/JT_WKDAY_ACCTO_TRRSRT_SCCNT_LIST_2023{str(month).zfill(2)}.csv\", encoding='utf-8')\n",
    "    df_day_merged = pd.concat([df_day_merged, df_day_temp])\n",
    "    \n",
    "df_day_merged.head()"
   ]
  },
  {
   "cell_type": "code",
   "execution_count": null,
   "metadata": {},
   "outputs": [],
   "source": [
    "df_day_merged.shape"
   ]
  },
  {
   "cell_type": "code",
   "execution_count": null,
   "metadata": {},
   "outputs": [],
   "source": [
    "df_day_merged.nunique()"
   ]
  },
  {
   "cell_type": "code",
   "execution_count": null,
   "metadata": {},
   "outputs": [],
   "source": [
    "pivot_df = df_day_merged.pivot_table(\n",
    "    index=['CL_CD', 'CL_NM', 'AREA_NM', 'ADDR', 'BASE_YEAR'],\n",
    "    columns='BASE_MT',\n",
    "    values=['ALL_TOTAL_CO', 'MON_VIEWS_CO', 'TUES_VIEWS_CO', 'WED_VIEWS_CO', 'THUR_VIEWS_CO', 'FRI_VIEWS_CO', 'SAT_VIEWS_CO', 'SUN_VIEWS_CO'],\n",
    "    aggfunc='mean'  # 평균을 사용할 수 있습니다. 필요에 따라 'sum', 'max' 등 다른 함수로 변경 가능합니다.\n",
    ")\n",
    "\n",
    "# 피벗 결과를 확인\n",
    "pivot_df\n"
   ]
  },
  {
   "cell_type": "code",
   "execution_count": null,
   "metadata": {},
   "outputs": [],
   "source": [
    "pivot_df.to_csv('./data/preprocessed_data/JT_WKDAY_ACCTO_TRRSRT_SCCNT_LIST_ALL.csv')"
   ]
  },
  {
   "cell_type": "code",
   "execution_count": null,
   "metadata": {},
   "outputs": [],
   "source": [
    "# 소수점 4자리로 출력되도록 설정\n",
    "pd.options.display.float_format = '{:.6f}'.format\n",
    "\n",
    "# 연속형(continuous) 피처만 선택 (숫자형 컬럼)\n",
    "continuous_df = pivot_df.select_dtypes(include=['float64', 'int64'])\n",
    "\n",
    "# min, max, mean 계산\n",
    "min_values = continuous_df.min()\n",
    "max_values = continuous_df.max()\n",
    "mean_values = continuous_df.mean()\n",
    "\n",
    "# range 계산 (max - min)\n",
    "range_values = max_values - min_values\n",
    "\n",
    "# 결과를 하나의 데이터프레임으로 결합\n",
    "summary_df = pd.DataFrame({\n",
    "    'min': min_values,\n",
    "    'max': max_values,\n",
    "    'mean': mean_values,\n",
    "    'range': range_values\n",
    "})\n",
    "\n",
    "print(summary_df)"
   ]
  },
  {
   "cell_type": "code",
   "execution_count": null,
   "metadata": {},
   "outputs": [],
   "source": [
    "summary_df.loc[('ALL_TOTAL_CO')]"
   ]
  },
  {
   "cell_type": "markdown",
   "metadata": {},
   "source": [
    "# 제주 관광지 평점리뷰 감정분석 데이터"
   ]
  },
  {
   "cell_type": "code",
   "execution_count": null,
   "metadata": {},
   "outputs": [],
   "source": []
  },
  {
   "cell_type": "markdown",
   "metadata": {},
   "source": [
    "# 제주 관광지 평점리뷰 형태소 데이터"
   ]
  },
  {
   "cell_type": "markdown",
   "metadata": {},
   "source": []
  }
 ],
 "metadata": {
  "kernelspec": {
   "display_name": "pytorch",
   "language": "python",
   "name": "python3"
  },
  "language_info": {
   "codemirror_mode": {
    "name": "ipython",
    "version": 3
   },
   "file_extension": ".py",
   "mimetype": "text/x-python",
   "name": "python",
   "nbconvert_exporter": "python",
   "pygments_lexer": "ipython3",
   "version": "3.8.19"
  }
 },
 "nbformat": 4,
 "nbformat_minor": 2
}
