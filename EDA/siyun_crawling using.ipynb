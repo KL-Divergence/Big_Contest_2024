{
  "cells": [
    {
      "cell_type": "markdown",
      "metadata": {
        "id": "HdVB8gdufnIk"
      },
      "source": [
        "# Todo\n",
        "0. 현재 attempt 1-1 진행중 오류는 주석 참고바람\n",
        "1. searchframe 구분해서 추가처리하기\n",
        "2. searchframe의 경우 맨 위의 장소를 클릭하도록 설정\n",
        "3. 각 리뷰가 없는 경우 빠르게 넘겨서 시간절약하기\n",
        "\n",
        "\n"
      ]
    },
    {
      "cell_type": "markdown",
      "metadata": {
        "id": "6o7sktkfsJmH"
      },
      "source": [
        "#selenium settings\n",
        "- 참고\n",
        "https://velog.io/@kimdy0915/Selenium%EC%9C%BC%EB%A1%9C-%EB%84%A4%EC%9D%B4%EB%B2%84-%EC%A7%80%EB%8F%84-%ED%81%AC%EB%A1%A4%EB%A7%81%ED%95%98%EA%B8%B0\n",
        "\n",
        "https://eastsea92-com.tistory.com/80\n",
        "\n",
        "https://jinooh.tistory.com/89\n",
        "\n"
      ]
    },
    {
      "cell_type": "code",
      "execution_count": null,
      "metadata": {
        "colab": {
          "base_uri": "https://localhost:8080/"
        },
        "id": "Yaq6VCvTuII_",
        "outputId": "b5797f9d-dcec-413a-a400-69e5798e78a9"
      },
      "outputs": [],
      "source": [
        "!pip install selenium"
      ]
    },
    {
      "cell_type": "code",
      "execution_count": 2,
      "metadata": {
        "id": "klP80wzayETr"
      },
      "outputs": [],
      "source": [
        "from selenium import webdriver\n",
        "from selenium.webdriver.chrome.service import Service\n",
        "from selenium.webdriver.common.keys import Keys\n",
        "from selenium.webdriver.common.by import By\n",
        "from selenium.webdriver.support.ui import WebDriverWait\n",
        "from selenium.webdriver.support import expected_conditions as EC\n",
        "from selenium.common.exceptions import TimeoutException, NoSuchElementException\n",
        "from selenium.webdriver import ActionChains\n",
        "import json\n",
        "import time\n",
        "from time import sleep\n",
        "import pandas as pd\n",
        "from tqdm import tqdm\n",
        "\n"
      ]
    },
    {
      "cell_type": "markdown",
      "metadata": {
        "id": "CrkgzG6mym0G"
      },
      "source": [
        "load chrome driver"
      ]
    },
    {
      "cell_type": "code",
      "execution_count": 3,
      "metadata": {},
      "outputs": [
        {
          "data": {
            "text/plain": [
              "'.'"
            ]
          },
          "execution_count": 3,
          "metadata": {},
          "output_type": "execute_result"
        }
      ],
      "source": [
        "import os\n",
        "os.curdir"
      ]
    },
    {
      "cell_type": "markdown",
      "metadata": {
        "id": "f1sOC9q1x7lG"
      },
      "source": [
        "# 절차\n",
        "\n",
        "1. 가게에 대한 unique를 list에 넣기\n",
        "2. for 문을 돌면서 해당 가게에 대한 정보\n",
        "    - 홈 - datalab 키워드\n",
        "    - 사진 - 이미지\n",
        "    - 리뷰 - 메뉴/특징\n",
        "\n",
        "\n"
      ]
    },
    {
      "cell_type": "code",
      "execution_count": null,
      "metadata": {
        "id": "Z0icws1HtzcW"
      },
      "outputs": [],
      "source": [
        "# # 검색할 키워드\n",
        "# ## 검색할 키워드를 입력받은 후 for문장으로 해당 가게에 대한 정보 가져오기\n",
        "# shinhan_store = ['','','','']\n",
        "\n",
        "# datalab = []\n",
        "# picture = []\n",
        "# review = []\n",
        "\n",
        "# driver = webdriver.Chrome('./chromedriver')\n",
        "# driver.get('https://map.naver.com/v5/search')\n",
        "\n",
        "# for store in shinhan_store:\n",
        "\n",
        "#     # 10 secs wait until find css\n",
        "#     time_wait(10, 'div.input_box > input.input_search')\n",
        "\n",
        "#     # 검색창 찾기\n",
        "#     search = driver.find_element(By.CSS_SELECTOR, 'div.input_box > input.input_search')\n",
        "#     search.clear()\n",
        "#     search.send_keys(store)\n",
        "#     search.send_keys(Keys.ENTER)\n",
        "\n",
        "#     sleep(1)\n",
        "\n",
        "#     switch_method('searchIframe')\n",
        "#     page_down(20)\n",
        "#     sleep(3)\n",
        "\n",
        "#     # 홈\n",
        "#     ## datalab의 키워드\n",
        "#     path = '/html/body/div[3]/div/div/div/div[6]/div/div[9]'\n",
        "#     ### theme-keyword\n",
        "#     /html/body/div[3]/div/div/div/div[6]/div/div[9]/div[1]/div[1]/div/ul/li[1]/span[1]\n",
        "#     /html/body/div[3]/div/div/div/div[6]/div/div[9]/div[1]/div[1]/div/ul/li[2]/span[1]\n",
        "#     /html/body/div[3]/div/div/div/div[6]/div/div[9]/div[1]/div[1]/div/ul/li[3]/span[1]\n",
        "#     ### 내용1\n",
        "#     /html/body/div[3]/div/div/div/div[6]/div/div[9]/div[1]/div[1]/div/ul/li[1]/span[2]/span[1]\n",
        "#     /html/body/div[3]/div/div/div/div[6]/div/div[9]/div[1]/div[1]/div/ul/li[1]/span[2]/span[5]\n",
        "#     ### 내용2\n",
        "#     /html/body/div[3]/div/div/div/div[6]/div/div[9]/div[1]/div[1]/div/ul/li[2]/span[2]/span[1]\n",
        "#     /html/body/div[3]/div/div/div/div[6]/div/div[9]/div[1]/div[1]/div/ul/li[2]/span[2]/span[5]\n",
        "#     ### 내용3\n",
        "#     /html/body/div[3]/div/div/div/div[6]/div/div[9]/div[1]/div[1]/div/ul/li[2]/span[3]/span[1]\n",
        "#     /html/body/div[3]/div/div/div/div[6]/div/div[9]/div[1]/div[1]/div/ul/li[2]/span[3]/span[5]\n",
        "\n",
        "#     # 리뷰\n",
        "#     to_click1 = /html/body/div[3]/div/div/div/div[4]/div/div/div/div/a[4]/span\n",
        "#     # 메뉴박스\n",
        "#     review = /html/body/div[3]/div/div/div/div[6]/div[3]/div[3]\n",
        "#     menu_box = /html/body/div[3]/div/div/div/div[6]/div[3]/div[3]/div[1]/div[1]/div/div[1]\n",
        "#     menu = /html/body/div[3]/div/div/div/div[6]/div[3]/div[3]/div[1]/div[1]/div/div[1]/div/div/div/div/span[2]/a/span[1]\n",
        "#     # 특징박스\n",
        "#     feature = /html/body/div[3]/div/div/div/div[6]/div[3]/div[3]/div[1]/div[1]/div/div[2]\n",
        "#     feqture_1 = /html/body/div[3]/div/div/div/div[6]/div[3]/div[3]/div[1]/div[1]/div/div[2]/div/div/div/div/span[2]/a/span[1]\n",
        "\n",
        "#     # 사진\n",
        "#     to_click2 = /html/body/div[3]/div/div/div/div[4]/div/div/div/div/a[5]/span\n",
        "#     # 동영상이 아니라 사진의 경우만\n",
        "#     # 대략 5~10개 이미지 url 저장\n",
        "\n",
        "#     picture_box = /html/body/div[3]/div/div/div/div[6]/div[5]/div/div/div/div[1]/a\n",
        "#     url = /html/body/div[3]/div/div/div/div[6]/div[5]/div/div/div/div[1]/a/div/div[1]/img\n",
        "\n",
        "\n",
        "\n"
      ]
    },
    {
      "cell_type": "code",
      "execution_count": 47,
      "metadata": {},
      "outputs": [
        {
          "name": "stderr",
          "output_type": "stream",
          "text": [
            "<>:1: SyntaxWarning: invalid escape sequence '\\g'\n",
            "<>:1: SyntaxWarning: invalid escape sequence '\\g'\n",
            "C:\\Users\\tldbs\\AppData\\Local\\Temp\\ipykernel_10724\\2070615184.py:1: SyntaxWarning: invalid escape sequence '\\g'\n",
            "  concat = pd.read_csv('C:\\github\\shinhan_merge.csv', encoding='utf-8')\n"
          ]
        }
      ],
      "source": [
        "concat = pd.read_csv('C:\\github\\shinhan_merge.csv', encoding='utf-8')\n",
        "\n",
        "search_cols = concat['MCT_NM']\n",
        "search_cols = search_cols.tolist()\n",
        "search_cols_cut = search_cols[5001:6000]\n"
      ]
    },
    {
      "cell_type": "code",
      "execution_count": 50,
      "metadata": {},
      "outputs": [],
      "source": [
        "# 처음에 초기화\n",
        "fail_to_crawling = []"
      ]
    },
    {
      "cell_type": "markdown",
      "metadata": {},
      "source": [
        "수정해야할 부분\n",
        "- search cols에서 (사) (주) (유) 등이 있는데ㅐ 그러면 검색이 안됨. 따라서 처리"
      ]
    },
    {
      "cell_type": "code",
      "execution_count": 51,
      "metadata": {},
      "outputs": [
        {
          "data": {
            "text/plain": [
              "['송쿠쉐',\n",
              " '송키',\n",
              " '송탄부대찌개집',\n",
              " '송탄최네집부대찌개제주점',\n",
              " '송화',\n",
              " '송화잔지기떡 제주아라점',\n",
              " '송화정',\n",
              " '송화촌',\n",
              " '솥닭',\n",
              " '솥뚜껑흑돼지']"
            ]
          },
          "execution_count": 51,
          "metadata": {},
          "output_type": "execute_result"
        }
      ],
      "source": [
        "import re\n",
        "search_cols_1 = list(map(lambda x: re.sub(r'^\\(.*?\\)\\s*', '', x), search_cols_cut))\n",
        "search_cols_1[:10]\n"
      ]
    },
    {
      "cell_type": "code",
      "execution_count": 52,
      "metadata": {},
      "outputs": [
        {
          "name": "stderr",
          "output_type": "stream",
          "text": [
            "  0%|          | 0/999 [00:00<?, ?it/s]"
          ]
        },
        {
          "name": "stdout",
          "output_type": "stream",
          "text": [
            "송쿠쉐: searchIframe 로드 및 프레임 전환 완료\n",
            "송쿠쉐: entryIframe이 이미 로드됨. 클릭 없이 바로 진행\n",
            "entryIframe 로드.\n",
            "Error while extracting menu/features for 송쿠쉐, div 1:\n"
          ]
        },
        {
          "name": "stderr",
          "output_type": "stream",
          "text": [
            "  0%|          | 1/999 [00:22<6:10:44, 22.29s/it]"
          ]
        },
        {
          "name": "stdout",
          "output_type": "stream",
          "text": [
            "Error while extracting menu/features for 송쿠쉐, div 2:\n",
            " 사진 버튼 없음 : 송쿠쉐.\n",
            "송키: searchIframe 로드 및 프레임 전환 완료\n",
            "송키: 첫 번째 가게 클릭 후 전환되지 않음. 다음 가게로 진행\n",
            "entryIframe 로드.\n",
            "Error while extracting menu/features for 송키, div 1:\n",
            "Error while extracting menu/features for 송키, div 2:\n"
          ]
        },
        {
          "name": "stderr",
          "output_type": "stream",
          "text": [
            "  0%|          | 2/999 [00:52<7:25:26, 26.81s/it]"
          ]
        },
        {
          "name": "stdout",
          "output_type": "stream",
          "text": [
            "송탄부대찌개집: searchIframe 로드 및 프레임 전환 완료\n",
            "송탄부대찌개집: 첫 번째 가게 클릭 후 전환되지 않음. 다음 가게로 진행\n",
            "entryIframe 로드.\n",
            "Error while extracting menu/features for 송탄부대찌개집, div 1:\n",
            "Error while extracting menu/features for 송탄부대찌개집, div 2:\n"
          ]
        },
        {
          "name": "stderr",
          "output_type": "stream",
          "text": [
            "  0%|          | 3/999 [01:20<7:35:26, 27.44s/it]"
          ]
        },
        {
          "name": "stdout",
          "output_type": "stream",
          "text": [
            "송탄최네집부대찌개제주점: searchIframe 로드 및 프레임 전환 완료\n",
            "Error while clicking first search result for 송탄최네집부대찌개제주점: Unable to locate list container.\n"
          ]
        },
        {
          "name": "stderr",
          "output_type": "stream",
          "text": [
            "  0%|          | 4/999 [01:41<6:51:13, 24.80s/it]"
          ]
        },
        {
          "name": "stdout",
          "output_type": "stream",
          "text": [
            "Failed to load iframe after multiple attempts for 송탄최네집부대찌개제주점.\n",
            "crawling fatil : 송탄최네집부대찌개제주점 to fail_to_crawling\n",
            "송화: searchIframe 로드 및 프레임 전환 완료\n",
            "송화: 첫 번째 가게 클릭 후 전환되지 않음. 다음 가게로 진행\n",
            "entryIframe 로드.\n",
            "Error while extracting menu/features for 송화, div 1:\n",
            "Error while extracting menu/features for 송화, div 2:\n"
          ]
        },
        {
          "name": "stderr",
          "output_type": "stream",
          "text": [
            "  1%|          | 5/999 [02:07<6:59:02, 25.29s/it]"
          ]
        },
        {
          "name": "stdout",
          "output_type": "stream",
          "text": [
            "송화잔지기떡 제주아라점: searchIframe 로드 및 프레임 전환 완료\n",
            "송화잔지기떡 제주아라점: entryIframe이 이미 로드됨. 클릭 없이 바로 진행\n",
            "entryIframe 로드.\n",
            "Error while extracting datalab information for 송화잔지기떡 제주아라점:\n",
            "Error while navigating to reviews for 송화잔지기떡 제주아라점:\n"
          ]
        },
        {
          "name": "stderr",
          "output_type": "stream",
          "text": [
            "  1%|          | 6/999 [02:26<6:23:14, 23.16s/it]"
          ]
        },
        {
          "name": "stdout",
          "output_type": "stream",
          "text": [
            "송화정: searchIframe 로드 및 프레임 전환 완료\n",
            "송화정: 첫 번째 가게 클릭 후 전환되지 않음. 다음 가게로 진행\n",
            "entryIframe 로드.\n",
            "Error while extracting menu/features for 송화정, div 1:\n",
            "Error while extracting menu/features for 송화정, div 2:\n"
          ]
        },
        {
          "name": "stderr",
          "output_type": "stream",
          "text": [
            "  1%|          | 7/999 [02:54<6:50:59, 24.86s/it]"
          ]
        },
        {
          "name": "stdout",
          "output_type": "stream",
          "text": [
            "송화촌: searchIframe 로드 및 프레임 전환 완료\n",
            "송화촌: 링크버튼을 찾을 수 없음. xpath 대신 다른 방법 시도\n"
          ]
        },
        {
          "name": "stderr",
          "output_type": "stream",
          "text": [
            "  1%|          | 8/999 [03:12<6:14:24, 22.67s/it]"
          ]
        },
        {
          "name": "stdout",
          "output_type": "stream",
          "text": [
            "Failed to load iframe after multiple attempts for 송화촌.\n",
            "crawling fatil : 송화촌 to fail_to_crawling\n",
            "솥닭: searchIframe 로드 및 프레임 전환 완료\n",
            "솥닭: 첫 번째 가게 클릭 후 전환되지 않음. 다음 가게로 진행\n",
            "entryIframe 로드.\n",
            "Error while extracting menu/features for 솥닭, div 1:\n",
            "Error while extracting menu/features for 솥닭, div 2:\n"
          ]
        },
        {
          "name": "stderr",
          "output_type": "stream",
          "text": [
            "  1%|          | 9/999 [03:43<6:53:26, 25.06s/it]"
          ]
        },
        {
          "name": "stdout",
          "output_type": "stream",
          "text": [
            "솥뚜껑흑돼지: searchIframe 로드 및 프레임 전환 완료\n",
            "솥뚜껑흑돼지: 첫 번째 가게 클릭 후 전환되지 않음. 다음 가게로 진행\n",
            "entryIframe 로드.\n",
            "Error while extracting menu/features for 솥뚜껑흑돼지, div 1:\n",
            "Error while extracting menu/features for 솥뚜껑흑돼지, div 2:\n"
          ]
        },
        {
          "name": "stderr",
          "output_type": "stream",
          "text": [
            "  1%|          | 10/999 [04:11<7:10:52, 26.14s/it]"
          ]
        },
        {
          "name": "stdout",
          "output_type": "stream",
          "text": [
            "솥마루: searchIframe 로드 및 프레임 전환 완료\n",
            "솥마루: 첫 번째 가게 클릭 후 전환되지 않음. 다음 가게로 진행\n",
            "entryIframe 로드.\n",
            "Error while extracting menu/features for 솥마루, div 1:\n",
            "Error while extracting menu/features for 솥마루, div 2:\n"
          ]
        },
        {
          "name": "stderr",
          "output_type": "stream",
          "text": [
            "  1%|          | 11/999 [04:39<7:19:02, 26.66s/it]"
          ]
        },
        {
          "name": "stdout",
          "output_type": "stream",
          "text": [
            "쇠소깍가든: searchIframe 로드 및 프레임 전환 완료\n",
            "쇠소깍가든: entryIframe이 이미 로드됨. 클릭 없이 바로 진행\n",
            "entryIframe 로드.\n",
            "Error while extracting menu/features for 쇠소깍가든, div 1:\n",
            "Error while extracting menu/features for 쇠소깍가든, div 2:\n"
          ]
        },
        {
          "name": "stderr",
          "output_type": "stream",
          "text": [
            "  1%|          | 12/999 [05:01<6:53:18, 25.13s/it]"
          ]
        },
        {
          "name": "stdout",
          "output_type": "stream",
          "text": [
            "쇠소깍대박밥상: searchIframe 로드 및 프레임 전환 완료\n",
            "쇠소깍대박밥상: entryIframe이 이미 로드됨. 클릭 없이 바로 진행\n",
            "entryIframe 로드.\n",
            "Error while extracting menu/features for 쇠소깍대박밥상, div 1:\n",
            "Error while extracting menu/features for 쇠소깍대박밥상, div 2:\n"
          ]
        },
        {
          "name": "stderr",
          "output_type": "stream",
          "text": [
            "  1%|▏         | 13/999 [05:22<6:33:18, 23.93s/it]"
          ]
        },
        {
          "name": "stdout",
          "output_type": "stream",
          "text": [
            "쇠소깍돼지갈비: searchIframe 로드 및 프레임 전환 완료\n",
            "쇠소깍돼지갈비: 링크버튼을 찾을 수 없음. xpath 대신 다른 방법 시도\n"
          ]
        },
        {
          "name": "stderr",
          "output_type": "stream",
          "text": [
            "  1%|▏         | 14/999 [05:40<6:05:07, 22.24s/it]"
          ]
        },
        {
          "name": "stdout",
          "output_type": "stream",
          "text": [
            "Failed to load iframe after multiple attempts for 쇠소깍돼지갈비.\n",
            "crawling fatil : 쇠소깍돼지갈비 to fail_to_crawling\n",
            "쇠소깍모꼬지: searchIframe 로드 및 프레임 전환 완료\n",
            "쇠소깍모꼬지: entryIframe이 이미 로드됨. 클릭 없이 바로 진행\n",
            "entryIframe 로드.\n",
            "Error while extracting menu/features for 쇠소깍모꼬지, div 1:\n",
            "Error while extracting menu/features for 쇠소깍모꼬지, div 2:\n"
          ]
        },
        {
          "name": "stderr",
          "output_type": "stream",
          "text": [
            "  2%|▏         | 15/999 [06:05<6:19:04, 23.11s/it]"
          ]
        },
        {
          "name": "stdout",
          "output_type": "stream",
          "text": [
            "쇠소깍복순이네식당: searchIframe 로드 및 프레임 전환 완료\n",
            "쇠소깍복순이네식당: entryIframe이 이미 로드됨. 클릭 없이 바로 진행\n",
            "entryIframe 로드.\n",
            "Error while extracting menu/features for 쇠소깍복순이네식당, div 1:\n",
            "Error while extracting menu/features for 쇠소깍복순이네식당, div 2:\n"
          ]
        },
        {
          "name": "stderr",
          "output_type": "stream",
          "text": [
            "  2%|▏         | 16/999 [06:26<6:08:34, 22.50s/it]"
          ]
        },
        {
          "name": "stdout",
          "output_type": "stream",
          "text": [
            "쇠소깍불근돼지: searchIframe 로드 및 프레임 전환 완료\n",
            "쇠소깍불근돼지: entryIframe이 이미 로드됨. 클릭 없이 바로 진행\n",
            "entryIframe 로드.\n",
            "Error while extracting menu/features for 쇠소깍불근돼지, div 1:\n",
            "Error while extracting menu/features for 쇠소깍불근돼지, div 2:\n"
          ]
        },
        {
          "name": "stderr",
          "output_type": "stream",
          "text": [
            "  2%|▏         | 17/999 [06:48<6:02:48, 22.17s/it]"
          ]
        },
        {
          "name": "stdout",
          "output_type": "stream",
          "text": [
            "쇠소깍빵명장: searchIframe 로드 및 프레임 전환 완료\n",
            "쇠소깍빵명장: entryIframe이 이미 로드됨. 클릭 없이 바로 진행\n",
            "entryIframe 로드.\n",
            "Error while extracting menu/features for 쇠소깍빵명장, div 1:\n",
            "Error while extracting menu/features for 쇠소깍빵명장, div 2:\n"
          ]
        },
        {
          "name": "stderr",
          "output_type": "stream",
          "text": [
            "  2%|▏         | 18/999 [07:07<5:47:14, 21.24s/it]"
          ]
        },
        {
          "name": "stdout",
          "output_type": "stream",
          "text": [
            "쇠소깍오메기식당: searchIframe 로드 및 프레임 전환 완료\n",
            "쇠소깍오메기식당: entryIframe이 이미 로드됨. 클릭 없이 바로 진행\n",
            "entryIframe 로드.\n",
            "Error while extracting menu/features for 쇠소깍오메기식당, div 1:\n",
            "Error while extracting menu/features for 쇠소깍오메기식당, div 2:\n"
          ]
        },
        {
          "name": "stderr",
          "output_type": "stream",
          "text": [
            "  2%|▏         | 19/999 [07:28<5:46:48, 21.23s/it]"
          ]
        },
        {
          "name": "stdout",
          "output_type": "stream",
          "text": [
            "쇠소깍작은정원: searchIframe 로드 및 프레임 전환 완료\n",
            "쇠소깍작은정원: entryIframe이 이미 로드됨. 클릭 없이 바로 진행\n",
            "entryIframe 로드.\n",
            "Error while extracting menu/features for 쇠소깍작은정원, div 1:\n",
            "Error while extracting menu/features for 쇠소깍작은정원, div 2:\n"
          ]
        },
        {
          "name": "stderr",
          "output_type": "stream",
          "text": [
            "  2%|▏         | 20/999 [07:49<5:47:36, 21.30s/it]"
          ]
        },
        {
          "name": "stdout",
          "output_type": "stream",
          "text": [
            "쇠소깍횟집: searchIframe 로드 및 프레임 전환 완료\n",
            "쇠소깍횟집: 링크버튼을 찾을 수 없음. xpath 대신 다른 방법 시도\n"
          ]
        },
        {
          "name": "stderr",
          "output_type": "stream",
          "text": [
            "  2%|▏         | 21/999 [08:07<5:30:33, 20.28s/it]"
          ]
        },
        {
          "name": "stdout",
          "output_type": "stream",
          "text": [
            "Failed to load iframe after multiple attempts for 쇠소깍횟집.\n",
            "crawling fatil : 쇠소깍횟집 to fail_to_crawling\n",
            "쇼넨제주시청점: searchIframe 로드 및 프레임 전환 완료\n",
            "쇼넨제주시청점: entryIframe이 이미 로드됨. 클릭 없이 바로 진행\n",
            "entryIframe 로드.\n",
            "Error while extracting menu/features for 쇼넨제주시청점, div 1:\n",
            "Error while extracting menu/features for 쇼넨제주시청점, div 2:\n"
          ]
        },
        {
          "name": "stderr",
          "output_type": "stream",
          "text": [
            "  2%|▏         | 22/999 [08:29<5:36:24, 20.66s/it]"
          ]
        },
        {
          "name": "stdout",
          "output_type": "stream",
          "text": [
            "쇼디치카페: searchIframe 로드 및 프레임 전환 완료\n",
            "쇼디치카페: 첫 번째 가게 클릭 후 전환되지 않음. 다음 가게로 진행\n",
            "entryIframe 로드.\n",
            "Error while extracting menu/features for 쇼디치카페, div 1:\n",
            "Error while extracting menu/features for 쇼디치카페, div 2:\n"
          ]
        },
        {
          "name": "stderr",
          "output_type": "stream",
          "text": [
            "  2%|▏         | 23/999 [08:57<6:12:03, 22.87s/it]"
          ]
        },
        {
          "name": "stdout",
          "output_type": "stream",
          "text": [
            "쇼밥: searchIframe 로드 및 프레임 전환 완료\n",
            "쇼밥: 첫 번째 가게 클릭 후 전환되지 않음. 다음 가게로 진행\n",
            "entryIframe 로드.\n",
            "Error while extracting menu/features for 쇼밥, div 1:\n",
            "Error while extracting menu/features for 쇼밥, div 2:\n"
          ]
        },
        {
          "name": "stderr",
          "output_type": "stream",
          "text": [
            "  2%|▏         | 24/999 [09:25<6:37:10, 24.44s/it]"
          ]
        },
        {
          "name": "stdout",
          "output_type": "stream",
          "text": [
            "숏블랙: searchIframe 로드 및 프레임 전환 완료\n",
            "숏블랙: 첫 번째 가게 클릭 후 전환되지 않음. 다음 가게로 진행\n",
            "entryIframe 로드.\n",
            "Error while extracting menu/features for 숏블랙, div 1:\n",
            "Error while extracting menu/features for 숏블랙, div 2:\n"
          ]
        },
        {
          "name": "stderr",
          "output_type": "stream",
          "text": [
            "  3%|▎         | 25/999 [09:53<6:54:26, 25.53s/it]"
          ]
        },
        {
          "name": "stdout",
          "output_type": "stream",
          "text": [
            "수: searchIframe 로드 및 프레임 전환 완료\n",
            "수: 첫 번째 가게 클릭 후 전환되지 않음. 다음 가게로 진행\n",
            "entryIframe 로드.\n",
            "Error while extracting menu/features for 수, div 1:\n",
            "Error while extracting menu/features for 수, div 2:\n"
          ]
        },
        {
          "name": "stderr",
          "output_type": "stream",
          "text": [
            "  3%|▎         | 26/999 [10:21<7:06:53, 26.32s/it]"
          ]
        },
        {
          "name": "stdout",
          "output_type": "stream",
          "text": [
            "수 킹 (SOOKiNG): searchIframe 로드 및 프레임 전환 완료\n",
            "Error while clicking first search result for 수 킹 (SOOKiNG): Unable to locate list container.\n"
          ]
        },
        {
          "name": "stderr",
          "output_type": "stream",
          "text": [
            "  3%|▎         | 27/999 [10:42<6:37:04, 24.51s/it]"
          ]
        },
        {
          "name": "stdout",
          "output_type": "stream",
          "text": [
            "Failed to load iframe after multiple attempts for 수 킹 (SOOKiNG).\n",
            "crawling fatil : 수 킹 (SOOKiNG) to fail_to_crawling\n",
            "수가성모메기떡: searchIframe 로드 및 프레임 전환 완료\n",
            "Error while clicking first search result for 수가성모메기떡: Unable to locate list container.\n"
          ]
        },
        {
          "name": "stderr",
          "output_type": "stream",
          "text": [
            "  3%|▎         | 28/999 [11:02<6:17:41, 23.34s/it]"
          ]
        },
        {
          "name": "stdout",
          "output_type": "stream",
          "text": [
            "Failed to load iframe after multiple attempts for 수가성모메기떡.\n",
            "crawling fatil : 수가성모메기떡 to fail_to_crawling\n",
            "수구레해장국: searchIframe 로드 및 프레임 전환 완료\n",
            "수구레해장국: 링크버튼을 찾을 수 없음. xpath 대신 다른 방법 시도\n"
          ]
        },
        {
          "name": "stderr",
          "output_type": "stream",
          "text": [
            "  3%|▎         | 29/999 [11:20<5:51:53, 21.77s/it]"
          ]
        },
        {
          "name": "stdout",
          "output_type": "stream",
          "text": [
            "Failed to load iframe after multiple attempts for 수구레해장국.\n",
            "crawling fatil : 수구레해장국 to fail_to_crawling\n",
            "수궁식당: searchIframe 로드 및 프레임 전환 완료\n",
            "수궁식당: 첫 번째 가게 클릭 후 전환되지 않음. 다음 가게로 진행\n",
            "entryIframe 로드.\n",
            "Error while extracting datalab information for 수궁식당:\n",
            "Error while extracting menu/features for 수궁식당, div 1:\n",
            "Error while navigating to reviews for 수궁식당:\n"
          ]
        },
        {
          "name": "stderr",
          "output_type": "stream",
          "text": [
            "  3%|▎         | 30/999 [11:46<6:10:41, 22.95s/it]"
          ]
        },
        {
          "name": "stdout",
          "output_type": "stream",
          "text": [
            "수까락: searchIframe 로드 및 프레임 전환 완료\n",
            "수까락: 링크버튼을 찾을 수 없음. xpath 대신 다른 방법 시도\n"
          ]
        },
        {
          "name": "stderr",
          "output_type": "stream",
          "text": [
            "  3%|▎         | 31/999 [12:04<5:46:34, 21.48s/it]"
          ]
        },
        {
          "name": "stdout",
          "output_type": "stream",
          "text": [
            "Failed to load iframe after multiple attempts for 수까락.\n",
            "crawling fatil : 수까락 to fail_to_crawling\n",
            "수눌음: searchIframe 로드 및 프레임 전환 완료\n",
            "수눌음: 첫 번째 가게 클릭 후 전환되지 않음. 다음 가게로 진행\n",
            "entryIframe 로드.\n",
            "Error while extracting menu/features for 수눌음, div 1:\n",
            "Error while extracting menu/features for 수눌음, div 2:\n"
          ]
        },
        {
          "name": "stderr",
          "output_type": "stream",
          "text": [
            "  3%|▎         | 32/999 [12:32<6:17:55, 23.45s/it]"
          ]
        },
        {
          "name": "stdout",
          "output_type": "stream",
          "text": [
            "수니네국수: searchIframe 로드 및 프레임 전환 완료\n",
            "수니네국수: 첫 번째 가게 클릭 후 전환되지 않음. 다음 가게로 진행\n",
            "entryIframe 로드.\n",
            "Error while extracting menu/features for 수니네국수, div 1:\n",
            "Error while extracting menu/features for 수니네국수, div 2:\n"
          ]
        },
        {
          "name": "stderr",
          "output_type": "stream",
          "text": [
            "  3%|▎         | 33/999 [13:00<6:40:23, 24.87s/it]"
          ]
        },
        {
          "name": "stdout",
          "output_type": "stream",
          "text": [
            "수다: searchIframe 로드 및 프레임 전환 완료\n",
            "수다: 첫 번째 가게 클릭 후 전환되지 않음. 다음 가게로 진행\n",
            "entryIframe 로드.\n",
            "Error while extracting menu/features for 수다, div 1:\n"
          ]
        },
        {
          "name": "stderr",
          "output_type": "stream",
          "text": [
            "  3%|▎         | 34/999 [13:26<6:46:33, 25.28s/it]"
          ]
        },
        {
          "name": "stdout",
          "output_type": "stream",
          "text": [
            "Error while extracting menu/features for 수다, div 2:\n",
            " 사진 버튼 없음 : 수다.\n",
            "수다뜰: searchIframe 로드 및 프레임 전환 완료\n",
            "수다뜰: 링크버튼을 찾을 수 없음. xpath 대신 다른 방법 시도\n"
          ]
        },
        {
          "name": "stderr",
          "output_type": "stream",
          "text": [
            "  4%|▎         | 35/999 [13:44<6:11:05, 23.10s/it]"
          ]
        },
        {
          "name": "stdout",
          "output_type": "stream",
          "text": [
            "Failed to load iframe after multiple attempts for 수다뜰.\n",
            "crawling fatil : 수다뜰 to fail_to_crawling\n",
            "수다뜰떡방: searchIframe 로드 및 프레임 전환 완료\n",
            "수다뜰떡방: entryIframe이 이미 로드됨. 클릭 없이 바로 진행\n",
            "entryIframe 로드.\n",
            "Error while extracting datalab information for 수다뜰떡방:\n",
            "Error while navigating to reviews for 수다뜰떡방:\n"
          ]
        },
        {
          "name": "stderr",
          "output_type": "stream",
          "text": [
            "  4%|▎         | 36/999 [14:03<5:50:06, 21.81s/it]"
          ]
        },
        {
          "name": "stdout",
          "output_type": "stream",
          "text": [
            "이미지 추출 오류 2 for 수다뜰떡방 \n",
            "이미지 추출 오류 3 for 수다뜰떡방 \n",
            "이미지 추출 오류 4 for 수다뜰떡방 \n",
            "이미지 추출 오류 5 for 수다뜰떡방 \n",
            "이미지 추출 오류 6 for 수다뜰떡방 \n",
            "이미지 추출 오류 7 for 수다뜰떡방 \n",
            "이미지 추출 오류 8 for 수다뜰떡방 \n",
            "이미지 추출 오류 9 for 수다뜰떡방 \n",
            "이미지 추출 오류 10 for 수다뜰떡방 \n",
            "수다브런치카페: searchIframe 로드 및 프레임 전환 완료\n",
            "수다브런치카페: entryIframe이 이미 로드됨. 클릭 없이 바로 진행\n",
            "entryIframe 로드.\n",
            "Error while extracting menu/features for 수다브런치카페, div 1:\n",
            "Error while extracting menu/features for 수다브런치카페, div 2:\n"
          ]
        },
        {
          "name": "stderr",
          "output_type": "stream",
          "text": [
            "  4%|▎         | 37/999 [14:24<5:46:40, 21.62s/it]"
          ]
        },
        {
          "name": "stdout",
          "output_type": "stream",
          "text": [
            "수돈가스: searchIframe 로드 및 프레임 전환 완료\n",
            "수돈가스: 첫 번째 가게 클릭 후 전환되지 않음. 다음 가게로 진행\n",
            "entryIframe 로드.\n",
            "Error while extracting menu/features for 수돈가스, div 1:\n"
          ]
        },
        {
          "name": "stderr",
          "output_type": "stream",
          "text": [
            "  4%|▍         | 38/999 [14:49<5:58:50, 22.40s/it]"
          ]
        },
        {
          "name": "stdout",
          "output_type": "stream",
          "text": [
            "Error while extracting menu/features for 수돈가스, div 2:\n",
            " 사진 버튼 없음 : 수돈가스.\n",
            "수라상: searchIframe 로드 및 프레임 전환 완료\n",
            "수라상: 링크버튼을 찾을 수 없음. xpath 대신 다른 방법 시도\n"
          ]
        },
        {
          "name": "stderr",
          "output_type": "stream",
          "text": [
            "  4%|▍         | 39/999 [15:07<5:39:05, 21.19s/it]"
          ]
        },
        {
          "name": "stdout",
          "output_type": "stream",
          "text": [
            "Failed to load iframe after multiple attempts for 수라상.\n",
            "crawling fatil : 수라상 to fail_to_crawling\n",
            "수리술술: searchIframe 로드 및 프레임 전환 완료\n",
            "수리술술: 첫 번째 가게 클릭 후 전환되지 않음. 다음 가게로 진행\n",
            "entryIframe 로드.\n",
            "Error while extracting menu/features for 수리술술, div 1:\n",
            "Error while extracting menu/features for 수리술술, div 2:\n"
          ]
        },
        {
          "name": "stderr",
          "output_type": "stream",
          "text": [
            "  4%|▍         | 40/999 [15:35<6:12:28, 23.30s/it]"
          ]
        },
        {
          "name": "stdout",
          "output_type": "stream",
          "text": [
            "수리조아: searchIframe 로드 및 프레임 전환 완료\n",
            "수리조아: 첫 번째 가게 클릭 후 전환되지 않음. 다음 가게로 진행\n",
            "entryIframe 로드.\n",
            "Error while extracting datalab information for 수리조아:\n",
            "Error while navigating to reviews for 수리조아:\n"
          ]
        },
        {
          "name": "stderr",
          "output_type": "stream",
          "text": [
            "  4%|▍         | 41/999 [16:01<6:22:53, 23.98s/it]"
          ]
        },
        {
          "name": "stdout",
          "output_type": "stream",
          "text": [
            "이미지 추출 오류 2 for 수리조아 \n",
            "이미지 추출 오류 3 for 수리조아 \n",
            "이미지 추출 오류 4 for 수리조아 \n",
            "이미지 추출 오류 5 for 수리조아 \n",
            "이미지 추출 오류 6 for 수리조아 \n",
            "이미지 추출 오류 7 for 수리조아 \n",
            "이미지 추출 오류 8 for 수리조아 \n",
            "이미지 추출 오류 9 for 수리조아 \n",
            "이미지 추출 오류 10 for 수리조아 \n",
            "수리코: searchIframe 로드 및 프레임 전환 완료\n",
            "수리코: 링크버튼을 찾을 수 없음. xpath 대신 다른 방법 시도\n"
          ]
        },
        {
          "name": "stderr",
          "output_type": "stream",
          "text": [
            "  4%|▍         | 42/999 [16:19<5:53:40, 22.17s/it]"
          ]
        },
        {
          "name": "stdout",
          "output_type": "stream",
          "text": [
            "Failed to load iframe after multiple attempts for 수리코.\n",
            "crawling fatil : 수리코 to fail_to_crawling\n",
            "수만바베큐치킨: searchIframe 로드 및 프레임 전환 완료\n",
            "수만바베큐치킨: entryIframe이 이미 로드됨. 클릭 없이 바로 진행\n",
            "entryIframe 로드.\n",
            "Error while extracting menu/features for 수만바베큐치킨, div 1:\n",
            "Error while extracting menu/features for 수만바베큐치킨, div 2:\n"
          ]
        },
        {
          "name": "stderr",
          "output_type": "stream",
          "text": [
            "  4%|▍         | 43/999 [16:40<5:50:53, 22.02s/it]"
          ]
        },
        {
          "name": "stdout",
          "output_type": "stream",
          "text": [
            "수망일기: searchIframe 로드 및 프레임 전환 완료\n",
            "수망일기: entryIframe이 이미 로드됨. 클릭 없이 바로 진행\n",
            "entryIframe 로드.\n",
            "Error while extracting datalab information for 수망일기:\n",
            "Error while navigating to reviews for 수망일기:\n"
          ]
        },
        {
          "name": "stderr",
          "output_type": "stream",
          "text": [
            "  4%|▍         | 44/999 [17:02<5:46:49, 21.79s/it]"
          ]
        },
        {
          "name": "stdout",
          "output_type": "stream",
          "text": [
            "수모루국수: searchIframe 로드 및 프레임 전환 완료\n",
            "수모루국수: 첫 번째 가게 클릭 후 전환되지 않음. 다음 가게로 진행\n",
            "entryIframe 로드.\n",
            "Error while extracting menu/features for 수모루국수, div 1:\n"
          ]
        },
        {
          "name": "stderr",
          "output_type": "stream",
          "text": [
            "  5%|▍         | 45/999 [17:28<6:08:16, 23.16s/it]"
          ]
        },
        {
          "name": "stdout",
          "output_type": "stream",
          "text": [
            "Error while extracting menu/features for 수모루국수, div 2:\n",
            " 사진 버튼 없음 : 수모루국수.\n",
            "수목원삼계탕: searchIframe 로드 및 프레임 전환 완료\n",
            "수목원삼계탕: entryIframe이 이미 로드됨. 클릭 없이 바로 진행\n",
            "entryIframe 로드.\n",
            "Error while extracting menu/features for 수목원삼계탕, div 1:\n",
            "Error while extracting menu/features for 수목원삼계탕, div 2:\n"
          ]
        },
        {
          "name": "stderr",
          "output_type": "stream",
          "text": [
            "  5%|▍         | 46/999 [17:47<5:49:07, 21.98s/it]"
          ]
        },
        {
          "name": "stdout",
          "output_type": "stream",
          "text": [
            "수목원집밥: searchIframe 로드 및 프레임 전환 완료\n",
            "수목원집밥: 첫 번째 가게 클릭 후 전환되지 않음. 다음 가게로 진행\n",
            "entryIframe 로드.\n",
            "Error while extracting menu/features for 수목원집밥, div 1:\n",
            "Error while extracting menu/features for 수목원집밥, div 2:\n"
          ]
        },
        {
          "name": "stderr",
          "output_type": "stream",
          "text": [
            "  5%|▍         | 47/999 [18:16<6:19:04, 23.89s/it]"
          ]
        },
        {
          "name": "stdout",
          "output_type": "stream",
          "text": [
            "수문미트: searchIframe 로드 및 프레임 전환 완료\n",
            "수문미트: entryIframe이 이미 로드됨. 클릭 없이 바로 진행\n",
            "entryIframe 로드.\n",
            "Error while extracting menu/features for 수문미트, div 1:\n",
            "Error while extracting menu/features for 수문미트, div 2:\n"
          ]
        },
        {
          "name": "stderr",
          "output_type": "stream",
          "text": [
            "  5%|▍         | 48/999 [18:37<6:07:49, 23.21s/it]"
          ]
        },
        {
          "name": "stdout",
          "output_type": "stream",
          "text": [
            "수미돼지집: searchIframe 로드 및 프레임 전환 완료\n",
            "수미돼지집: entryIframe이 이미 로드됨. 클릭 없이 바로 진행\n",
            "entryIframe 로드.\n",
            "Error while extracting menu/features for 수미돼지집, div 1:\n",
            "Error while extracting menu/features for 수미돼지집, div 2:\n"
          ]
        },
        {
          "name": "stderr",
          "output_type": "stream",
          "text": [
            "  5%|▍         | 49/999 [19:00<6:07:09, 23.19s/it]"
          ]
        },
        {
          "name": "stdout",
          "output_type": "stream",
          "text": [
            "수미일관: searchIframe 로드 및 프레임 전환 완료\n",
            "수미일관: entryIframe이 이미 로드됨. 클릭 없이 바로 진행\n",
            "entryIframe 로드.\n",
            "Error while extracting menu/features for 수미일관, div 1:\n",
            "Error while extracting menu/features for 수미일관, div 2:\n"
          ]
        },
        {
          "name": "stderr",
          "output_type": "stream",
          "text": [
            "  5%|▌         | 50/999 [19:20<5:47:56, 22.00s/it]"
          ]
        },
        {
          "name": "stdout",
          "output_type": "stream",
          "text": [
            "수미향토음식: searchIframe 로드 및 프레임 전환 완료\n",
            "수미향토음식: entryIframe이 이미 로드됨. 클릭 없이 바로 진행\n",
            "entryIframe 로드.\n",
            "Error while extracting menu/features for 수미향토음식, div 1:\n",
            "Error while extracting menu/features for 수미향토음식, div 2:\n"
          ]
        },
        {
          "name": "stderr",
          "output_type": "stream",
          "text": [
            "  5%|▌         | 51/999 [19:41<5:42:32, 21.68s/it]"
          ]
        },
        {
          "name": "stdout",
          "output_type": "stream",
          "text": [
            "수백당제주이도점: searchIframe 로드 및 프레임 전환 완료\n",
            "수백당제주이도점: entryIframe이 이미 로드됨. 클릭 없이 바로 진행\n",
            "entryIframe 로드.\n",
            "Error while extracting menu/features for 수백당제주이도점, div 1:\n",
            "Error while extracting menu/features for 수백당제주이도점, div 2:\n"
          ]
        },
        {
          "name": "stderr",
          "output_type": "stream",
          "text": [
            "  5%|▌         | 52/999 [20:02<5:40:18, 21.56s/it]"
          ]
        },
        {
          "name": "stdout",
          "output_type": "stream",
          "text": [
            "수복강녕: searchIframe 로드 및 프레임 전환 완료\n",
            "수복강녕: entryIframe이 이미 로드됨. 클릭 없이 바로 진행\n",
            "entryIframe 로드.\n",
            "Error while extracting menu/features for 수복강녕, div 1:\n",
            "Error while extracting menu/features for 수복강녕, div 2:\n"
          ]
        },
        {
          "name": "stderr",
          "output_type": "stream",
          "text": [
            "  5%|▌         | 53/999 [20:23<5:40:00, 21.56s/it]"
          ]
        },
        {
          "name": "stdout",
          "output_type": "stream",
          "text": [
            "수복해장국: searchIframe 로드 및 프레임 전환 완료\n",
            "수복해장국: 첫 번째 가게 클릭 후 전환되지 않음. 다음 가게로 진행\n",
            "entryIframe 로드.\n",
            "Error while extracting menu/features for 수복해장국, div 1:\n",
            "Error while extracting menu/features for 수복해장국, div 2:\n"
          ]
        },
        {
          "name": "stderr",
          "output_type": "stream",
          "text": [
            "  5%|▌         | 54/999 [20:51<6:09:50, 23.48s/it]"
          ]
        },
        {
          "name": "stdout",
          "output_type": "stream",
          "text": [
            "수빈이네: searchIframe 로드 및 프레임 전환 완료\n",
            "수빈이네: 링크버튼을 찾을 수 없음. xpath 대신 다른 방법 시도\n"
          ]
        },
        {
          "name": "stderr",
          "output_type": "stream",
          "text": [
            "  6%|▌         | 55/999 [21:09<5:42:58, 21.80s/it]"
          ]
        },
        {
          "name": "stdout",
          "output_type": "stream",
          "text": [
            "Failed to load iframe after multiple attempts for 수빈이네.\n",
            "crawling fatil : 수빈이네 to fail_to_crawling\n",
            "수빈이네제주밥상: searchIframe 로드 및 프레임 전환 완료\n",
            "수빈이네제주밥상: entryIframe이 이미 로드됨. 클릭 없이 바로 진행\n",
            "entryIframe 로드.\n",
            "Error while extracting menu/features for 수빈이네제주밥상, div 1:\n",
            "Error while extracting menu/features for 수빈이네제주밥상, div 2:\n"
          ]
        },
        {
          "name": "stderr",
          "output_type": "stream",
          "text": [
            "  6%|▌         | 56/999 [21:28<5:29:55, 20.99s/it]"
          ]
        },
        {
          "name": "stdout",
          "output_type": "stream",
          "text": [
            "수산동백가든: searchIframe 로드 및 프레임 전환 완료\n",
            "수산동백가든: entryIframe이 이미 로드됨. 클릭 없이 바로 진행\n",
            "entryIframe 로드.\n",
            "Error while extracting menu/features for 수산동백가든, div 1:\n",
            "Error while extracting menu/features for 수산동백가든, div 2:\n"
          ]
        },
        {
          "name": "stderr",
          "output_type": "stream",
          "text": [
            "  6%|▌         | 57/999 [21:50<5:30:28, 21.05s/it]"
          ]
        },
        {
          "name": "stdout",
          "output_type": "stream",
          "text": [
            "수산식당: searchIframe 로드 및 프레임 전환 완료\n",
            "수산식당: 첫 번째 가게 클릭 후 전환되지 않음. 다음 가게로 진행\n",
            "entryIframe 로드.\n",
            "Error while extracting menu/features for 수산식당, div 1:\n",
            "Error while extracting menu/features for 수산식당, div 2:\n"
          ]
        },
        {
          "name": "stderr",
          "output_type": "stream",
          "text": [
            "  6%|▌         | 58/999 [22:18<6:05:24, 23.30s/it]"
          ]
        },
        {
          "name": "stdout",
          "output_type": "stream",
          "text": [
            " 사진 버튼 없음 : 수산식당.\n",
            "수산코지: searchIframe 로드 및 프레임 전환 완료\n",
            "수산코지: 첫 번째 가게 클릭 후 전환되지 않음. 다음 가게로 진행\n",
            "entryIframe 로드.\n",
            "Error while extracting menu/features for 수산코지, div 1:\n",
            "Error while extracting menu/features for 수산코지, div 2:\n"
          ]
        },
        {
          "name": "stderr",
          "output_type": "stream",
          "text": [
            "  6%|▌         | 59/999 [22:46<6:27:33, 24.74s/it]"
          ]
        },
        {
          "name": "stdout",
          "output_type": "stream",
          "text": [
            "수상한사칠이: searchIframe 로드 및 프레임 전환 완료\n",
            "Error while clicking first search result for 수상한사칠이: Unable to locate list container.\n"
          ]
        },
        {
          "name": "stderr",
          "output_type": "stream",
          "text": [
            "  6%|▌         | 60/999 [23:07<6:09:56, 23.64s/it]"
          ]
        },
        {
          "name": "stdout",
          "output_type": "stream",
          "text": [
            "Failed to load iframe after multiple attempts for 수상한사칠이.\n",
            "crawling fatil : 수상한사칠이 to fail_to_crawling\n",
            "수선화식당: searchIframe 로드 및 프레임 전환 완료\n",
            "수선화식당: 첫 번째 가게 클릭 후 전환되지 않음. 다음 가게로 진행\n",
            "entryIframe 로드.\n",
            "Error while extracting menu/features for 수선화식당, div 1:\n"
          ]
        },
        {
          "name": "stderr",
          "output_type": "stream",
          "text": [
            "  6%|▌         | 61/999 [23:32<6:12:51, 23.85s/it]"
          ]
        },
        {
          "name": "stdout",
          "output_type": "stream",
          "text": [
            "Error while extracting menu/features for 수선화식당, div 2:\n",
            " 사진 버튼 없음 : 수선화식당.\n",
            "수수로: searchIframe 로드 및 프레임 전환 완료\n",
            "수수로: 첫 번째 가게 클릭 후 전환되지 않음. 다음 가게로 진행\n",
            "entryIframe 로드.\n",
            "Error while extracting datalab information for 수수로:\n",
            "Error while navigating to reviews for 수수로:\n"
          ]
        },
        {
          "name": "stderr",
          "output_type": "stream",
          "text": [
            "  6%|▌         | 62/999 [23:57<6:19:26, 24.30s/it]"
          ]
        },
        {
          "name": "stdout",
          "output_type": "stream",
          "text": [
            "수애기베이커리: searchIframe 로드 및 프레임 전환 완료\n",
            "수애기베이커리: entryIframe이 이미 로드됨. 클릭 없이 바로 진행\n",
            "entryIframe 로드.\n",
            "Error while extracting menu/features for 수애기베이커리, div 1:\n",
            "Error while extracting menu/features for 수애기베이커리, div 2:\n"
          ]
        },
        {
          "name": "stderr",
          "output_type": "stream",
          "text": [
            "  6%|▋         | 63/999 [24:19<6:06:11, 23.47s/it]"
          ]
        },
        {
          "name": "stdout",
          "output_type": "stream",
          "text": [
            "수애기베이커리카페: searchIframe 로드 및 프레임 전환 완료\n",
            "수애기베이커리카페: entryIframe이 이미 로드됨. 클릭 없이 바로 진행\n",
            "entryIframe 로드.\n",
            "Error while extracting menu/features for 수애기베이커리카페, div 1:\n",
            "Error while extracting menu/features for 수애기베이커리카페, div 2:\n"
          ]
        },
        {
          "name": "stderr",
          "output_type": "stream",
          "text": [
            "  6%|▋         | 64/999 [24:42<6:07:09, 23.56s/it]"
          ]
        },
        {
          "name": "stdout",
          "output_type": "stream",
          "text": [
            "수연: searchIframe 로드 및 프레임 전환 완료\n",
            "수연: 첫 번째 가게 클릭 후 전환되지 않음. 다음 가게로 진행\n",
            "entryIframe 로드.\n",
            "Error while extracting menu/features for 수연, div 1:\n",
            "Error while extracting menu/features for 수연, div 2:\n"
          ]
        },
        {
          "name": "stderr",
          "output_type": "stream",
          "text": [
            "  7%|▋         | 65/999 [25:10<6:27:18, 24.88s/it]"
          ]
        },
        {
          "name": "stdout",
          "output_type": "stream",
          "text": [
            "수영: searchIframe 로드 및 프레임 전환 완료\n",
            "수영: 링크버튼을 찾을 수 없음. xpath 대신 다른 방법 시도\n"
          ]
        },
        {
          "name": "stderr",
          "output_type": "stream",
          "text": [
            "  7%|▋         | 66/999 [25:28<5:54:49, 22.82s/it]"
          ]
        },
        {
          "name": "stdout",
          "output_type": "stream",
          "text": [
            "Failed to load iframe after multiple attempts for 수영.\n",
            "crawling fatil : 수영 to fail_to_crawling\n",
            "수영밥상본점: searchIframe 로드 및 프레임 전환 완료\n",
            "수영밥상본점: 첫 번째 가게 클릭 후 전환되지 않음. 다음 가게로 진행\n",
            "entryIframe 로드.\n",
            "Error while extracting menu/features for 수영밥상본점, div 1:\n",
            "Error while extracting menu/features for 수영밥상본점, div 2:\n"
          ]
        },
        {
          "name": "stderr",
          "output_type": "stream",
          "text": [
            "  7%|▋         | 67/999 [25:57<6:20:52, 24.52s/it]"
          ]
        },
        {
          "name": "stdout",
          "output_type": "stream",
          "text": [
            "수우동: searchIframe 로드 및 프레임 전환 완료\n",
            "수우동: 링크버튼을 찾을 수 없음. xpath 대신 다른 방법 시도\n"
          ]
        },
        {
          "name": "stderr",
          "output_type": "stream",
          "text": [
            "  7%|▋         | 68/999 [26:14<5:48:13, 22.44s/it]"
          ]
        },
        {
          "name": "stdout",
          "output_type": "stream",
          "text": [
            "Failed to load iframe after multiple attempts for 수우동.\n",
            "crawling fatil : 수우동 to fail_to_crawling\n",
            "수원왕: searchIframe 로드 및 프레임 전환 완료\n",
            "수원왕: 첫 번째 가게 클릭 후 전환되지 않음. 다음 가게로 진행\n",
            "entryIframe 로드.\n",
            "Error while extracting menu/features for 수원왕, div 1:\n",
            "Error while extracting menu/features for 수원왕, div 2:\n"
          ]
        },
        {
          "name": "stderr",
          "output_type": "stream",
          "text": [
            "  7%|▋         | 69/999 [26:43<6:15:51, 24.25s/it]"
          ]
        },
        {
          "name": "stdout",
          "output_type": "stream",
          "text": [
            "수월봉 가마솥순대국: searchIframe 로드 및 프레임 전환 완료\n",
            "수월봉 가마솥순대국: entryIframe이 이미 로드됨. 클릭 없이 바로 진행\n",
            "entryIframe 로드.\n",
            "Error while extracting menu/features for 수월봉 가마솥순대국, div 1:\n",
            "Error while extracting menu/features for 수월봉 가마솥순대국, div 2:\n"
          ]
        },
        {
          "name": "stderr",
          "output_type": "stream",
          "text": [
            "  7%|▋         | 70/999 [27:04<6:03:19, 23.47s/it]"
          ]
        },
        {
          "name": "stdout",
          "output_type": "stream",
          "text": [
            "수월봉가마솥순대국: searchIframe 로드 및 프레임 전환 완료\n",
            "수월봉가마솥순대국: entryIframe이 이미 로드됨. 클릭 없이 바로 진행\n",
            "entryIframe 로드.\n",
            "Error while extracting menu/features for 수월봉가마솥순대국, div 1:\n",
            "Error while extracting menu/features for 수월봉가마솥순대국, div 2:\n"
          ]
        },
        {
          "name": "stderr",
          "output_type": "stream",
          "text": [
            "  7%|▋         | 71/999 [27:24<5:45:46, 22.36s/it]"
          ]
        },
        {
          "name": "stdout",
          "output_type": "stream",
          "text": [
            "수월봉별난횟집: searchIframe 로드 및 프레임 전환 완료\n",
            "수월봉별난횟집: entryIframe이 이미 로드됨. 클릭 없이 바로 진행\n",
            "entryIframe 로드.\n",
            "Error while extracting menu/features for 수월봉별난횟집, div 1:\n",
            "Error while extracting menu/features for 수월봉별난횟집, div 2:\n"
          ]
        },
        {
          "name": "stderr",
          "output_type": "stream",
          "text": [
            "  7%|▋         | 72/999 [27:45<5:40:11, 22.02s/it]"
          ]
        },
        {
          "name": "stdout",
          "output_type": "stream",
          "text": [
            "수육본가: searchIframe 로드 및 프레임 전환 완료\n",
            "수육본가: 첫 번째 가게 클릭 후 전환되지 않음. 다음 가게로 진행\n",
            "entryIframe 로드.\n",
            "Error while extracting menu/features for 수육본가, div 1:\n",
            "Error while extracting menu/features for 수육본가, div 2:\n"
          ]
        },
        {
          "name": "stderr",
          "output_type": "stream",
          "text": [
            "  7%|▋         | 73/999 [28:14<6:10:00, 23.98s/it]"
          ]
        },
        {
          "name": "stdout",
          "output_type": "stream",
          "text": [
            "수일통닭남녕점: searchIframe 로드 및 프레임 전환 완료\n",
            "수일통닭남녕점: entryIframe이 이미 로드됨. 클릭 없이 바로 진행\n",
            "entryIframe 로드.\n",
            "Error while extracting menu/features for 수일통닭남녕점, div 1:\n",
            "Error while extracting menu/features for 수일통닭남녕점, div 2:\n"
          ]
        },
        {
          "name": "stderr",
          "output_type": "stream",
          "text": [
            "  7%|▋         | 74/999 [28:35<5:57:53, 23.21s/it]"
          ]
        },
        {
          "name": "stdout",
          "output_type": "stream",
          "text": [
            "수일통닭한림점: searchIframe 로드 및 프레임 전환 완료\n",
            "수일통닭한림점: entryIframe이 이미 로드됨. 클릭 없이 바로 진행\n",
            "entryIframe 로드.\n",
            "Error while extracting menu/features for 수일통닭한림점, div 1:\n",
            "Error while extracting menu/features for 수일통닭한림점, div 2:\n"
          ]
        },
        {
          "name": "stderr",
          "output_type": "stream",
          "text": [
            "  8%|▊         | 75/999 [28:55<5:41:22, 22.17s/it]"
          ]
        },
        {
          "name": "stdout",
          "output_type": "stream",
          "text": [
            "수작: searchIframe 로드 및 프레임 전환 완료\n",
            "수작: 첫 번째 가게 클릭 후 전환되지 않음. 다음 가게로 진행\n",
            "entryIframe 로드.\n",
            "Error while extracting menu/features for 수작, div 1:\n",
            "Error while extracting menu/features for 수작, div 2:\n"
          ]
        },
        {
          "name": "stderr",
          "output_type": "stream",
          "text": [
            "  8%|▊         | 76/999 [29:24<6:11:56, 24.18s/it]"
          ]
        },
        {
          "name": "stdout",
          "output_type": "stream",
          "text": [
            "수정방: searchIframe 로드 및 프레임 전환 완료\n",
            "수정방: 첫 번째 가게 클릭 후 전환되지 않음. 다음 가게로 진행\n",
            "entryIframe 로드.\n",
            "Error while extracting datalab information for 수정방:\n",
            "Error while navigating to reviews for 수정방:\n"
          ]
        },
        {
          "name": "stderr",
          "output_type": "stream",
          "text": [
            "  8%|▊         | 77/999 [29:45<5:57:55, 23.29s/it]"
          ]
        },
        {
          "name": "stdout",
          "output_type": "stream",
          "text": [
            "이미지 추출 오류 4 for 수정방 \n",
            "이미지 추출 오류 5 for 수정방 \n",
            "이미지 추출 오류 6 for 수정방 \n",
            "이미지 추출 오류 7 for 수정방 \n",
            "이미지 추출 오류 8 for 수정방 \n",
            "이미지 추출 오류 9 for 수정방 \n",
            "이미지 추출 오류 10 for 수정방 \n",
            "수정식당: searchIframe 로드 및 프레임 전환 완료\n",
            "수정식당: 첫 번째 가게 클릭 후 전환되지 않음. 다음 가게로 진행\n",
            "entryIframe 로드.\n",
            "Error while extracting menu/features for 수정식당, div 1:\n",
            "Error while extracting menu/features for 수정식당, div 2:\n"
          ]
        },
        {
          "name": "stderr",
          "output_type": "stream",
          "text": [
            "  8%|▊         | 78/999 [30:14<6:21:35, 24.86s/it]"
          ]
        },
        {
          "name": "stdout",
          "output_type": "stream",
          "text": [
            "수정횟집: searchIframe 로드 및 프레임 전환 완료\n",
            "수정횟집: 링크버튼을 찾을 수 없음. xpath 대신 다른 방법 시도\n"
          ]
        },
        {
          "name": "stderr",
          "output_type": "stream",
          "text": [
            "  8%|▊         | 79/999 [30:31<5:47:39, 22.67s/it]"
          ]
        },
        {
          "name": "stdout",
          "output_type": "stream",
          "text": [
            "Failed to load iframe after multiple attempts for 수정횟집.\n",
            "crawling fatil : 수정횟집 to fail_to_crawling\n",
            "수제김밥앤만두: searchIframe 로드 및 프레임 전환 완료\n",
            "수제김밥앤만두: entryIframe이 이미 로드됨. 클릭 없이 바로 진행\n",
            "entryIframe 로드.\n",
            "Error while extracting menu/features for 수제김밥앤만두, div 1:\n",
            "Error while extracting menu/features for 수제김밥앤만두, div 2:\n"
          ]
        },
        {
          "name": "stderr",
          "output_type": "stream",
          "text": [
            "  8%|▊         | 80/999 [30:51<5:33:42, 21.79s/it]"
          ]
        },
        {
          "name": "stdout",
          "output_type": "stream",
          "text": [
            "수제햄고래부대찌개제주함덕점: searchIframe 로드 및 프레임 전환 완료\n",
            "Error while clicking first search result for 수제햄고래부대찌개제주함덕점: Unable to locate list container.\n"
          ]
        },
        {
          "name": "stderr",
          "output_type": "stream",
          "text": [
            "  8%|▊         | 81/999 [31:11<5:26:38, 21.35s/it]"
          ]
        },
        {
          "name": "stdout",
          "output_type": "stream",
          "text": [
            "Failed to load iframe after multiple attempts for 수제햄고래부대찌개제주함덕점.\n",
            "crawling fatil : 수제햄고래부대찌개제주함덕점 to fail_to_crawling\n",
            "수제홍과일모찌: searchIframe 로드 및 프레임 전환 완료\n",
            "수제홍과일모찌: 첫 번째 가게 클릭 후 전환되지 않음. 다음 가게로 진행\n",
            "entryIframe 로드.\n",
            "Error while extracting menu/features for 수제홍과일모찌, div 1:\n",
            "Error while extracting menu/features for 수제홍과일모찌, div 2:\n"
          ]
        },
        {
          "name": "stderr",
          "output_type": "stream",
          "text": [
            "  8%|▊         | 82/999 [31:40<5:59:33, 23.53s/it]"
          ]
        },
        {
          "name": "stdout",
          "output_type": "stream",
          "text": [
            "수제홍과일모찌2호점: searchIframe 로드 및 프레임 전환 완료\n",
            "Error while clicking first search result for 수제홍과일모찌2호점: Unable to locate list container.\n"
          ]
        },
        {
          "name": "stderr",
          "output_type": "stream",
          "text": [
            "  8%|▊         | 83/999 [32:01<5:47:18, 22.75s/it]"
          ]
        },
        {
          "name": "stdout",
          "output_type": "stream",
          "text": [
            "Failed to load iframe after multiple attempts for 수제홍과일모찌2호점.\n",
            "crawling fatil : 수제홍과일모찌2호점 to fail_to_crawling\n",
            "수진돈까스: searchIframe 로드 및 프레임 전환 완료\n",
            "수진돈까스: 첫 번째 가게 클릭 후 전환되지 않음. 다음 가게로 진행\n",
            "entryIframe 로드.\n",
            "Error while extracting menu/features for 수진돈까스, div 1:\n",
            "Error while extracting menu/features for 수진돈까스, div 2:\n"
          ]
        },
        {
          "name": "stderr",
          "output_type": "stream",
          "text": [
            "  8%|▊         | 84/999 [32:29<6:13:17, 24.48s/it]"
          ]
        },
        {
          "name": "stdout",
          "output_type": "stream",
          "text": [
            "수진이네: searchIframe 로드 및 프레임 전환 완료\n",
            "수진이네: 첫 번째 가게 클릭 후 전환되지 않음. 다음 가게로 진행\n",
            "entryIframe 로드.\n",
            "Error while extracting menu/features for 수진이네, div 1:\n",
            "Error while extracting menu/features for 수진이네, div 2:\n"
          ]
        },
        {
          "name": "stderr",
          "output_type": "stream",
          "text": [
            "  9%|▊         | 85/999 [32:58<6:29:41, 25.58s/it]"
          ]
        },
        {
          "name": "stdout",
          "output_type": "stream",
          "text": [
            "수카사: searchIframe 로드 및 프레임 전환 완료\n",
            "수카사: 첫 번째 가게 클릭 후 전환되지 않음. 다음 가게로 진행\n",
            "entryIframe 로드.\n",
            "Error while extracting menu/features for 수카사, div 1:\n",
            "Error while extracting menu/features for 수카사, div 2:\n"
          ]
        },
        {
          "name": "stderr",
          "output_type": "stream",
          "text": [
            "  9%|▊         | 86/999 [33:26<6:41:38, 26.40s/it]"
          ]
        },
        {
          "name": "stdout",
          "output_type": "stream",
          "text": [
            "수컴퍼니: searchIframe 로드 및 프레임 전환 완료\n",
            "수컴퍼니: 첫 번째 가게 클릭 후 전환되지 않음. 다음 가게로 진행\n",
            "entryIframe 로드.\n",
            "Error while extracting datalab information for 수컴퍼니:\n",
            "Error while navigating to reviews for 수컴퍼니:\n"
          ]
        },
        {
          "name": "stderr",
          "output_type": "stream",
          "text": [
            "  9%|▊         | 87/999 [33:51<6:36:21, 26.08s/it]"
          ]
        },
        {
          "name": "stdout",
          "output_type": "stream",
          "text": [
            "이미지 추출 오류 7 for 수컴퍼니 \n",
            "이미지 추출 오류 8 for 수컴퍼니 \n",
            "이미지 추출 오류 9 for 수컴퍼니 \n",
            "이미지 추출 오류 10 for 수컴퍼니 \n",
            "수타명가: searchIframe 로드 및 프레임 전환 완료\n",
            "수타명가: 첫 번째 가게 클릭 후 전환되지 않음. 다음 가게로 진행\n",
            "entryIframe 로드.\n",
            "Error while extracting menu/features for 수타명가, div 1:\n",
            "Error while extracting menu/features for 수타명가, div 2:\n"
          ]
        },
        {
          "name": "stderr",
          "output_type": "stream",
          "text": [
            "  9%|▉         | 88/999 [34:20<6:47:21, 26.83s/it]"
          ]
        },
        {
          "name": "stdout",
          "output_type": "stream",
          "text": [
            "수희식당: searchIframe 로드 및 프레임 전환 완료\n",
            "수희식당: 첫 번째 가게 클릭 후 전환되지 않음. 다음 가게로 진행\n",
            "entryIframe 로드.\n",
            "Error while extracting menu/features for 수희식당, div 1:\n",
            "Error while extracting menu/features for 수희식당, div 2:\n"
          ]
        },
        {
          "name": "stderr",
          "output_type": "stream",
          "text": [
            "  9%|▉         | 89/999 [34:48<6:55:26, 27.39s/it]"
          ]
        },
        {
          "name": "stdout",
          "output_type": "stream",
          "text": [
            "숙성1퍼센트: searchIframe 로드 및 프레임 전환 완료\n",
            "Error while clicking first search result for 숙성1퍼센트: Unable to locate list container.\n"
          ]
        },
        {
          "name": "stderr",
          "output_type": "stream",
          "text": [
            "  9%|▉         | 90/999 [35:09<6:24:40, 25.39s/it]"
          ]
        },
        {
          "name": "stdout",
          "output_type": "stream",
          "text": [
            "Failed to load iframe after multiple attempts for 숙성1퍼센트.\n",
            "crawling fatil : 숙성1퍼센트 to fail_to_crawling\n",
            "숙성도: searchIframe 로드 및 프레임 전환 완료\n",
            "숙성도: 링크버튼을 찾을 수 없음. xpath 대신 다른 방법 시도\n"
          ]
        },
        {
          "name": "stderr",
          "output_type": "stream",
          "text": [
            "  9%|▉         | 91/999 [35:27<5:48:56, 23.06s/it]"
          ]
        },
        {
          "name": "stdout",
          "output_type": "stream",
          "text": [
            "Failed to load iframe after multiple attempts for 숙성도.\n",
            "crawling fatil : 숙성도 to fail_to_crawling\n",
            "숙성도 실버: searchIframe 로드 및 프레임 전환 완료\n",
            "Error while clicking first search result for 숙성도 실버: Unable to locate list container.\n"
          ]
        },
        {
          "name": "stderr",
          "output_type": "stream",
          "text": [
            "  9%|▉         | 92/999 [35:47<5:37:23, 22.32s/it]"
          ]
        },
        {
          "name": "stdout",
          "output_type": "stream",
          "text": [
            "Failed to load iframe after multiple attempts for 숙성도 실버.\n",
            "crawling fatil : 숙성도 실버 to fail_to_crawling\n",
            "숙성도 함덕점: searchIframe 로드 및 프레임 전환 완료\n",
            "숙성도 함덕점: entryIframe이 이미 로드됨. 클릭 없이 바로 진행\n",
            "entryIframe 로드.\n",
            "Error while extracting menu/features for 숙성도 함덕점, div 1:\n",
            "Error while extracting menu/features for 숙성도 함덕점, div 2:\n"
          ]
        },
        {
          "name": "stderr",
          "output_type": "stream",
          "text": [
            "  9%|▉         | 93/999 [36:11<5:42:54, 22.71s/it]"
          ]
        },
        {
          "name": "stdout",
          "output_type": "stream",
          "text": [
            "숙성도F&B: searchIframe 로드 및 프레임 전환 완료\n",
            "Error while clicking first search result for 숙성도F&B: Unable to locate list container.\n"
          ]
        },
        {
          "name": "stderr",
          "output_type": "stream",
          "text": [
            "  9%|▉         | 94/999 [36:32<5:32:45, 22.06s/it]"
          ]
        },
        {
          "name": "stdout",
          "output_type": "stream",
          "text": [
            "Failed to load iframe after multiple attempts for 숙성도F&B.\n",
            "crawling fatil : 숙성도F&B to fail_to_crawling\n",
            "숙성도애월점: searchIframe 로드 및 프레임 전환 완료\n",
            "숙성도애월점: entryIframe이 이미 로드됨. 클릭 없이 바로 진행\n",
            "entryIframe 로드.\n",
            "Error while extracting menu/features for 숙성도애월점, div 1:\n",
            "Error while extracting menu/features for 숙성도애월점, div 2:\n"
          ]
        },
        {
          "name": "stderr",
          "output_type": "stream",
          "text": [
            " 10%|▉         | 95/999 [36:55<5:38:38, 22.48s/it]"
          ]
        },
        {
          "name": "stdout",
          "output_type": "stream",
          "text": [
            "숙성도중문: searchIframe 로드 및 프레임 전환 완료\n",
            "숙성도중문: entryIframe이 이미 로드됨. 클릭 없이 바로 진행\n",
            "entryIframe 로드.\n",
            "Error while extracting menu/features for 숙성도중문, div 1:\n",
            "Error while extracting menu/features for 숙성도중문, div 2:\n"
          ]
        },
        {
          "name": "stderr",
          "output_type": "stream",
          "text": [
            " 10%|▉         | 96/999 [37:17<5:34:11, 22.21s/it]"
          ]
        },
        {
          "name": "stdout",
          "output_type": "stream",
          "text": [
            "숙성돈가: searchIframe 로드 및 프레임 전환 완료\n",
            "숙성돈가: 첫 번째 가게 클릭 후 전환되지 않음. 다음 가게로 진행\n",
            "entryIframe 로드.\n",
            "Error while extracting menu/features for 숙성돈가, div 1:\n",
            "Error while extracting menu/features for 숙성돈가, div 2:\n"
          ]
        },
        {
          "name": "stderr",
          "output_type": "stream",
          "text": [
            " 10%|▉         | 97/999 [37:45<6:01:33, 24.05s/it]"
          ]
        },
        {
          "name": "stdout",
          "output_type": "stream",
          "text": [
            "숙성정육식당: searchIframe 로드 및 프레임 전환 완료\n",
            "숙성정육식당: 첫 번째 가게 클릭 후 전환되지 않음. 다음 가게로 진행\n",
            "entryIframe 로드.\n",
            "Error while extracting menu/features for 숙성정육식당, div 1:\n",
            "Error while extracting menu/features for 숙성정육식당, div 2:\n"
          ]
        },
        {
          "name": "stderr",
          "output_type": "stream",
          "text": [
            " 10%|▉         | 98/999 [38:14<6:21:28, 25.40s/it]"
          ]
        },
        {
          "name": "stdout",
          "output_type": "stream",
          "text": [
            "숙이네갈비: searchIframe 로드 및 프레임 전환 완료\n",
            "숙이네갈비: 첫 번째 가게 클릭 후 전환되지 않음. 다음 가게로 진행\n",
            "entryIframe 로드.\n",
            "Error while extracting menu/features for 숙이네갈비, div 1:\n",
            "Error while extracting menu/features for 숙이네갈비, div 2:\n"
          ]
        },
        {
          "name": "stderr",
          "output_type": "stream",
          "text": [
            " 10%|▉         | 99/999 [38:40<6:23:51, 25.59s/it]"
          ]
        },
        {
          "name": "stdout",
          "output_type": "stream",
          "text": [
            "숙이네보리빵: searchIframe 로드 및 프레임 전환 완료\n",
            "숙이네보리빵: entryIframe이 이미 로드됨. 클릭 없이 바로 진행\n",
            "entryIframe 로드.\n",
            "Error while extracting menu/features for 숙이네보리빵, div 1:\n",
            "Error while extracting menu/features for 숙이네보리빵, div 2:\n"
          ]
        },
        {
          "name": "stderr",
          "output_type": "stream",
          "text": [
            " 10%|█         | 100/999 [39:01<6:06:45, 24.48s/it]"
          ]
        },
        {
          "name": "stdout",
          "output_type": "stream",
          "text": [
            "숙이네조개전골앤구이: searchIframe 로드 및 프레임 전환 완료\n",
            "숙이네조개전골앤구이: entryIframe이 이미 로드됨. 클릭 없이 바로 진행\n",
            "entryIframe 로드.\n",
            "Error while extracting menu/features for 숙이네조개전골앤구이, div 1:\n",
            "Error while extracting menu/features for 숙이네조개전골앤구이, div 2:\n"
          ]
        },
        {
          "name": "stderr",
          "output_type": "stream",
          "text": [
            " 10%|█         | 101/999 [39:23<5:52:57, 23.58s/it]"
          ]
        },
        {
          "name": "stdout",
          "output_type": "stream",
          "text": [
            "숙이포차: searchIframe 로드 및 프레임 전환 완료\n",
            "숙이포차: 링크버튼을 찾을 수 없음. xpath 대신 다른 방법 시도\n"
          ]
        },
        {
          "name": "stderr",
          "output_type": "stream",
          "text": [
            " 10%|█         | 102/999 [39:41<5:27:38, 21.92s/it]"
          ]
        },
        {
          "name": "stdout",
          "output_type": "stream",
          "text": [
            "Failed to load iframe after multiple attempts for 숙이포차.\n",
            "crawling fatil : 숙이포차 to fail_to_crawling\n",
            "숙자네숟가락젓가락: searchIframe 로드 및 프레임 전환 완료\n",
            "숙자네숟가락젓가락: 첫 번째 가게 클릭 후 전환되지 않음. 다음 가게로 진행\n",
            "entryIframe 로드.\n",
            "Error while extracting menu/features for 숙자네숟가락젓가락, div 1:\n"
          ]
        },
        {
          "name": "stderr",
          "output_type": "stream",
          "text": [
            " 10%|█         | 103/999 [40:05<5:38:46, 22.69s/it]"
          ]
        },
        {
          "name": "stdout",
          "output_type": "stream",
          "text": [
            "Error while extracting menu/features for 숙자네숟가락젓가락, div 2:\n",
            " 사진 버튼 없음 : 숙자네숟가락젓가락.\n",
            "숙희네 흑돼지: searchIframe 로드 및 프레임 전환 완료\n",
            "숙희네 흑돼지: entryIframe이 이미 로드됨. 클릭 없이 바로 진행\n",
            "entryIframe 로드.\n",
            "Error while extracting menu/features for 숙희네 흑돼지, div 1:\n",
            "Error while extracting menu/features for 숙희네 흑돼지, div 2:\n"
          ]
        },
        {
          "name": "stderr",
          "output_type": "stream",
          "text": [
            " 10%|█         | 104/999 [40:27<5:34:51, 22.45s/it]"
          ]
        },
        {
          "name": "stdout",
          "output_type": "stream",
          "text": [
            "순곱이네일도점: searchIframe 로드 및 프레임 전환 완료\n",
            "순곱이네일도점: entryIframe이 이미 로드됨. 클릭 없이 바로 진행\n",
            "entryIframe 로드.\n",
            "Error while extracting menu/features for 순곱이네일도점, div 1:\n",
            "Error while extracting menu/features for 순곱이네일도점, div 2:\n"
          ]
        },
        {
          "name": "stderr",
          "output_type": "stream",
          "text": [
            " 11%|█         | 105/999 [40:50<5:37:26, 22.65s/it]"
          ]
        },
        {
          "name": "stdout",
          "output_type": "stream",
          "text": [
            "이미지 추출 오류 8 for 순곱이네일도점 \n",
            "이미지 추출 오류 9 for 순곱이네일도점 \n",
            "이미지 추출 오류 10 for 순곱이네일도점 \n",
            "순대고을: searchIframe 로드 및 프레임 전환 완료\n",
            "순대고을: 첫 번째 가게 클릭 후 전환되지 않음. 다음 가게로 진행\n",
            "entryIframe 로드.\n",
            "Error while extracting menu/features for 순대고을, div 1:\n",
            "Error while extracting menu/features for 순대고을, div 2:\n"
          ]
        },
        {
          "name": "stderr",
          "output_type": "stream",
          "text": [
            " 11%|█         | 106/999 [41:18<6:00:47, 24.24s/it]"
          ]
        },
        {
          "name": "stdout",
          "output_type": "stream",
          "text": [
            "순대이야기: searchIframe 로드 및 프레임 전환 완료\n",
            "순대이야기: 첫 번째 가게 클릭 후 전환되지 않음. 다음 가게로 진행\n",
            "entryIframe 로드.\n",
            "Error while extracting menu/features for 순대이야기, div 1:\n",
            "Error while extracting menu/features for 순대이야기, div 2:\n"
          ]
        },
        {
          "name": "stderr",
          "output_type": "stream",
          "text": [
            " 11%|█         | 107/999 [41:46<6:16:49, 25.35s/it]"
          ]
        },
        {
          "name": "stdout",
          "output_type": "stream",
          "text": [
            "순덕이네식당: searchIframe 로드 및 프레임 전환 완료\n",
            "순덕이네식당: 첫 번째 가게 클릭 후 전환되지 않음. 다음 가게로 진행\n",
            "entryIframe 로드.\n",
            "Error while extracting datalab information for 순덕이네식당:\n",
            "Error while extracting menu/features for 순덕이네식당, div 1:\n",
            "Error while navigating to reviews for 순덕이네식당:\n"
          ]
        },
        {
          "name": "stderr",
          "output_type": "stream",
          "text": [
            " 11%|█         | 108/999 [42:15<6:29:39, 26.24s/it]"
          ]
        },
        {
          "name": "stdout",
          "output_type": "stream",
          "text": [
            "순덕이네왕갈비: searchIframe 로드 및 프레임 전환 완료\n",
            "순덕이네왕갈비: entryIframe이 이미 로드됨. 클릭 없이 바로 진행\n",
            "entryIframe 로드.\n",
            "Error while extracting menu/features for 순덕이네왕갈비, div 1:\n",
            "Error while navigating to reviews for 순덕이네왕갈비:\n"
          ]
        },
        {
          "name": "stderr",
          "output_type": "stream",
          "text": [
            " 11%|█         | 109/999 [42:36<6:06:19, 24.70s/it]"
          ]
        },
        {
          "name": "stdout",
          "output_type": "stream",
          "text": [
            "순덕이네해산물장터: searchIframe 로드 및 프레임 전환 완료\n",
            "순덕이네해산물장터: entryIframe이 이미 로드됨. 클릭 없이 바로 진행\n",
            "entryIframe 로드.\n",
            "Error while extracting menu/features for 순덕이네해산물장터, div 1:\n",
            "Error while extracting menu/features for 순덕이네해산물장터, div 2:\n"
          ]
        },
        {
          "name": "stderr",
          "output_type": "stream",
          "text": [
            " 11%|█         | 110/999 [43:00<6:02:16, 24.45s/it]"
          ]
        },
        {
          "name": "stdout",
          "output_type": "stream",
          "text": [
            "순두부엔짬봉: searchIframe 로드 및 프레임 전환 완료\n",
            "순두부엔짬봉: 첫 번째 가게 클릭 후 전환되지 않음. 다음 가게로 진행\n",
            "entryIframe 로드.\n",
            "Error while extracting menu/features for 순두부엔짬봉, div 1:\n",
            "Error while extracting menu/features for 순두부엔짬봉, div 2:\n"
          ]
        },
        {
          "name": "stderr",
          "output_type": "stream",
          "text": [
            " 11%|█         | 111/999 [43:28<6:19:25, 25.64s/it]"
          ]
        },
        {
          "name": "stdout",
          "output_type": "stream",
          "text": [
            "순두부엔짬뽕: searchIframe 로드 및 프레임 전환 완료\n",
            "순두부엔짬뽕: 첫 번째 가게 클릭 후 전환되지 않음. 다음 가게로 진행\n",
            "entryIframe 로드.\n",
            "Error while extracting menu/features for 순두부엔짬뽕, div 1:\n",
            "Error while extracting menu/features for 순두부엔짬뽕, div 2:\n"
          ]
        },
        {
          "name": "stderr",
          "output_type": "stream",
          "text": [
            " 11%|█         | 112/999 [43:56<6:30:56, 26.45s/it]"
          ]
        },
        {
          "name": "stdout",
          "output_type": "stream",
          "text": [
            "순백100순두부: searchIframe 로드 및 프레임 전환 완료\n",
            "Error while clicking first search result for 순백100순두부: Unable to locate list container.\n"
          ]
        },
        {
          "name": "stderr",
          "output_type": "stream",
          "text": [
            " 11%|█▏        | 113/999 [44:17<6:04:50, 24.71s/it]"
          ]
        },
        {
          "name": "stdout",
          "output_type": "stream",
          "text": [
            "Failed to load iframe after multiple attempts for 순백100순두부.\n",
            "crawling fatil : 순백100순두부 to fail_to_crawling\n",
            "순수한둠비연동점: searchIframe 로드 및 프레임 전환 완료\n",
            "순수한둠비연동점: entryIframe이 이미 로드됨. 클릭 없이 바로 진행\n",
            "entryIframe 로드.\n",
            "Error while extracting menu/features for 순수한둠비연동점, div 1:\n",
            "Error while extracting menu/features for 순수한둠비연동점, div 2:\n"
          ]
        },
        {
          "name": "stderr",
          "output_type": "stream",
          "text": [
            " 11%|█▏        | 114/999 [44:37<5:42:40, 23.23s/it]"
          ]
        },
        {
          "name": "stdout",
          "output_type": "stream",
          "text": [
            "순심이네한라봉돼지갈비: searchIframe 로드 및 프레임 전환 완료\n",
            "Error while clicking first search result for 순심이네한라봉돼지갈비: Unable to locate list container.\n"
          ]
        },
        {
          "name": "stderr",
          "output_type": "stream",
          "text": [
            " 12%|█▏        | 115/999 [44:58<5:31:57, 22.53s/it]"
          ]
        },
        {
          "name": "stdout",
          "output_type": "stream",
          "text": [
            "Failed to load iframe after multiple attempts for 순심이네한라봉돼지갈비.\n",
            "crawling fatil : 순심이네한라봉돼지갈비 to fail_to_crawling\n",
            "순심이네한우흑돼지: searchIframe 로드 및 프레임 전환 완료\n",
            "순심이네한우흑돼지: entryIframe이 이미 로드됨. 클릭 없이 바로 진행\n",
            "entryIframe 로드.\n",
            "Error while extracting menu/features for 순심이네한우흑돼지, div 1:\n",
            "Error while extracting menu/features for 순심이네한우흑돼지, div 2:\n"
          ]
        },
        {
          "name": "stderr",
          "output_type": "stream",
          "text": [
            " 12%|█▏        | 116/999 [45:20<5:28:44, 22.34s/it]"
          ]
        },
        {
          "name": "stdout",
          "output_type": "stream",
          "text": [
            "순옥이네 명가: searchIframe 로드 및 프레임 전환 완료\n",
            "순옥이네 명가: 첫 번째 가게 클릭 후 전환되지 않음. 다음 가게로 진행\n",
            "entryIframe 로드.\n",
            "Error while extracting menu/features for 순옥이네 명가, div 1:\n",
            "Error while extracting menu/features for 순옥이네 명가, div 2:\n"
          ]
        },
        {
          "name": "stderr",
          "output_type": "stream",
          "text": [
            " 12%|█▏        | 117/999 [45:48<5:56:39, 24.26s/it]"
          ]
        },
        {
          "name": "stdout",
          "output_type": "stream",
          "text": [
            "순옥이네명가 함덕점: searchIframe 로드 및 프레임 전환 완료\n",
            "Error while clicking first search result for 순옥이네명가 함덕점: Unable to locate list container.\n"
          ]
        },
        {
          "name": "stderr",
          "output_type": "stream",
          "text": [
            " 12%|█▏        | 118/999 [46:09<5:40:56, 23.22s/it]"
          ]
        },
        {
          "name": "stdout",
          "output_type": "stream",
          "text": [
            "Failed to load iframe after multiple attempts for 순옥이네명가 함덕점.\n",
            "crawling fatil : 순옥이네명가 함덕점 to fail_to_crawling\n",
            "순옥이네명가함덕점: searchIframe 로드 및 프레임 전환 완료\n",
            "Error while clicking first search result for 순옥이네명가함덕점: Unable to locate list container.\n"
          ]
        },
        {
          "name": "stderr",
          "output_type": "stream",
          "text": [
            " 12%|█▏        | 119/999 [46:30<5:29:06, 22.44s/it]"
          ]
        },
        {
          "name": "stdout",
          "output_type": "stream",
          "text": [
            "Failed to load iframe after multiple attempts for 순옥이네명가함덕점.\n",
            "crawling fatil : 순옥이네명가함덕점 to fail_to_crawling\n",
            "순이네밥집: searchIframe 로드 및 프레임 전환 완료\n",
            "순이네밥집: 링크버튼을 찾을 수 없음. xpath 대신 다른 방법 시도\n"
          ]
        },
        {
          "name": "stderr",
          "output_type": "stream",
          "text": [
            " 12%|█▏        | 120/999 [46:47<5:08:07, 21.03s/it]"
          ]
        },
        {
          "name": "stdout",
          "output_type": "stream",
          "text": [
            "Failed to load iframe after multiple attempts for 순이네밥집.\n",
            "crawling fatil : 순이네밥집 to fail_to_crawling\n",
            "순이네해장국: searchIframe 로드 및 프레임 전환 완료\n",
            "순이네해장국: 링크버튼을 찾을 수 없음. xpath 대신 다른 방법 시도\n"
          ]
        },
        {
          "name": "stderr",
          "output_type": "stream",
          "text": [
            " 12%|█▏        | 121/999 [47:05<4:51:19, 19.91s/it]"
          ]
        },
        {
          "name": "stdout",
          "output_type": "stream",
          "text": [
            "Failed to load iframe after multiple attempts for 순이네해장국.\n",
            "crawling fatil : 순이네해장국 to fail_to_crawling\n",
            "순정감자: searchIframe 로드 및 프레임 전환 완료\n",
            "순정감자: 링크버튼을 찾을 수 없음. xpath 대신 다른 방법 시도\n"
          ]
        },
        {
          "name": "stderr",
          "output_type": "stream",
          "text": [
            " 12%|█▏        | 122/999 [47:22<4:41:10, 19.24s/it]"
          ]
        },
        {
          "name": "stdout",
          "output_type": "stream",
          "text": [
            "Failed to load iframe after multiple attempts for 순정감자.\n",
            "crawling fatil : 순정감자 to fail_to_crawling\n",
            "순정문어: searchIframe 로드 및 프레임 전환 완료\n",
            "순정문어: entryIframe이 이미 로드됨. 클릭 없이 바로 진행\n",
            "entryIframe 로드.\n",
            "Error while extracting datalab information for 순정문어:\n",
            "Error while extracting menu/features for 순정문어, div 1:\n",
            "Error while extracting menu/features for 순정문어, div 2:\n"
          ]
        },
        {
          "name": "stderr",
          "output_type": "stream",
          "text": [
            " 12%|█▏        | 123/999 [47:45<4:57:27, 20.37s/it]"
          ]
        },
        {
          "name": "stdout",
          "output_type": "stream",
          "text": [
            "이미지 추출 오류 3 for 순정문어 \n",
            "이미지 추출 오류 4 for 순정문어 \n",
            "이미지 추출 오류 5 for 순정문어 \n",
            "이미지 추출 오류 6 for 순정문어 \n",
            "이미지 추출 오류 7 for 순정문어 \n",
            "이미지 추출 오류 8 for 순정문어 \n",
            "이미지 추출 오류 9 for 순정문어 \n",
            "이미지 추출 오류 10 for 순정문어 \n",
            "순정삼계탕: searchIframe 로드 및 프레임 전환 완료\n",
            "순정삼계탕: entryIframe이 이미 로드됨. 클릭 없이 바로 진행\n",
            "entryIframe 로드.\n"
          ]
        },
        {
          "name": "stderr",
          "output_type": "stream",
          "text": [
            " 13%|█▎        | 125/999 [48:10<3:43:24, 15.34s/it]"
          ]
        },
        {
          "name": "stdout",
          "output_type": "stream",
          "text": [
            "iframe을 찾을 수 없음 for 순창\n",
            "순천미향: searchIframe 로드 및 프레임 전환 완료\n",
            "순천미향: 첫 번째 가게 클릭 후 전환되지 않음. 다음 가게로 진행\n",
            "entryIframe 로드.\n",
            "Error while extracting menu/features for 순천미향, div 1:\n",
            "Error while extracting menu/features for 순천미향, div 2:\n"
          ]
        },
        {
          "name": "stderr",
          "output_type": "stream",
          "text": [
            " 13%|█▎        | 126/999 [48:38<4:41:14, 19.33s/it]"
          ]
        },
        {
          "name": "stdout",
          "output_type": "stream",
          "text": [
            "순천미향제주산방산본점: searchIframe 로드 및 프레임 전환 완료\n",
            "순천미향제주산방산본점: entryIframe이 이미 로드됨. 클릭 없이 바로 진행\n",
            "entryIframe 로드.\n",
            "Error while extracting menu/features for 순천미향제주산방산본점, div 1:\n",
            "Error while extracting menu/features for 순천미향제주산방산본점, div 2:\n"
          ]
        },
        {
          "name": "stderr",
          "output_type": "stream",
          "text": [
            " 13%|█▎        | 127/999 [49:04<5:09:01, 21.26s/it]"
          ]
        },
        {
          "name": "stdout",
          "output_type": "stream",
          "text": [
            "순풍해장국: searchIframe 로드 및 프레임 전환 완료\n",
            "순풍해장국: 첫 번째 가게 클릭 후 전환되지 않음. 다음 가게로 진행\n",
            "entryIframe 로드.\n",
            "Error while extracting menu/features for 순풍해장국, div 1:\n"
          ]
        },
        {
          "name": "stderr",
          "output_type": "stream",
          "text": [
            " 13%|█▎        | 128/999 [49:30<5:30:45, 22.78s/it]"
          ]
        },
        {
          "name": "stdout",
          "output_type": "stream",
          "text": [
            "Error while extracting menu/features for 순풍해장국, div 2:\n",
            " 사진 버튼 없음 : 순풍해장국.\n",
            "순풍해장국이도점: searchIframe 로드 및 프레임 전환 완료\n",
            "순풍해장국이도점: entryIframe이 이미 로드됨. 클릭 없이 바로 진행\n",
            "entryIframe 로드.\n",
            "Error while extracting menu/features for 순풍해장국이도점, div 1:\n",
            "Error while extracting menu/features for 순풍해장국이도점, div 2:\n"
          ]
        },
        {
          "name": "stderr",
          "output_type": "stream",
          "text": [
            " 13%|█▎        | 129/999 [49:52<5:24:48, 22.40s/it]"
          ]
        },
        {
          "name": "stdout",
          "output_type": "stream",
          "text": [
            "순화: searchIframe 로드 및 프레임 전환 완료\n",
            "순화: 링크버튼을 찾을 수 없음. xpath 대신 다른 방법 시도\n"
          ]
        },
        {
          "name": "stderr",
          "output_type": "stream",
          "text": [
            " 13%|█▎        | 130/999 [50:10<5:06:17, 21.15s/it]"
          ]
        },
        {
          "name": "stdout",
          "output_type": "stream",
          "text": [
            "Failed to load iframe after multiple attempts for 순화.\n",
            "crawling fatil : 순화 to fail_to_crawling\n",
            "순희네: searchIframe 로드 및 프레임 전환 완료\n",
            "순희네: 첫 번째 가게 클릭 후 전환되지 않음. 다음 가게로 진행\n",
            "entryIframe 로드.\n",
            "Error while extracting menu/features for 순희네, div 1:\n",
            "Error while extracting menu/features for 순희네, div 2:\n"
          ]
        },
        {
          "name": "stderr",
          "output_type": "stream",
          "text": [
            " 13%|█▎        | 131/999 [50:38<5:35:53, 23.22s/it]"
          ]
        },
        {
          "name": "stdout",
          "output_type": "stream",
          "text": [
            "순희네흑돼지: searchIframe 로드 및 프레임 전환 완료\n",
            "순희네흑돼지: entryIframe이 이미 로드됨. 클릭 없이 바로 진행\n",
            "entryIframe 로드.\n",
            "Error while extracting menu/features for 순희네흑돼지, div 1:\n",
            "Error while extracting menu/features for 순희네흑돼지, div 2:\n"
          ]
        },
        {
          "name": "stderr",
          "output_type": "stream",
          "text": [
            " 13%|█▎        | 132/999 [51:00<5:28:38, 22.74s/it]"
          ]
        },
        {
          "name": "stdout",
          "output_type": "stream",
          "text": [
            "순희뽀글이: searchIframe 로드 및 프레임 전환 완료\n",
            "순희뽀글이: entryIframe이 이미 로드됨. 클릭 없이 바로 진행\n",
            "entryIframe 로드.\n",
            "Error while extracting menu/features for 순희뽀글이, div 1:\n",
            "Error while extracting menu/features for 순희뽀글이, div 2:\n"
          ]
        },
        {
          "name": "stderr",
          "output_type": "stream",
          "text": [
            " 13%|█▎        | 133/999 [51:19<5:14:30, 21.79s/it]"
          ]
        },
        {
          "name": "stdout",
          "output_type": "stream",
          "text": [
            "순희뽀글이정식: searchIframe 로드 및 프레임 전환 완료\n",
            "순희뽀글이정식: entryIframe이 이미 로드됨. 클릭 없이 바로 진행\n",
            "entryIframe 로드.\n",
            "Error while extracting menu/features for 순희뽀글이정식, div 1:\n",
            "Error while extracting menu/features for 순희뽀글이정식, div 2:\n"
          ]
        },
        {
          "name": "stderr",
          "output_type": "stream",
          "text": [
            " 13%|█▎        | 134/999 [51:39<5:04:42, 21.14s/it]"
          ]
        },
        {
          "name": "stdout",
          "output_type": "stream",
          "text": [
            "술고래: searchIframe 로드 및 프레임 전환 완료\n",
            "술고래: 링크버튼을 찾을 수 없음. xpath 대신 다른 방법 시도\n"
          ]
        },
        {
          "name": "stderr",
          "output_type": "stream",
          "text": [
            " 14%|█▎        | 135/999 [51:57<4:49:10, 20.08s/it]"
          ]
        },
        {
          "name": "stdout",
          "output_type": "stream",
          "text": [
            "Failed to load iframe after multiple attempts for 술고래.\n",
            "crawling fatil : 술고래 to fail_to_crawling\n",
            "술도가제주바당: searchIframe 로드 및 프레임 전환 완료\n",
            "술도가제주바당: entryIframe이 이미 로드됨. 클릭 없이 바로 진행\n",
            "entryIframe 로드.\n",
            "Error while extracting menu/features for 술도가제주바당, div 1:\n",
            "Error while extracting menu/features for 술도가제주바당, div 2:\n"
          ]
        },
        {
          "name": "stderr",
          "output_type": "stream",
          "text": [
            " 14%|█▎        | 136/999 [52:18<4:55:46, 20.56s/it]"
          ]
        },
        {
          "name": "stdout",
          "output_type": "stream",
          "text": [
            "술밥: searchIframe 로드 및 프레임 전환 완료\n",
            "술밥: 첫 번째 가게 클릭 후 전환되지 않음. 다음 가게로 진행\n",
            "entryIframe 로드.\n",
            "Error while extracting menu/features for 술밥, div 1:\n",
            "Error while extracting menu/features for 술밥, div 2:\n"
          ]
        },
        {
          "name": "stderr",
          "output_type": "stream",
          "text": [
            " 14%|█▎        | 137/999 [52:47<5:29:33, 22.94s/it]"
          ]
        },
        {
          "name": "stdout",
          "output_type": "stream",
          "text": [
            "술빛정원: searchIframe 로드 및 프레임 전환 완료\n",
            "술빛정원: entryIframe이 이미 로드됨. 클릭 없이 바로 진행\n",
            "entryIframe 로드.\n",
            "Error while extracting menu/features for 술빛정원, div 1:\n",
            "Error while navigating to reviews for 술빛정원:\n"
          ]
        },
        {
          "name": "stderr",
          "output_type": "stream",
          "text": [
            " 14%|█▍        | 138/999 [53:08<5:20:04, 22.30s/it]"
          ]
        },
        {
          "name": "stdout",
          "output_type": "stream",
          "text": [
            "술술바: searchIframe 로드 및 프레임 전환 완료\n",
            "Error while clicking first search result for 술술바: Unable to locate list container.\n"
          ]
        },
        {
          "name": "stderr",
          "output_type": "stream",
          "text": [
            " 14%|█▍        | 139/999 [53:28<5:12:55, 21.83s/it]"
          ]
        },
        {
          "name": "stdout",
          "output_type": "stream",
          "text": [
            "Failed to load iframe after multiple attempts for 술술바.\n",
            "crawling fatil : 술술바 to fail_to_crawling\n",
            "술이 달아: searchIframe 로드 및 프레임 전환 완료\n",
            "술이 달아: 첫 번째 가게 클릭 후 전환되지 않음. 다음 가게로 진행\n",
            "entryIframe 로드.\n",
            "Error while extracting menu/features for 술이 달아, div 1:\n",
            "Error while navigating to reviews for 술이 달아:\n"
          ]
        },
        {
          "name": "stderr",
          "output_type": "stream",
          "text": [
            " 14%|█▍        | 140/999 [53:56<5:39:06, 23.69s/it]"
          ]
        },
        {
          "name": "stdout",
          "output_type": "stream",
          "text": [
            "이미지 추출 오류 2 for 술이 달아 \n",
            "이미지 추출 오류 3 for 술이 달아 \n",
            "이미지 추출 오류 4 for 술이 달아 \n",
            "이미지 추출 오류 5 for 술이 달아 \n",
            "이미지 추출 오류 6 for 술이 달아 \n",
            "이미지 추출 오류 7 for 술이 달아 \n",
            "이미지 추출 오류 8 for 술이 달아 \n",
            "이미지 추출 오류 9 for 술이 달아 \n",
            "이미지 추출 오류 10 for 술이 달아 \n",
            "술한상: searchIframe 로드 및 프레임 전환 완료\n",
            "술한상: 링크버튼을 찾을 수 없음. xpath 대신 다른 방법 시도\n"
          ]
        },
        {
          "name": "stderr",
          "output_type": "stream",
          "text": [
            " 14%|█▍        | 141/999 [54:14<5:12:53, 21.88s/it]"
          ]
        },
        {
          "name": "stdout",
          "output_type": "stream",
          "text": [
            "Failed to load iframe after multiple attempts for 술한상.\n",
            "crawling fatil : 술한상 to fail_to_crawling\n",
            "숨비나리: searchIframe 로드 및 프레임 전환 완료\n",
            "숨비나리: 첫 번째 가게 클릭 후 전환되지 않음. 다음 가게로 진행\n",
            "entryIframe 로드.\n",
            "Error while extracting menu/features for 숨비나리, div 1:\n",
            "Error while extracting menu/features for 숨비나리, div 2:\n"
          ]
        },
        {
          "name": "stderr",
          "output_type": "stream",
          "text": [
            " 14%|█▍        | 142/999 [54:40<5:31:39, 23.22s/it]"
          ]
        },
        {
          "name": "stdout",
          "output_type": "stream",
          "text": [
            "숨비나리카페: searchIframe 로드 및 프레임 전환 완료\n",
            "숨비나리카페: 첫 번째 가게 클릭 후 전환되지 않음. 다음 가게로 진행\n",
            "entryIframe 로드.\n",
            "Error while extracting menu/features for 숨비나리카페, div 1:\n",
            "Error while extracting menu/features for 숨비나리카페, div 2:\n"
          ]
        },
        {
          "name": "stderr",
          "output_type": "stream",
          "text": [
            " 14%|█▍        | 143/999 [55:09<5:52:55, 24.74s/it]"
          ]
        },
        {
          "name": "stdout",
          "output_type": "stream",
          "text": [
            "숨비소리: searchIframe 로드 및 프레임 전환 완료\n",
            "숨비소리: 첫 번째 가게 클릭 후 전환되지 않음. 다음 가게로 진행\n",
            "entryIframe 로드.\n",
            "Error while extracting menu/features for 숨비소리, div 1:\n",
            "Error while navigating to reviews for 숨비소리:\n"
          ]
        },
        {
          "name": "stderr",
          "output_type": "stream",
          "text": [
            " 14%|█▍        | 144/999 [55:37<6:09:02, 25.90s/it]"
          ]
        },
        {
          "name": "stdout",
          "output_type": "stream",
          "text": [
            "숨어있는집: searchIframe 로드 및 프레임 전환 완료\n",
            "숨어있는집: 첫 번째 가게 클릭 후 전환되지 않음. 다음 가게로 진행\n",
            "entryIframe 로드.\n",
            "Error while extracting menu/features for 숨어있는집, div 1:\n",
            "Error while extracting menu/features for 숨어있는집, div 2:\n"
          ]
        },
        {
          "name": "stderr",
          "output_type": "stream",
          "text": [
            " 15%|█▍        | 145/999 [56:05<6:18:59, 26.63s/it]"
          ]
        },
        {
          "name": "stdout",
          "output_type": "stream",
          "text": [
            "숯검댕이2호점: searchIframe 로드 및 프레임 전환 완료\n",
            "숯검댕이2호점: entryIframe이 이미 로드됨. 클릭 없이 바로 진행\n",
            "entryIframe 로드.\n",
            "Error while extracting menu/features for 숯검댕이2호점, div 1:\n",
            "Error while extracting menu/features for 숯검댕이2호점, div 2:\n"
          ]
        },
        {
          "name": "stderr",
          "output_type": "stream",
          "text": [
            " 15%|█▍        | 146/999 [56:27<5:55:14, 24.99s/it]"
          ]
        },
        {
          "name": "stdout",
          "output_type": "stream",
          "text": [
            "숯불애: searchIframe 로드 및 프레임 전환 완료\n",
            "숯불애: 첫 번째 가게 클릭 후 전환되지 않음. 다음 가게로 진행\n",
            "entryIframe 로드.\n",
            "Error while extracting menu/features for 숯불애, div 1:\n",
            "Error while extracting menu/features for 숯불애, div 2:\n"
          ]
        },
        {
          "name": "stderr",
          "output_type": "stream",
          "text": [
            " 15%|█▍        | 147/999 [56:55<6:11:00, 26.13s/it]"
          ]
        },
        {
          "name": "stdout",
          "output_type": "stream",
          "text": [
            "숯불에닭: searchIframe 로드 및 프레임 전환 완료\n",
            "숯불에닭: 링크버튼을 찾을 수 없음. xpath 대신 다른 방법 시도\n"
          ]
        },
        {
          "name": "stderr",
          "output_type": "stream",
          "text": [
            " 15%|█▍        | 148/999 [57:14<5:39:02, 23.90s/it]"
          ]
        },
        {
          "name": "stdout",
          "output_type": "stream",
          "text": [
            "Failed to load iframe after multiple attempts for 숯불에닭.\n",
            "crawling fatil : 숯불에닭 to fail_to_crawling\n",
            "숯불에닭서귀포동홍점: searchIframe 로드 및 프레임 전환 완료\n",
            "숯불에닭서귀포동홍점: entryIframe이 이미 로드됨. 클릭 없이 바로 진행\n",
            "entryIframe 로드.\n",
            "Error while extracting menu/features for 숯불에닭서귀포동홍점, div 1:\n",
            "Error while extracting menu/features for 숯불에닭서귀포동홍점, div 2:\n"
          ]
        },
        {
          "name": "stderr",
          "output_type": "stream",
          "text": [
            " 15%|█▍        | 149/999 [57:35<5:26:53, 23.07s/it]"
          ]
        },
        {
          "name": "stdout",
          "output_type": "stream",
          "text": [
            "숯불이동갈비: searchIframe 로드 및 프레임 전환 완료\n",
            "숯불이동갈비: 첫 번째 가게 클릭 후 전환되지 않음. 다음 가게로 진행\n",
            "entryIframe 로드.\n",
            "Error while extracting menu/features for 숯불이동갈비, div 1:\n",
            "Error while extracting menu/features for 숯불이동갈비, div 2:\n"
          ]
        },
        {
          "name": "stderr",
          "output_type": "stream",
          "text": [
            " 15%|█▌        | 150/999 [58:04<5:49:19, 24.69s/it]"
          ]
        },
        {
          "name": "stdout",
          "output_type": "stream",
          "text": [
            "숲섬이라면: searchIframe 로드 및 프레임 전환 완료\n",
            "숲섬이라면: entryIframe이 이미 로드됨. 클릭 없이 바로 진행\n",
            "entryIframe 로드.\n",
            "Error while extracting menu/features for 숲섬이라면, div 1:\n",
            "Error while extracting menu/features for 숲섬이라면, div 2:\n"
          ]
        },
        {
          "name": "stderr",
          "output_type": "stream",
          "text": [
            " 15%|█▌        | 151/999 [58:25<5:35:37, 23.75s/it]"
          ]
        },
        {
          "name": "stdout",
          "output_type": "stream",
          "text": [
            "숲속의작은집: searchIframe 로드 및 프레임 전환 완료\n",
            "숲속의작은집: 첫 번째 가게 클릭 후 전환되지 않음. 다음 가게로 진행\n",
            "entryIframe 로드.\n",
            "Error while extracting menu/features for 숲속의작은집, div 1:\n",
            "Error while extracting menu/features for 숲속의작은집, div 2:\n"
          ]
        },
        {
          "name": "stderr",
          "output_type": "stream",
          "text": [
            " 15%|█▌        | 152/999 [58:53<5:52:21, 24.96s/it]"
          ]
        },
        {
          "name": "stdout",
          "output_type": "stream",
          "text": [
            "숲숲 포 레스트: searchIframe 로드 및 프레임 전환 완료\n",
            "숲숲 포 레스트: entryIframe이 이미 로드됨. 클릭 없이 바로 진행\n",
            "entryIframe 로드.\n",
            "Error while extracting menu/features for 숲숲 포 레스트, div 1:\n",
            "Error while extracting menu/features for 숲숲 포 레스트, div 2:\n"
          ]
        },
        {
          "name": "stderr",
          "output_type": "stream",
          "text": [
            " 15%|█▌        | 153/999 [59:12<5:26:35, 23.16s/it]"
          ]
        },
        {
          "name": "stdout",
          "output_type": "stream",
          "text": [
            "쉐어호프: searchIframe 로드 및 프레임 전환 완료\n",
            "쉐어호프: entryIframe이 이미 로드됨. 클릭 없이 바로 진행\n",
            "entryIframe 로드.\n",
            "Error while extracting menu/features for 쉐어호프, div 1:\n",
            "Error while extracting menu/features for 쉐어호프, div 2:\n"
          ]
        },
        {
          "name": "stderr",
          "output_type": "stream",
          "text": [
            " 15%|█▌        | 154/999 [59:31<5:10:30, 22.05s/it]"
          ]
        },
        {
          "name": "stdout",
          "output_type": "stream",
          "text": [
            "쉐프 이야기: searchIframe 로드 및 프레임 전환 완료\n",
            "쉐프 이야기: 첫 번째 가게 클릭 후 전환되지 않음. 다음 가게로 진행\n",
            "entryIframe 로드.\n",
            "Error while extracting menu/features for 쉐프 이야기, div 1:\n",
            "Error while extracting menu/features for 쉐프 이야기, div 2:\n"
          ]
        },
        {
          "name": "stderr",
          "output_type": "stream",
          "text": [
            " 16%|█▌        | 155/999 [1:00:00<5:35:27, 23.85s/it]"
          ]
        },
        {
          "name": "stdout",
          "output_type": "stream",
          "text": [
            "쉐프1192레스토랑: searchIframe 로드 및 프레임 전환 완료\n",
            "쉐프1192레스토랑: entryIframe이 이미 로드됨. 클릭 없이 바로 진행\n",
            "entryIframe 로드.\n",
            "Error while extracting menu/features for 쉐프1192레스토랑, div 1:\n",
            "Error while extracting menu/features for 쉐프1192레스토랑, div 2:\n"
          ]
        },
        {
          "name": "stderr",
          "output_type": "stream",
          "text": [
            " 16%|█▌        | 156/999 [1:00:21<5:23:28, 23.02s/it]"
          ]
        },
        {
          "name": "stdout",
          "output_type": "stream",
          "text": [
            "쉐프의 중국집: searchIframe 로드 및 프레임 전환 완료\n",
            "쉐프의 중국집: 첫 번째 가게 클릭 후 전환되지 않음. 다음 가게로 진행\n",
            "entryIframe 로드.\n",
            "Error while extracting menu/features for 쉐프의 중국집, div 1:\n",
            "Error while extracting menu/features for 쉐프의 중국집, div 2:\n"
          ]
        },
        {
          "name": "stderr",
          "output_type": "stream",
          "text": [
            " 16%|█▌        | 157/999 [1:00:49<5:46:06, 24.66s/it]"
          ]
        },
        {
          "name": "stdout",
          "output_type": "stream",
          "text": [
            "쉐프의스시이야기: searchIframe 로드 및 프레임 전환 완료\n",
            "쉐프의스시이야기: entryIframe이 이미 로드됨. 클릭 없이 바로 진행\n",
            "entryIframe 로드.\n",
            "Error while extracting menu/features for 쉐프의스시이야기, div 1:\n",
            "Error while extracting menu/features for 쉐프의스시이야기, div 2:\n"
          ]
        },
        {
          "name": "stderr",
          "output_type": "stream",
          "text": [
            " 16%|█▌        | 158/999 [1:01:10<5:31:34, 23.66s/it]"
          ]
        },
        {
          "name": "stdout",
          "output_type": "stream",
          "text": [
            "쉘브르: searchIframe 로드 및 프레임 전환 완료\n",
            "쉘브르: 링크버튼을 찾을 수 없음. xpath 대신 다른 방법 시도\n"
          ]
        },
        {
          "name": "stderr",
          "output_type": "stream",
          "text": [
            " 16%|█▌        | 159/999 [1:01:28<5:07:19, 21.95s/it]"
          ]
        },
        {
          "name": "stdout",
          "output_type": "stream",
          "text": [
            "Failed to load iframe after multiple attempts for 쉘브르.\n",
            "crawling fatil : 쉘브르 to fail_to_crawling\n",
            "쉬는팡가든: searchIframe 로드 및 프레임 전환 완료\n",
            "Error while clicking first search result for 쉬는팡가든: Unable to locate list container.\n"
          ]
        },
        {
          "name": "stderr",
          "output_type": "stream",
          "text": [
            " 16%|█▌        | 160/999 [1:01:49<4:59:40, 21.43s/it]"
          ]
        },
        {
          "name": "stdout",
          "output_type": "stream",
          "text": [
            "Failed to load iframe after multiple attempts for 쉬는팡가든.\n",
            "crawling fatil : 쉬는팡가든 to fail_to_crawling\n",
            "쉬리니케이크: searchIframe 로드 및 프레임 전환 완료\n",
            "쉬리니케이크: entryIframe이 이미 로드됨. 클릭 없이 바로 진행\n",
            "entryIframe 로드.\n",
            "Error while extracting menu/features for 쉬리니케이크, div 1:\n",
            "Error while extracting menu/features for 쉬리니케이크, div 2:\n"
          ]
        },
        {
          "name": "stderr",
          "output_type": "stream",
          "text": [
            " 16%|█▌        | 161/999 [1:02:12<5:07:38, 22.03s/it]"
          ]
        },
        {
          "name": "stdout",
          "output_type": "stream",
          "text": [
            "쉬림프마켓: searchIframe 로드 및 프레임 전환 완료\n",
            "쉬림프마켓: 첫 번째 가게 클릭 후 전환되지 않음. 다음 가게로 진행\n",
            "entryIframe 로드.\n",
            "Error while extracting menu/features for 쉬림프마켓, div 1:\n",
            "Error while extracting menu/features for 쉬림프마켓, div 2:\n"
          ]
        },
        {
          "name": "stderr",
          "output_type": "stream",
          "text": [
            " 16%|█▌        | 162/999 [1:02:40<5:33:50, 23.93s/it]"
          ]
        },
        {
          "name": "stdout",
          "output_type": "stream",
          "text": [
            "쉬림프박스: searchIframe 로드 및 프레임 전환 완료\n",
            "쉬림프박스: 첫 번째 가게 클릭 후 전환되지 않음. 다음 가게로 진행\n",
            "entryIframe 로드.\n",
            "Error while navigating to reviews for 쉬림프박스:\n"
          ]
        },
        {
          "name": "stderr",
          "output_type": "stream",
          "text": [
            " 16%|█▋        | 163/999 [1:03:06<5:41:16, 24.49s/it]"
          ]
        },
        {
          "name": "stdout",
          "output_type": "stream",
          "text": [
            "쉬멍가: searchIframe 로드 및 프레임 전환 완료\n",
            "쉬멍가: entryIframe이 이미 로드됨. 클릭 없이 바로 진행\n",
            "entryIframe 로드.\n",
            "Error while extracting datalab information for 쉬멍가:\n",
            "Error while extracting menu/features for 쉬멍가, div 1:\n",
            "Error while navigating to reviews for 쉬멍가:\n"
          ]
        },
        {
          "name": "stderr",
          "output_type": "stream",
          "text": [
            " 16%|█▋        | 164/999 [1:03:25<5:18:28, 22.88s/it]"
          ]
        },
        {
          "name": "stdout",
          "output_type": "stream",
          "text": [
            "쉬멍해장국중문점: searchIframe 로드 및 프레임 전환 완료\n",
            "쉬멍해장국중문점: entryIframe이 이미 로드됨. 클릭 없이 바로 진행\n",
            "entryIframe 로드.\n",
            "Error while extracting menu/features for 쉬멍해장국중문점, div 1:\n",
            "Error while extracting menu/features for 쉬멍해장국중문점, div 2:\n"
          ]
        },
        {
          "name": "stderr",
          "output_type": "stream",
          "text": [
            " 17%|█▋        | 165/999 [1:03:47<5:12:33, 22.49s/it]"
          ]
        },
        {
          "name": "stdout",
          "output_type": "stream",
          "text": [
            "쉬어갓: searchIframe 로드 및 프레임 전환 완료\n",
            "쉬어갓: entryIframe이 이미 로드됨. 클릭 없이 바로 진행\n",
            "entryIframe 로드.\n",
            "Error while extracting menu/features for 쉬어갓, div 1:\n",
            "Error while extracting menu/features for 쉬어갓, div 2:\n"
          ]
        },
        {
          "name": "stderr",
          "output_type": "stream",
          "text": [
            " 17%|█▋        | 166/999 [1:04:12<5:22:34, 23.23s/it]"
          ]
        },
        {
          "name": "stdout",
          "output_type": "stream",
          "text": [
            "쉬영목: searchIframe 로드 및 프레임 전환 완료\n",
            "쉬영목: 첫 번째 가게 클릭 후 전환되지 않음. 다음 가게로 진행\n",
            "entryIframe 로드.\n",
            "Error while extracting datalab information for 쉬영목:\n",
            "Error while navigating to reviews for 쉬영목:\n"
          ]
        },
        {
          "name": "stderr",
          "output_type": "stream",
          "text": [
            " 17%|█▋        | 167/999 [1:04:38<5:33:12, 24.03s/it]"
          ]
        },
        {
          "name": "stdout",
          "output_type": "stream",
          "text": [
            "쉬크: searchIframe 로드 및 프레임 전환 완료\n",
            "쉬크: 링크버튼을 찾을 수 없음. xpath 대신 다른 방법 시도\n"
          ]
        },
        {
          "name": "stderr",
          "output_type": "stream",
          "text": [
            " 17%|█▋        | 168/999 [1:04:56<5:07:29, 22.20s/it]"
          ]
        },
        {
          "name": "stdout",
          "output_type": "stream",
          "text": [
            "Failed to load iframe after multiple attempts for 쉬크.\n",
            "crawling fatil : 쉬크 to fail_to_crawling\n",
            "쉼그대머물다: searchIframe 로드 및 프레임 전환 완료\n",
            "쉼그대머물다: 첫 번째 가게 클릭 후 전환되지 않음. 다음 가게로 진행\n",
            "entryIframe 로드.\n",
            "Error while extracting menu/features for 쉼그대머물다, div 1:\n",
            "Error while extracting menu/features for 쉼그대머물다, div 2:\n"
          ]
        },
        {
          "name": "stderr",
          "output_type": "stream",
          "text": [
            " 17%|█▋        | 169/999 [1:05:24<5:32:33, 24.04s/it]"
          ]
        },
        {
          "name": "stdout",
          "output_type": "stream",
          "text": [
            "쉼표: searchIframe 로드 및 프레임 전환 완료\n",
            "쉼표: 첫 번째 가게 클릭 후 전환되지 않음. 다음 가게로 진행\n",
            "entryIframe 로드.\n",
            "Error while extracting menu/features for 쉼표, div 1:\n",
            "Error while extracting menu/features for 쉼표, div 2:\n"
          ]
        },
        {
          "name": "stderr",
          "output_type": "stream",
          "text": [
            " 17%|█▋        | 170/999 [1:05:52<5:50:01, 25.33s/it]"
          ]
        },
        {
          "name": "stdout",
          "output_type": "stream",
          "text": [
            "쉼표휴게김밥: searchIframe 로드 및 프레임 전환 완료\n",
            "쉼표휴게김밥: entryIframe이 이미 로드됨. 클릭 없이 바로 진행\n",
            "entryIframe 로드.\n",
            "Error while extracting menu/features for 쉼표휴게김밥, div 1:\n",
            "Error while navigating to reviews for 쉼표휴게김밥:\n"
          ]
        },
        {
          "name": "stderr",
          "output_type": "stream",
          "text": [
            " 17%|█▋        | 171/999 [1:06:13<5:30:00, 23.91s/it]"
          ]
        },
        {
          "name": "stdout",
          "output_type": "stream",
          "text": [
            "슈닛츠: searchIframe 로드 및 프레임 전환 완료\n",
            "Error while clicking first search result for 슈닛츠: Unable to locate list container.\n"
          ]
        },
        {
          "name": "stderr",
          "output_type": "stream",
          "text": [
            " 17%|█▋        | 172/999 [1:06:34<5:16:42, 22.98s/it]"
          ]
        },
        {
          "name": "stdout",
          "output_type": "stream",
          "text": [
            "Failed to load iframe after multiple attempts for 슈닛츠.\n",
            "crawling fatil : 슈닛츠 to fail_to_crawling\n",
            "슈에뜨펍: searchIframe 로드 및 프레임 전환 완료\n",
            "슈에뜨펍: 첫 번째 가게 클릭 후 전환되지 않음. 다음 가게로 진행\n",
            "entryIframe 로드.\n",
            "Error while extracting menu/features for 슈에뜨펍, div 1:\n",
            "Error while extracting menu/features for 슈에뜨펍, div 2:\n"
          ]
        },
        {
          "name": "stderr",
          "output_type": "stream",
          "text": [
            " 17%|█▋        | 173/999 [1:07:02<5:39:34, 24.67s/it]"
          ]
        },
        {
          "name": "stdout",
          "output_type": "stream",
          "text": [
            "슈이치쿠시: searchIframe 로드 및 프레임 전환 완료\n",
            "슈이치쿠시: entryIframe이 이미 로드됨. 클릭 없이 바로 진행\n",
            "entryIframe 로드.\n",
            "Error while extracting menu/features for 슈이치쿠시, div 1:\n",
            "Error while extracting menu/features for 슈이치쿠시, div 2:\n"
          ]
        },
        {
          "name": "stderr",
          "output_type": "stream",
          "text": [
            " 17%|█▋        | 174/999 [1:07:21<5:15:44, 22.96s/it]"
          ]
        },
        {
          "name": "stdout",
          "output_type": "stream",
          "text": [
            "슈퍼보틀: searchIframe 로드 및 프레임 전환 완료\n",
            "슈퍼보틀: 첫 번째 가게 클릭 후 전환되지 않음. 다음 가게로 진행\n",
            "entryIframe 로드.\n",
            "Error while extracting datalab information for 슈퍼보틀:\n",
            "Error while navigating to reviews for 슈퍼보틀:\n"
          ]
        },
        {
          "name": "stderr",
          "output_type": "stream",
          "text": [
            " 18%|█▊        | 175/999 [1:07:49<5:33:53, 24.31s/it]"
          ]
        },
        {
          "name": "stdout",
          "output_type": "stream",
          "text": [
            "스나쿠타카: searchIframe 로드 및 프레임 전환 완료\n",
            "스나쿠타카: entryIframe이 이미 로드됨. 클릭 없이 바로 진행\n",
            "entryIframe 로드.\n",
            "Error while extracting menu/features for 스나쿠타카, div 1:\n",
            "Error while extracting menu/features for 스나쿠타카, div 2:\n"
          ]
        },
        {
          "name": "stderr",
          "output_type": "stream",
          "text": [
            " 18%|█▊        | 176/999 [1:08:10<5:20:41, 23.38s/it]"
          ]
        },
        {
          "name": "stdout",
          "output_type": "stream",
          "text": [
            "스노우폭스제주영어교육도시점: searchIframe 로드 및 프레임 전환 완료\n",
            "스노우폭스제주영어교육도시점: 링크버튼을 찾을 수 없음. xpath 대신 다른 방법 시도\n"
          ]
        },
        {
          "name": "stderr",
          "output_type": "stream",
          "text": [
            " 18%|█▊        | 177/999 [1:08:28<4:57:55, 21.75s/it]"
          ]
        },
        {
          "name": "stdout",
          "output_type": "stream",
          "text": [
            "Failed to load iframe after multiple attempts for 스노우폭스제주영어교육도시점.\n",
            "crawling fatil : 스노우폭스제주영어교육도시점 to fail_to_crawling\n",
            "스누즈: searchIframe 로드 및 프레임 전환 완료\n",
            "스누즈: 첫 번째 가게 클릭 후 전환되지 않음. 다음 가게로 진행\n",
            "entryIframe 로드.\n",
            "Error while extracting menu/features for 스누즈, div 1:\n",
            "Error while extracting menu/features for 스누즈, div 2:\n"
          ]
        },
        {
          "name": "stderr",
          "output_type": "stream",
          "text": [
            " 18%|█▊        | 178/999 [1:08:56<5:22:04, 23.54s/it]"
          ]
        },
        {
          "name": "stdout",
          "output_type": "stream",
          "text": [
            "스누즈(SNOOZE): searchIframe 로드 및 프레임 전환 완료\n",
            "스누즈(SNOOZE): 첫 번째 가게 클릭 후 전환되지 않음. 다음 가게로 진행\n",
            "entryIframe 로드.\n",
            "Error while extracting menu/features for 스누즈(SNOOZE), div 1:\n",
            "Error while extracting menu/features for 스누즈(SNOOZE), div 2:\n"
          ]
        },
        {
          "name": "stderr",
          "output_type": "stream",
          "text": [
            " 18%|█▊        | 179/999 [1:09:24<5:39:43, 24.86s/it]"
          ]
        },
        {
          "name": "stdout",
          "output_type": "stream",
          "text": [
            "스마일러 카페: searchIframe 로드 및 프레임 전환 완료\n",
            "스마일러 카페: entryIframe이 이미 로드됨. 클릭 없이 바로 진행\n",
            "entryIframe 로드.\n"
          ]
        },
        {
          "name": "stderr",
          "output_type": "stream",
          "text": [
            " 18%|█▊        | 180/999 [1:09:45<5:24:36, 23.78s/it]"
          ]
        },
        {
          "name": "stdout",
          "output_type": "stream",
          "text": [
            "스마일식당: searchIframe 로드 및 프레임 전환 완료\n",
            "스마일식당: 첫 번째 가게 클릭 후 전환되지 않음. 다음 가게로 진행\n",
            "entryIframe 로드.\n",
            "Error while extracting menu/features for 스마일식당, div 1:\n",
            "Error while extracting menu/features for 스마일식당, div 2:\n"
          ]
        },
        {
          "name": "stderr",
          "output_type": "stream",
          "text": [
            " 18%|█▊        | 181/999 [1:10:13<5:43:17, 25.18s/it]"
          ]
        },
        {
          "name": "stdout",
          "output_type": "stream",
          "text": [
            "스모크하우스인구억: searchIframe 로드 및 프레임 전환 완료\n",
            "스모크하우스인구억: entryIframe이 이미 로드됨. 클릭 없이 바로 진행\n",
            "entryIframe 로드.\n",
            "Error while extracting menu/features for 스모크하우스인구억, div 1:\n",
            "Error while extracting menu/features for 스모크하우스인구억, div 2:\n"
          ]
        },
        {
          "name": "stderr",
          "output_type": "stream",
          "text": [
            " 18%|█▊        | 182/999 [1:10:35<5:26:46, 24.00s/it]"
          ]
        },
        {
          "name": "stdout",
          "output_type": "stream",
          "text": [
            "스모프치킨 고산점: searchIframe 로드 및 프레임 전환 완료\n",
            "스모프치킨 고산점: entryIframe이 이미 로드됨. 클릭 없이 바로 진행\n",
            "entryIframe 로드.\n",
            "Error while extracting menu/features for 스모프치킨 고산점, div 1:\n",
            "Error while extracting menu/features for 스모프치킨 고산점, div 2:\n"
          ]
        },
        {
          "name": "stderr",
          "output_type": "stream",
          "text": [
            " 18%|█▊        | 183/999 [1:10:56<5:14:05, 23.10s/it]"
          ]
        },
        {
          "name": "stdout",
          "output_type": "stream",
          "text": [
            "스무: searchIframe 로드 및 프레임 전환 완료\n",
            "스무: 첫 번째 가게 클릭 후 전환되지 않음. 다음 가게로 진행\n",
            "entryIframe 로드.\n",
            "Error while extracting datalab information for 스무:\n",
            "Error while navigating to reviews for 스무:\n"
          ]
        },
        {
          "name": "stderr",
          "output_type": "stream",
          "text": [
            " 18%|█▊        | 184/999 [1:11:20<5:17:14, 23.36s/it]"
          ]
        },
        {
          "name": "stdout",
          "output_type": "stream",
          "text": [
            "이미지 추출 오류 7 for 스무 \n",
            "이미지 추출 오류 8 for 스무 \n",
            "이미지 추출 오류 9 for 스무 \n",
            "이미지 추출 오류 10 for 스무 \n",
            "스미다: searchIframe 로드 및 프레임 전환 완료\n",
            "스미다: 링크버튼을 찾을 수 없음. xpath 대신 다른 방법 시도\n"
          ]
        },
        {
          "name": "stderr",
          "output_type": "stream",
          "text": [
            " 19%|█▊        | 185/999 [1:11:38<4:55:52, 21.81s/it]"
          ]
        },
        {
          "name": "stdout",
          "output_type": "stream",
          "text": [
            "Failed to load iframe after multiple attempts for 스미다.\n",
            "crawling fatil : 스미다 to fail_to_crawling\n",
            "스시권: searchIframe 로드 및 프레임 전환 완료\n",
            "스시권: entryIframe이 이미 로드됨. 클릭 없이 바로 진행\n",
            "entryIframe 로드.\n",
            "Error while extracting menu/features for 스시권, div 1:\n",
            "Error while extracting menu/features for 스시권, div 2:\n"
          ]
        },
        {
          "name": "stderr",
          "output_type": "stream",
          "text": [
            " 19%|█▊        | 186/999 [1:12:00<4:55:31, 21.81s/it]"
          ]
        },
        {
          "name": "stdout",
          "output_type": "stream",
          "text": [
            "스시나미: searchIframe 로드 및 프레임 전환 완료\n",
            "스시나미: 첫 번째 가게 클릭 후 전환되지 않음. 다음 가게로 진행\n",
            "entryIframe 로드.\n",
            "Error while extracting menu/features for 스시나미, div 1:\n",
            "Error while extracting menu/features for 스시나미, div 2:\n"
          ]
        },
        {
          "name": "stderr",
          "output_type": "stream",
          "text": [
            " 19%|█▊        | 187/999 [1:12:26<5:14:07, 23.21s/it]"
          ]
        },
        {
          "name": "stdout",
          "output_type": "stream",
          "text": [
            "스시노찌: searchIframe 로드 및 프레임 전환 완료\n",
            "스시노찌: entryIframe이 이미 로드됨. 클릭 없이 바로 진행\n",
            "entryIframe 로드.\n",
            "Error while extracting menu/features for 스시노찌, div 1:\n",
            "Error while extracting menu/features for 스시노찌, div 2:\n"
          ]
        },
        {
          "name": "stderr",
          "output_type": "stream",
          "text": [
            " 19%|█▉        | 188/999 [1:12:48<5:07:32, 22.75s/it]"
          ]
        },
        {
          "name": "stdout",
          "output_type": "stream",
          "text": [
            "스시도모다찌: searchIframe 로드 및 프레임 전환 완료\n",
            "스시도모다찌: 첫 번째 가게 클릭 후 전환되지 않음. 다음 가게로 진행\n",
            "entryIframe 로드.\n",
            "Error while extracting menu/features for 스시도모다찌, div 1:\n",
            "Error while extracting menu/features for 스시도모다찌, div 2:\n"
          ]
        },
        {
          "name": "stderr",
          "output_type": "stream",
          "text": [
            " 19%|█▉        | 189/999 [1:13:16<5:28:58, 24.37s/it]"
          ]
        },
        {
          "name": "stdout",
          "output_type": "stream",
          "text": [
            "스시도모다찌 제주점: searchIframe 로드 및 프레임 전환 완료\n",
            "스시도모다찌 제주점: entryIframe이 이미 로드됨. 클릭 없이 바로 진행\n",
            "entryIframe 로드.\n",
            "Error while extracting menu/features for 스시도모다찌 제주점, div 1:\n",
            "Error while extracting menu/features for 스시도모다찌 제주점, div 2:\n"
          ]
        },
        {
          "name": "stderr",
          "output_type": "stream",
          "text": [
            " 19%|█▉        | 190/999 [1:13:37<5:16:59, 23.51s/it]"
          ]
        },
        {
          "name": "stdout",
          "output_type": "stream",
          "text": [
            "스시도모다찌 칠성점: searchIframe 로드 및 프레임 전환 완료\n",
            "스시도모다찌 칠성점: entryIframe이 이미 로드됨. 클릭 없이 바로 진행\n",
            "entryIframe 로드.\n",
            "Error while extracting menu/features for 스시도모다찌 칠성점, div 1:\n",
            "Error while extracting menu/features for 스시도모다찌 칠성점, div 2:\n"
          ]
        },
        {
          "name": "stderr",
          "output_type": "stream",
          "text": [
            " 19%|█▉        | 191/999 [1:13:59<5:08:32, 22.91s/it]"
          ]
        },
        {
          "name": "stdout",
          "output_type": "stream",
          "text": [
            "스시도모다찌칠성점: searchIframe 로드 및 프레임 전환 완료\n",
            "스시도모다찌칠성점: entryIframe이 이미 로드됨. 클릭 없이 바로 진행\n",
            "entryIframe 로드.\n",
            "Error while extracting menu/features for 스시도모다찌칠성점, div 1:\n",
            "Error while extracting menu/features for 스시도모다찌칠성점, div 2:\n"
          ]
        },
        {
          "name": "stderr",
          "output_type": "stream",
          "text": [
            " 19%|█▉        | 192/999 [1:14:18<4:54:26, 21.89s/it]"
          ]
        },
        {
          "name": "stdout",
          "output_type": "stream",
          "text": [
            "스시렌: searchIframe 로드 및 프레임 전환 완료\n",
            "스시렌: entryIframe이 이미 로드됨. 클릭 없이 바로 진행\n",
            "entryIframe 로드.\n",
            "Error while extracting menu/features for 스시렌, div 1:\n",
            "Error while extracting menu/features for 스시렌, div 2:\n"
          ]
        },
        {
          "name": "stderr",
          "output_type": "stream",
          "text": [
            " 19%|█▉        | 193/999 [1:14:40<4:52:32, 21.78s/it]"
          ]
        },
        {
          "name": "stdout",
          "output_type": "stream",
          "text": [
            "스시마씸 월정점: searchIframe 로드 및 프레임 전환 완료\n",
            "Error while clicking first search result for 스시마씸 월정점: Unable to locate list container.\n"
          ]
        },
        {
          "name": "stderr",
          "output_type": "stream",
          "text": [
            " 19%|█▉        | 194/999 [1:15:01<4:50:06, 21.62s/it]"
          ]
        },
        {
          "name": "stdout",
          "output_type": "stream",
          "text": [
            "Failed to load iframe after multiple attempts for 스시마씸 월정점.\n",
            "crawling fatil : 스시마씸 월정점 to fail_to_crawling\n",
            "스시마타네: searchIframe 로드 및 프레임 전환 완료\n",
            "스시마타네: entryIframe이 이미 로드됨. 클릭 없이 바로 진행\n",
            "entryIframe 로드.\n",
            "Error while extracting menu/features for 스시마타네, div 1:\n",
            "Error while extracting menu/features for 스시마타네, div 2:\n"
          ]
        },
        {
          "name": "stderr",
          "output_type": "stream",
          "text": [
            " 20%|█▉        | 195/999 [1:15:23<4:51:09, 21.73s/it]"
          ]
        },
        {
          "name": "stdout",
          "output_type": "stream",
          "text": [
            "스시망고: searchIframe 로드 및 프레임 전환 완료\n",
            "스시망고: entryIframe이 이미 로드됨. 클릭 없이 바로 진행\n",
            "entryIframe 로드.\n",
            "Error while extracting menu/features for 스시망고, div 1:\n",
            "Error while extracting menu/features for 스시망고, div 2:\n"
          ]
        },
        {
          "name": "stderr",
          "output_type": "stream",
          "text": [
            " 20%|█▉        | 196/999 [1:15:44<4:49:10, 21.61s/it]"
          ]
        },
        {
          "name": "stdout",
          "output_type": "stream",
          "text": [
            "스시성: searchIframe 로드 및 프레임 전환 완료\n",
            "스시성: 첫 번째 가게 클릭 후 전환되지 않음. 다음 가게로 진행\n",
            "entryIframe 로드.\n",
            "Error while extracting menu/features for 스시성, div 1:\n",
            "Error while extracting menu/features for 스시성, div 2:\n"
          ]
        },
        {
          "name": "stderr",
          "output_type": "stream",
          "text": [
            " 20%|█▉        | 197/999 [1:16:13<5:14:52, 23.56s/it]"
          ]
        },
        {
          "name": "stdout",
          "output_type": "stream",
          "text": [
            "스시아카라(shusi akari): searchIframe 로드 및 프레임 전환 완료\n",
            "Error while clicking first search result for 스시아카라(shusi akari): Unable to locate list container.\n"
          ]
        },
        {
          "name": "stderr",
          "output_type": "stream",
          "text": [
            " 20%|█▉        | 198/999 [1:16:34<5:05:28, 22.88s/it]"
          ]
        },
        {
          "name": "stdout",
          "output_type": "stream",
          "text": [
            "Failed to load iframe after multiple attempts for 스시아카라(shusi akari).\n",
            "crawling fatil : 스시아카라(shusi akari) to fail_to_crawling\n",
            "스시애월: searchIframe 로드 및 프레임 전환 완료\n",
            "스시애월: 첫 번째 가게 클릭 후 전환되지 않음. 다음 가게로 진행\n",
            "entryIframe 로드.\n",
            "Error while extracting menu/features for 스시애월, div 1:\n",
            "Error while extracting menu/features for 스시애월, div 2:\n"
          ]
        },
        {
          "name": "stderr",
          "output_type": "stream",
          "text": [
            " 20%|█▉        | 199/999 [1:17:02<5:27:27, 24.56s/it]"
          ]
        },
        {
          "name": "stdout",
          "output_type": "stream",
          "text": [
            "스시앤: searchIframe 로드 및 프레임 전환 완료\n",
            "스시앤: 링크버튼을 찾을 수 없음. xpath 대신 다른 방법 시도\n"
          ]
        },
        {
          "name": "stderr",
          "output_type": "stream",
          "text": [
            " 20%|██        | 200/999 [1:17:20<4:59:10, 22.47s/it]"
          ]
        },
        {
          "name": "stdout",
          "output_type": "stream",
          "text": [
            "Failed to load iframe after multiple attempts for 스시앤.\n",
            "crawling fatil : 스시앤 to fail_to_crawling\n",
            "스시앤정: searchIframe 로드 및 프레임 전환 완료\n",
            "스시앤정: entryIframe이 이미 로드됨. 클릭 없이 바로 진행\n",
            "entryIframe 로드.\n",
            "Error while extracting menu/features for 스시앤정, div 1:\n",
            "Error while extracting menu/features for 스시앤정, div 2:\n"
          ]
        },
        {
          "name": "stderr",
          "output_type": "stream",
          "text": [
            " 20%|██        | 201/999 [1:17:43<5:01:24, 22.66s/it]"
          ]
        },
        {
          "name": "stdout",
          "output_type": "stream",
          "text": [
            "이미지 추출 오류 4 for 스시앤정 \n",
            "이미지 추출 오류 5 for 스시앤정 \n",
            "이미지 추출 오류 6 for 스시앤정 \n",
            "이미지 추출 오류 7 for 스시앤정 \n",
            "이미지 추출 오류 8 for 스시앤정 \n",
            "이미지 추출 오류 9 for 스시앤정 \n",
            "이미지 추출 오류 10 for 스시앤정 \n",
            "스시오타루: searchIframe 로드 및 프레임 전환 완료\n",
            "스시오타루: 링크버튼을 찾을 수 없음. xpath 대신 다른 방법 시도\n"
          ]
        },
        {
          "name": "stderr",
          "output_type": "stream",
          "text": [
            " 20%|██        | 202/999 [1:18:01<4:42:09, 21.24s/it]"
          ]
        },
        {
          "name": "stdout",
          "output_type": "stream",
          "text": [
            "Failed to load iframe after multiple attempts for 스시오타루.\n",
            "crawling fatil : 스시오타루 to fail_to_crawling\n",
            "스시우다: searchIframe 로드 및 프레임 전환 완료\n",
            "스시우다: entryIframe이 이미 로드됨. 클릭 없이 바로 진행\n",
            "entryIframe 로드.\n",
            "Error while extracting menu/features for 스시우다, div 1:\n",
            "Error while extracting menu/features for 스시우다, div 2:\n"
          ]
        },
        {
          "name": "stderr",
          "output_type": "stream",
          "text": [
            " 20%|██        | 203/999 [1:18:23<4:43:56, 21.40s/it]"
          ]
        },
        {
          "name": "stdout",
          "output_type": "stream",
          "text": [
            "스시제주: searchIframe 로드 및 프레임 전환 완료\n",
            "스시제주: 링크버튼을 찾을 수 없음. xpath 대신 다른 방법 시도\n"
          ]
        },
        {
          "name": "stderr",
          "output_type": "stream",
          "text": [
            " 20%|██        | 204/999 [1:18:43<4:37:59, 20.98s/it]"
          ]
        },
        {
          "name": "stdout",
          "output_type": "stream",
          "text": [
            "Failed to load iframe after multiple attempts for 스시제주.\n",
            "crawling fatil : 스시제주 to fail_to_crawling\n",
            "스시코쿠라: searchIframe 로드 및 프레임 전환 완료\n",
            "스시코쿠라: entryIframe이 이미 로드됨. 클릭 없이 바로 진행\n",
            "entryIframe 로드.\n",
            "Error while extracting menu/features for 스시코쿠라, div 1:\n",
            "Error while extracting menu/features for 스시코쿠라, div 2:\n"
          ]
        },
        {
          "name": "stderr",
          "output_type": "stream",
          "text": [
            " 21%|██        | 205/999 [1:19:04<4:38:20, 21.03s/it]"
          ]
        },
        {
          "name": "stdout",
          "output_type": "stream",
          "text": [
            "스시크레: searchIframe 로드 및 프레임 전환 완료\n",
            "스시크레: entryIframe이 이미 로드됨. 클릭 없이 바로 진행\n",
            "entryIframe 로드.\n",
            "Error while extracting menu/features for 스시크레, div 1:\n",
            "Error while extracting menu/features for 스시크레, div 2:\n"
          ]
        },
        {
          "name": "stderr",
          "output_type": "stream",
          "text": [
            " 21%|██        | 206/999 [1:19:25<4:39:42, 21.16s/it]"
          ]
        },
        {
          "name": "stdout",
          "output_type": "stream",
          "text": [
            "스시테이카이센동: searchIframe 로드 및 프레임 전환 완료\n",
            "Error while clicking first search result for 스시테이카이센동: Unable to locate list container.\n"
          ]
        },
        {
          "name": "stderr",
          "output_type": "stream",
          "text": [
            " 21%|██        | 207/999 [1:19:46<4:38:00, 21.06s/it]"
          ]
        },
        {
          "name": "stdout",
          "output_type": "stream",
          "text": [
            "Failed to load iframe after multiple attempts for 스시테이카이센동.\n",
            "crawling fatil : 스시테이카이센동 to fail_to_crawling\n",
            "스시한점오마카세: searchIframe 로드 및 프레임 전환 완료\n",
            "Error while clicking first search result for 스시한점오마카세: Unable to locate list container.\n"
          ]
        },
        {
          "name": "stderr",
          "output_type": "stream",
          "text": [
            " 21%|██        | 208/999 [1:20:07<4:36:58, 21.01s/it]"
          ]
        },
        {
          "name": "stdout",
          "output_type": "stream",
          "text": [
            "Failed to load iframe after multiple attempts for 스시한점오마카세.\n",
            "crawling fatil : 스시한점오마카세 to fail_to_crawling\n",
            "스시호시카이: searchIframe 로드 및 프레임 전환 완료\n",
            "스시호시카이: entryIframe이 이미 로드됨. 클릭 없이 바로 진행\n",
            "entryIframe 로드.\n",
            "Error while extracting menu/features for 스시호시카이, div 1:\n",
            "Error while extracting menu/features for 스시호시카이, div 2:\n"
          ]
        },
        {
          "name": "stderr",
          "output_type": "stream",
          "text": [
            " 21%|██        | 209/999 [1:20:28<4:37:02, 21.04s/it]"
          ]
        },
        {
          "name": "stdout",
          "output_type": "stream",
          "text": [
            " 사진 버튼 없음 : 스시호시카이.\n",
            "스시혼: searchIframe 로드 및 프레임 전환 완료\n",
            "스시혼: 첫 번째 가게 클릭 후 전환되지 않음. 다음 가게로 진행\n",
            "entryIframe 로드.\n",
            "Error while extracting menu/features for 스시혼, div 1:\n",
            "Error while extracting menu/features for 스시혼, div 2:\n"
          ]
        },
        {
          "name": "stderr",
          "output_type": "stream",
          "text": [
            " 21%|██        | 210/999 [1:20:54<4:55:56, 22.51s/it]"
          ]
        },
        {
          "name": "stdout",
          "output_type": "stream",
          "text": [
            "스시회관: searchIframe 로드 및 프레임 전환 완료\n",
            "스시회관: 첫 번째 가게 클릭 후 전환되지 않음. 다음 가게로 진행\n",
            "entryIframe 로드.\n",
            "Error while extracting menu/features for 스시회관, div 1:\n",
            "Error while extracting menu/features for 스시회관, div 2:\n"
          ]
        },
        {
          "name": "stderr",
          "output_type": "stream",
          "text": [
            " 21%|██        | 211/999 [1:21:22<5:17:53, 24.21s/it]"
          ]
        },
        {
          "name": "stdout",
          "output_type": "stream",
          "text": [
            "스와니호프: searchIframe 로드 및 프레임 전환 완료\n",
            "스와니호프: entryIframe이 이미 로드됨. 클릭 없이 바로 진행\n",
            "entryIframe 로드.\n",
            "Error while extracting menu/features for 스와니호프, div 1:\n",
            "Error while extracting menu/features for 스와니호프, div 2:\n"
          ]
        },
        {
          "name": "stderr",
          "output_type": "stream",
          "text": [
            " 21%|██        | 212/999 [1:21:43<5:04:55, 23.25s/it]"
          ]
        },
        {
          "name": "stdout",
          "output_type": "stream",
          "text": [
            "이미지 추출 오류 9 for 스와니호프 \n",
            "이미지 추출 오류 10 for 스와니호프 \n",
            "스위스마을117동 다온: searchIframe 로드 및 프레임 전환 완료\n",
            "Error while clicking first search result for 스위스마을117동 다온: Unable to locate list container.\n"
          ]
        },
        {
          "name": "stderr",
          "output_type": "stream",
          "text": [
            " 21%|██▏       | 213/999 [1:22:04<4:55:30, 22.56s/it]"
          ]
        },
        {
          "name": "stdout",
          "output_type": "stream",
          "text": [
            "Failed to load iframe after multiple attempts for 스위스마을117동 다온.\n",
            "crawling fatil : 스위스마을117동 다온 to fail_to_crawling\n",
            "스위츠커피바: searchIframe 로드 및 프레임 전환 완료\n",
            "Error while clicking first search result for 스위츠커피바: Unable to locate list container.\n"
          ]
        },
        {
          "name": "stderr",
          "output_type": "stream",
          "text": [
            " 21%|██▏       | 214/999 [1:22:25<4:48:16, 22.03s/it]"
          ]
        },
        {
          "name": "stdout",
          "output_type": "stream",
          "text": [
            "Failed to load iframe after multiple attempts for 스위츠커피바.\n",
            "crawling fatil : 스위츠커피바 to fail_to_crawling\n",
            "스카이 온 파이브 다이닝: searchIframe 로드 및 프레임 전환 완료\n",
            "스카이 온 파이브 다이닝: entryIframe이 이미 로드됨. 클릭 없이 바로 진행\n",
            "entryIframe 로드.\n",
            "Error while extracting menu/features for 스카이 온 파이브 다이닝, div 1:\n",
            "Error while extracting menu/features for 스카이 온 파이브 다이닝, div 2:\n"
          ]
        },
        {
          "name": "stderr",
          "output_type": "stream",
          "text": [
            " 22%|██▏       | 215/999 [1:22:46<4:44:30, 21.77s/it]"
          ]
        },
        {
          "name": "stdout",
          "output_type": "stream",
          "text": [
            " 사진 버튼 없음 : 스카이 온 파이브 다이닝.\n",
            "스카이마트: searchIframe 로드 및 프레임 전환 완료\n",
            "스카이마트: 링크버튼을 찾을 수 없음. xpath 대신 다른 방법 시도\n"
          ]
        },
        {
          "name": "stderr",
          "output_type": "stream",
          "text": [
            " 22%|██▏       | 216/999 [1:23:04<4:29:16, 20.63s/it]"
          ]
        },
        {
          "name": "stdout",
          "output_type": "stream",
          "text": [
            "Failed to load iframe after multiple attempts for 스카이마트.\n",
            "crawling fatil : 스카이마트 to fail_to_crawling\n",
            "스카이바: searchIframe 로드 및 프레임 전환 완료\n",
            "스카이바: 첫 번째 가게 클릭 후 전환되지 않음. 다음 가게로 진행\n",
            "entryIframe 로드.\n",
            "Error while extracting menu/features for 스카이바, div 1:\n",
            "Error while extracting menu/features for 스카이바, div 2:\n"
          ]
        },
        {
          "name": "stderr",
          "output_type": "stream",
          "text": [
            " 22%|██▏       | 217/999 [1:23:34<5:05:34, 23.45s/it]"
          ]
        },
        {
          "name": "stdout",
          "output_type": "stream",
          "text": [
            "스콘가게 끌림: searchIframe 로드 및 프레임 전환 완료\n",
            "스콘가게 끌림: entryIframe이 이미 로드됨. 클릭 없이 바로 진행\n",
            "entryIframe 로드.\n",
            "Error while extracting menu/features for 스콘가게 끌림, div 1:\n",
            "Error while extracting menu/features for 스콘가게 끌림, div 2:\n"
          ]
        },
        {
          "name": "stderr",
          "output_type": "stream",
          "text": [
            " 22%|██▏       | 218/999 [1:24:00<5:12:27, 24.00s/it]"
          ]
        },
        {
          "name": "stdout",
          "output_type": "stream",
          "text": [
            "스콘가게끌림: searchIframe 로드 및 프레임 전환 완료\n",
            "스콘가게끌림: entryIframe이 이미 로드됨. 클릭 없이 바로 진행\n",
            "entryIframe 로드.\n",
            "Error while extracting menu/features for 스콘가게끌림, div 1:\n",
            "Error while extracting menu/features for 스콘가게끌림, div 2:\n"
          ]
        },
        {
          "name": "stderr",
          "output_type": "stream",
          "text": [
            " 22%|██▏       | 219/999 [1:24:25<5:17:32, 24.43s/it]"
          ]
        },
        {
          "name": "stdout",
          "output_type": "stream",
          "text": [
            "스쿠버스: searchIframe 로드 및 프레임 전환 완료\n",
            "스쿠버스: entryIframe이 이미 로드됨. 클릭 없이 바로 진행\n",
            "entryIframe 로드.\n",
            "Error while extracting menu/features for 스쿠버스, div 1:\n",
            "Error while extracting menu/features for 스쿠버스, div 2:\n"
          ]
        },
        {
          "name": "stderr",
          "output_type": "stream",
          "text": [
            " 22%|██▏       | 220/999 [1:24:40<4:41:00, 21.64s/it]"
          ]
        },
        {
          "name": "stdout",
          "output_type": "stream",
          "text": [
            " 사진 버튼 없음 : 스쿠버스.\n",
            "스크루지펍2: searchIframe 로드 및 프레임 전환 완료\n",
            "스크루지펍2: entryIframe이 이미 로드됨. 클릭 없이 바로 진행\n",
            "entryIframe 로드.\n",
            "Error while extracting menu/features for 스크루지펍2, div 1:\n",
            "Error while extracting menu/features for 스크루지펍2, div 2:\n"
          ]
        },
        {
          "name": "stderr",
          "output_type": "stream",
          "text": [
            " 22%|██▏       | 221/999 [1:25:01<4:37:35, 21.41s/it]"
          ]
        },
        {
          "name": "stdout",
          "output_type": "stream",
          "text": [
            "스크류쿨제원점: searchIframe 로드 및 프레임 전환 완료\n",
            "스크류쿨제원점: entryIframe이 이미 로드됨. 클릭 없이 바로 진행\n",
            "entryIframe 로드.\n",
            "Error while extracting datalab information for 스크류쿨제원점:\n",
            "Error while navigating to reviews for 스크류쿨제원점:\n"
          ]
        },
        {
          "name": "stderr",
          "output_type": "stream",
          "text": [
            " 22%|██▏       | 222/999 [1:25:22<4:34:00, 21.16s/it]"
          ]
        },
        {
          "name": "stdout",
          "output_type": "stream",
          "text": [
            "이미지 추출 오류 6 for 스크류쿨제원점 \n",
            "이미지 추출 오류 7 for 스크류쿨제원점 \n",
            "이미지 추출 오류 8 for 스크류쿨제원점 \n",
            "이미지 추출 오류 9 for 스크류쿨제원점 \n",
            "이미지 추출 오류 10 for 스크류쿨제원점 \n",
            "스타월드푸드: searchIframe 로드 및 프레임 전환 완료\n",
            "스타월드푸드: 첫 번째 가게 클릭 후 전환되지 않음. 다음 가게로 진행\n",
            "entryIframe 로드.\n",
            "Error while extracting menu/features for 스타월드푸드, div 1:\n",
            "Error while extracting menu/features for 스타월드푸드, div 2:\n"
          ]
        },
        {
          "name": "stderr",
          "output_type": "stream",
          "text": [
            " 22%|██▏       | 223/999 [1:25:50<5:00:26, 23.23s/it]"
          ]
        },
        {
          "name": "stdout",
          "output_type": "stream",
          "text": [
            "스터딩키친열공부엌: searchIframe 로드 및 프레임 전환 완료\n",
            "Error while clicking first search result for 스터딩키친열공부엌: Unable to locate list container.\n"
          ]
        },
        {
          "name": "stderr",
          "output_type": "stream",
          "text": [
            " 22%|██▏       | 224/999 [1:26:11<4:51:49, 22.59s/it]"
          ]
        },
        {
          "name": "stdout",
          "output_type": "stream",
          "text": [
            "Failed to load iframe after multiple attempts for 스터딩키친열공부엌.\n",
            "crawling fatil : 스터딩키친열공부엌 to fail_to_crawling\n",
            "스테이위드커피: searchIframe 로드 및 프레임 전환 완료\n",
            "스테이위드커피: entryIframe이 이미 로드됨. 클릭 없이 바로 진행\n",
            "entryIframe 로드.\n",
            "Error while extracting menu/features for 스테이위드커피, div 1:\n"
          ]
        },
        {
          "name": "stderr",
          "output_type": "stream",
          "text": [
            " 23%|██▎       | 225/999 [1:26:32<4:44:34, 22.06s/it]"
          ]
        },
        {
          "name": "stdout",
          "output_type": "stream",
          "text": [
            "Error while extracting menu/features for 스테이위드커피, div 2:\n",
            " 사진 버튼 없음 : 스테이위드커피.\n",
            "스테이위드커피 주식회사: searchIframe 로드 및 프레임 전환 완료\n",
            "Error while clicking first search result for 스테이위드커피 주식회사: Unable to locate list container.\n"
          ]
        },
        {
          "name": "stderr",
          "output_type": "stream",
          "text": [
            " 23%|██▎       | 226/999 [1:26:52<4:39:18, 21.68s/it]"
          ]
        },
        {
          "name": "stdout",
          "output_type": "stream",
          "text": [
            "Failed to load iframe after multiple attempts for 스테이위드커피 주식회사.\n",
            "crawling fatil : 스테이위드커피 주식회사 to fail_to_crawling\n",
            "스테이지 버거: searchIframe 로드 및 프레임 전환 완료\n",
            "스테이지 버거: 첫 번째 가게 클릭 후 전환되지 않음. 다음 가게로 진행\n",
            "entryIframe 로드.\n",
            "Error while extracting menu/features for 스테이지 버거, div 1:\n",
            "Error while extracting menu/features for 스테이지 버거, div 2:\n"
          ]
        },
        {
          "name": "stderr",
          "output_type": "stream",
          "text": [
            " 23%|██▎       | 227/999 [1:27:25<5:19:43, 24.85s/it]"
          ]
        },
        {
          "name": "stdout",
          "output_type": "stream",
          "text": [
            "스테이지하우스 제주카이트서핑: searchIframe 로드 및 프레임 전환 완료\n",
            "스테이지하우스 제주카이트서핑: entryIframe이 이미 로드됨. 클릭 없이 바로 진행\n",
            "entryIframe 로드.\n",
            "Error while extracting menu/features for 스테이지하우스 제주카이트서핑, div 1:\n",
            "Error while navigating to reviews for 스테이지하우스 제주카이트서핑:\n"
          ]
        },
        {
          "name": "stderr",
          "output_type": "stream",
          "text": [
            " 23%|██▎       | 228/999 [1:27:43<4:56:17, 23.06s/it]"
          ]
        },
        {
          "name": "stdout",
          "output_type": "stream",
          "text": [
            "스테이크 하우스: searchIframe 로드 및 프레임 전환 완료\n",
            "스테이크 하우스: 첫 번째 가게 클릭 후 전환되지 않음. 다음 가게로 진행\n",
            "entryIframe 로드.\n",
            "Error while extracting menu/features for 스테이크 하우스, div 1:\n",
            "Error while extracting menu/features for 스테이크 하우스, div 2:\n"
          ]
        },
        {
          "name": "stderr",
          "output_type": "stream",
          "text": [
            " 23%|██▎       | 229/999 [1:28:12<5:17:48, 24.76s/it]"
          ]
        },
        {
          "name": "stdout",
          "output_type": "stream",
          "text": [
            "스텔라떡볶이제주아라점: searchIframe 로드 및 프레임 전환 완료\n",
            "스텔라떡볶이제주아라점: entryIframe이 이미 로드됨. 클릭 없이 바로 진행\n",
            "entryIframe 로드.\n",
            "Error while extracting menu/features for 스텔라떡볶이제주아라점, div 1:\n",
            "Error while extracting menu/features for 스텔라떡볶이제주아라점, div 2:\n"
          ]
        },
        {
          "name": "stderr",
          "output_type": "stream",
          "text": [
            " 23%|██▎       | 230/999 [1:28:31<4:56:10, 23.11s/it]"
          ]
        },
        {
          "name": "stdout",
          "output_type": "stream",
          "text": [
            "스텔라제주: searchIframe 로드 및 프레임 전환 완료\n",
            "스텔라제주: 첫 번째 가게 클릭 후 전환되지 않음. 다음 가게로 진행\n",
            "entryIframe 로드.\n",
            "Error while extracting menu/features for 스텔라제주, div 1:\n",
            "Error while extracting menu/features for 스텔라제주, div 2:\n"
          ]
        },
        {
          "name": "stderr",
          "output_type": "stream",
          "text": [
            " 23%|██▎       | 231/999 [1:28:59<5:13:29, 24.49s/it]"
          ]
        },
        {
          "name": "stdout",
          "output_type": "stream",
          "text": [
            "스토브온 제주: searchIframe 로드 및 프레임 전환 완료\n",
            "스토브온 제주: 첫 번째 가게 클릭 후 전환되지 않음. 다음 가게로 진행\n",
            "entryIframe 로드.\n",
            "Error while extracting menu/features for 스토브온 제주, div 1:\n"
          ]
        },
        {
          "name": "stderr",
          "output_type": "stream",
          "text": [
            " 23%|██▎       | 232/999 [1:29:27<5:27:19, 25.61s/it]"
          ]
        },
        {
          "name": "stdout",
          "output_type": "stream",
          "text": [
            "Error while extracting menu/features for 스토브온 제주, div 2:\n",
            " 사진 버튼 없음 : 스토브온 제주.\n",
            "스톤: searchIframe 로드 및 프레임 전환 완료\n",
            "스톤: 첫 번째 가게 클릭 후 전환되지 않음. 다음 가게로 진행\n",
            "entryIframe 로드.\n",
            "Error while extracting menu/features for 스톤, div 1:\n"
          ]
        },
        {
          "name": "stderr",
          "output_type": "stream",
          "text": [
            " 23%|██▎       | 233/999 [1:29:51<5:21:09, 25.16s/it]"
          ]
        },
        {
          "name": "stdout",
          "output_type": "stream",
          "text": [
            "Error while extracting menu/features for 스톤, div 2:\n",
            " 사진 버튼 없음 : 스톤.\n",
            "스틸: searchIframe 로드 및 프레임 전환 완료\n",
            "스틸: 링크버튼을 찾을 수 없음. xpath 대신 다른 방법 시도\n"
          ]
        },
        {
          "name": "stderr",
          "output_type": "stream",
          "text": [
            " 23%|██▎       | 234/999 [1:30:10<4:53:34, 23.03s/it]"
          ]
        },
        {
          "name": "stdout",
          "output_type": "stream",
          "text": [
            "Failed to load iframe after multiple attempts for 스틸.\n",
            "crawling fatil : 스틸 to fail_to_crawling\n",
            "스팅그레이: searchIframe 로드 및 프레임 전환 완료\n",
            "스팅그레이: entryIframe이 이미 로드됨. 클릭 없이 바로 진행\n",
            "entryIframe 로드.\n",
            "Error while extracting menu/features for 스팅그레이, div 1:\n",
            "Error while extracting menu/features for 스팅그레이, div 2:\n"
          ]
        },
        {
          "name": "stderr",
          "output_type": "stream",
          "text": [
            " 24%|██▎       | 235/999 [1:30:31<4:46:28, 22.50s/it]"
          ]
        },
        {
          "name": "stdout",
          "output_type": "stream",
          "text": [
            "스팟: searchIframe 로드 및 프레임 전환 완료\n",
            "스팟: 첫 번째 가게 클릭 후 전환되지 않음. 다음 가게로 진행\n",
            "entryIframe 로드.\n",
            "Error while extracting menu/features for 스팟, div 1:\n",
            "Error while extracting menu/features for 스팟, div 2:\n"
          ]
        },
        {
          "name": "stderr",
          "output_type": "stream",
          "text": [
            " 24%|██▎       | 236/999 [1:30:59<5:09:51, 24.37s/it]"
          ]
        },
        {
          "name": "stdout",
          "output_type": "stream",
          "text": [
            "스페샬삼도점: searchIframe 로드 및 프레임 전환 완료\n",
            "스페샬삼도점: entryIframe이 이미 로드됨. 클릭 없이 바로 진행\n",
            "entryIframe 로드.\n",
            "Error while extracting datalab information for 스페샬삼도점:\n",
            "Error while extracting menu/features for 스페샬삼도점, div 1:\n",
            "Error while navigating to reviews for 스페샬삼도점:\n"
          ]
        },
        {
          "name": "stderr",
          "output_type": "stream",
          "text": [
            " 24%|██▎       | 237/999 [1:31:22<5:03:21, 23.89s/it]"
          ]
        },
        {
          "name": "stdout",
          "output_type": "stream",
          "text": [
            "이미지 추출 오류 1 for 스페샬삼도점 \n",
            "이미지 추출 오류 2 for 스페샬삼도점 \n",
            "이미지 추출 오류 3 for 스페샬삼도점 \n",
            "이미지 추출 오류 4 for 스페샬삼도점 \n",
            "이미지 추출 오류 5 for 스페샬삼도점 \n",
            "이미지 추출 오류 6 for 스페샬삼도점 \n",
            "이미지 추출 오류 7 for 스페샬삼도점 \n",
            "이미지 추출 오류 8 for 스페샬삼도점 \n",
            "이미지 추출 오류 9 for 스페샬삼도점 \n",
            "이미지 추출 오류 10 for 스페샬삼도점 \n",
            "스페샬한라점: searchIframe 로드 및 프레임 전환 완료\n",
            "스페샬한라점: entryIframe이 이미 로드됨. 클릭 없이 바로 진행\n",
            "entryIframe 로드.\n",
            "Error while extracting datalab information for 스페샬한라점:\n",
            "Error while extracting menu/features for 스페샬한라점, div 1:\n",
            "Error while navigating to reviews for 스페샬한라점:\n"
          ]
        },
        {
          "name": "stderr",
          "output_type": "stream",
          "text": [
            " 24%|██▍       | 238/999 [1:31:43<4:51:36, 22.99s/it]"
          ]
        },
        {
          "name": "stdout",
          "output_type": "stream",
          "text": [
            "이미지 추출 오류 2 for 스페샬한라점 \n",
            "이미지 추출 오류 3 for 스페샬한라점 \n",
            "이미지 추출 오류 4 for 스페샬한라점 \n",
            "이미지 추출 오류 5 for 스페샬한라점 \n",
            "이미지 추출 오류 6 for 스페샬한라점 \n",
            "이미지 추출 오류 7 for 스페샬한라점 \n",
            "이미지 추출 오류 8 for 스페샬한라점 \n",
            "이미지 추출 오류 9 for 스페샬한라점 \n",
            "이미지 추출 오류 10 for 스페샬한라점 \n",
            "스퐁스퐁: searchIframe 로드 및 프레임 전환 완료\n",
            "스퐁스퐁: entryIframe이 이미 로드됨. 클릭 없이 바로 진행\n",
            "entryIframe 로드.\n",
            "Error while extracting menu/features for 스퐁스퐁, div 1:\n"
          ]
        },
        {
          "name": "stderr",
          "output_type": "stream",
          "text": [
            " 24%|██▍       | 239/999 [1:32:01<4:30:16, 21.34s/it]"
          ]
        },
        {
          "name": "stdout",
          "output_type": "stream",
          "text": [
            "Error while extracting menu/features for 스퐁스퐁, div 2:\n",
            " 사진 버튼 없음 : 스퐁스퐁.\n",
            "스푸레무따: searchIframe 로드 및 프레임 전환 완료\n",
            "스푸레무따: entryIframe이 이미 로드됨. 클릭 없이 바로 진행\n",
            "entryIframe 로드.\n",
            "Error while extracting menu/features for 스푸레무따, div 1:\n",
            "Error while extracting menu/features for 스푸레무따, div 2:\n"
          ]
        },
        {
          "name": "stderr",
          "output_type": "stream",
          "text": [
            " 24%|██▍       | 240/999 [1:32:20<4:23:29, 20.83s/it]"
          ]
        },
        {
          "name": "stdout",
          "output_type": "stream",
          "text": [
            "스피닝울프: searchIframe 로드 및 프레임 전환 완료\n",
            "스피닝울프: 첫 번째 가게 클릭 후 전환되지 않음. 다음 가게로 진행\n",
            "entryIframe 로드.\n",
            "Error while extracting menu/features for 스피닝울프, div 1:\n",
            "Error while extracting menu/features for 스피닝울프, div 2:\n"
          ]
        },
        {
          "name": "stderr",
          "output_type": "stream",
          "text": [
            " 24%|██▍       | 241/999 [1:32:48<4:51:00, 23.04s/it]"
          ]
        },
        {
          "name": "stdout",
          "output_type": "stream",
          "text": [
            "슬기식당: searchIframe 로드 및 프레임 전환 완료\n",
            "슬기식당: 첫 번째 가게 클릭 후 전환되지 않음. 다음 가게로 진행\n",
            "entryIframe 로드.\n",
            "Error while extracting menu/features for 슬기식당, div 1:\n",
            "Error while extracting menu/features for 슬기식당, div 2:\n"
          ]
        },
        {
          "name": "stderr",
          "output_type": "stream",
          "text": [
            " 24%|██▍       | 242/999 [1:33:17<5:09:43, 24.55s/it]"
          ]
        },
        {
          "name": "stdout",
          "output_type": "stream",
          "text": [
            "슬랩: searchIframe 로드 및 프레임 전환 완료\n",
            "슬랩: 링크버튼을 찾을 수 없음. xpath 대신 다른 방법 시도\n"
          ]
        },
        {
          "name": "stderr",
          "output_type": "stream",
          "text": [
            " 24%|██▍       | 243/999 [1:33:35<4:45:00, 22.62s/it]"
          ]
        },
        {
          "name": "stdout",
          "output_type": "stream",
          "text": [
            "Failed to load iframe after multiple attempts for 슬랩.\n",
            "crawling fatil : 슬랩 to fail_to_crawling\n",
            "슬로보트: searchIframe 로드 및 프레임 전환 완료\n",
            "슬로보트: 첫 번째 가게 클릭 후 전환되지 않음. 다음 가게로 진행\n",
            "entryIframe 로드.\n",
            "Error while extracting datalab information for 슬로보트:\n",
            "Error while navigating to reviews for 슬로보트:\n"
          ]
        },
        {
          "name": "stderr",
          "output_type": "stream",
          "text": [
            " 24%|██▍       | 244/999 [1:34:03<5:05:14, 24.26s/it]"
          ]
        },
        {
          "name": "stdout",
          "output_type": "stream",
          "text": [
            "슬로우달콤한닭강정본점: searchIframe 로드 및 프레임 전환 완료\n",
            "Error while clicking first search result for 슬로우달콤한닭강정본점: Unable to locate list container.\n"
          ]
        },
        {
          "name": "stderr",
          "output_type": "stream",
          "text": [
            " 25%|██▍       | 245/999 [1:34:24<4:52:06, 23.24s/it]"
          ]
        },
        {
          "name": "stdout",
          "output_type": "stream",
          "text": [
            "Failed to load iframe after multiple attempts for 슬로우달콤한닭강정본점.\n",
            "crawling fatil : 슬로우달콤한닭강정본점 to fail_to_crawling\n",
            "슬로우카페: searchIframe 로드 및 프레임 전환 완료\n",
            "슬로우카페: 첫 번째 가게 클릭 후 전환되지 않음. 다음 가게로 진행\n",
            "entryIframe 로드.\n",
            "Error while extracting menu/features for 슬로우카페, div 1:\n",
            "Error while extracting menu/features for 슬로우카페, div 2:\n"
          ]
        },
        {
          "name": "stderr",
          "output_type": "stream",
          "text": [
            " 25%|██▍       | 246/999 [1:34:52<5:11:53, 24.85s/it]"
          ]
        },
        {
          "name": "stdout",
          "output_type": "stream",
          "text": [
            "슬로우캘리제주점: searchIframe 로드 및 프레임 전환 완료\n",
            "슬로우캘리제주점: entryIframe이 이미 로드됨. 클릭 없이 바로 진행\n",
            "entryIframe 로드.\n",
            "Error while extracting menu/features for 슬로우캘리제주점, div 1:\n",
            "Error while extracting menu/features for 슬로우캘리제주점, div 2:\n"
          ]
        },
        {
          "name": "stderr",
          "output_type": "stream",
          "text": [
            " 25%|██▍       | 247/999 [1:35:13<4:56:53, 23.69s/it]"
          ]
        },
        {
          "name": "stdout",
          "output_type": "stream",
          "text": [
            "슬슬슬로우: searchIframe 로드 및 프레임 전환 완료\n",
            "슬슬슬로우: 첫 번째 가게 클릭 후 전환되지 않음. 다음 가게로 진행\n",
            "entryIframe 로드.\n",
            "Error while extracting menu/features for 슬슬슬로우, div 1:\n",
            "Error while extracting menu/features for 슬슬슬로우, div 2:\n"
          ]
        },
        {
          "name": "stderr",
          "output_type": "stream",
          "text": [
            " 25%|██▍       | 248/999 [1:35:42<5:14:12, 25.10s/it]"
          ]
        },
        {
          "name": "stdout",
          "output_type": "stream",
          "text": [
            "슬이네찌개마을: searchIframe 로드 및 프레임 전환 완료\n",
            "슬이네찌개마을: entryIframe이 이미 로드됨. 클릭 없이 바로 진행\n",
            "entryIframe 로드.\n",
            "Error while extracting menu/features for 슬이네찌개마을, div 1:\n",
            "Error while extracting menu/features for 슬이네찌개마을, div 2:\n"
          ]
        },
        {
          "name": "stderr",
          "output_type": "stream",
          "text": [
            " 25%|██▍       | 249/999 [1:36:03<4:58:34, 23.89s/it]"
          ]
        },
        {
          "name": "stdout",
          "output_type": "stream",
          "text": [
            "승담정: searchIframe 로드 및 프레임 전환 완료\n",
            "승담정: entryIframe이 이미 로드됨. 클릭 없이 바로 진행\n",
            "entryIframe 로드.\n",
            "Error while extracting menu/features for 승담정, div 1:\n",
            "Error while extracting menu/features for 승담정, div 2:\n"
          ]
        },
        {
          "name": "stderr",
          "output_type": "stream",
          "text": [
            " 25%|██▌       | 250/999 [1:36:24<4:47:45, 23.05s/it]"
          ]
        },
        {
          "name": "stdout",
          "output_type": "stream",
          "text": [
            "승범이네집: searchIframe 로드 및 프레임 전환 완료\n",
            "승범이네집: 링크버튼을 찾을 수 없음. xpath 대신 다른 방법 시도\n"
          ]
        },
        {
          "name": "stderr",
          "output_type": "stream",
          "text": [
            " 25%|██▌       | 251/999 [1:36:42<4:28:43, 21.56s/it]"
          ]
        },
        {
          "name": "stdout",
          "output_type": "stream",
          "text": [
            "Failed to load iframe after multiple attempts for 승범이네집.\n",
            "crawling fatil : 승범이네집 to fail_to_crawling\n",
            "승쁨당: searchIframe 로드 및 프레임 전환 완료\n",
            "승쁨당: 첫 번째 가게 클릭 후 전환되지 않음. 다음 가게로 진행\n",
            "entryIframe 로드.\n",
            "Error while extracting menu/features for 승쁨당, div 1:\n",
            "Error while extracting menu/features for 승쁨당, div 2:\n"
          ]
        },
        {
          "name": "stderr",
          "output_type": "stream",
          "text": [
            " 25%|██▌       | 252/999 [1:37:10<4:51:19, 23.40s/it]"
          ]
        },
        {
          "name": "stdout",
          "output_type": "stream",
          "text": [
            "승쁨당삼화지구점: searchIframe 로드 및 프레임 전환 완료\n",
            "승쁨당삼화지구점: entryIframe이 이미 로드됨. 클릭 없이 바로 진행\n",
            "entryIframe 로드.\n",
            "Error while extracting menu/features for 승쁨당삼화지구점, div 1:\n",
            "Error while extracting menu/features for 승쁨당삼화지구점, div 2:\n"
          ]
        },
        {
          "name": "stderr",
          "output_type": "stream",
          "text": [
            " 25%|██▌       | 253/999 [1:37:31<4:43:13, 22.78s/it]"
          ]
        },
        {
          "name": "stdout",
          "output_type": "stream",
          "text": [
            "승우내 숯불갈비: searchIframe 로드 및 프레임 전환 완료\n",
            "승우내 숯불갈비: entryIframe이 이미 로드됨. 클릭 없이 바로 진행\n",
            "entryIframe 로드.\n",
            "Error while extracting menu/features for 승우내 숯불갈비, div 1:\n",
            "Error while extracting menu/features for 승우내 숯불갈비, div 2:\n"
          ]
        },
        {
          "name": "stderr",
          "output_type": "stream",
          "text": [
            " 25%|██▌       | 254/999 [1:37:52<4:36:55, 22.30s/it]"
          ]
        },
        {
          "name": "stdout",
          "output_type": "stream",
          "text": [
            "승하네: searchIframe 로드 및 프레임 전환 완료\n",
            "승하네: entryIframe이 이미 로드됨. 클릭 없이 바로 진행\n",
            "entryIframe 로드.\n",
            "Error while extracting menu/features for 승하네, div 1:\n",
            "Error while extracting menu/features for 승하네, div 2:\n"
          ]
        },
        {
          "name": "stderr",
          "output_type": "stream",
          "text": [
            " 26%|██▌       | 255/999 [1:38:13<4:32:55, 22.01s/it]"
          ]
        },
        {
          "name": "stdout",
          "output_type": "stream",
          "text": [
            "시(see): searchIframe 로드 및 프레임 전환 완료\n",
            "시(see): 링크버튼을 찾을 수 없음. xpath 대신 다른 방법 시도\n"
          ]
        },
        {
          "name": "stderr",
          "output_type": "stream",
          "text": [
            " 26%|██▌       | 256/999 [1:38:32<4:18:09, 20.85s/it]"
          ]
        },
        {
          "name": "stdout",
          "output_type": "stream",
          "text": [
            "Failed to load iframe after multiple attempts for 시(see).\n",
            "crawling fatil : 시(see) to fail_to_crawling\n",
            "시간여행: searchIframe 로드 및 프레임 전환 완료\n",
            "시간여행: 첫 번째 가게 클릭 후 전환되지 않음. 다음 가게로 진행\n",
            "entryIframe 로드.\n",
            "Error while extracting datalab information for 시간여행:\n",
            "Error while navigating to reviews for 시간여행:\n"
          ]
        },
        {
          "name": "stderr",
          "output_type": "stream",
          "text": [
            " 26%|██▌       | 257/999 [1:38:57<4:35:54, 22.31s/it]"
          ]
        },
        {
          "name": "stdout",
          "output_type": "stream",
          "text": [
            "이미지 추출 오류 5 for 시간여행 \n",
            "이미지 추출 오류 6 for 시간여행 \n",
            "이미지 추출 오류 7 for 시간여행 \n",
            "이미지 추출 오류 8 for 시간여행 \n",
            "이미지 추출 오류 9 for 시간여행 \n",
            "이미지 추출 오류 10 for 시간여행 \n",
            "시골길: searchIframe 로드 및 프레임 전환 완료\n",
            "시골길: 첫 번째 가게 클릭 후 전환되지 않음. 다음 가게로 진행\n",
            "entryIframe 로드.\n",
            "Error while extracting menu/features for 시골길, div 1:\n",
            "Error while extracting menu/features for 시골길, div 2:\n"
          ]
        },
        {
          "name": "stderr",
          "output_type": "stream",
          "text": [
            " 26%|██▌       | 258/999 [1:39:25<4:56:22, 24.00s/it]"
          ]
        },
        {
          "name": "stdout",
          "output_type": "stream",
          "text": [
            "시골길이도점: searchIframe 로드 및 프레임 전환 완료\n",
            "시골길이도점: entryIframe이 이미 로드됨. 클릭 없이 바로 진행\n",
            "entryIframe 로드.\n",
            "Error while extracting menu/features for 시골길이도점, div 1:\n",
            "Error while extracting menu/features for 시골길이도점, div 2:\n"
          ]
        },
        {
          "name": "stderr",
          "output_type": "stream",
          "text": [
            " 26%|██▌       | 259/999 [1:39:47<4:47:13, 23.29s/it]"
          ]
        },
        {
          "name": "stdout",
          "output_type": "stream",
          "text": [
            "시골낙지: searchIframe 로드 및 프레임 전환 완료\n",
            "시골낙지: 링크버튼을 찾을 수 없음. xpath 대신 다른 방법 시도\n"
          ]
        },
        {
          "name": "stderr",
          "output_type": "stream",
          "text": [
            " 26%|██▌       | 260/999 [1:40:05<4:27:35, 21.73s/it]"
          ]
        },
        {
          "name": "stdout",
          "output_type": "stream",
          "text": [
            "Failed to load iframe after multiple attempts for 시골낙지.\n",
            "crawling fatil : 시골낙지 to fail_to_crawling\n",
            "시골못난이투: searchIframe 로드 및 프레임 전환 완료\n",
            "시골못난이투: entryIframe이 이미 로드됨. 클릭 없이 바로 진행\n",
            "entryIframe 로드.\n",
            "Error while extracting menu/features for 시골못난이투, div 1:\n",
            "Error while extracting menu/features for 시골못난이투, div 2:\n"
          ]
        },
        {
          "name": "stderr",
          "output_type": "stream",
          "text": [
            " 26%|██▌       | 261/999 [1:40:24<4:16:42, 20.87s/it]"
          ]
        },
        {
          "name": "stdout",
          "output_type": "stream",
          "text": [
            "시골밥상: searchIframe 로드 및 프레임 전환 완료\n",
            "시골밥상: 링크버튼을 찾을 수 없음. xpath 대신 다른 방법 시도\n"
          ]
        },
        {
          "name": "stderr",
          "output_type": "stream",
          "text": [
            " 26%|██▌       | 262/999 [1:40:43<4:09:11, 20.29s/it]"
          ]
        },
        {
          "name": "stdout",
          "output_type": "stream",
          "text": [
            "Failed to load iframe after multiple attempts for 시골밥상.\n",
            "crawling fatil : 시골밥상 to fail_to_crawling\n",
            "시골친구: searchIframe 로드 및 프레임 전환 완료\n",
            "시골친구: 첫 번째 가게 클릭 후 전환되지 않음. 다음 가게로 진행\n",
            "entryIframe 로드.\n",
            "Error while extracting menu/features for 시골친구, div 1:\n",
            "Error while extracting menu/features for 시골친구, div 2:\n"
          ]
        },
        {
          "name": "stderr",
          "output_type": "stream",
          "text": [
            " 26%|██▋       | 263/999 [1:41:11<4:38:47, 22.73s/it]"
          ]
        },
        {
          "name": "stdout",
          "output_type": "stream",
          "text": [
            "시나르: searchIframe 로드 및 프레임 전환 완료\n",
            "시나르: 첫 번째 가게 클릭 후 전환되지 않음. 다음 가게로 진행\n",
            "entryIframe 로드.\n",
            "Error while extracting menu/features for 시나르, div 1:\n"
          ]
        },
        {
          "name": "stderr",
          "output_type": "stream",
          "text": [
            " 26%|██▋       | 264/999 [1:41:33<4:36:21, 22.56s/it]"
          ]
        },
        {
          "name": "stdout",
          "output_type": "stream",
          "text": [
            "Error while extracting menu/features for 시나르, div 2:\n",
            " 사진 버튼 없음 : 시나르.\n",
            "시나브로: searchIframe 로드 및 프레임 전환 완료\n",
            "시나브로: 링크버튼을 찾을 수 없음. xpath 대신 다른 방법 시도\n"
          ]
        },
        {
          "name": "stderr",
          "output_type": "stream",
          "text": [
            " 27%|██▋       | 265/999 [1:41:51<4:20:00, 21.25s/it]"
          ]
        },
        {
          "name": "stdout",
          "output_type": "stream",
          "text": [
            "Failed to load iframe after multiple attempts for 시나브로.\n",
            "crawling fatil : 시나브로 to fail_to_crawling\n",
            "시네마: searchIframe 로드 및 프레임 전환 완료\n",
            "시네마: 첫 번째 가게 클릭 후 전환되지 않음. 다음 가게로 진행\n",
            "entryIframe 로드.\n",
            "Error while extracting menu/features for 시네마, div 1:\n",
            "Error while navigating to reviews for 시네마:\n"
          ]
        },
        {
          "name": "stderr",
          "output_type": "stream",
          "text": [
            " 27%|██▋       | 266/999 [1:42:20<4:44:33, 23.29s/it]"
          ]
        },
        {
          "name": "stdout",
          "output_type": "stream",
          "text": [
            "시니어손맛 아리랑: searchIframe 로드 및 프레임 전환 완료\n",
            "시니어손맛 아리랑: entryIframe이 이미 로드됨. 클릭 없이 바로 진행\n",
            "entryIframe 로드.\n",
            "Error while extracting menu/features for 시니어손맛 아리랑, div 1:\n",
            "Error while extracting menu/features for 시니어손맛 아리랑, div 2:\n"
          ]
        },
        {
          "name": "stderr",
          "output_type": "stream",
          "text": [
            " 27%|██▋       | 267/999 [1:42:41<4:36:13, 22.64s/it]"
          ]
        },
        {
          "name": "stdout",
          "output_type": "stream",
          "text": [
            "시드니양갈비: searchIframe 로드 및 프레임 전환 완료\n",
            "시드니양갈비: 첫 번째 가게 클릭 후 전환되지 않음. 다음 가게로 진행\n",
            "entryIframe 로드.\n",
            "Error while extracting menu/features for 시드니양갈비, div 1:\n"
          ]
        },
        {
          "name": "stderr",
          "output_type": "stream",
          "text": [
            " 27%|██▋       | 268/999 [1:43:09<4:56:48, 24.36s/it]"
          ]
        },
        {
          "name": "stdout",
          "output_type": "stream",
          "text": [
            "Error while extracting menu/features for 시드니양갈비, div 2:\n",
            " 사진 버튼 없음 : 시드니양갈비.\n",
            "시로코: searchIframe 로드 및 프레임 전환 완료\n",
            "시로코: 링크버튼을 찾을 수 없음. xpath 대신 다른 방법 시도\n"
          ]
        },
        {
          "name": "stderr",
          "output_type": "stream",
          "text": [
            " 27%|██▋       | 269/999 [1:43:27<4:33:31, 22.48s/it]"
          ]
        },
        {
          "name": "stdout",
          "output_type": "stream",
          "text": [
            "Failed to load iframe after multiple attempts for 시로코.\n",
            "crawling fatil : 시로코 to fail_to_crawling\n",
            "시루애월: searchIframe 로드 및 프레임 전환 완료\n",
            "시루애월: 첫 번째 가게 클릭 후 전환되지 않음. 다음 가게로 진행\n",
            "entryIframe 로드.\n",
            "Error while extracting datalab information for 시루애월:\n",
            "Error while navigating to reviews for 시루애월:\n"
          ]
        },
        {
          "name": "stderr",
          "output_type": "stream",
          "text": [
            " 27%|██▋       | 270/999 [1:43:53<4:44:58, 23.46s/it]"
          ]
        },
        {
          "name": "stdout",
          "output_type": "stream",
          "text": [
            "이미지 추출 오류 2 for 시루애월 \n",
            "이미지 추출 오류 3 for 시루애월 \n",
            "이미지 추출 오류 4 for 시루애월 \n",
            "이미지 추출 오류 5 for 시루애월 \n",
            "이미지 추출 오류 6 for 시루애월 \n",
            "이미지 추출 오류 7 for 시루애월 \n",
            "이미지 추출 오류 8 for 시루애월 \n",
            "이미지 추출 오류 9 for 시루애월 \n",
            "이미지 추출 오류 10 for 시루애월 \n",
            "시민골: searchIframe 로드 및 프레임 전환 완료\n",
            "시민골: 첫 번째 가게 클릭 후 전환되지 않음. 다음 가게로 진행\n",
            "entryIframe 로드.\n",
            "Error while extracting datalab information for 시민골:\n",
            "Error while navigating to reviews for 시민골:\n"
          ]
        },
        {
          "name": "stderr",
          "output_type": "stream",
          "text": [
            " 27%|██▋       | 271/999 [1:44:14<4:35:37, 22.72s/it]"
          ]
        },
        {
          "name": "stdout",
          "output_type": "stream",
          "text": [
            "이미지 추출 오류 3 for 시민골 \n",
            "이미지 추출 오류 4 for 시민골 \n",
            "이미지 추출 오류 5 for 시민골 \n",
            "이미지 추출 오류 6 for 시민골 \n",
            "이미지 추출 오류 7 for 시민골 \n",
            "이미지 추출 오류 8 for 시민골 \n",
            "이미지 추출 오류 9 for 시민골 \n",
            "이미지 추출 오류 10 for 시민골 \n",
            "시민상회: searchIframe 로드 및 프레임 전환 완료\n",
            "시민상회: 링크버튼을 찾을 수 없음. xpath 대신 다른 방법 시도\n"
          ]
        },
        {
          "name": "stderr",
          "output_type": "stream",
          "text": [
            " 27%|██▋       | 272/999 [1:44:31<4:16:43, 21.19s/it]"
          ]
        },
        {
          "name": "stdout",
          "output_type": "stream",
          "text": [
            "Failed to load iframe after multiple attempts for 시민상회.\n",
            "crawling fatil : 시민상회 to fail_to_crawling\n",
            "시민을위한갈비: searchIframe 로드 및 프레임 전환 완료\n",
            "시민을위한갈비: entryIframe이 이미 로드됨. 클릭 없이 바로 진행\n",
            "entryIframe 로드.\n",
            "Error while extracting menu/features for 시민을위한갈비, div 1:\n",
            "Error while extracting menu/features for 시민을위한갈비, div 2:\n"
          ]
        },
        {
          "name": "stderr",
          "output_type": "stream",
          "text": [
            " 27%|██▋       | 273/999 [1:44:53<4:15:57, 21.15s/it]"
          ]
        },
        {
          "name": "stdout",
          "output_type": "stream",
          "text": [
            "시선밥상: searchIframe 로드 및 프레임 전환 완료\n",
            "시선밥상: entryIframe이 이미 로드됨. 클릭 없이 바로 진행\n",
            "entryIframe 로드.\n",
            "Error while extracting datalab information for 시선밥상:\n",
            "Error while extracting menu/features for 시선밥상, div 1:\n",
            "Error while extracting menu/features for 시선밥상, div 2:\n"
          ]
        },
        {
          "name": "stderr",
          "output_type": "stream",
          "text": [
            " 27%|██▋       | 274/999 [1:45:16<4:22:14, 21.70s/it]"
          ]
        },
        {
          "name": "stdout",
          "output_type": "stream",
          "text": [
            "시스베이글: searchIframe 로드 및 프레임 전환 완료\n",
            "시스베이글: 첫 번째 가게 클릭 후 전환되지 않음. 다음 가게로 진행\n",
            "entryIframe 로드.\n",
            "Error while extracting menu/features for 시스베이글, div 1:\n",
            "Error while navigating to reviews for 시스베이글:\n"
          ]
        },
        {
          "name": "stderr",
          "output_type": "stream",
          "text": [
            " 28%|██▊       | 275/999 [1:45:44<4:44:41, 23.59s/it]"
          ]
        },
        {
          "name": "stdout",
          "output_type": "stream",
          "text": [
            "시스터필드: searchIframe 로드 및 프레임 전환 완료\n",
            "시스터필드: 첫 번째 가게 클릭 후 전환되지 않음. 다음 가게로 진행\n",
            "entryIframe 로드.\n",
            "Error while extracting menu/features for 시스터필드, div 1:\n",
            "Error while extracting menu/features for 시스터필드, div 2:\n"
          ]
        },
        {
          "name": "stderr",
          "output_type": "stream",
          "text": [
            " 28%|██▊       | 276/999 [1:46:12<5:02:41, 25.12s/it]"
          ]
        },
        {
          "name": "stdout",
          "output_type": "stream",
          "text": [
            "시실리: searchIframe 로드 및 프레임 전환 완료\n",
            "시실리: 첫 번째 가게 클릭 후 전환되지 않음. 다음 가게로 진행\n",
            "entryIframe 로드.\n",
            "Error while extracting menu/features for 시실리, div 1:\n",
            "Error while extracting menu/features for 시실리, div 2:\n"
          ]
        },
        {
          "name": "stderr",
          "output_type": "stream",
          "text": [
            " 28%|██▊       | 277/999 [1:46:40<5:13:17, 26.03s/it]"
          ]
        },
        {
          "name": "stdout",
          "output_type": "stream",
          "text": [
            "시애틀의 밤: searchIframe 로드 및 프레임 전환 완료\n",
            "시애틀의 밤: 첫 번째 가게 클릭 후 전환되지 않음. 다음 가게로 진행\n",
            "entryIframe 로드.\n",
            "Error while extracting menu/features for 시애틀의 밤, div 1:\n",
            "Error while extracting menu/features for 시애틀의 밤, div 2:\n"
          ]
        },
        {
          "name": "stderr",
          "output_type": "stream",
          "text": [
            " 28%|██▊       | 278/999 [1:47:09<5:20:31, 26.67s/it]"
          ]
        },
        {
          "name": "stdout",
          "output_type": "stream",
          "text": [
            "시영통닭: searchIframe 로드 및 프레임 전환 완료\n",
            "시영통닭: entryIframe이 이미 로드됨. 클릭 없이 바로 진행\n",
            "entryIframe 로드.\n",
            "Error while extracting menu/features for 시영통닭, div 1:\n",
            "Error while extracting menu/features for 시영통닭, div 2:\n"
          ]
        },
        {
          "name": "stderr",
          "output_type": "stream",
          "text": [
            " 28%|██▊       | 279/999 [1:47:30<4:59:48, 24.98s/it]"
          ]
        },
        {
          "name": "stdout",
          "output_type": "stream",
          "text": [
            "시영통닭용담점: searchIframe 로드 및 프레임 전환 완료\n",
            "시영통닭용담점: entryIframe이 이미 로드됨. 클릭 없이 바로 진행\n",
            "entryIframe 로드.\n",
            "Error while extracting menu/features for 시영통닭용담점, div 1:\n",
            "Error while extracting menu/features for 시영통닭용담점, div 2:\n"
          ]
        },
        {
          "name": "stderr",
          "output_type": "stream",
          "text": [
            " 28%|██▊       | 280/999 [1:47:50<4:44:40, 23.76s/it]"
          ]
        },
        {
          "name": "stdout",
          "output_type": "stream",
          "text": [
            "시옷비읍: searchIframe 로드 및 프레임 전환 완료\n",
            "시옷비읍: entryIframe이 이미 로드됨. 클릭 없이 바로 진행\n",
            "entryIframe 로드.\n",
            "Error while extracting datalab information for 시옷비읍:\n",
            "Error while extracting menu/features for 시옷비읍, div 1:\n",
            "Error while extracting menu/features for 시옷비읍, div 2:\n"
          ]
        },
        {
          "name": "stderr",
          "output_type": "stream",
          "text": [
            " 28%|██▊       | 281/999 [1:48:12<4:34:47, 22.96s/it]"
          ]
        },
        {
          "name": "stdout",
          "output_type": "stream",
          "text": [
            "시월: searchIframe 로드 및 프레임 전환 완료\n",
            "시월: 첫 번째 가게 클릭 후 전환되지 않음. 다음 가게로 진행\n",
            "entryIframe 로드.\n",
            "Error while extracting menu/features for 시월, div 1:\n"
          ]
        },
        {
          "name": "stderr",
          "output_type": "stream",
          "text": [
            " 28%|██▊       | 282/999 [1:48:36<4:38:44, 23.33s/it]"
          ]
        },
        {
          "name": "stdout",
          "output_type": "stream",
          "text": [
            "Error while extracting menu/features for 시월, div 2:\n",
            " 사진 버튼 없음 : 시월.\n",
            "시인의집: searchIframe 로드 및 프레임 전환 완료\n",
            "시인의집: 첫 번째 가게 클릭 후 전환되지 않음. 다음 가게로 진행\n",
            "entryIframe 로드.\n",
            "Error while extracting datalab information for 시인의집:\n",
            "Error while extracting menu/features for 시인의집, div 1:\n",
            "Error while navigating to reviews for 시인의집:\n"
          ]
        },
        {
          "name": "stderr",
          "output_type": "stream",
          "text": [
            " 28%|██▊       | 283/999 [1:49:04<4:54:27, 24.68s/it]"
          ]
        },
        {
          "name": "stdout",
          "output_type": "stream",
          "text": [
            "시작서귀포이자카야: searchIframe 로드 및 프레임 전환 완료\n",
            "시작서귀포이자카야: entryIframe이 이미 로드됨. 클릭 없이 바로 진행\n",
            "entryIframe 로드.\n",
            "Error while extracting menu/features for 시작서귀포이자카야, div 1:\n",
            "Error while extracting menu/features for 시작서귀포이자카야, div 2:\n"
          ]
        },
        {
          "name": "stderr",
          "output_type": "stream",
          "text": [
            " 28%|██▊       | 284/999 [1:49:25<4:41:36, 23.63s/it]"
          ]
        },
        {
          "name": "stdout",
          "output_type": "stream",
          "text": [
            "시장(분식): searchIframe 로드 및 프레임 전환 완료\n",
            "시장(분식): 첫 번째 가게 클릭 후 전환되지 않음. 다음 가게로 진행\n",
            "entryIframe 로드.\n",
            "Error while extracting menu/features for 시장(분식), div 1:\n",
            "Error while extracting menu/features for 시장(분식), div 2:\n"
          ]
        },
        {
          "name": "stderr",
          "output_type": "stream",
          "text": [
            " 29%|██▊       | 285/999 [1:49:55<5:05:32, 25.68s/it]"
          ]
        },
        {
          "name": "stdout",
          "output_type": "stream",
          "text": [
            "시장떡전문점: searchIframe 로드 및 프레임 전환 완료\n",
            "시장떡전문점: 첫 번째 가게 클릭 후 전환되지 않음. 다음 가게로 진행\n",
            "entryIframe 로드.\n",
            "Error while extracting menu/features for 시장떡전문점, div 1:\n",
            "Error while extracting menu/features for 시장떡전문점, div 2:\n"
          ]
        },
        {
          "name": "stderr",
          "output_type": "stream",
          "text": [
            " 29%|██▊       | 286/999 [1:50:21<5:04:56, 25.66s/it]"
          ]
        },
        {
          "name": "stdout",
          "output_type": "stream",
          "text": [
            "시장올레: searchIframe 로드 및 프레임 전환 완료\n",
            "시장올레: 첫 번째 가게 클릭 후 전환되지 않음. 다음 가게로 진행\n",
            "entryIframe 로드.\n",
            "Error while extracting datalab information for 시장올레:\n",
            "Error while navigating to reviews for 시장올레:\n"
          ]
        },
        {
          "name": "stderr",
          "output_type": "stream",
          "text": [
            " 29%|██▊       | 287/999 [1:50:47<5:05:50, 25.77s/it]"
          ]
        },
        {
          "name": "stdout",
          "output_type": "stream",
          "text": [
            "이미지 추출 오류 7 for 시장올레 \n",
            "이미지 추출 오류 8 for 시장올레 \n",
            "이미지 추출 오류 9 for 시장올레 \n",
            "이미지 추출 오류 10 for 시장올레 \n",
            "시쟈덕: searchIframe 로드 및 프레임 전환 완료\n",
            "시쟈덕: entryIframe이 이미 로드됨. 클릭 없이 바로 진행\n",
            "entryIframe 로드.\n",
            "Error while extracting menu/features for 시쟈덕, div 1:\n",
            "Error while extracting menu/features for 시쟈덕, div 2:\n"
          ]
        },
        {
          "name": "stderr",
          "output_type": "stream",
          "text": [
            " 29%|██▉       | 288/999 [1:51:09<4:51:24, 24.59s/it]"
          ]
        },
        {
          "name": "stdout",
          "output_type": "stream",
          "text": [
            "시종일관: searchIframe 로드 및 프레임 전환 완료\n",
            "시종일관: entryIframe이 이미 로드됨. 클릭 없이 바로 진행\n",
            "entryIframe 로드.\n",
            "Error while extracting menu/features for 시종일관, div 1:\n",
            "Error while extracting menu/features for 시종일관, div 2:\n"
          ]
        },
        {
          "name": "stderr",
          "output_type": "stream",
          "text": [
            " 29%|██▉       | 289/999 [1:51:30<4:38:57, 23.57s/it]"
          ]
        },
        {
          "name": "stdout",
          "output_type": "stream",
          "text": [
            "시즈닝제주협재점: searchIframe 로드 및 프레임 전환 완료\n",
            "시즈닝제주협재점: entryIframe이 이미 로드됨. 클릭 없이 바로 진행\n",
            "entryIframe 로드.\n",
            "Error while extracting menu/features for 시즈닝제주협재점, div 1:\n"
          ]
        },
        {
          "name": "stderr",
          "output_type": "stream",
          "text": [
            " 29%|██▉       | 290/999 [1:51:51<4:30:02, 22.85s/it]"
          ]
        },
        {
          "name": "stdout",
          "output_type": "stream",
          "text": [
            "Error while extracting menu/features for 시즈닝제주협재점, div 2:\n",
            " 사진 버튼 없음 : 시즈닝제주협재점.\n",
            "시즌박스: searchIframe 로드 및 프레임 전환 완료\n",
            "Error while clicking first search result for 시즌박스: Unable to locate list container.\n"
          ]
        },
        {
          "name": "stderr",
          "output_type": "stream",
          "text": [
            " 29%|██▉       | 291/999 [1:52:12<4:21:40, 22.18s/it]"
          ]
        },
        {
          "name": "stdout",
          "output_type": "stream",
          "text": [
            "Failed to load iframe after multiple attempts for 시즌박스.\n",
            "crawling fatil : 시즌박스 to fail_to_crawling\n",
            "시청골목집: searchIframe 로드 및 프레임 전환 완료\n",
            "시청골목집: 첫 번째 가게 클릭 후 전환되지 않음. 다음 가게로 진행\n",
            "entryIframe 로드.\n",
            "Error while extracting menu/features for 시청골목집, div 1:\n",
            "Error while extracting menu/features for 시청골목집, div 2:\n"
          ]
        },
        {
          "name": "stderr",
          "output_type": "stream",
          "text": [
            " 29%|██▉       | 292/999 [1:52:40<4:42:57, 24.01s/it]"
          ]
        },
        {
          "name": "stdout",
          "output_type": "stream",
          "text": [
            "시청그때그집: searchIframe 로드 및 프레임 전환 완료\n",
            "시청그때그집: entryIframe이 이미 로드됨. 클릭 없이 바로 진행\n",
            "entryIframe 로드.\n",
            "Error while extracting menu/features for 시청그때그집, div 1:\n"
          ]
        },
        {
          "name": "stderr",
          "output_type": "stream",
          "text": [
            " 29%|██▉       | 293/999 [1:53:01<4:33:26, 23.24s/it]"
          ]
        },
        {
          "name": "stdout",
          "output_type": "stream",
          "text": [
            "Error while extracting menu/features for 시청그때그집, div 2:\n",
            " 사진 버튼 없음 : 시청그때그집.\n",
            "시청중국관치킨호프: searchIframe 로드 및 프레임 전환 완료\n",
            "시청중국관치킨호프: entryIframe이 이미 로드됨. 클릭 없이 바로 진행\n",
            "entryIframe 로드.\n",
            "Error while extracting menu/features for 시청중국관치킨호프, div 1:\n",
            "Error while extracting menu/features for 시청중국관치킨호프, div 2:\n"
          ]
        },
        {
          "name": "stderr",
          "output_type": "stream",
          "text": [
            " 29%|██▉       | 294/999 [1:53:23<4:25:30, 22.60s/it]"
          ]
        },
        {
          "name": "stdout",
          "output_type": "stream",
          "text": [
            "시청흑돼지돈삼겹: searchIframe 로드 및 프레임 전환 완료\n",
            "시청흑돼지돈삼겹: entryIframe이 이미 로드됨. 클릭 없이 바로 진행\n",
            "entryIframe 로드.\n",
            "Error while extracting menu/features for 시청흑돼지돈삼겹, div 1:\n",
            "Error while extracting menu/features for 시청흑돼지돈삼겹, div 2:\n"
          ]
        },
        {
          "name": "stderr",
          "output_type": "stream",
          "text": [
            " 30%|██▉       | 295/999 [1:53:41<4:12:20, 21.51s/it]"
          ]
        },
        {
          "name": "stdout",
          "output_type": "stream",
          "text": [
            "시카고피자: searchIframe 로드 및 프레임 전환 완료\n",
            "시카고피자: 첫 번째 가게 클릭 후 전환되지 않음. 다음 가게로 진행\n",
            "entryIframe 로드.\n",
            "Error while extracting menu/features for 시카고피자, div 1:\n",
            "Error while extracting menu/features for 시카고피자, div 2:\n"
          ]
        },
        {
          "name": "stderr",
          "output_type": "stream",
          "text": [
            " 30%|██▉       | 296/999 [1:54:10<4:37:12, 23.66s/it]"
          ]
        },
        {
          "name": "stdout",
          "output_type": "stream",
          "text": [
            "시카고피자남원점: searchIframe 로드 및 프레임 전환 완료\n",
            "시카고피자남원점: entryIframe이 이미 로드됨. 클릭 없이 바로 진행\n",
            "entryIframe 로드.\n",
            "Error while extracting menu/features for 시카고피자남원점, div 1:\n",
            "Error while extracting menu/features for 시카고피자남원점, div 2:\n"
          ]
        },
        {
          "name": "stderr",
          "output_type": "stream",
          "text": [
            " 30%|██▉       | 297/999 [1:54:31<4:28:06, 22.92s/it]"
          ]
        },
        {
          "name": "stdout",
          "output_type": "stream",
          "text": [
            "시키: searchIframe 로드 및 프레임 전환 완료\n",
            "시키: 첫 번째 가게 클릭 후 전환되지 않음. 다음 가게로 진행\n",
            "entryIframe 로드.\n",
            "Error while extracting menu/features for 시키, div 1:\n",
            "Error while extracting menu/features for 시키, div 2:\n"
          ]
        },
        {
          "name": "stderr",
          "output_type": "stream",
          "text": [
            " 30%|██▉       | 298/999 [1:55:00<4:46:50, 24.55s/it]"
          ]
        },
        {
          "name": "stdout",
          "output_type": "stream",
          "text": [
            "시흥해녀의집: searchIframe 로드 및 프레임 전환 완료\n",
            "시흥해녀의집: entryIframe이 이미 로드됨. 클릭 없이 바로 진행\n",
            "entryIframe 로드.\n",
            "Error while extracting menu/features for 시흥해녀의집, div 1:\n",
            "Error while extracting menu/features for 시흥해녀의집, div 2:\n"
          ]
        },
        {
          "name": "stderr",
          "output_type": "stream",
          "text": [
            " 30%|██▉       | 299/999 [1:55:23<4:42:01, 24.17s/it]"
          ]
        },
        {
          "name": "stdout",
          "output_type": "stream",
          "text": [
            "식객: searchIframe 로드 및 프레임 전환 완료\n",
            "식객: 첫 번째 가게 클릭 후 전환되지 않음. 다음 가게로 진행\n",
            "entryIframe 로드.\n",
            "Error while extracting menu/features for 식객, div 1:\n",
            "Error while extracting menu/features for 식객, div 2:\n"
          ]
        },
        {
          "name": "stderr",
          "output_type": "stream",
          "text": [
            " 30%|███       | 300/999 [1:55:52<4:57:41, 25.55s/it]"
          ]
        },
        {
          "name": "stdout",
          "output_type": "stream",
          "text": [
            "식객노형정육식당: searchIframe 로드 및 프레임 전환 완료\n",
            "식객노형정육식당: entryIframe이 이미 로드됨. 클릭 없이 바로 진행\n",
            "entryIframe 로드.\n",
            "Error while extracting menu/features for 식객노형정육식당, div 1:\n",
            "Error while extracting menu/features for 식객노형정육식당, div 2:\n"
          ]
        },
        {
          "name": "stderr",
          "output_type": "stream",
          "text": [
            " 30%|███       | 301/999 [1:56:13<4:42:09, 24.25s/it]"
          ]
        },
        {
          "name": "stdout",
          "output_type": "stream",
          "text": [
            "식과함께: searchIframe 로드 및 프레임 전환 완료\n",
            "식과함께: entryIframe이 이미 로드됨. 클릭 없이 바로 진행\n",
            "entryIframe 로드.\n",
            "Error while extracting menu/features for 식과함께, div 1:\n"
          ]
        },
        {
          "name": "stderr",
          "output_type": "stream",
          "text": [
            " 30%|███       | 302/999 [1:56:32<4:24:14, 22.75s/it]"
          ]
        },
        {
          "name": "stdout",
          "output_type": "stream",
          "text": [
            "Error while extracting menu/features for 식과함께, div 2:\n",
            " 사진 버튼 없음 : 식과함께.\n",
            "식당 민남매: searchIframe 로드 및 프레임 전환 완료\n",
            "식당 민남매: entryIframe이 이미 로드됨. 클릭 없이 바로 진행\n",
            "entryIframe 로드.\n",
            "Error while extracting menu/features for 식당 민남매, div 1:\n",
            "Error while extracting menu/features for 식당 민남매, div 2:\n"
          ]
        },
        {
          "name": "stderr",
          "output_type": "stream",
          "text": [
            " 30%|███       | 303/999 [1:56:54<4:20:45, 22.48s/it]"
          ]
        },
        {
          "name": "stdout",
          "output_type": "stream",
          "text": [
            "식당교래: searchIframe 로드 및 프레임 전환 완료\n",
            "식당교래: 첫 번째 가게 클릭 후 전환되지 않음. 다음 가게로 진행\n",
            "entryIframe 로드.\n",
            "Error while extracting menu/features for 식당교래, div 1:\n",
            "Error while extracting menu/features for 식당교래, div 2:\n"
          ]
        },
        {
          "name": "stderr",
          "output_type": "stream",
          "text": [
            " 30%|███       | 304/999 [1:57:23<4:42:57, 24.43s/it]"
          ]
        },
        {
          "name": "stdout",
          "output_type": "stream",
          "text": [
            "식당마요네즈: searchIframe 로드 및 프레임 전환 완료\n",
            "식당마요네즈: 첫 번째 가게 클릭 후 전환되지 않음. 다음 가게로 진행\n",
            "entryIframe 로드.\n",
            "Error while extracting menu/features for 식당마요네즈, div 1:\n",
            "Error while extracting menu/features for 식당마요네즈, div 2:\n"
          ]
        },
        {
          "name": "stderr",
          "output_type": "stream",
          "text": [
            " 31%|███       | 305/999 [1:57:52<4:57:06, 25.69s/it]"
          ]
        },
        {
          "name": "stdout",
          "output_type": "stream",
          "text": [
            "식당민남매본점: searchIframe 로드 및 프레임 전환 완료\n",
            "Error while clicking first search result for 식당민남매본점: Unable to locate list container.\n"
          ]
        },
        {
          "name": "stderr",
          "output_type": "stream",
          "text": [
            " 31%|███       | 306/999 [1:58:13<4:40:38, 24.30s/it]"
          ]
        },
        {
          "name": "stdout",
          "output_type": "stream",
          "text": [
            "Failed to load iframe after multiple attempts for 식당민남매본점.\n",
            "crawling fatil : 식당민남매본점 to fail_to_crawling\n",
            "식당민남매오라점: searchIframe 로드 및 프레임 전환 완료\n",
            "Error while clicking first search result for 식당민남매오라점: Unable to locate list container.\n"
          ]
        },
        {
          "name": "stderr",
          "output_type": "stream",
          "text": [
            " 31%|███       | 307/999 [1:58:33<4:26:12, 23.08s/it]"
          ]
        },
        {
          "name": "stdout",
          "output_type": "stream",
          "text": [
            "Failed to load iframe after multiple attempts for 식당민남매오라점.\n",
            "crawling fatil : 식당민남매오라점 to fail_to_crawling\n",
            "식사준비 제주노형점: searchIframe 로드 및 프레임 전환 완료\n",
            "식사준비 제주노형점: entryIframe이 이미 로드됨. 클릭 없이 바로 진행\n",
            "entryIframe 로드.\n",
            "Error while extracting menu/features for 식사준비 제주노형점, div 1:\n",
            "Error while extracting menu/features for 식사준비 제주노형점, div 2:\n"
          ]
        },
        {
          "name": "stderr",
          "output_type": "stream",
          "text": [
            " 31%|███       | 308/999 [1:58:56<4:26:14, 23.12s/it]"
          ]
        },
        {
          "name": "stdout",
          "output_type": "stream",
          "text": [
            "식사준비 제주삼화점: searchIframe 로드 및 프레임 전환 완료\n",
            "Error while clicking first search result for 식사준비 제주삼화점: Unable to locate list container.\n"
          ]
        },
        {
          "name": "stderr",
          "output_type": "stream",
          "text": [
            " 31%|███       | 309/999 [1:59:17<4:18:52, 22.51s/it]"
          ]
        },
        {
          "name": "stdout",
          "output_type": "stream",
          "text": [
            "Failed to load iframe after multiple attempts for 식사준비 제주삼화점.\n",
            "crawling fatil : 식사준비 제주삼화점 to fail_to_crawling\n",
            "식사준비영어교육도시점: searchIframe 로드 및 프레임 전환 완료\n",
            "식사준비영어교육도시점: entryIframe이 이미 로드됨. 클릭 없이 바로 진행\n",
            "entryIframe 로드.\n",
            "Error while extracting menu/features for 식사준비영어교육도시점, div 1:\n",
            "Error while extracting menu/features for 식사준비영어교육도시점, div 2:\n"
          ]
        },
        {
          "name": "stderr",
          "output_type": "stream",
          "text": [
            " 31%|███       | 310/999 [1:59:37<4:07:26, 21.55s/it]"
          ]
        },
        {
          "name": "stdout",
          "output_type": "stream",
          "text": [
            "식사준비제주외도점: searchIframe 로드 및 프레임 전환 완료\n",
            "식사준비제주외도점: entryIframe이 이미 로드됨. 클릭 없이 바로 진행\n",
            "entryIframe 로드.\n",
            "Error while extracting menu/features for 식사준비제주외도점, div 1:\n",
            "Error while extracting menu/features for 식사준비제주외도점, div 2:\n"
          ]
        },
        {
          "name": "stderr",
          "output_type": "stream",
          "text": [
            " 31%|███       | 311/999 [1:59:58<4:05:27, 21.41s/it]"
          ]
        },
        {
          "name": "stdout",
          "output_type": "stream",
          "text": [
            "식전당포: searchIframe 로드 및 프레임 전환 완료\n",
            "식전당포: entryIframe이 이미 로드됨. 클릭 없이 바로 진행\n",
            "entryIframe 로드.\n",
            "Error while extracting menu/features for 식전당포, div 1:\n",
            "Error while extracting menu/features for 식전당포, div 2:\n"
          ]
        },
        {
          "name": "stderr",
          "output_type": "stream",
          "text": [
            " 31%|███       | 312/999 [2:00:23<4:19:03, 22.62s/it]"
          ]
        },
        {
          "name": "stdout",
          "output_type": "stream",
          "text": [
            "식전빵장: searchIframe 로드 및 프레임 전환 완료\n",
            "식전빵장: entryIframe이 이미 로드됨. 클릭 없이 바로 진행\n",
            "entryIframe 로드.\n",
            "Error while extracting menu/features for 식전빵장, div 1:\n",
            "Error while extracting menu/features for 식전빵장, div 2:\n"
          ]
        },
        {
          "name": "stderr",
          "output_type": "stream",
          "text": [
            " 31%|███▏      | 313/999 [2:00:45<4:14:54, 22.30s/it]"
          ]
        },
        {
          "name": "stdout",
          "output_type": "stream",
          "text": [
            "식탐 메밀치킨: searchIframe 로드 및 프레임 전환 완료\n",
            "Error while clicking first search result for 식탐 메밀치킨: Unable to locate list container.\n"
          ]
        },
        {
          "name": "stderr",
          "output_type": "stream",
          "text": [
            " 31%|███▏      | 314/999 [2:01:06<4:10:15, 21.92s/it]"
          ]
        },
        {
          "name": "stdout",
          "output_type": "stream",
          "text": [
            "Failed to load iframe after multiple attempts for 식탐 메밀치킨.\n",
            "crawling fatil : 식탐 메밀치킨 to fail_to_crawling\n",
            "신 해바라기분식: searchIframe 로드 및 프레임 전환 완료\n",
            "신 해바라기분식: entryIframe이 이미 로드됨. 클릭 없이 바로 진행\n",
            "entryIframe 로드.\n",
            "Error while extracting menu/features for 신 해바라기분식, div 1:\n",
            "Error while extracting menu/features for 신 해바라기분식, div 2:\n"
          ]
        },
        {
          "name": "stderr",
          "output_type": "stream",
          "text": [
            " 32%|███▏      | 315/999 [2:01:27<4:07:54, 21.75s/it]"
          ]
        },
        {
          "name": "stdout",
          "output_type": "stream",
          "text": [
            "신관: searchIframe 로드 및 프레임 전환 완료\n",
            "신관: 첫 번째 가게 클릭 후 전환되지 않음. 다음 가게로 진행\n",
            "entryIframe 로드.\n",
            "Error while extracting datalab information for 신관:\n",
            "Error while navigating to reviews for 신관:\n"
          ]
        },
        {
          "name": "stderr",
          "output_type": "stream",
          "text": [
            " 32%|███▏      | 316/999 [2:01:55<4:27:51, 23.53s/it]"
          ]
        },
        {
          "name": "stdout",
          "output_type": "stream",
          "text": [
            "신념: searchIframe 로드 및 프레임 전환 완료\n",
            "신념: 첫 번째 가게 클릭 후 전환되지 않음. 다음 가게로 진행\n",
            "entryIframe 로드.\n",
            "Error while extracting menu/features for 신념, div 1:\n",
            "Error while extracting menu/features for 신념, div 2:\n"
          ]
        },
        {
          "name": "stderr",
          "output_type": "stream",
          "text": [
            " 32%|███▏      | 317/999 [2:02:23<4:43:37, 24.95s/it]"
          ]
        },
        {
          "name": "stdout",
          "output_type": "stream",
          "text": [
            "신대장군집: searchIframe 로드 및 프레임 전환 완료\n",
            "신대장군집: entryIframe이 이미 로드됨. 클릭 없이 바로 진행\n",
            "entryIframe 로드.\n",
            "Error while extracting menu/features for 신대장군집, div 1:\n",
            "Error while extracting menu/features for 신대장군집, div 2:\n"
          ]
        },
        {
          "name": "stderr",
          "output_type": "stream",
          "text": [
            " 32%|███▏      | 318/999 [2:02:44<4:30:44, 23.85s/it]"
          ]
        },
        {
          "name": "stdout",
          "output_type": "stream",
          "text": [
            "신도시정육식당: searchIframe 로드 및 프레임 전환 완료\n",
            "신도시정육식당: 첫 번째 가게 클릭 후 전환되지 않음. 다음 가게로 진행\n",
            "entryIframe 로드.\n",
            "Error while extracting menu/features for 신도시정육식당, div 1:\n",
            "Error while extracting menu/features for 신도시정육식당, div 2:\n"
          ]
        },
        {
          "name": "stderr",
          "output_type": "stream",
          "text": [
            " 32%|███▏      | 319/999 [2:03:12<4:44:42, 25.12s/it]"
          ]
        },
        {
          "name": "stdout",
          "output_type": "stream",
          "text": [
            "신도어촌계식당: searchIframe 로드 및 프레임 전환 완료\n",
            "신도어촌계식당: entryIframe이 이미 로드됨. 클릭 없이 바로 진행\n",
            "entryIframe 로드.\n",
            "Error while extracting menu/features for 신도어촌계식당, div 1:\n",
            "Error while extracting menu/features for 신도어촌계식당, div 2:\n"
          ]
        },
        {
          "name": "stderr",
          "output_type": "stream",
          "text": [
            " 32%|███▏      | 320/999 [2:03:33<4:30:15, 23.88s/it]"
          ]
        },
        {
          "name": "stdout",
          "output_type": "stream",
          "text": [
            "신도원: searchIframe 로드 및 프레임 전환 완료\n",
            "신도원: 링크버튼을 찾을 수 없음. xpath 대신 다른 방법 시도\n"
          ]
        },
        {
          "name": "stderr",
          "output_type": "stream",
          "text": [
            " 32%|███▏      | 321/999 [2:03:51<4:09:17, 22.06s/it]"
          ]
        },
        {
          "name": "stdout",
          "output_type": "stream",
          "text": [
            "Failed to load iframe after multiple attempts for 신도원.\n",
            "crawling fatil : 신도원 to fail_to_crawling\n",
            "신동성식당: searchIframe 로드 및 프레임 전환 완료\n",
            "신동성식당: entryIframe이 이미 로드됨. 클릭 없이 바로 진행\n",
            "entryIframe 로드.\n",
            "Error while extracting menu/features for 신동성식당, div 1:\n",
            "Error while extracting menu/features for 신동성식당, div 2:\n"
          ]
        },
        {
          "name": "stderr",
          "output_type": "stream",
          "text": [
            " 32%|███▏      | 322/999 [2:04:13<4:06:59, 21.89s/it]"
          ]
        },
        {
          "name": "stdout",
          "output_type": "stream",
          "text": [
            "신등대수산회센타: searchIframe 로드 및 프레임 전환 완료\n",
            "신등대수산회센타: entryIframe이 이미 로드됨. 클릭 없이 바로 진행\n",
            "entryIframe 로드.\n",
            "Error while extracting menu/features for 신등대수산회센타, div 1:\n",
            "Error while extracting menu/features for 신등대수산회센타, div 2:\n"
          ]
        },
        {
          "name": "stderr",
          "output_type": "stream",
          "text": [
            " 32%|███▏      | 323/999 [2:04:34<4:03:45, 21.64s/it]"
          ]
        },
        {
          "name": "stdout",
          "output_type": "stream",
          "text": [
            "신례토종닭식당: searchIframe 로드 및 프레임 전환 완료\n",
            "신례토종닭식당: 링크버튼을 찾을 수 없음. xpath 대신 다른 방법 시도\n"
          ]
        },
        {
          "name": "stderr",
          "output_type": "stream",
          "text": [
            " 32%|███▏      | 324/999 [2:04:51<3:49:44, 20.42s/it]"
          ]
        },
        {
          "name": "stdout",
          "output_type": "stream",
          "text": [
            "Failed to load iframe after multiple attempts for 신례토종닭식당.\n",
            "crawling fatil : 신례토종닭식당 to fail_to_crawling\n",
            "신마라본색: searchIframe 로드 및 프레임 전환 완료\n",
            "신마라본색: 첫 번째 가게 클릭 후 전환되지 않음. 다음 가게로 진행\n",
            "entryIframe 로드.\n",
            "Error while extracting menu/features for 신마라본색, div 1:\n",
            "Error while extracting menu/features for 신마라본색, div 2:\n"
          ]
        },
        {
          "name": "stderr",
          "output_type": "stream",
          "text": [
            " 33%|███▎      | 325/999 [2:05:20<4:16:18, 22.82s/it]"
          ]
        },
        {
          "name": "stdout",
          "output_type": "stream",
          "text": [
            "신마라본색 칠성점: searchIframe 로드 및 프레임 전환 완료\n",
            "신마라본색 칠성점: entryIframe이 이미 로드됨. 클릭 없이 바로 진행\n",
            "entryIframe 로드.\n",
            "Error while extracting menu/features for 신마라본색 칠성점, div 1:\n",
            "Error while extracting menu/features for 신마라본색 칠성점, div 2:\n"
          ]
        },
        {
          "name": "stderr",
          "output_type": "stream",
          "text": [
            " 33%|███▎      | 326/999 [2:05:41<4:10:02, 22.29s/it]"
          ]
        },
        {
          "name": "stdout",
          "output_type": "stream",
          "text": [
            "신마포갈매기신제주점: searchIframe 로드 및 프레임 전환 완료\n",
            "신마포갈매기신제주점: entryIframe이 이미 로드됨. 클릭 없이 바로 진행\n",
            "entryIframe 로드.\n",
            "Error while extracting menu/features for 신마포갈매기신제주점, div 1:\n",
            "Error while extracting menu/features for 신마포갈매기신제주점, div 2:\n"
          ]
        },
        {
          "name": "stderr",
          "output_type": "stream",
          "text": [
            " 33%|███▎      | 327/999 [2:06:02<4:06:04, 21.97s/it]"
          ]
        },
        {
          "name": "stdout",
          "output_type": "stream",
          "text": [
            "신마포갈매기제주시청점: searchIframe 로드 및 프레임 전환 완료\n",
            "신마포갈매기제주시청점: entryIframe이 이미 로드됨. 클릭 없이 바로 진행\n",
            "entryIframe 로드.\n",
            "Error while extracting menu/features for 신마포갈매기제주시청점, div 1:\n",
            "Error while extracting menu/features for 신마포갈매기제주시청점, div 2:\n"
          ]
        },
        {
          "name": "stderr",
          "output_type": "stream",
          "text": [
            " 33%|███▎      | 328/999 [2:06:23<4:03:19, 21.76s/it]"
          ]
        },
        {
          "name": "stdout",
          "output_type": "stream",
          "text": [
            "신마포갈매기제주일도점: searchIframe 로드 및 프레임 전환 완료\n",
            "신마포갈매기제주일도점: 링크버튼을 찾을 수 없음. xpath 대신 다른 방법 시도\n"
          ]
        },
        {
          "name": "stderr",
          "output_type": "stream",
          "text": [
            " 33%|███▎      | 329/999 [2:06:41<3:49:29, 20.55s/it]"
          ]
        },
        {
          "name": "stdout",
          "output_type": "stream",
          "text": [
            "Failed to load iframe after multiple attempts for 신마포갈매기제주일도점.\n",
            "crawling fatil : 신마포갈매기제주일도점 to fail_to_crawling\n",
            "신맵도리네: searchIframe 로드 및 프레임 전환 완료\n",
            "신맵도리네: entryIframe이 이미 로드됨. 클릭 없이 바로 진행\n",
            "entryIframe 로드.\n",
            "Error while extracting menu/features for 신맵도리네, div 1:\n",
            "Error while extracting menu/features for 신맵도리네, div 2:\n"
          ]
        },
        {
          "name": "stderr",
          "output_type": "stream",
          "text": [
            " 33%|███▎      | 330/999 [2:07:02<3:50:58, 20.72s/it]"
          ]
        },
        {
          "name": "stdout",
          "output_type": "stream",
          "text": [
            "신명가: searchIframe 로드 및 프레임 전환 완료\n",
            "신명가: 첫 번째 가게 클릭 후 전환되지 않음. 다음 가게로 진행\n",
            "entryIframe 로드.\n",
            "Error while extracting menu/features for 신명가, div 1:\n",
            "Error while extracting menu/features for 신명가, div 2:\n"
          ]
        },
        {
          "name": "stderr",
          "output_type": "stream",
          "text": [
            " 33%|███▎      | 331/999 [2:07:30<4:16:00, 23.00s/it]"
          ]
        },
        {
          "name": "stdout",
          "output_type": "stream",
          "text": [
            "신모슬포포구식당: searchIframe 로드 및 프레임 전환 완료\n",
            "신모슬포포구식당: entryIframe이 이미 로드됨. 클릭 없이 바로 진행\n",
            "entryIframe 로드.\n",
            "Error while extracting menu/features for 신모슬포포구식당, div 1:\n",
            "Error while extracting menu/features for 신모슬포포구식당, div 2:\n"
          ]
        },
        {
          "name": "stderr",
          "output_type": "stream",
          "text": [
            " 33%|███▎      | 332/999 [2:07:52<4:09:56, 22.48s/it]"
          ]
        },
        {
          "name": "stdout",
          "output_type": "stream",
          "text": [
            "신미국밥: searchIframe 로드 및 프레임 전환 완료\n",
            "신미국밥: 링크버튼을 찾을 수 없음. xpath 대신 다른 방법 시도\n"
          ]
        },
        {
          "name": "stderr",
          "output_type": "stream",
          "text": [
            " 33%|███▎      | 333/999 [2:08:09<3:53:09, 21.01s/it]"
          ]
        },
        {
          "name": "stdout",
          "output_type": "stream",
          "text": [
            "Failed to load iframe after multiple attempts for 신미국밥.\n",
            "crawling fatil : 신미국밥 to fail_to_crawling\n",
            "신미네: searchIframe 로드 및 프레임 전환 완료\n",
            "신미네: 첫 번째 가게 클릭 후 전환되지 않음. 다음 가게로 진행\n",
            "entryIframe 로드.\n",
            "Error while extracting menu/features for 신미네, div 1:\n",
            "Error while extracting menu/features for 신미네, div 2:\n"
          ]
        },
        {
          "name": "stderr",
          "output_type": "stream",
          "text": [
            " 33%|███▎      | 334/999 [2:08:37<4:14:42, 22.98s/it]"
          ]
        },
        {
          "name": "stdout",
          "output_type": "stream",
          "text": [
            "신미민물장어: searchIframe 로드 및 프레임 전환 완료\n",
            "신미민물장어: entryIframe이 이미 로드됨. 클릭 없이 바로 진행\n",
            "entryIframe 로드.\n",
            "Error while extracting menu/features for 신미민물장어, div 1:\n",
            "Error while extracting menu/features for 신미민물장어, div 2:\n"
          ]
        },
        {
          "name": "stderr",
          "output_type": "stream",
          "text": [
            " 34%|███▎      | 335/999 [2:08:58<4:07:43, 22.38s/it]"
          ]
        },
        {
          "name": "stdout",
          "output_type": "stream",
          "text": [
            "신미식당: searchIframe 로드 및 프레임 전환 완료\n",
            "신미식당: 첫 번째 가게 클릭 후 전환되지 않음. 다음 가게로 진행\n",
            "entryIframe 로드.\n",
            "Error while extracting menu/features for 신미식당, div 1:\n",
            "Error while extracting menu/features for 신미식당, div 2:\n"
          ]
        },
        {
          "name": "stderr",
          "output_type": "stream",
          "text": [
            " 34%|███▎      | 336/999 [2:09:26<4:27:15, 24.19s/it]"
          ]
        },
        {
          "name": "stdout",
          "output_type": "stream",
          "text": [
            "신미영이네: searchIframe 로드 및 프레임 전환 완료\n",
            "Error while clicking first search result for 신미영이네: Unable to locate list container.\n"
          ]
        },
        {
          "name": "stderr",
          "output_type": "stream",
          "text": [
            " 34%|███▎      | 337/999 [2:09:47<4:15:49, 23.19s/it]"
          ]
        },
        {
          "name": "stdout",
          "output_type": "stream",
          "text": [
            "Failed to load iframe after multiple attempts for 신미영이네.\n",
            "crawling fatil : 신미영이네 to fail_to_crawling\n",
            "신백정: searchIframe 로드 및 프레임 전환 완료\n",
            "신백정: entryIframe이 이미 로드됨. 클릭 없이 바로 진행\n",
            "entryIframe 로드.\n",
            "Error while extracting menu/features for 신백정, div 1:\n",
            "Error while extracting menu/features for 신백정, div 2:\n"
          ]
        },
        {
          "name": "stderr",
          "output_type": "stream",
          "text": [
            " 34%|███▍      | 338/999 [2:10:08<4:09:10, 22.62s/it]"
          ]
        },
        {
          "name": "stdout",
          "output_type": "stream",
          "text": [
            "신봉닭발: searchIframe 로드 및 프레임 전환 완료\n",
            "신봉닭발: 첫 번째 가게 클릭 후 전환되지 않음. 다음 가게로 진행\n",
            "entryIframe 로드.\n",
            "Error while extracting menu/features for 신봉닭발, div 1:\n"
          ]
        },
        {
          "name": "stderr",
          "output_type": "stream",
          "text": [
            " 34%|███▍      | 339/999 [2:10:32<4:13:31, 23.05s/it]"
          ]
        },
        {
          "name": "stdout",
          "output_type": "stream",
          "text": [
            "Error while extracting menu/features for 신봉닭발, div 2:\n",
            " 사진 버튼 없음 : 신봉닭발.\n",
            "신비가든: searchIframe 로드 및 프레임 전환 완료\n",
            "신비가든: 첫 번째 가게 클릭 후 전환되지 않음. 다음 가게로 진행\n",
            "entryIframe 로드.\n",
            "Error while extracting menu/features for 신비가든, div 1:\n",
            "Error while extracting menu/features for 신비가든, div 2:\n"
          ]
        },
        {
          "name": "stderr",
          "output_type": "stream",
          "text": [
            " 34%|███▍      | 340/999 [2:11:00<4:29:05, 24.50s/it]"
          ]
        },
        {
          "name": "stdout",
          "output_type": "stream",
          "text": [
            "신비섬: searchIframe 로드 및 프레임 전환 완료\n",
            "신비섬: 첫 번째 가게 클릭 후 전환되지 않음. 다음 가게로 진행\n",
            "entryIframe 로드.\n",
            "Error while extracting menu/features for 신비섬, div 1:\n",
            "Error while extracting menu/features for 신비섬, div 2:\n"
          ]
        },
        {
          "name": "stderr",
          "output_type": "stream",
          "text": [
            " 34%|███▍      | 341/999 [2:11:29<4:41:43, 25.69s/it]"
          ]
        },
        {
          "name": "stdout",
          "output_type": "stream",
          "text": [
            "신비의사랑: searchIframe 로드 및 프레임 전환 완료\n",
            "신비의사랑: entryIframe이 이미 로드됨. 클릭 없이 바로 진행\n",
            "entryIframe 로드.\n",
            "Error while extracting menu/features for 신비의사랑, div 1:\n",
            "Error while extracting menu/features for 신비의사랑, div 2:\n"
          ]
        },
        {
          "name": "stderr",
          "output_type": "stream",
          "text": [
            " 34%|███▍      | 342/999 [2:11:50<4:26:44, 24.36s/it]"
          ]
        },
        {
          "name": "stdout",
          "output_type": "stream",
          "text": [
            "신사동식당: searchIframe 로드 및 프레임 전환 완료\n",
            "신사동식당: 링크버튼을 찾을 수 없음. xpath 대신 다른 방법 시도\n"
          ]
        },
        {
          "name": "stderr",
          "output_type": "stream",
          "text": [
            " 34%|███▍      | 343/999 [2:12:11<4:13:40, 23.20s/it]"
          ]
        },
        {
          "name": "stdout",
          "output_type": "stream",
          "text": [
            "Failed to load iframe after multiple attempts for 신사동식당.\n",
            "crawling fatil : 신사동식당 to fail_to_crawling\n",
            "신사본가송탄부대찌개: searchIframe 로드 및 프레임 전환 완료\n",
            "신사본가송탄부대찌개: entryIframe이 이미 로드됨. 클릭 없이 바로 진행\n",
            "entryIframe 로드.\n",
            "Error while extracting menu/features for 신사본가송탄부대찌개, div 1:\n",
            "Error while extracting menu/features for 신사본가송탄부대찌개, div 2:\n"
          ]
        },
        {
          "name": "stderr",
          "output_type": "stream",
          "text": [
            " 34%|███▍      | 344/999 [2:12:34<4:12:36, 23.14s/it]"
          ]
        },
        {
          "name": "stdout",
          "output_type": "stream",
          "text": [
            "신사사일: searchIframe 로드 및 프레임 전환 완료\n",
            "신사사일: 첫 번째 가게 클릭 후 전환되지 않음. 다음 가게로 진행\n",
            "entryIframe 로드.\n",
            "Error while extracting menu/features for 신사사일, div 1:\n"
          ]
        },
        {
          "name": "stderr",
          "output_type": "stream",
          "text": [
            " 35%|███▍      | 345/999 [2:12:58<4:15:48, 23.47s/it]"
          ]
        },
        {
          "name": "stdout",
          "output_type": "stream",
          "text": [
            "Error while extracting menu/features for 신사사일, div 2:\n",
            " 사진 버튼 없음 : 신사사일.\n",
            "신산나들목: searchIframe 로드 및 프레임 전환 완료\n",
            "신산나들목: entryIframe이 이미 로드됨. 클릭 없이 바로 진행\n",
            "entryIframe 로드.\n",
            "Error while extracting menu/features for 신산나들목, div 1:\n",
            "Error while extracting menu/features for 신산나들목, div 2:\n"
          ]
        },
        {
          "name": "stderr",
          "output_type": "stream",
          "text": [
            " 35%|███▍      | 346/999 [2:13:19<4:09:06, 22.89s/it]"
          ]
        },
        {
          "name": "stdout",
          "output_type": "stream",
          "text": [
            "신산리마을카페: searchIframe 로드 및 프레임 전환 완료\n",
            "신산리마을카페: 첫 번째 가게 클릭 후 전환되지 않음. 다음 가게로 진행\n",
            "entryIframe 로드.\n",
            "Error while extracting menu/features for 신산리마을카페, div 1:\n",
            "Error while extracting menu/features for 신산리마을카페, div 2:\n"
          ]
        },
        {
          "name": "stderr",
          "output_type": "stream",
          "text": [
            " 35%|███▍      | 347/999 [2:13:45<4:18:20, 23.77s/it]"
          ]
        },
        {
          "name": "stdout",
          "output_type": "stream",
          "text": [
            "신산명성식당: searchIframe 로드 및 프레임 전환 완료\n",
            "Error while clicking first search result for 신산명성식당: Unable to locate list container.\n"
          ]
        },
        {
          "name": "stderr",
          "output_type": "stream",
          "text": [
            " 35%|███▍      | 348/999 [2:14:06<4:08:29, 22.90s/it]"
          ]
        },
        {
          "name": "stdout",
          "output_type": "stream",
          "text": [
            "Failed to load iframe after multiple attempts for 신산명성식당.\n",
            "crawling fatil : 신산명성식당 to fail_to_crawling\n",
            "신산복어집: searchIframe 로드 및 프레임 전환 완료\n",
            "신산복어집: entryIframe이 이미 로드됨. 클릭 없이 바로 진행\n",
            "entryIframe 로드.\n",
            "Error while extracting menu/features for 신산복어집, div 1:\n",
            "Error while extracting menu/features for 신산복어집, div 2:\n"
          ]
        },
        {
          "name": "stderr",
          "output_type": "stream",
          "text": [
            " 35%|███▍      | 349/999 [2:14:27<4:02:30, 22.39s/it]"
          ]
        },
        {
          "name": "stdout",
          "output_type": "stream",
          "text": [
            "신산포구수산자연산횟집: searchIframe 로드 및 프레임 전환 완료\n",
            "Error while clicking first search result for 신산포구수산자연산횟집: Unable to locate list container.\n"
          ]
        },
        {
          "name": "stderr",
          "output_type": "stream",
          "text": [
            " 35%|███▌      | 350/999 [2:14:48<3:56:38, 21.88s/it]"
          ]
        },
        {
          "name": "stdout",
          "output_type": "stream",
          "text": [
            "Failed to load iframe after multiple attempts for 신산포구수산자연산횟집.\n",
            "crawling fatil : 신산포구수산자연산횟집 to fail_to_crawling\n",
            "신삼다: searchIframe 로드 및 프레임 전환 완료\n",
            "신삼다: entryIframe이 이미 로드됨. 클릭 없이 바로 진행\n",
            "entryIframe 로드.\n",
            "Error while extracting datalab information for 신삼다:\n",
            "Error while extracting menu/features for 신삼다, div 1:\n",
            "Error while extracting menu/features for 신삼다, div 2:\n"
          ]
        },
        {
          "name": "stderr",
          "output_type": "stream",
          "text": [
            " 35%|███▌      | 351/999 [2:15:09<3:53:04, 21.58s/it]"
          ]
        },
        {
          "name": "stdout",
          "output_type": "stream",
          "text": [
            "이미지 추출 오류 2 for 신삼다 \n",
            "이미지 추출 오류 3 for 신삼다 \n",
            "이미지 추출 오류 4 for 신삼다 \n",
            "이미지 추출 오류 5 for 신삼다 \n",
            "이미지 추출 오류 6 for 신삼다 \n",
            "이미지 추출 오류 7 for 신삼다 \n",
            "이미지 추출 오류 8 for 신삼다 \n",
            "이미지 추출 오류 9 for 신삼다 \n",
            "이미지 추출 오류 10 for 신삼다 \n",
            "신삼미식당: searchIframe 로드 및 프레임 전환 완료\n",
            "신삼미식당: entryIframe이 이미 로드됨. 클릭 없이 바로 진행\n",
            "entryIframe 로드.\n",
            "Error while extracting menu/features for 신삼미식당, div 1:\n",
            "Error while extracting menu/features for 신삼미식당, div 2:\n"
          ]
        },
        {
          "name": "stderr",
          "output_type": "stream",
          "text": [
            " 35%|███▌      | 352/999 [2:15:30<3:51:10, 21.44s/it]"
          ]
        },
        {
          "name": "stdout",
          "output_type": "stream",
          "text": [
            "신선도: searchIframe 로드 및 프레임 전환 완료\n",
            "신선도: 첫 번째 가게 클릭 후 전환되지 않음. 다음 가게로 진행\n",
            "entryIframe 로드.\n",
            "Error while extracting menu/features for 신선도, div 1:\n",
            "Error while extracting menu/features for 신선도, div 2:\n"
          ]
        },
        {
          "name": "stderr",
          "output_type": "stream",
          "text": [
            " 35%|███▌      | 353/999 [2:15:59<4:14:42, 23.66s/it]"
          ]
        },
        {
          "name": "stdout",
          "output_type": "stream",
          "text": [
            "신설돈가: searchIframe 로드 및 프레임 전환 완료\n",
            "신설돈가: entryIframe이 이미 로드됨. 클릭 없이 바로 진행\n",
            "entryIframe 로드.\n",
            "Error while extracting menu/features for 신설돈가, div 1:\n",
            "Error while extracting menu/features for 신설돈가, div 2:\n"
          ]
        },
        {
          "name": "stderr",
          "output_type": "stream",
          "text": [
            " 35%|███▌      | 354/999 [2:16:20<4:07:31, 23.03s/it]"
          ]
        },
        {
          "name": "stdout",
          "output_type": "stream",
          "text": [
            "신설오름: searchIframe 로드 및 프레임 전환 완료\n",
            "신설오름: entryIframe이 이미 로드됨. 클릭 없이 바로 진행\n",
            "entryIframe 로드.\n",
            "Error while extracting menu/features for 신설오름, div 1:\n",
            "Error while extracting menu/features for 신설오름, div 2:\n"
          ]
        },
        {
          "name": "stderr",
          "output_type": "stream",
          "text": [
            " 36%|███▌      | 355/999 [2:16:40<3:56:10, 22.00s/it]"
          ]
        },
        {
          "name": "stdout",
          "output_type": "stream",
          "text": [
            "신성: searchIframe 로드 및 프레임 전환 완료\n",
            "신성: 첫 번째 가게 클릭 후 전환되지 않음. 다음 가게로 진행\n",
            "entryIframe 로드.\n",
            "Error while extracting menu/features for 신성, div 1:\n",
            "Error while extracting menu/features for 신성, div 2:\n"
          ]
        },
        {
          "name": "stderr",
          "output_type": "stream",
          "text": [
            " 36%|███▌      | 356/999 [2:17:09<4:17:29, 24.03s/it]"
          ]
        },
        {
          "name": "stdout",
          "output_type": "stream",
          "text": [
            "신성할망식당: searchIframe 로드 및 프레임 전환 완료\n",
            "신성할망식당: entryIframe이 이미 로드됨. 클릭 없이 바로 진행\n",
            "entryIframe 로드.\n",
            "Error while extracting menu/features for 신성할망식당, div 1:\n",
            "Error while extracting menu/features for 신성할망식당, div 2:\n"
          ]
        },
        {
          "name": "stderr",
          "output_type": "stream",
          "text": [
            " 36%|███▌      | 357/999 [2:17:30<4:08:45, 23.25s/it]"
          ]
        },
        {
          "name": "stdout",
          "output_type": "stream",
          "text": [
            "신수성: searchIframe 로드 및 프레임 전환 완료\n",
            "신수성: 링크버튼을 찾을 수 없음. xpath 대신 다른 방법 시도\n"
          ]
        },
        {
          "name": "stderr",
          "output_type": "stream",
          "text": [
            " 36%|███▌      | 358/999 [2:17:48<3:51:45, 21.69s/it]"
          ]
        },
        {
          "name": "stdout",
          "output_type": "stream",
          "text": [
            "Failed to load iframe after multiple attempts for 신수성.\n",
            "crawling fatil : 신수성 to fail_to_crawling\n",
            "신스버거: searchIframe 로드 및 프레임 전환 완료\n",
            "신스버거: entryIframe이 이미 로드됨. 클릭 없이 바로 진행\n",
            "entryIframe 로드.\n",
            "Error while extracting menu/features for 신스버거, div 1:\n"
          ]
        },
        {
          "name": "stderr",
          "output_type": "stream",
          "text": [
            " 36%|███▌      | 359/999 [2:18:09<3:49:09, 21.48s/it]"
          ]
        },
        {
          "name": "stdout",
          "output_type": "stream",
          "text": [
            "Error while extracting menu/features for 신스버거, div 2:\n",
            " 사진 버튼 없음 : 신스버거.\n",
            "신시가지굽네치킨: searchIframe 로드 및 프레임 전환 완료\n",
            "신시가지굽네치킨: 링크버튼을 찾을 수 없음. xpath 대신 다른 방법 시도\n"
          ]
        },
        {
          "name": "stderr",
          "output_type": "stream",
          "text": [
            " 36%|███▌      | 360/999 [2:18:27<3:37:24, 20.41s/it]"
          ]
        },
        {
          "name": "stdout",
          "output_type": "stream",
          "text": [
            "Failed to load iframe after multiple attempts for 신시가지굽네치킨.\n",
            "crawling fatil : 신시가지굽네치킨 to fail_to_crawling\n",
            "신시가지네네치킨: searchIframe 로드 및 프레임 전환 완료\n",
            "신시가지네네치킨: 링크버튼을 찾을 수 없음. xpath 대신 다른 방법 시도\n"
          ]
        },
        {
          "name": "stderr",
          "output_type": "stream",
          "text": [
            " 36%|███▌      | 361/999 [2:18:44<3:27:20, 19.50s/it]"
          ]
        },
        {
          "name": "stdout",
          "output_type": "stream",
          "text": [
            "Failed to load iframe after multiple attempts for 신시가지네네치킨.\n",
            "crawling fatil : 신시가지네네치킨 to fail_to_crawling\n",
            "신시가지횟집: searchIframe 로드 및 프레임 전환 완료\n",
            "신시가지횟집: 첫 번째 가게 클릭 후 전환되지 않음. 다음 가게로 진행\n",
            "entryIframe 로드.\n",
            "Error while extracting menu/features for 신시가지횟집, div 1:\n",
            "Error while extracting menu/features for 신시가지횟집, div 2:\n"
          ]
        },
        {
          "name": "stderr",
          "output_type": "stream",
          "text": [
            " 36%|███▌      | 362/999 [2:19:11<3:48:35, 21.53s/it]"
          ]
        },
        {
          "name": "stdout",
          "output_type": "stream",
          "text": [
            "신신식육식당: searchIframe 로드 및 프레임 전환 완료\n",
            "신신식육식당: 링크버튼을 찾을 수 없음. xpath 대신 다른 방법 시도\n"
          ]
        },
        {
          "name": "stderr",
          "output_type": "stream",
          "text": [
            " 36%|███▋      | 363/999 [2:19:29<3:37:07, 20.48s/it]"
          ]
        },
        {
          "name": "stdout",
          "output_type": "stream",
          "text": [
            "Failed to load iframe after multiple attempts for 신신식육식당.\n",
            "crawling fatil : 신신식육식당 to fail_to_crawling\n"
          ]
        },
        {
          "name": "stderr",
          "output_type": "stream",
          "text": [
            " 36%|███▋      | 364/999 [2:19:32<2:43:03, 15.41s/it]"
          ]
        },
        {
          "name": "stdout",
          "output_type": "stream",
          "text": [
            "iframe을 찾을 수 없음 for 신양로118\n",
            "신양장어: searchIframe 로드 및 프레임 전환 완료\n",
            "신양장어: entryIframe이 이미 로드됨. 클릭 없이 바로 진행\n",
            "entryIframe 로드.\n",
            "Error while extracting menu/features for 신양장어, div 1:\n",
            "Error while extracting menu/features for 신양장어, div 2:\n"
          ]
        },
        {
          "name": "stderr",
          "output_type": "stream",
          "text": [
            " 37%|███▋      | 365/999 [2:19:53<3:00:40, 17.10s/it]"
          ]
        },
        {
          "name": "stdout",
          "output_type": "stream",
          "text": [
            "신엄시골밥집: searchIframe 로드 및 프레임 전환 완료\n",
            "신엄시골밥집: entryIframe이 이미 로드됨. 클릭 없이 바로 진행\n",
            "entryIframe 로드.\n",
            "Error while extracting menu/features for 신엄시골밥집, div 1:\n",
            "Error while extracting menu/features for 신엄시골밥집, div 2:\n"
          ]
        },
        {
          "name": "stderr",
          "output_type": "stream",
          "text": [
            " 37%|███▋      | 366/999 [2:20:15<3:13:50, 18.37s/it]"
          ]
        },
        {
          "name": "stdout",
          "output_type": "stream",
          "text": [
            "신엄해녀의집: searchIframe 로드 및 프레임 전환 완료\n",
            "신엄해녀의집: entryIframe이 이미 로드됨. 클릭 없이 바로 진행\n",
            "entryIframe 로드.\n",
            "Error while extracting menu/features for 신엄해녀의집, div 1:\n",
            "Error while extracting menu/features for 신엄해녀의집, div 2:\n"
          ]
        },
        {
          "name": "stderr",
          "output_type": "stream",
          "text": [
            " 37%|███▋      | 367/999 [2:20:36<3:23:03, 19.28s/it]"
          ]
        },
        {
          "name": "stdout",
          "output_type": "stream",
          "text": [
            "신염천하마라탕: searchIframe 로드 및 프레임 전환 완료\n",
            "신염천하마라탕: 첫 번째 가게 클릭 후 전환되지 않음. 다음 가게로 진행\n",
            "entryIframe 로드.\n",
            "Error while extracting menu/features for 신염천하마라탕, div 1:\n",
            "Error while extracting menu/features for 신염천하마라탕, div 2:\n"
          ]
        },
        {
          "name": "stderr",
          "output_type": "stream",
          "text": [
            " 37%|███▋      | 368/999 [2:21:04<3:50:47, 21.94s/it]"
          ]
        },
        {
          "name": "stdout",
          "output_type": "stream",
          "text": [
            "신영돌판구이: searchIframe 로드 및 프레임 전환 완료\n",
            "신영돌판구이: entryIframe이 이미 로드됨. 클릭 없이 바로 진행\n",
            "entryIframe 로드.\n",
            "Error while extracting menu/features for 신영돌판구이, div 1:\n",
            "Error while extracting menu/features for 신영돌판구이, div 2:\n"
          ]
        },
        {
          "name": "stderr",
          "output_type": "stream",
          "text": [
            " 37%|███▋      | 369/999 [2:21:26<3:49:07, 21.82s/it]"
          ]
        },
        {
          "name": "stdout",
          "output_type": "stream",
          "text": [
            "신옛촌: searchIframe 로드 및 프레임 전환 완료\n",
            "신옛촌: 첫 번째 가게 클릭 후 전환되지 않음. 다음 가게로 진행\n",
            "entryIframe 로드.\n",
            "Error while extracting menu/features for 신옛촌, div 1:\n",
            "Error while extracting menu/features for 신옛촌, div 2:\n"
          ]
        },
        {
          "name": "stderr",
          "output_type": "stream",
          "text": [
            " 37%|███▋      | 370/999 [2:21:54<4:09:52, 23.84s/it]"
          ]
        },
        {
          "name": "stdout",
          "output_type": "stream",
          "text": [
            "신옛촌 제주점: searchIframe 로드 및 프레임 전환 완료\n",
            "신옛촌 제주점: entryIframe이 이미 로드됨. 클릭 없이 바로 진행\n",
            "entryIframe 로드.\n",
            "Error while extracting menu/features for 신옛촌 제주점, div 1:\n",
            "Error while extracting menu/features for 신옛촌 제주점, div 2:\n"
          ]
        },
        {
          "name": "stderr",
          "output_type": "stream",
          "text": [
            " 37%|███▋      | 371/999 [2:22:16<4:02:45, 23.19s/it]"
          ]
        },
        {
          "name": "stdout",
          "output_type": "stream",
          "text": [
            "신왕: searchIframe 로드 및 프레임 전환 완료\n",
            "신왕: 첫 번째 가게 클릭 후 전환되지 않음. 다음 가게로 진행\n",
            "entryIframe 로드.\n",
            "Error while extracting datalab information for 신왕:\n",
            "Error while navigating to reviews for 신왕:\n"
          ]
        },
        {
          "name": "stderr",
          "output_type": "stream",
          "text": [
            " 37%|███▋      | 372/999 [2:22:38<3:57:50, 22.76s/it]"
          ]
        },
        {
          "name": "stdout",
          "output_type": "stream",
          "text": [
            "이미지 추출 오류 3 for 신왕 \n",
            "이미지 추출 오류 4 for 신왕 \n",
            "이미지 추출 오류 5 for 신왕 \n",
            "이미지 추출 오류 6 for 신왕 \n",
            "이미지 추출 오류 7 for 신왕 \n",
            "이미지 추출 오류 8 for 신왕 \n",
            "이미지 추출 오류 9 for 신왕 \n",
            "이미지 추출 오류 10 for 신왕 \n",
            "신용숯불갈비: searchIframe 로드 및 프레임 전환 완료\n",
            "신용숯불갈비: 링크버튼을 찾을 수 없음. xpath 대신 다른 방법 시도\n"
          ]
        },
        {
          "name": "stderr",
          "output_type": "stream",
          "text": [
            " 37%|███▋      | 373/999 [2:22:55<3:41:25, 21.22s/it]"
          ]
        },
        {
          "name": "stdout",
          "output_type": "stream",
          "text": [
            "Failed to load iframe after multiple attempts for 신용숯불갈비.\n",
            "crawling fatil : 신용숯불갈비 to fail_to_crawling\n",
            "신우가촌: searchIframe 로드 및 프레임 전환 완료\n",
            "신우가촌: entryIframe이 이미 로드됨. 클릭 없이 바로 진행\n",
            "entryIframe 로드.\n",
            "Error while extracting menu/features for 신우가촌, div 1:\n",
            "Error while extracting menu/features for 신우가촌, div 2:\n"
          ]
        },
        {
          "name": "stderr",
          "output_type": "stream",
          "text": [
            " 37%|███▋      | 374/999 [2:23:18<3:44:08, 21.52s/it]"
          ]
        },
        {
          "name": "stdout",
          "output_type": "stream",
          "text": [
            "신우성타운: searchIframe 로드 및 프레임 전환 완료\n",
            "신우성타운: 첫 번째 가게 클릭 후 전환되지 않음. 다음 가게로 진행\n",
            "entryIframe 로드.\n",
            "Error while extracting menu/features for 신우성타운, div 1:\n",
            "Error while extracting menu/features for 신우성타운, div 2:\n"
          ]
        },
        {
          "name": "stderr",
          "output_type": "stream",
          "text": [
            " 38%|███▊      | 375/999 [2:23:46<4:04:01, 23.46s/it]"
          ]
        },
        {
          "name": "stdout",
          "output_type": "stream",
          "text": [
            "신우성흑돼지: searchIframe 로드 및 프레임 전환 완료\n",
            "신우성흑돼지: entryIframe이 이미 로드됨. 클릭 없이 바로 진행\n",
            "entryIframe 로드.\n",
            "Error while extracting menu/features for 신우성흑돼지, div 1:\n",
            "Error while extracting menu/features for 신우성흑돼지, div 2:\n"
          ]
        },
        {
          "name": "stderr",
          "output_type": "stream",
          "text": [
            " 38%|███▊      | 376/999 [2:24:09<4:03:03, 23.41s/it]"
          ]
        },
        {
          "name": "stdout",
          "output_type": "stream",
          "text": [
            "신의주찹쌀순대제주본점: searchIframe 로드 및 프레임 전환 완료\n",
            "Error while clicking first search result for 신의주찹쌀순대제주본점: Unable to locate list container.\n"
          ]
        },
        {
          "name": "stderr",
          "output_type": "stream",
          "text": [
            " 38%|███▊      | 377/999 [2:24:30<3:54:43, 22.64s/it]"
          ]
        },
        {
          "name": "stdout",
          "output_type": "stream",
          "text": [
            "Failed to load iframe after multiple attempts for 신의주찹쌀순대제주본점.\n",
            "crawling fatil : 신의주찹쌀순대제주본점 to fail_to_crawling\n",
            "신의주찹쌀순대제주점: searchIframe 로드 및 프레임 전환 완료\n",
            "신의주찹쌀순대제주점: entryIframe이 이미 로드됨. 클릭 없이 바로 진행\n",
            "entryIframe 로드.\n",
            "Error while extracting menu/features for 신의주찹쌀순대제주점, div 1:\n",
            "Error while extracting menu/features for 신의주찹쌀순대제주점, div 2:\n"
          ]
        },
        {
          "name": "stderr",
          "output_type": "stream",
          "text": [
            " 38%|███▊      | 378/999 [2:24:51<3:51:27, 22.36s/it]"
          ]
        },
        {
          "name": "stdout",
          "output_type": "stream",
          "text": [
            " 사진 버튼 없음 : 신의주찹쌀순대제주점.\n",
            "신의한근: searchIframe 로드 및 프레임 전환 완료\n",
            "신의한근: entryIframe이 이미 로드됨. 클릭 없이 바로 진행\n",
            "entryIframe 로드.\n",
            "Error while extracting menu/features for 신의한근, div 1:\n",
            "Error while extracting menu/features for 신의한근, div 2:\n"
          ]
        },
        {
          "name": "stderr",
          "output_type": "stream",
          "text": [
            " 38%|███▊      | 379/999 [2:25:13<3:48:58, 22.16s/it]"
          ]
        },
        {
          "name": "stdout",
          "output_type": "stream",
          "text": [
            "신의한모: searchIframe 로드 및 프레임 전환 완료\n",
            "신의한모: entryIframe이 이미 로드됨. 클릭 없이 바로 진행\n",
            "entryIframe 로드.\n",
            "Error while extracting menu/features for 신의한모, div 1:\n",
            "Error while extracting menu/features for 신의한모, div 2:\n"
          ]
        },
        {
          "name": "stderr",
          "output_type": "stream",
          "text": [
            " 38%|███▊      | 380/999 [2:25:35<3:46:40, 21.97s/it]"
          ]
        },
        {
          "name": "stdout",
          "output_type": "stream",
          "text": [
            "신이내린닭 신제주신이점: searchIframe 로드 및 프레임 전환 완료\n",
            "신이내린닭 신제주신이점: entryIframe이 이미 로드됨. 클릭 없이 바로 진행\n",
            "entryIframe 로드.\n",
            "Error while extracting menu/features for 신이내린닭 신제주신이점, div 1:\n",
            "Error while extracting menu/features for 신이내린닭 신제주신이점, div 2:\n"
          ]
        },
        {
          "name": "stderr",
          "output_type": "stream",
          "text": [
            " 38%|███▊      | 381/999 [2:25:56<3:44:24, 21.79s/it]"
          ]
        },
        {
          "name": "stdout",
          "output_type": "stream",
          "text": [
            "신이네사거리식당: searchIframe 로드 및 프레임 전환 완료\n",
            "신이네사거리식당: entryIframe이 이미 로드됨. 클릭 없이 바로 진행\n",
            "entryIframe 로드.\n",
            "Error while extracting menu/features for 신이네사거리식당, div 1:\n",
            "Error while extracting menu/features for 신이네사거리식당, div 2:\n"
          ]
        },
        {
          "name": "stderr",
          "output_type": "stream",
          "text": [
            " 38%|███▊      | 382/999 [2:26:17<3:42:56, 21.68s/it]"
          ]
        },
        {
          "name": "stdout",
          "output_type": "stream",
          "text": [
            "신전떡볶이: searchIframe 로드 및 프레임 전환 완료\n",
            "신전떡볶이: 링크버튼을 찾을 수 없음. xpath 대신 다른 방법 시도\n"
          ]
        },
        {
          "name": "stderr",
          "output_type": "stream",
          "text": [
            " 38%|███▊      | 383/999 [2:26:36<3:34:03, 20.85s/it]"
          ]
        },
        {
          "name": "stdout",
          "output_type": "stream",
          "text": [
            "Failed to load iframe after multiple attempts for 신전떡볶이.\n",
            "crawling fatil : 신전떡볶이 to fail_to_crawling\n",
            "신제가든: searchIframe 로드 및 프레임 전환 완료\n",
            "신제가든: entryIframe이 이미 로드됨. 클릭 없이 바로 진행\n",
            "entryIframe 로드.\n",
            "Error while extracting datalab information for 신제가든:\n",
            "Error while navigating to reviews for 신제가든:\n"
          ]
        },
        {
          "name": "stderr",
          "output_type": "stream",
          "text": [
            " 38%|███▊      | 384/999 [2:26:57<3:33:01, 20.78s/it]"
          ]
        },
        {
          "name": "stdout",
          "output_type": "stream",
          "text": [
            "이미지 추출 오류 3 for 신제가든 \n",
            "이미지 추출 오류 4 for 신제가든 \n",
            "이미지 추출 오류 5 for 신제가든 \n",
            "이미지 추출 오류 6 for 신제가든 \n",
            "이미지 추출 오류 7 for 신제가든 \n",
            "이미지 추출 오류 8 for 신제가든 \n",
            "이미지 추출 오류 9 for 신제가든 \n",
            "이미지 추출 오류 10 for 신제가든 \n",
            "신제일: searchIframe 로드 및 프레임 전환 완료\n",
            "신제일: 첫 번째 가게 클릭 후 전환되지 않음. 다음 가게로 진행\n",
            "entryIframe 로드.\n",
            "Error while extracting datalab information for 신제일:\n",
            "Error while navigating to reviews for 신제일:\n"
          ]
        },
        {
          "name": "stderr",
          "output_type": "stream",
          "text": [
            " 39%|███▊      | 385/999 [2:27:23<3:49:55, 22.47s/it]"
          ]
        },
        {
          "name": "stdout",
          "output_type": "stream",
          "text": [
            "이미지 추출 오류 3 for 신제일 \n",
            "이미지 추출 오류 4 for 신제일 \n",
            "이미지 추출 오류 5 for 신제일 \n",
            "이미지 추출 오류 6 for 신제일 \n",
            "이미지 추출 오류 7 for 신제일 \n",
            "이미지 추출 오류 8 for 신제일 \n",
            "이미지 추출 오류 9 for 신제일 \n",
            "이미지 추출 오류 10 for 신제일 \n",
            "신제주그랜드: searchIframe 로드 및 프레임 전환 완료\n",
            "신제주그랜드: 첫 번째 가게 클릭 후 전환되지 않음. 다음 가게로 진행\n",
            "entryIframe 로드.\n",
            "Error while extracting menu/features for 신제주그랜드, div 1:\n",
            "Error while extracting menu/features for 신제주그랜드, div 2:\n"
          ]
        },
        {
          "name": "stderr",
          "output_type": "stream",
          "text": [
            " 39%|███▊      | 386/999 [2:27:51<4:06:30, 24.13s/it]"
          ]
        },
        {
          "name": "stdout",
          "output_type": "stream",
          "text": [
            "신제주배스킨라빈스: searchIframe 로드 및 프레임 전환 완료\n",
            "신제주배스킨라빈스: entryIframe이 이미 로드됨. 클릭 없이 바로 진행\n",
            "entryIframe 로드.\n",
            "Error while extracting menu/features for 신제주배스킨라빈스, div 1:\n",
            "Error while extracting menu/features for 신제주배스킨라빈스, div 2:\n"
          ]
        },
        {
          "name": "stderr",
          "output_type": "stream",
          "text": [
            " 39%|███▊      | 387/999 [2:28:08<3:44:22, 22.00s/it]"
          ]
        },
        {
          "name": "stdout",
          "output_type": "stream",
          "text": [
            " 사진 버튼 없음 : 신제주배스킨라빈스.\n",
            "신제주보말칼국수제주본점: searchIframe 로드 및 프레임 전환 완료\n",
            "신제주보말칼국수제주본점: entryIframe이 이미 로드됨. 클릭 없이 바로 진행\n",
            "entryIframe 로드.\n",
            "Error while extracting menu/features for 신제주보말칼국수제주본점, div 1:\n",
            "Error while extracting menu/features for 신제주보말칼국수제주본점, div 2:\n"
          ]
        },
        {
          "name": "stderr",
          "output_type": "stream",
          "text": [
            " 39%|███▉      | 388/999 [2:28:34<3:55:11, 23.10s/it]"
          ]
        },
        {
          "name": "stdout",
          "output_type": "stream",
          "text": [
            "신제주보쌈: searchIframe 로드 및 프레임 전환 완료\n",
            "신제주보쌈: 첫 번째 가게 클릭 후 전환되지 않음. 다음 가게로 진행\n",
            "entryIframe 로드.\n",
            "Error while extracting menu/features for 신제주보쌈, div 1:\n",
            "Error while extracting menu/features for 신제주보쌈, div 2:\n"
          ]
        },
        {
          "name": "stderr",
          "output_type": "stream",
          "text": [
            " 39%|███▉      | 389/999 [2:29:02<4:10:09, 24.61s/it]"
          ]
        },
        {
          "name": "stdout",
          "output_type": "stream",
          "text": [
            "신제주빠빠라기: searchIframe 로드 및 프레임 전환 완료\n",
            "신제주빠빠라기: entryIframe이 이미 로드됨. 클릭 없이 바로 진행\n",
            "entryIframe 로드.\n",
            "Error while extracting menu/features for 신제주빠빠라기, div 1:\n",
            "Error while extracting menu/features for 신제주빠빠라기, div 2:\n"
          ]
        },
        {
          "name": "stderr",
          "output_type": "stream",
          "text": [
            " 39%|███▉      | 390/999 [2:29:22<3:55:03, 23.16s/it]"
          ]
        },
        {
          "name": "stdout",
          "output_type": "stream",
          "text": [
            "신제주삼보: searchIframe 로드 및 프레임 전환 완료\n",
            "신제주삼보: 첫 번째 가게 클릭 후 전환되지 않음. 다음 가게로 진행\n",
            "entryIframe 로드.\n",
            "Error while extracting menu/features for 신제주삼보, div 1:\n",
            "Error while extracting menu/features for 신제주삼보, div 2:\n"
          ]
        },
        {
          "name": "stderr",
          "output_type": "stream",
          "text": [
            " 39%|███▉      | 391/999 [2:29:50<4:10:25, 24.71s/it]"
          ]
        },
        {
          "name": "stdout",
          "output_type": "stream",
          "text": [
            "신제주신신불닭발연동: searchIframe 로드 및 프레임 전환 완료\n",
            "Error while clicking first search result for 신제주신신불닭발연동: Unable to locate list container.\n"
          ]
        },
        {
          "name": "stderr",
          "output_type": "stream",
          "text": [
            " 39%|███▉      | 392/999 [2:30:11<3:57:00, 23.43s/it]"
          ]
        },
        {
          "name": "stdout",
          "output_type": "stream",
          "text": [
            "Failed to load iframe after multiple attempts for 신제주신신불닭발연동.\n",
            "crawling fatil : 신제주신신불닭발연동 to fail_to_crawling\n",
            "신제주양곱창: searchIframe 로드 및 프레임 전환 완료\n",
            "신제주양곱창: 첫 번째 가게 클릭 후 전환되지 않음. 다음 가게로 진행\n",
            "entryIframe 로드.\n",
            "Error while extracting menu/features for 신제주양곱창, div 1:\n",
            "Error while extracting menu/features for 신제주양곱창, div 2:\n"
          ]
        },
        {
          "name": "stderr",
          "output_type": "stream",
          "text": [
            " 39%|███▉      | 393/999 [2:30:39<4:10:57, 24.85s/it]"
          ]
        },
        {
          "name": "stdout",
          "output_type": "stream",
          "text": [
            "신제주촌오리: searchIframe 로드 및 프레임 전환 완료\n",
            "신제주촌오리: 첫 번째 가게 클릭 후 전환되지 않음. 다음 가게로 진행\n",
            "entryIframe 로드.\n",
            "Error while extracting menu/features for 신제주촌오리, div 1:\n",
            "Error while extracting menu/features for 신제주촌오리, div 2:\n"
          ]
        },
        {
          "name": "stderr",
          "output_type": "stream",
          "text": [
            " 39%|███▉      | 394/999 [2:31:07<4:19:55, 25.78s/it]"
          ]
        },
        {
          "name": "stdout",
          "output_type": "stream",
          "text": [
            "신제주황가네: searchIframe 로드 및 프레임 전환 완료\n",
            "신제주황가네: entryIframe이 이미 로드됨. 클릭 없이 바로 진행\n",
            "entryIframe 로드.\n",
            "Error while extracting menu/features for 신제주황가네, div 1:\n",
            "Error while extracting menu/features for 신제주황가네, div 2:\n"
          ]
        },
        {
          "name": "stderr",
          "output_type": "stream",
          "text": [
            " 40%|███▉      | 395/999 [2:31:28<4:06:08, 24.45s/it]"
          ]
        },
        {
          "name": "stdout",
          "output_type": "stream",
          "text": [
            "신조: searchIframe 로드 및 프레임 전환 완료\n",
            "신조: 첫 번째 가게 클릭 후 전환되지 않음. 다음 가게로 진행\n",
            "entryIframe 로드.\n",
            "Error while extracting menu/features for 신조, div 1:\n",
            "Error while extracting menu/features for 신조, div 2:\n"
          ]
        },
        {
          "name": "stderr",
          "output_type": "stream",
          "text": [
            " 40%|███▉      | 396/999 [2:31:57<4:17:34, 25.63s/it]"
          ]
        },
        {
          "name": "stdout",
          "output_type": "stream",
          "text": [
            "신주양꼬치제주점: searchIframe 로드 및 프레임 전환 완료\n",
            "신주양꼬치제주점: entryIframe이 이미 로드됨. 클릭 없이 바로 진행\n",
            "entryIframe 로드.\n",
            "Error while extracting menu/features for 신주양꼬치제주점, div 1:\n",
            "Error while extracting menu/features for 신주양꼬치제주점, div 2:\n"
          ]
        },
        {
          "name": "stderr",
          "output_type": "stream",
          "text": [
            " 40%|███▉      | 397/999 [2:32:18<4:03:42, 24.29s/it]"
          ]
        },
        {
          "name": "stdout",
          "output_type": "stream",
          "text": [
            "신짜우베트남쌀국수: searchIframe 로드 및 프레임 전환 완료\n",
            "신짜우베트남쌀국수: 첫 번째 가게 클릭 후 전환되지 않음. 다음 가게로 진행\n",
            "entryIframe 로드.\n",
            "Error while extracting menu/features for 신짜우베트남쌀국수, div 1:\n",
            "Error while extracting menu/features for 신짜우베트남쌀국수, div 2:\n"
          ]
        },
        {
          "name": "stderr",
          "output_type": "stream",
          "text": [
            " 40%|███▉      | 398/999 [2:32:46<4:14:35, 25.42s/it]"
          ]
        },
        {
          "name": "stdout",
          "output_type": "stream",
          "text": [
            "신창해물라면와랑식탁: searchIframe 로드 및 프레임 전환 완료\n",
            "신창해물라면와랑식탁: entryIframe이 이미 로드됨. 클릭 없이 바로 진행\n",
            "entryIframe 로드.\n",
            "Error while extracting menu/features for 신창해물라면와랑식탁, div 1:\n",
            "Error while extracting menu/features for 신창해물라면와랑식탁, div 2:\n"
          ]
        },
        {
          "name": "stderr",
          "output_type": "stream",
          "text": [
            " 40%|███▉      | 399/999 [2:33:07<4:02:02, 24.20s/it]"
          ]
        },
        {
          "name": "stdout",
          "output_type": "stream",
          "text": [
            "신창흑돼지두루치기: searchIframe 로드 및 프레임 전환 완료\n",
            "신창흑돼지두루치기: 첫 번째 가게 클릭 후 전환되지 않음. 다음 가게로 진행\n",
            "entryIframe 로드.\n",
            "Error while extracting menu/features for 신창흑돼지두루치기, div 1:\n",
            "Error while extracting menu/features for 신창흑돼지두루치기, div 2:\n"
          ]
        },
        {
          "name": "stderr",
          "output_type": "stream",
          "text": [
            " 40%|████      | 400/999 [2:33:36<4:14:17, 25.47s/it]"
          ]
        },
        {
          "name": "stdout",
          "output_type": "stream",
          "text": [
            "신촌덕인당: searchIframe 로드 및 프레임 전환 완료\n",
            "신촌덕인당: entryIframe이 이미 로드됨. 클릭 없이 바로 진행\n",
            "entryIframe 로드.\n",
            "Error while extracting menu/features for 신촌덕인당, div 1:\n",
            "Error while extracting menu/features for 신촌덕인당, div 2:\n"
          ]
        },
        {
          "name": "stderr",
          "output_type": "stream",
          "text": [
            " 40%|████      | 401/999 [2:33:58<4:04:24, 24.52s/it]"
          ]
        },
        {
          "name": "stdout",
          "output_type": "stream",
          "text": [
            "신촌밥상: searchIframe 로드 및 프레임 전환 완료\n",
            "신촌밥상: 첫 번째 가게 클릭 후 전환되지 않음. 다음 가게로 진행\n",
            "entryIframe 로드.\n",
            "Error while extracting menu/features for 신촌밥상, div 1:\n",
            "Error while extracting menu/features for 신촌밥상, div 2:\n"
          ]
        },
        {
          "name": "stderr",
          "output_type": "stream",
          "text": [
            " 40%|████      | 402/999 [2:34:26<4:15:12, 25.65s/it]"
          ]
        },
        {
          "name": "stdout",
          "output_type": "stream",
          "text": [
            "신촌불닭발: searchIframe 로드 및 프레임 전환 완료\n",
            "신촌불닭발: 첫 번째 가게 클릭 후 전환되지 않음. 다음 가게로 진행\n",
            "entryIframe 로드.\n",
            "Error while extracting menu/features for 신촌불닭발, div 1:\n",
            "Error while extracting menu/features for 신촌불닭발, div 2:\n"
          ]
        },
        {
          "name": "stderr",
          "output_type": "stream",
          "text": [
            " 40%|████      | 403/999 [2:34:54<4:22:26, 26.42s/it]"
          ]
        },
        {
          "name": "stdout",
          "output_type": "stream",
          "text": [
            "신촌불닭발종로빈대떡: searchIframe 로드 및 프레임 전환 완료\n",
            "Error while clicking first search result for 신촌불닭발종로빈대떡: Unable to locate list container.\n"
          ]
        },
        {
          "name": "stderr",
          "output_type": "stream",
          "text": [
            " 40%|████      | 404/999 [2:35:16<4:06:48, 24.89s/it]"
          ]
        },
        {
          "name": "stdout",
          "output_type": "stream",
          "text": [
            "Failed to load iframe after multiple attempts for 신촌불닭발종로빈대떡.\n",
            "crawling fatil : 신촌불닭발종로빈대떡 to fail_to_crawling\n",
            "신촌올레숯불갈비: searchIframe 로드 및 프레임 전환 완료\n",
            "신촌올레숯불갈비: entryIframe이 이미 로드됨. 클릭 없이 바로 진행\n",
            "entryIframe 로드.\n",
            "Error while extracting menu/features for 신촌올레숯불갈비, div 1:\n",
            "Error while extracting menu/features for 신촌올레숯불갈비, div 2:\n"
          ]
        },
        {
          "name": "stderr",
          "output_type": "stream",
          "text": [
            " 41%|████      | 405/999 [2:35:38<3:58:10, 24.06s/it]"
          ]
        },
        {
          "name": "stdout",
          "output_type": "stream",
          "text": [
            "신촌핫도그: searchIframe 로드 및 프레임 전환 완료\n",
            "신촌핫도그: 링크버튼을 찾을 수 없음. xpath 대신 다른 방법 시도\n"
          ]
        },
        {
          "name": "stderr",
          "output_type": "stream",
          "text": [
            " 41%|████      | 406/999 [2:35:57<3:42:22, 22.50s/it]"
          ]
        },
        {
          "name": "stdout",
          "output_type": "stream",
          "text": [
            "Failed to load iframe after multiple attempts for 신촌핫도그.\n",
            "crawling fatil : 신촌핫도그 to fail_to_crawling\n",
            "신춘반점: searchIframe 로드 및 프레임 전환 완료\n",
            "신춘반점: 첫 번째 가게 클릭 후 전환되지 않음. 다음 가게로 진행\n",
            "entryIframe 로드.\n",
            "Error while extracting menu/features for 신춘반점, div 1:\n",
            "Error while extracting menu/features for 신춘반점, div 2:\n"
          ]
        },
        {
          "name": "stderr",
          "output_type": "stream",
          "text": [
            " 41%|████      | 407/999 [2:36:25<3:59:07, 24.24s/it]"
          ]
        },
        {
          "name": "stdout",
          "output_type": "stream",
          "text": [
            "신태백관: searchIframe 로드 및 프레임 전환 완료\n",
            "신태백관: entryIframe이 이미 로드됨. 클릭 없이 바로 진행\n",
            "entryIframe 로드.\n",
            "Error while extracting menu/features for 신태백관, div 1:\n",
            "Error while extracting menu/features for 신태백관, div 2:\n"
          ]
        },
        {
          "name": "stderr",
          "output_type": "stream",
          "text": [
            " 41%|████      | 408/999 [2:36:46<3:50:19, 23.38s/it]"
          ]
        },
        {
          "name": "stdout",
          "output_type": "stream",
          "text": [
            "신토계: searchIframe 로드 및 프레임 전환 완료\n",
            "신토계: entryIframe이 이미 로드됨. 클릭 없이 바로 진행\n",
            "entryIframe 로드.\n",
            "Error while extracting menu/features for 신토계, div 1:\n",
            "Error while extracting menu/features for 신토계, div 2:\n"
          ]
        },
        {
          "name": "stderr",
          "output_type": "stream",
          "text": [
            " 41%|████      | 409/999 [2:37:08<3:45:38, 22.95s/it]"
          ]
        },
        {
          "name": "stdout",
          "output_type": "stream",
          "text": [
            "신토불이수산: searchIframe 로드 및 프레임 전환 완료\n",
            "신토불이수산: 첫 번째 가게 클릭 후 전환되지 않음. 다음 가게로 진행\n",
            "entryIframe 로드.\n",
            "Error while extracting menu/features for 신토불이수산, div 1:\n",
            "Error while extracting menu/features for 신토불이수산, div 2:\n"
          ]
        },
        {
          "name": "stderr",
          "output_type": "stream",
          "text": [
            " 41%|████      | 410/999 [2:37:37<4:01:52, 24.64s/it]"
          ]
        },
        {
          "name": "stdout",
          "output_type": "stream",
          "text": [
            "신평올레: searchIframe 로드 및 프레임 전환 완료\n",
            "신평올레: 첫 번째 가게 클릭 후 전환되지 않음. 다음 가게로 진행\n",
            "entryIframe 로드.\n",
            "Error while extracting menu/features for 신평올레, div 1:\n",
            "Error while extracting menu/features for 신평올레, div 2:\n"
          ]
        },
        {
          "name": "stderr",
          "output_type": "stream",
          "text": [
            " 41%|████      | 411/999 [2:38:05<4:12:03, 25.72s/it]"
          ]
        },
        {
          "name": "stdout",
          "output_type": "stream",
          "text": [
            "신해바라기: searchIframe 로드 및 프레임 전환 완료\n",
            "신해바라기: 첫 번째 가게 클릭 후 전환되지 않음. 다음 가게로 진행\n",
            "entryIframe 로드.\n",
            "Error while extracting menu/features for 신해바라기, div 1:\n",
            "Error while extracting menu/features for 신해바라기, div 2:\n"
          ]
        },
        {
          "name": "stderr",
          "output_type": "stream",
          "text": [
            " 41%|████      | 412/999 [2:38:31<4:13:30, 25.91s/it]"
          ]
        },
        {
          "name": "stdout",
          "output_type": "stream",
          "text": [
            "신해바라기한라대점: searchIframe 로드 및 프레임 전환 완료\n",
            "신해바라기한라대점: entryIframe이 이미 로드됨. 클릭 없이 바로 진행\n",
            "entryIframe 로드.\n",
            "Error while extracting menu/features for 신해바라기한라대점, div 1:\n",
            "Error while extracting menu/features for 신해바라기한라대점, div 2:\n"
          ]
        },
        {
          "name": "stderr",
          "output_type": "stream",
          "text": [
            " 41%|████▏     | 413/999 [2:38:53<3:59:24, 24.51s/it]"
          ]
        },
        {
          "name": "stdout",
          "output_type": "stream",
          "text": [
            "신해조: searchIframe 로드 및 프레임 전환 완료\n",
            "신해조: entryIframe이 이미 로드됨. 클릭 없이 바로 진행\n",
            "entryIframe 로드.\n",
            "Error while extracting menu/features for 신해조, div 1:\n",
            "Error while extracting menu/features for 신해조, div 2:\n"
          ]
        },
        {
          "name": "stderr",
          "output_type": "stream",
          "text": [
            " 41%|████▏     | 414/999 [2:39:14<3:50:36, 23.65s/it]"
          ]
        },
        {
          "name": "stdout",
          "output_type": "stream",
          "text": [
            "신현대식당: searchIframe 로드 및 프레임 전환 완료\n",
            "신현대식당: 첫 번째 가게 클릭 후 전환되지 않음. 다음 가게로 진행\n",
            "entryIframe 로드.\n",
            "Error while extracting menu/features for 신현대식당, div 1:\n",
            "Error while extracting menu/features for 신현대식당, div 2:\n"
          ]
        },
        {
          "name": "stderr",
          "output_type": "stream",
          "text": [
            " 42%|████▏     | 415/999 [2:39:43<4:05:08, 25.19s/it]"
          ]
        },
        {
          "name": "stdout",
          "output_type": "stream",
          "text": [
            "신호등: searchIframe 로드 및 프레임 전환 완료\n",
            "신호등: 첫 번째 가게 클릭 후 전환되지 않음. 다음 가게로 진행\n",
            "entryIframe 로드.\n",
            "Error while extracting menu/features for 신호등, div 1:\n",
            "Error while extracting menu/features for 신호등, div 2:\n"
          ]
        },
        {
          "name": "stderr",
          "output_type": "stream",
          "text": [
            " 42%|████▏     | 416/999 [2:40:12<4:14:34, 26.20s/it]"
          ]
        },
        {
          "name": "stdout",
          "output_type": "stream",
          "text": [
            "신화: searchIframe 로드 및 프레임 전환 완료\n",
            "신화: 링크버튼을 찾을 수 없음. xpath 대신 다른 방법 시도\n"
          ]
        },
        {
          "name": "stderr",
          "output_type": "stream",
          "text": [
            " 42%|████▏     | 417/999 [2:40:30<3:49:51, 23.70s/it]"
          ]
        },
        {
          "name": "stdout",
          "output_type": "stream",
          "text": [
            "Failed to load iframe after multiple attempts for 신화.\n",
            "crawling fatil : 신화 to fail_to_crawling\n",
            "신화김밥: searchIframe 로드 및 프레임 전환 완료\n",
            "신화김밥: 첫 번째 가게 클릭 후 전환되지 않음. 다음 가게로 진행\n",
            "entryIframe 로드.\n",
            "Error while extracting menu/features for 신화김밥, div 1:\n",
            "Error while extracting menu/features for 신화김밥, div 2:\n"
          ]
        },
        {
          "name": "stderr",
          "output_type": "stream",
          "text": [
            " 42%|████▏     | 418/999 [2:40:58<4:02:43, 25.07s/it]"
          ]
        },
        {
          "name": "stdout",
          "output_type": "stream",
          "text": [
            "신화돌담집: searchIframe 로드 및 프레임 전환 완료\n",
            "Error while clicking first search result for 신화돌담집: Unable to locate list container.\n"
          ]
        },
        {
          "name": "stderr",
          "output_type": "stream",
          "text": [
            " 42%|████▏     | 419/999 [2:41:19<3:50:34, 23.85s/it]"
          ]
        },
        {
          "name": "stdout",
          "output_type": "stream",
          "text": [
            "Failed to load iframe after multiple attempts for 신화돌담집.\n",
            "crawling fatil : 신화돌담집 to fail_to_crawling\n",
            "신화앞오름식당: searchIframe 로드 및 프레임 전환 완료\n",
            "Error while clicking first search result for 신화앞오름식당: Unable to locate list container.\n"
          ]
        },
        {
          "name": "stderr",
          "output_type": "stream",
          "text": [
            " 42%|████▏     | 420/999 [2:41:40<3:40:56, 22.90s/it]"
          ]
        },
        {
          "name": "stdout",
          "output_type": "stream",
          "text": [
            "Failed to load iframe after multiple attempts for 신화앞오름식당.\n",
            "crawling fatil : 신화앞오름식당 to fail_to_crawling\n",
            "신화테라스: searchIframe 로드 및 프레임 전환 완료\n",
            "신화테라스: 첫 번째 가게 클릭 후 전환되지 않음. 다음 가게로 진행\n",
            "entryIframe 로드.\n",
            "Error while extracting menu/features for 신화테라스, div 1:\n",
            "Error while extracting menu/features for 신화테라스, div 2:\n"
          ]
        },
        {
          "name": "stderr",
          "output_type": "stream",
          "text": [
            " 42%|████▏     | 421/999 [2:42:08<3:56:56, 24.60s/it]"
          ]
        },
        {
          "name": "stdout",
          "output_type": "stream",
          "text": [
            "신화회포차: searchIframe 로드 및 프레임 전환 완료\n",
            "신화회포차: 첫 번째 가게 클릭 후 전환되지 않음. 다음 가게로 진행\n",
            "entryIframe 로드.\n",
            "Error while extracting datalab information for 신화회포차:\n",
            "Error while navigating to reviews for 신화회포차:\n"
          ]
        },
        {
          "name": "stderr",
          "output_type": "stream",
          "text": [
            " 42%|████▏     | 422/999 [2:42:34<4:00:08, 24.97s/it]"
          ]
        },
        {
          "name": "stdout",
          "output_type": "stream",
          "text": [
            "신흥동백가든: searchIframe 로드 및 프레임 전환 완료\n",
            "신흥동백가든: entryIframe이 이미 로드됨. 클릭 없이 바로 진행\n",
            "entryIframe 로드.\n",
            "Error while extracting menu/features for 신흥동백가든, div 1:\n",
            "Error while extracting menu/features for 신흥동백가든, div 2:\n"
          ]
        },
        {
          "name": "stderr",
          "output_type": "stream",
          "text": [
            " 42%|████▏     | 423/999 [2:42:55<3:48:34, 23.81s/it]"
          ]
        },
        {
          "name": "stdout",
          "output_type": "stream",
          "text": [
            "실이네닭곰탕: searchIframe 로드 및 프레임 전환 완료\n",
            "실이네닭곰탕: entryIframe이 이미 로드됨. 클릭 없이 바로 진행\n",
            "entryIframe 로드.\n",
            "Error while extracting menu/features for 실이네닭곰탕, div 1:\n",
            "Error while extracting menu/features for 실이네닭곰탕, div 2:\n"
          ]
        },
        {
          "name": "stderr",
          "output_type": "stream",
          "text": [
            " 42%|████▏     | 424/999 [2:43:16<3:41:23, 23.10s/it]"
          ]
        },
        {
          "name": "stdout",
          "output_type": "stream",
          "text": [
            "심바카레: searchIframe 로드 및 프레임 전환 완료\n",
            "심바카레: entryIframe이 이미 로드됨. 클릭 없이 바로 진행\n",
            "entryIframe 로드.\n",
            "Error while extracting menu/features for 심바카레, div 1:\n",
            "Error while extracting menu/features for 심바카레, div 2:\n"
          ]
        },
        {
          "name": "stderr",
          "output_type": "stream",
          "text": [
            " 43%|████▎     | 425/999 [2:43:38<3:36:45, 22.66s/it]"
          ]
        },
        {
          "name": "stdout",
          "output_type": "stream",
          "text": [
            "심박돈숙성흑돼지: searchIframe 로드 및 프레임 전환 완료\n",
            "심박돈숙성흑돼지: entryIframe이 이미 로드됨. 클릭 없이 바로 진행\n",
            "entryIframe 로드.\n",
            "Error while extracting menu/features for 심박돈숙성흑돼지, div 1:\n",
            "Error while extracting menu/features for 심박돈숙성흑돼지, div 2:\n"
          ]
        },
        {
          "name": "stderr",
          "output_type": "stream",
          "text": [
            " 43%|████▎     | 426/999 [2:43:59<3:32:47, 22.28s/it]"
          ]
        },
        {
          "name": "stdout",
          "output_type": "stream",
          "text": [
            "심봉사눈뜬톳해물짜장짬뽕: searchIframe 로드 및 프레임 전환 완료\n",
            "심봉사눈뜬톳해물짜장짬뽕: entryIframe이 이미 로드됨. 클릭 없이 바로 진행\n",
            "entryIframe 로드.\n",
            "Error while extracting menu/features for 심봉사눈뜬톳해물짜장짬뽕, div 1:\n",
            "Error while extracting menu/features for 심봉사눈뜬톳해물짜장짬뽕, div 2:\n"
          ]
        },
        {
          "name": "stderr",
          "output_type": "stream",
          "text": [
            " 43%|████▎     | 427/999 [2:44:21<3:29:01, 21.93s/it]"
          ]
        },
        {
          "name": "stdout",
          "output_type": "stream",
          "text": [
            "심심포차: searchIframe 로드 및 프레임 전환 완료\n",
            "심심포차: entryIframe이 이미 로드됨. 클릭 없이 바로 진행\n",
            "entryIframe 로드.\n",
            "Error while extracting menu/features for 심심포차, div 1:\n",
            "Error while extracting menu/features for 심심포차, div 2:\n"
          ]
        },
        {
          "name": "stderr",
          "output_type": "stream",
          "text": [
            " 43%|████▎     | 428/999 [2:44:42<3:27:27, 21.80s/it]"
          ]
        },
        {
          "name": "stdout",
          "output_type": "stream",
          "text": [
            "심야식당키츠네: searchIframe 로드 및 프레임 전환 완료\n",
            "심야식당키츠네: entryIframe이 이미 로드됨. 클릭 없이 바로 진행\n",
            "entryIframe 로드.\n",
            "Error while extracting menu/features for 심야식당키츠네, div 1:\n",
            "Error while extracting menu/features for 심야식당키츠네, div 2:\n"
          ]
        },
        {
          "name": "stderr",
          "output_type": "stream",
          "text": [
            " 43%|████▎     | 429/999 [2:45:04<3:26:15, 21.71s/it]"
          ]
        },
        {
          "name": "stdout",
          "output_type": "stream",
          "text": [
            "심청이쌈밥: searchIframe 로드 및 프레임 전환 완료\n",
            "심청이쌈밥: entryIframe이 이미 로드됨. 클릭 없이 바로 진행\n",
            "entryIframe 로드.\n",
            "Error while extracting menu/features for 심청이쌈밥, div 1:\n",
            "Error while extracting menu/features for 심청이쌈밥, div 2:\n"
          ]
        },
        {
          "name": "stderr",
          "output_type": "stream",
          "text": [
            " 43%|████▎     | 430/999 [2:45:25<3:25:40, 21.69s/it]"
          ]
        },
        {
          "name": "stdout",
          "output_type": "stream",
          "text": [
            "심플파이브(simple5): searchIframe 로드 및 프레임 전환 완료\n",
            "심플파이브(simple5): entryIframe이 이미 로드됨. 클릭 없이 바로 진행\n",
            "entryIframe 로드.\n",
            "Error while extracting menu/features for 심플파이브(simple5), div 1:\n"
          ]
        },
        {
          "name": "stderr",
          "output_type": "stream",
          "text": [
            " 43%|████▎     | 431/999 [2:45:44<3:18:08, 20.93s/it]"
          ]
        },
        {
          "name": "stdout",
          "output_type": "stream",
          "text": [
            "Error while extracting menu/features for 심플파이브(simple5), div 2:\n",
            " 사진 버튼 없음 : 심플파이브(simple5).\n",
            "십오야: searchIframe 로드 및 프레임 전환 완료\n",
            "십오야: 첫 번째 가게 클릭 후 전환되지 않음. 다음 가게로 진행\n",
            "entryIframe 로드.\n",
            "Error while extracting menu/features for 십오야, div 1:\n",
            "Error while extracting menu/features for 십오야, div 2:\n"
          ]
        },
        {
          "name": "stderr",
          "output_type": "stream",
          "text": [
            " 43%|████▎     | 432/999 [2:46:13<3:38:17, 23.10s/it]"
          ]
        },
        {
          "name": "stdout",
          "output_type": "stream",
          "text": [
            "싱싱우대갈비: searchIframe 로드 및 프레임 전환 완료\n",
            "싱싱우대갈비: 첫 번째 가게 클릭 후 전환되지 않음. 다음 가게로 진행\n",
            "entryIframe 로드.\n",
            "Error while extracting menu/features for 싱싱우대갈비, div 1:\n",
            "Error while extracting menu/features for 싱싱우대갈비, div 2:\n"
          ]
        },
        {
          "name": "stderr",
          "output_type": "stream",
          "text": [
            " 43%|████▎     | 433/999 [2:46:40<3:51:25, 24.53s/it]"
          ]
        },
        {
          "name": "stdout",
          "output_type": "stream",
          "text": [
            "싱싱잇: searchIframe 로드 및 프레임 전환 완료\n",
            "싱싱잇: 첫 번째 가게 클릭 후 전환되지 않음. 다음 가게로 진행\n",
            "entryIframe 로드.\n",
            "Error while extracting menu/features for 싱싱잇, div 1:\n",
            "Error while extracting menu/features for 싱싱잇, div 2:\n"
          ]
        },
        {
          "name": "stderr",
          "output_type": "stream",
          "text": [
            " 43%|████▎     | 434/999 [2:47:09<4:02:10, 25.72s/it]"
          ]
        },
        {
          "name": "stdout",
          "output_type": "stream",
          "text": [
            "싱싱촘맛집: searchIframe 로드 및 프레임 전환 완료\n",
            "싱싱촘맛집: 링크버튼을 찾을 수 없음. xpath 대신 다른 방법 시도\n"
          ]
        },
        {
          "name": "stderr",
          "output_type": "stream",
          "text": [
            " 44%|████▎     | 435/999 [2:47:27<3:41:04, 23.52s/it]"
          ]
        },
        {
          "name": "stdout",
          "output_type": "stream",
          "text": [
            "Failed to load iframe after multiple attempts for 싱싱촘맛집.\n",
            "crawling fatil : 싱싱촘맛집 to fail_to_crawling\n",
            "싱싱푸르츠 서귀포점: searchIframe 로드 및 프레임 전환 완료\n",
            "싱싱푸르츠 서귀포점: entryIframe이 이미 로드됨. 클릭 없이 바로 진행\n",
            "entryIframe 로드.\n",
            "Error while extracting menu/features for 싱싱푸르츠 서귀포점, div 1:\n",
            "Error while extracting menu/features for 싱싱푸르츠 서귀포점, div 2:\n"
          ]
        },
        {
          "name": "stderr",
          "output_type": "stream",
          "text": [
            " 44%|████▎     | 436/999 [2:47:49<3:34:09, 22.82s/it]"
          ]
        },
        {
          "name": "stdout",
          "output_type": "stream",
          "text": [
            "싱싱프루츠: searchIframe 로드 및 프레임 전환 완료\n",
            "싱싱프루츠: 첫 번째 가게 클릭 후 전환되지 않음. 다음 가게로 진행\n",
            "entryIframe 로드.\n",
            "Error while extracting menu/features for 싱싱프루츠, div 1:\n",
            "Error while extracting menu/features for 싱싱프루츠, div 2:\n"
          ]
        },
        {
          "name": "stderr",
          "output_type": "stream",
          "text": [
            " 44%|████▎     | 437/999 [2:48:17<3:48:50, 24.43s/it]"
          ]
        },
        {
          "name": "stdout",
          "output_type": "stream",
          "text": [
            "싱싱회센타: searchIframe 로드 및 프레임 전환 완료\n",
            "싱싱회센타: 링크버튼을 찾을 수 없음. xpath 대신 다른 방법 시도\n"
          ]
        },
        {
          "name": "stderr",
          "output_type": "stream",
          "text": [
            " 44%|████▍     | 438/999 [2:48:35<3:31:10, 22.59s/it]"
          ]
        },
        {
          "name": "stdout",
          "output_type": "stream",
          "text": [
            "Failed to load iframe after multiple attempts for 싱싱회센타.\n",
            "crawling fatil : 싱싱회센타 to fail_to_crawling\n",
            "싱싱회센터: searchIframe 로드 및 프레임 전환 완료\n",
            "싱싱회센터: 링크버튼을 찾을 수 없음. xpath 대신 다른 방법 시도\n"
          ]
        },
        {
          "name": "stderr",
          "output_type": "stream",
          "text": [
            " 44%|████▍     | 439/999 [2:48:53<3:18:35, 21.28s/it]"
          ]
        },
        {
          "name": "stdout",
          "output_type": "stream",
          "text": [
            "Failed to load iframe after multiple attempts for 싱싱회센터.\n",
            "crawling fatil : 싱싱회센터 to fail_to_crawling\n",
            "싱푸미엔관: searchIframe 로드 및 프레임 전환 완료\n",
            "싱푸미엔관: 첫 번째 가게 클릭 후 전환되지 않음. 다음 가게로 진행\n",
            "entryIframe 로드.\n",
            "Error while extracting menu/features for 싱푸미엔관, div 1:\n",
            "Error while extracting menu/features for 싱푸미엔관, div 2:\n"
          ]
        },
        {
          "name": "stderr",
          "output_type": "stream",
          "text": [
            " 44%|████▍     | 440/999 [2:49:20<3:32:17, 22.79s/it]"
          ]
        },
        {
          "name": "stdout",
          "output_type": "stream",
          "text": [
            "싸이공레시피: searchIframe 로드 및 프레임 전환 완료\n",
            "싸이공레시피: entryIframe이 이미 로드됨. 클릭 없이 바로 진행\n",
            "entryIframe 로드.\n",
            "Error while extracting menu/features for 싸이공레시피, div 1:\n",
            "Error while extracting menu/features for 싸이공레시피, div 2:\n"
          ]
        },
        {
          "name": "stderr",
          "output_type": "stream",
          "text": [
            " 44%|████▍     | 441/999 [2:49:41<3:29:00, 22.47s/it]"
          ]
        },
        {
          "name": "stdout",
          "output_type": "stream",
          "text": [
            "쌈총사횟집본점: searchIframe 로드 및 프레임 전환 완료\n",
            "Error while clicking first search result for 쌈총사횟집본점: Unable to locate list container.\n"
          ]
        },
        {
          "name": "stderr",
          "output_type": "stream",
          "text": [
            " 44%|████▍     | 442/999 [2:50:02<3:23:37, 21.93s/it]"
          ]
        },
        {
          "name": "stdout",
          "output_type": "stream",
          "text": [
            "Failed to load iframe after multiple attempts for 쌈총사횟집본점.\n",
            "crawling fatil : 쌈총사횟집본점 to fail_to_crawling\n",
            "쌈총사횟집성산점: searchIframe 로드 및 프레임 전환 완료\n",
            "쌈총사횟집성산점: entryIframe이 이미 로드됨. 클릭 없이 바로 진행\n",
            "entryIframe 로드.\n",
            "Error while extracting menu/features for 쌈총사횟집성산점, div 1:\n",
            "Error while extracting menu/features for 쌈총사횟집성산점, div 2:\n"
          ]
        },
        {
          "name": "stderr",
          "output_type": "stream",
          "text": [
            " 44%|████▍     | 443/999 [2:50:23<3:21:17, 21.72s/it]"
          ]
        },
        {
          "name": "stdout",
          "output_type": "stream",
          "text": [
            "쌍교숯불갈비 제주애월점: searchIframe 로드 및 프레임 전환 완료\n",
            "Error while clicking first search result for 쌍교숯불갈비 제주애월점: Unable to locate list container.\n"
          ]
        },
        {
          "name": "stderr",
          "output_type": "stream",
          "text": [
            " 44%|████▍     | 444/999 [2:50:44<3:18:57, 21.51s/it]"
          ]
        },
        {
          "name": "stdout",
          "output_type": "stream",
          "text": [
            "Failed to load iframe after multiple attempts for 쌍교숯불갈비 제주애월점.\n",
            "crawling fatil : 쌍교숯불갈비 제주애월점 to fail_to_crawling\n",
            "쌍둥이 기사식당: searchIframe 로드 및 프레임 전환 완료\n",
            "쌍둥이 기사식당: 링크버튼을 찾을 수 없음. xpath 대신 다른 방법 시도\n"
          ]
        },
        {
          "name": "stderr",
          "output_type": "stream",
          "text": [
            " 45%|████▍     | 445/999 [2:51:02<3:09:31, 20.53s/it]"
          ]
        },
        {
          "name": "stdout",
          "output_type": "stream",
          "text": [
            "Failed to load iframe after multiple attempts for 쌍둥이 기사식당.\n",
            "crawling fatil : 쌍둥이 기사식당 to fail_to_crawling\n",
            "쌍둥이돼지꿈: searchIframe 로드 및 프레임 전환 완료\n",
            "쌍둥이돼지꿈: entryIframe이 이미 로드됨. 클릭 없이 바로 진행\n",
            "entryIframe 로드.\n",
            "Error while extracting menu/features for 쌍둥이돼지꿈, div 1:\n",
            "Error while extracting menu/features for 쌍둥이돼지꿈, div 2:\n"
          ]
        },
        {
          "name": "stderr",
          "output_type": "stream",
          "text": [
            " 45%|████▍     | 446/999 [2:51:24<3:13:10, 20.96s/it]"
          ]
        },
        {
          "name": "stdout",
          "output_type": "stream",
          "text": [
            "쌍둥이횟집본점: searchIframe 로드 및 프레임 전환 완료\n",
            "쌍둥이횟집본점: 첫 번째 가게 클릭 후 전환되지 않음. 다음 가게로 진행\n",
            "entryIframe 로드.\n",
            "Error while extracting menu/features for 쌍둥이횟집본점, div 1:\n",
            "Error while extracting menu/features for 쌍둥이횟집본점, div 2:\n"
          ]
        },
        {
          "name": "stderr",
          "output_type": "stream",
          "text": [
            " 45%|████▍     | 447/999 [2:51:53<3:34:14, 23.29s/it]"
          ]
        },
        {
          "name": "stdout",
          "output_type": "stream",
          "text": [
            "쌍팔련도: searchIframe 로드 및 프레임 전환 완료\n",
            "쌍팔련도: 첫 번째 가게 클릭 후 전환되지 않음. 다음 가게로 진행\n",
            "entryIframe 로드.\n",
            "Error while extracting menu/features for 쌍팔련도, div 1:\n",
            "Error while extracting menu/features for 쌍팔련도, div 2:\n"
          ]
        },
        {
          "name": "stderr",
          "output_type": "stream",
          "text": [
            " 45%|████▍     | 448/999 [2:52:21<3:47:12, 24.74s/it]"
          ]
        },
        {
          "name": "stdout",
          "output_type": "stream",
          "text": [
            "쌍팔련도 도남점: searchIframe 로드 및 프레임 전환 완료\n",
            "쌍팔련도 도남점: entryIframe이 이미 로드됨. 클릭 없이 바로 진행\n",
            "entryIframe 로드.\n",
            "Error while extracting menu/features for 쌍팔련도 도남점, div 1:\n",
            "Error while extracting menu/features for 쌍팔련도 도남점, div 2:\n"
          ]
        },
        {
          "name": "stderr",
          "output_type": "stream",
          "text": [
            " 45%|████▍     | 449/999 [2:52:43<3:37:55, 23.77s/it]"
          ]
        },
        {
          "name": "stdout",
          "output_type": "stream",
          "text": [
            "써니꼬마김밥본점: searchIframe 로드 및 프레임 전환 완료\n",
            "써니꼬마김밥본점: entryIframe이 이미 로드됨. 클릭 없이 바로 진행\n",
            "entryIframe 로드.\n",
            "Error while navigating to reviews for 써니꼬마김밥본점:\n"
          ]
        },
        {
          "name": "stderr",
          "output_type": "stream",
          "text": [
            " 45%|████▌     | 450/999 [2:53:04<3:30:19, 22.99s/it]"
          ]
        },
        {
          "name": "stdout",
          "output_type": "stream",
          "text": [
            "써니하우스 커피&핫도그: searchIframe 로드 및 프레임 전환 완료\n",
            "Error while clicking first search result for 써니하우스 커피&핫도그: Unable to locate list container.\n"
          ]
        },
        {
          "name": "stderr",
          "output_type": "stream",
          "text": [
            " 45%|████▌     | 451/999 [2:53:25<3:25:12, 22.47s/it]"
          ]
        },
        {
          "name": "stdout",
          "output_type": "stream",
          "text": [
            "Failed to load iframe after multiple attempts for 써니하우스 커피&핫도그.\n",
            "crawling fatil : 써니하우스 커피&핫도그 to fail_to_crawling\n",
            "써드밋가배: searchIframe 로드 및 프레임 전환 완료\n",
            "Error while clicking first search result for 써드밋가배: Unable to locate list container.\n"
          ]
        },
        {
          "name": "stderr",
          "output_type": "stream",
          "text": [
            " 45%|████▌     | 452/999 [2:53:46<3:21:35, 22.11s/it]"
          ]
        },
        {
          "name": "stdout",
          "output_type": "stream",
          "text": [
            "Failed to load iframe after multiple attempts for 써드밋가배.\n",
            "crawling fatil : 써드밋가배 to fail_to_crawling\n",
            "써브웨이 제주공항점: searchIframe 로드 및 프레임 전환 완료\n",
            "써브웨이 제주공항점: 링크버튼을 찾을 수 없음. xpath 대신 다른 방법 시도\n"
          ]
        },
        {
          "name": "stderr",
          "output_type": "stream",
          "text": [
            " 45%|████▌     | 453/999 [2:54:04<3:08:56, 20.76s/it]"
          ]
        },
        {
          "name": "stdout",
          "output_type": "stream",
          "text": [
            "Failed to load iframe after multiple attempts for 써브웨이 제주공항점.\n",
            "crawling fatil : 써브웨이 제주공항점 to fail_to_crawling\n",
            "써브웨이 제주노형점: searchIframe 로드 및 프레임 전환 완료\n",
            "써브웨이 제주노형점: entryIframe이 이미 로드됨. 클릭 없이 바로 진행\n",
            "entryIframe 로드.\n",
            "Error while extracting menu/features for 써브웨이 제주노형점, div 1:\n",
            "Error while extracting menu/features for 써브웨이 제주노형점, div 2:\n"
          ]
        },
        {
          "name": "stderr",
          "output_type": "stream",
          "text": [
            " 45%|████▌     | 454/999 [2:54:26<3:11:01, 21.03s/it]"
          ]
        },
        {
          "name": "stdout",
          "output_type": "stream",
          "text": [
            "써브웨이 제주대점: searchIframe 로드 및 프레임 전환 완료\n",
            "써브웨이 제주대점: entryIframe이 이미 로드됨. 클릭 없이 바로 진행\n",
            "entryIframe 로드.\n",
            "Error while extracting menu/features for 써브웨이 제주대점, div 1:\n",
            "Error while extracting menu/features for 써브웨이 제주대점, div 2:\n"
          ]
        },
        {
          "name": "stderr",
          "output_type": "stream",
          "text": [
            " 46%|████▌     | 455/999 [2:54:51<3:23:32, 22.45s/it]"
          ]
        },
        {
          "name": "stdout",
          "output_type": "stream",
          "text": [
            "써브웨이신제주연동신시가지점: searchIframe 로드 및 프레임 전환 완료\n",
            "Error while clicking first search result for 써브웨이신제주연동신시가지점: Unable to locate list container.\n"
          ]
        },
        {
          "name": "stderr",
          "output_type": "stream",
          "text": [
            " 46%|████▌     | 456/999 [2:55:13<3:20:35, 22.16s/it]"
          ]
        },
        {
          "name": "stdout",
          "output_type": "stream",
          "text": [
            "Failed to load iframe after multiple attempts for 써브웨이신제주연동신시가지점.\n",
            "crawling fatil : 써브웨이신제주연동신시가지점 to fail_to_crawling\n",
            "써브웨이제주시청점: searchIframe 로드 및 프레임 전환 완료\n",
            "써브웨이제주시청점: entryIframe이 이미 로드됨. 클릭 없이 바로 진행\n",
            "entryIframe 로드.\n",
            "Error while extracting menu/features for 써브웨이제주시청점, div 1:\n",
            "Error while extracting menu/features for 써브웨이제주시청점, div 2:\n"
          ]
        },
        {
          "name": "stderr",
          "output_type": "stream",
          "text": [
            " 46%|████▌     | 457/999 [2:55:35<3:20:36, 22.21s/it]"
          ]
        },
        {
          "name": "stdout",
          "output_type": "stream",
          "text": [
            "썬더치킨 (제원점): searchIframe 로드 및 프레임 전환 완료\n",
            "썬더치킨 (제원점): entryIframe이 이미 로드됨. 클릭 없이 바로 진행\n",
            "entryIframe 로드.\n",
            "Error while extracting datalab information for 썬더치킨 (제원점):\n",
            "Error while navigating to reviews for 썬더치킨 (제원점):\n"
          ]
        },
        {
          "name": "stderr",
          "output_type": "stream",
          "text": [
            " 46%|████▌     | 458/999 [2:55:55<3:12:22, 21.34s/it]"
          ]
        },
        {
          "name": "stdout",
          "output_type": "stream",
          "text": [
            "이미지 추출 오류 1 for 썬더치킨 (제원점) \n",
            "이미지 추출 오류 2 for 썬더치킨 (제원점) \n",
            "이미지 추출 오류 3 for 썬더치킨 (제원점) \n",
            "이미지 추출 오류 4 for 썬더치킨 (제원점) \n",
            "이미지 추출 오류 5 for 썬더치킨 (제원점) \n",
            "이미지 추출 오류 6 for 썬더치킨 (제원점) \n",
            "이미지 추출 오류 7 for 썬더치킨 (제원점) \n",
            "이미지 추출 오류 8 for 썬더치킨 (제원점) \n",
            "이미지 추출 오류 9 for 썬더치킨 (제원점) \n",
            "이미지 추출 오류 10 for 썬더치킨 (제원점) \n",
            "썬더치킨 삼화마트점: searchIframe 로드 및 프레임 전환 완료\n",
            "썬더치킨 삼화마트점: 링크버튼을 찾을 수 없음. xpath 대신 다른 방법 시도\n"
          ]
        },
        {
          "name": "stderr",
          "output_type": "stream",
          "text": [
            " 46%|████▌     | 459/999 [2:56:12<3:02:11, 20.24s/it]"
          ]
        },
        {
          "name": "stdout",
          "output_type": "stream",
          "text": [
            "Failed to load iframe after multiple attempts for 썬더치킨 삼화마트점.\n",
            "crawling fatil : 썬더치킨 삼화마트점 to fail_to_crawling\n",
            "썬더치킨 일도 고마로점: searchIframe 로드 및 프레임 전환 완료\n",
            "Error while clicking first search result for 썬더치킨 일도 고마로점: Unable to locate list container.\n"
          ]
        },
        {
          "name": "stderr",
          "output_type": "stream",
          "text": [
            " 46%|████▌     | 460/999 [2:56:33<3:04:24, 20.53s/it]"
          ]
        },
        {
          "name": "stdout",
          "output_type": "stream",
          "text": [
            "Failed to load iframe after multiple attempts for 썬더치킨 일도 고마로점.\n",
            "crawling fatil : 썬더치킨 일도 고마로점 to fail_to_crawling\n",
            "썬더치킨 제주지사(베라체점): searchIframe 로드 및 프레임 전환 완료\n",
            "Error while clicking first search result for 썬더치킨 제주지사(베라체점): Unable to locate list container.\n"
          ]
        },
        {
          "name": "stderr",
          "output_type": "stream",
          "text": [
            " 46%|████▌     | 461/999 [2:56:54<3:03:47, 20.50s/it]"
          ]
        },
        {
          "name": "stdout",
          "output_type": "stream",
          "text": [
            "Failed to load iframe after multiple attempts for 썬더치킨 제주지사(베라체점).\n",
            "crawling fatil : 썬더치킨 제주지사(베라체점) to fail_to_crawling\n",
            "썬더치킨 함덕점: searchIframe 로드 및 프레임 전환 완료\n",
            "썬더치킨 함덕점: 링크버튼을 찾을 수 없음. xpath 대신 다른 방법 시도\n"
          ]
        },
        {
          "name": "stderr",
          "output_type": "stream",
          "text": [
            " 46%|████▌     | 462/999 [2:57:12<2:56:26, 19.72s/it]"
          ]
        },
        {
          "name": "stdout",
          "output_type": "stream",
          "text": [
            "Failed to load iframe after multiple attempts for 썬더치킨 함덕점.\n",
            "crawling fatil : 썬더치킨 함덕점 to fail_to_crawling\n",
            "썬데이지: searchIframe 로드 및 프레임 전환 완료\n",
            "썬데이지: entryIframe이 이미 로드됨. 클릭 없이 바로 진행\n",
            "entryIframe 로드.\n",
            "Error while extracting menu/features for 썬데이지, div 1:\n"
          ]
        },
        {
          "name": "stderr",
          "output_type": "stream",
          "text": [
            " 46%|████▋     | 463/999 [2:57:29<2:49:50, 19.01s/it]"
          ]
        },
        {
          "name": "stdout",
          "output_type": "stream",
          "text": [
            "Error while extracting menu/features for 썬데이지, div 2:\n",
            " 사진 버튼 없음 : 썬데이지.\n",
            "썬셋비치: searchIframe 로드 및 프레임 전환 완료\n",
            "썬셋비치: 첫 번째 가게 클릭 후 전환되지 않음. 다음 가게로 진행\n",
            "entryIframe 로드.\n"
          ]
        },
        {
          "name": "stderr",
          "output_type": "stream",
          "text": [
            " 46%|████▋     | 464/999 [2:57:59<3:19:25, 22.37s/it]"
          ]
        },
        {
          "name": "stdout",
          "output_type": "stream",
          "text": [
            "썬셋클리프: searchIframe 로드 및 프레임 전환 완료\n",
            "썬셋클리프: 첫 번째 가게 클릭 후 전환되지 않음. 다음 가게로 진행\n",
            "entryIframe 로드.\n",
            "Error while extracting menu/features for 썬셋클리프, div 1:\n",
            "Error while extracting menu/features for 썬셋클리프, div 2:\n"
          ]
        },
        {
          "name": "stderr",
          "output_type": "stream",
          "text": [
            " 47%|████▋     | 465/999 [2:58:28<3:35:34, 24.22s/it]"
          ]
        },
        {
          "name": "stdout",
          "output_type": "stream",
          "text": [
            "썸: searchIframe 로드 및 프레임 전환 완료\n",
            "썸: 첫 번째 가게 클릭 후 전환되지 않음. 다음 가게로 진행\n",
            "entryIframe 로드.\n",
            "Error while extracting menu/features for 썸, div 1:\n",
            "Error while extracting menu/features for 썸, div 2:\n"
          ]
        },
        {
          "name": "stderr",
          "output_type": "stream",
          "text": [
            " 47%|████▋     | 466/999 [2:58:56<3:46:24, 25.49s/it]"
          ]
        },
        {
          "name": "stdout",
          "output_type": "stream",
          "text": [
            "썸의시작: searchIframe 로드 및 프레임 전환 완료\n",
            "Error while clicking first search result for 썸의시작: Unable to locate list container.\n"
          ]
        },
        {
          "name": "stderr",
          "output_type": "stream",
          "text": [
            " 47%|████▋     | 467/999 [2:59:17<3:33:24, 24.07s/it]"
          ]
        },
        {
          "name": "stdout",
          "output_type": "stream",
          "text": [
            "Failed to load iframe after multiple attempts for 썸의시작.\n",
            "crawling fatil : 썸의시작 to fail_to_crawling\n",
            "썸카페: searchIframe 로드 및 프레임 전환 완료\n",
            "썸카페: 첫 번째 가게 클릭 후 전환되지 않음. 다음 가게로 진행\n",
            "entryIframe 로드.\n",
            "Error while extracting datalab information for 썸카페:\n",
            "Error while navigating to reviews for 썸카페:\n"
          ]
        },
        {
          "name": "stderr",
          "output_type": "stream",
          "text": [
            " 47%|████▋     | 468/999 [2:59:39<3:26:19, 23.31s/it]"
          ]
        },
        {
          "name": "stdout",
          "output_type": "stream",
          "text": [
            "이미지 추출 오류 2 for 썸카페 \n",
            "이미지 추출 오류 3 for 썸카페 \n",
            "이미지 추출 오류 4 for 썸카페 \n",
            "이미지 추출 오류 5 for 썸카페 \n",
            "이미지 추출 오류 6 for 썸카페 \n",
            "이미지 추출 오류 7 for 썸카페 \n",
            "이미지 추출 오류 8 for 썸카페 \n",
            "이미지 추출 오류 9 for 썸카페 \n",
            "이미지 추출 오류 10 for 썸카페 \n",
            "쎈 얼큰이: searchIframe 로드 및 프레임 전환 완료\n",
            "쎈 얼큰이: entryIframe이 이미 로드됨. 클릭 없이 바로 진행\n",
            "entryIframe 로드.\n",
            "Error while extracting menu/features for 쎈 얼큰이, div 1:\n",
            "Error while navigating to reviews for 쎈 얼큰이:\n"
          ]
        },
        {
          "name": "stderr",
          "output_type": "stream",
          "text": [
            " 47%|████▋     | 469/999 [3:00:00<3:20:18, 22.68s/it]"
          ]
        },
        {
          "name": "stdout",
          "output_type": "stream",
          "text": [
            "쏘주언니오빠포차: searchIframe 로드 및 프레임 전환 완료\n",
            "Error while clicking first search result for 쏘주언니오빠포차: Unable to locate list container.\n"
          ]
        },
        {
          "name": "stderr",
          "output_type": "stream",
          "text": [
            " 47%|████▋     | 470/999 [3:00:21<3:15:36, 22.19s/it]"
          ]
        },
        {
          "name": "stdout",
          "output_type": "stream",
          "text": [
            "Failed to load iframe after multiple attempts for 쏘주언니오빠포차.\n",
            "crawling fatil : 쏘주언니오빠포차 to fail_to_crawling\n",
            "쏜: searchIframe 로드 및 프레임 전환 완료\n",
            "쏜: 첫 번째 가게 클릭 후 전환되지 않음. 다음 가게로 진행\n",
            "entryIframe 로드.\n",
            "Error while extracting menu/features for 쏜, div 1:\n",
            "Error while extracting menu/features for 쏜, div 2:\n"
          ]
        },
        {
          "name": "stderr",
          "output_type": "stream",
          "text": [
            " 47%|████▋     | 471/999 [3:00:45<3:19:49, 22.71s/it]"
          ]
        },
        {
          "name": "stdout",
          "output_type": "stream",
          "text": [
            " 사진 버튼 없음 : 쏜.\n",
            "쏭버드라이브: searchIframe 로드 및 프레임 전환 완료\n",
            "쏭버드라이브: entryIframe이 이미 로드됨. 클릭 없이 바로 진행\n",
            "entryIframe 로드.\n",
            "Error while extracting datalab information for 쏭버드라이브:\n",
            "Error while navigating to reviews for 쏭버드라이브:\n"
          ]
        },
        {
          "name": "stderr",
          "output_type": "stream",
          "text": [
            " 47%|████▋     | 472/999 [3:01:05<3:13:59, 22.09s/it]"
          ]
        },
        {
          "name": "stdout",
          "output_type": "stream",
          "text": [
            "이미지 추출 오류 9 for 쏭버드라이브 \n",
            "이미지 추출 오류 10 for 쏭버드라이브 \n",
            "쏭스: searchIframe 로드 및 프레임 전환 완료\n",
            "쏭스: 첫 번째 가게 클릭 후 전환되지 않음. 다음 가게로 진행\n",
            "entryIframe 로드.\n",
            "Error while extracting menu/features for 쏭스, div 1:\n",
            "Error while extracting menu/features for 쏭스, div 2:\n"
          ]
        },
        {
          "name": "stderr",
          "output_type": "stream",
          "text": [
            " 47%|████▋     | 473/999 [3:01:33<3:28:29, 23.78s/it]"
          ]
        },
        {
          "name": "stdout",
          "output_type": "stream",
          "text": [
            "이미지 추출 오류 10 for 쏭스 \n",
            "쏭쏭돈까스 제주월평점: searchIframe 로드 및 프레임 전환 완료\n",
            "쏭쏭돈까스 제주월평점: entryIframe이 이미 로드됨. 클릭 없이 바로 진행\n",
            "entryIframe 로드.\n",
            "Error while extracting menu/features for 쏭쏭돈까스 제주월평점, div 1:\n",
            "Error while extracting menu/features for 쏭쏭돈까스 제주월평점, div 2:\n"
          ]
        },
        {
          "name": "stderr",
          "output_type": "stream",
          "text": [
            " 47%|████▋     | 474/999 [3:01:54<3:21:34, 23.04s/it]"
          ]
        },
        {
          "name": "stdout",
          "output_type": "stream",
          "text": [
            "쏭타이: searchIframe 로드 및 프레임 전환 완료\n",
            "쏭타이: 첫 번째 가게 클릭 후 전환되지 않음. 다음 가게로 진행\n",
            "entryIframe 로드.\n",
            "Error while extracting menu/features for 쏭타이, div 1:\n"
          ]
        },
        {
          "name": "stderr",
          "output_type": "stream",
          "text": [
            " 48%|████▊     | 475/999 [3:02:19<3:24:27, 23.41s/it]"
          ]
        },
        {
          "name": "stdout",
          "output_type": "stream",
          "text": [
            "Error while extracting menu/features for 쏭타이, div 2:\n",
            " 사진 버튼 없음 : 쏭타이.\n",
            "쑤니에7080: searchIframe 로드 및 프레임 전환 완료\n",
            "쑤니에7080: entryIframe이 이미 로드됨. 클릭 없이 바로 진행\n",
            "entryIframe 로드.\n"
          ]
        },
        {
          "name": "stderr",
          "output_type": "stream",
          "text": [
            " 48%|████▊     | 476/999 [3:02:40<3:18:02, 22.72s/it]"
          ]
        },
        {
          "name": "stdout",
          "output_type": "stream",
          "text": [
            "이미지 추출 오류 7 for 쑤니에7080 \n",
            "이미지 추출 오류 8 for 쑤니에7080 \n",
            "이미지 추출 오류 9 for 쑤니에7080 \n",
            "이미지 추출 오류 10 for 쑤니에7080 \n",
            "쓰쓰카페: searchIframe 로드 및 프레임 전환 완료\n",
            "쓰쓰카페: entryIframe이 이미 로드됨. 클릭 없이 바로 진행\n",
            "entryIframe 로드.\n",
            "Error while extracting menu/features for 쓰쓰카페, div 1:\n",
            "Error while extracting menu/features for 쓰쓰카페, div 2:\n"
          ]
        },
        {
          "name": "stderr",
          "output_type": "stream",
          "text": [
            " 48%|████▊     | 477/999 [3:02:57<3:02:42, 21.00s/it]"
          ]
        },
        {
          "name": "stdout",
          "output_type": "stream",
          "text": [
            " 사진 버튼 없음 : 쓰쓰카페.\n",
            "씨네라운지 더 코브: searchIframe 로드 및 프레임 전환 완료\n",
            "Error while clicking first search result for 씨네라운지 더 코브: Unable to locate list container.\n"
          ]
        },
        {
          "name": "stderr",
          "output_type": "stream",
          "text": [
            " 48%|████▊     | 478/999 [3:03:18<3:02:07, 20.97s/it]"
          ]
        },
        {
          "name": "stdout",
          "output_type": "stream",
          "text": [
            "Failed to load iframe after multiple attempts for 씨네라운지 더 코브.\n",
            "crawling fatil : 씨네라운지 더 코브 to fail_to_crawling\n",
            "씨리얼: searchIframe 로드 및 프레임 전환 완료\n",
            "씨리얼: 링크버튼을 찾을 수 없음. xpath 대신 다른 방법 시도\n"
          ]
        },
        {
          "name": "stderr",
          "output_type": "stream",
          "text": [
            " 48%|████▊     | 479/999 [3:03:36<2:53:46, 20.05s/it]"
          ]
        },
        {
          "name": "stdout",
          "output_type": "stream",
          "text": [
            "Failed to load iframe after multiple attempts for 씨리얼.\n",
            "crawling fatil : 씨리얼 to fail_to_crawling\n",
            "씨리얼제주: searchIframe 로드 및 프레임 전환 완료\n",
            "씨리얼제주: entryIframe이 이미 로드됨. 클릭 없이 바로 진행\n",
            "entryIframe 로드.\n",
            "Error while extracting datalab information for 씨리얼제주:\n",
            "Error while navigating to reviews for 씨리얼제주:\n"
          ]
        },
        {
          "name": "stderr",
          "output_type": "stream",
          "text": [
            " 48%|████▊     | 480/999 [3:03:52<2:45:04, 19.08s/it]"
          ]
        },
        {
          "name": "stdout",
          "output_type": "stream",
          "text": [
            "이미지 추출 오류 5 for 씨리얼제주 \n",
            "이미지 추출 오류 6 for 씨리얼제주 \n",
            "이미지 추출 오류 7 for 씨리얼제주 \n",
            "이미지 추출 오류 8 for 씨리얼제주 \n",
            "이미지 추출 오류 9 for 씨리얼제주 \n",
            "이미지 추출 오류 10 for 씨리얼제주 \n",
            "씨싸이드제주애월하귀점원두로스터리: searchIframe 로드 및 프레임 전환 완료\n",
            "씨싸이드제주애월하귀점원두로스터리: entryIframe이 이미 로드됨. 클릭 없이 바로 진행\n",
            "entryIframe 로드.\n",
            "Error while extracting datalab information for 씨싸이드제주애월하귀점원두로스터리:\n",
            "Error while extracting menu/features for 씨싸이드제주애월하귀점원두로스터리, div 1:\n",
            "Error while navigating to reviews for 씨싸이드제주애월하귀점원두로스터리:\n"
          ]
        },
        {
          "name": "stderr",
          "output_type": "stream",
          "text": [
            " 48%|████▊     | 481/999 [3:04:14<2:51:37, 19.88s/it]"
          ]
        },
        {
          "name": "stdout",
          "output_type": "stream",
          "text": [
            "씨오케이홀덤펍: searchIframe 로드 및 프레임 전환 완료\n",
            "씨오케이홀덤펍: 첫 번째 가게 클릭 후 전환되지 않음. 다음 가게로 진행\n",
            "entryIframe 로드.\n",
            "Error while extracting datalab information for 씨오케이홀덤펍:\n",
            "Error while navigating to reviews for 씨오케이홀덤펍:\n"
          ]
        },
        {
          "name": "stderr",
          "output_type": "stream",
          "text": [
            " 48%|████▊     | 482/999 [3:04:38<3:01:58, 21.12s/it]"
          ]
        },
        {
          "name": "stdout",
          "output_type": "stream",
          "text": [
            "씨제이푸드빌(주) 빕스 제주점: searchIframe 로드 및 프레임 전환 완료\n",
            "Error while clicking first search result for 씨제이푸드빌(주) 빕스 제주점: Unable to locate list container.\n"
          ]
        },
        {
          "name": "stderr",
          "output_type": "stream",
          "text": [
            " 48%|████▊     | 483/999 [3:04:59<3:00:23, 20.98s/it]"
          ]
        },
        {
          "name": "stdout",
          "output_type": "stream",
          "text": [
            "Failed to load iframe after multiple attempts for 씨제이푸드빌(주) 빕스 제주점.\n",
            "crawling fatil : 씨제이푸드빌(주) 빕스 제주점 to fail_to_crawling\n",
            "아구식당: searchIframe 로드 및 프레임 전환 완료\n",
            "아구식당: 첫 번째 가게 클릭 후 전환되지 않음. 다음 가게로 진행\n",
            "entryIframe 로드.\n",
            "Error while extracting menu/features for 아구식당, div 1:\n",
            "Error while navigating to reviews for 아구식당:\n"
          ]
        },
        {
          "name": "stderr",
          "output_type": "stream",
          "text": [
            " 48%|████▊     | 484/999 [3:05:27<3:19:16, 23.22s/it]"
          ]
        },
        {
          "name": "stdout",
          "output_type": "stream",
          "text": [
            "아구에반하다: searchIframe 로드 및 프레임 전환 완료\n",
            "아구에반하다: entryIframe이 이미 로드됨. 클릭 없이 바로 진행\n",
            "entryIframe 로드.\n",
            "Error while extracting menu/features for 아구에반하다, div 1:\n",
            "Error while extracting menu/features for 아구에반하다, div 2:\n"
          ]
        },
        {
          "name": "stderr",
          "output_type": "stream",
          "text": [
            " 49%|████▊     | 485/999 [3:05:48<3:13:38, 22.61s/it]"
          ]
        },
        {
          "name": "stdout",
          "output_type": "stream",
          "text": [
            "아궁이연탄집: searchIframe 로드 및 프레임 전환 완료\n",
            "아궁이연탄집: 첫 번째 가게 클릭 후 전환되지 않음. 다음 가게로 진행\n",
            "entryIframe 로드.\n",
            "Error while extracting menu/features for 아궁이연탄집, div 1:\n",
            "Error while extracting menu/features for 아궁이연탄집, div 2:\n"
          ]
        },
        {
          "name": "stderr",
          "output_type": "stream",
          "text": [
            " 49%|████▊     | 486/999 [3:06:16<3:27:05, 24.22s/it]"
          ]
        },
        {
          "name": "stdout",
          "output_type": "stream",
          "text": [
            "아꼬떼카페: searchIframe 로드 및 프레임 전환 완료\n",
            "아꼬떼카페: 첫 번째 가게 클릭 후 전환되지 않음. 다음 가게로 진행\n",
            "entryIframe 로드.\n",
            "Error while extracting menu/features for 아꼬떼카페, div 1:\n",
            "Error while extracting menu/features for 아꼬떼카페, div 2:\n"
          ]
        },
        {
          "name": "stderr",
          "output_type": "stream",
          "text": [
            " 49%|████▊     | 487/999 [3:06:44<3:36:04, 25.32s/it]"
          ]
        },
        {
          "name": "stdout",
          "output_type": "stream",
          "text": [
            "아남떡집: searchIframe 로드 및 프레임 전환 완료\n",
            "아남떡집: entryIframe이 이미 로드됨. 클릭 없이 바로 진행\n",
            "entryIframe 로드.\n",
            "Error while extracting datalab information for 아남떡집:\n",
            "Error while navigating to reviews for 아남떡집:\n"
          ]
        },
        {
          "name": "stderr",
          "output_type": "stream",
          "text": [
            " 49%|████▉     | 488/999 [3:07:05<3:24:53, 24.06s/it]"
          ]
        },
        {
          "name": "stdout",
          "output_type": "stream",
          "text": [
            "아노드: searchIframe 로드 및 프레임 전환 완료\n",
            "아노드: 첫 번째 가게 클릭 후 전환되지 않음. 다음 가게로 진행\n",
            "entryIframe 로드.\n"
          ]
        },
        {
          "name": "stderr",
          "output_type": "stream",
          "text": [
            " 49%|████▉     | 489/999 [3:07:30<3:24:32, 24.06s/it]"
          ]
        },
        {
          "name": "stdout",
          "output_type": "stream",
          "text": [
            "Error while extracting menu/features for 아노드, div 1:\n",
            "Error while extracting menu/features for 아노드, div 2:\n",
            " 사진 버튼 없음 : 아노드.\n",
            "아노야2호점: searchIframe 로드 및 프레임 전환 완료\n",
            "Error while clicking first search result for 아노야2호점: Unable to locate list container.\n"
          ]
        },
        {
          "name": "stderr",
          "output_type": "stream",
          "text": [
            " 49%|████▉     | 490/999 [3:07:50<3:15:08, 23.00s/it]"
          ]
        },
        {
          "name": "stdout",
          "output_type": "stream",
          "text": [
            "Failed to load iframe after multiple attempts for 아노야2호점.\n",
            "crawling fatil : 아노야2호점 to fail_to_crawling\n",
            "아놔고: searchIframe 로드 및 프레임 전환 완료\n",
            "아놔고: entryIframe이 이미 로드됨. 클릭 없이 바로 진행\n",
            "entryIframe 로드.\n",
            "Error while extracting menu/features for 아놔고, div 1:\n",
            "Error while extracting menu/features for 아놔고, div 2:\n"
          ]
        },
        {
          "name": "stderr",
          "output_type": "stream",
          "text": [
            " 49%|████▉     | 491/999 [3:08:12<3:11:22, 22.60s/it]"
          ]
        },
        {
          "name": "stdout",
          "output_type": "stream",
          "text": [
            "아늑월정함덕점: searchIframe 로드 및 프레임 전환 완료\n",
            "아늑월정함덕점: entryIframe이 이미 로드됨. 클릭 없이 바로 진행\n",
            "entryIframe 로드.\n",
            "Error while extracting menu/features for 아늑월정함덕점, div 1:\n"
          ]
        },
        {
          "name": "stderr",
          "output_type": "stream",
          "text": [
            " 49%|████▉     | 492/999 [3:08:29<2:57:31, 21.01s/it]"
          ]
        },
        {
          "name": "stdout",
          "output_type": "stream",
          "text": [
            "Error while extracting menu/features for 아늑월정함덕점, div 2:\n",
            " 사진 버튼 없음 : 아늑월정함덕점.\n",
            "아는동생: searchIframe 로드 및 프레임 전환 완료\n",
            "아는동생: 첫 번째 가게 클릭 후 전환되지 않음. 다음 가게로 진행\n",
            "entryIframe 로드.\n",
            "Error while extracting menu/features for 아는동생, div 1:\n",
            "Error while navigating to reviews for 아는동생:\n"
          ]
        },
        {
          "name": "stderr",
          "output_type": "stream",
          "text": [
            " 49%|████▉     | 493/999 [3:08:57<3:14:35, 23.07s/it]"
          ]
        },
        {
          "name": "stdout",
          "output_type": "stream",
          "text": [
            "아는맛: searchIframe 로드 및 프레임 전환 완료\n",
            "아는맛: 첫 번째 가게 클릭 후 전환되지 않음. 다음 가게로 진행\n",
            "entryIframe 로드.\n",
            "Error while extracting menu/features for 아는맛, div 1:\n",
            "Error while extracting menu/features for 아는맛, div 2:\n"
          ]
        },
        {
          "name": "stderr",
          "output_type": "stream",
          "text": [
            " 49%|████▉     | 494/999 [3:09:26<3:28:44, 24.80s/it]"
          ]
        },
        {
          "name": "stdout",
          "output_type": "stream",
          "text": [
            "아니따: searchIframe 로드 및 프레임 전환 완료\n",
            "아니따: 첫 번째 가게 클릭 후 전환되지 않음. 다음 가게로 진행\n",
            "entryIframe 로드.\n",
            "Error while extracting menu/features for 아니따, div 1:\n",
            "Error while extracting menu/features for 아니따, div 2:\n"
          ]
        },
        {
          "name": "stderr",
          "output_type": "stream",
          "text": [
            " 50%|████▉     | 495/999 [3:09:54<3:36:34, 25.78s/it]"
          ]
        },
        {
          "name": "stdout",
          "output_type": "stream",
          "text": [
            "아니따파스타: searchIframe 로드 및 프레임 전환 완료\n",
            "아니따파스타: entryIframe이 이미 로드됨. 클릭 없이 바로 진행\n",
            "entryIframe 로드.\n",
            "Error while extracting menu/features for 아니따파스타, div 1:\n",
            "Error while extracting menu/features for 아니따파스타, div 2:\n"
          ]
        },
        {
          "name": "stderr",
          "output_type": "stream",
          "text": [
            " 50%|████▉     | 496/999 [3:10:15<3:24:41, 24.42s/it]"
          ]
        },
        {
          "name": "stdout",
          "output_type": "stream",
          "text": [
            "아따블르: searchIframe 로드 및 프레임 전환 완료\n",
            "아따블르: 첫 번째 가게 클릭 후 전환되지 않음. 다음 가게로 진행\n",
            "entryIframe 로드.\n",
            "Error while extracting menu/features for 아따블르, div 1:\n",
            "Error while extracting menu/features for 아따블르, div 2:\n"
          ]
        },
        {
          "name": "stderr",
          "output_type": "stream",
          "text": [
            " 50%|████▉     | 497/999 [3:10:42<3:29:24, 25.03s/it]"
          ]
        },
        {
          "name": "stdout",
          "output_type": "stream",
          "text": [
            "아뜰리에 제주명월: searchIframe 로드 및 프레임 전환 완료\n",
            "아뜰리에 제주명월: entryIframe이 이미 로드됨. 클릭 없이 바로 진행\n",
            "entryIframe 로드.\n",
            "Error while extracting menu/features for 아뜰리에 제주명월, div 1:\n",
            "Error while extracting menu/features for 아뜰리에 제주명월, div 2:\n"
          ]
        },
        {
          "name": "stderr",
          "output_type": "stream",
          "text": [
            " 50%|████▉     | 498/999 [3:11:03<3:19:01, 23.83s/it]"
          ]
        },
        {
          "name": "stdout",
          "output_type": "stream",
          "text": [
            "아뜰리에안: searchIframe 로드 및 프레임 전환 완료\n",
            "아뜰리에안: 첫 번째 가게 클릭 후 전환되지 않음. 다음 가게로 진행\n",
            "entryIframe 로드.\n",
            "Error while extracting menu/features for 아뜰리에안, div 1:\n"
          ]
        },
        {
          "name": "stderr",
          "output_type": "stream",
          "text": [
            " 50%|████▉     | 499/999 [3:11:26<3:18:46, 23.85s/it]"
          ]
        },
        {
          "name": "stdout",
          "output_type": "stream",
          "text": [
            "Error while extracting menu/features for 아뜰리에안, div 2:\n",
            " 사진 버튼 없음 : 아뜰리에안.\n",
            "아띠랑: searchIframe 로드 및 프레임 전환 완료\n",
            "아띠랑: 첫 번째 가게 클릭 후 전환되지 않음. 다음 가게로 진행\n",
            "entryIframe 로드.\n",
            "Error while extracting menu/features for 아띠랑, div 1:\n",
            "Error while extracting menu/features for 아띠랑, div 2:\n"
          ]
        },
        {
          "name": "stderr",
          "output_type": "stream",
          "text": [
            " 50%|█████     | 500/999 [3:11:55<3:29:53, 25.24s/it]"
          ]
        },
        {
          "name": "stdout",
          "output_type": "stream",
          "text": [
            "아라거기: searchIframe 로드 및 프레임 전환 완료\n",
            "아라거기: entryIframe이 이미 로드됨. 클릭 없이 바로 진행\n",
            "entryIframe 로드.\n",
            "Error while extracting menu/features for 아라거기, div 1:\n",
            "Error while extracting menu/features for 아라거기, div 2:\n"
          ]
        },
        {
          "name": "stderr",
          "output_type": "stream",
          "text": [
            " 50%|█████     | 501/999 [3:12:16<3:19:18, 24.01s/it]"
          ]
        },
        {
          "name": "stdout",
          "output_type": "stream",
          "text": [
            "아라돈사촌: searchIframe 로드 및 프레임 전환 완료\n",
            "아라돈사촌: entryIframe이 이미 로드됨. 클릭 없이 바로 진행\n",
            "entryIframe 로드.\n",
            "Error while extracting menu/features for 아라돈사촌, div 1:\n",
            "Error while extracting menu/features for 아라돈사촌, div 2:\n"
          ]
        },
        {
          "name": "stderr",
          "output_type": "stream",
          "text": [
            " 50%|█████     | 502/999 [3:12:37<3:12:13, 23.21s/it]"
          ]
        },
        {
          "name": "stdout",
          "output_type": "stream",
          "text": [
            "아라동감자탕: searchIframe 로드 및 프레임 전환 완료\n",
            "아라동감자탕: 링크버튼을 찾을 수 없음. xpath 대신 다른 방법 시도\n"
          ]
        },
        {
          "name": "stderr",
          "output_type": "stream",
          "text": [
            " 50%|█████     | 503/999 [3:12:56<3:00:02, 21.78s/it]"
          ]
        },
        {
          "name": "stdout",
          "output_type": "stream",
          "text": [
            "Failed to load iframe after multiple attempts for 아라동감자탕.\n",
            "crawling fatil : 아라동감자탕 to fail_to_crawling\n",
            "아라숯불갈비: searchIframe 로드 및 프레임 전환 완료\n",
            "아라숯불갈비: 첫 번째 가게 클릭 후 전환되지 않음. 다음 가게로 진행\n",
            "entryIframe 로드.\n",
            "Error while extracting menu/features for 아라숯불갈비, div 1:\n",
            "Error while extracting menu/features for 아라숯불갈비, div 2:\n"
          ]
        },
        {
          "name": "stderr",
          "output_type": "stream",
          "text": [
            " 50%|█████     | 504/999 [3:13:24<3:16:26, 23.81s/it]"
          ]
        },
        {
          "name": "stdout",
          "output_type": "stream",
          "text": [
            "아라스시: searchIframe 로드 및 프레임 전환 완료\n",
            "아라스시: 첫 번째 가게 클릭 후 전환되지 않음. 다음 가게로 진행\n",
            "entryIframe 로드.\n",
            "Error while extracting menu/features for 아라스시, div 1:\n",
            "Error while extracting menu/features for 아라스시, div 2:\n"
          ]
        },
        {
          "name": "stderr",
          "output_type": "stream",
          "text": [
            " 51%|█████     | 505/999 [3:13:54<3:29:33, 25.45s/it]"
          ]
        },
        {
          "name": "stdout",
          "output_type": "stream",
          "text": [
            "아라연: searchIframe 로드 및 프레임 전환 완료\n",
            "아라연: 첫 번째 가게 클릭 후 전환되지 않음. 다음 가게로 진행\n",
            "entryIframe 로드.\n",
            "Error while navigating to reviews for 아라연:\n"
          ]
        },
        {
          "name": "stderr",
          "output_type": "stream",
          "text": [
            " 51%|█████     | 506/999 [3:14:20<3:30:01, 25.56s/it]"
          ]
        },
        {
          "name": "stdout",
          "output_type": "stream",
          "text": [
            "아라옛통치킨: searchIframe 로드 및 프레임 전환 완료\n",
            "아라옛통치킨: entryIframe이 이미 로드됨. 클릭 없이 바로 진행\n",
            "entryIframe 로드.\n",
            "Error while extracting menu/features for 아라옛통치킨, div 1:\n",
            "Error while extracting menu/features for 아라옛통치킨, div 2:\n"
          ]
        },
        {
          "name": "stderr",
          "output_type": "stream",
          "text": [
            " 51%|█████     | 507/999 [3:14:41<3:18:44, 24.24s/it]"
          ]
        },
        {
          "name": "stdout",
          "output_type": "stream",
          "text": [
            "아라오리: searchIframe 로드 및 프레임 전환 완료\n",
            "아라오리: 링크버튼을 찾을 수 없음. xpath 대신 다른 방법 시도\n"
          ]
        },
        {
          "name": "stderr",
          "output_type": "stream",
          "text": [
            " 51%|█████     | 508/999 [3:14:59<3:04:08, 22.50s/it]"
          ]
        },
        {
          "name": "stdout",
          "output_type": "stream",
          "text": [
            "Failed to load iframe after multiple attempts for 아라오리.\n",
            "crawling fatil : 아라오리 to fail_to_crawling\n",
            "아라주는국수: searchIframe 로드 및 프레임 전환 완료\n",
            "아라주는국수: entryIframe이 이미 로드됨. 클릭 없이 바로 진행\n",
            "entryIframe 로드.\n",
            "Error while extracting menu/features for 아라주는국수, div 1:\n",
            "Error while extracting menu/features for 아라주는국수, div 2:\n"
          ]
        },
        {
          "name": "stderr",
          "output_type": "stream",
          "text": [
            " 51%|█████     | 509/999 [3:15:20<3:00:55, 22.15s/it]"
          ]
        },
        {
          "name": "stdout",
          "output_type": "stream",
          "text": [
            "아라주는엄마치킨동문점: searchIframe 로드 및 프레임 전환 완료\n",
            "Error while clicking first search result for 아라주는엄마치킨동문점: Unable to locate list container.\n"
          ]
        },
        {
          "name": "stderr",
          "output_type": "stream",
          "text": [
            " 51%|█████     | 510/999 [3:15:41<2:57:08, 21.74s/it]"
          ]
        },
        {
          "name": "stdout",
          "output_type": "stream",
          "text": [
            "Failed to load iframe after multiple attempts for 아라주는엄마치킨동문점.\n",
            "crawling fatil : 아라주는엄마치킨동문점 to fail_to_crawling\n",
            "아라주는전집: searchIframe 로드 및 프레임 전환 완료\n",
            "아라주는전집: entryIframe이 이미 로드됨. 클릭 없이 바로 진행\n",
            "entryIframe 로드.\n",
            "Error while extracting menu/features for 아라주는전집, div 1:\n",
            "Error while extracting menu/features for 아라주는전집, div 2:\n"
          ]
        },
        {
          "name": "stderr",
          "output_type": "stream",
          "text": [
            " 51%|█████     | 511/999 [3:16:03<2:56:53, 21.75s/it]"
          ]
        },
        {
          "name": "stdout",
          "output_type": "stream",
          "text": [
            "아라중화요리: searchIframe 로드 및 프레임 전환 완료\n",
            "아라중화요리: 링크버튼을 찾을 수 없음. xpath 대신 다른 방법 시도\n"
          ]
        },
        {
          "name": "stderr",
          "output_type": "stream",
          "text": [
            " 51%|█████▏    | 512/999 [3:16:23<2:51:47, 21.16s/it]"
          ]
        },
        {
          "name": "stdout",
          "output_type": "stream",
          "text": [
            "Failed to load iframe after multiple attempts for 아라중화요리.\n",
            "crawling fatil : 아라중화요리 to fail_to_crawling\n",
            "아라찐빵: searchIframe 로드 및 프레임 전환 완료\n",
            "아라찐빵: 첫 번째 가게 클릭 후 전환되지 않음. 다음 가게로 진행\n",
            "entryIframe 로드.\n",
            "Error while extracting menu/features for 아라찐빵, div 1:\n",
            "Error while navigating to reviews for 아라찐빵:\n"
          ]
        },
        {
          "name": "stderr",
          "output_type": "stream",
          "text": [
            " 51%|█████▏    | 513/999 [3:16:51<3:09:06, 23.35s/it]"
          ]
        },
        {
          "name": "stdout",
          "output_type": "stream",
          "text": [
            "아라초프렌즈: searchIframe 로드 및 프레임 전환 완료\n",
            "아라초프렌즈: entryIframe이 이미 로드됨. 클릭 없이 바로 진행\n",
            "entryIframe 로드.\n",
            "Error while extracting datalab information for 아라초프렌즈:\n",
            "Error while extracting menu/features for 아라초프렌즈, div 1:\n",
            "Error while navigating to reviews for 아라초프렌즈:\n"
          ]
        },
        {
          "name": "stderr",
          "output_type": "stream",
          "text": [
            " 51%|█████▏    | 514/999 [3:17:13<3:03:45, 22.73s/it]"
          ]
        },
        {
          "name": "stdout",
          "output_type": "stream",
          "text": [
            "아라파파 a la papa: searchIframe 로드 및 프레임 전환 완료\n",
            "아라파파 a la papa: 링크버튼을 찾을 수 없음. xpath 대신 다른 방법 시도\n"
          ]
        },
        {
          "name": "stderr",
          "output_type": "stream",
          "text": [
            " 52%|█████▏    | 515/999 [3:17:30<2:51:07, 21.21s/it]"
          ]
        },
        {
          "name": "stdout",
          "output_type": "stream",
          "text": [
            "Failed to load iframe after multiple attempts for 아라파파 a la papa.\n",
            "crawling fatil : 아라파파 a la papa to fail_to_crawling\n",
            "아라파파 북촌점: searchIframe 로드 및 프레임 전환 완료\n",
            "Error while clicking first search result for 아라파파 북촌점: Unable to locate list container.\n"
          ]
        },
        {
          "name": "stderr",
          "output_type": "stream",
          "text": [
            " 52%|█████▏    | 516/999 [3:17:51<2:48:56, 20.99s/it]"
          ]
        },
        {
          "name": "stdout",
          "output_type": "stream",
          "text": [
            "Failed to load iframe after multiple attempts for 아라파파 북촌점.\n",
            "crawling fatil : 아라파파 북촌점 to fail_to_crawling\n",
            "아라파파북촌: searchIframe 로드 및 프레임 전환 완료\n",
            "아라파파북촌: entryIframe이 이미 로드됨. 클릭 없이 바로 진행\n",
            "entryIframe 로드.\n",
            "Error while extracting menu/features for 아라파파북촌, div 1:\n",
            "Error while extracting menu/features for 아라파파북촌, div 2:\n"
          ]
        },
        {
          "name": "stderr",
          "output_type": "stream",
          "text": [
            " 52%|█████▏    | 517/999 [3:18:12<2:49:39, 21.12s/it]"
          ]
        },
        {
          "name": "stdout",
          "output_type": "stream",
          "text": [
            "아라포차: searchIframe 로드 및 프레임 전환 완료\n",
            "아라포차: 링크버튼을 찾을 수 없음. xpath 대신 다른 방법 시도\n"
          ]
        },
        {
          "name": "stderr",
          "output_type": "stream",
          "text": [
            " 52%|█████▏    | 518/999 [3:18:31<2:43:28, 20.39s/it]"
          ]
        },
        {
          "name": "stdout",
          "output_type": "stream",
          "text": [
            "Failed to load iframe after multiple attempts for 아라포차.\n",
            "crawling fatil : 아라포차 to fail_to_crawling\n",
            "아란구길: searchIframe 로드 및 프레임 전환 완료\n",
            "아란구길: entryIframe이 이미 로드됨. 클릭 없이 바로 진행\n",
            "entryIframe 로드.\n",
            "Error while extracting menu/features for 아란구길, div 1:\n",
            "Error while extracting menu/features for 아란구길, div 2:\n"
          ]
        },
        {
          "name": "stderr",
          "output_type": "stream",
          "text": [
            " 52%|█████▏    | 519/999 [3:18:52<2:44:49, 20.60s/it]"
          ]
        },
        {
          "name": "stdout",
          "output_type": "stream",
          "text": [
            "아랑: searchIframe 로드 및 프레임 전환 완료\n",
            "아랑: 첫 번째 가게 클릭 후 전환되지 않음. 다음 가게로 진행\n",
            "entryIframe 로드.\n",
            "Error while extracting menu/features for 아랑, div 1:\n",
            "Error while extracting menu/features for 아랑, div 2:\n"
          ]
        },
        {
          "name": "stderr",
          "output_type": "stream",
          "text": [
            " 52%|█████▏    | 520/999 [3:19:21<3:03:40, 23.01s/it]"
          ]
        },
        {
          "name": "stdout",
          "output_type": "stream",
          "text": [
            "아랑아랑: searchIframe 로드 및 프레임 전환 완료\n",
            "아랑아랑: 첫 번째 가게 클릭 후 전환되지 않음. 다음 가게로 진행\n",
            "entryIframe 로드.\n",
            "Error while navigating to reviews for 아랑아랑:\n"
          ]
        },
        {
          "name": "stderr",
          "output_type": "stream",
          "text": [
            " 52%|█████▏    | 521/999 [3:19:49<3:15:20, 24.52s/it]"
          ]
        },
        {
          "name": "stdout",
          "output_type": "stream",
          "text": [
            "아랑조을국수: searchIframe 로드 및 프레임 전환 완료\n",
            "아랑조을국수: entryIframe이 이미 로드됨. 클릭 없이 바로 진행\n",
            "entryIframe 로드.\n",
            "Error while extracting menu/features for 아랑조을국수, div 1:\n",
            "Error while extracting menu/features for 아랑조을국수, div 2:\n"
          ]
        },
        {
          "name": "stderr",
          "output_type": "stream",
          "text": [
            " 52%|█████▏    | 522/999 [3:20:10<3:06:58, 23.52s/it]"
          ]
        },
        {
          "name": "stdout",
          "output_type": "stream",
          "text": [
            "아로제: searchIframe 로드 및 프레임 전환 완료\n",
            "아로제: 첫 번째 가게 클릭 후 전환되지 않음. 다음 가게로 진행\n",
            "entryIframe 로드.\n",
            "Error while extracting menu/features for 아로제, div 1:\n",
            "Error while extracting menu/features for 아로제, div 2:\n"
          ]
        },
        {
          "name": "stderr",
          "output_type": "stream",
          "text": [
            " 52%|█████▏    | 523/999 [3:20:37<3:16:27, 24.76s/it]"
          ]
        },
        {
          "name": "stdout",
          "output_type": "stream",
          "text": [
            "아르보: searchIframe 로드 및 프레임 전환 완료\n",
            "아르보: 첫 번째 가게 클릭 후 전환되지 않음. 다음 가게로 진행\n",
            "entryIframe 로드.\n",
            "Error while extracting menu/features for 아르보, div 1:\n",
            "Error while extracting menu/features for 아르보, div 2:\n"
          ]
        },
        {
          "name": "stderr",
          "output_type": "stream",
          "text": [
            " 52%|█████▏    | 524/999 [3:21:06<3:25:00, 25.90s/it]"
          ]
        },
        {
          "name": "stdout",
          "output_type": "stream",
          "text": [
            "아르츠제주 주식회사: searchIframe 로드 및 프레임 전환 완료\n",
            "Error while clicking first search result for 아르츠제주 주식회사: Unable to locate list container.\n"
          ]
        },
        {
          "name": "stderr",
          "output_type": "stream",
          "text": [
            " 53%|█████▎    | 525/999 [3:21:27<3:12:41, 24.39s/it]"
          ]
        },
        {
          "name": "stdout",
          "output_type": "stream",
          "text": [
            "Failed to load iframe after multiple attempts for 아르츠제주 주식회사.\n",
            "crawling fatil : 아르츠제주 주식회사 to fail_to_crawling\n",
            "아르크팬케이크하우스: searchIframe 로드 및 프레임 전환 완료\n",
            "아르크팬케이크하우스: entryIframe이 이미 로드됨. 클릭 없이 바로 진행\n",
            "entryIframe 로드.\n",
            "Error while extracting menu/features for 아르크팬케이크하우스, div 1:\n",
            "Error while extracting menu/features for 아르크팬케이크하우스, div 2:\n"
          ]
        },
        {
          "name": "stderr",
          "output_type": "stream",
          "text": [
            " 53%|█████▎    | 527/999 [3:21:52<2:17:44, 17.51s/it]"
          ]
        },
        {
          "name": "stdout",
          "output_type": "stream",
          "text": [
            "iframe을 찾을 수 없음 for 아름\n",
            "아름이네분식: searchIframe 로드 및 프레임 전환 완료\n",
            "아름이네분식: entryIframe이 이미 로드됨. 클릭 없이 바로 진행\n",
            "entryIframe 로드.\n",
            "Error while extracting menu/features for 아름이네분식, div 1:\n",
            "Error while extracting menu/features for 아름이네분식, div 2:\n"
          ]
        },
        {
          "name": "stderr",
          "output_type": "stream",
          "text": [
            " 53%|█████▎    | 529/999 [3:22:17<1:50:22, 14.09s/it]"
          ]
        },
        {
          "name": "stdout",
          "output_type": "stream",
          "text": [
            "iframe을 찾을 수 없음 for 아리\n",
            "아리(あり): searchIframe 로드 및 프레임 전환 완료\n",
            "Error while clicking first search result for 아리(あり): Unable to locate list container.\n"
          ]
        },
        {
          "name": "stderr",
          "output_type": "stream",
          "text": [
            " 53%|█████▎    | 530/999 [3:22:37<2:05:37, 16.07s/it]"
          ]
        },
        {
          "name": "stdout",
          "output_type": "stream",
          "text": [
            "Failed to load iframe after multiple attempts for 아리(あり).\n",
            "crawling fatil : 아리(あり) to fail_to_crawling\n",
            "아리나블루문: searchIframe 로드 및 프레임 전환 완료\n",
            "아리나블루문: entryIframe이 이미 로드됨. 클릭 없이 바로 진행\n",
            "entryIframe 로드.\n",
            "Error while navigating to reviews for 아리나블루문:\n"
          ]
        },
        {
          "name": "stderr",
          "output_type": "stream",
          "text": [
            " 53%|█████▎    | 531/999 [3:22:58<2:16:40, 17.52s/it]"
          ]
        },
        {
          "name": "stdout",
          "output_type": "stream",
          "text": [
            "이미지 추출 오류 9 for 아리나블루문 \n",
            "이미지 추출 오류 10 for 아리나블루문 \n",
            "아리랑밀면: searchIframe 로드 및 프레임 전환 완료\n",
            "아리랑밀면: entryIframe이 이미 로드됨. 클릭 없이 바로 진행\n",
            "entryIframe 로드.\n",
            "Error while extracting menu/features for 아리랑밀면, div 1:\n",
            "Error while extracting menu/features for 아리랑밀면, div 2:\n"
          ]
        },
        {
          "name": "stderr",
          "output_type": "stream",
          "text": [
            " 53%|█████▎    | 532/999 [3:23:20<2:25:13, 18.66s/it]"
          ]
        },
        {
          "name": "stdout",
          "output_type": "stream",
          "text": [
            "아리랑양곱창: searchIframe 로드 및 프레임 전환 완료\n",
            "아리랑양곱창: 링크버튼을 찾을 수 없음. xpath 대신 다른 방법 시도\n"
          ]
        },
        {
          "name": "stderr",
          "output_type": "stream",
          "text": [
            " 53%|█████▎    | 533/999 [3:23:37<2:23:15, 18.44s/it]"
          ]
        },
        {
          "name": "stdout",
          "output_type": "stream",
          "text": [
            "Failed to load iframe after multiple attempts for 아리랑양곱창.\n",
            "crawling fatil : 아리랑양곱창 to fail_to_crawling\n",
            "아리옥: searchIframe 로드 및 프레임 전환 완료\n",
            "Error while clicking first search result for 아리옥: Unable to locate list container.\n"
          ]
        },
        {
          "name": "stderr",
          "output_type": "stream",
          "text": [
            " 53%|█████▎    | 534/999 [3:23:58<2:27:31, 19.04s/it]"
          ]
        },
        {
          "name": "stdout",
          "output_type": "stream",
          "text": [
            "Failed to load iframe after multiple attempts for 아리옥.\n",
            "crawling fatil : 아리옥 to fail_to_crawling\n",
            "아모르: searchIframe 로드 및 프레임 전환 완료\n",
            "아모르: 첫 번째 가게 클릭 후 전환되지 않음. 다음 가게로 진행\n",
            "entryIframe 로드.\n",
            "Error while extracting menu/features for 아모르, div 1:\n",
            "Error while extracting menu/features for 아모르, div 2:\n"
          ]
        },
        {
          "name": "stderr",
          "output_type": "stream",
          "text": [
            " 54%|█████▎    | 535/999 [3:24:26<2:49:00, 21.85s/it]"
          ]
        },
        {
          "name": "stdout",
          "output_type": "stream",
          "text": [
            "아모르키친: searchIframe 로드 및 프레임 전환 완료\n",
            "Error while clicking first search result for 아모르키친: Unable to locate list container.\n"
          ]
        },
        {
          "name": "stderr",
          "output_type": "stream",
          "text": [
            " 54%|█████▎    | 536/999 [3:24:47<2:46:25, 21.57s/it]"
          ]
        },
        {
          "name": "stdout",
          "output_type": "stream",
          "text": [
            "Failed to load iframe after multiple attempts for 아모르키친.\n",
            "crawling fatil : 아모르키친 to fail_to_crawling\n",
            "아바: searchIframe 로드 및 프레임 전환 완료\n",
            "아바: 첫 번째 가게 클릭 후 전환되지 않음. 다음 가게로 진행\n",
            "entryIframe 로드.\n",
            "Error while extracting menu/features for 아바, div 1:\n",
            "Error while extracting menu/features for 아바, div 2:\n"
          ]
        },
        {
          "name": "stderr",
          "output_type": "stream",
          "text": [
            " 54%|█████▍    | 537/999 [3:25:15<3:00:36, 23.46s/it]"
          ]
        },
        {
          "name": "stdout",
          "output_type": "stream",
          "text": [
            "아바이순대: searchIframe 로드 및 프레임 전환 완료\n",
            "아바이순대: 링크버튼을 찾을 수 없음. xpath 대신 다른 방법 시도\n"
          ]
        },
        {
          "name": "stderr",
          "output_type": "stream",
          "text": [
            " 54%|█████▍    | 538/999 [3:25:35<2:52:51, 22.50s/it]"
          ]
        },
        {
          "name": "stdout",
          "output_type": "stream",
          "text": [
            "Failed to load iframe after multiple attempts for 아바이순대.\n",
            "crawling fatil : 아바이순대 to fail_to_crawling\n",
            "아방국수: searchIframe 로드 및 프레임 전환 완료\n",
            "아방국수: 첫 번째 가게 클릭 후 전환되지 않음. 다음 가게로 진행\n",
            "entryIframe 로드.\n",
            "Error while extracting menu/features for 아방국수, div 1:\n",
            "Error while extracting menu/features for 아방국수, div 2:\n"
          ]
        },
        {
          "name": "stderr",
          "output_type": "stream",
          "text": [
            " 54%|█████▍    | 539/999 [3:26:04<3:05:52, 24.24s/it]"
          ]
        },
        {
          "name": "stdout",
          "output_type": "stream",
          "text": [
            "아방도르다: searchIframe 로드 및 프레임 전환 완료\n",
            "아방도르다: entryIframe이 이미 로드됨. 클릭 없이 바로 진행\n",
            "entryIframe 로드.\n",
            "Error while extracting menu/features for 아방도르다, div 1:\n",
            "Error while extracting menu/features for 아방도르다, div 2:\n"
          ]
        },
        {
          "name": "stderr",
          "output_type": "stream",
          "text": [
            " 54%|█████▍    | 540/999 [3:26:25<2:59:39, 23.48s/it]"
          ]
        },
        {
          "name": "stdout",
          "output_type": "stream",
          "text": [
            "아방솟덕: searchIframe 로드 및 프레임 전환 완료\n",
            "아방솟덕: entryIframe이 이미 로드됨. 클릭 없이 바로 진행\n",
            "entryIframe 로드.\n",
            "Error while extracting menu/features for 아방솟덕, div 1:\n",
            "Error while navigating to reviews for 아방솟덕:\n"
          ]
        },
        {
          "name": "stderr",
          "output_type": "stream",
          "text": [
            " 54%|█████▍    | 541/999 [3:26:46<2:53:13, 22.69s/it]"
          ]
        },
        {
          "name": "stdout",
          "output_type": "stream",
          "text": [
            "아베베베이커리: searchIframe 로드 및 프레임 전환 완료\n",
            "아베베베이커리: 첫 번째 가게 클릭 후 전환되지 않음. 다음 가게로 진행\n",
            "entryIframe 로드.\n",
            "Error while extracting menu/features for 아베베베이커리, div 1:\n",
            "Error while extracting menu/features for 아베베베이커리, div 2:\n"
          ]
        },
        {
          "name": "stderr",
          "output_type": "stream",
          "text": [
            " 54%|█████▍    | 542/999 [3:27:15<3:06:54, 24.54s/it]"
          ]
        },
        {
          "name": "stdout",
          "output_type": "stream",
          "text": [
            "아빠가밀면손칼국수: searchIframe 로드 및 프레임 전환 완료\n",
            "아빠가밀면손칼국수: entryIframe이 이미 로드됨. 클릭 없이 바로 진행\n",
            "entryIframe 로드.\n",
            "Error while extracting menu/features for 아빠가밀면손칼국수, div 1:\n",
            "Error while extracting menu/features for 아빠가밀면손칼국수, div 2:\n"
          ]
        },
        {
          "name": "stderr",
          "output_type": "stream",
          "text": [
            " 54%|█████▍    | 543/999 [3:27:34<2:54:24, 22.95s/it]"
          ]
        },
        {
          "name": "stdout",
          "output_type": "stream",
          "text": [
            "아빠부엌: searchIframe 로드 및 프레임 전환 완료\n",
            "아빠부엌: 첫 번째 가게 클릭 후 전환되지 않음. 다음 가게로 진행\n",
            "entryIframe 로드.\n",
            "Error while extracting menu/features for 아빠부엌, div 1:\n",
            "Error while extracting menu/features for 아빠부엌, div 2:\n"
          ]
        },
        {
          "name": "stderr",
          "output_type": "stream",
          "text": [
            " 54%|█████▍    | 544/999 [3:28:03<3:06:14, 24.56s/it]"
          ]
        },
        {
          "name": "stdout",
          "output_type": "stream",
          "text": [
            "아뽀밍고: searchIframe 로드 및 프레임 전환 완료\n",
            "아뽀밍고: entryIframe이 이미 로드됨. 클릭 없이 바로 진행\n",
            "entryIframe 로드.\n",
            "Error while extracting menu/features for 아뽀밍고, div 1:\n",
            "Error while extracting menu/features for 아뽀밍고, div 2:\n"
          ]
        },
        {
          "name": "stderr",
          "output_type": "stream",
          "text": [
            " 55%|█████▍    | 545/999 [3:28:24<2:59:03, 23.66s/it]"
          ]
        },
        {
          "name": "stdout",
          "output_type": "stream",
          "text": [
            "아사라베이커리카페: searchIframe 로드 및 프레임 전환 완료\n",
            "아사라베이커리카페: entryIframe이 이미 로드됨. 클릭 없이 바로 진행\n",
            "entryIframe 로드.\n",
            "Error while extracting menu/features for 아사라베이커리카페, div 1:\n",
            "Error while extracting menu/features for 아사라베이커리카페, div 2:\n"
          ]
        },
        {
          "name": "stderr",
          "output_type": "stream",
          "text": [
            " 55%|█████▍    | 546/999 [3:28:44<2:48:55, 22.37s/it]"
          ]
        },
        {
          "name": "stdout",
          "output_type": "stream",
          "text": [
            "아살람: searchIframe 로드 및 프레임 전환 완료\n",
            "아살람: entryIframe이 이미 로드됨. 클릭 없이 바로 진행\n",
            "entryIframe 로드.\n",
            "Error while extracting menu/features for 아살람, div 1:\n",
            "Error while extracting menu/features for 아살람, div 2:\n"
          ]
        },
        {
          "name": "stderr",
          "output_type": "stream",
          "text": [
            " 55%|█████▍    | 547/999 [3:29:03<2:41:32, 21.44s/it]"
          ]
        },
        {
          "name": "stdout",
          "output_type": "stream",
          "text": [
            "아살람 레스토랑: searchIframe 로드 및 프레임 전환 완료\n",
            "아살람 레스토랑: entryIframe이 이미 로드됨. 클릭 없이 바로 진행\n",
            "entryIframe 로드.\n",
            "Error while extracting menu/features for 아살람 레스토랑, div 1:\n",
            "Error while extracting menu/features for 아살람 레스토랑, div 2:\n"
          ]
        },
        {
          "name": "stderr",
          "output_type": "stream",
          "text": [
            " 55%|█████▍    | 548/999 [3:29:22<2:36:49, 20.86s/it]"
          ]
        },
        {
          "name": "stdout",
          "output_type": "stream",
          "text": [
            "아서원: searchIframe 로드 및 프레임 전환 완료\n",
            "아서원: 링크버튼을 찾을 수 없음. xpath 대신 다른 방법 시도\n"
          ]
        },
        {
          "name": "stderr",
          "output_type": "stream",
          "text": [
            " 55%|█████▍    | 549/999 [3:29:41<2:30:38, 20.09s/it]"
          ]
        },
        {
          "name": "stdout",
          "output_type": "stream",
          "text": [
            "Failed to load iframe after multiple attempts for 아서원.\n",
            "crawling fatil : 아서원 to fail_to_crawling\n",
            "아솥(Asot): searchIframe 로드 및 프레임 전환 완료\n",
            "아솥(Asot): entryIframe이 이미 로드됨. 클릭 없이 바로 진행\n",
            "entryIframe 로드.\n",
            "Error while extracting menu/features for 아솥(Asot), div 1:\n",
            "Error while extracting menu/features for 아솥(Asot), div 2:\n"
          ]
        },
        {
          "name": "stderr",
          "output_type": "stream",
          "text": [
            " 55%|█████▌    | 550/999 [3:30:02<2:34:01, 20.58s/it]"
          ]
        },
        {
          "name": "stdout",
          "output_type": "stream",
          "text": [
            "아스쿰: searchIframe 로드 및 프레임 전환 완료\n",
            "아스쿰: entryIframe이 이미 로드됨. 클릭 없이 바로 진행\n",
            "entryIframe 로드.\n",
            "Error while extracting menu/features for 아스쿰, div 1:\n",
            "Error while extracting menu/features for 아스쿰, div 2:\n"
          ]
        },
        {
          "name": "stderr",
          "output_type": "stream",
          "text": [
            " 55%|█████▌    | 551/999 [3:30:24<2:35:21, 20.81s/it]"
          ]
        },
        {
          "name": "stdout",
          "output_type": "stream",
          "text": [
            "아시바람: searchIframe 로드 및 프레임 전환 완료\n",
            "아시바람: entryIframe이 이미 로드됨. 클릭 없이 바로 진행\n",
            "entryIframe 로드.\n",
            "Error while extracting menu/features for 아시바람, div 1:\n",
            "Error while extracting menu/features for 아시바람, div 2:\n"
          ]
        },
        {
          "name": "stderr",
          "output_type": "stream",
          "text": [
            " 55%|█████▌    | 552/999 [3:30:45<2:36:41, 21.03s/it]"
          ]
        },
        {
          "name": "stdout",
          "output_type": "stream",
          "text": [
            "아싸살아있네: searchIframe 로드 및 프레임 전환 완료\n",
            "아싸살아있네: entryIframe이 이미 로드됨. 클릭 없이 바로 진행\n",
            "entryIframe 로드.\n",
            "Error while extracting menu/features for 아싸살아있네, div 1:\n",
            "Error while extracting menu/features for 아싸살아있네, div 2:\n"
          ]
        },
        {
          "name": "stderr",
          "output_type": "stream",
          "text": [
            " 55%|█████▌    | 553/999 [3:31:07<2:38:00, 21.26s/it]"
          ]
        },
        {
          "name": "stdout",
          "output_type": "stream",
          "text": [
            "아싸회: searchIframe 로드 및 프레임 전환 완료\n",
            "아싸회: 첫 번째 가게 클릭 후 전환되지 않음. 다음 가게로 진행\n",
            "entryIframe 로드.\n",
            "Error while extracting menu/features for 아싸회, div 1:\n",
            "Error while extracting menu/features for 아싸회, div 2:\n"
          ]
        },
        {
          "name": "stderr",
          "output_type": "stream",
          "text": [
            " 55%|█████▌    | 554/999 [3:31:35<2:53:28, 23.39s/it]"
          ]
        },
        {
          "name": "stdout",
          "output_type": "stream",
          "text": [
            "아싸횟집: searchIframe 로드 및 프레임 전환 완료\n",
            "아싸횟집: 첫 번째 가게 클릭 후 전환되지 않음. 다음 가게로 진행\n",
            "entryIframe 로드.\n",
            "Error while extracting menu/features for 아싸횟집, div 1:\n",
            "Error while extracting menu/features for 아싸횟집, div 2:\n"
          ]
        },
        {
          "name": "stderr",
          "output_type": "stream",
          "text": [
            " 56%|█████▌    | 555/999 [3:32:04<3:04:02, 24.87s/it]"
          ]
        },
        {
          "name": "stdout",
          "output_type": "stream",
          "text": [
            "아연581: searchIframe 로드 및 프레임 전환 완료\n",
            "아연581: 첫 번째 가게 클릭 후 전환되지 않음. 다음 가게로 진행\n",
            "entryIframe 로드.\n",
            "Error while extracting menu/features for 아연581, div 1:\n",
            "Error while extracting menu/features for 아연581, div 2:\n"
          ]
        },
        {
          "name": "stderr",
          "output_type": "stream",
          "text": [
            " 56%|█████▌    | 556/999 [3:32:32<3:12:00, 26.00s/it]"
          ]
        },
        {
          "name": "stdout",
          "output_type": "stream",
          "text": [
            "아우라: searchIframe 로드 및 프레임 전환 완료\n",
            "아우라: 첫 번째 가게 클릭 후 전환되지 않음. 다음 가게로 진행\n",
            "entryIframe 로드.\n"
          ]
        },
        {
          "name": "stderr",
          "output_type": "stream",
          "text": [
            " 56%|█████▌    | 557/999 [3:32:56<3:07:20, 25.43s/it]"
          ]
        },
        {
          "name": "stdout",
          "output_type": "stream",
          "text": [
            "Error while extracting menu/features for 아우라, div 1:\n",
            "Error while navigating to reviews for 아우라:\n",
            " 사진 버튼 없음 : 아우라.\n",
            "아우스: searchIframe 로드 및 프레임 전환 완료\n",
            "아우스: 첫 번째 가게 클릭 후 전환되지 않음. 다음 가게로 진행\n",
            "entryIframe 로드.\n",
            "Error while extracting datalab information for 아우스:\n",
            "Error while navigating to reviews for 아우스:\n"
          ]
        },
        {
          "name": "stderr",
          "output_type": "stream",
          "text": [
            " 56%|█████▌    | 558/999 [3:33:18<2:58:16, 24.26s/it]"
          ]
        },
        {
          "name": "stdout",
          "output_type": "stream",
          "text": [
            "이미지 추출 오류 2 for 아우스 \n",
            "이미지 추출 오류 3 for 아우스 \n",
            "이미지 추출 오류 4 for 아우스 \n",
            "이미지 추출 오류 5 for 아우스 \n",
            "이미지 추출 오류 6 for 아우스 \n",
            "이미지 추출 오류 7 for 아우스 \n",
            "이미지 추출 오류 8 for 아우스 \n",
            "이미지 추출 오류 9 for 아우스 \n",
            "이미지 추출 오류 10 for 아우스 \n",
            "아우아우: searchIframe 로드 및 프레임 전환 완료\n",
            "아우아우: 링크버튼을 찾을 수 없음. xpath 대신 다른 방법 시도\n"
          ]
        },
        {
          "name": "stderr",
          "output_type": "stream",
          "text": [
            " 56%|█████▌    | 559/999 [3:33:36<2:44:18, 22.41s/it]"
          ]
        },
        {
          "name": "stdout",
          "output_type": "stream",
          "text": [
            "Failed to load iframe after multiple attempts for 아우아우.\n",
            "crawling fatil : 아우아우 to fail_to_crawling\n",
            "아웃도어키친: searchIframe 로드 및 프레임 전환 완료\n",
            "아웃도어키친: 링크버튼을 찾을 수 없음. xpath 대신 다른 방법 시도\n"
          ]
        },
        {
          "name": "stderr",
          "output_type": "stream",
          "text": [
            " 56%|█████▌    | 560/999 [3:33:54<2:34:15, 21.08s/it]"
          ]
        },
        {
          "name": "stdout",
          "output_type": "stream",
          "text": [
            "Failed to load iframe after multiple attempts for 아웃도어키친.\n",
            "crawling fatil : 아웃도어키친 to fail_to_crawling\n",
            "아이: searchIframe 로드 및 프레임 전환 완료\n",
            "아이: 첫 번째 가게 클릭 후 전환되지 않음. 다음 가게로 진행\n",
            "entryIframe 로드.\n",
            "Error while extracting datalab information for 아이:\n",
            "Error while navigating to reviews for 아이:\n"
          ]
        },
        {
          "name": "stderr",
          "output_type": "stream",
          "text": [
            " 56%|█████▌    | 561/999 [3:34:22<2:49:24, 23.21s/it]"
          ]
        },
        {
          "name": "stdout",
          "output_type": "stream",
          "text": [
            "아이갓에브리씽: searchIframe 로드 및 프레임 전환 완료\n",
            "아이갓에브리씽: 링크버튼을 찾을 수 없음. xpath 대신 다른 방법 시도\n"
          ]
        },
        {
          "name": "stderr",
          "output_type": "stream",
          "text": [
            " 56%|█████▋    | 562/999 [3:34:40<2:36:54, 21.54s/it]"
          ]
        },
        {
          "name": "stdout",
          "output_type": "stream",
          "text": [
            "Failed to load iframe after multiple attempts for 아이갓에브리씽.\n",
            "crawling fatil : 아이갓에브리씽 to fail_to_crawling\n",
            "아이스크림상회(베라체점): searchIframe 로드 및 프레임 전환 완료\n",
            "Error while clicking first search result for 아이스크림상회(베라체점): Unable to locate list container.\n"
          ]
        },
        {
          "name": "stderr",
          "output_type": "stream",
          "text": [
            " 56%|█████▋    | 563/999 [3:35:00<2:34:20, 21.24s/it]"
          ]
        },
        {
          "name": "stdout",
          "output_type": "stream",
          "text": [
            "Failed to load iframe after multiple attempts for 아이스크림상회(베라체점).\n",
            "crawling fatil : 아이스크림상회(베라체점) to fail_to_crawling\n",
            "아이스크림연구소 동광점: searchIframe 로드 및 프레임 전환 완료\n",
            "아이스크림연구소 동광점: entryIframe이 이미 로드됨. 클릭 없이 바로 진행\n",
            "entryIframe 로드.\n",
            "Error while extracting datalab information for 아이스크림연구소 동광점:\n",
            "Error while navigating to reviews for 아이스크림연구소 동광점:\n"
          ]
        },
        {
          "name": "stderr",
          "output_type": "stream",
          "text": [
            " 56%|█████▋    | 564/999 [3:35:21<2:33:40, 21.20s/it]"
          ]
        },
        {
          "name": "stdout",
          "output_type": "stream",
          "text": [
            "아이스크림연구소(우도점): searchIframe 로드 및 프레임 전환 완료\n",
            "Error while clicking first search result for 아이스크림연구소(우도점): Unable to locate list container.\n"
          ]
        },
        {
          "name": "stderr",
          "output_type": "stream",
          "text": [
            " 57%|█████▋    | 565/999 [3:35:42<2:32:44, 21.12s/it]"
          ]
        },
        {
          "name": "stdout",
          "output_type": "stream",
          "text": [
            "Failed to load iframe after multiple attempts for 아이스크림연구소(우도점).\n",
            "crawling fatil : 아이스크림연구소(우도점) to fail_to_crawling\n",
            "아이스크림할인점: searchIframe 로드 및 프레임 전환 완료\n",
            "아이스크림할인점: 첫 번째 가게 클릭 후 전환되지 않음. 다음 가게로 진행\n",
            "entryIframe 로드.\n",
            "Error while extracting datalab information for 아이스크림할인점:\n",
            "Error while navigating to reviews for 아이스크림할인점:\n"
          ]
        },
        {
          "name": "stderr",
          "output_type": "stream",
          "text": [
            " 57%|█████▋    | 566/999 [3:36:08<2:42:26, 22.51s/it]"
          ]
        },
        {
          "name": "stdout",
          "output_type": "stream",
          "text": [
            "아이스크림할인점(동홍점): searchIframe 로드 및 프레임 전환 완료\n",
            "아이스크림할인점(동홍점): entryIframe이 이미 로드됨. 클릭 없이 바로 진행\n",
            "entryIframe 로드.\n",
            "Error while extracting datalab information for 아이스크림할인점(동홍점):\n",
            "Error while navigating to reviews for 아이스크림할인점(동홍점):\n"
          ]
        },
        {
          "name": "stderr",
          "output_type": "stream",
          "text": [
            " 57%|█████▋    | 567/999 [3:36:27<2:34:36, 21.47s/it]"
          ]
        },
        {
          "name": "stdout",
          "output_type": "stream",
          "text": [
            "이미지 추출 오류 1 for 아이스크림할인점(동홍점) \n",
            "이미지 추출 오류 2 for 아이스크림할인점(동홍점) \n",
            "이미지 추출 오류 3 for 아이스크림할인점(동홍점) \n",
            "이미지 추출 오류 4 for 아이스크림할인점(동홍점) \n",
            "이미지 추출 오류 5 for 아이스크림할인점(동홍점) \n",
            "이미지 추출 오류 6 for 아이스크림할인점(동홍점) \n",
            "이미지 추출 오류 7 for 아이스크림할인점(동홍점) \n",
            "이미지 추출 오류 8 for 아이스크림할인점(동홍점) \n",
            "이미지 추출 오류 9 for 아이스크림할인점(동홍점) \n",
            "이미지 추출 오류 10 for 아이스크림할인점(동홍점) \n",
            "아이올레인포레스트: searchIframe 로드 및 프레임 전환 완료\n",
            "아이올레인포레스트: 첫 번째 가게 클릭 후 전환되지 않음. 다음 가게로 진행\n",
            "entryIframe 로드.\n",
            "Error while extracting menu/features for 아이올레인포레스트, div 1:\n",
            "Error while navigating to reviews for 아이올레인포레스트:\n"
          ]
        },
        {
          "name": "stderr",
          "output_type": "stream",
          "text": [
            " 57%|█████▋    | 568/999 [3:36:56<2:50:06, 23.68s/it]"
          ]
        },
        {
          "name": "stdout",
          "output_type": "stream",
          "text": [
            "아일랜드보울: searchIframe 로드 및 프레임 전환 완료\n",
            "아일랜드보울: entryIframe이 이미 로드됨. 클릭 없이 바로 진행\n",
            "entryIframe 로드.\n",
            "Error while extracting menu/features for 아일랜드보울, div 1:\n",
            "Error while extracting menu/features for 아일랜드보울, div 2:\n"
          ]
        },
        {
          "name": "stderr",
          "output_type": "stream",
          "text": [
            " 57%|█████▋    | 569/999 [3:37:18<2:44:57, 23.02s/it]"
          ]
        },
        {
          "name": "stdout",
          "output_type": "stream",
          "text": [
            "아일랜드스톤: searchIframe 로드 및 프레임 전환 완료\n",
            "아일랜드스톤: 첫 번째 가게 클릭 후 전환되지 않음. 다음 가게로 진행\n",
            "entryIframe 로드.\n",
            "Error while extracting datalab information for 아일랜드스톤:\n",
            "Error while navigating to reviews for 아일랜드스톤:\n"
          ]
        },
        {
          "name": "stderr",
          "output_type": "stream",
          "text": [
            " 57%|█████▋    | 570/999 [3:37:42<2:47:11, 23.38s/it]"
          ]
        },
        {
          "name": "stdout",
          "output_type": "stream",
          "text": [
            "아일랜드오아시스: searchIframe 로드 및 프레임 전환 완료\n",
            "아일랜드오아시스: entryIframe이 이미 로드됨. 클릭 없이 바로 진행\n",
            "entryIframe 로드.\n",
            "Error while extracting menu/features for 아일랜드오아시스, div 1:\n"
          ]
        },
        {
          "name": "stderr",
          "output_type": "stream",
          "text": [
            " 57%|█████▋    | 571/999 [3:38:04<2:43:31, 22.92s/it]"
          ]
        },
        {
          "name": "stdout",
          "output_type": "stream",
          "text": [
            "Error while extracting menu/features for 아일랜드오아시스, div 2:\n",
            " 사진 버튼 없음 : 아일랜드오아시스.\n",
            "아일랜드조르바: searchIframe 로드 및 프레임 전환 완료\n",
            "아일랜드조르바: entryIframe이 이미 로드됨. 클릭 없이 바로 진행\n",
            "entryIframe 로드.\n",
            "Error while extracting menu/features for 아일랜드조르바, div 1:\n",
            "Error while extracting menu/features for 아일랜드조르바, div 2:\n"
          ]
        },
        {
          "name": "stderr",
          "output_type": "stream",
          "text": [
            " 57%|█████▋    | 572/999 [3:38:25<2:39:09, 22.36s/it]"
          ]
        },
        {
          "name": "stdout",
          "output_type": "stream",
          "text": [
            "아일랜드팩토리: searchIframe 로드 및 프레임 전환 완료\n",
            "아일랜드팩토리: 첫 번째 가게 클릭 후 전환되지 않음. 다음 가게로 진행\n",
            "entryIframe 로드.\n",
            "Error while extracting menu/features for 아일랜드팩토리, div 1:\n",
            "Error while extracting menu/features for 아일랜드팩토리, div 2:\n"
          ]
        },
        {
          "name": "stderr",
          "output_type": "stream",
          "text": [
            " 57%|█████▋    | 573/999 [3:38:53<2:51:12, 24.11s/it]"
          ]
        },
        {
          "name": "stdout",
          "output_type": "stream",
          "text": [
            "아일랜드팩토리 풍류: searchIframe 로드 및 프레임 전환 완료\n",
            "아일랜드팩토리 풍류: entryIframe이 이미 로드됨. 클릭 없이 바로 진행\n",
            "entryIframe 로드.\n",
            "Error while extracting menu/features for 아일랜드팩토리 풍류, div 1:\n",
            "Error while extracting menu/features for 아일랜드팩토리 풍류, div 2:\n"
          ]
        },
        {
          "name": "stderr",
          "output_type": "stream",
          "text": [
            " 57%|█████▋    | 574/999 [3:39:14<2:44:56, 23.29s/it]"
          ]
        },
        {
          "name": "stdout",
          "output_type": "stream",
          "text": [
            "아임파인: searchIframe 로드 및 프레임 전환 완료\n",
            "아임파인: 첫 번째 가게 클릭 후 전환되지 않음. 다음 가게로 진행\n",
            "entryIframe 로드.\n",
            "Error while extracting menu/features for 아임파인, div 1:\n",
            "Error while extracting menu/features for 아임파인, div 2:\n"
          ]
        },
        {
          "name": "stderr",
          "output_type": "stream",
          "text": [
            " 58%|█████▊    | 575/999 [3:39:43<2:56:30, 24.98s/it]"
          ]
        },
        {
          "name": "stdout",
          "output_type": "stream",
          "text": [
            "아주반점: searchIframe 로드 및 프레임 전환 완료\n",
            "아주반점: entryIframe이 이미 로드됨. 클릭 없이 바로 진행\n",
            "entryIframe 로드.\n",
            "Error while extracting menu/features for 아주반점, div 1:\n",
            "Error while extracting menu/features for 아주반점, div 2:\n"
          ]
        },
        {
          "name": "stderr",
          "output_type": "stream",
          "text": [
            " 58%|█████▊    | 576/999 [3:40:04<2:48:12, 23.86s/it]"
          ]
        },
        {
          "name": "stdout",
          "output_type": "stream",
          "text": [
            "아주좋아: searchIframe 로드 및 프레임 전환 완료\n",
            "아주좋아: 첫 번째 가게 클릭 후 전환되지 않음. 다음 가게로 진행\n",
            "entryIframe 로드.\n",
            "Error while extracting datalab information for 아주좋아:\n",
            "Error while navigating to reviews for 아주좋아:\n"
          ]
        },
        {
          "name": "stderr",
          "output_type": "stream",
          "text": [
            " 58%|█████▊    | 577/999 [3:40:32<2:56:26, 25.09s/it]"
          ]
        },
        {
          "name": "stdout",
          "output_type": "stream",
          "text": [
            "아줄레주: searchIframe 로드 및 프레임 전환 완료\n",
            "아줄레주: 첫 번째 가게 클릭 후 전환되지 않음. 다음 가게로 진행\n",
            "entryIframe 로드.\n",
            "Error while extracting menu/features for 아줄레주, div 1:\n",
            "Error while extracting menu/features for 아줄레주, div 2:\n"
          ]
        },
        {
          "name": "stderr",
          "output_type": "stream",
          "text": [
            " 58%|█████▊    | 579/999 [3:41:04<2:15:26, 19.35s/it]"
          ]
        },
        {
          "name": "stdout",
          "output_type": "stream",
          "text": [
            "iframe을 찾을 수 없음 for 아지\n",
            "아지바라대학동점: searchIframe 로드 및 프레임 전환 완료\n",
            "아지바라대학동점: entryIframe이 이미 로드됨. 클릭 없이 바로 진행\n",
            "entryIframe 로드.\n",
            "Error while navigating to reviews for 아지바라대학동점:\n"
          ]
        },
        {
          "name": "stderr",
          "output_type": "stream",
          "text": [
            " 58%|█████▊    | 580/999 [3:41:25<2:17:54, 19.75s/it]"
          ]
        },
        {
          "name": "stdout",
          "output_type": "stream",
          "text": [
            "이미지 추출 오류 2 for 아지바라대학동점 \n",
            "이미지 추출 오류 3 for 아지바라대학동점 \n",
            "이미지 추출 오류 4 for 아지바라대학동점 \n",
            "이미지 추출 오류 5 for 아지바라대학동점 \n",
            "이미지 추출 오류 6 for 아지바라대학동점 \n",
            "이미지 추출 오류 7 for 아지바라대학동점 \n",
            "이미지 추출 오류 8 for 아지바라대학동점 \n",
            "이미지 추출 오류 9 for 아지바라대학동점 \n",
            "이미지 추출 오류 10 for 아지바라대학동점 \n",
            "아찌국밥: searchIframe 로드 및 프레임 전환 완료\n",
            "아찌국밥: entryIframe이 이미 로드됨. 클릭 없이 바로 진행\n",
            "entryIframe 로드.\n",
            "Error while extracting menu/features for 아찌국밥, div 1:\n",
            "Error while extracting menu/features for 아찌국밥, div 2:\n"
          ]
        },
        {
          "name": "stderr",
          "output_type": "stream",
          "text": [
            " 58%|█████▊    | 581/999 [3:41:44<2:16:52, 19.65s/it]"
          ]
        },
        {
          "name": "stdout",
          "output_type": "stream",
          "text": [
            "아침바다: searchIframe 로드 및 프레임 전환 완료\n",
            "아침바다: 첫 번째 가게 클릭 후 전환되지 않음. 다음 가게로 진행\n",
            "entryIframe 로드.\n",
            "Error while extracting menu/features for 아침바다, div 1:\n",
            "Error while extracting menu/features for 아침바다, div 2:\n"
          ]
        },
        {
          "name": "stderr",
          "output_type": "stream",
          "text": [
            " 58%|█████▊    | 582/999 [3:42:12<2:33:38, 22.11s/it]"
          ]
        },
        {
          "name": "stdout",
          "output_type": "stream",
          "text": [
            "아카이브: searchIframe 로드 및 프레임 전환 완료\n",
            "아카이브: 첫 번째 가게 클릭 후 전환되지 않음. 다음 가게로 진행\n",
            "entryIframe 로드.\n",
            "Error while extracting menu/features for 아카이브, div 1:\n",
            "Error while extracting menu/features for 아카이브, div 2:\n"
          ]
        },
        {
          "name": "stderr",
          "output_type": "stream",
          "text": [
            " 58%|█████▊    | 583/999 [3:42:40<2:46:00, 23.94s/it]"
          ]
        },
        {
          "name": "stdout",
          "output_type": "stream",
          "text": [
            "아쿠아플라넷 제주: searchIframe 로드 및 프레임 전환 완료\n",
            "아쿠아플라넷 제주: 첫 번째 가게 클릭 후 전환되지 않음. 다음 가게로 진행\n",
            "entryIframe 로드.\n",
            "Error while extracting menu/features for 아쿠아플라넷 제주, div 1:\n",
            "Error while navigating to reviews for 아쿠아플라넷 제주:\n"
          ]
        },
        {
          "name": "stderr",
          "output_type": "stream",
          "text": [
            " 58%|█████▊    | 584/999 [3:43:08<2:53:22, 25.07s/it]"
          ]
        },
        {
          "name": "stdout",
          "output_type": "stream",
          "text": [
            "아크로디니온: searchIframe 로드 및 프레임 전환 완료\n",
            "Error while clicking first search result for 아크로디니온: Unable to locate list container.\n"
          ]
        },
        {
          "name": "stderr",
          "output_type": "stream",
          "text": [
            " 59%|█████▊    | 585/999 [3:43:29<2:43:59, 23.77s/it]"
          ]
        },
        {
          "name": "stdout",
          "output_type": "stream",
          "text": [
            "Failed to load iframe after multiple attempts for 아크로디니온.\n",
            "crawling fatil : 아크로디니온 to fail_to_crawling\n",
            "아키토리6126: searchIframe 로드 및 프레임 전환 완료\n",
            "Error while clicking first search result for 아키토리6126: Unable to locate list container.\n"
          ]
        },
        {
          "name": "stderr",
          "output_type": "stream",
          "text": [
            " 59%|█████▊    | 586/999 [3:43:50<2:37:10, 22.83s/it]"
          ]
        },
        {
          "name": "stdout",
          "output_type": "stream",
          "text": [
            "Failed to load iframe after multiple attempts for 아키토리6126.\n",
            "crawling fatil : 아키토리6126 to fail_to_crawling\n",
            "아톰스낵: searchIframe 로드 및 프레임 전환 완료\n",
            "Error while clicking first search result for 아톰스낵: Unable to locate list container.\n"
          ]
        },
        {
          "name": "stderr",
          "output_type": "stream",
          "text": [
            " 59%|█████▉    | 587/999 [3:44:11<2:32:54, 22.27s/it]"
          ]
        },
        {
          "name": "stdout",
          "output_type": "stream",
          "text": [
            "Failed to load iframe after multiple attempts for 아톰스낵.\n",
            "crawling fatil : 아톰스낵 to fail_to_crawling\n",
            "아트인명도암: searchIframe 로드 및 프레임 전환 완료\n",
            "아트인명도암: entryIframe이 이미 로드됨. 클릭 없이 바로 진행\n",
            "entryIframe 로드.\n",
            "Error while extracting menu/features for 아트인명도암, div 1:\n",
            "Error while extracting menu/features for 아트인명도암, div 2:\n"
          ]
        },
        {
          "name": "stderr",
          "output_type": "stream",
          "text": [
            " 59%|█████▉    | 588/999 [3:44:32<2:30:57, 22.04s/it]"
          ]
        },
        {
          "name": "stdout",
          "output_type": "stream",
          "text": [
            "아트진: searchIframe 로드 및 프레임 전환 완료\n",
            "아트진: 첫 번째 가게 클릭 후 전환되지 않음. 다음 가게로 진행\n",
            "entryIframe 로드.\n"
          ]
        },
        {
          "name": "stderr",
          "output_type": "stream",
          "text": [
            " 59%|█████▉    | 589/999 [3:44:52<2:25:56, 21.36s/it]"
          ]
        },
        {
          "name": "stdout",
          "output_type": "stream",
          "text": [
            "Error while navigating to reviews for 아트진:\n",
            " 사진 버튼 없음 : 아트진.\n",
            "아파치라이브호프: searchIframe 로드 및 프레임 전환 완료\n",
            "Error while clicking first search result for 아파치라이브호프: Unable to locate list container.\n"
          ]
        },
        {
          "name": "stderr",
          "output_type": "stream",
          "text": [
            " 59%|█████▉    | 590/999 [3:45:12<2:23:49, 21.10s/it]"
          ]
        },
        {
          "name": "stdout",
          "output_type": "stream",
          "text": [
            "Failed to load iframe after multiple attempts for 아파치라이브호프.\n",
            "crawling fatil : 아파치라이브호프 to fail_to_crawling\n",
            "아페즈: searchIframe 로드 및 프레임 전환 완료\n",
            "Error while clicking first search result for 아페즈: Unable to locate list container.\n"
          ]
        },
        {
          "name": "stderr",
          "output_type": "stream",
          "text": [
            " 59%|█████▉    | 591/999 [3:45:33<2:22:20, 20.93s/it]"
          ]
        },
        {
          "name": "stdout",
          "output_type": "stream",
          "text": [
            "Failed to load iframe after multiple attempts for 아페즈.\n",
            "crawling fatil : 아페즈 to fail_to_crawling\n",
            "아하: searchIframe 로드 및 프레임 전환 완료\n",
            "아하: 첫 번째 가게 클릭 후 전환되지 않음. 다음 가게로 진행\n",
            "entryIframe 로드.\n",
            "Error while extracting menu/features for 아하, div 1:\n",
            "Error while extracting menu/features for 아하, div 2:\n"
          ]
        },
        {
          "name": "stderr",
          "output_type": "stream",
          "text": [
            " 59%|█████▉    | 592/999 [3:46:01<2:37:21, 23.20s/it]"
          ]
        },
        {
          "name": "stdout",
          "output_type": "stream",
          "text": [
            "악근천계절음식점: searchIframe 로드 및 프레임 전환 완료\n",
            "Error while clicking first search result for 악근천계절음식점: Unable to locate list container.\n"
          ]
        },
        {
          "name": "stderr",
          "output_type": "stream",
          "text": [
            " 59%|█████▉    | 593/999 [3:46:23<2:32:54, 22.60s/it]"
          ]
        },
        {
          "name": "stdout",
          "output_type": "stream",
          "text": [
            "Failed to load iframe after multiple attempts for 악근천계절음식점.\n",
            "crawling fatil : 악근천계절음식점 to fail_to_crawling\n",
            "안거리밖거리: searchIframe 로드 및 프레임 전환 완료\n",
            "안거리밖거리: entryIframe이 이미 로드됨. 클릭 없이 바로 진행\n",
            "entryIframe 로드.\n",
            "Error while extracting menu/features for 안거리밖거리, div 1:\n",
            "Error while extracting menu/features for 안거리밖거리, div 2:\n"
          ]
        },
        {
          "name": "stderr",
          "output_type": "stream",
          "text": [
            " 59%|█████▉    | 594/999 [3:46:44<2:29:54, 22.21s/it]"
          ]
        },
        {
          "name": "stdout",
          "output_type": "stream",
          "text": [
            "안경쓴고등어: searchIframe 로드 및 프레임 전환 완료\n",
            "안경쓴고등어: entryIframe이 이미 로드됨. 클릭 없이 바로 진행\n",
            "entryIframe 로드.\n",
            "Error while extracting menu/features for 안경쓴고등어, div 1:\n",
            "Error while extracting menu/features for 안경쓴고등어, div 2:\n"
          ]
        },
        {
          "name": "stderr",
          "output_type": "stream",
          "text": [
            " 60%|█████▉    | 595/999 [3:47:05<2:27:20, 21.88s/it]"
          ]
        },
        {
          "name": "stdout",
          "output_type": "stream",
          "text": [
            "안녀어랭이: searchIframe 로드 및 프레임 전환 완료\n",
            "안녀어랭이: entryIframe이 이미 로드됨. 클릭 없이 바로 진행\n",
            "entryIframe 로드.\n",
            "Error while extracting menu/features for 안녀어랭이, div 1:\n",
            "Error while extracting menu/features for 안녀어랭이, div 2:\n"
          ]
        },
        {
          "name": "stderr",
          "output_type": "stream",
          "text": [
            " 60%|█████▉    | 596/999 [3:47:26<2:26:01, 21.74s/it]"
          ]
        },
        {
          "name": "stdout",
          "output_type": "stream",
          "text": [
            "안녕구움: searchIframe 로드 및 프레임 전환 완료\n",
            "안녕구움: 첫 번째 가게 클릭 후 전환되지 않음. 다음 가게로 진행\n",
            "entryIframe 로드.\n",
            "Error while extracting menu/features for 안녕구움, div 1:\n",
            "Error while extracting menu/features for 안녕구움, div 2:\n"
          ]
        },
        {
          "name": "stderr",
          "output_type": "stream",
          "text": [
            " 60%|█████▉    | 597/999 [3:47:52<2:34:26, 23.05s/it]"
          ]
        },
        {
          "name": "stdout",
          "output_type": "stream",
          "text": [
            " 사진 버튼 없음 : 안녕구움.\n",
            "안녕육지사람: searchIframe 로드 및 프레임 전환 완료\n",
            "안녕육지사람: 첫 번째 가게 클릭 후 전환되지 않음. 다음 가게로 진행\n",
            "entryIframe 로드.\n",
            "Error while extracting menu/features for 안녕육지사람, div 1:\n",
            "Error while extracting menu/features for 안녕육지사람, div 2:\n"
          ]
        },
        {
          "name": "stderr",
          "output_type": "stream",
          "text": [
            " 60%|█████▉    | 598/999 [3:48:19<2:40:25, 24.00s/it]"
          ]
        },
        {
          "name": "stdout",
          "output_type": "stream",
          "text": [
            "안녕육지사람우도점: searchIframe 로드 및 프레임 전환 완료\n",
            "안녕육지사람우도점: entryIframe이 이미 로드됨. 클릭 없이 바로 진행\n",
            "entryIframe 로드.\n",
            "Error while extracting menu/features for 안녕육지사람우도점, div 1:\n",
            "Error while extracting menu/features for 안녕육지사람우도점, div 2:\n"
          ]
        },
        {
          "name": "stderr",
          "output_type": "stream",
          "text": [
            " 60%|█████▉    | 599/999 [3:48:44<2:42:32, 24.38s/it]"
          ]
        },
        {
          "name": "stdout",
          "output_type": "stream",
          "text": [
            "안녕제주: searchIframe 로드 및 프레임 전환 완료\n",
            "안녕제주: 첫 번째 가게 클릭 후 전환되지 않음. 다음 가게로 진행\n",
            "entryIframe 로드.\n",
            "Error while extracting menu/features for 안녕제주, div 1:\n"
          ]
        },
        {
          "name": "stderr",
          "output_type": "stream",
          "text": [
            " 60%|██████    | 600/999 [3:49:08<2:41:50, 24.34s/it]"
          ]
        },
        {
          "name": "stdout",
          "output_type": "stream",
          "text": [
            "Error while extracting menu/features for 안녕제주, div 2:\n",
            " 사진 버튼 없음 : 안녕제주.\n",
            "안녕협재씨: searchIframe 로드 및 프레임 전환 완료\n",
            "안녕협재씨: entryIframe이 이미 로드됨. 클릭 없이 바로 진행\n",
            "entryIframe 로드.\n",
            "Error while extracting menu/features for 안녕협재씨, div 1:\n",
            "Error while extracting menu/features for 안녕협재씨, div 2:\n"
          ]
        },
        {
          "name": "stderr",
          "output_type": "stream",
          "text": [
            " 60%|██████    | 601/999 [3:49:30<2:35:35, 23.46s/it]"
          ]
        },
        {
          "name": "stdout",
          "output_type": "stream",
          "text": [
            "안녕협재씨 제주협재점: searchIframe 로드 및 프레임 전환 완료\n",
            "안녕협재씨 제주협재점: entryIframe이 이미 로드됨. 클릭 없이 바로 진행\n",
            "entryIframe 로드.\n",
            "Error while extracting menu/features for 안녕협재씨 제주협재점, div 1:\n",
            "Error while extracting menu/features for 안녕협재씨 제주협재점, div 2:\n"
          ]
        },
        {
          "name": "stderr",
          "output_type": "stream",
          "text": [
            " 60%|██████    | 602/999 [3:49:49<2:27:22, 22.27s/it]"
          ]
        },
        {
          "name": "stdout",
          "output_type": "stream",
          "text": [
            "안다미로: searchIframe 로드 및 프레임 전환 완료\n",
            "안다미로: 첫 번째 가게 클릭 후 전환되지 않음. 다음 가게로 진행\n",
            "entryIframe 로드.\n",
            "Error while extracting menu/features for 안다미로, div 1:\n"
          ]
        },
        {
          "name": "stderr",
          "output_type": "stream",
          "text": [
            " 60%|██████    | 603/999 [3:50:13<2:30:47, 22.85s/it]"
          ]
        },
        {
          "name": "stdout",
          "output_type": "stream",
          "text": [
            "Error while extracting menu/features for 안다미로, div 2:\n",
            " 사진 버튼 없음 : 안다미로.\n",
            "안다미로늘봄: searchIframe 로드 및 프레임 전환 완료\n",
            "안다미로늘봄: entryIframe이 이미 로드됨. 클릭 없이 바로 진행\n",
            "entryIframe 로드.\n",
            "Error while extracting menu/features for 안다미로늘봄, div 1:\n",
            "Error while extracting menu/features for 안다미로늘봄, div 2:\n"
          ]
        },
        {
          "name": "stderr",
          "output_type": "stream",
          "text": [
            " 60%|██████    | 604/999 [3:50:35<2:27:51, 22.46s/it]"
          ]
        },
        {
          "name": "stdout",
          "output_type": "stream",
          "text": [
            "안덕식당: searchIframe 로드 및 프레임 전환 완료\n",
            "안덕식당: 링크버튼을 찾을 수 없음. xpath 대신 다른 방법 시도\n"
          ]
        },
        {
          "name": "stderr",
          "output_type": "stream",
          "text": [
            " 61%|██████    | 605/999 [3:50:54<2:21:29, 21.55s/it]"
          ]
        },
        {
          "name": "stdout",
          "output_type": "stream",
          "text": [
            "Failed to load iframe after multiple attempts for 안덕식당.\n",
            "crawling fatil : 안덕식당 to fail_to_crawling\n",
            "안도르: searchIframe 로드 및 프레임 전환 완료\n",
            "안도르: 첫 번째 가게 클릭 후 전환되지 않음. 다음 가게로 진행\n",
            "entryIframe 로드.\n",
            "Error while extracting menu/features for 안도르, div 1:\n",
            "Error while extracting menu/features for 안도르, div 2:\n"
          ]
        },
        {
          "name": "stderr",
          "output_type": "stream",
          "text": [
            " 61%|██████    | 606/999 [3:51:23<2:34:48, 23.64s/it]"
          ]
        },
        {
          "name": "stdout",
          "output_type": "stream",
          "text": [
            "안동본가국밥: searchIframe 로드 및 프레임 전환 완료\n",
            "안동본가국밥: 링크버튼을 찾을 수 없음. xpath 대신 다른 방법 시도\n"
          ]
        },
        {
          "name": "stderr",
          "output_type": "stream",
          "text": [
            " 61%|██████    | 607/999 [3:51:41<2:24:39, 22.14s/it]"
          ]
        },
        {
          "name": "stdout",
          "output_type": "stream",
          "text": [
            "Failed to load iframe after multiple attempts for 안동본가국밥.\n",
            "crawling fatil : 안동본가국밥 to fail_to_crawling\n",
            "안동정가네국밥: searchIframe 로드 및 프레임 전환 완료\n",
            "안동정가네국밥: entryIframe이 이미 로드됨. 클릭 없이 바로 진행\n",
            "entryIframe 로드.\n",
            "Error while extracting datalab information for 안동정가네국밥:\n",
            "Error while navigating to reviews for 안동정가네국밥:\n"
          ]
        },
        {
          "name": "stderr",
          "output_type": "stream",
          "text": [
            " 61%|██████    | 608/999 [3:51:56<2:09:33, 19.88s/it]"
          ]
        },
        {
          "name": "stdout",
          "output_type": "stream",
          "text": [
            "이미지 추출 오류 6 for 안동정가네국밥 \n",
            "이미지 추출 오류 7 for 안동정가네국밥 \n",
            "이미지 추출 오류 8 for 안동정가네국밥 \n",
            "이미지 추출 오류 9 for 안동정가네국밥 \n",
            "이미지 추출 오류 10 for 안동정가네국밥 \n",
            "안뜨레제주집: searchIframe 로드 및 프레임 전환 완료\n",
            "안뜨레제주집: 첫 번째 가게 클릭 후 전환되지 않음. 다음 가게로 진행\n",
            "entryIframe 로드.\n",
            "Error while extracting menu/features for 안뜨레제주집, div 1:\n",
            "Error while extracting menu/features for 안뜨레제주집, div 2:\n"
          ]
        },
        {
          "name": "stderr",
          "output_type": "stream",
          "text": [
            " 61%|██████    | 609/999 [3:52:22<2:21:08, 21.71s/it]"
          ]
        },
        {
          "name": "stdout",
          "output_type": "stream",
          "text": [
            "안뜨르: searchIframe 로드 및 프레임 전환 완료\n",
            "안뜨르: entryIframe이 이미 로드됨. 클릭 없이 바로 진행\n",
            "entryIframe 로드.\n",
            "Error while extracting menu/features for 안뜨르, div 1:\n",
            "Error while extracting menu/features for 안뜨르, div 2:\n"
          ]
        },
        {
          "name": "stderr",
          "output_type": "stream",
          "text": [
            " 61%|██████    | 610/999 [3:52:41<2:16:11, 21.01s/it]"
          ]
        },
        {
          "name": "stdout",
          "output_type": "stream",
          "text": [
            "안빵: searchIframe 로드 및 프레임 전환 완료\n",
            "안빵: 첫 번째 가게 클릭 후 전환되지 않음. 다음 가게로 진행\n",
            "entryIframe 로드.\n",
            "Error while extracting menu/features for 안빵, div 1:\n",
            "Error while extracting menu/features for 안빵, div 2:\n"
          ]
        },
        {
          "name": "stderr",
          "output_type": "stream",
          "text": [
            " 61%|██████    | 611/999 [3:53:09<2:29:03, 23.05s/it]"
          ]
        },
        {
          "name": "stdout",
          "output_type": "stream",
          "text": [
            "안성식당: searchIframe 로드 및 프레임 전환 완료\n",
            "안성식당: 링크버튼을 찾을 수 없음. xpath 대신 다른 방법 시도\n"
          ]
        },
        {
          "name": "stderr",
          "output_type": "stream",
          "text": [
            " 61%|██████▏   | 612/999 [3:53:30<2:23:52, 22.31s/it]"
          ]
        },
        {
          "name": "stdout",
          "output_type": "stream",
          "text": [
            "Failed to load iframe after multiple attempts for 안성식당.\n",
            "crawling fatil : 안성식당 to fail_to_crawling\n",
            "안세미가든: searchIframe 로드 및 프레임 전환 완료\n",
            "안세미가든: entryIframe이 이미 로드됨. 클릭 없이 바로 진행\n",
            "entryIframe 로드.\n",
            "Error while extracting menu/features for 안세미가든, div 1:\n",
            "Error while extracting menu/features for 안세미가든, div 2:\n"
          ]
        },
        {
          "name": "stderr",
          "output_type": "stream",
          "text": [
            " 61%|██████▏   | 613/999 [3:53:51<2:21:50, 22.05s/it]"
          ]
        },
        {
          "name": "stdout",
          "output_type": "stream",
          "text": [
            "안세미국수: searchIframe 로드 및 프레임 전환 완료\n",
            "Error while clicking first search result for 안세미국수: Unable to locate list container.\n"
          ]
        },
        {
          "name": "stderr",
          "output_type": "stream",
          "text": [
            " 61%|██████▏   | 614/999 [3:54:12<2:18:24, 21.57s/it]"
          ]
        },
        {
          "name": "stdout",
          "output_type": "stream",
          "text": [
            "Failed to load iframe after multiple attempts for 안세미국수.\n",
            "crawling fatil : 안세미국수 to fail_to_crawling\n",
            "안전: searchIframe 로드 및 프레임 전환 완료\n",
            "안전: 링크버튼을 찾을 수 없음. xpath 대신 다른 방법 시도\n"
          ]
        },
        {
          "name": "stderr",
          "output_type": "stream",
          "text": [
            " 62%|██████▏   | 615/999 [3:54:29<2:10:36, 20.41s/it]"
          ]
        },
        {
          "name": "stdout",
          "output_type": "stream",
          "text": [
            "Failed to load iframe after multiple attempts for 안전.\n",
            "crawling fatil : 안전 to fail_to_crawling\n",
            "안전식당: searchIframe 로드 및 프레임 전환 완료\n",
            "안전식당: 링크버튼을 찾을 수 없음. xpath 대신 다른 방법 시도\n"
          ]
        },
        {
          "name": "stderr",
          "output_type": "stream",
          "text": [
            " 62%|██████▏   | 616/999 [3:54:48<2:06:22, 19.80s/it]"
          ]
        },
        {
          "name": "stdout",
          "output_type": "stream",
          "text": [
            "Failed to load iframe after multiple attempts for 안전식당.\n",
            "crawling fatil : 안전식당 to fail_to_crawling\n",
            "안주: searchIframe 로드 및 프레임 전환 완료\n",
            "안주: 첫 번째 가게 클릭 후 전환되지 않음. 다음 가게로 진행\n",
            "entryIframe 로드.\n",
            "Error while extracting menu/features for 안주, div 1:\n",
            "Error while extracting menu/features for 안주, div 2:\n"
          ]
        },
        {
          "name": "stderr",
          "output_type": "stream",
          "text": [
            " 62%|██████▏   | 617/999 [3:55:17<2:23:23, 22.52s/it]"
          ]
        },
        {
          "name": "stdout",
          "output_type": "stream",
          "text": [
            "안트레: searchIframe 로드 및 프레임 전환 완료\n",
            "안트레: 첫 번째 가게 클릭 후 전환되지 않음. 다음 가게로 진행\n",
            "entryIframe 로드.\n",
            "Error while extracting datalab information for 안트레:\n",
            "Error while navigating to reviews for 안트레:\n"
          ]
        },
        {
          "name": "stderr",
          "output_type": "stream",
          "text": [
            " 62%|██████▏   | 618/999 [3:55:38<2:20:51, 22.18s/it]"
          ]
        },
        {
          "name": "stdout",
          "output_type": "stream",
          "text": [
            "이미지 추출 오류 2 for 안트레 \n",
            "이미지 추출 오류 3 for 안트레 \n",
            "이미지 추출 오류 4 for 안트레 \n",
            "이미지 추출 오류 5 for 안트레 \n",
            "이미지 추출 오류 6 for 안트레 \n",
            "이미지 추출 오류 7 for 안트레 \n",
            "이미지 추출 오류 8 for 안트레 \n",
            "이미지 추출 오류 9 for 안트레 \n",
            "이미지 추출 오류 10 for 안트레 \n",
            "안트레오젠: searchIframe 로드 및 프레임 전환 완료\n",
            "안트레오젠: entryIframe이 이미 로드됨. 클릭 없이 바로 진행\n",
            "entryIframe 로드.\n",
            "Error while extracting menu/features for 안트레오젠, div 1:\n",
            "Error while extracting menu/features for 안트레오젠, div 2:\n"
          ]
        },
        {
          "name": "stderr",
          "output_type": "stream",
          "text": [
            " 62%|██████▏   | 619/999 [3:55:59<2:18:37, 21.89s/it]"
          ]
        },
        {
          "name": "stdout",
          "output_type": "stream",
          "text": [
            "안트레정식: searchIframe 로드 및 프레임 전환 완료\n",
            "안트레정식: entryIframe이 이미 로드됨. 클릭 없이 바로 진행\n",
            "entryIframe 로드.\n",
            "Error while extracting menu/features for 안트레정식, div 1:\n",
            "Error while extracting menu/features for 안트레정식, div 2:\n"
          ]
        },
        {
          "name": "stderr",
          "output_type": "stream",
          "text": [
            " 62%|██████▏   | 620/999 [3:56:20<2:17:01, 21.69s/it]"
          ]
        },
        {
          "name": "stdout",
          "output_type": "stream",
          "text": [
            "알다방: searchIframe 로드 및 프레임 전환 완료\n",
            "알다방: 링크버튼을 찾을 수 없음. xpath 대신 다른 방법 시도\n"
          ]
        },
        {
          "name": "stderr",
          "output_type": "stream",
          "text": [
            " 62%|██████▏   | 621/999 [3:56:39<2:10:05, 20.65s/it]"
          ]
        },
        {
          "name": "stdout",
          "output_type": "stream",
          "text": [
            "Failed to load iframe after multiple attempts for 알다방.\n",
            "crawling fatil : 알다방 to fail_to_crawling\n",
            "알돈가 본점: searchIframe 로드 및 프레임 전환 완료\n",
            "알돈가 본점: entryIframe이 이미 로드됨. 클릭 없이 바로 진행\n",
            "entryIframe 로드.\n",
            "Error while extracting menu/features for 알돈가 본점, div 1:\n",
            "Error while extracting menu/features for 알돈가 본점, div 2:\n"
          ]
        },
        {
          "name": "stderr",
          "output_type": "stream",
          "text": [
            " 62%|██████▏   | 622/999 [3:57:04<2:19:15, 22.16s/it]"
          ]
        },
        {
          "name": "stdout",
          "output_type": "stream",
          "text": [
            "알동네집: searchIframe 로드 및 프레임 전환 완료\n",
            "알동네집: entryIframe이 이미 로드됨. 클릭 없이 바로 진행\n",
            "entryIframe 로드.\n",
            "Error while extracting menu/features for 알동네집, div 1:\n",
            "Error while extracting menu/features for 알동네집, div 2:\n"
          ]
        },
        {
          "name": "stderr",
          "output_type": "stream",
          "text": [
            " 62%|██████▏   | 623/999 [3:57:30<2:24:56, 23.13s/it]"
          ]
        },
        {
          "name": "stdout",
          "output_type": "stream",
          "text": [
            "알뜨르식당: searchIframe 로드 및 프레임 전환 완료\n",
            "알뜨르식당: entryIframe이 이미 로드됨. 클릭 없이 바로 진행\n",
            "entryIframe 로드.\n",
            "Error while extracting datalab information for 알뜨르식당:\n",
            "Error while navigating to reviews for 알뜨르식당:\n"
          ]
        },
        {
          "name": "stderr",
          "output_type": "stream",
          "text": [
            " 62%|██████▏   | 624/999 [3:57:51<2:20:19, 22.45s/it]"
          ]
        },
        {
          "name": "stdout",
          "output_type": "stream",
          "text": [
            "이미지 추출 오류 1 for 알뜨르식당 \n",
            "이미지 추출 오류 2 for 알뜨르식당 \n",
            "이미지 추출 오류 3 for 알뜨르식당 \n",
            "이미지 추출 오류 4 for 알뜨르식당 \n",
            "이미지 추출 오류 5 for 알뜨르식당 \n",
            "이미지 추출 오류 6 for 알뜨르식당 \n",
            "이미지 추출 오류 7 for 알뜨르식당 \n",
            "이미지 추출 오류 8 for 알뜨르식당 \n",
            "이미지 추출 오류 9 for 알뜨르식당 \n",
            "이미지 추출 오류 10 for 알뜨르식당 \n",
            "알라스카인제주: searchIframe 로드 및 프레임 전환 완료\n",
            "Error while clicking first search result for 알라스카인제주: Unable to locate list container.\n"
          ]
        },
        {
          "name": "stderr",
          "output_type": "stream",
          "text": [
            " 63%|██████▎   | 625/999 [3:58:12<2:17:19, 22.03s/it]"
          ]
        },
        {
          "name": "stdout",
          "output_type": "stream",
          "text": [
            "Failed to load iframe after multiple attempts for 알라스카인제주.\n",
            "crawling fatil : 알라스카인제주 to fail_to_crawling\n",
            "알라스카인제주 협재점: searchIframe 로드 및 프레임 전환 완료\n",
            "Error while clicking first search result for 알라스카인제주 협재점: Unable to locate list container.\n"
          ]
        },
        {
          "name": "stderr",
          "output_type": "stream",
          "text": [
            " 63%|██████▎   | 626/999 [3:58:33<2:14:47, 21.68s/it]"
          ]
        },
        {
          "name": "stdout",
          "output_type": "stream",
          "text": [
            "Failed to load iframe after multiple attempts for 알라스카인제주 협재점.\n",
            "crawling fatil : 알라스카인제주 협재점 to fail_to_crawling\n",
            "알리바바: searchIframe 로드 및 프레임 전환 완료\n",
            "알리바바: 첫 번째 가게 클릭 후 전환되지 않음. 다음 가게로 진행\n",
            "entryIframe 로드.\n",
            "Error while extracting menu/features for 알리바바, div 1:\n",
            "Error while navigating to reviews for 알리바바:\n"
          ]
        },
        {
          "name": "stderr",
          "output_type": "stream",
          "text": [
            " 63%|██████▎   | 627/999 [3:59:01<2:26:22, 23.61s/it]"
          ]
        },
        {
          "name": "stdout",
          "output_type": "stream",
          "text": [
            "알리올레: searchIframe 로드 및 프레임 전환 완료\n",
            "알리올레: entryIframe이 이미 로드됨. 클릭 없이 바로 진행\n",
            "entryIframe 로드.\n",
            "Error while extracting menu/features for 알리올레, div 1:\n",
            "Error while extracting menu/features for 알리올레, div 2:\n"
          ]
        },
        {
          "name": "stderr",
          "output_type": "stream",
          "text": [
            " 63%|██████▎   | 628/999 [3:59:20<2:17:43, 22.27s/it]"
          ]
        },
        {
          "name": "stdout",
          "output_type": "stream",
          "text": [
            "알마니: searchIframe 로드 및 프레임 전환 완료\n",
            "알마니: 링크버튼을 찾을 수 없음. xpath 대신 다른 방법 시도\n"
          ]
        },
        {
          "name": "stderr",
          "output_type": "stream",
          "text": [
            " 63%|██████▎   | 629/999 [3:59:38<2:08:59, 20.92s/it]"
          ]
        },
        {
          "name": "stdout",
          "output_type": "stream",
          "text": [
            "Failed to load iframe after multiple attempts for 알마니.\n",
            "crawling fatil : 알마니 to fail_to_crawling\n",
            "알바메: searchIframe 로드 및 프레임 전환 완료\n",
            "알바메: entryIframe이 이미 로드됨. 클릭 없이 바로 진행\n",
            "entryIframe 로드.\n",
            "Error while extracting menu/features for 알바메, div 1:\n",
            "Error while extracting menu/features for 알바메, div 2:\n"
          ]
        },
        {
          "name": "stderr",
          "output_type": "stream",
          "text": [
            " 63%|██████▎   | 630/999 [3:59:59<2:09:24, 21.04s/it]"
          ]
        },
        {
          "name": "stdout",
          "output_type": "stream",
          "text": [
            "알빠: searchIframe 로드 및 프레임 전환 완료\n",
            "알빠: 링크버튼을 찾을 수 없음. xpath 대신 다른 방법 시도\n"
          ]
        },
        {
          "name": "stderr",
          "output_type": "stream",
          "text": [
            " 63%|██████▎   | 631/999 [4:00:17<2:03:29, 20.14s/it]"
          ]
        },
        {
          "name": "stdout",
          "output_type": "stream",
          "text": [
            "Failed to load iframe after multiple attempts for 알빠.\n",
            "crawling fatil : 알빠 to fail_to_crawling\n",
            "알빵쓰레빵: searchIframe 로드 및 프레임 전환 완료\n",
            "알빵쓰레빵: entryIframe이 이미 로드됨. 클릭 없이 바로 진행\n",
            "entryIframe 로드.\n",
            "Error while extracting datalab information for 알빵쓰레빵:\n",
            "Error while extracting menu/features for 알빵쓰레빵, div 1:\n",
            "Error while navigating to reviews for 알빵쓰레빵:\n"
          ]
        },
        {
          "name": "stderr",
          "output_type": "stream",
          "text": [
            " 63%|██████▎   | 632/999 [4:00:36<2:00:38, 19.72s/it]"
          ]
        },
        {
          "name": "stdout",
          "output_type": "stream",
          "text": [
            "이미지 추출 오류 3 for 알빵쓰레빵 \n",
            "이미지 추출 오류 4 for 알빵쓰레빵 \n",
            "이미지 추출 오류 5 for 알빵쓰레빵 \n",
            "이미지 추출 오류 6 for 알빵쓰레빵 \n",
            "이미지 추출 오류 7 for 알빵쓰레빵 \n",
            "이미지 추출 오류 8 for 알빵쓰레빵 \n",
            "이미지 추출 오류 9 for 알빵쓰레빵 \n",
            "이미지 추출 오류 10 for 알빵쓰레빵 \n",
            "알에프(RF): searchIframe 로드 및 프레임 전환 완료\n",
            "알에프(RF): 링크버튼을 찾을 수 없음. xpath 대신 다른 방법 시도\n"
          ]
        },
        {
          "name": "stderr",
          "output_type": "stream",
          "text": [
            " 63%|██████▎   | 633/999 [4:00:54<1:57:20, 19.24s/it]"
          ]
        },
        {
          "name": "stdout",
          "output_type": "stream",
          "text": [
            "Failed to load iframe after multiple attempts for 알에프(RF).\n",
            "crawling fatil : 알에프(RF) to fail_to_crawling\n",
            "알엔알: searchIframe 로드 및 프레임 전환 완료\n",
            "알엔알: 첫 번째 가게 클릭 후 전환되지 않음. 다음 가게로 진행\n",
            "entryIframe 로드.\n",
            "Error while extracting datalab information for 알엔알:\n",
            "Error while navigating to reviews for 알엔알:\n"
          ]
        },
        {
          "name": "stderr",
          "output_type": "stream",
          "text": [
            " 63%|██████▎   | 634/999 [4:01:22<2:12:54, 21.85s/it]"
          ]
        },
        {
          "name": "stdout",
          "output_type": "stream",
          "text": [
            "이미지 추출 오류 7 for 알엔알 \n",
            "이미지 추출 오류 8 for 알엔알 \n",
            "이미지 추출 오류 9 for 알엔알 \n",
            "이미지 추출 오류 10 for 알엔알 \n",
            "알엠시드: searchIframe 로드 및 프레임 전환 완료\n",
            "알엠시드: 링크버튼을 찾을 수 없음. xpath 대신 다른 방법 시도\n"
          ]
        },
        {
          "name": "stderr",
          "output_type": "stream",
          "text": [
            " 64%|██████▎   | 635/999 [4:01:40<2:05:26, 20.68s/it]"
          ]
        },
        {
          "name": "stdout",
          "output_type": "stream",
          "text": [
            "Failed to load iframe after multiple attempts for 알엠시드.\n",
            "crawling fatil : 알엠시드 to fail_to_crawling\n",
            "알제이: searchIframe 로드 및 프레임 전환 완료\n",
            "알제이: 첫 번째 가게 클릭 후 전환되지 않음. 다음 가게로 진행\n",
            "entryIframe 로드.\n",
            "Error while extracting datalab information for 알제이:\n",
            "Error while navigating to reviews for 알제이:\n"
          ]
        },
        {
          "name": "stderr",
          "output_type": "stream",
          "text": [
            " 64%|██████▎   | 636/999 [4:02:01<2:06:23, 20.89s/it]"
          ]
        },
        {
          "name": "stdout",
          "output_type": "stream",
          "text": [
            "이미지 추출 오류 3 for 알제이 \n",
            "이미지 추출 오류 4 for 알제이 \n",
            "이미지 추출 오류 5 for 알제이 \n",
            "이미지 추출 오류 6 for 알제이 \n",
            "이미지 추출 오류 7 for 알제이 \n",
            "이미지 추출 오류 8 for 알제이 \n",
            "이미지 추출 오류 9 for 알제이 \n",
            "이미지 추출 오류 10 for 알제이 \n",
            "알콜달콜: searchIframe 로드 및 프레임 전환 완료\n",
            "알콜달콜: entryIframe이 이미 로드됨. 클릭 없이 바로 진행\n",
            "entryIframe 로드.\n",
            "Error while extracting menu/features for 알콜달콜, div 1:\n",
            "Error while extracting menu/features for 알콜달콜, div 2:\n"
          ]
        },
        {
          "name": "stderr",
          "output_type": "stream",
          "text": [
            " 64%|██████▍   | 637/999 [4:02:22<2:06:06, 20.90s/it]"
          ]
        },
        {
          "name": "stdout",
          "output_type": "stream",
          "text": [
            "알콩달콩: searchIframe 로드 및 프레임 전환 완료\n",
            "알콩달콩: 첫 번째 가게 클릭 후 전환되지 않음. 다음 가게로 진행\n",
            "entryIframe 로드.\n",
            "Error while extracting datalab information for 알콩달콩:\n",
            "Error while navigating to reviews for 알콩달콩:\n"
          ]
        },
        {
          "name": "stderr",
          "output_type": "stream",
          "text": [
            " 64%|██████▍   | 638/999 [4:02:50<2:18:44, 23.06s/it]"
          ]
        },
        {
          "name": "stdout",
          "output_type": "stream",
          "text": [
            "알토산고팡: searchIframe 로드 및 프레임 전환 완료\n",
            "알토산고팡: 첫 번째 가게 클릭 후 전환되지 않음. 다음 가게로 진행\n",
            "entryIframe 로드.\n",
            "Error while extracting menu/features for 알토산고팡, div 1:\n",
            "Error while extracting menu/features for 알토산고팡, div 2:\n"
          ]
        },
        {
          "name": "stderr",
          "output_type": "stream",
          "text": [
            " 64%|██████▍   | 639/999 [4:03:18<2:27:52, 24.65s/it]"
          ]
        },
        {
          "name": "stdout",
          "output_type": "stream",
          "text": [
            "알포인트커피: searchIframe 로드 및 프레임 전환 완료\n",
            "알포인트커피: entryIframe이 이미 로드됨. 클릭 없이 바로 진행\n",
            "entryIframe 로드.\n",
            "Error while extracting menu/features for 알포인트커피, div 1:\n",
            "Error while extracting menu/features for 알포인트커피, div 2:\n"
          ]
        },
        {
          "name": "stderr",
          "output_type": "stream",
          "text": [
            " 64%|██████▍   | 640/999 [4:03:39<2:20:47, 23.53s/it]"
          ]
        },
        {
          "name": "stdout",
          "output_type": "stream",
          "text": [
            "앙끄레: searchIframe 로드 및 프레임 전환 완료\n",
            "앙끄레: 첫 번째 가게 클릭 후 전환되지 않음. 다음 가게로 진행\n",
            "entryIframe 로드.\n",
            "Error while extracting datalab information for 앙끄레:\n",
            "Error while navigating to reviews for 앙끄레:\n"
          ]
        },
        {
          "name": "stderr",
          "output_type": "stream",
          "text": [
            " 64%|██████▍   | 641/999 [4:04:07<2:28:14, 24.84s/it]"
          ]
        },
        {
          "name": "stdout",
          "output_type": "stream",
          "text": [
            "이미지 추출 오류 2 for 앙끄레 \n",
            "이미지 추출 오류 3 for 앙끄레 \n",
            "이미지 추출 오류 4 for 앙끄레 \n",
            "이미지 추출 오류 5 for 앙끄레 \n",
            "이미지 추출 오류 6 for 앙끄레 \n",
            "이미지 추출 오류 7 for 앙끄레 \n",
            "이미지 추출 오류 8 for 앙끄레 \n",
            "이미지 추출 오류 9 for 앙끄레 \n",
            "이미지 추출 오류 10 for 앙끄레 \n",
            "앙끄레국수: searchIframe 로드 및 프레임 전환 완료\n",
            "앙끄레국수: entryIframe이 이미 로드됨. 클릭 없이 바로 진행\n",
            "entryIframe 로드.\n",
            "Error while extracting menu/features for 앙끄레국수, div 1:\n"
          ]
        },
        {
          "name": "stderr",
          "output_type": "stream",
          "text": [
            " 64%|██████▍   | 642/999 [4:04:26<2:17:10, 23.05s/it]"
          ]
        },
        {
          "name": "stdout",
          "output_type": "stream",
          "text": [
            "Error while extracting menu/features for 앙끄레국수, div 2:\n",
            " 사진 버튼 없음 : 앙끄레국수.\n",
            "앙데팡당: searchIframe 로드 및 프레임 전환 완료\n",
            "앙데팡당: 첫 번째 가게 클릭 후 전환되지 않음. 다음 가게로 진행\n",
            "entryIframe 로드.\n",
            "Error while extracting menu/features for 앙데팡당, div 1:\n",
            "Error while extracting menu/features for 앙데팡당, div 2:\n"
          ]
        },
        {
          "name": "stderr",
          "output_type": "stream",
          "text": [
            " 64%|██████▍   | 643/999 [4:04:52<2:22:23, 24.00s/it]"
          ]
        },
        {
          "name": "stdout",
          "output_type": "stream",
          "text": [
            "앙뚜아네트: searchIframe 로드 및 프레임 전환 완료\n",
            "앙뚜아네트: 첫 번째 가게 클릭 후 전환되지 않음. 다음 가게로 진행\n",
            "entryIframe 로드.\n",
            "Error while extracting menu/features for 앙뚜아네트, div 1:\n",
            "Error while extracting menu/features for 앙뚜아네트, div 2:\n"
          ]
        },
        {
          "name": "stderr",
          "output_type": "stream",
          "text": [
            " 64%|██████▍   | 644/999 [4:05:19<2:25:55, 24.66s/it]"
          ]
        },
        {
          "name": "stdout",
          "output_type": "stream",
          "text": [
            "앙뚜아네트 삼다수마을점: searchIframe 로드 및 프레임 전환 완료\n",
            "Error while clicking first search result for 앙뚜아네트 삼다수마을점: Unable to locate list container.\n"
          ]
        },
        {
          "name": "stderr",
          "output_type": "stream",
          "text": [
            " 65%|██████▍   | 645/999 [4:05:40<2:19:01, 23.56s/it]"
          ]
        },
        {
          "name": "stdout",
          "output_type": "stream",
          "text": [
            "Failed to load iframe after multiple attempts for 앙뚜아네트 삼다수마을점.\n",
            "crawling fatil : 앙뚜아네트 삼다수마을점 to fail_to_crawling\n",
            "앙뚜아네트 용담점: searchIframe 로드 및 프레임 전환 완료\n",
            "앙뚜아네트 용담점: entryIframe이 이미 로드됨. 클릭 없이 바로 진행\n",
            "entryIframe 로드.\n",
            "Error while extracting menu/features for 앙뚜아네트 용담점, div 1:\n",
            "Error while extracting menu/features for 앙뚜아네트 용담점, div 2:\n"
          ]
        },
        {
          "name": "stderr",
          "output_type": "stream",
          "text": [
            " 65%|██████▍   | 646/999 [4:06:03<2:17:59, 23.45s/it]"
          ]
        },
        {
          "name": "stdout",
          "output_type": "stream",
          "text": [
            "앙뚜아네트 탑동점: searchIframe 로드 및 프레임 전환 완료\n",
            "Error while clicking first search result for 앙뚜아네트 탑동점: Unable to locate list container.\n"
          ]
        },
        {
          "name": "stderr",
          "output_type": "stream",
          "text": [
            " 65%|██████▍   | 647/999 [4:06:24<2:13:10, 22.70s/it]"
          ]
        },
        {
          "name": "stdout",
          "output_type": "stream",
          "text": [
            "Failed to load iframe after multiple attempts for 앙뚜아네트 탑동점.\n",
            "crawling fatil : 앙뚜아네트 탑동점 to fail_to_crawling\n",
            "앙카페: searchIframe 로드 및 프레임 전환 완료\n",
            "앙카페: 첫 번째 가게 클릭 후 전환되지 않음. 다음 가게로 진행\n",
            "entryIframe 로드.\n",
            "Error while extracting menu/features for 앙카페, div 1:\n",
            "Error while extracting menu/features for 앙카페, div 2:\n"
          ]
        },
        {
          "name": "stderr",
          "output_type": "stream",
          "text": [
            " 65%|██████▍   | 648/999 [4:06:52<2:22:08, 24.30s/it]"
          ]
        },
        {
          "name": "stdout",
          "output_type": "stream",
          "text": [
            "앞돈지: searchIframe 로드 및 프레임 전환 완료\n",
            "앞돈지: entryIframe이 이미 로드됨. 클릭 없이 바로 진행\n",
            "entryIframe 로드.\n",
            "Error while extracting menu/features for 앞돈지, div 1:\n",
            "Error while extracting menu/features for 앞돈지, div 2:\n"
          ]
        },
        {
          "name": "stderr",
          "output_type": "stream",
          "text": [
            " 65%|██████▍   | 649/999 [4:07:11<2:13:01, 22.81s/it]"
          ]
        },
        {
          "name": "stdout",
          "output_type": "stream",
          "text": [
            "앞뜰에 쭈꾸미: searchIframe 로드 및 프레임 전환 완료\n",
            "앞뜰에 쭈꾸미: entryIframe이 이미 로드됨. 클릭 없이 바로 진행\n",
            "entryIframe 로드.\n",
            "Error while extracting menu/features for 앞뜰에 쭈꾸미, div 1:\n",
            "Error while extracting menu/features for 앞뜰에 쭈꾸미, div 2:\n"
          ]
        },
        {
          "name": "stderr",
          "output_type": "stream",
          "text": [
            " 65%|██████▌   | 650/999 [4:07:30<2:05:33, 21.59s/it]"
          ]
        },
        {
          "name": "stdout",
          "output_type": "stream",
          "text": [
            "앞뱅디: searchIframe 로드 및 프레임 전환 완료\n",
            "앞뱅디: entryIframe이 이미 로드됨. 클릭 없이 바로 진행\n",
            "entryIframe 로드.\n",
            "Error while extracting menu/features for 앞뱅디, div 1:\n",
            "Error while extracting menu/features for 앞뱅디, div 2:\n"
          ]
        },
        {
          "name": "stderr",
          "output_type": "stream",
          "text": [
            " 65%|██████▌   | 651/999 [4:07:52<2:05:49, 21.69s/it]"
          ]
        },
        {
          "name": "stdout",
          "output_type": "stream",
          "text": [
            "앞뱅디식당: searchIframe 로드 및 프레임 전환 완료\n",
            "앞뱅디식당: entryIframe이 이미 로드됨. 클릭 없이 바로 진행\n",
            "entryIframe 로드.\n",
            "Error while extracting menu/features for 앞뱅디식당, div 1:\n",
            "Error while extracting menu/features for 앞뱅디식당, div 2:\n"
          ]
        },
        {
          "name": "stderr",
          "output_type": "stream",
          "text": [
            " 65%|██████▌   | 652/999 [4:08:13<2:04:24, 21.51s/it]"
          ]
        },
        {
          "name": "stdout",
          "output_type": "stream",
          "text": [
            "애나의숲 브런치카페: searchIframe 로드 및 프레임 전환 완료\n",
            "Error while clicking first search result for 애나의숲 브런치카페: Unable to locate list container.\n"
          ]
        },
        {
          "name": "stderr",
          "output_type": "stream",
          "text": [
            " 65%|██████▌   | 653/999 [4:08:34<2:03:17, 21.38s/it]"
          ]
        },
        {
          "name": "stdout",
          "output_type": "stream",
          "text": [
            "Failed to load iframe after multiple attempts for 애나의숲 브런치카페.\n",
            "crawling fatil : 애나의숲 브런치카페 to fail_to_crawling\n",
            "애삘레: searchIframe 로드 및 프레임 전환 완료\n",
            "애삘레: entryIframe이 이미 로드됨. 클릭 없이 바로 진행\n",
            "entryIframe 로드.\n",
            "Error while extracting menu/features for 애삘레, div 1:\n",
            "Error while navigating to reviews for 애삘레:\n"
          ]
        },
        {
          "name": "stderr",
          "output_type": "stream",
          "text": [
            " 65%|██████▌   | 654/999 [4:08:57<2:05:30, 21.83s/it]"
          ]
        },
        {
          "name": "stdout",
          "output_type": "stream",
          "text": [
            "애월 갈치 암행어사: searchIframe 로드 및 프레임 전환 완료\n",
            "애월 갈치 암행어사: entryIframe이 이미 로드됨. 클릭 없이 바로 진행\n",
            "entryIframe 로드.\n",
            "Error while extracting menu/features for 애월 갈치 암행어사, div 1:\n"
          ]
        },
        {
          "name": "stderr",
          "output_type": "stream",
          "text": [
            " 66%|██████▌   | 655/999 [4:09:15<1:59:51, 20.90s/it]"
          ]
        },
        {
          "name": "stdout",
          "output_type": "stream",
          "text": [
            "Error while extracting menu/features for 애월 갈치 암행어사, div 2:\n",
            " 사진 버튼 없음 : 애월 갈치 암행어사.\n",
            "애월 고깃간: searchIframe 로드 및 프레임 전환 완료\n",
            "애월 고깃간: entryIframe이 이미 로드됨. 클릭 없이 바로 진행\n",
            "entryIframe 로드.\n",
            "Error while extracting menu/features for 애월 고깃간, div 1:\n"
          ]
        },
        {
          "name": "stderr",
          "output_type": "stream",
          "text": [
            " 66%|██████▌   | 656/999 [4:09:31<1:49:55, 19.23s/it]"
          ]
        },
        {
          "name": "stdout",
          "output_type": "stream",
          "text": [
            "Error while extracting menu/features for 애월 고깃간, div 2:\n",
            " 사진 버튼 없음 : 애월 고깃간.\n",
            "애월 빵공장: searchIframe 로드 및 프레임 전환 완료\n",
            "애월 빵공장: 첫 번째 가게 클릭 후 전환되지 않음. 다음 가게로 진행\n",
            "entryIframe 로드.\n",
            "Error while extracting menu/features for 애월 빵공장, div 1:\n",
            "Error while extracting menu/features for 애월 빵공장, div 2:\n"
          ]
        },
        {
          "name": "stderr",
          "output_type": "stream",
          "text": [
            " 66%|██████▌   | 657/999 [4:09:59<2:04:07, 21.78s/it]"
          ]
        },
        {
          "name": "stdout",
          "output_type": "stream",
          "text": [
            "애월 우니담: searchIframe 로드 및 프레임 전환 완료\n",
            "애월 우니담: entryIframe이 이미 로드됨. 클릭 없이 바로 진행\n",
            "entryIframe 로드.\n",
            "Error while extracting menu/features for 애월 우니담, div 1:\n",
            "Error while extracting menu/features for 애월 우니담, div 2:\n"
          ]
        },
        {
          "name": "stderr",
          "output_type": "stream",
          "text": [
            " 66%|██████▌   | 658/999 [4:10:18<1:59:40, 21.06s/it]"
          ]
        },
        {
          "name": "stdout",
          "output_type": "stream",
          "text": [
            "애월 해성도뚜리: searchIframe 로드 및 프레임 전환 완료\n",
            "애월 해성도뚜리: entryIframe이 이미 로드됨. 클릭 없이 바로 진행\n",
            "entryIframe 로드.\n",
            "Error while extracting menu/features for 애월 해성도뚜리, div 1:\n"
          ]
        },
        {
          "name": "stderr",
          "output_type": "stream",
          "text": [
            " 66%|██████▌   | 659/999 [4:10:39<1:59:24, 21.07s/it]"
          ]
        },
        {
          "name": "stdout",
          "output_type": "stream",
          "text": [
            "Error while extracting menu/features for 애월 해성도뚜리, div 2:\n",
            " 사진 버튼 없음 : 애월 해성도뚜리.\n",
            "애월가: searchIframe 로드 및 프레임 전환 완료\n",
            "애월가: 첫 번째 가게 클릭 후 전환되지 않음. 다음 가게로 진행\n",
            "entryIframe 로드.\n"
          ]
        },
        {
          "name": "stderr",
          "output_type": "stream",
          "text": [
            " 66%|██████▌   | 660/999 [4:11:01<2:00:14, 21.28s/it]"
          ]
        },
        {
          "name": "stdout",
          "output_type": "stream",
          "text": [
            "Error while extracting menu/features for 애월가, div 1:\n",
            "Error while extracting menu/features for 애월가, div 2:\n",
            " 사진 버튼 없음 : 애월가.\n",
            "애월갈치바다: searchIframe 로드 및 프레임 전환 완료\n",
            "애월갈치바다: 첫 번째 가게 클릭 후 전환되지 않음. 다음 가게로 진행\n",
            "entryIframe 로드.\n",
            "Error while extracting menu/features for 애월갈치바다, div 1:\n"
          ]
        },
        {
          "name": "stderr",
          "output_type": "stream",
          "text": [
            " 66%|██████▌   | 661/999 [4:11:25<2:04:06, 22.03s/it]"
          ]
        },
        {
          "name": "stdout",
          "output_type": "stream",
          "text": [
            "Error while extracting menu/features for 애월갈치바다, div 2:\n",
            " 사진 버튼 없음 : 애월갈치바다.\n",
            "애월고깃간: searchIframe 로드 및 프레임 전환 완료\n",
            "애월고깃간: entryIframe이 이미 로드됨. 클릭 없이 바로 진행\n",
            "entryIframe 로드.\n",
            "Error while extracting menu/features for 애월고깃간, div 1:\n"
          ]
        },
        {
          "name": "stderr",
          "output_type": "stream",
          "text": [
            " 66%|██████▋   | 662/999 [4:11:42<1:55:41, 20.60s/it]"
          ]
        },
        {
          "name": "stdout",
          "output_type": "stream",
          "text": [
            "Error while extracting menu/features for 애월고깃간, div 2:\n",
            " 사진 버튼 없음 : 애월고깃간.\n",
            "애월그때그집 본점: searchIframe 로드 및 프레임 전환 완료\n",
            "애월그때그집 본점: entryIframe이 이미 로드됨. 클릭 없이 바로 진행\n",
            "entryIframe 로드.\n",
            "Error while extracting menu/features for 애월그때그집 본점, div 1:\n",
            "Error while extracting menu/features for 애월그때그집 본점, div 2:\n"
          ]
        },
        {
          "name": "stderr",
          "output_type": "stream",
          "text": [
            " 66%|██████▋   | 663/999 [4:12:01<1:52:57, 20.17s/it]"
          ]
        },
        {
          "name": "stdout",
          "output_type": "stream",
          "text": [
            "애월다방: searchIframe 로드 및 프레임 전환 완료\n",
            "애월다방: 첫 번째 가게 클릭 후 전환되지 않음. 다음 가게로 진행\n",
            "entryIframe 로드.\n",
            "Error while extracting menu/features for 애월다방, div 1:\n",
            "Error while extracting menu/features for 애월다방, div 2:\n"
          ]
        },
        {
          "name": "stderr",
          "output_type": "stream",
          "text": [
            " 66%|██████▋   | 664/999 [4:12:29<2:06:21, 22.63s/it]"
          ]
        },
        {
          "name": "stdout",
          "output_type": "stream",
          "text": [
            "애월당: searchIframe 로드 및 프레임 전환 완료\n",
            "애월당: 첫 번째 가게 클릭 후 전환되지 않음. 다음 가게로 진행\n",
            "entryIframe 로드.\n",
            "Error while extracting menu/features for 애월당, div 1:\n",
            "Error while extracting menu/features for 애월당, div 2:\n"
          ]
        },
        {
          "name": "stderr",
          "output_type": "stream",
          "text": [
            " 67%|██████▋   | 665/999 [4:12:56<2:12:33, 23.81s/it]"
          ]
        },
        {
          "name": "stdout",
          "output_type": "stream",
          "text": [
            "애월당 애월제과: searchIframe 로드 및 프레임 전환 완료\n",
            "애월당 애월제과: entryIframe이 이미 로드됨. 클릭 없이 바로 진행\n",
            "entryIframe 로드.\n",
            "Error while extracting menu/features for 애월당 애월제과, div 1:\n",
            "Error while extracting menu/features for 애월당 애월제과, div 2:\n"
          ]
        },
        {
          "name": "stderr",
          "output_type": "stream",
          "text": [
            " 67%|██████▋   | 666/999 [4:13:15<2:04:18, 22.40s/it]"
          ]
        },
        {
          "name": "stdout",
          "output_type": "stream",
          "text": [
            "애월당 제주공항점: searchIframe 로드 및 프레임 전환 완료\n",
            "Error while clicking first search result for 애월당 제주공항점: Unable to locate list container.\n"
          ]
        },
        {
          "name": "stderr",
          "output_type": "stream",
          "text": [
            " 67%|██████▋   | 667/999 [4:13:36<2:01:58, 22.04s/it]"
          ]
        },
        {
          "name": "stdout",
          "output_type": "stream",
          "text": [
            "Failed to load iframe after multiple attempts for 애월당 제주공항점.\n",
            "crawling fatil : 애월당 제주공항점 to fail_to_crawling\n",
            "애월당공항점: searchIframe 로드 및 프레임 전환 완료\n",
            "Error while clicking first search result for 애월당공항점: Unable to locate list container.\n"
          ]
        },
        {
          "name": "stderr",
          "output_type": "stream",
          "text": [
            " 67%|██████▋   | 668/999 [4:13:57<1:58:48, 21.54s/it]"
          ]
        },
        {
          "name": "stdout",
          "output_type": "stream",
          "text": [
            "Failed to load iframe after multiple attempts for 애월당공항점.\n",
            "crawling fatil : 애월당공항점 to fail_to_crawling\n",
            "애월당백화점: searchIframe 로드 및 프레임 전환 완료\n",
            "Error while clicking first search result for 애월당백화점: Unable to locate list container.\n"
          ]
        },
        {
          "name": "stderr",
          "output_type": "stream",
          "text": [
            " 67%|██████▋   | 669/999 [4:14:18<1:57:36, 21.38s/it]"
          ]
        },
        {
          "name": "stdout",
          "output_type": "stream",
          "text": [
            "Failed to load iframe after multiple attempts for 애월당백화점.\n",
            "crawling fatil : 애월당백화점 to fail_to_crawling\n",
            "애월더선셋: searchIframe 로드 및 프레임 전환 완료\n",
            "애월더선셋: 첫 번째 가게 클릭 후 전환되지 않음. 다음 가게로 진행\n",
            "entryIframe 로드.\n",
            "Error while extracting datalab information for 애월더선셋:\n",
            "Error while navigating to reviews for 애월더선셋:\n"
          ]
        },
        {
          "name": "stderr",
          "output_type": "stream",
          "text": [
            " 67%|██████▋   | 670/999 [4:14:43<2:04:13, 22.65s/it]"
          ]
        },
        {
          "name": "stdout",
          "output_type": "stream",
          "text": [
            "애월더힐: searchIframe 로드 및 프레임 전환 완료\n",
            "애월더힐: 첫 번째 가게 클릭 후 전환되지 않음. 다음 가게로 진행\n",
            "entryIframe 로드.\n",
            "Error while extracting menu/features for 애월더힐, div 1:\n",
            "Error while extracting menu/features for 애월더힐, div 2:\n"
          ]
        },
        {
          "name": "stderr",
          "output_type": "stream",
          "text": [
            " 67%|██████▋   | 671/999 [4:15:10<2:09:47, 23.74s/it]"
          ]
        },
        {
          "name": "stdout",
          "output_type": "stream",
          "text": [
            "애월동깨: searchIframe 로드 및 프레임 전환 완료\n",
            "애월동깨: entryIframe이 이미 로드됨. 클릭 없이 바로 진행\n",
            "entryIframe 로드.\n",
            "Error while extracting menu/features for 애월동깨, div 1:\n",
            "Error while extracting menu/features for 애월동깨, div 2:\n"
          ]
        },
        {
          "name": "stderr",
          "output_type": "stream",
          "text": [
            " 67%|██████▋   | 672/999 [4:15:31<2:05:07, 22.96s/it]"
          ]
        },
        {
          "name": "stdout",
          "output_type": "stream",
          "text": [
            "애월돼지: searchIframe 로드 및 프레임 전환 완료\n",
            "애월돼지: 첫 번째 가게 클릭 후 전환되지 않음. 다음 가게로 진행\n",
            "entryIframe 로드.\n"
          ]
        },
        {
          "name": "stderr",
          "output_type": "stream",
          "text": [
            " 67%|██████▋   | 673/999 [4:15:48<1:55:52, 21.33s/it]"
          ]
        },
        {
          "name": "stdout",
          "output_type": "stream",
          "text": [
            "Error while navigating to reviews for 애월돼지:\n",
            " 사진 버튼 없음 : 애월돼지.\n",
            "애월리순메밀막국수: searchIframe 로드 및 프레임 전환 완료\n",
            "애월리순메밀막국수: entryIframe이 이미 로드됨. 클릭 없이 바로 진행\n",
            "entryIframe 로드.\n",
            "Error while extracting menu/features for 애월리순메밀막국수, div 1:\n",
            "Error while extracting menu/features for 애월리순메밀막국수, div 2:\n"
          ]
        },
        {
          "name": "stderr",
          "output_type": "stream",
          "text": [
            " 67%|██████▋   | 674/999 [4:16:10<1:55:44, 21.37s/it]"
          ]
        },
        {
          "name": "stdout",
          "output_type": "stream",
          "text": [
            "애월리식당: searchIframe 로드 및 프레임 전환 완료\n",
            "애월리식당: 첫 번째 가게 클릭 후 전환되지 않음. 다음 가게로 진행\n",
            "entryIframe 로드.\n",
            "Error while extracting menu/features for 애월리식당, div 1:\n",
            "Error while extracting menu/features for 애월리식당, div 2:\n"
          ]
        },
        {
          "name": "stderr",
          "output_type": "stream",
          "text": [
            " 68%|██████▊   | 675/999 [4:16:38<2:06:52, 23.50s/it]"
          ]
        },
        {
          "name": "stdout",
          "output_type": "stream",
          "text": [
            "애월리안: searchIframe 로드 및 프레임 전환 완료\n",
            "애월리안: 첫 번째 가게 클릭 후 전환되지 않음. 다음 가게로 진행\n",
            "entryIframe 로드.\n",
            "Error while extracting datalab information for 애월리안:\n",
            "Error while navigating to reviews for 애월리안:\n"
          ]
        },
        {
          "name": "stderr",
          "output_type": "stream",
          "text": [
            " 68%|██████▊   | 676/999 [4:17:04<2:09:55, 24.13s/it]"
          ]
        },
        {
          "name": "stdout",
          "output_type": "stream",
          "text": [
            "애월리에: searchIframe 로드 및 프레임 전환 완료\n",
            "애월리에: entryIframe이 이미 로드됨. 클릭 없이 바로 진행\n",
            "entryIframe 로드.\n",
            "Error while extracting menu/features for 애월리에, div 1:\n",
            "Error while extracting menu/features for 애월리에, div 2:\n"
          ]
        },
        {
          "name": "stderr",
          "output_type": "stream",
          "text": [
            " 68%|██████▊   | 677/999 [4:17:25<2:05:07, 23.31s/it]"
          ]
        },
        {
          "name": "stdout",
          "output_type": "stream",
          "text": [
            "애월막회집: searchIframe 로드 및 프레임 전환 완료\n",
            "애월막회집: entryIframe이 이미 로드됨. 클릭 없이 바로 진행\n",
            "entryIframe 로드.\n",
            "Error while extracting menu/features for 애월막회집, div 1:\n",
            "Error while extracting menu/features for 애월막회집, div 2:\n"
          ]
        },
        {
          "name": "stderr",
          "output_type": "stream",
          "text": [
            " 68%|██████▊   | 678/999 [4:17:46<2:01:25, 22.70s/it]"
          ]
        },
        {
          "name": "stdout",
          "output_type": "stream",
          "text": [
            "애월맛집제주다: searchIframe 로드 및 프레임 전환 완료\n",
            "애월맛집제주다: entryIframe이 이미 로드됨. 클릭 없이 바로 진행\n",
            "entryIframe 로드.\n",
            "Error while extracting menu/features for 애월맛집제주다, div 1:\n"
          ]
        },
        {
          "name": "stderr",
          "output_type": "stream",
          "text": [
            " 68%|██████▊   | 679/999 [4:18:03<1:51:39, 20.94s/it]"
          ]
        },
        {
          "name": "stdout",
          "output_type": "stream",
          "text": [
            "Error while extracting menu/features for 애월맛집제주다, div 2:\n",
            " 사진 버튼 없음 : 애월맛집제주다.\n",
            "애월맛집해장국: searchIframe 로드 및 프레임 전환 완료\n",
            "애월맛집해장국: 링크버튼을 찾을 수 없음. xpath 대신 다른 방법 시도\n"
          ]
        },
        {
          "name": "stderr",
          "output_type": "stream",
          "text": [
            " 68%|██████▊   | 680/999 [4:18:23<1:48:56, 20.49s/it]"
          ]
        },
        {
          "name": "stdout",
          "output_type": "stream",
          "text": [
            "Failed to load iframe after multiple attempts for 애월맛집해장국.\n",
            "crawling fatil : 애월맛집해장국 to fail_to_crawling\n",
            "애월맛차: searchIframe 로드 및 프레임 전환 완료\n",
            "애월맛차: entryIframe이 이미 로드됨. 클릭 없이 바로 진행\n",
            "entryIframe 로드.\n",
            "Error while extracting menu/features for 애월맛차, div 1:\n",
            "Error while extracting menu/features for 애월맛차, div 2:\n"
          ]
        },
        {
          "name": "stderr",
          "output_type": "stream",
          "text": [
            " 68%|██████▊   | 681/999 [4:18:44<1:50:16, 20.81s/it]"
          ]
        },
        {
          "name": "stdout",
          "output_type": "stream",
          "text": [
            "애월문개항아리(주): searchIframe 로드 및 프레임 전환 완료\n",
            "애월문개항아리(주): entryIframe이 이미 로드됨. 클릭 없이 바로 진행\n",
            "entryIframe 로드.\n",
            "Error while extracting menu/features for 애월문개항아리(주), div 1:\n",
            "Error while extracting menu/features for 애월문개항아리(주), div 2:\n"
          ]
        },
        {
          "name": "stderr",
          "output_type": "stream",
          "text": [
            " 68%|██████▊   | 682/999 [4:19:03<1:47:27, 20.34s/it]"
          ]
        },
        {
          "name": "stdout",
          "output_type": "stream",
          "text": [
            "애월바다: searchIframe 로드 및 프레임 전환 완료\n",
            "애월바다: 링크버튼을 찾을 수 없음. xpath 대신 다른 방법 시도\n"
          ]
        },
        {
          "name": "stderr",
          "output_type": "stream",
          "text": [
            " 68%|██████▊   | 683/999 [4:19:22<1:44:43, 19.88s/it]"
          ]
        },
        {
          "name": "stdout",
          "output_type": "stream",
          "text": [
            "Failed to load iframe after multiple attempts for 애월바다.\n",
            "crawling fatil : 애월바다 to fail_to_crawling\n",
            "애월바당국수: searchIframe 로드 및 프레임 전환 완료\n",
            "애월바당국수: entryIframe이 이미 로드됨. 클릭 없이 바로 진행\n",
            "entryIframe 로드.\n",
            "Error while extracting menu/features for 애월바당국수, div 1:\n",
            "Error while extracting menu/features for 애월바당국수, div 2:\n"
          ]
        },
        {
          "name": "stderr",
          "output_type": "stream",
          "text": [
            " 68%|██████▊   | 684/999 [4:19:44<1:46:51, 20.35s/it]"
          ]
        },
        {
          "name": "stdout",
          "output_type": "stream",
          "text": [
            "애월바베: searchIframe 로드 및 프레임 전환 완료\n",
            "Error while clicking first search result for 애월바베: Unable to locate list container.\n"
          ]
        },
        {
          "name": "stderr",
          "output_type": "stream",
          "text": [
            " 69%|██████▊   | 685/999 [4:20:05<1:47:17, 20.50s/it]"
          ]
        },
        {
          "name": "stdout",
          "output_type": "stream",
          "text": [
            "Failed to load iframe after multiple attempts for 애월바베.\n",
            "crawling fatil : 애월바베 to fail_to_crawling\n",
            "애월빵공장앤카페: searchIframe 로드 및 프레임 전환 완료\n",
            "애월빵공장앤카페: entryIframe이 이미 로드됨. 클릭 없이 바로 진행\n",
            "entryIframe 로드.\n",
            "Error while extracting menu/features for 애월빵공장앤카페, div 1:\n",
            "Error while extracting menu/features for 애월빵공장앤카페, div 2:\n"
          ]
        },
        {
          "name": "stderr",
          "output_type": "stream",
          "text": [
            " 69%|██████▊   | 686/999 [4:20:24<1:45:23, 20.20s/it]"
          ]
        },
        {
          "name": "stdout",
          "output_type": "stream",
          "text": [
            "애월빵명장: searchIframe 로드 및 프레임 전환 완료\n",
            "애월빵명장: 첫 번째 가게 클릭 후 전환되지 않음. 다음 가게로 진행\n",
            "entryIframe 로드.\n",
            "Error while extracting menu/features for 애월빵명장, div 1:\n",
            "Error while extracting menu/features for 애월빵명장, div 2:\n"
          ]
        },
        {
          "name": "stderr",
          "output_type": "stream",
          "text": [
            " 69%|██████▉   | 687/999 [4:20:50<1:54:24, 22.00s/it]"
          ]
        },
        {
          "name": "stdout",
          "output_type": "stream",
          "text": [
            "photo section 못찾음 애월빵명장\n",
            "애월사이카레: searchIframe 로드 및 프레임 전환 완료\n",
            "Error while clicking first search result for 애월사이카레: Unable to locate list container.\n"
          ]
        },
        {
          "name": "stderr",
          "output_type": "stream",
          "text": [
            " 69%|██████▉   | 688/999 [4:21:11<1:52:25, 21.69s/it]"
          ]
        },
        {
          "name": "stdout",
          "output_type": "stream",
          "text": [
            "Failed to load iframe after multiple attempts for 애월사이카레.\n",
            "crawling fatil : 애월사이카레 to fail_to_crawling\n",
            "애월삼육공: searchIframe 로드 및 프레임 전환 완료\n",
            "애월삼육공: 첫 번째 가게 클릭 후 전환되지 않음. 다음 가게로 진행\n",
            "entryIframe 로드.\n",
            "Error while extracting menu/features for 애월삼육공, div 1:\n"
          ]
        },
        {
          "name": "stderr",
          "output_type": "stream",
          "text": [
            " 69%|██████▉   | 689/999 [4:21:33<1:52:22, 21.75s/it]"
          ]
        },
        {
          "name": "stdout",
          "output_type": "stream",
          "text": [
            "Error while extracting menu/features for 애월삼육공, div 2:\n",
            " 사진 버튼 없음 : 애월삼육공.\n",
            "애월소랑: searchIframe 로드 및 프레임 전환 완료\n",
            "애월소랑: 첫 번째 가게 클릭 후 전환되지 않음. 다음 가게로 진행\n",
            "entryIframe 로드.\n",
            "Error while extracting menu/features for 애월소랑, div 1:\n",
            "Error while extracting menu/features for 애월소랑, div 2:\n"
          ]
        },
        {
          "name": "stderr",
          "output_type": "stream",
          "text": [
            " 69%|██████▉   | 690/999 [4:22:00<1:59:09, 23.14s/it]"
          ]
        },
        {
          "name": "stdout",
          "output_type": "stream",
          "text": [
            "애월아시시: searchIframe 로드 및 프레임 전환 완료\n",
            "애월아시시: entryIframe이 이미 로드됨. 클릭 없이 바로 진행\n",
            "entryIframe 로드.\n",
            "Error while extracting menu/features for 애월아시시, div 1:\n",
            "Error while extracting menu/features for 애월아시시, div 2:\n"
          ]
        },
        {
          "name": "stderr",
          "output_type": "stream",
          "text": [
            " 69%|██████▉   | 691/999 [4:22:21<1:55:47, 22.56s/it]"
          ]
        },
        {
          "name": "stdout",
          "output_type": "stream",
          "text": [
            "애월역: searchIframe 로드 및 프레임 전환 완료\n",
            "애월역: 첫 번째 가게 클릭 후 전환되지 않음. 다음 가게로 진행\n",
            "entryIframe 로드.\n",
            "Error while extracting menu/features for 애월역, div 1:\n",
            "Error while extracting menu/features for 애월역, div 2:\n"
          ]
        },
        {
          "name": "stderr",
          "output_type": "stream",
          "text": [
            " 69%|██████▉   | 692/999 [4:22:49<2:03:52, 24.21s/it]"
          ]
        },
        {
          "name": "stdout",
          "output_type": "stream",
          "text": [
            "애월연어: searchIframe 로드 및 프레임 전환 완료\n",
            "애월연어: 링크버튼을 찾을 수 없음. xpath 대신 다른 방법 시도\n"
          ]
        },
        {
          "name": "stderr",
          "output_type": "stream",
          "text": [
            " 69%|██████▉   | 693/999 [4:23:07<1:54:24, 22.43s/it]"
          ]
        },
        {
          "name": "stdout",
          "output_type": "stream",
          "text": [
            "Failed to load iframe after multiple attempts for 애월연어.\n",
            "crawling fatil : 애월연어 to fail_to_crawling\n",
            "애월연어 본점: searchIframe 로드 및 프레임 전환 완료\n",
            "애월연어 본점: entryIframe이 이미 로드됨. 클릭 없이 바로 진행\n",
            "entryIframe 로드.\n",
            "Error while extracting menu/features for 애월연어 본점, div 1:\n",
            "Error while extracting menu/features for 애월연어 본점, div 2:\n"
          ]
        },
        {
          "name": "stderr",
          "output_type": "stream",
          "text": [
            " 69%|██████▉   | 694/999 [4:23:26<1:48:58, 21.44s/it]"
          ]
        },
        {
          "name": "stdout",
          "output_type": "stream",
          "text": [
            "애월연어 안덕점: searchIframe 로드 및 프레임 전환 완료\n",
            "애월연어 안덕점: entryIframe이 이미 로드됨. 클릭 없이 바로 진행\n",
            "entryIframe 로드.\n",
            "Error while extracting menu/features for 애월연어 안덕점, div 1:\n",
            "Error while extracting menu/features for 애월연어 안덕점, div 2:\n"
          ]
        },
        {
          "name": "stderr",
          "output_type": "stream",
          "text": [
            " 70%|██████▉   | 695/999 [4:23:47<1:48:19, 21.38s/it]"
          ]
        },
        {
          "name": "stdout",
          "output_type": "stream",
          "text": [
            "애월연어 함덕점: searchIframe 로드 및 프레임 전환 완료\n",
            "애월연어 함덕점: entryIframe이 이미 로드됨. 클릭 없이 바로 진행\n",
            "entryIframe 로드.\n",
            "Error while extracting menu/features for 애월연어 함덕점, div 1:\n"
          ]
        },
        {
          "name": "stderr",
          "output_type": "stream",
          "text": [
            " 70%|██████▉   | 696/999 [4:24:07<1:44:52, 20.77s/it]"
          ]
        },
        {
          "name": "stdout",
          "output_type": "stream",
          "text": [
            "Error while extracting menu/features for 애월연어 함덕점, div 2:\n",
            " 사진 버튼 없음 : 애월연어 함덕점.\n",
            "애월연어노형점: searchIframe 로드 및 프레임 전환 완료\n",
            "애월연어노형점: entryIframe이 이미 로드됨. 클릭 없이 바로 진행\n",
            "entryIframe 로드.\n",
            "Error while extracting menu/features for 애월연어노형점, div 1:\n",
            "Error while extracting menu/features for 애월연어노형점, div 2:\n"
          ]
        },
        {
          "name": "stderr",
          "output_type": "stream",
          "text": [
            " 70%|██████▉   | 697/999 [4:24:28<1:45:49, 21.02s/it]"
          ]
        },
        {
          "name": "stdout",
          "output_type": "stream",
          "text": [
            "애월연어서귀포점: searchIframe 로드 및 프레임 전환 완료\n",
            "애월연어서귀포점: 첫 번째 가게 클릭 후 전환되지 않음. 다음 가게로 진행\n",
            "entryIframe 로드.\n",
            "Error while extracting menu/features for 애월연어서귀포점, div 1:\n"
          ]
        },
        {
          "name": "stderr",
          "output_type": "stream",
          "text": [
            " 70%|██████▉   | 698/999 [4:24:52<1:49:55, 21.91s/it]"
          ]
        },
        {
          "name": "stdout",
          "output_type": "stream",
          "text": [
            "Error while extracting menu/features for 애월연어서귀포점, div 2:\n",
            " 사진 버튼 없음 : 애월연어서귀포점.\n",
            "애월연어신서귀포점: searchIframe 로드 및 프레임 전환 완료\n",
            "애월연어신서귀포점: entryIframe이 이미 로드됨. 클릭 없이 바로 진행\n",
            "entryIframe 로드.\n",
            "Error while extracting menu/features for 애월연어신서귀포점, div 1:\n",
            "Error while extracting menu/features for 애월연어신서귀포점, div 2:\n"
          ]
        },
        {
          "name": "stderr",
          "output_type": "stream",
          "text": [
            " 70%|██████▉   | 699/999 [4:25:14<1:48:55, 21.78s/it]"
          ]
        },
        {
          "name": "stdout",
          "output_type": "stream",
          "text": [
            "애월연월: searchIframe 로드 및 프레임 전환 완료\n",
            "애월연월: entryIframe이 이미 로드됨. 클릭 없이 바로 진행\n",
            "entryIframe 로드.\n",
            "Error while extracting menu/features for 애월연월, div 1:\n",
            "Error while extracting menu/features for 애월연월, div 2:\n"
          ]
        },
        {
          "name": "stderr",
          "output_type": "stream",
          "text": [
            " 70%|███████   | 700/999 [4:25:35<1:47:47, 21.63s/it]"
          ]
        },
        {
          "name": "stdout",
          "output_type": "stream",
          "text": [
            "애월오누이: searchIframe 로드 및 프레임 전환 완료\n",
            "애월오누이: 첫 번째 가게 클릭 후 전환되지 않음. 다음 가게로 진행\n",
            "entryIframe 로드.\n",
            "Error while extracting menu/features for 애월오누이, div 1:\n",
            "Error while extracting menu/features for 애월오누이, div 2:\n"
          ]
        },
        {
          "name": "stderr",
          "output_type": "stream",
          "text": [
            " 70%|███████   | 701/999 [4:26:03<1:57:12, 23.60s/it]"
          ]
        },
        {
          "name": "stdout",
          "output_type": "stream",
          "text": [
            "애월온기: searchIframe 로드 및 프레임 전환 완료\n",
            "애월온기: 첫 번째 가게 클릭 후 전환되지 않음. 다음 가게로 진행\n",
            "entryIframe 로드.\n",
            "Error while extracting menu/features for 애월온기, div 1:\n"
          ]
        },
        {
          "name": "stderr",
          "output_type": "stream",
          "text": [
            " 70%|███████   | 702/999 [4:26:27<1:57:04, 23.65s/it]"
          ]
        },
        {
          "name": "stdout",
          "output_type": "stream",
          "text": [
            "Error while extracting menu/features for 애월온기, div 2:\n",
            " 사진 버튼 없음 : 애월온기.\n",
            "애월은혜전복: searchIframe 로드 및 프레임 전환 완료\n",
            "애월은혜전복: 첫 번째 가게 클릭 후 전환되지 않음. 다음 가게로 진행\n",
            "entryIframe 로드.\n",
            "Error while extracting menu/features for 애월은혜전복, div 1:\n"
          ]
        },
        {
          "name": "stderr",
          "output_type": "stream",
          "text": [
            " 70%|███████   | 703/999 [4:26:49<1:54:45, 23.26s/it]"
          ]
        },
        {
          "name": "stdout",
          "output_type": "stream",
          "text": [
            "Error while extracting menu/features for 애월은혜전복, div 2:\n",
            " 사진 버튼 없음 : 애월은혜전복.\n",
            "애월전분공장: searchIframe 로드 및 프레임 전환 완료\n",
            "Error while clicking first search result for 애월전분공장: Unable to locate list container.\n"
          ]
        },
        {
          "name": "stderr",
          "output_type": "stream",
          "text": [
            " 70%|███████   | 704/999 [4:27:10<1:50:54, 22.56s/it]"
          ]
        },
        {
          "name": "stdout",
          "output_type": "stream",
          "text": [
            "Failed to load iframe after multiple attempts for 애월전분공장.\n",
            "crawling fatil : 애월전분공장 to fail_to_crawling\n"
          ]
        },
        {
          "name": "stderr",
          "output_type": "stream",
          "text": [
            " 71%|███████   | 705/999 [4:27:14<1:22:35, 16.86s/it]"
          ]
        },
        {
          "name": "stdout",
          "output_type": "stream",
          "text": [
            "iframe을 찾을 수 없음 for 애월정거장\n",
            "애월집: searchIframe 로드 및 프레임 전환 완료\n",
            "애월집: 링크버튼을 찾을 수 없음. xpath 대신 다른 방법 시도\n"
          ]
        },
        {
          "name": "stderr",
          "output_type": "stream",
          "text": [
            " 71%|███████   | 706/999 [4:27:32<1:24:07, 17.23s/it]"
          ]
        },
        {
          "name": "stdout",
          "output_type": "stream",
          "text": [
            "Failed to load iframe after multiple attempts for 애월집.\n",
            "crawling fatil : 애월집 to fail_to_crawling\n",
            "애월짬뽕: searchIframe 로드 및 프레임 전환 완료\n",
            "애월짬뽕: 링크버튼을 찾을 수 없음. xpath 대신 다른 방법 시도\n"
          ]
        },
        {
          "name": "stderr",
          "output_type": "stream",
          "text": [
            " 71%|███████   | 707/999 [4:27:50<1:25:15, 17.52s/it]"
          ]
        },
        {
          "name": "stdout",
          "output_type": "stream",
          "text": [
            "Failed to load iframe after multiple attempts for 애월짬뽕.\n",
            "crawling fatil : 애월짬뽕 to fail_to_crawling\n",
            "애월찜: searchIframe 로드 및 프레임 전환 완료\n",
            "애월찜: 첫 번째 가게 클릭 후 전환되지 않음. 다음 가게로 진행\n",
            "entryIframe 로드.\n",
            "Error while extracting menu/features for 애월찜, div 1:\n"
          ]
        },
        {
          "name": "stderr",
          "output_type": "stream",
          "text": [
            " 71%|███████   | 708/999 [4:28:14<1:34:39, 19.52s/it]"
          ]
        },
        {
          "name": "stdout",
          "output_type": "stream",
          "text": [
            "Error while extracting menu/features for 애월찜, div 2:\n",
            " 사진 버튼 없음 : 애월찜.\n",
            "애월포차: searchIframe 로드 및 프레임 전환 완료\n",
            "애월포차: 첫 번째 가게 클릭 후 전환되지 않음. 다음 가게로 진행\n",
            "entryIframe 로드.\n",
            "Error while extracting menu/features for 애월포차, div 1:\n"
          ]
        },
        {
          "name": "stderr",
          "output_type": "stream",
          "text": [
            " 71%|███████   | 709/999 [4:28:38<1:40:35, 20.81s/it]"
          ]
        },
        {
          "name": "stdout",
          "output_type": "stream",
          "text": [
            "Error while extracting menu/features for 애월포차, div 2:\n",
            " 사진 버튼 없음 : 애월포차.\n",
            "애월한아름식당: searchIframe 로드 및 프레임 전환 완료\n",
            "애월한아름식당: entryIframe이 이미 로드됨. 클릭 없이 바로 진행\n",
            "entryIframe 로드.\n",
            "Error while extracting datalab information for 애월한아름식당:\n",
            "Error while navigating to reviews for 애월한아름식당:\n"
          ]
        },
        {
          "name": "stderr",
          "output_type": "stream",
          "text": [
            " 71%|███████   | 710/999 [4:28:59<1:40:39, 20.90s/it]"
          ]
        },
        {
          "name": "stdout",
          "output_type": "stream",
          "text": [
            "애월할망네: searchIframe 로드 및 프레임 전환 완료\n",
            "애월할망네: entryIframe이 이미 로드됨. 클릭 없이 바로 진행\n",
            "entryIframe 로드.\n",
            "Error while extracting menu/features for 애월할망네, div 1:\n",
            "Error while extracting menu/features for 애월할망네, div 2:\n"
          ]
        },
        {
          "name": "stderr",
          "output_type": "stream",
          "text": [
            " 71%|███████   | 711/999 [4:29:19<1:38:31, 20.53s/it]"
          ]
        },
        {
          "name": "stdout",
          "output_type": "stream",
          "text": [
            "애월항포구횟집: searchIframe 로드 및 프레임 전환 완료\n",
            "애월항포구횟집: 첫 번째 가게 클릭 후 전환되지 않음. 다음 가게로 진행\n",
            "entryIframe 로드.\n",
            "Error while extracting menu/features for 애월항포구횟집, div 1:\n"
          ]
        },
        {
          "name": "stderr",
          "output_type": "stream",
          "text": [
            " 71%|███████▏  | 712/999 [4:29:41<1:40:18, 20.97s/it]"
          ]
        },
        {
          "name": "stdout",
          "output_type": "stream",
          "text": [
            "Error while extracting menu/features for 애월항포구횟집, div 2:\n",
            " 사진 버튼 없음 : 애월항포구횟집.\n",
            "애주가: searchIframe 로드 및 프레임 전환 완료\n",
            "애주가: 첫 번째 가게 클릭 후 전환되지 않음. 다음 가게로 진행\n",
            "entryIframe 로드.\n",
            "Error while extracting datalab information for 애주가:\n",
            "Error while navigating to reviews for 애주가:\n"
          ]
        },
        {
          "name": "stderr",
          "output_type": "stream",
          "text": [
            " 71%|███████▏  | 713/999 [4:30:07<1:46:49, 22.41s/it]"
          ]
        },
        {
          "name": "stdout",
          "output_type": "stream",
          "text": [
            "애진: searchIframe 로드 및 프레임 전환 완료\n",
            "애진: 첫 번째 가게 클릭 후 전환되지 않음. 다음 가게로 진행\n",
            "entryIframe 로드.\n",
            "Error while extracting datalab information for 애진:\n",
            "Error while navigating to reviews for 애진:\n"
          ]
        },
        {
          "name": "stderr",
          "output_type": "stream",
          "text": [
            " 71%|███████▏  | 714/999 [4:30:28<1:44:54, 22.09s/it]"
          ]
        },
        {
          "name": "stdout",
          "output_type": "stream",
          "text": [
            "이미지 추출 오류 5 for 애진 \n",
            "이미지 추출 오류 6 for 애진 \n",
            "이미지 추출 오류 7 for 애진 \n",
            "이미지 추출 오류 8 for 애진 \n",
            "이미지 추출 오류 9 for 애진 \n",
            "이미지 추출 오류 10 for 애진 \n",
            "애플망고1947: searchIframe 로드 및 프레임 전환 완료\n",
            "애플망고1947: 첫 번째 가게 클릭 후 전환되지 않음. 다음 가게로 진행\n",
            "entryIframe 로드.\n",
            "Error while extracting menu/features for 애플망고1947, div 1:\n",
            "Error while extracting menu/features for 애플망고1947, div 2:\n"
          ]
        },
        {
          "name": "stderr",
          "output_type": "stream",
          "text": [
            " 72%|███████▏  | 715/999 [4:30:54<1:50:29, 23.34s/it]"
          ]
        },
        {
          "name": "stdout",
          "output_type": "stream",
          "text": [
            "애플웨딩식당: searchIframe 로드 및 프레임 전환 완료\n",
            "Error while clicking first search result for 애플웨딩식당: Unable to locate list container.\n"
          ]
        },
        {
          "name": "stderr",
          "output_type": "stream",
          "text": [
            " 72%|███████▏  | 716/999 [4:31:15<1:46:13, 22.52s/it]"
          ]
        },
        {
          "name": "stdout",
          "output_type": "stream",
          "text": [
            "Failed to load iframe after multiple attempts for 애플웨딩식당.\n",
            "crawling fatil : 애플웨딩식당 to fail_to_crawling\n",
            "애향포차: searchIframe 로드 및 프레임 전환 완료\n",
            "애향포차: entryIframe이 이미 로드됨. 클릭 없이 바로 진행\n",
            "entryIframe 로드.\n",
            "Error while extracting datalab information for 애향포차:\n",
            "Error while extracting menu/features for 애향포차, div 1:\n",
            "Error while extracting menu/features for 애향포차, div 2:\n"
          ]
        },
        {
          "name": "stderr",
          "output_type": "stream",
          "text": [
            " 72%|███████▏  | 717/999 [4:31:36<1:43:29, 22.02s/it]"
          ]
        },
        {
          "name": "stdout",
          "output_type": "stream",
          "text": [
            "이미지 추출 오류 7 for 애향포차 \n",
            "이미지 추출 오류 8 for 애향포차 \n",
            "이미지 추출 오류 9 for 애향포차 \n",
            "이미지 추출 오류 10 for 애향포차 \n",
            "앤모슬포점: searchIframe 로드 및 프레임 전환 완료\n",
            "앤모슬포점: 첫 번째 가게 클릭 후 전환되지 않음. 다음 가게로 진행\n",
            "entryIframe 로드.\n",
            "Error while extracting menu/features for 앤모슬포점, div 1:\n",
            "Error while extracting menu/features for 앤모슬포점, div 2:\n"
          ]
        },
        {
          "name": "stderr",
          "output_type": "stream",
          "text": [
            " 72%|███████▏  | 718/999 [4:32:03<1:51:02, 23.71s/it]"
          ]
        },
        {
          "name": "stdout",
          "output_type": "stream",
          "text": [
            "앤트러사이트: searchIframe 로드 및 프레임 전환 완료\n",
            "앤트러사이트: 링크버튼을 찾을 수 없음. xpath 대신 다른 방법 시도\n"
          ]
        },
        {
          "name": "stderr",
          "output_type": "stream",
          "text": [
            " 72%|███████▏  | 719/999 [4:32:22<1:42:42, 22.01s/it]"
          ]
        },
        {
          "name": "stdout",
          "output_type": "stream",
          "text": [
            "Failed to load iframe after multiple attempts for 앤트러사이트.\n",
            "crawling fatil : 앤트러사이트 to fail_to_crawling\n",
            "앤트힐: searchIframe 로드 및 프레임 전환 완료\n",
            "앤트힐: entryIframe이 이미 로드됨. 클릭 없이 바로 진행\n",
            "entryIframe 로드.\n",
            "Error while extracting menu/features for 앤트힐, div 1:\n",
            "Error while extracting menu/features for 앤트힐, div 2:\n"
          ]
        },
        {
          "name": "stderr",
          "output_type": "stream",
          "text": [
            " 72%|███████▏  | 720/999 [4:32:41<1:38:45, 21.24s/it]"
          ]
        },
        {
          "name": "stdout",
          "output_type": "stream",
          "text": [
            "앨리스: searchIframe 로드 및 프레임 전환 완료\n",
            "앨리스: 첫 번째 가게 클릭 후 전환되지 않음. 다음 가게로 진행\n",
            "entryIframe 로드.\n",
            "Error while extracting menu/features for 앨리스, div 1:\n",
            "Error while navigating to reviews for 앨리스:\n"
          ]
        },
        {
          "name": "stderr",
          "output_type": "stream",
          "text": [
            " 72%|███████▏  | 721/999 [4:33:09<1:47:48, 23.27s/it]"
          ]
        },
        {
          "name": "stdout",
          "output_type": "stream",
          "text": [
            "앨리스케이커리제주: searchIframe 로드 및 프레임 전환 완료\n",
            "앨리스케이커리제주: entryIframe이 이미 로드됨. 클릭 없이 바로 진행\n",
            "entryIframe 로드.\n",
            "Error while extracting menu/features for 앨리스케이커리제주, div 1:\n",
            "Error while extracting menu/features for 앨리스케이커리제주, div 2:\n"
          ]
        },
        {
          "name": "stderr",
          "output_type": "stream",
          "text": [
            " 72%|███████▏  | 722/999 [4:33:31<1:45:24, 22.83s/it]"
          ]
        },
        {
          "name": "stdout",
          "output_type": "stream",
          "text": [
            "앰버: searchIframe 로드 및 프레임 전환 완료\n",
            "앰버: 링크버튼을 찾을 수 없음. xpath 대신 다른 방법 시도\n"
          ]
        },
        {
          "name": "stderr",
          "output_type": "stream",
          "text": [
            " 72%|███████▏  | 723/999 [4:33:49<1:38:48, 21.48s/it]"
          ]
        },
        {
          "name": "stdout",
          "output_type": "stream",
          "text": [
            "Failed to load iframe after multiple attempts for 앰버.\n",
            "crawling fatil : 앰버 to fail_to_crawling\n",
            "앰제이: searchIframe 로드 및 프레임 전환 완료\n",
            "앰제이: 첫 번째 가게 클릭 후 전환되지 않음. 다음 가게로 진행\n",
            "entryIframe 로드.\n",
            "Error while extracting datalab information for 앰제이:\n",
            "Error while extracting menu/features for 앰제이, div 1:\n",
            "Error while navigating to reviews for 앰제이:\n"
          ]
        },
        {
          "name": "stderr",
          "output_type": "stream",
          "text": [
            " 72%|███████▏  | 724/999 [4:34:15<1:44:42, 22.85s/it]"
          ]
        },
        {
          "name": "stdout",
          "output_type": "stream",
          "text": [
            "앳테이블: searchIframe 로드 및 프레임 전환 완료\n",
            "앳테이블: 첫 번째 가게 클릭 후 전환되지 않음. 다음 가게로 진행\n",
            "entryIframe 로드.\n",
            "Error while extracting menu/features for 앳테이블, div 1:\n",
            "Error while extracting menu/features for 앳테이블, div 2:\n"
          ]
        },
        {
          "name": "stderr",
          "output_type": "stream",
          "text": [
            " 73%|███████▎  | 725/999 [4:34:43<1:51:48, 24.48s/it]"
          ]
        },
        {
          "name": "stdout",
          "output_type": "stream",
          "text": [
            "야끼니꾸엔순옥상회: searchIframe 로드 및 프레임 전환 완료\n",
            "Error while clicking first search result for 야끼니꾸엔순옥상회: Unable to locate list container.\n"
          ]
        },
        {
          "name": "stderr",
          "output_type": "stream",
          "text": [
            " 73%|███████▎  | 726/999 [4:35:04<1:46:11, 23.34s/it]"
          ]
        },
        {
          "name": "stdout",
          "output_type": "stream",
          "text": [
            "Failed to load iframe after multiple attempts for 야끼니꾸엔순옥상회.\n",
            "crawling fatil : 야끼니꾸엔순옥상회 to fail_to_crawling\n",
            "야끼니꾸풍하: searchIframe 로드 및 프레임 전환 완료\n",
            "Error while clicking first search result for 야끼니꾸풍하: Unable to locate list container.\n"
          ]
        },
        {
          "name": "stderr",
          "output_type": "stream",
          "text": [
            " 73%|███████▎  | 727/999 [4:35:24<1:41:36, 22.41s/it]"
          ]
        },
        {
          "name": "stdout",
          "output_type": "stream",
          "text": [
            "Failed to load iframe after multiple attempts for 야끼니꾸풍하.\n",
            "crawling fatil : 야끼니꾸풍하 to fail_to_crawling\n",
            "야끼토리디귿: searchIframe 로드 및 프레임 전환 완료\n",
            "야끼토리디귿: entryIframe이 이미 로드됨. 클릭 없이 바로 진행\n",
            "entryIframe 로드.\n",
            "Error while extracting menu/features for 야끼토리디귿, div 1:\n",
            "Error while extracting menu/features for 야끼토리디귿, div 2:\n"
          ]
        },
        {
          "name": "stderr",
          "output_type": "stream",
          "text": [
            " 73%|███████▎  | 728/999 [4:35:46<1:40:03, 22.15s/it]"
          ]
        },
        {
          "name": "stdout",
          "output_type": "stream",
          "text": [
            "야뜨리: searchIframe 로드 및 프레임 전환 완료\n",
            "야뜨리: entryIframe이 이미 로드됨. 클릭 없이 바로 진행\n",
            "entryIframe 로드.\n",
            "Error while extracting menu/features for 야뜨리, div 1:\n",
            "Error while extracting menu/features for 야뜨리, div 2:\n"
          ]
        },
        {
          "name": "stderr",
          "output_type": "stream",
          "text": [
            " 73%|███████▎  | 729/999 [4:36:07<1:38:41, 21.93s/it]"
          ]
        },
        {
          "name": "stdout",
          "output_type": "stream",
          "text": [
            "야래향: searchIframe 로드 및 프레임 전환 완료\n",
            "야래향: 첫 번째 가게 클릭 후 전환되지 않음. 다음 가게로 진행\n",
            "entryIframe 로드.\n",
            "Error while extracting menu/features for 야래향, div 1:\n",
            "Error while extracting menu/features for 야래향, div 2:\n"
          ]
        },
        {
          "name": "stderr",
          "output_type": "stream",
          "text": [
            " 73%|███████▎  | 730/999 [4:36:36<1:47:23, 23.95s/it]"
          ]
        },
        {
          "name": "stdout",
          "output_type": "stream",
          "text": [
            "야미1999: searchIframe 로드 및 프레임 전환 완료\n",
            "야미1999: entryIframe이 이미 로드됨. 클릭 없이 바로 진행\n",
            "entryIframe 로드.\n",
            "Error while extracting menu/features for 야미1999, div 1:\n",
            "Error while extracting menu/features for 야미1999, div 2:\n"
          ]
        },
        {
          "name": "stderr",
          "output_type": "stream",
          "text": [
            " 73%|███████▎  | 731/999 [4:36:57<1:43:24, 23.15s/it]"
          ]
        },
        {
          "name": "stdout",
          "output_type": "stream",
          "text": [
            "야미부대찌개: searchIframe 로드 및 프레임 전환 완료\n",
            "야미부대찌개: 첫 번째 가게 클릭 후 전환되지 않음. 다음 가게로 진행\n",
            "entryIframe 로드.\n",
            "Error while extracting menu/features for 야미부대찌개, div 1:\n",
            "Error while extracting menu/features for 야미부대찌개, div 2:\n"
          ]
        },
        {
          "name": "stderr",
          "output_type": "stream",
          "text": [
            " 73%|███████▎  | 732/999 [4:37:24<1:47:33, 24.17s/it]"
          ]
        },
        {
          "name": "stdout",
          "output_type": "stream",
          "text": [
            "야미부대찌개강정점: searchIframe 로드 및 프레임 전환 완료\n",
            "야미부대찌개강정점: entryIframe이 이미 로드됨. 클릭 없이 바로 진행\n",
            "entryIframe 로드.\n",
            "Error while extracting menu/features for 야미부대찌개강정점, div 1:\n",
            "Error while extracting menu/features for 야미부대찌개강정점, div 2:\n"
          ]
        },
        {
          "name": "stderr",
          "output_type": "stream",
          "text": [
            " 73%|███████▎  | 733/999 [4:37:45<1:43:29, 23.34s/it]"
          ]
        },
        {
          "name": "stdout",
          "output_type": "stream",
          "text": [
            "야미포차: searchIframe 로드 및 프레임 전환 완료\n",
            "야미포차: 링크버튼을 찾을 수 없음. xpath 대신 다른 방법 시도\n"
          ]
        },
        {
          "name": "stderr",
          "output_type": "stream",
          "text": [
            " 73%|███████▎  | 734/999 [4:38:03<1:36:02, 21.75s/it]"
          ]
        },
        {
          "name": "stdout",
          "output_type": "stream",
          "text": [
            "Failed to load iframe after multiple attempts for 야미포차.\n",
            "crawling fatil : 야미포차 to fail_to_crawling\n",
            "야시장: searchIframe 로드 및 프레임 전환 완료\n",
            "야시장: 첫 번째 가게 클릭 후 전환되지 않음. 다음 가게로 진행\n",
            "entryIframe 로드.\n",
            "Error while extracting menu/features for 야시장, div 1:\n"
          ]
        },
        {
          "name": "stderr",
          "output_type": "stream",
          "text": [
            " 74%|███████▎  | 735/999 [4:38:28<1:39:12, 22.55s/it]"
          ]
        },
        {
          "name": "stdout",
          "output_type": "stream",
          "text": [
            "Error while extracting menu/features for 야시장, div 2:\n",
            " 사진 버튼 없음 : 야시장.\n",
            "야시장 맛통령: searchIframe 로드 및 프레임 전환 완료\n",
            "야시장 맛통령: entryIframe이 이미 로드됨. 클릭 없이 바로 진행\n",
            "entryIframe 로드.\n",
            "Error while extracting menu/features for 야시장 맛통령, div 1:\n",
            "Error while extracting menu/features for 야시장 맛통령, div 2:\n"
          ]
        },
        {
          "name": "stderr",
          "output_type": "stream",
          "text": [
            " 74%|███████▎  | 736/999 [4:38:49<1:37:23, 22.22s/it]"
          ]
        },
        {
          "name": "stdout",
          "output_type": "stream",
          "text": [
            "야시장 이동식판매대(18호): searchIframe 로드 및 프레임 전환 완료\n",
            "야시장 이동식판매대(18호): 링크버튼을 찾을 수 없음. xpath 대신 다른 방법 시도\n"
          ]
        },
        {
          "name": "stderr",
          "output_type": "stream",
          "text": [
            " 74%|███████▍  | 737/999 [4:39:07<1:31:33, 20.97s/it]"
          ]
        },
        {
          "name": "stdout",
          "output_type": "stream",
          "text": [
            "Failed to load iframe after multiple attempts for 야시장 이동식판매대(18호).\n",
            "crawling fatil : 야시장 이동식판매대(18호) to fail_to_crawling\n",
            "야시장라운지: searchIframe 로드 및 프레임 전환 완료\n",
            "야시장라운지: entryIframe이 이미 로드됨. 클릭 없이 바로 진행\n",
            "entryIframe 로드.\n",
            "Error while extracting menu/features for 야시장라운지, div 1:\n",
            "Error while extracting menu/features for 야시장라운지, div 2:\n"
          ]
        },
        {
          "name": "stderr",
          "output_type": "stream",
          "text": [
            " 74%|███████▍  | 738/999 [4:39:28<1:31:32, 21.05s/it]"
          ]
        },
        {
          "name": "stdout",
          "output_type": "stream",
          "text": [
            "야시장맛통령: searchIframe 로드 및 프레임 전환 완료\n",
            "야시장맛통령: entryIframe이 이미 로드됨. 클릭 없이 바로 진행\n",
            "entryIframe 로드.\n",
            "Error while extracting menu/features for 야시장맛통령, div 1:\n",
            "Error while extracting menu/features for 야시장맛통령, div 2:\n"
          ]
        },
        {
          "name": "stderr",
          "output_type": "stream",
          "text": [
            " 74%|███████▍  | 739/999 [4:39:50<1:32:02, 21.24s/it]"
          ]
        },
        {
          "name": "stdout",
          "output_type": "stream",
          "text": [
            "야시장이동식판매대 (12호): searchIframe 로드 및 프레임 전환 완료\n",
            "Error while clicking first search result for 야시장이동식판매대 (12호): Unable to locate list container.\n"
          ]
        },
        {
          "name": "stderr",
          "output_type": "stream",
          "text": [
            " 74%|███████▍  | 740/999 [4:40:11<1:31:19, 21.16s/it]"
          ]
        },
        {
          "name": "stdout",
          "output_type": "stream",
          "text": [
            "Failed to load iframe after multiple attempts for 야시장이동식판매대 (12호).\n",
            "crawling fatil : 야시장이동식판매대 (12호) to fail_to_crawling\n",
            "야시장이동식판매대(27호): searchIframe 로드 및 프레임 전환 완료\n",
            "Error while clicking first search result for 야시장이동식판매대(27호): Unable to locate list container.\n"
          ]
        },
        {
          "name": "stderr",
          "output_type": "stream",
          "text": [
            " 74%|███████▍  | 741/999 [4:40:32<1:30:06, 20.96s/it]"
          ]
        },
        {
          "name": "stdout",
          "output_type": "stream",
          "text": [
            "Failed to load iframe after multiple attempts for 야시장이동식판매대(27호).\n",
            "crawling fatil : 야시장이동식판매대(27호) to fail_to_crawling\n",
            "야시장이동식판매대(30호): searchIframe 로드 및 프레임 전환 완료\n",
            "Error while clicking first search result for 야시장이동식판매대(30호): Unable to locate list container.\n"
          ]
        },
        {
          "name": "stderr",
          "output_type": "stream",
          "text": [
            " 74%|███████▍  | 742/999 [4:40:53<1:29:49, 20.97s/it]"
          ]
        },
        {
          "name": "stdout",
          "output_type": "stream",
          "text": [
            "Failed to load iframe after multiple attempts for 야시장이동식판매대(30호).\n",
            "crawling fatil : 야시장이동식판매대(30호) to fail_to_crawling\n",
            "야시장이동식판매대27호: searchIframe 로드 및 프레임 전환 완료\n",
            "Error while clicking first search result for 야시장이동식판매대27호: Unable to locate list container.\n"
          ]
        },
        {
          "name": "stderr",
          "output_type": "stream",
          "text": [
            " 74%|███████▍  | 743/999 [4:41:13<1:28:41, 20.79s/it]"
          ]
        },
        {
          "name": "stdout",
          "output_type": "stream",
          "text": [
            "Failed to load iframe after multiple attempts for 야시장이동식판매대27호.\n",
            "crawling fatil : 야시장이동식판매대27호 to fail_to_crawling\n",
            "야시장이동식판매대28호: searchIframe 로드 및 프레임 전환 완료\n",
            "야시장이동식판매대28호: entryIframe이 이미 로드됨. 클릭 없이 바로 진행\n",
            "entryIframe 로드.\n",
            "Error while extracting menu/features for 야시장이동식판매대28호, div 1:\n",
            "Error while extracting menu/features for 야시장이동식판매대28호, div 2:\n"
          ]
        },
        {
          "name": "stderr",
          "output_type": "stream",
          "text": [
            " 74%|███████▍  | 744/999 [4:41:34<1:28:56, 20.93s/it]"
          ]
        },
        {
          "name": "stdout",
          "output_type": "stream",
          "text": [
            "야야: searchIframe 로드 및 프레임 전환 완료\n",
            "야야: 링크버튼을 찾을 수 없음. xpath 대신 다른 방법 시도\n"
          ]
        },
        {
          "name": "stderr",
          "output_type": "stream",
          "text": [
            " 75%|███████▍  | 745/999 [4:41:52<1:24:35, 19.98s/it]"
          ]
        },
        {
          "name": "stdout",
          "output_type": "stream",
          "text": [
            "Failed to load iframe after multiple attempts for 야야.\n",
            "crawling fatil : 야야 to fail_to_crawling\n",
            "야야카페: searchIframe 로드 및 프레임 전환 완료\n",
            "야야카페: 첫 번째 가게 클릭 후 전환되지 않음. 다음 가게로 진행\n",
            "entryIframe 로드.\n",
            "Error while extracting menu/features for 야야카페, div 1:\n",
            "Error while extracting menu/features for 야야카페, div 2:\n"
          ]
        },
        {
          "name": "stderr",
          "output_type": "stream",
          "text": [
            " 75%|███████▍  | 746/999 [4:42:20<1:34:44, 22.47s/it]"
          ]
        },
        {
          "name": "stdout",
          "output_type": "stream",
          "text": [
            "야우: searchIframe 로드 및 프레임 전환 완료\n",
            "야우: 첫 번째 가게 클릭 후 전환되지 않음. 다음 가게로 진행\n",
            "entryIframe 로드.\n",
            "Error while extracting menu/features for 야우, div 1:\n",
            "Error while extracting menu/features for 야우, div 2:\n"
          ]
        },
        {
          "name": "stderr",
          "output_type": "stream",
          "text": [
            " 75%|███████▍  | 747/999 [4:42:48<1:41:14, 24.10s/it]"
          ]
        },
        {
          "name": "stdout",
          "output_type": "stream",
          "text": [
            "야원: searchIframe 로드 및 프레임 전환 완료\n",
            "야원: 첫 번째 가게 클릭 후 전환되지 않음. 다음 가게로 진행\n",
            "entryIframe 로드.\n",
            "Error while extracting menu/features for 야원, div 1:\n",
            "Error while extracting menu/features for 야원, div 2:\n"
          ]
        },
        {
          "name": "stderr",
          "output_type": "stream",
          "text": [
            " 75%|███████▍  | 748/999 [4:43:14<1:42:57, 24.61s/it]"
          ]
        },
        {
          "name": "stdout",
          "output_type": "stream",
          "text": [
            "야자수 식당: searchIframe 로드 및 프레임 전환 완료\n",
            "야자수 식당: 링크버튼을 찾을 수 없음. xpath 대신 다른 방법 시도\n"
          ]
        },
        {
          "name": "stderr",
          "output_type": "stream",
          "text": [
            " 75%|███████▍  | 749/999 [4:43:32<1:34:10, 22.60s/it]"
          ]
        },
        {
          "name": "stdout",
          "output_type": "stream",
          "text": [
            "Failed to load iframe after multiple attempts for 야자수 식당.\n",
            "crawling fatil : 야자수 식당 to fail_to_crawling\n",
            "야크마을 제주: searchIframe 로드 및 프레임 전환 완료\n",
            "야크마을 제주: 첫 번째 가게 클릭 후 전환되지 않음. 다음 가게로 진행\n",
            "entryIframe 로드.\n",
            "Error while extracting datalab information for 야크마을 제주:\n",
            "Error while extracting menu/features for 야크마을 제주, div 1:\n",
            "Error while navigating to reviews for 야크마을 제주:\n"
          ]
        },
        {
          "name": "stderr",
          "output_type": "stream",
          "text": [
            " 75%|███████▌  | 750/999 [4:44:00<1:40:32, 24.23s/it]"
          ]
        },
        {
          "name": "stdout",
          "output_type": "stream",
          "text": [
            "야키토리 타키비: searchIframe 로드 및 프레임 전환 완료\n",
            "야키토리 타키비: entryIframe이 이미 로드됨. 클릭 없이 바로 진행\n",
            "entryIframe 로드.\n",
            "Error while extracting menu/features for 야키토리 타키비, div 1:\n"
          ]
        },
        {
          "name": "stderr",
          "output_type": "stream",
          "text": [
            " 75%|███████▌  | 751/999 [4:44:21<1:36:21, 23.31s/it]"
          ]
        },
        {
          "name": "stdout",
          "output_type": "stream",
          "text": [
            "Error while extracting menu/features for 야키토리 타키비, div 2:\n",
            " 사진 버튼 없음 : 야키토리 타키비.\n",
            "야해: searchIframe 로드 및 프레임 전환 완료\n",
            "야해: 첫 번째 가게 클릭 후 전환되지 않음. 다음 가게로 진행\n",
            "entryIframe 로드.\n",
            "Error while extracting menu/features for 야해, div 1:\n"
          ]
        },
        {
          "name": "stderr",
          "output_type": "stream",
          "text": [
            " 75%|███████▌  | 752/999 [4:44:47<1:39:34, 24.19s/it]"
          ]
        },
        {
          "name": "stdout",
          "output_type": "stream",
          "text": [
            "Error while extracting menu/features for 야해, div 2:\n",
            " 사진 버튼 없음 : 야해.\n",
            "약산흑염소가든: searchIframe 로드 및 프레임 전환 완료\n",
            "약산흑염소가든: 첫 번째 가게 클릭 후 전환되지 않음. 다음 가게로 진행\n",
            "entryIframe 로드.\n",
            "Error while extracting menu/features for 약산흑염소가든, div 1:\n",
            "Error while extracting menu/features for 약산흑염소가든, div 2:\n"
          ]
        },
        {
          "name": "stderr",
          "output_type": "stream",
          "text": [
            " 75%|███████▌  | 753/999 [4:45:15<1:43:40, 25.29s/it]"
          ]
        },
        {
          "name": "stdout",
          "output_type": "stream",
          "text": [
            "약선명가: searchIframe 로드 및 프레임 전환 완료\n",
            "약선명가: 첫 번째 가게 클릭 후 전환되지 않음. 다음 가게로 진행\n",
            "entryIframe 로드.\n",
            "Error while extracting datalab information for 약선명가:\n",
            "Error while navigating to reviews for 약선명가:\n"
          ]
        },
        {
          "name": "stderr",
          "output_type": "stream",
          "text": [
            " 75%|███████▌  | 754/999 [4:45:43<1:46:21, 26.05s/it]"
          ]
        },
        {
          "name": "stdout",
          "output_type": "stream",
          "text": [
            "약촌삼계탕: searchIframe 로드 및 프레임 전환 완료\n",
            "약촌삼계탕: entryIframe이 이미 로드됨. 클릭 없이 바로 진행\n",
            "entryIframe 로드.\n",
            "Error while extracting menu/features for 약촌삼계탕, div 1:\n",
            "Error while extracting menu/features for 약촌삼계탕, div 2:\n"
          ]
        },
        {
          "name": "stderr",
          "output_type": "stream",
          "text": [
            " 76%|███████▌  | 755/999 [4:46:04<1:40:08, 24.62s/it]"
          ]
        },
        {
          "name": "stdout",
          "output_type": "stream",
          "text": [
            "얄개: searchIframe 로드 및 프레임 전환 완료\n",
            "얄개: 첫 번째 가게 클릭 후 전환되지 않음. 다음 가게로 진행\n",
            "entryIframe 로드.\n",
            "Error while extracting datalab information for 얄개:\n",
            "Error while navigating to reviews for 얄개:\n"
          ]
        },
        {
          "name": "stderr",
          "output_type": "stream",
          "text": [
            " 76%|███████▌  | 756/999 [4:46:26<1:36:30, 23.83s/it]"
          ]
        },
        {
          "name": "stdout",
          "output_type": "stream",
          "text": [
            "얌샘김밥 제주노형점: searchIframe 로드 및 프레임 전환 완료\n",
            "얌샘김밥 제주노형점: entryIframe이 이미 로드됨. 클릭 없이 바로 진행\n",
            "entryIframe 로드.\n",
            "Error while extracting menu/features for 얌샘김밥 제주노형점, div 1:\n",
            "Error while extracting menu/features for 얌샘김밥 제주노형점, div 2:\n"
          ]
        },
        {
          "name": "stderr",
          "output_type": "stream",
          "text": [
            " 76%|███████▌  | 757/999 [4:46:46<1:30:57, 22.55s/it]"
          ]
        },
        {
          "name": "stdout",
          "output_type": "stream",
          "text": [
            "얌샘김밥제주이도점: searchIframe 로드 및 프레임 전환 완료\n",
            "얌샘김밥제주이도점: entryIframe이 이미 로드됨. 클릭 없이 바로 진행\n",
            "entryIframe 로드.\n",
            "Error while extracting menu/features for 얌샘김밥제주이도점, div 1:\n",
            "Error while extracting menu/features for 얌샘김밥제주이도점, div 2:\n"
          ]
        },
        {
          "name": "stderr",
          "output_type": "stream",
          "text": [
            " 76%|███████▌  | 758/999 [4:47:07<1:29:19, 22.24s/it]"
          ]
        },
        {
          "name": "stdout",
          "output_type": "stream",
          "text": [
            "얌얌: searchIframe 로드 및 프레임 전환 완료\n",
            "얌얌: 첫 번째 가게 클릭 후 전환되지 않음. 다음 가게로 진행\n",
            "entryIframe 로드.\n",
            "Error while extracting menu/features for 얌얌, div 1:\n",
            "Error while extracting menu/features for 얌얌, div 2:\n"
          ]
        },
        {
          "name": "stderr",
          "output_type": "stream",
          "text": [
            " 76%|███████▌  | 759/999 [4:47:36<1:36:47, 24.20s/it]"
          ]
        },
        {
          "name": "stdout",
          "output_type": "stream",
          "text": [
            "얌얌돈가스: searchIframe 로드 및 프레임 전환 완료\n",
            "얌얌돈가스: 첫 번째 가게 클릭 후 전환되지 않음. 다음 가게로 진행\n",
            "entryIframe 로드.\n",
            "Error while extracting menu/features for 얌얌돈가스, div 1:\n",
            "Error while extracting menu/features for 얌얌돈가스, div 2:\n"
          ]
        },
        {
          "name": "stderr",
          "output_type": "stream",
          "text": [
            " 76%|███████▌  | 760/999 [4:48:04<1:41:20, 25.44s/it]"
          ]
        },
        {
          "name": "stdout",
          "output_type": "stream",
          "text": [
            "얌얌돈까스: searchIframe 로드 및 프레임 전환 완료\n",
            "얌얌돈까스: 첫 번째 가게 클릭 후 전환되지 않음. 다음 가게로 진행\n",
            "entryIframe 로드.\n",
            "Error while extracting menu/features for 얌얌돈까스, div 1:\n",
            "Error while extracting menu/features for 얌얌돈까스, div 2:\n"
          ]
        },
        {
          "name": "stderr",
          "output_type": "stream",
          "text": [
            " 76%|███████▌  | 761/999 [4:48:33<1:44:19, 26.30s/it]"
          ]
        },
        {
          "name": "stdout",
          "output_type": "stream",
          "text": [
            "양: searchIframe 로드 및 프레임 전환 완료\n",
            "양: 첫 번째 가게 클릭 후 전환되지 않음. 다음 가게로 진행\n",
            "entryIframe 로드.\n",
            "Error while extracting menu/features for 양, div 1:\n"
          ]
        },
        {
          "name": "stderr",
          "output_type": "stream",
          "text": [
            " 76%|███████▋  | 762/999 [4:48:59<1:44:05, 26.35s/it]"
          ]
        },
        {
          "name": "stdout",
          "output_type": "stream",
          "text": [
            "Error while extracting menu/features for 양, div 2:\n",
            " 사진 버튼 없음 : 양.\n",
            "양가네: searchIframe 로드 및 프레임 전환 완료\n",
            "양가네: 링크버튼을 찾을 수 없음. xpath 대신 다른 방법 시도\n"
          ]
        },
        {
          "name": "stderr",
          "output_type": "stream",
          "text": [
            " 76%|███████▋  | 763/999 [4:49:17<1:33:30, 23.77s/it]"
          ]
        },
        {
          "name": "stdout",
          "output_type": "stream",
          "text": [
            "Failed to load iframe after multiple attempts for 양가네.\n",
            "crawling fatil : 양가네 to fail_to_crawling\n",
            "양가형제: searchIframe 로드 및 프레임 전환 완료\n",
            "양가형제: 첫 번째 가게 클릭 후 전환되지 않음. 다음 가게로 진행\n",
            "entryIframe 로드.\n",
            "Error while extracting menu/features for 양가형제, div 1:\n",
            "Error while extracting menu/features for 양가형제, div 2:\n"
          ]
        },
        {
          "name": "stderr",
          "output_type": "stream",
          "text": [
            " 76%|███████▋  | 764/999 [4:49:48<1:41:08, 25.82s/it]"
          ]
        },
        {
          "name": "stdout",
          "output_type": "stream",
          "text": [
            "양가형제노형: searchIframe 로드 및 프레임 전환 완료\n",
            "양가형제노형: entryIframe이 이미 로드됨. 클릭 없이 바로 진행\n",
            "entryIframe 로드.\n",
            "Error while extracting menu/features for 양가형제노형, div 1:\n"
          ]
        },
        {
          "name": "stderr",
          "output_type": "stream",
          "text": [
            " 77%|███████▋  | 765/999 [4:50:03<1:28:32, 22.70s/it]"
          ]
        },
        {
          "name": "stdout",
          "output_type": "stream",
          "text": [
            "Error while extracting menu/features for 양가형제노형, div 2:\n",
            " 사진 버튼 없음 : 양가형제노형.\n",
            "양과자회관: searchIframe 로드 및 프레임 전환 완료\n",
            "양과자회관: entryIframe이 이미 로드됨. 클릭 없이 바로 진행\n",
            "entryIframe 로드.\n",
            "Error while extracting menu/features for 양과자회관, div 1:\n",
            "Error while extracting menu/features for 양과자회관, div 2:\n"
          ]
        },
        {
          "name": "stderr",
          "output_type": "stream",
          "text": [
            " 77%|███████▋  | 766/999 [4:50:24<1:26:13, 22.20s/it]"
          ]
        },
        {
          "name": "stdout",
          "output_type": "stream",
          "text": [
            "양대감: searchIframe 로드 및 프레임 전환 완료\n",
            "양대감: 첫 번째 가게 클릭 후 전환되지 않음. 다음 가게로 진행\n",
            "entryIframe 로드.\n",
            "Error while extracting menu/features for 양대감, div 1:\n",
            "Error while extracting menu/features for 양대감, div 2:\n"
          ]
        },
        {
          "name": "stderr",
          "output_type": "stream",
          "text": [
            " 77%|███████▋  | 767/999 [4:50:56<1:37:24, 25.19s/it]"
          ]
        },
        {
          "name": "stdout",
          "output_type": "stream",
          "text": [
            "양반집: searchIframe 로드 및 프레임 전환 완료\n",
            "양반집: 첫 번째 가게 클릭 후 전환되지 않음. 다음 가게로 진행\n",
            "entryIframe 로드.\n",
            "Error while extracting menu/features for 양반집, div 1:\n",
            "Error while extracting menu/features for 양반집, div 2:\n"
          ]
        },
        {
          "name": "stderr",
          "output_type": "stream",
          "text": [
            " 77%|███████▋  | 768/999 [4:51:24<1:40:31, 26.11s/it]"
          ]
        },
        {
          "name": "stdout",
          "output_type": "stream",
          "text": [
            "양반촌: searchIframe 로드 및 프레임 전환 완료\n",
            "양반촌: 링크버튼을 찾을 수 없음. xpath 대신 다른 방법 시도\n"
          ]
        },
        {
          "name": "stderr",
          "output_type": "stream",
          "text": [
            " 77%|███████▋  | 769/999 [4:51:42<1:30:21, 23.57s/it]"
          ]
        },
        {
          "name": "stdout",
          "output_type": "stream",
          "text": [
            "Failed to load iframe after multiple attempts for 양반촌.\n",
            "crawling fatil : 양반촌 to fail_to_crawling\n",
            "양배추식당: searchIframe 로드 및 프레임 전환 완료\n",
            "양배추식당: 첫 번째 가게 클릭 후 전환되지 않음. 다음 가게로 진행\n",
            "entryIframe 로드.\n",
            "Error while extracting menu/features for 양배추식당, div 1:\n",
            "Error while extracting menu/features for 양배추식당, div 2:\n"
          ]
        },
        {
          "name": "stderr",
          "output_type": "stream",
          "text": [
            " 77%|███████▋  | 770/999 [4:52:15<1:40:06, 26.23s/it]"
          ]
        },
        {
          "name": "stdout",
          "output_type": "stream",
          "text": [
            "양선비: searchIframe 로드 및 프레임 전환 완료\n",
            "양선비: 첫 번째 가게 클릭 후 전환되지 않음. 다음 가게로 진행\n",
            "entryIframe 로드.\n",
            "Error while extracting menu/features for 양선비, div 1:\n"
          ]
        },
        {
          "name": "stderr",
          "output_type": "stream",
          "text": [
            " 77%|███████▋  | 771/999 [4:52:36<1:34:37, 24.90s/it]"
          ]
        },
        {
          "name": "stdout",
          "output_type": "stream",
          "text": [
            "Error while extracting menu/features for 양선비, div 2:\n",
            " 사진 버튼 없음 : 양선비.\n",
            "양순이네순대국밥: searchIframe 로드 및 프레임 전환 완료\n",
            "양순이네순대국밥: entryIframe이 이미 로드됨. 클릭 없이 바로 진행\n",
            "entryIframe 로드.\n",
            "Error while extracting menu/features for 양순이네순대국밥, div 1:\n",
            "Error while extracting menu/features for 양순이네순대국밥, div 2:\n"
          ]
        },
        {
          "name": "stderr",
          "output_type": "stream",
          "text": [
            " 77%|███████▋  | 772/999 [4:52:58<1:30:24, 23.90s/it]"
          ]
        },
        {
          "name": "stdout",
          "output_type": "stream",
          "text": [
            "양식당: searchIframe 로드 및 프레임 전환 완료\n",
            "양식당: 링크버튼을 찾을 수 없음. xpath 대신 다른 방법 시도\n"
          ]
        },
        {
          "name": "stderr",
          "output_type": "stream",
          "text": [
            " 77%|███████▋  | 773/999 [4:53:20<1:28:02, 23.37s/it]"
          ]
        },
        {
          "name": "stdout",
          "output_type": "stream",
          "text": [
            "Failed to load iframe after multiple attempts for 양식당.\n",
            "crawling fatil : 양식당 to fail_to_crawling\n",
            "양씨네제주전복칼국수본점: searchIframe 로드 및 프레임 전환 완료\n",
            "양씨네제주전복칼국수본점: entryIframe이 이미 로드됨. 클릭 없이 바로 진행\n",
            "entryIframe 로드.\n",
            "Error while extracting menu/features for 양씨네제주전복칼국수본점, div 1:\n",
            "Error while extracting menu/features for 양씨네제주전복칼국수본점, div 2:\n"
          ]
        },
        {
          "name": "stderr",
          "output_type": "stream",
          "text": [
            " 77%|███████▋  | 774/999 [4:53:42<1:25:36, 22.83s/it]"
          ]
        },
        {
          "name": "stdout",
          "output_type": "stream",
          "text": [
            "양육점: searchIframe 로드 및 프레임 전환 완료\n",
            "양육점: 링크버튼을 찾을 수 없음. xpath 대신 다른 방법 시도\n"
          ]
        },
        {
          "name": "stderr",
          "output_type": "stream",
          "text": [
            " 78%|███████▊  | 775/999 [4:54:00<1:19:58, 21.42s/it]"
          ]
        },
        {
          "name": "stdout",
          "output_type": "stream",
          "text": [
            "Failed to load iframe after multiple attempts for 양육점.\n",
            "crawling fatil : 양육점 to fail_to_crawling\n",
            "양자강: searchIframe 로드 및 프레임 전환 완료\n",
            "양자강: 링크버튼을 찾을 수 없음. xpath 대신 다른 방법 시도\n"
          ]
        },
        {
          "name": "stderr",
          "output_type": "stream",
          "text": [
            " 78%|███████▊  | 776/999 [4:54:18<1:16:12, 20.51s/it]"
          ]
        },
        {
          "name": "stdout",
          "output_type": "stream",
          "text": [
            "Failed to load iframe after multiple attempts for 양자강.\n",
            "crawling fatil : 양자강 to fail_to_crawling\n",
            "양주고을부대째개: searchIframe 로드 및 프레임 전환 완료\n",
            "양주고을부대째개: 링크버튼을 찾을 수 없음. xpath 대신 다른 방법 시도\n"
          ]
        },
        {
          "name": "stderr",
          "output_type": "stream",
          "text": [
            " 78%|███████▊  | 777/999 [4:54:36<1:12:44, 19.66s/it]"
          ]
        },
        {
          "name": "stdout",
          "output_type": "stream",
          "text": [
            "Failed to load iframe after multiple attempts for 양주고을부대째개.\n",
            "crawling fatil : 양주고을부대째개 to fail_to_crawling\n",
            "양철북곱창: searchIframe 로드 및 프레임 전환 완료\n",
            "양철북곱창: 첫 번째 가게 클릭 후 전환되지 않음. 다음 가게로 진행\n",
            "entryIframe 로드.\n",
            "Error while extracting menu/features for 양철북곱창, div 1:\n",
            "Error while extracting menu/features for 양철북곱창, div 2:\n"
          ]
        },
        {
          "name": "stderr",
          "output_type": "stream",
          "text": [
            " 78%|███████▊  | 778/999 [4:55:04<1:22:09, 22.31s/it]"
          ]
        },
        {
          "name": "stdout",
          "output_type": "stream",
          "text": [
            "양촌리마을: searchIframe 로드 및 프레임 전환 완료\n",
            "양촌리마을: 첫 번째 가게 클릭 후 전환되지 않음. 다음 가게로 진행\n",
            "entryIframe 로드.\n",
            "Error while extracting menu/features for 양촌리마을, div 1:\n",
            "Error while extracting menu/features for 양촌리마을, div 2:\n"
          ]
        },
        {
          "name": "stderr",
          "output_type": "stream",
          "text": [
            " 78%|███████▊  | 779/999 [4:55:30<1:25:45, 23.39s/it]"
          ]
        },
        {
          "name": "stdout",
          "output_type": "stream",
          "text": [
            "양키즈: searchIframe 로드 및 프레임 전환 완료\n",
            "양키즈: 링크버튼을 찾을 수 없음. xpath 대신 다른 방법 시도\n"
          ]
        },
        {
          "name": "stderr",
          "output_type": "stream",
          "text": [
            " 78%|███████▊  | 780/999 [4:55:48<1:19:25, 21.76s/it]"
          ]
        },
        {
          "name": "stdout",
          "output_type": "stream",
          "text": [
            "Failed to load iframe after multiple attempts for 양키즈.\n",
            "crawling fatil : 양키즈 to fail_to_crawling\n",
            "양평해장국: searchIframe 로드 및 프레임 전환 완료\n",
            "양평해장국: 링크버튼을 찾을 수 없음. xpath 대신 다른 방법 시도\n"
          ]
        },
        {
          "name": "stderr",
          "output_type": "stream",
          "text": [
            " 78%|███████▊  | 781/999 [4:56:08<1:16:51, 21.15s/it]"
          ]
        },
        {
          "name": "stdout",
          "output_type": "stream",
          "text": [
            "Failed to load iframe after multiple attempts for 양평해장국.\n",
            "crawling fatil : 양평해장국 to fail_to_crawling\n",
            "양푼속닭한마리: searchIframe 로드 및 프레임 전환 완료\n",
            "양푼속닭한마리: entryIframe이 이미 로드됨. 클릭 없이 바로 진행\n",
            "entryIframe 로드.\n",
            "Error while extracting menu/features for 양푼속닭한마리, div 1:\n",
            "Error while extracting menu/features for 양푼속닭한마리, div 2:\n"
          ]
        },
        {
          "name": "stderr",
          "output_type": "stream",
          "text": [
            " 78%|███████▊  | 782/999 [4:56:30<1:17:03, 21.31s/it]"
          ]
        },
        {
          "name": "stdout",
          "output_type": "stream",
          "text": [
            "양푼왕갈비: searchIframe 로드 및 프레임 전환 완료\n",
            "양푼왕갈비: 첫 번째 가게 클릭 후 전환되지 않음. 다음 가게로 진행\n",
            "entryIframe 로드.\n",
            "Error while extracting menu/features for 양푼왕갈비, div 1:\n",
            "Error while extracting menu/features for 양푼왕갈비, div 2:\n"
          ]
        },
        {
          "name": "stderr",
          "output_type": "stream",
          "text": [
            " 78%|███████▊  | 783/999 [4:56:58<1:23:56, 23.32s/it]"
          ]
        },
        {
          "name": "stdout",
          "output_type": "stream",
          "text": [
            "양푼이막창: searchIframe 로드 및 프레임 전환 완료\n",
            "양푼이막창: 첫 번째 가게 클릭 후 전환되지 않음. 다음 가게로 진행\n",
            "entryIframe 로드.\n",
            "Error while extracting menu/features for 양푼이막창, div 1:\n",
            "Error while extracting menu/features for 양푼이막창, div 2:\n"
          ]
        },
        {
          "name": "stderr",
          "output_type": "stream",
          "text": [
            " 78%|███████▊  | 784/999 [4:57:26<1:29:02, 24.85s/it]"
          ]
        },
        {
          "name": "stdout",
          "output_type": "stream",
          "text": [
            "양혜란식당: searchIframe 로드 및 프레임 전환 완료\n",
            "양혜란식당: entryIframe이 이미 로드됨. 클릭 없이 바로 진행\n",
            "entryIframe 로드.\n",
            "Error while extracting menu/features for 양혜란식당, div 1:\n",
            "Error while extracting menu/features for 양혜란식당, div 2:\n"
          ]
        },
        {
          "name": "stderr",
          "output_type": "stream",
          "text": [
            " 79%|███████▊  | 785/999 [4:57:47<1:24:55, 23.81s/it]"
          ]
        },
        {
          "name": "stdout",
          "output_type": "stream",
          "text": [
            "어가: searchIframe 로드 및 프레임 전환 완료\n",
            "어가: 첫 번째 가게 클릭 후 전환되지 않음. 다음 가게로 진행\n",
            "entryIframe 로드.\n",
            "Error while extracting menu/features for 어가, div 1:\n",
            "Error while extracting menu/features for 어가, div 2:\n"
          ]
        },
        {
          "name": "stderr",
          "output_type": "stream",
          "text": [
            " 79%|███████▊  | 786/999 [4:58:14<1:27:35, 24.68s/it]"
          ]
        },
        {
          "name": "stdout",
          "output_type": "stream",
          "text": [
            "어군: searchIframe 로드 및 프레임 전환 완료\n",
            "어군: 첫 번째 가게 클릭 후 전환되지 않음. 다음 가게로 진행\n",
            "entryIframe 로드.\n",
            "Error while extracting menu/features for 어군, div 1:\n",
            "Error while extracting menu/features for 어군, div 2:\n"
          ]
        },
        {
          "name": "stderr",
          "output_type": "stream",
          "text": [
            " 79%|███████▉  | 787/999 [4:58:42<1:30:41, 25.67s/it]"
          ]
        },
        {
          "name": "stdout",
          "output_type": "stream",
          "text": [
            "어기여차 월광점: searchIframe 로드 및 프레임 전환 완료\n",
            "어기여차 월광점: entryIframe이 이미 로드됨. 클릭 없이 바로 진행\n",
            "entryIframe 로드.\n",
            "Error while navigating to reviews for 어기여차 월광점:\n"
          ]
        },
        {
          "name": "stderr",
          "output_type": "stream",
          "text": [
            " 79%|███████▉  | 788/999 [4:59:03<1:24:59, 24.17s/it]"
          ]
        },
        {
          "name": "stdout",
          "output_type": "stream",
          "text": [
            "어느멋진날: searchIframe 로드 및 프레임 전환 완료\n",
            "어느멋진날: 첫 번째 가게 클릭 후 전환되지 않음. 다음 가게로 진행\n",
            "entryIframe 로드.\n",
            "Error while extracting menu/features for 어느멋진날, div 1:\n",
            "Error while extracting menu/features for 어느멋진날, div 2:\n"
          ]
        },
        {
          "name": "stderr",
          "output_type": "stream",
          "text": [
            " 79%|███████▉  | 789/999 [4:59:33<1:31:04, 26.02s/it]"
          ]
        },
        {
          "name": "stdout",
          "output_type": "stream",
          "text": [
            "어니스트밀크 본점: searchIframe 로드 및 프레임 전환 완료\n",
            "어니스트밀크 본점: entryIframe이 이미 로드됨. 클릭 없이 바로 진행\n",
            "entryIframe 로드.\n",
            "Error while extracting menu/features for 어니스트밀크 본점, div 1:\n",
            "Error while extracting menu/features for 어니스트밀크 본점, div 2:\n"
          ]
        },
        {
          "name": "stderr",
          "output_type": "stream",
          "text": [
            " 79%|███████▉  | 790/999 [4:59:52<1:23:38, 24.01s/it]"
          ]
        },
        {
          "name": "stdout",
          "output_type": "stream",
          "text": [
            "어덜트밤비노: searchIframe 로드 및 프레임 전환 완료\n",
            "Error while clicking first search result for 어덜트밤비노: Unable to locate list container.\n"
          ]
        },
        {
          "name": "stderr",
          "output_type": "stream",
          "text": [
            " 79%|███████▉  | 791/999 [5:00:13<1:19:36, 22.97s/it]"
          ]
        },
        {
          "name": "stdout",
          "output_type": "stream",
          "text": [
            "Failed to load iframe after multiple attempts for 어덜트밤비노.\n",
            "crawling fatil : 어덜트밤비노 to fail_to_crawling\n",
            "어도식당: searchIframe 로드 및 프레임 전환 완료\n",
            "어도식당: 링크버튼을 찾을 수 없음. xpath 대신 다른 방법 시도\n"
          ]
        },
        {
          "name": "stderr",
          "output_type": "stream",
          "text": [
            " 79%|███████▉  | 792/999 [5:00:32<1:15:21, 21.84s/it]"
          ]
        },
        {
          "name": "stdout",
          "output_type": "stream",
          "text": [
            "Failed to load iframe after multiple attempts for 어도식당.\n",
            "crawling fatil : 어도식당 to fail_to_crawling\n",
            "어등포해녀촌: searchIframe 로드 및 프레임 전환 완료\n",
            "어등포해녀촌: entryIframe이 이미 로드됨. 클릭 없이 바로 진행\n",
            "entryIframe 로드.\n",
            "Error while extracting menu/features for 어등포해녀촌, div 1:\n",
            "Error while extracting menu/features for 어등포해녀촌, div 2:\n"
          ]
        },
        {
          "name": "stderr",
          "output_type": "stream",
          "text": [
            " 79%|███████▉  | 793/999 [5:00:52<1:12:45, 21.19s/it]"
          ]
        },
        {
          "name": "stdout",
          "output_type": "stream",
          "text": [
            "어디가맨: searchIframe 로드 및 프레임 전환 완료\n",
            "어디가맨: entryIframe이 이미 로드됨. 클릭 없이 바로 진행\n",
            "entryIframe 로드.\n",
            "Error while extracting menu/features for 어디가맨, div 1:\n",
            "Error while extracting menu/features for 어디가맨, div 2:\n"
          ]
        },
        {
          "name": "stderr",
          "output_type": "stream",
          "text": [
            " 79%|███████▉  | 794/999 [5:01:16<1:15:17, 22.04s/it]"
          ]
        },
        {
          "name": "stdout",
          "output_type": "stream",
          "text": [
            "어디가코 연동점: searchIframe 로드 및 프레임 전환 완료\n",
            "어디가코 연동점: entryIframe이 이미 로드됨. 클릭 없이 바로 진행\n",
            "entryIframe 로드.\n",
            "Error while navigating to reviews for 어디가코 연동점:\n"
          ]
        },
        {
          "name": "stderr",
          "output_type": "stream",
          "text": [
            " 80%|███████▉  | 795/999 [5:01:35<1:11:49, 21.12s/it]"
          ]
        },
        {
          "name": "stdout",
          "output_type": "stream",
          "text": [
            "어디가코 용담점: searchIframe 로드 및 프레임 전환 완료\n",
            "어디가코 용담점: 첫 번째 가게 클릭 후 전환되지 않음. 다음 가게로 진행\n",
            "entryIframe 로드.\n",
            "Error while navigating to reviews for 어디가코 용담점:\n"
          ]
        },
        {
          "name": "stderr",
          "output_type": "stream",
          "text": [
            " 80%|███████▉  | 796/999 [5:02:01<1:16:17, 22.55s/it]"
          ]
        },
        {
          "name": "stdout",
          "output_type": "stream",
          "text": [
            "어디가코국수: searchIframe 로드 및 프레임 전환 완료\n",
            "Error while clicking first search result for 어디가코국수: Unable to locate list container.\n"
          ]
        },
        {
          "name": "stderr",
          "output_type": "stream",
          "text": [
            " 80%|███████▉  | 797/999 [5:02:22<1:14:14, 22.05s/it]"
          ]
        },
        {
          "name": "stdout",
          "output_type": "stream",
          "text": [
            "Failed to load iframe after multiple attempts for 어디가코국수.\n",
            "crawling fatil : 어디가코국수 to fail_to_crawling\n",
            "어디가코왕갈비: searchIframe 로드 및 프레임 전환 완료\n",
            "어디가코왕갈비: entryIframe이 이미 로드됨. 클릭 없이 바로 진행\n",
            "entryIframe 로드.\n",
            "Error while navigating to reviews for 어디가코왕갈비:\n"
          ]
        },
        {
          "name": "stderr",
          "output_type": "stream",
          "text": [
            " 80%|███████▉  | 798/999 [5:02:40<1:10:27, 21.03s/it]"
          ]
        },
        {
          "name": "stdout",
          "output_type": "stream",
          "text": [
            "어랑: searchIframe 로드 및 프레임 전환 완료\n",
            "어랑: 첫 번째 가게 클릭 후 전환되지 않음. 다음 가게로 진행\n",
            "entryIframe 로드.\n",
            "Error while extracting menu/features for 어랑, div 1:\n",
            "Error while extracting menu/features for 어랑, div 2:\n"
          ]
        },
        {
          "name": "stderr",
          "output_type": "stream",
          "text": [
            " 80%|███████▉  | 799/999 [5:03:09<1:17:32, 23.26s/it]"
          ]
        },
        {
          "name": "stdout",
          "output_type": "stream",
          "text": [
            "어른이보호구역: searchIframe 로드 및 프레임 전환 완료\n",
            "어른이보호구역: entryIframe이 이미 로드됨. 클릭 없이 바로 진행\n",
            "entryIframe 로드.\n",
            "Error while extracting menu/features for 어른이보호구역, div 1:\n",
            "Error while extracting menu/features for 어른이보호구역, div 2:\n"
          ]
        },
        {
          "name": "stderr",
          "output_type": "stream",
          "text": [
            " 80%|████████  | 800/999 [5:03:30<1:15:31, 22.77s/it]"
          ]
        },
        {
          "name": "stdout",
          "output_type": "stream",
          "text": [
            "어린왕자감귤밭: searchIframe 로드 및 프레임 전환 완료\n",
            "어린왕자감귤밭: entryIframe이 이미 로드됨. 클릭 없이 바로 진행\n",
            "entryIframe 로드.\n",
            "Error while extracting menu/features for 어린왕자감귤밭, div 1:\n",
            "Error while extracting menu/features for 어린왕자감귤밭, div 2:\n"
          ]
        },
        {
          "name": "stderr",
          "output_type": "stream",
          "text": [
            " 80%|████████  | 801/999 [5:03:50<1:12:20, 21.92s/it]"
          ]
        },
        {
          "name": "stdout",
          "output_type": "stream",
          "text": [
            "어림향: searchIframe 로드 및 프레임 전환 완료\n",
            "어림향: entryIframe이 이미 로드됨. 클릭 없이 바로 진행\n",
            "entryIframe 로드.\n",
            "Error while extracting menu/features for 어림향, div 1:\n",
            "Error while extracting menu/features for 어림향, div 2:\n"
          ]
        },
        {
          "name": "stderr",
          "output_type": "stream",
          "text": [
            " 80%|████████  | 802/999 [5:04:11<1:11:11, 21.68s/it]"
          ]
        },
        {
          "name": "stdout",
          "output_type": "stream",
          "text": [
            "어매흑돼지: searchIframe 로드 및 프레임 전환 완료\n",
            "어매흑돼지: entryIframe이 이미 로드됨. 클릭 없이 바로 진행\n",
            "entryIframe 로드.\n",
            "Error while extracting menu/features for 어매흑돼지, div 1:\n",
            "Error while extracting menu/features for 어매흑돼지, div 2:\n"
          ]
        },
        {
          "name": "stderr",
          "output_type": "stream",
          "text": [
            " 80%|████████  | 803/999 [5:04:33<1:10:28, 21.58s/it]"
          ]
        },
        {
          "name": "stdout",
          "output_type": "stream",
          "text": [
            "어머니김밥: searchIframe 로드 및 프레임 전환 완료\n",
            "어머니김밥: 첫 번째 가게 클릭 후 전환되지 않음. 다음 가게로 진행\n",
            "entryIframe 로드.\n",
            "Error while extracting datalab information for 어머니김밥:\n",
            "Error while navigating to reviews for 어머니김밥:\n"
          ]
        },
        {
          "name": "stderr",
          "output_type": "stream",
          "text": [
            " 80%|████████  | 804/999 [5:04:58<1:14:09, 22.82s/it]"
          ]
        },
        {
          "name": "stdout",
          "output_type": "stream",
          "text": [
            "어머니닭집: searchIframe 로드 및 프레임 전환 완료\n",
            "어머니닭집: entryIframe이 이미 로드됨. 클릭 없이 바로 진행\n",
            "entryIframe 로드.\n",
            "Error while extracting menu/features for 어머니닭집, div 1:\n",
            "Error while extracting menu/features for 어머니닭집, div 2:\n"
          ]
        },
        {
          "name": "stderr",
          "output_type": "stream",
          "text": [
            " 81%|████████  | 805/999 [5:05:18<1:10:32, 21.82s/it]"
          ]
        },
        {
          "name": "stdout",
          "output_type": "stream",
          "text": [
            "어머니몸국: searchIframe 로드 및 프레임 전환 완료\n",
            "어머니몸국: entryIframe이 이미 로드됨. 클릭 없이 바로 진행\n",
            "entryIframe 로드.\n",
            "Error while extracting menu/features for 어머니몸국, div 1:\n",
            "Error while extracting menu/features for 어머니몸국, div 2:\n"
          ]
        },
        {
          "name": "stderr",
          "output_type": "stream",
          "text": [
            " 81%|████████  | 806/999 [5:05:39<1:09:57, 21.75s/it]"
          ]
        },
        {
          "name": "stdout",
          "output_type": "stream",
          "text": [
            "어머니빵집: searchIframe 로드 및 프레임 전환 완료\n",
            "어머니빵집: 첫 번째 가게 클릭 후 전환되지 않음. 다음 가게로 진행\n",
            "entryIframe 로드.\n",
            "Error while extracting menu/features for 어머니빵집, div 1:\n",
            "Error while extracting menu/features for 어머니빵집, div 2:\n"
          ]
        },
        {
          "name": "stderr",
          "output_type": "stream",
          "text": [
            " 81%|████████  | 807/999 [5:06:08<1:16:08, 23.79s/it]"
          ]
        },
        {
          "name": "stdout",
          "output_type": "stream",
          "text": [
            "어머니와 고등어: searchIframe 로드 및 프레임 전환 완료\n",
            "어머니와 고등어: 첫 번째 가게 클릭 후 전환되지 않음. 다음 가게로 진행\n",
            "entryIframe 로드.\n",
            "Error while extracting menu/features for 어머니와 고등어, div 1:\n",
            "Error while extracting menu/features for 어머니와 고등어, div 2:\n"
          ]
        },
        {
          "name": "stderr",
          "output_type": "stream",
          "text": [
            " 81%|████████  | 808/999 [5:06:36<1:20:01, 25.14s/it]"
          ]
        },
        {
          "name": "stdout",
          "output_type": "stream",
          "text": [
            "어머니와 장독대 서귀포점: searchIframe 로드 및 프레임 전환 완료\n",
            "Error while clicking first search result for 어머니와 장독대 서귀포점: Unable to locate list container.\n"
          ]
        },
        {
          "name": "stderr",
          "output_type": "stream",
          "text": [
            " 81%|████████  | 809/999 [5:06:58<1:16:02, 24.01s/it]"
          ]
        },
        {
          "name": "stdout",
          "output_type": "stream",
          "text": [
            "Failed to load iframe after multiple attempts for 어머니와 장독대 서귀포점.\n",
            "crawling fatil : 어머니와 장독대 서귀포점 to fail_to_crawling\n",
            "어머니와고등어: searchIframe 로드 및 프레임 전환 완료\n",
            "어머니와고등어: 첫 번째 가게 클릭 후 전환되지 않음. 다음 가게로 진행\n",
            "entryIframe 로드.\n",
            "Error while extracting menu/features for 어머니와고등어, div 1:\n",
            "Error while extracting menu/features for 어머니와고등어, div 2:\n"
          ]
        },
        {
          "name": "stderr",
          "output_type": "stream",
          "text": [
            " 81%|████████  | 810/999 [5:07:26<1:19:35, 25.27s/it]"
          ]
        },
        {
          "name": "stdout",
          "output_type": "stream",
          "text": [
            "어머니와보리밥: searchIframe 로드 및 프레임 전환 완료\n",
            "어머니와보리밥: entryIframe이 이미 로드됨. 클릭 없이 바로 진행\n",
            "entryIframe 로드.\n",
            "Error while extracting menu/features for 어머니와보리밥, div 1:\n",
            "Error while extracting menu/features for 어머니와보리밥, div 2:\n"
          ]
        },
        {
          "name": "stderr",
          "output_type": "stream",
          "text": [
            " 81%|████████  | 811/999 [5:07:47<1:15:12, 24.00s/it]"
          ]
        },
        {
          "name": "stdout",
          "output_type": "stream",
          "text": [
            "어머니와장독대: searchIframe 로드 및 프레임 전환 완료\n",
            "어머니와장독대: entryIframe이 이미 로드됨. 클릭 없이 바로 진행\n",
            "entryIframe 로드.\n",
            "Error while extracting menu/features for 어머니와장독대, div 1:\n",
            "Error while extracting menu/features for 어머니와장독대, div 2:\n"
          ]
        },
        {
          "name": "stderr",
          "output_type": "stream",
          "text": [
            " 81%|████████▏ | 812/999 [5:08:06<1:10:30, 22.62s/it]"
          ]
        },
        {
          "name": "stdout",
          "output_type": "stream",
          "text": [
            "어머니와장독대 노형점: searchIframe 로드 및 프레임 전환 완료\n",
            "Error while clicking first search result for 어머니와장독대 노형점: Unable to locate list container.\n"
          ]
        },
        {
          "name": "stderr",
          "output_type": "stream",
          "text": [
            " 81%|████████▏ | 813/999 [5:08:27<1:08:30, 22.10s/it]"
          ]
        },
        {
          "name": "stdout",
          "output_type": "stream",
          "text": [
            "Failed to load iframe after multiple attempts for 어머니와장독대 노형점.\n",
            "crawling fatil : 어머니와장독대 노형점 to fail_to_crawling\n",
            "어머니의 뜻을 담다 단지: searchIframe 로드 및 프레임 전환 완료\n",
            "어머니의 뜻을 담다 단지: entryIframe이 이미 로드됨. 클릭 없이 바로 진행\n",
            "entryIframe 로드.\n",
            "Error while extracting menu/features for 어머니의 뜻을 담다 단지, div 1:\n",
            "Error while extracting menu/features for 어머니의 뜻을 담다 단지, div 2:\n"
          ]
        },
        {
          "name": "stderr",
          "output_type": "stream",
          "text": [
            " 81%|████████▏ | 814/999 [5:08:47<1:05:41, 21.31s/it]"
          ]
        },
        {
          "name": "stdout",
          "output_type": "stream",
          "text": [
            "어머니의뜻을담다 단지: searchIframe 로드 및 프레임 전환 완료\n",
            "어머니의뜻을담다 단지: entryIframe이 이미 로드됨. 클릭 없이 바로 진행\n",
            "entryIframe 로드.\n",
            "Error while extracting menu/features for 어머니의뜻을담다 단지, div 1:\n",
            "Error while extracting menu/features for 어머니의뜻을담다 단지, div 2:\n"
          ]
        },
        {
          "name": "stderr",
          "output_type": "stream",
          "text": [
            " 82%|████████▏ | 815/999 [5:09:06<1:03:29, 20.71s/it]"
          ]
        },
        {
          "name": "stdout",
          "output_type": "stream",
          "text": [
            "어머니횟집: searchIframe 로드 및 프레임 전환 완료\n",
            "어머니횟집: 링크버튼을 찾을 수 없음. xpath 대신 다른 방법 시도\n"
          ]
        },
        {
          "name": "stderr",
          "output_type": "stream",
          "text": [
            " 82%|████████▏ | 816/999 [5:09:24<1:00:19, 19.78s/it]"
          ]
        },
        {
          "name": "stdout",
          "output_type": "stream",
          "text": [
            "Failed to load iframe after multiple attempts for 어머니횟집.\n",
            "crawling fatil : 어머니횟집 to fail_to_crawling\n",
            "어멍: searchIframe 로드 및 프레임 전환 완료\n",
            "어멍: 첫 번째 가게 클릭 후 전환되지 않음. 다음 가게로 진행\n",
            "entryIframe 로드.\n",
            "Error while extracting menu/features for 어멍, div 1:\n",
            "Error while extracting menu/features for 어멍, div 2:\n"
          ]
        },
        {
          "name": "stderr",
          "output_type": "stream",
          "text": [
            " 82%|████████▏ | 817/999 [5:09:52<1:07:51, 22.37s/it]"
          ]
        },
        {
          "name": "stdout",
          "output_type": "stream",
          "text": [
            "어멍1: searchIframe 로드 및 프레임 전환 완료\n",
            "어멍1: 첫 번째 가게 클릭 후 전환되지 않음. 다음 가게로 진행\n",
            "entryIframe 로드.\n",
            "Error while extracting menu/features for 어멍1, div 1:\n",
            "Error while extracting menu/features for 어멍1, div 2:\n"
          ]
        },
        {
          "name": "stderr",
          "output_type": "stream",
          "text": [
            " 82%|████████▏ | 818/999 [5:10:20<1:12:39, 24.08s/it]"
          ]
        },
        {
          "name": "stdout",
          "output_type": "stream",
          "text": [
            "어멍구이: searchIframe 로드 및 프레임 전환 완료\n",
            "어멍구이: 링크버튼을 찾을 수 없음. xpath 대신 다른 방법 시도\n"
          ]
        },
        {
          "name": "stderr",
          "output_type": "stream",
          "text": [
            " 82%|████████▏ | 819/999 [5:10:38<1:06:41, 22.23s/it]"
          ]
        },
        {
          "name": "stdout",
          "output_type": "stream",
          "text": [
            "Failed to load iframe after multiple attempts for 어멍구이.\n",
            "crawling fatil : 어멍구이 to fail_to_crawling\n",
            "어멍뚝배기: searchIframe 로드 및 프레임 전환 완료\n",
            "어멍뚝배기: entryIframe이 이미 로드됨. 클릭 없이 바로 진행\n",
            "entryIframe 로드.\n",
            "Error while extracting menu/features for 어멍뚝배기, div 1:\n",
            "Error while extracting menu/features for 어멍뚝배기, div 2:\n"
          ]
        },
        {
          "name": "stderr",
          "output_type": "stream",
          "text": [
            " 82%|████████▏ | 820/999 [5:10:59<1:05:30, 21.96s/it]"
          ]
        },
        {
          "name": "stdout",
          "output_type": "stream",
          "text": [
            "어멍밥상: searchIframe 로드 및 프레임 전환 완료\n",
            "어멍밥상: 첫 번째 가게 클릭 후 전환되지 않음. 다음 가게로 진행\n",
            "entryIframe 로드.\n",
            "Error while extracting menu/features for 어멍밥상, div 1:\n"
          ]
        },
        {
          "name": "stderr",
          "output_type": "stream",
          "text": [
            " 82%|████████▏ | 821/999 [5:11:23<1:07:05, 22.61s/it]"
          ]
        },
        {
          "name": "stdout",
          "output_type": "stream",
          "text": [
            "Error while extracting menu/features for 어멍밥상, div 2:\n",
            " 사진 버튼 없음 : 어멍밥상.\n",
            "어멍식당: searchIframe 로드 및 프레임 전환 완료\n",
            "어멍식당: 첫 번째 가게 클릭 후 전환되지 않음. 다음 가게로 진행\n",
            "entryIframe 로드.\n",
            "Error while extracting menu/features for 어멍식당, div 1:\n",
            "Error while extracting menu/features for 어멍식당, div 2:\n"
          ]
        },
        {
          "name": "stderr",
          "output_type": "stream",
          "text": [
            " 82%|████████▏ | 822/999 [5:11:52<1:11:40, 24.30s/it]"
          ]
        },
        {
          "name": "stdout",
          "output_type": "stream",
          "text": [
            "어멍아방: searchIframe 로드 및 프레임 전환 완료\n",
            "어멍아방: 링크버튼을 찾을 수 없음. xpath 대신 다른 방법 시도\n"
          ]
        },
        {
          "name": "stderr",
          "output_type": "stream",
          "text": [
            " 82%|████████▏ | 823/999 [5:12:09<1:05:25, 22.30s/it]"
          ]
        },
        {
          "name": "stdout",
          "output_type": "stream",
          "text": [
            "Failed to load iframe after multiple attempts for 어멍아방.\n",
            "crawling fatil : 어멍아방 to fail_to_crawling\n",
            "어멍이뽑는막국수: searchIframe 로드 및 프레임 전환 완료\n",
            "어멍이뽑는막국수: entryIframe이 이미 로드됨. 클릭 없이 바로 진행\n",
            "entryIframe 로드.\n",
            "Error while extracting menu/features for 어멍이뽑는막국수, div 1:\n",
            "Error while extracting menu/features for 어멍이뽑는막국수, div 2:\n"
          ]
        },
        {
          "name": "stderr",
          "output_type": "stream",
          "text": [
            " 82%|████████▏ | 824/999 [5:12:31<1:04:33, 22.13s/it]"
          ]
        },
        {
          "name": "stdout",
          "output_type": "stream",
          "text": [
            "어멍이해녀: searchIframe 로드 및 프레임 전환 완료\n",
            "어멍이해녀: entryIframe이 이미 로드됨. 클릭 없이 바로 진행\n",
            "entryIframe 로드.\n",
            "Error while extracting menu/features for 어멍이해녀, div 1:\n",
            "Error while extracting menu/features for 어멍이해녀, div 2:\n"
          ]
        },
        {
          "name": "stderr",
          "output_type": "stream",
          "text": [
            " 83%|████████▎ | 825/999 [5:12:50<1:01:43, 21.29s/it]"
          ]
        },
        {
          "name": "stdout",
          "output_type": "stream",
          "text": [
            "어멍정육식당: searchIframe 로드 및 프레임 전환 완료\n",
            "어멍정육식당: entryIframe이 이미 로드됨. 클릭 없이 바로 진행\n",
            "entryIframe 로드.\n",
            "Error while extracting datalab information for 어멍정육식당:\n",
            "Error while navigating to reviews for 어멍정육식당:\n"
          ]
        },
        {
          "name": "stderr",
          "output_type": "stream",
          "text": [
            " 83%|████████▎ | 826/999 [5:13:13<1:02:27, 21.66s/it]"
          ]
        },
        {
          "name": "stdout",
          "output_type": "stream",
          "text": [
            "이미지 추출 오류 5 for 어멍정육식당 \n",
            "이미지 추출 오류 6 for 어멍정육식당 \n",
            "이미지 추출 오류 7 for 어멍정육식당 \n",
            "이미지 추출 오류 8 for 어멍정육식당 \n",
            "이미지 추출 오류 9 for 어멍정육식당 \n",
            "이미지 추출 오류 10 for 어멍정육식당 \n",
            "어물전: searchIframe 로드 및 프레임 전환 완료\n",
            "어물전: 링크버튼을 찾을 수 없음. xpath 대신 다른 방법 시도\n"
          ]
        },
        {
          "name": "stderr",
          "output_type": "stream",
          "text": [
            " 83%|████████▎ | 827/999 [5:13:31<58:58, 20.57s/it]  "
          ]
        },
        {
          "name": "stdout",
          "output_type": "stream",
          "text": [
            "Failed to load iframe after multiple attempts for 어물전.\n",
            "crawling fatil : 어물전 to fail_to_crawling\n",
            "어박사: searchIframe 로드 및 프레임 전환 완료\n",
            "어박사: 첫 번째 가게 클릭 후 전환되지 않음. 다음 가게로 진행\n",
            "entryIframe 로드.\n",
            "Error while extracting menu/features for 어박사, div 1:\n"
          ]
        },
        {
          "name": "stderr",
          "output_type": "stream",
          "text": [
            " 83%|████████▎ | 828/999 [5:13:55<1:01:51, 21.71s/it]"
          ]
        },
        {
          "name": "stdout",
          "output_type": "stream",
          "text": [
            "Error while extracting menu/features for 어박사, div 2:\n",
            " 사진 버튼 없음 : 어박사.\n",
            "어박사 저지점: searchIframe 로드 및 프레임 전환 완료\n",
            "어박사 저지점: entryIframe이 이미 로드됨. 클릭 없이 바로 진행\n",
            "entryIframe 로드.\n",
            "Error while extracting menu/features for 어박사 저지점, div 1:\n",
            "Error while extracting menu/features for 어박사 저지점, div 2:\n"
          ]
        },
        {
          "name": "stderr",
          "output_type": "stream",
          "text": [
            " 83%|████████▎ | 829/999 [5:14:12<57:37, 20.34s/it]  "
          ]
        },
        {
          "name": "stdout",
          "output_type": "stream",
          "text": [
            " 사진 버튼 없음 : 어박사 저지점.\n",
            "어반 르토아: searchIframe 로드 및 프레임 전환 완료\n",
            "어반 르토아: entryIframe이 이미 로드됨. 클릭 없이 바로 진행\n",
            "entryIframe 로드.\n",
            "Error while extracting menu/features for 어반 르토아, div 1:\n"
          ]
        },
        {
          "name": "stderr",
          "output_type": "stream",
          "text": [
            " 83%|████████▎ | 830/999 [5:14:32<56:41, 20.13s/it]"
          ]
        },
        {
          "name": "stdout",
          "output_type": "stream",
          "text": [
            "Error while extracting menu/features for 어반 르토아, div 2:\n",
            " 사진 버튼 없음 : 어반 르토아.\n",
            "어반르토아: searchIframe 로드 및 프레임 전환 완료\n",
            "어반르토아: entryIframe이 이미 로드됨. 클릭 없이 바로 진행\n",
            "entryIframe 로드.\n",
            "Error while extracting menu/features for 어반르토아, div 1:\n"
          ]
        },
        {
          "name": "stderr",
          "output_type": "stream",
          "text": [
            " 83%|████████▎ | 831/999 [5:14:52<55:52, 19.95s/it]"
          ]
        },
        {
          "name": "stdout",
          "output_type": "stream",
          "text": [
            "Error while extracting menu/features for 어반르토아, div 2:\n",
            " 사진 버튼 없음 : 어반르토아.\n",
            "어반정글: searchIframe 로드 및 프레임 전환 완료\n",
            "어반정글: 첫 번째 가게 클릭 후 전환되지 않음. 다음 가게로 진행\n",
            "entryIframe 로드.\n",
            "Error while extracting datalab information for 어반정글:\n",
            "Error while navigating to reviews for 어반정글:\n"
          ]
        },
        {
          "name": "stderr",
          "output_type": "stream",
          "text": [
            " 83%|████████▎ | 832/999 [5:15:19<1:02:05, 22.31s/it]"
          ]
        },
        {
          "name": "stdout",
          "output_type": "stream",
          "text": [
            "어반정글 부얀트무드: searchIframe 로드 및 프레임 전환 완료\n",
            "Error while clicking first search result for 어반정글 부얀트무드: Unable to locate list container.\n"
          ]
        },
        {
          "name": "stderr",
          "output_type": "stream",
          "text": [
            " 83%|████████▎ | 833/999 [5:15:40<1:00:12, 21.76s/it]"
          ]
        },
        {
          "name": "stdout",
          "output_type": "stream",
          "text": [
            "Failed to load iframe after multiple attempts for 어반정글 부얀트무드.\n",
            "crawling fatil : 어반정글 부얀트무드 to fail_to_crawling\n",
            "어반정글그레이밤부: searchIframe 로드 및 프레임 전환 완료\n",
            "Error while clicking first search result for 어반정글그레이밤부: Unable to locate list container.\n"
          ]
        },
        {
          "name": "stderr",
          "output_type": "stream",
          "text": [
            " 83%|████████▎ | 834/999 [5:16:00<58:36, 21.31s/it]  "
          ]
        },
        {
          "name": "stdout",
          "output_type": "stream",
          "text": [
            "Failed to load iframe after multiple attempts for 어반정글그레이밤부.\n",
            "crawling fatil : 어반정글그레이밤부 to fail_to_crawling\n",
            "어부네코다리조림: searchIframe 로드 및 프레임 전환 완료\n",
            "어부네코다리조림: 첫 번째 가게 클릭 후 전환되지 않음. 다음 가게로 진행\n",
            "entryIframe 로드.\n",
            "Error while extracting menu/features for 어부네코다리조림, div 1:\n",
            "Error while extracting menu/features for 어부네코다리조림, div 2:\n"
          ]
        },
        {
          "name": "stderr",
          "output_type": "stream",
          "text": [
            " 84%|████████▎ | 835/999 [5:16:29<1:04:10, 23.48s/it]"
          ]
        },
        {
          "name": "stdout",
          "output_type": "stream",
          "text": [
            "어부도: searchIframe 로드 및 프레임 전환 완료\n",
            "어부도: entryIframe이 이미 로드됨. 클릭 없이 바로 진행\n",
            "entryIframe 로드.\n",
            "Error while extracting menu/features for 어부도, div 1:\n",
            "Error while extracting menu/features for 어부도, div 2:\n"
          ]
        },
        {
          "name": "stderr",
          "output_type": "stream",
          "text": [
            " 84%|████████▎ | 836/999 [5:16:50<1:01:48, 22.75s/it]"
          ]
        },
        {
          "name": "stdout",
          "output_type": "stream",
          "text": [
            "어부복지리: searchIframe 로드 및 프레임 전환 완료\n",
            "어부복지리: entryIframe이 이미 로드됨. 클릭 없이 바로 진행\n",
            "entryIframe 로드.\n",
            "Error while extracting menu/features for 어부복지리, div 1:\n",
            "Error while extracting menu/features for 어부복지리, div 2:\n"
          ]
        },
        {
          "name": "stderr",
          "output_type": "stream",
          "text": [
            " 84%|████████▍ | 837/999 [5:17:11<1:00:06, 22.26s/it]"
          ]
        },
        {
          "name": "stdout",
          "output_type": "stream",
          "text": [
            "어부와농부: searchIframe 로드 및 프레임 전환 완료\n",
            "어부와농부: 첫 번째 가게 클릭 후 전환되지 않음. 다음 가게로 진행\n",
            "entryIframe 로드.\n",
            "Error while extracting datalab information for 어부와농부:\n",
            "Error while navigating to reviews for 어부와농부:\n"
          ]
        },
        {
          "name": "stderr",
          "output_type": "stream",
          "text": [
            " 84%|████████▍ | 838/999 [5:17:37<1:02:33, 23.31s/it]"
          ]
        },
        {
          "name": "stdout",
          "output_type": "stream",
          "text": [
            "어부촌: searchIframe 로드 및 프레임 전환 완료\n",
            "어부촌: 첫 번째 가게 클릭 후 전환되지 않음. 다음 가게로 진행\n",
            "entryIframe 로드.\n",
            "Error while extracting menu/features for 어부촌, div 1:\n",
            "Error while extracting menu/features for 어부촌, div 2:\n"
          ]
        },
        {
          "name": "stderr",
          "output_type": "stream",
          "text": [
            " 84%|████████▍ | 839/999 [5:18:03<1:04:21, 24.13s/it]"
          ]
        },
        {
          "name": "stdout",
          "output_type": "stream",
          "text": [
            "어부피자: searchIframe 로드 및 프레임 전환 완료\n",
            "어부피자: 첫 번째 가게 클릭 후 전환되지 않음. 다음 가게로 진행\n",
            "entryIframe 로드.\n",
            "Error while extracting menu/features for 어부피자, div 1:\n",
            "Error while extracting menu/features for 어부피자, div 2:\n"
          ]
        },
        {
          "name": "stderr",
          "output_type": "stream",
          "text": [
            " 84%|████████▍ | 840/999 [5:18:29<1:05:32, 24.74s/it]"
          ]
        },
        {
          "name": "stdout",
          "output_type": "stream",
          "text": [
            "어사촌도야지: searchIframe 로드 및 프레임 전환 완료\n",
            "어사촌도야지: entryIframe이 이미 로드됨. 클릭 없이 바로 진행\n",
            "entryIframe 로드.\n",
            "Error while extracting menu/features for 어사촌도야지, div 1:\n",
            "Error while extracting menu/features for 어사촌도야지, div 2:\n"
          ]
        },
        {
          "name": "stderr",
          "output_type": "stream",
          "text": [
            " 84%|████████▍ | 841/999 [5:18:48<1:00:56, 23.14s/it]"
          ]
        },
        {
          "name": "stdout",
          "output_type": "stream",
          "text": [
            "어상: searchIframe 로드 및 프레임 전환 완료\n",
            "어상: 첫 번째 가게 클릭 후 전환되지 않음. 다음 가게로 진행\n",
            "entryIframe 로드.\n",
            "Error while extracting menu/features for 어상, div 1:\n",
            "Error while extracting menu/features for 어상, div 2:\n"
          ]
        },
        {
          "name": "stderr",
          "output_type": "stream",
          "text": [
            " 84%|████████▍ | 842/999 [5:19:16<1:04:26, 24.63s/it]"
          ]
        },
        {
          "name": "stdout",
          "output_type": "stream",
          "text": [
            "어쇼일식: searchIframe 로드 및 프레임 전환 완료\n",
            "어쇼일식: 첫 번째 가게 클릭 후 전환되지 않음. 다음 가게로 진행\n",
            "entryIframe 로드.\n",
            "Error while navigating to reviews for 어쇼일식:\n"
          ]
        },
        {
          "name": "stderr",
          "output_type": "stream",
          "text": [
            " 84%|████████▍ | 843/999 [5:19:44<1:06:19, 25.51s/it]"
          ]
        },
        {
          "name": "stdout",
          "output_type": "stream",
          "text": [
            "어신: searchIframe 로드 및 프레임 전환 완료\n",
            "어신: 첫 번째 가게 클릭 후 전환되지 않음. 다음 가게로 진행\n",
            "entryIframe 로드.\n",
            "Error while extracting menu/features for 어신, div 1:\n",
            "Error while extracting menu/features for 어신, div 2:\n"
          ]
        },
        {
          "name": "stderr",
          "output_type": "stream",
          "text": [
            " 84%|████████▍ | 844/999 [5:20:12<1:08:07, 26.37s/it]"
          ]
        },
        {
          "name": "stdout",
          "output_type": "stream",
          "text": [
            "어애랑: searchIframe 로드 및 프레임 전환 완료\n",
            "어애랑: entryIframe이 이미 로드됨. 클릭 없이 바로 진행\n",
            "entryIframe 로드.\n",
            "Error while extracting menu/features for 어애랑, div 1:\n",
            "Error while extracting menu/features for 어애랑, div 2:\n"
          ]
        },
        {
          "name": "stderr",
          "output_type": "stream",
          "text": [
            " 85%|████████▍ | 845/999 [5:20:34<1:04:00, 24.94s/it]"
          ]
        },
        {
          "name": "stdout",
          "output_type": "stream",
          "text": [
            "어업회사법인 제주수협유통 주식회사 제주바다만찬 씨: searchIframe 로드 및 프레임 전환 완료\n",
            "Error while clicking first search result for 어업회사법인 제주수협유통 주식회사 제주바다만찬 씨: Unable to locate list container.\n"
          ]
        },
        {
          "name": "stderr",
          "output_type": "stream",
          "text": [
            " 85%|████████▍ | 846/999 [5:20:55<1:00:25, 23.70s/it]"
          ]
        },
        {
          "name": "stdout",
          "output_type": "stream",
          "text": [
            "Failed to load iframe after multiple attempts for 어업회사법인 제주수협유통 주식회사 제주바다만찬 씨.\n",
            "crawling fatil : 어업회사법인 제주수협유통 주식회사 제주바다만찬 씨 to fail_to_crawling\n",
            "어영해녀촌원: searchIframe 로드 및 프레임 전환 완료\n",
            "어영해녀촌원: entryIframe이 이미 로드됨. 클릭 없이 바로 진행\n",
            "entryIframe 로드.\n",
            "Error while extracting datalab information for 어영해녀촌원:\n",
            "Error while extracting menu/features for 어영해녀촌원, div 1:\n",
            "Error while extracting menu/features for 어영해녀촌원, div 2:\n"
          ]
        },
        {
          "name": "stderr",
          "output_type": "stream",
          "text": [
            " 85%|████████▍ | 847/999 [5:21:16<58:08, 22.95s/it]  "
          ]
        },
        {
          "name": "stdout",
          "output_type": "stream",
          "text": [
            "어왔니: searchIframe 로드 및 프레임 전환 완료\n",
            "어왔니: entryIframe이 이미 로드됨. 클릭 없이 바로 진행\n",
            "entryIframe 로드.\n",
            "Error while extracting menu/features for 어왔니, div 1:\n",
            "Error while navigating to reviews for 어왔니:\n"
          ]
        },
        {
          "name": "stderr",
          "output_type": "stream",
          "text": [
            " 85%|████████▍ | 848/999 [5:21:37<56:28, 22.44s/it]"
          ]
        },
        {
          "name": "stdout",
          "output_type": "stream",
          "text": [
            "어우늘: searchIframe 로드 및 프레임 전환 완료\n",
            "어우늘: entryIframe이 이미 로드됨. 클릭 없이 바로 진행\n",
            "entryIframe 로드.\n",
            "Error while extracting menu/features for 어우늘, div 1:\n",
            "Error while extracting menu/features for 어우늘, div 2:\n"
          ]
        },
        {
          "name": "stderr",
          "output_type": "stream",
          "text": [
            " 85%|████████▍ | 849/999 [5:21:57<53:46, 21.51s/it]"
          ]
        },
        {
          "name": "stdout",
          "output_type": "stream",
          "text": [
            "어우렁더우렁: searchIframe 로드 및 프레임 전환 완료\n",
            "어우렁더우렁: 첫 번째 가게 클릭 후 전환되지 않음. 다음 가게로 진행\n",
            "entryIframe 로드.\n",
            "Error while extracting datalab information for 어우렁더우렁:\n",
            "Error while extracting menu/features for 어우렁더우렁, div 1:\n",
            "Error while extracting menu/features for 어우렁더우렁, div 2:\n"
          ]
        },
        {
          "name": "stderr",
          "output_type": "stream",
          "text": [
            " 85%|████████▌ | 850/999 [5:22:24<58:09, 23.42s/it]"
          ]
        },
        {
          "name": "stdout",
          "output_type": "stream",
          "text": [
            "어음밥집: searchIframe 로드 및 프레임 전환 완료\n",
            "어음밥집: entryIframe이 이미 로드됨. 클릭 없이 바로 진행\n",
            "entryIframe 로드.\n",
            "Error while extracting menu/features for 어음밥집, div 1:\n",
            "Error while extracting menu/features for 어음밥집, div 2:\n"
          ]
        },
        {
          "name": "stderr",
          "output_type": "stream",
          "text": [
            " 85%|████████▌ | 851/999 [5:22:46<56:09, 22.77s/it]"
          ]
        },
        {
          "name": "stdout",
          "output_type": "stream",
          "text": [
            "어장관리: searchIframe 로드 및 프레임 전환 완료\n",
            "어장관리: 첫 번째 가게 클릭 후 전환되지 않음. 다음 가게로 진행\n",
            "entryIframe 로드.\n",
            "Error while extracting menu/features for 어장관리, div 1:\n",
            "Error while extracting menu/features for 어장관리, div 2:\n"
          ]
        },
        {
          "name": "stderr",
          "output_type": "stream",
          "text": [
            " 85%|████████▌ | 852/999 [5:23:14<1:00:06, 24.53s/it]"
          ]
        },
        {
          "name": "stdout",
          "output_type": "stream",
          "text": [
            "어장군: searchIframe 로드 및 프레임 전환 완료\n",
            "어장군: 첫 번째 가게 클릭 후 전환되지 않음. 다음 가게로 진행\n",
            "entryIframe 로드.\n",
            "Error while extracting menu/features for 어장군, div 1:\n",
            "Error while extracting menu/features for 어장군, div 2:\n"
          ]
        },
        {
          "name": "stderr",
          "output_type": "stream",
          "text": [
            " 85%|████████▌ | 853/999 [5:23:41<1:01:09, 25.13s/it]"
          ]
        },
        {
          "name": "stdout",
          "output_type": "stream",
          "text": [
            "어전횟집: searchIframe 로드 및 프레임 전환 완료\n",
            "어전횟집: 첫 번째 가게 클릭 후 전환되지 않음. 다음 가게로 진행\n",
            "entryIframe 로드.\n",
            "Error while extracting menu/features for 어전횟집, div 1:\n",
            "Error while extracting menu/features for 어전횟집, div 2:\n"
          ]
        },
        {
          "name": "stderr",
          "output_type": "stream",
          "text": [
            " 85%|████████▌ | 854/999 [5:24:09<1:03:00, 26.08s/it]"
          ]
        },
        {
          "name": "stdout",
          "output_type": "stream",
          "text": [
            "어제보다오늘: searchIframe 로드 및 프레임 전환 완료\n",
            "어제보다오늘: 첫 번째 가게 클릭 후 전환되지 않음. 다음 가게로 진행\n",
            "entryIframe 로드.\n",
            "Error while extracting menu/features for 어제보다오늘, div 1:\n",
            "Error while extracting menu/features for 어제보다오늘, div 2:\n"
          ]
        },
        {
          "name": "stderr",
          "output_type": "stream",
          "text": [
            " 86%|████████▌ | 855/999 [5:24:35<1:02:48, 26.17s/it]"
          ]
        },
        {
          "name": "stdout",
          "output_type": "stream",
          "text": [
            "어조횟집: searchIframe 로드 및 프레임 전환 완료\n",
            "어조횟집: entryIframe이 이미 로드됨. 클릭 없이 바로 진행\n",
            "entryIframe 로드.\n",
            "Error while extracting menu/features for 어조횟집, div 1:\n"
          ]
        },
        {
          "name": "stderr",
          "output_type": "stream",
          "text": [
            " 86%|████████▌ | 856/999 [5:24:53<55:52, 23.45s/it]  "
          ]
        },
        {
          "name": "stdout",
          "output_type": "stream",
          "text": [
            "Error while extracting menu/features for 어조횟집, div 2:\n",
            " 사진 버튼 없음 : 어조횟집.\n",
            "어진식당: searchIframe 로드 및 프레임 전환 완료\n",
            "어진식당: 첫 번째 가게 클릭 후 전환되지 않음. 다음 가게로 진행\n",
            "entryIframe 로드.\n",
            "Error while extracting menu/features for 어진식당, div 1:\n"
          ]
        },
        {
          "name": "stderr",
          "output_type": "stream",
          "text": [
            " 86%|████████▌ | 857/999 [5:25:17<56:27, 23.85s/it]"
          ]
        },
        {
          "name": "stdout",
          "output_type": "stream",
          "text": [
            "Error while extracting menu/features for 어진식당, div 2:\n",
            " 사진 버튼 없음 : 어진식당.\n",
            "어진이네 횟집: searchIframe 로드 및 프레임 전환 완료\n",
            "어진이네 횟집: entryIframe이 이미 로드됨. 클릭 없이 바로 진행\n",
            "entryIframe 로드.\n",
            "Error while extracting menu/features for 어진이네 횟집, div 1:\n",
            "Error while extracting menu/features for 어진이네 횟집, div 2:\n"
          ]
        },
        {
          "name": "stderr",
          "output_type": "stream",
          "text": [
            " 86%|████████▌ | 858/999 [5:25:39<54:15, 23.09s/it]"
          ]
        },
        {
          "name": "stdout",
          "output_type": "stream",
          "text": [
            "어진이네 횟집(중복 콘텐츠로 미공개 처리): searchIframe 로드 및 프레임 전환 완료\n",
            "Error while clicking first search result for 어진이네 횟집(중복 콘텐츠로 미공개 처리): Unable to locate list container.\n"
          ]
        },
        {
          "name": "stderr",
          "output_type": "stream",
          "text": [
            " 86%|████████▌ | 859/999 [5:26:00<52:18, 22.42s/it]"
          ]
        },
        {
          "name": "stdout",
          "output_type": "stream",
          "text": [
            "Failed to load iframe after multiple attempts for 어진이네 횟집(중복 콘텐츠로 미공개 처리).\n",
            "crawling fatil : 어진이네 횟집(중복 콘텐츠로 미공개 처리) to fail_to_crawling\n",
            "어진이네물회: searchIframe 로드 및 프레임 전환 완료\n",
            "어진이네물회: entryIframe이 이미 로드됨. 클릭 없이 바로 진행\n",
            "entryIframe 로드.\n",
            "Error while extracting menu/features for 어진이네물회, div 1:\n",
            "Error while extracting menu/features for 어진이네물회, div 2:\n"
          ]
        },
        {
          "name": "stderr",
          "output_type": "stream",
          "text": [
            " 86%|████████▌ | 860/999 [5:26:21<51:28, 22.22s/it]"
          ]
        },
        {
          "name": "stdout",
          "output_type": "stream",
          "text": [
            "어진이네횟집: searchIframe 로드 및 프레임 전환 완료\n",
            "어진이네횟집: entryIframe이 이미 로드됨. 클릭 없이 바로 진행\n",
            "entryIframe 로드.\n",
            "Error while extracting menu/features for 어진이네횟집, div 1:\n",
            "Error while extracting menu/features for 어진이네횟집, div 2:\n"
          ]
        },
        {
          "name": "stderr",
          "output_type": "stream",
          "text": [
            " 86%|████████▌ | 861/999 [5:26:45<51:52, 22.56s/it]"
          ]
        },
        {
          "name": "stdout",
          "output_type": "stream",
          "text": [
            "어쭈구리: searchIframe 로드 및 프레임 전환 완료\n",
            "어쭈구리: 첫 번째 가게 클릭 후 전환되지 않음. 다음 가게로 진행\n",
            "entryIframe 로드.\n",
            "Error while extracting datalab information for 어쭈구리:\n"
          ]
        },
        {
          "name": "stderr",
          "output_type": "stream",
          "text": [
            " 86%|████████▋ | 862/999 [5:27:13<55:09, 24.16s/it]"
          ]
        },
        {
          "name": "stdout",
          "output_type": "stream",
          "text": [
            "이미지 추출 오류 7 for 어쭈구리 \n",
            "이미지 추출 오류 8 for 어쭈구리 \n",
            "이미지 추출 오류 9 for 어쭈구리 \n",
            "이미지 추출 오류 10 for 어쭈구리 \n",
            "어촌계회센타: searchIframe 로드 및 프레임 전환 완료\n",
            "어촌계회센타: 첫 번째 가게 클릭 후 전환되지 않음. 다음 가게로 진행\n",
            "entryIframe 로드.\n",
            "Error while extracting menu/features for 어촌계회센타, div 1:\n",
            "Error while extracting menu/features for 어촌계회센타, div 2:\n"
          ]
        },
        {
          "name": "stderr",
          "output_type": "stream",
          "text": [
            " 86%|████████▋ | 863/999 [5:27:41<57:32, 25.39s/it]"
          ]
        },
        {
          "name": "stdout",
          "output_type": "stream",
          "text": [
            "어피니티: searchIframe 로드 및 프레임 전환 완료\n",
            "어피니티: 첫 번째 가게 클릭 후 전환되지 않음. 다음 가게로 진행\n",
            "entryIframe 로드.\n",
            "Error while extracting datalab information for 어피니티:\n",
            "Error while navigating to reviews for 어피니티:\n"
          ]
        },
        {
          "name": "stderr",
          "output_type": "stream",
          "text": [
            " 86%|████████▋ | 864/999 [5:28:07<57:30, 25.56s/it]"
          ]
        },
        {
          "name": "stdout",
          "output_type": "stream",
          "text": [
            "이미지 추출 오류 7 for 어피니티 \n",
            "이미지 추출 오류 8 for 어피니티 \n",
            "이미지 추출 오류 9 for 어피니티 \n",
            "이미지 추출 오류 10 for 어피니티 \n",
            "어하영: searchIframe 로드 및 프레임 전환 완료\n",
            "어하영: entryIframe이 이미 로드됨. 클릭 없이 바로 진행\n",
            "entryIframe 로드.\n",
            "Error while extracting menu/features for 어하영, div 1:\n",
            "Error while extracting menu/features for 어하영, div 2:\n"
          ]
        },
        {
          "name": "stderr",
          "output_type": "stream",
          "text": [
            " 87%|████████▋ | 865/999 [5:28:28<54:13, 24.28s/it]"
          ]
        },
        {
          "name": "stdout",
          "output_type": "stream",
          "text": [
            "억소리갈비: searchIframe 로드 및 프레임 전환 완료\n",
            "억소리갈비: entryIframe이 이미 로드됨. 클릭 없이 바로 진행\n",
            "entryIframe 로드.\n",
            "Error while extracting menu/features for 억소리갈비, div 1:\n",
            "Error while extracting menu/features for 억소리갈비, div 2:\n"
          ]
        },
        {
          "name": "stderr",
          "output_type": "stream",
          "text": [
            " 87%|████████▋ | 866/999 [5:28:49<51:45, 23.35s/it]"
          ]
        },
        {
          "name": "stdout",
          "output_type": "stream",
          "text": [
            "언니네: searchIframe 로드 및 프레임 전환 완료\n",
            "언니네: 링크버튼을 찾을 수 없음. xpath 대신 다른 방법 시도\n"
          ]
        },
        {
          "name": "stderr",
          "output_type": "stream",
          "text": [
            " 87%|████████▋ | 867/999 [5:29:07<47:47, 21.72s/it]"
          ]
        },
        {
          "name": "stdout",
          "output_type": "stream",
          "text": [
            "Failed to load iframe after multiple attempts for 언니네.\n",
            "crawling fatil : 언니네 to fail_to_crawling\n",
            "언니식탁: searchIframe 로드 및 프레임 전환 완료\n",
            "언니식탁: 첫 번째 가게 클릭 후 전환되지 않음. 다음 가게로 진행\n",
            "entryIframe 로드.\n",
            "Error while extracting menu/features for 언니식탁, div 1:\n",
            "Error while extracting menu/features for 언니식탁, div 2:\n"
          ]
        },
        {
          "name": "stderr",
          "output_type": "stream",
          "text": [
            " 87%|████████▋ | 868/999 [5:29:33<50:20, 23.06s/it]"
          ]
        },
        {
          "name": "stdout",
          "output_type": "stream",
          "text": [
            "언더라운지함덕점: searchIframe 로드 및 프레임 전환 완료\n",
            "언더라운지함덕점: entryIframe이 이미 로드됨. 클릭 없이 바로 진행\n",
            "entryIframe 로드.\n",
            "Error while extracting menu/features for 언더라운지함덕점, div 1:\n",
            "Error while extracting menu/features for 언더라운지함덕점, div 2:\n"
          ]
        },
        {
          "name": "stderr",
          "output_type": "stream",
          "text": [
            " 87%|████████▋ | 869/999 [5:29:52<47:21, 21.86s/it]"
          ]
        },
        {
          "name": "stdout",
          "output_type": "stream",
          "text": [
            "언플러그: searchIframe 로드 및 프레임 전환 완료\n",
            "언플러그: 링크버튼을 찾을 수 없음. xpath 대신 다른 방법 시도\n"
          ]
        },
        {
          "name": "stderr",
          "output_type": "stream",
          "text": [
            " 87%|████████▋ | 870/999 [5:30:10<44:33, 20.73s/it]"
          ]
        },
        {
          "name": "stdout",
          "output_type": "stream",
          "text": [
            "Failed to load iframe after multiple attempts for 언플러그.\n",
            "crawling fatil : 언플러그 to fail_to_crawling\n",
            "얼큰시원콩나물국밥: searchIframe 로드 및 프레임 전환 완료\n",
            "얼큰시원콩나물국밥: entryIframe이 이미 로드됨. 클릭 없이 바로 진행\n",
            "entryIframe 로드.\n",
            "Error while extracting menu/features for 얼큰시원콩나물국밥, div 1:\n",
            "Error while extracting menu/features for 얼큰시원콩나물국밥, div 2:\n"
          ]
        },
        {
          "name": "stderr",
          "output_type": "stream",
          "text": [
            " 87%|████████▋ | 871/999 [5:30:32<44:33, 20.89s/it]"
          ]
        },
        {
          "name": "stdout",
          "output_type": "stream",
          "text": [
            "얼큰이: searchIframe 로드 및 프레임 전환 완료\n",
            "얼큰이: 첫 번째 가게 클릭 후 전환되지 않음. 다음 가게로 진행\n",
            "entryIframe 로드.\n",
            "Error while extracting menu/features for 얼큰이, div 1:\n",
            "Error while extracting menu/features for 얼큰이, div 2:\n"
          ]
        },
        {
          "name": "stderr",
          "output_type": "stream",
          "text": [
            " 87%|████████▋ | 872/999 [5:31:00<48:41, 23.01s/it]"
          ]
        },
        {
          "name": "stdout",
          "output_type": "stream",
          "text": [
            "엄마가 차린밥상노형점: searchIframe 로드 및 프레임 전환 완료\n",
            "Error while clicking first search result for 엄마가 차린밥상노형점: Unable to locate list container.\n"
          ]
        },
        {
          "name": "stderr",
          "output_type": "stream",
          "text": [
            " 87%|████████▋ | 873/999 [5:31:20<46:33, 22.17s/it]"
          ]
        },
        {
          "name": "stdout",
          "output_type": "stream",
          "text": [
            "Failed to load iframe after multiple attempts for 엄마가 차린밥상노형점.\n",
            "crawling fatil : 엄마가 차린밥상노형점 to fail_to_crawling\n",
            "엄마가차린밥상: searchIframe 로드 및 프레임 전환 완료\n",
            "엄마가차린밥상: 첫 번째 가게 클릭 후 전환되지 않음. 다음 가게로 진행\n",
            "entryIframe 로드.\n",
            "Error while extracting datalab information for 엄마가차린밥상:\n",
            "Error while navigating to reviews for 엄마가차린밥상:\n"
          ]
        },
        {
          "name": "stderr",
          "output_type": "stream",
          "text": [
            " 87%|████████▋ | 874/999 [5:31:45<48:15, 23.17s/it]"
          ]
        },
        {
          "name": "stdout",
          "output_type": "stream",
          "text": [
            "엄마뼈해장국: searchIframe 로드 및 프레임 전환 완료\n",
            "엄마뼈해장국: 링크버튼을 찾을 수 없음. xpath 대신 다른 방법 시도\n"
          ]
        },
        {
          "name": "stderr",
          "output_type": "stream",
          "text": [
            " 88%|████████▊ | 875/999 [5:32:03<44:37, 21.59s/it]"
          ]
        },
        {
          "name": "stdout",
          "output_type": "stream",
          "text": [
            "Failed to load iframe after multiple attempts for 엄마뼈해장국.\n",
            "crawling fatil : 엄마뼈해장국 to fail_to_crawling\n",
            "엄마손국수: searchIframe 로드 및 프레임 전환 완료\n",
            "엄마손국수: 링크버튼을 찾을 수 없음. xpath 대신 다른 방법 시도\n"
          ]
        },
        {
          "name": "stderr",
          "output_type": "stream",
          "text": [
            " 88%|████████▊ | 876/999 [5:32:22<42:14, 20.60s/it]"
          ]
        },
        {
          "name": "stdout",
          "output_type": "stream",
          "text": [
            "Failed to load iframe after multiple attempts for 엄마손국수.\n",
            "crawling fatil : 엄마손국수 to fail_to_crawling\n",
            "엄마손맛: searchIframe 로드 및 프레임 전환 완료\n",
            "엄마손맛: 링크버튼을 찾을 수 없음. xpath 대신 다른 방법 시도\n"
          ]
        },
        {
          "name": "stderr",
          "output_type": "stream",
          "text": [
            " 88%|████████▊ | 877/999 [5:32:40<40:17, 19.82s/it]"
          ]
        },
        {
          "name": "stdout",
          "output_type": "stream",
          "text": [
            "Failed to load iframe after multiple attempts for 엄마손맛.\n",
            "crawling fatil : 엄마손맛 to fail_to_crawling\n",
            "엄마순대국: searchIframe 로드 및 프레임 전환 완료\n",
            "엄마순대국: 첫 번째 가게 클릭 후 전환되지 않음. 다음 가게로 진행\n",
            "entryIframe 로드.\n",
            "Error while extracting menu/features for 엄마순대국, div 1:\n",
            "Error while extracting menu/features for 엄마순대국, div 2:\n"
          ]
        },
        {
          "name": "stderr",
          "output_type": "stream",
          "text": [
            " 88%|████████▊ | 878/999 [5:33:08<45:07, 22.37s/it]"
          ]
        },
        {
          "name": "stdout",
          "output_type": "stream",
          "text": [
            "엄마순대국2호점: searchIframe 로드 및 프레임 전환 완료\n",
            "엄마순대국2호점: entryIframe이 이미 로드됨. 클릭 없이 바로 진행\n",
            "entryIframe 로드.\n",
            "Error while extracting menu/features for 엄마순대국2호점, div 1:\n",
            "Error while extracting menu/features for 엄마순대국2호점, div 2:\n"
          ]
        },
        {
          "name": "stderr",
          "output_type": "stream",
          "text": [
            " 88%|████████▊ | 879/999 [5:33:29<44:06, 22.05s/it]"
          ]
        },
        {
          "name": "stdout",
          "output_type": "stream",
          "text": [
            "엄마표밥상: searchIframe 로드 및 프레임 전환 완료\n",
            "엄마표밥상: entryIframe이 이미 로드됨. 클릭 없이 바로 진행\n",
            "entryIframe 로드.\n",
            "Error while extracting menu/features for 엄마표밥상, div 1:\n",
            "Error while extracting menu/features for 엄마표밥상, div 2:\n"
          ]
        },
        {
          "name": "stderr",
          "output_type": "stream",
          "text": [
            " 88%|████████▊ | 880/999 [5:33:50<43:10, 21.77s/it]"
          ]
        },
        {
          "name": "stdout",
          "output_type": "stream",
          "text": [
            "엄바위: searchIframe 로드 및 프레임 전환 완료\n",
            "엄바위: 링크버튼을 찾을 수 없음. xpath 대신 다른 방법 시도\n"
          ]
        },
        {
          "name": "stderr",
          "output_type": "stream",
          "text": [
            " 88%|████████▊ | 881/999 [5:34:08<40:32, 20.61s/it]"
          ]
        },
        {
          "name": "stdout",
          "output_type": "stream",
          "text": [
            "Failed to load iframe after multiple attempts for 엄바위.\n",
            "crawling fatil : 엄바위 to fail_to_crawling\n",
            "엄부랑: searchIframe 로드 및 프레임 전환 완료\n",
            "엄부랑: 링크버튼을 찾을 수 없음. xpath 대신 다른 방법 시도\n"
          ]
        },
        {
          "name": "stderr",
          "output_type": "stream",
          "text": [
            " 88%|████████▊ | 882/999 [5:34:26<38:21, 19.67s/it]"
          ]
        },
        {
          "name": "stdout",
          "output_type": "stream",
          "text": [
            "Failed to load iframe after multiple attempts for 엄부랑.\n",
            "crawling fatil : 엄부랑 to fail_to_crawling\n",
            "엄블랑: searchIframe 로드 및 프레임 전환 완료\n",
            "엄블랑: 링크버튼을 찾을 수 없음. xpath 대신 다른 방법 시도\n"
          ]
        },
        {
          "name": "stderr",
          "output_type": "stream",
          "text": [
            " 88%|████████▊ | 883/999 [5:34:44<37:01, 19.15s/it]"
          ]
        },
        {
          "name": "stdout",
          "output_type": "stream",
          "text": [
            "Failed to load iframe after multiple attempts for 엄블랑.\n",
            "crawling fatil : 엄블랑 to fail_to_crawling\n",
            "엄지족발: searchIframe 로드 및 프레임 전환 완료\n",
            "엄지족발: 첫 번째 가게 클릭 후 전환되지 않음. 다음 가게로 진행\n",
            "entryIframe 로드.\n",
            "Error while extracting datalab information for 엄지족발:\n",
            "Error while navigating to reviews for 엄지족발:\n"
          ]
        },
        {
          "name": "stderr",
          "output_type": "stream",
          "text": [
            " 88%|████████▊ | 884/999 [5:35:11<41:35, 21.70s/it]"
          ]
        },
        {
          "name": "stdout",
          "output_type": "stream",
          "text": [
            "이미지 추출 오류 5 for 엄지족발 \n",
            "이미지 추출 오류 6 for 엄지족발 \n",
            "이미지 추출 오류 7 for 엄지족발 \n",
            "이미지 추출 오류 8 for 엄지족발 \n",
            "이미지 추출 오류 9 for 엄지족발 \n",
            "이미지 추출 오류 10 for 엄지족발 \n",
            "엄지흑돼지: searchIframe 로드 및 프레임 전환 완료\n",
            "엄지흑돼지: 첫 번째 가게 클릭 후 전환되지 않음. 다음 가게로 진행\n",
            "entryIframe 로드.\n",
            "Error while extracting menu/features for 엄지흑돼지, div 1:\n",
            "Error while extracting menu/features for 엄지흑돼지, div 2:\n"
          ]
        },
        {
          "name": "stderr",
          "output_type": "stream",
          "text": [
            " 89%|████████▊ | 885/999 [5:35:38<44:00, 23.16s/it]"
          ]
        },
        {
          "name": "stdout",
          "output_type": "stream",
          "text": [
            "엉덩물: searchIframe 로드 및 프레임 전환 완료\n",
            "엉덩물: 첫 번째 가게 클릭 후 전환되지 않음. 다음 가게로 진행\n",
            "entryIframe 로드.\n",
            "Error while extracting menu/features for 엉덩물, div 1:\n",
            "Error while extracting menu/features for 엉덩물, div 2:\n"
          ]
        },
        {
          "name": "stderr",
          "output_type": "stream",
          "text": [
            " 89%|████████▊ | 886/999 [5:36:06<46:27, 24.67s/it]"
          ]
        },
        {
          "name": "stdout",
          "output_type": "stream",
          "text": [
            "엉덩물횟집: searchIframe 로드 및 프레임 전환 완료\n",
            "엉덩물횟집: entryIframe이 이미 로드됨. 클릭 없이 바로 진행\n",
            "entryIframe 로드.\n",
            "Error while extracting menu/features for 엉덩물횟집, div 1:\n",
            "Error while extracting menu/features for 엉덩물횟집, div 2:\n"
          ]
        },
        {
          "name": "stderr",
          "output_type": "stream",
          "text": [
            " 89%|████████▉ | 887/999 [5:36:26<43:10, 23.13s/it]"
          ]
        },
        {
          "name": "stdout",
          "output_type": "stream",
          "text": [
            "엉또 고깃집: searchIframe 로드 및 프레임 전환 완료\n",
            "엉또 고깃집: 첫 번째 가게 클릭 후 전환되지 않음. 다음 가게로 진행\n",
            "entryIframe 로드.\n",
            "Error while extracting menu/features for 엉또 고깃집, div 1:\n",
            "Error while extracting menu/features for 엉또 고깃집, div 2:\n"
          ]
        },
        {
          "name": "stderr",
          "output_type": "stream",
          "text": [
            " 89%|████████▉ | 888/999 [5:36:52<44:25, 24.02s/it]"
          ]
        },
        {
          "name": "stdout",
          "output_type": "stream",
          "text": [
            "엉또민속주점: searchIframe 로드 및 프레임 전환 완료\n",
            "엉또민속주점: entryIframe이 이미 로드됨. 클릭 없이 바로 진행\n",
            "entryIframe 로드.\n",
            "Error while extracting menu/features for 엉또민속주점, div 1:\n",
            "Error while extracting menu/features for 엉또민속주점, div 2:\n"
          ]
        },
        {
          "name": "stderr",
          "output_type": "stream",
          "text": [
            " 89%|████████▉ | 889/999 [5:37:11<41:22, 22.57s/it]"
          ]
        },
        {
          "name": "stdout",
          "output_type": "stream",
          "text": [
            "엉또산장: searchIframe 로드 및 프레임 전환 완료\n",
            "엉또산장: entryIframe이 이미 로드됨. 클릭 없이 바로 진행\n",
            "entryIframe 로드.\n",
            "Error while navigating to reviews for 엉또산장:\n"
          ]
        },
        {
          "name": "stderr",
          "output_type": "stream",
          "text": [
            " 89%|████████▉ | 890/999 [5:37:30<39:01, 21.48s/it]"
          ]
        },
        {
          "name": "stdout",
          "output_type": "stream",
          "text": [
            "엉또올레차이나타운: searchIframe 로드 및 프레임 전환 완료\n",
            "엉또올레차이나타운: entryIframe이 이미 로드됨. 클릭 없이 바로 진행\n",
            "entryIframe 로드.\n",
            "Error while extracting menu/features for 엉또올레차이나타운, div 1:\n",
            "Error while extracting menu/features for 엉또올레차이나타운, div 2:\n"
          ]
        },
        {
          "name": "stderr",
          "output_type": "stream",
          "text": [
            " 89%|████████▉ | 891/999 [5:37:52<38:45, 21.53s/it]"
          ]
        },
        {
          "name": "stdout",
          "output_type": "stream",
          "text": [
            "엉또토종닭샤브샤브: searchIframe 로드 및 프레임 전환 완료\n",
            "엉또토종닭샤브샤브: entryIframe이 이미 로드됨. 클릭 없이 바로 진행\n",
            "entryIframe 로드.\n",
            "Error while extracting menu/features for 엉또토종닭샤브샤브, div 1:\n",
            "Error while extracting menu/features for 엉또토종닭샤브샤브, div 2:\n"
          ]
        },
        {
          "name": "stderr",
          "output_type": "stream",
          "text": [
            " 89%|████████▉ | 892/999 [5:38:12<38:06, 21.37s/it]"
          ]
        },
        {
          "name": "stdout",
          "output_type": "stream",
          "text": [
            "엉클망고: searchIframe 로드 및 프레임 전환 완료\n",
            "엉클망고: entryIframe이 이미 로드됨. 클릭 없이 바로 진행\n",
            "entryIframe 로드.\n",
            "Error while extracting menu/features for 엉클망고, div 1:\n",
            "Error while navigating to reviews for 엉클망고:\n"
          ]
        },
        {
          "name": "stderr",
          "output_type": "stream",
          "text": [
            " 89%|████████▉ | 893/999 [5:38:33<37:32, 21.25s/it]"
          ]
        },
        {
          "name": "stdout",
          "output_type": "stream",
          "text": [
            "엉클통김밥 노형점: searchIframe 로드 및 프레임 전환 완료\n",
            "Error while clicking first search result for 엉클통김밥 노형점: Unable to locate list container.\n"
          ]
        },
        {
          "name": "stderr",
          "output_type": "stream",
          "text": [
            " 89%|████████▉ | 894/999 [5:38:55<37:13, 21.27s/it]"
          ]
        },
        {
          "name": "stdout",
          "output_type": "stream",
          "text": [
            "Failed to load iframe after multiple attempts for 엉클통김밥 노형점.\n",
            "crawling fatil : 엉클통김밥 노형점 to fail_to_crawling\n",
            "엉클통김밥 법환점: searchIframe 로드 및 프레임 전환 완료\n",
            "엉클통김밥 법환점: entryIframe이 이미 로드됨. 클릭 없이 바로 진행\n",
            "entryIframe 로드.\n",
            "Error while extracting menu/features for 엉클통김밥 법환점, div 1:\n",
            "Error while extracting menu/features for 엉클통김밥 법환점, div 2:\n"
          ]
        },
        {
          "name": "stderr",
          "output_type": "stream",
          "text": [
            " 90%|████████▉ | 895/999 [5:39:17<37:10, 21.45s/it]"
          ]
        },
        {
          "name": "stdout",
          "output_type": "stream",
          "text": [
            "엉클통김밥(본점): searchIframe 로드 및 프레임 전환 완료\n",
            "Error while clicking first search result for 엉클통김밥(본점): Unable to locate list container.\n"
          ]
        },
        {
          "name": "stderr",
          "output_type": "stream",
          "text": [
            " 90%|████████▉ | 896/999 [5:39:37<36:30, 21.27s/it]"
          ]
        },
        {
          "name": "stdout",
          "output_type": "stream",
          "text": [
            "Failed to load iframe after multiple attempts for 엉클통김밥(본점).\n",
            "crawling fatil : 엉클통김밥(본점) to fail_to_crawling\n",
            "엉클프레즐하우스: searchIframe 로드 및 프레임 전환 완료\n",
            "엉클프레즐하우스: entryIframe이 이미 로드됨. 클릭 없이 바로 진행\n",
            "entryIframe 로드.\n",
            "Error while extracting menu/features for 엉클프레즐하우스, div 1:\n",
            "Error while extracting menu/features for 엉클프레즐하우스, div 2:\n"
          ]
        },
        {
          "name": "stderr",
          "output_type": "stream",
          "text": [
            " 90%|████████▉ | 897/999 [5:39:57<35:12, 20.71s/it]"
          ]
        },
        {
          "name": "stdout",
          "output_type": "stream",
          "text": [
            "엉터리해장국: searchIframe 로드 및 프레임 전환 완료\n",
            "엉터리해장국: 첫 번째 가게 클릭 후 전환되지 않음. 다음 가게로 진행\n",
            "entryIframe 로드.\n",
            "Error while extracting menu/features for 엉터리해장국, div 1:\n",
            "Error while extracting menu/features for 엉터리해장국, div 2:\n"
          ]
        },
        {
          "name": "stderr",
          "output_type": "stream",
          "text": [
            " 90%|████████▉ | 898/999 [5:40:26<38:51, 23.09s/it]"
          ]
        },
        {
          "name": "stdout",
          "output_type": "stream",
          "text": [
            "에그드랍 제주공항점: searchIframe 로드 및 프레임 전환 완료\n",
            "에그드랍 제주공항점: 링크버튼을 찾을 수 없음. xpath 대신 다른 방법 시도\n"
          ]
        },
        {
          "name": "stderr",
          "output_type": "stream",
          "text": [
            " 90%|████████▉ | 899/999 [5:40:43<35:53, 21.54s/it]"
          ]
        },
        {
          "name": "stdout",
          "output_type": "stream",
          "text": [
            "Failed to load iframe after multiple attempts for 에그드랍 제주공항점.\n",
            "crawling fatil : 에그드랍 제주공항점 to fail_to_crawling\n",
            "에그드랍 제주시청점: searchIframe 로드 및 프레임 전환 완료\n",
            "에그드랍 제주시청점: entryIframe이 이미 로드됨. 클릭 없이 바로 진행\n",
            "entryIframe 로드.\n",
            "Error while extracting menu/features for 에그드랍 제주시청점, div 1:\n",
            "Error while extracting menu/features for 에그드랍 제주시청점, div 2:\n"
          ]
        },
        {
          "name": "stderr",
          "output_type": "stream",
          "text": [
            " 90%|█████████ | 900/999 [5:41:05<35:25, 21.47s/it]"
          ]
        },
        {
          "name": "stdout",
          "output_type": "stream",
          "text": [
            "에그서울인제주: searchIframe 로드 및 프레임 전환 완료\n",
            "에그서울인제주: entryIframe이 이미 로드됨. 클릭 없이 바로 진행\n",
            "entryIframe 로드.\n",
            "Error while extracting menu/features for 에그서울인제주, div 1:\n",
            "Error while extracting menu/features for 에그서울인제주, div 2:\n"
          ]
        },
        {
          "name": "stderr",
          "output_type": "stream",
          "text": [
            " 90%|█████████ | 901/999 [5:41:26<34:54, 21.37s/it]"
          ]
        },
        {
          "name": "stdout",
          "output_type": "stream",
          "text": [
            "에니스케리: searchIframe 로드 및 프레임 전환 완료\n",
            "에니스케리: entryIframe이 이미 로드됨. 클릭 없이 바로 진행\n",
            "entryIframe 로드.\n",
            "Error while extracting menu/features for 에니스케리, div 1:\n",
            "Error while extracting menu/features for 에니스케리, div 2:\n"
          ]
        },
        {
          "name": "stderr",
          "output_type": "stream",
          "text": [
            " 90%|█████████ | 902/999 [5:41:45<33:36, 20.79s/it]"
          ]
        },
        {
          "name": "stdout",
          "output_type": "stream",
          "text": [
            "에디손: searchIframe 로드 및 프레임 전환 완료\n",
            "에디손: entryIframe이 이미 로드됨. 클릭 없이 바로 진행\n",
            "entryIframe 로드.\n",
            "Error while extracting menu/features for 에디손, div 1:\n",
            "Error while extracting menu/features for 에디손, div 2:\n"
          ]
        },
        {
          "name": "stderr",
          "output_type": "stream",
          "text": [
            " 90%|█████████ | 903/999 [5:42:05<32:42, 20.45s/it]"
          ]
        },
        {
          "name": "stdout",
          "output_type": "stream",
          "text": [
            "에르미타주: searchIframe 로드 및 프레임 전환 완료\n",
            "에르미타주: entryIframe이 이미 로드됨. 클릭 없이 바로 진행\n",
            "entryIframe 로드.\n",
            "Error while extracting menu/features for 에르미타주, div 1:\n",
            "Error while extracting menu/features for 에르미타주, div 2:\n"
          ]
        },
        {
          "name": "stderr",
          "output_type": "stream",
          "text": [
            " 90%|█████████ | 904/999 [5:42:22<30:57, 19.55s/it]"
          ]
        },
        {
          "name": "stdout",
          "output_type": "stream",
          "text": [
            " 사진 버튼 없음 : 에르미타주.\n",
            "에릭스에스프레소 카페: searchIframe 로드 및 프레임 전환 완료\n",
            "에릭스에스프레소 카페: entryIframe이 이미 로드됨. 클릭 없이 바로 진행\n",
            "entryIframe 로드.\n",
            "Error while extracting menu/features for 에릭스에스프레소 카페, div 1:\n",
            "Error while extracting menu/features for 에릭스에스프레소 카페, div 2:\n"
          ]
        },
        {
          "name": "stderr",
          "output_type": "stream",
          "text": [
            " 91%|█████████ | 905/999 [5:42:48<33:19, 21.27s/it]"
          ]
        },
        {
          "name": "stdout",
          "output_type": "stream",
          "text": [
            "에버그린돈까스제주점: searchIframe 로드 및 프레임 전환 완료\n",
            "에버그린돈까스제주점: entryIframe이 이미 로드됨. 클릭 없이 바로 진행\n",
            "entryIframe 로드.\n",
            "Error while extracting menu/features for 에버그린돈까스제주점, div 1:\n",
            "Error while extracting menu/features for 에버그린돈까스제주점, div 2:\n"
          ]
        },
        {
          "name": "stderr",
          "output_type": "stream",
          "text": [
            " 91%|█████████ | 906/999 [5:43:07<31:56, 20.61s/it]"
          ]
        },
        {
          "name": "stdout",
          "output_type": "stream",
          "text": [
            "에스 데판야키(S-Teppanyaki jeju): searchIframe 로드 및 프레임 전환 완료\n",
            "Error while clicking first search result for 에스 데판야키(S-Teppanyaki jeju): Unable to locate list container.\n"
          ]
        },
        {
          "name": "stderr",
          "output_type": "stream",
          "text": [
            " 91%|█████████ | 907/999 [5:43:28<31:44, 20.70s/it]"
          ]
        },
        {
          "name": "stdout",
          "output_type": "stream",
          "text": [
            "Failed to load iframe after multiple attempts for 에스 데판야키(S-Teppanyaki jeju).\n",
            "crawling fatil : 에스 데판야키(S-Teppanyaki jeju) to fail_to_crawling\n",
            "에스케이엘이씨(주)무송: searchIframe 로드 및 프레임 전환 완료\n",
            "Error while clicking first search result for 에스케이엘이씨(주)무송: Unable to locate list container.\n"
          ]
        },
        {
          "name": "stderr",
          "output_type": "stream",
          "text": [
            " 91%|█████████ | 908/999 [5:43:48<31:19, 20.65s/it]"
          ]
        },
        {
          "name": "stdout",
          "output_type": "stream",
          "text": [
            "Failed to load iframe after multiple attempts for 에스케이엘이씨(주)무송.\n",
            "crawling fatil : 에스케이엘이씨(주)무송 to fail_to_crawling\n",
            "에스프레소 라운지: searchIframe 로드 및 프레임 전환 완료\n",
            "에스프레소 라운지: 첫 번째 가게 클릭 후 전환되지 않음. 다음 가게로 진행\n",
            "entryIframe 로드.\n",
            "Error while navigating to reviews for 에스프레소 라운지:\n"
          ]
        },
        {
          "name": "stderr",
          "output_type": "stream",
          "text": [
            " 91%|█████████ | 909/999 [5:44:16<34:19, 22.88s/it]"
          ]
        },
        {
          "name": "stdout",
          "output_type": "stream",
          "text": [
            "에스프레소라운지: searchIframe 로드 및 프레임 전환 완료\n",
            "에스프레소라운지: 링크버튼을 찾을 수 없음. xpath 대신 다른 방법 시도\n"
          ]
        },
        {
          "name": "stderr",
          "output_type": "stream",
          "text": [
            " 91%|█████████ | 910/999 [5:44:34<31:49, 21.45s/it]"
          ]
        },
        {
          "name": "stdout",
          "output_type": "stream",
          "text": [
            "Failed to load iframe after multiple attempts for 에스프레소라운지.\n",
            "crawling fatil : 에스프레소라운지 to fail_to_crawling\n",
            "에스홀덤펍: searchIframe 로드 및 프레임 전환 완료\n",
            "에스홀덤펍: 첫 번째 가게 클릭 후 전환되지 않음. 다음 가게로 진행\n",
            "entryIframe 로드.\n",
            "Error while extracting datalab information for 에스홀덤펍:\n",
            "Error while navigating to reviews for 에스홀덤펍:\n"
          ]
        },
        {
          "name": "stderr",
          "output_type": "stream",
          "text": [
            " 91%|█████████ | 911/999 [5:44:56<31:30, 21.49s/it]"
          ]
        },
        {
          "name": "stdout",
          "output_type": "stream",
          "text": [
            "이미지 추출 오류 2 for 에스홀덤펍 \n",
            "이미지 추출 오류 3 for 에스홀덤펍 \n",
            "이미지 추출 오류 4 for 에스홀덤펍 \n",
            "이미지 추출 오류 5 for 에스홀덤펍 \n",
            "이미지 추출 오류 6 for 에스홀덤펍 \n",
            "이미지 추출 오류 7 for 에스홀덤펍 \n",
            "이미지 추출 오류 8 for 에스홀덤펍 \n",
            "이미지 추출 오류 9 for 에스홀덤펍 \n",
            "이미지 추출 오류 10 for 에스홀덤펍 \n",
            "에오마르: searchIframe 로드 및 프레임 전환 완료\n",
            "에오마르: entryIframe이 이미 로드됨. 클릭 없이 바로 진행\n",
            "entryIframe 로드.\n",
            "Error while extracting menu/features for 에오마르, div 1:\n",
            "Error while extracting menu/features for 에오마르, div 2:\n"
          ]
        },
        {
          "name": "stderr",
          "output_type": "stream",
          "text": [
            " 91%|█████████▏| 912/999 [5:45:15<30:12, 20.83s/it]"
          ]
        },
        {
          "name": "stdout",
          "output_type": "stream",
          "text": [
            "에오마르(EOMAR): searchIframe 로드 및 프레임 전환 완료\n",
            "에오마르(EOMAR): entryIframe이 이미 로드됨. 클릭 없이 바로 진행\n",
            "entryIframe 로드.\n",
            "Error while extracting menu/features for 에오마르(EOMAR), div 1:\n",
            "Error while extracting menu/features for 에오마르(EOMAR), div 2:\n"
          ]
        },
        {
          "name": "stderr",
          "output_type": "stream",
          "text": [
            " 91%|█████████▏| 913/999 [5:45:35<29:25, 20.53s/it]"
          ]
        },
        {
          "name": "stdout",
          "output_type": "stream",
          "text": [
            "에이라운지: searchIframe 로드 및 프레임 전환 완료\n",
            "에이라운지: 첫 번째 가게 클릭 후 전환되지 않음. 다음 가게로 진행\n",
            "entryIframe 로드.\n",
            "Error while extracting menu/features for 에이라운지, div 1:\n",
            "Error while extracting menu/features for 에이라운지, div 2:\n"
          ]
        },
        {
          "name": "stderr",
          "output_type": "stream",
          "text": [
            " 91%|█████████▏| 914/999 [5:46:03<32:08, 22.68s/it]"
          ]
        },
        {
          "name": "stdout",
          "output_type": "stream",
          "text": [
            "에이바우트 커피 삼화점: searchIframe 로드 및 프레임 전환 완료\n",
            "에이바우트 커피 삼화점: 링크버튼을 찾을 수 없음. xpath 대신 다른 방법 시도\n"
          ]
        },
        {
          "name": "stderr",
          "output_type": "stream",
          "text": [
            " 92%|█████████▏| 915/999 [5:46:21<29:38, 21.18s/it]"
          ]
        },
        {
          "name": "stdout",
          "output_type": "stream",
          "text": [
            "Failed to load iframe after multiple attempts for 에이바우트 커피 삼화점.\n",
            "crawling fatil : 에이바우트 커피 삼화점 to fail_to_crawling\n",
            "에이바우트 한라수목원점: searchIframe 로드 및 프레임 전환 완료\n",
            "에이바우트 한라수목원점: 첫 번째 가게 클릭 후 전환되지 않음. 다음 가게로 진행\n",
            "entryIframe 로드.\n",
            "Error while extracting menu/features for 에이바우트 한라수목원점, div 1:\n",
            "Error while extracting menu/features for 에이바우트 한라수목원점, div 2:\n"
          ]
        },
        {
          "name": "stderr",
          "output_type": "stream",
          "text": [
            " 92%|█████████▏| 916/999 [5:46:49<32:10, 23.25s/it]"
          ]
        },
        {
          "name": "stdout",
          "output_type": "stream",
          "text": [
            "에이바우트연동신시가지점: searchIframe 로드 및 프레임 전환 완료\n",
            "에이바우트연동신시가지점: entryIframe이 이미 로드됨. 클릭 없이 바로 진행\n",
            "entryIframe 로드.\n",
            "Error while extracting menu/features for 에이바우트연동신시가지점, div 1:\n",
            "Error while extracting menu/features for 에이바우트연동신시가지점, div 2:\n"
          ]
        },
        {
          "name": "stderr",
          "output_type": "stream",
          "text": [
            " 92%|█████████▏| 917/999 [5:47:10<30:50, 22.57s/it]"
          ]
        },
        {
          "name": "stdout",
          "output_type": "stream",
          "text": [
            "에이바우트제대후문점: searchIframe 로드 및 프레임 전환 완료\n",
            "에이바우트제대후문점: entryIframe이 이미 로드됨. 클릭 없이 바로 진행\n",
            "entryIframe 로드.\n",
            "Error while extracting menu/features for 에이바우트제대후문점, div 1:\n",
            "Error while extracting menu/features for 에이바우트제대후문점, div 2:\n"
          ]
        },
        {
          "name": "stderr",
          "output_type": "stream",
          "text": [
            " 92%|█████████▏| 918/999 [5:47:27<28:24, 21.05s/it]"
          ]
        },
        {
          "name": "stdout",
          "output_type": "stream",
          "text": [
            "에이바우트첨단점: searchIframe 로드 및 프레임 전환 완료\n",
            "에이바우트첨단점: entryIframe이 이미 로드됨. 클릭 없이 바로 진행\n",
            "entryIframe 로드.\n",
            "Error while extracting menu/features for 에이바우트첨단점, div 1:\n",
            "Error while extracting menu/features for 에이바우트첨단점, div 2:\n"
          ]
        },
        {
          "name": "stderr",
          "output_type": "stream",
          "text": [
            " 92%|█████████▏| 919/999 [5:47:47<27:25, 20.57s/it]"
          ]
        },
        {
          "name": "stdout",
          "output_type": "stream",
          "text": [
            "에이바우트커피: searchIframe 로드 및 프레임 전환 완료\n",
            "에이바우트커피: 링크버튼을 찾을 수 없음. xpath 대신 다른 방법 시도\n"
          ]
        },
        {
          "name": "stderr",
          "output_type": "stream",
          "text": [
            " 92%|█████████▏| 920/999 [5:48:06<26:27, 20.09s/it]"
          ]
        },
        {
          "name": "stdout",
          "output_type": "stream",
          "text": [
            "Failed to load iframe after multiple attempts for 에이바우트커피.\n",
            "crawling fatil : 에이바우트커피 to fail_to_crawling\n",
            "에이바우트커피 남녕고점: searchIframe 로드 및 프레임 전환 완료\n",
            "에이바우트커피 남녕고점: entryIframe이 이미 로드됨. 클릭 없이 바로 진행\n",
            "entryIframe 로드.\n",
            "Error while extracting menu/features for 에이바우트커피 남녕고점, div 1:\n",
            "Error while extracting menu/features for 에이바우트커피 남녕고점, div 2:\n"
          ]
        },
        {
          "name": "stderr",
          "output_type": "stream",
          "text": [
            " 92%|█████████▏| 921/999 [5:48:27<26:48, 20.63s/it]"
          ]
        },
        {
          "name": "stdout",
          "output_type": "stream",
          "text": [
            "에이바우트커피 도련점: searchIframe 로드 및 프레임 전환 완료\n",
            "에이바우트커피 도련점: entryIframe이 이미 로드됨. 클릭 없이 바로 진행\n",
            "entryIframe 로드.\n",
            "Error while extracting menu/features for 에이바우트커피 도련점, div 1:\n",
            "Error while extracting menu/features for 에이바우트커피 도련점, div 2:\n"
          ]
        },
        {
          "name": "stderr",
          "output_type": "stream",
          "text": [
            " 92%|█████████▏| 922/999 [5:48:49<26:40, 20.79s/it]"
          ]
        },
        {
          "name": "stdout",
          "output_type": "stream",
          "text": [
            "에이바우트커피 신라신성점: searchIframe 로드 및 프레임 전환 완료\n",
            "에이바우트커피 신라신성점: entryIframe이 이미 로드됨. 클릭 없이 바로 진행\n",
            "entryIframe 로드.\n",
            "Error while navigating to reviews for 에이바우트커피 신라신성점:\n"
          ]
        },
        {
          "name": "stderr",
          "output_type": "stream",
          "text": [
            " 92%|█████████▏| 923/999 [5:49:10<26:24, 20.85s/it]"
          ]
        },
        {
          "name": "stdout",
          "output_type": "stream",
          "text": [
            "에이바우트커피 에코그린빌15차점: searchIframe 로드 및 프레임 전환 완료\n",
            "에이바우트커피 에코그린빌15차점: 링크버튼을 찾을 수 없음. xpath 대신 다른 방법 시도\n"
          ]
        },
        {
          "name": "stderr",
          "output_type": "stream",
          "text": [
            " 92%|█████████▏| 924/999 [5:49:27<24:48, 19.85s/it]"
          ]
        },
        {
          "name": "stdout",
          "output_type": "stream",
          "text": [
            "Failed to load iframe after multiple attempts for 에이바우트커피 에코그린빌15차점.\n",
            "crawling fatil : 에이바우트커피 에코그린빌15차점 to fail_to_crawling\n",
            "에이바우트커피 올레시장점: searchIframe 로드 및 프레임 전환 완료\n",
            "에이바우트커피 올레시장점: entryIframe이 이미 로드됨. 클릭 없이 바로 진행\n",
            "entryIframe 로드.\n",
            "Error while extracting menu/features for 에이바우트커피 올레시장점, div 1:\n",
            "Error while extracting menu/features for 에이바우트커피 올레시장점, div 2:\n"
          ]
        },
        {
          "name": "stderr",
          "output_type": "stream",
          "text": [
            " 93%|█████████▎| 925/999 [5:49:48<25:00, 20.27s/it]"
          ]
        },
        {
          "name": "stdout",
          "output_type": "stream",
          "text": [
            "에이바우트커피 인화점: searchIframe 로드 및 프레임 전환 완료\n",
            "에이바우트커피 인화점: entryIframe이 이미 로드됨. 클릭 없이 바로 진행\n",
            "entryIframe 로드.\n",
            "Error while extracting menu/features for 에이바우트커피 인화점, div 1:\n",
            "Error while extracting menu/features for 에이바우트커피 인화점, div 2:\n"
          ]
        },
        {
          "name": "stderr",
          "output_type": "stream",
          "text": [
            " 93%|█████████▎| 926/999 [5:50:10<25:00, 20.56s/it]"
          ]
        },
        {
          "name": "stdout",
          "output_type": "stream",
          "text": [
            "에이바우트커피 정부종합청사점: searchIframe 로드 및 프레임 전환 완료\n",
            "에이바우트커피 정부종합청사점: 링크버튼을 찾을 수 없음. xpath 대신 다른 방법 시도\n"
          ]
        },
        {
          "name": "stderr",
          "output_type": "stream",
          "text": [
            " 93%|█████████▎| 927/999 [5:50:27<23:43, 19.77s/it]"
          ]
        },
        {
          "name": "stdout",
          "output_type": "stream",
          "text": [
            "Failed to load iframe after multiple attempts for 에이바우트커피 정부종합청사점.\n",
            "crawling fatil : 에이바우트커피 정부종합청사점 to fail_to_crawling\n",
            "에이바우트커피 조천점: searchIframe 로드 및 프레임 전환 완료\n",
            "에이바우트커피 조천점: entryIframe이 이미 로드됨. 클릭 없이 바로 진행\n",
            "entryIframe 로드.\n",
            "Error while extracting menu/features for 에이바우트커피 조천점, div 1:\n",
            "Error while extracting menu/features for 에이바우트커피 조천점, div 2:\n"
          ]
        },
        {
          "name": "stderr",
          "output_type": "stream",
          "text": [
            " 93%|█████████▎| 928/999 [5:50:49<23:59, 20.28s/it]"
          ]
        },
        {
          "name": "stdout",
          "output_type": "stream",
          "text": [
            "에이바우트커피 종합경기장점: searchIframe 로드 및 프레임 전환 완료\n",
            "에이바우트커피 종합경기장점: entryIframe이 이미 로드됨. 클릭 없이 바로 진행\n",
            "entryIframe 로드.\n",
            "Error while extracting menu/features for 에이바우트커피 종합경기장점, div 1:\n",
            "Error while extracting menu/features for 에이바우트커피 종합경기장점, div 2:\n"
          ]
        },
        {
          "name": "stderr",
          "output_type": "stream",
          "text": [
            " 93%|█████████▎| 929/999 [5:51:08<23:15, 19.94s/it]"
          ]
        },
        {
          "name": "stdout",
          "output_type": "stream",
          "text": [
            "에이바우트커피 중앙여고점: searchIframe 로드 및 프레임 전환 완료\n",
            "에이바우트커피 중앙여고점: entryIframe이 이미 로드됨. 클릭 없이 바로 진행\n",
            "entryIframe 로드.\n",
            "Error while extracting menu/features for 에이바우트커피 중앙여고점, div 1:\n",
            "Error while extracting menu/features for 에이바우트커피 중앙여고점, div 2:\n"
          ]
        },
        {
          "name": "stderr",
          "output_type": "stream",
          "text": [
            " 93%|█████████▎| 930/999 [5:51:29<23:23, 20.33s/it]"
          ]
        },
        {
          "name": "stdout",
          "output_type": "stream",
          "text": [
            "에이바우트커피 칠성점: searchIframe 로드 및 프레임 전환 완료\n",
            "에이바우트커피 칠성점: entryIframe이 이미 로드됨. 클릭 없이 바로 진행\n",
            "entryIframe 로드.\n",
            "Error while extracting menu/features for 에이바우트커피 칠성점, div 1:\n",
            "Error while extracting menu/features for 에이바우트커피 칠성점, div 2:\n"
          ]
        },
        {
          "name": "stderr",
          "output_type": "stream",
          "text": [
            " 93%|█████████▎| 931/999 [5:51:51<23:21, 20.61s/it]"
          ]
        },
        {
          "name": "stdout",
          "output_type": "stream",
          "text": [
            "에이바우트커피 한라도서관점: searchIframe 로드 및 프레임 전환 완료\n",
            "에이바우트커피 한라도서관점: entryIframe이 이미 로드됨. 클릭 없이 바로 진행\n",
            "entryIframe 로드.\n",
            "Error while extracting menu/features for 에이바우트커피 한라도서관점, div 1:\n",
            "Error while extracting menu/features for 에이바우트커피 한라도서관점, div 2:\n"
          ]
        },
        {
          "name": "stderr",
          "output_type": "stream",
          "text": [
            " 93%|█████████▎| 932/999 [5:52:12<23:17, 20.85s/it]"
          ]
        },
        {
          "name": "stdout",
          "output_type": "stream",
          "text": [
            "에이바우트커피 화북남문점: searchIframe 로드 및 프레임 전환 완료\n",
            "에이바우트커피 화북남문점: 링크버튼을 찾을 수 없음. xpath 대신 다른 방법 시도\n"
          ]
        },
        {
          "name": "stderr",
          "output_type": "stream",
          "text": [
            " 93%|█████████▎| 933/999 [5:52:30<21:57, 19.97s/it]"
          ]
        },
        {
          "name": "stdout",
          "output_type": "stream",
          "text": [
            "Failed to load iframe after multiple attempts for 에이바우트커피 화북남문점.\n",
            "crawling fatil : 에이바우트커피 화북남문점 to fail_to_crawling\n",
            "에이바우트커피구남점: searchIframe 로드 및 프레임 전환 완료\n",
            "에이바우트커피구남점: 링크버튼을 찾을 수 없음. xpath 대신 다른 방법 시도\n"
          ]
        },
        {
          "name": "stderr",
          "output_type": "stream",
          "text": [
            " 93%|█████████▎| 934/999 [5:52:48<21:01, 19.40s/it]"
          ]
        },
        {
          "name": "stdout",
          "output_type": "stream",
          "text": [
            "Failed to load iframe after multiple attempts for 에이바우트커피구남점.\n",
            "crawling fatil : 에이바우트커피구남점 to fail_to_crawling\n",
            "에이바우트커피노형점: searchIframe 로드 및 프레임 전환 완료\n",
            "에이바우트커피노형점: entryIframe이 이미 로드됨. 클릭 없이 바로 진행\n",
            "entryIframe 로드.\n",
            "Error while extracting menu/features for 에이바우트커피노형점, div 1:\n",
            "Error while extracting menu/features for 에이바우트커피노형점, div 2:\n"
          ]
        },
        {
          "name": "stderr",
          "output_type": "stream",
          "text": [
            " 94%|█████████▎| 935/999 [5:53:10<21:23, 20.05s/it]"
          ]
        },
        {
          "name": "stdout",
          "output_type": "stream",
          "text": [
            "에이바우트커피법원점: searchIframe 로드 및 프레임 전환 완료\n",
            "에이바우트커피법원점: entryIframe이 이미 로드됨. 클릭 없이 바로 진행\n",
            "entryIframe 로드.\n",
            "Error while extracting menu/features for 에이바우트커피법원점, div 1:\n",
            "Error while navigating to reviews for 에이바우트커피법원점:\n"
          ]
        },
        {
          "name": "stderr",
          "output_type": "stream",
          "text": [
            " 94%|█████████▎| 936/999 [5:53:30<21:17, 20.28s/it]"
          ]
        },
        {
          "name": "stdout",
          "output_type": "stream",
          "text": [
            "에이바우트커피베라체점: searchIframe 로드 및 프레임 전환 완료\n",
            "에이바우트커피베라체점: entryIframe이 이미 로드됨. 클릭 없이 바로 진행\n",
            "entryIframe 로드.\n",
            "Error while extracting menu/features for 에이바우트커피베라체점, div 1:\n",
            "Error while extracting menu/features for 에이바우트커피베라체점, div 2:\n"
          ]
        },
        {
          "name": "stderr",
          "output_type": "stream",
          "text": [
            " 94%|█████████▍| 937/999 [5:53:50<20:36, 19.94s/it]"
          ]
        },
        {
          "name": "stdout",
          "output_type": "stream",
          "text": [
            "에이바우트커피봉개점: searchIframe 로드 및 프레임 전환 완료\n",
            "에이바우트커피봉개점: entryIframe이 이미 로드됨. 클릭 없이 바로 진행\n",
            "entryIframe 로드.\n",
            "Error while extracting menu/features for 에이바우트커피봉개점, div 1:\n",
            "Error while extracting menu/features for 에이바우트커피봉개점, div 2:\n"
          ]
        },
        {
          "name": "stderr",
          "output_type": "stream",
          "text": [
            " 94%|█████████▍| 938/999 [5:54:11<20:47, 20.45s/it]"
          ]
        },
        {
          "name": "stdout",
          "output_type": "stream",
          "text": [
            "에이바우트커피뷰강정점: searchIframe 로드 및 프레임 전환 완료\n",
            "에이바우트커피뷰강정점: entryIframe이 이미 로드됨. 클릭 없이 바로 진행\n",
            "entryIframe 로드.\n",
            "Error while extracting menu/features for 에이바우트커피뷰강정점, div 1:\n",
            "Error while extracting menu/features for 에이바우트커피뷰강정점, div 2:\n"
          ]
        },
        {
          "name": "stderr",
          "output_type": "stream",
          "text": [
            " 94%|█████████▍| 939/999 [5:54:32<20:41, 20.70s/it]"
          ]
        },
        {
          "name": "stdout",
          "output_type": "stream",
          "text": [
            "에이바우트커피뷰하귀포구점: searchIframe 로드 및 프레임 전환 완료\n",
            "에이바우트커피뷰하귀포구점: 링크버튼을 찾을 수 없음. xpath 대신 다른 방법 시도\n"
          ]
        },
        {
          "name": "stderr",
          "output_type": "stream",
          "text": [
            " 94%|█████████▍| 940/999 [5:54:51<19:36, 19.94s/it]"
          ]
        },
        {
          "name": "stdout",
          "output_type": "stream",
          "text": [
            "Failed to load iframe after multiple attempts for 에이바우트커피뷰하귀포구점.\n",
            "crawling fatil : 에이바우트커피뷰하귀포구점 to fail_to_crawling\n",
            "에이바우트커피삼무공원점: searchIframe 로드 및 프레임 전환 완료\n",
            "에이바우트커피삼무공원점: entryIframe이 이미 로드됨. 클릭 없이 바로 진행\n",
            "entryIframe 로드.\n",
            "Error while extracting menu/features for 에이바우트커피삼무공원점, div 1:\n",
            "Error while extracting menu/features for 에이바우트커피삼무공원점, div 2:\n"
          ]
        },
        {
          "name": "stderr",
          "output_type": "stream",
          "text": [
            " 94%|█████████▍| 941/999 [5:55:12<19:41, 20.38s/it]"
          ]
        },
        {
          "name": "stdout",
          "output_type": "stream",
          "text": [
            "에이바우트커피서귀포혁신도시점: searchIframe 로드 및 프레임 전환 완료\n",
            "에이바우트커피서귀포혁신도시점: 링크버튼을 찾을 수 없음. xpath 대신 다른 방법 시도\n"
          ]
        },
        {
          "name": "stderr",
          "output_type": "stream",
          "text": [
            " 94%|█████████▍| 942/999 [5:55:30<18:40, 19.67s/it]"
          ]
        },
        {
          "name": "stdout",
          "output_type": "stream",
          "text": [
            "Failed to load iframe after multiple attempts for 에이바우트커피서귀포혁신도시점.\n",
            "crawling fatil : 에이바우트커피서귀포혁신도시점 to fail_to_crawling\n",
            "에이바우트커피시청점: searchIframe 로드 및 프레임 전환 완료\n",
            "에이바우트커피시청점: 링크버튼을 찾을 수 없음. xpath 대신 다른 방법 시도\n"
          ]
        },
        {
          "name": "stderr",
          "output_type": "stream",
          "text": [
            " 94%|█████████▍| 943/999 [5:55:48<17:46, 19.04s/it]"
          ]
        },
        {
          "name": "stdout",
          "output_type": "stream",
          "text": [
            "Failed to load iframe after multiple attempts for 에이바우트커피시청점.\n",
            "crawling fatil : 에이바우트커피시청점 to fail_to_crawling\n",
            "에이바우트커피신제주점: searchIframe 로드 및 프레임 전환 완료\n",
            "에이바우트커피신제주점: entryIframe이 이미 로드됨. 클릭 없이 바로 진행\n",
            "entryIframe 로드.\n",
            "Error while extracting menu/features for 에이바우트커피신제주점, div 1:\n",
            "Error while extracting menu/features for 에이바우트커피신제주점, div 2:\n"
          ]
        },
        {
          "name": "stderr",
          "output_type": "stream",
          "text": [
            " 94%|█████████▍| 944/999 [5:56:10<18:15, 19.92s/it]"
          ]
        },
        {
          "name": "stdout",
          "output_type": "stream",
          "text": [
            "에이바우트커피아라초점: searchIframe 로드 및 프레임 전환 완료\n",
            "Error while clicking first search result for 에이바우트커피아라초점: Unable to locate list container.\n"
          ]
        },
        {
          "name": "stderr",
          "output_type": "stream",
          "text": [
            " 95%|█████████▍| 945/999 [5:56:30<18:03, 20.06s/it]"
          ]
        },
        {
          "name": "stdout",
          "output_type": "stream",
          "text": [
            "Failed to load iframe after multiple attempts for 에이바우트커피아라초점.\n",
            "crawling fatil : 에이바우트커피아라초점 to fail_to_crawling\n",
            "에이바우트커피아이파크점: searchIframe 로드 및 프레임 전환 완료\n",
            "Error while clicking first search result for 에이바우트커피아이파크점: Unable to locate list container.\n"
          ]
        },
        {
          "name": "stderr",
          "output_type": "stream",
          "text": [
            " 95%|█████████▍| 946/999 [5:56:51<17:57, 20.34s/it]"
          ]
        },
        {
          "name": "stdout",
          "output_type": "stream",
          "text": [
            "Failed to load iframe after multiple attempts for 에이바우트커피아이파크점.\n",
            "crawling fatil : 에이바우트커피아이파크점 to fail_to_crawling\n",
            "에이바우트커피연동신시가지점: searchIframe 로드 및 프레임 전환 완료\n",
            "에이바우트커피연동신시가지점: entryIframe이 이미 로드됨. 클릭 없이 바로 진행\n",
            "entryIframe 로드.\n",
            "Error while extracting menu/features for 에이바우트커피연동신시가지점, div 1:\n",
            "Error while extracting menu/features for 에이바우트커피연동신시가지점, div 2:\n"
          ]
        },
        {
          "name": "stderr",
          "output_type": "stream",
          "text": [
            " 95%|█████████▍| 947/999 [5:57:10<17:24, 20.08s/it]"
          ]
        },
        {
          "name": "stdout",
          "output_type": "stream",
          "text": [
            "에이바우트커피연북로점: searchIframe 로드 및 프레임 전환 완료\n",
            "에이바우트커피연북로점: entryIframe이 이미 로드됨. 클릭 없이 바로 진행\n",
            "entryIframe 로드.\n",
            "Error while extracting menu/features for 에이바우트커피연북로점, div 1:\n",
            "Error while extracting menu/features for 에이바우트커피연북로점, div 2:\n"
          ]
        },
        {
          "name": "stderr",
          "output_type": "stream",
          "text": [
            " 95%|█████████▍| 948/999 [5:57:32<17:20, 20.40s/it]"
          ]
        },
        {
          "name": "stdout",
          "output_type": "stream",
          "text": [
            "에이바우트커피외도점: searchIframe 로드 및 프레임 전환 완료\n",
            "에이바우트커피외도점: 링크버튼을 찾을 수 없음. xpath 대신 다른 방법 시도\n"
          ]
        },
        {
          "name": "stderr",
          "output_type": "stream",
          "text": [
            " 95%|█████████▍| 949/999 [5:57:49<16:18, 19.57s/it]"
          ]
        },
        {
          "name": "stdout",
          "output_type": "stream",
          "text": [
            "Failed to load iframe after multiple attempts for 에이바우트커피외도점.\n",
            "crawling fatil : 에이바우트커피외도점 to fail_to_crawling\n",
            "에이바우트커피이편한세상시티점: searchIframe 로드 및 프레임 전환 완료\n",
            "에이바우트커피이편한세상시티점: entryIframe이 이미 로드됨. 클릭 없이 바로 진행\n",
            "entryIframe 로드.\n",
            "Error while extracting menu/features for 에이바우트커피이편한세상시티점, div 1:\n",
            "Error while extracting menu/features for 에이바우트커피이편한세상시티점, div 2:\n"
          ]
        },
        {
          "name": "stderr",
          "output_type": "stream",
          "text": [
            " 95%|█████████▌| 950/999 [5:58:09<15:59, 19.59s/it]"
          ]
        },
        {
          "name": "stdout",
          "output_type": "stream",
          "text": [
            "에이바우트커피인제점: searchIframe 로드 및 프레임 전환 완료\n",
            "에이바우트커피인제점: entryIframe이 이미 로드됨. 클릭 없이 바로 진행\n",
            "entryIframe 로드.\n",
            "Error while extracting menu/features for 에이바우트커피인제점, div 1:\n",
            "Error while extracting menu/features for 에이바우트커피인제점, div 2:\n"
          ]
        },
        {
          "name": "stderr",
          "output_type": "stream",
          "text": [
            " 95%|█████████▌| 951/999 [5:58:30<16:03, 20.08s/it]"
          ]
        },
        {
          "name": "stdout",
          "output_type": "stream",
          "text": [
            "에이바우트커피함덕해수욕장점: searchIframe 로드 및 프레임 전환 완료\n",
            "에이바우트커피함덕해수욕장점: entryIframe이 이미 로드됨. 클릭 없이 바로 진행\n",
            "entryIframe 로드.\n",
            "Error while extracting menu/features for 에이바우트커피함덕해수욕장점, div 1:\n",
            "Error while extracting menu/features for 에이바우트커피함덕해수욕장점, div 2:\n"
          ]
        },
        {
          "name": "stderr",
          "output_type": "stream",
          "text": [
            " 95%|█████████▌| 952/999 [5:58:50<15:41, 20.03s/it]"
          ]
        },
        {
          "name": "stdout",
          "output_type": "stream",
          "text": [
            "에이바우트한라수목원점: searchIframe 로드 및 프레임 전환 완료\n",
            "에이바우트한라수목원점: entryIframe이 이미 로드됨. 클릭 없이 바로 진행\n",
            "entryIframe 로드.\n",
            "Error while extracting menu/features for 에이바우트한라수목원점, div 1:\n",
            "Error while extracting menu/features for 에이바우트한라수목원점, div 2:\n"
          ]
        },
        {
          "name": "stderr",
          "output_type": "stream",
          "text": [
            " 95%|█████████▌| 953/999 [5:59:11<15:40, 20.45s/it]"
          ]
        },
        {
          "name": "stdout",
          "output_type": "stream",
          "text": [
            "에이바웃중문점: searchIframe 로드 및 프레임 전환 완료\n",
            "에이바웃중문점: entryIframe이 이미 로드됨. 클릭 없이 바로 진행\n",
            "entryIframe 로드.\n",
            "Error while extracting menu/features for 에이바웃중문점, div 1:\n",
            "Error while extracting menu/features for 에이바웃중문점, div 2:\n"
          ]
        },
        {
          "name": "stderr",
          "output_type": "stream",
          "text": [
            " 95%|█████████▌| 954/999 [5:59:33<15:36, 20.81s/it]"
          ]
        },
        {
          "name": "stdout",
          "output_type": "stream",
          "text": [
            "에이스쌀국수: searchIframe 로드 및 프레임 전환 완료\n",
            "에이스쌀국수: entryIframe이 이미 로드됨. 클릭 없이 바로 진행\n",
            "entryIframe 로드.\n",
            "Error while extracting menu/features for 에이스쌀국수, div 1:\n"
          ]
        },
        {
          "name": "stderr",
          "output_type": "stream",
          "text": [
            " 96%|█████████▌| 955/999 [5:59:52<14:57, 20.39s/it]"
          ]
        },
        {
          "name": "stdout",
          "output_type": "stream",
          "text": [
            "Error while extracting menu/features for 에이스쌀국수, div 2:\n",
            " 사진 버튼 없음 : 에이스쌀국수.\n",
            "에이어: searchIframe 로드 및 프레임 전환 완료\n",
            "에이어: entryIframe이 이미 로드됨. 클릭 없이 바로 진행\n",
            "entryIframe 로드.\n",
            "Error while extracting menu/features for 에이어, div 1:\n",
            "Error while extracting menu/features for 에이어, div 2:\n"
          ]
        },
        {
          "name": "stderr",
          "output_type": "stream",
          "text": [
            " 96%|█████████▌| 956/999 [6:00:14<14:50, 20.70s/it]"
          ]
        },
        {
          "name": "stdout",
          "output_type": "stream",
          "text": [
            "에이에이: searchIframe 로드 및 프레임 전환 완료\n",
            "에이에이: 첫 번째 가게 클릭 후 전환되지 않음. 다음 가게로 진행\n",
            "entryIframe 로드.\n",
            "Error while extracting datalab information for 에이에이:\n",
            "Error while navigating to reviews for 에이에이:\n"
          ]
        },
        {
          "name": "stderr",
          "output_type": "stream",
          "text": [
            " 96%|█████████▌| 957/999 [6:00:42<16:06, 23.01s/it]"
          ]
        },
        {
          "name": "stdout",
          "output_type": "stream",
          "text": [
            "에이팩토리 커피앤북스: searchIframe 로드 및 프레임 전환 완료\n",
            "에이팩토리 커피앤북스: entryIframe이 이미 로드됨. 클릭 없이 바로 진행\n",
            "entryIframe 로드.\n",
            "Error while extracting datalab information for 에이팩토리 커피앤북스:\n",
            "Error while navigating to reviews for 에이팩토리 커피앤북스:\n"
          ]
        },
        {
          "name": "stderr",
          "output_type": "stream",
          "text": [
            " 96%|█████████▌| 958/999 [6:01:01<14:49, 21.69s/it]"
          ]
        },
        {
          "name": "stdout",
          "output_type": "stream",
          "text": [
            "에이팩토리베이커리카페: searchIframe 로드 및 프레임 전환 완료\n",
            "에이팩토리베이커리카페: entryIframe이 이미 로드됨. 클릭 없이 바로 진행\n",
            "entryIframe 로드.\n",
            "Error while extracting menu/features for 에이팩토리베이커리카페, div 1:\n",
            "Error while extracting menu/features for 에이팩토리베이커리카페, div 2:\n"
          ]
        },
        {
          "name": "stderr",
          "output_type": "stream",
          "text": [
            " 96%|█████████▌| 959/999 [6:01:20<13:59, 20.99s/it]"
          ]
        },
        {
          "name": "stdout",
          "output_type": "stream",
          "text": [
            "에이플러스: searchIframe 로드 및 프레임 전환 완료\n",
            "에이플러스: 링크버튼을 찾을 수 없음. xpath 대신 다른 방법 시도\n"
          ]
        },
        {
          "name": "stderr",
          "output_type": "stream",
          "text": [
            " 96%|█████████▌| 960/999 [6:01:39<13:10, 20.27s/it]"
          ]
        },
        {
          "name": "stdout",
          "output_type": "stream",
          "text": [
            "Failed to load iframe after multiple attempts for 에이플러스.\n",
            "crawling fatil : 에이플러스 to fail_to_crawling\n",
            "에캄(EKAM): searchIframe 로드 및 프레임 전환 완료\n",
            "에캄(EKAM): 첫 번째 가게 클릭 후 전환되지 않음. 다음 가게로 진행\n",
            "entryIframe 로드.\n",
            "Error while extracting datalab information for 에캄(EKAM):\n",
            "Error while navigating to reviews for 에캄(EKAM):\n"
          ]
        },
        {
          "name": "stderr",
          "output_type": "stream",
          "text": [
            " 96%|█████████▌| 961/999 [6:02:00<13:00, 20.55s/it]"
          ]
        },
        {
          "name": "stdout",
          "output_type": "stream",
          "text": [
            "이미지 추출 오류 2 for 에캄(EKAM) \n",
            "이미지 추출 오류 3 for 에캄(EKAM) \n",
            "이미지 추출 오류 4 for 에캄(EKAM) \n",
            "이미지 추출 오류 5 for 에캄(EKAM) \n",
            "이미지 추출 오류 6 for 에캄(EKAM) \n",
            "이미지 추출 오류 7 for 에캄(EKAM) \n",
            "이미지 추출 오류 8 for 에캄(EKAM) \n",
            "이미지 추출 오류 9 for 에캄(EKAM) \n",
            "이미지 추출 오류 10 for 에캄(EKAM) \n",
            "에프엔브이 (F&V): searchIframe 로드 및 프레임 전환 완료\n",
            "에프엔브이 (F&V): 링크버튼을 찾을 수 없음. xpath 대신 다른 방법 시도\n"
          ]
        },
        {
          "name": "stderr",
          "output_type": "stream",
          "text": [
            " 96%|█████████▋| 962/999 [6:02:17<12:05, 19.62s/it]"
          ]
        },
        {
          "name": "stdout",
          "output_type": "stream",
          "text": [
            "Failed to load iframe after multiple attempts for 에프엔브이 (F&V).\n",
            "crawling fatil : 에프엔브이 (F&V) to fail_to_crawling\n",
            "에프엘이엑스: searchIframe 로드 및 프레임 전환 완료\n",
            "에프엘이엑스: entryIframe이 이미 로드됨. 클릭 없이 바로 진행\n",
            "entryIframe 로드.\n",
            "Error while extracting datalab information for 에프엘이엑스:\n"
          ]
        },
        {
          "name": "stderr",
          "output_type": "stream",
          "text": [
            " 96%|█████████▋| 963/999 [6:02:28<10:05, 16.83s/it]"
          ]
        },
        {
          "name": "stdout",
          "output_type": "stream",
          "text": [
            "Error while navigating to reviews for 에프엘이엑스:\n",
            " 사진 버튼 없음 : 에프엘이엑스.\n",
            "에프터 글로우: searchIframe 로드 및 프레임 전환 완료\n",
            "에프터 글로우: 첫 번째 가게 클릭 후 전환되지 않음. 다음 가게로 진행\n",
            "entryIframe 로드.\n",
            "Error while extracting datalab information for 에프터 글로우:\n",
            "Error while extracting menu/features for 에프터 글로우, div 1:\n",
            "Error while navigating to reviews for 에프터 글로우:\n"
          ]
        },
        {
          "name": "stderr",
          "output_type": "stream",
          "text": [
            " 96%|█████████▋| 964/999 [6:02:56<11:46, 20.18s/it]"
          ]
        },
        {
          "name": "stdout",
          "output_type": "stream",
          "text": [
            "에프터글로우: searchIframe 로드 및 프레임 전환 완료\n",
            "에프터글로우: 첫 번째 가게 클릭 후 전환되지 않음. 다음 가게로 진행\n",
            "entryIframe 로드.\n",
            "Error while extracting datalab information for 에프터글로우:\n",
            "Error while extracting menu/features for 에프터글로우, div 1:\n",
            "Error while navigating to reviews for 에프터글로우:\n"
          ]
        },
        {
          "name": "stderr",
          "output_type": "stream",
          "text": [
            " 97%|█████████▋| 965/999 [6:03:24<12:44, 22.50s/it]"
          ]
        },
        {
          "name": "stdout",
          "output_type": "stream",
          "text": [
            "에피소드: searchIframe 로드 및 프레임 전환 완료\n",
            "에피소드: 첫 번째 가게 클릭 후 전환되지 않음. 다음 가게로 진행\n",
            "entryIframe 로드.\n",
            "Error while extracting menu/features for 에피소드, div 1:\n",
            "Error while extracting menu/features for 에피소드, div 2:\n"
          ]
        },
        {
          "name": "stderr",
          "output_type": "stream",
          "text": [
            " 97%|█████████▋| 966/999 [6:03:52<13:18, 24.19s/it]"
          ]
        },
        {
          "name": "stdout",
          "output_type": "stream",
          "text": [
            "에피소드베이커리카페: searchIframe 로드 및 프레임 전환 완료\n",
            "에피소드베이커리카페: entryIframe이 이미 로드됨. 클릭 없이 바로 진행\n",
            "entryIframe 로드.\n",
            "Error while extracting datalab information for 에피소드베이커리카페:\n",
            "Error while extracting menu/features for 에피소드베이커리카페, div 1:\n",
            "Error while extracting menu/features for 에피소드베이커리카페, div 2:\n"
          ]
        },
        {
          "name": "stderr",
          "output_type": "stream",
          "text": [
            " 97%|█████████▋| 967/999 [6:04:13<12:26, 23.33s/it]"
          ]
        },
        {
          "name": "stdout",
          "output_type": "stream",
          "text": [
            "엔: searchIframe 로드 및 프레임 전환 완료\n",
            "엔: 첫 번째 가게 클릭 후 전환되지 않음. 다음 가게로 진행\n",
            "entryIframe 로드.\n",
            "Error while extracting menu/features for 엔, div 1:\n",
            "Error while extracting menu/features for 엔, div 2:\n"
          ]
        },
        {
          "name": "stderr",
          "output_type": "stream",
          "text": [
            " 97%|█████████▋| 968/999 [6:04:37<12:10, 23.56s/it]"
          ]
        },
        {
          "name": "stdout",
          "output_type": "stream",
          "text": [
            " 사진 버튼 없음 : 엔.\n"
          ]
        },
        {
          "name": "stderr",
          "output_type": "stream",
          "text": [
            " 97%|█████████▋| 969/999 [6:04:41<08:46, 17.55s/it]"
          ]
        },
        {
          "name": "stdout",
          "output_type": "stream",
          "text": [
            "iframe을 찾을 수 없음 for 엔제리너스 제주공항T/O\n",
            "엔제리너스 제주공항야외광장점: searchIframe 로드 및 프레임 전환 완료\n",
            "엔제리너스 제주공항야외광장점: entryIframe이 이미 로드됨. 클릭 없이 바로 진행\n",
            "entryIframe 로드.\n",
            "Error while extracting menu/features for 엔제리너스 제주공항야외광장점, div 1:\n",
            "Error while extracting menu/features for 엔제리너스 제주공항야외광장점, div 2:\n"
          ]
        },
        {
          "name": "stderr",
          "output_type": "stream",
          "text": [
            " 97%|█████████▋| 970/999 [6:05:00<08:43, 18.07s/it]"
          ]
        },
        {
          "name": "stdout",
          "output_type": "stream",
          "text": [
            "엔제리너스 제주시청점: searchIframe 로드 및 프레임 전환 완료\n",
            "엔제리너스 제주시청점: entryIframe이 이미 로드됨. 클릭 없이 바로 진행\n",
            "entryIframe 로드.\n",
            "Error while extracting menu/features for 엔제리너스 제주시청점, div 1:\n",
            "Error while extracting menu/features for 엔제리너스 제주시청점, div 2:\n"
          ]
        },
        {
          "name": "stderr",
          "output_type": "stream",
          "text": [
            " 97%|█████████▋| 971/999 [6:05:21<08:51, 18.99s/it]"
          ]
        },
        {
          "name": "stdout",
          "output_type": "stream",
          "text": [
            "엔제리너스한라수목원점: searchIframe 로드 및 프레임 전환 완료\n",
            "엔제리너스한라수목원점: entryIframe이 이미 로드됨. 클릭 없이 바로 진행\n",
            "entryIframe 로드.\n",
            "Error while extracting menu/features for 엔제리너스한라수목원점, div 1:\n",
            "Error while extracting menu/features for 엔제리너스한라수목원점, div 2:\n"
          ]
        },
        {
          "name": "stderr",
          "output_type": "stream",
          "text": [
            " 97%|█████████▋| 972/999 [6:05:42<08:50, 19.66s/it]"
          ]
        },
        {
          "name": "stdout",
          "output_type": "stream",
          "text": [
            "엔젤: searchIframe 로드 및 프레임 전환 완료\n",
            "엔젤: 첫 번째 가게 클릭 후 전환되지 않음. 다음 가게로 진행\n",
            "entryIframe 로드.\n"
          ]
        },
        {
          "name": "stderr",
          "output_type": "stream",
          "text": [
            " 97%|█████████▋| 973/999 [6:06:00<08:17, 19.15s/it]"
          ]
        },
        {
          "name": "stdout",
          "output_type": "stream",
          "text": [
            "Error while navigating to reviews for 엔젤:\n",
            " 사진 버튼 없음 : 엔젤.\n",
            "엔폴리우드: searchIframe 로드 및 프레임 전환 완료\n",
            "엔폴리우드: entryIframe이 이미 로드됨. 클릭 없이 바로 진행\n",
            "entryIframe 로드.\n",
            "Error while extracting menu/features for 엔폴리우드, div 1:\n"
          ]
        },
        {
          "name": "stderr",
          "output_type": "stream",
          "text": [
            " 97%|█████████▋| 974/999 [6:06:20<08:00, 19.22s/it]"
          ]
        },
        {
          "name": "stdout",
          "output_type": "stream",
          "text": [
            "Error while extracting menu/features for 엔폴리우드, div 2:\n",
            " 사진 버튼 없음 : 엔폴리우드.\n",
            "엘로이: searchIframe 로드 및 프레임 전환 완료\n",
            "엘로이: 첫 번째 가게 클릭 후 전환되지 않음. 다음 가게로 진행\n",
            "entryIframe 로드.\n",
            "Error while extracting datalab information for 엘로이:\n",
            "Error while navigating to reviews for 엘로이:\n"
          ]
        },
        {
          "name": "stderr",
          "output_type": "stream",
          "text": [
            " 98%|█████████▊| 975/999 [6:06:44<08:17, 20.74s/it]"
          ]
        },
        {
          "name": "stdout",
          "output_type": "stream",
          "text": [
            "이미지 추출 오류 6 for 엘로이 \n",
            "이미지 추출 오류 7 for 엘로이 \n",
            "이미지 추출 오류 8 for 엘로이 \n",
            "이미지 추출 오류 9 for 엘로이 \n",
            "이미지 추출 오류 10 for 엘로이 \n",
            "엘리사: searchIframe 로드 및 프레임 전환 완료\n",
            "엘리사: 첫 번째 가게 클릭 후 전환되지 않음. 다음 가게로 진행\n",
            "entryIframe 로드.\n",
            "Error while extracting datalab information for 엘리사:\n",
            "Error while navigating to reviews for 엘리사:\n"
          ]
        },
        {
          "name": "stderr",
          "output_type": "stream",
          "text": [
            " 98%|█████████▊| 976/999 [6:07:10<08:32, 22.30s/it]"
          ]
        },
        {
          "name": "stdout",
          "output_type": "stream",
          "text": [
            "엘리펀시아: searchIframe 로드 및 프레임 전환 완료\n",
            "Error while clicking first search result for 엘리펀시아: Unable to locate list container.\n"
          ]
        },
        {
          "name": "stderr",
          "output_type": "stream",
          "text": [
            " 98%|█████████▊| 977/999 [6:07:31<08:00, 21.83s/it]"
          ]
        },
        {
          "name": "stdout",
          "output_type": "stream",
          "text": [
            "Failed to load iframe after multiple attempts for 엘리펀시아.\n",
            "crawling fatil : 엘리펀시아 to fail_to_crawling\n",
            "엘림소반: searchIframe 로드 및 프레임 전환 완료\n",
            "엘림소반: entryIframe이 이미 로드됨. 클릭 없이 바로 진행\n",
            "entryIframe 로드.\n",
            "Error while extracting menu/features for 엘림소반, div 1:\n",
            "Error while extracting menu/features for 엘림소반, div 2:\n"
          ]
        },
        {
          "name": "stderr",
          "output_type": "stream",
          "text": [
            " 98%|█████████▊| 978/999 [6:07:52<07:34, 21.65s/it]"
          ]
        },
        {
          "name": "stdout",
          "output_type": "stream",
          "text": [
            "엘에이본즈: searchIframe 로드 및 프레임 전환 완료\n",
            "Error while clicking first search result for 엘에이본즈: Unable to locate list container.\n"
          ]
        },
        {
          "name": "stderr",
          "output_type": "stream",
          "text": [
            " 98%|█████████▊| 979/999 [6:08:13<07:08, 21.44s/it]"
          ]
        },
        {
          "name": "stdout",
          "output_type": "stream",
          "text": [
            "Failed to load iframe after multiple attempts for 엘에이본즈.\n",
            "crawling fatil : 엘에이본즈 to fail_to_crawling\n",
            "엘에이치큐스타트하우스: searchIframe 로드 및 프레임 전환 완료\n",
            "엘에이치큐스타트하우스: entryIframe이 이미 로드됨. 클릭 없이 바로 진행\n",
            "entryIframe 로드.\n",
            "Error while extracting datalab information for 엘에이치큐스타트하우스:\n",
            "Error while extracting menu/features for 엘에이치큐스타트하우스, div 1:\n",
            "Error while extracting menu/features for 엘에이치큐스타트하우스, div 2:\n"
          ]
        },
        {
          "name": "stderr",
          "output_type": "stream",
          "text": [
            " 98%|█████████▊| 980/999 [6:08:34<06:43, 21.22s/it]"
          ]
        },
        {
          "name": "stdout",
          "output_type": "stream",
          "text": [
            "이미지 추출 오류 9 for 엘에이치큐스타트하우스 \n",
            "이미지 추출 오류 10 for 엘에이치큐스타트하우스 \n",
            "엘코테: searchIframe 로드 및 프레임 전환 완료\n",
            "엘코테: entryIframe이 이미 로드됨. 클릭 없이 바로 진행\n",
            "entryIframe 로드.\n",
            "Error while extracting menu/features for 엘코테, div 1:\n",
            "Error while extracting menu/features for 엘코테, div 2:\n"
          ]
        },
        {
          "name": "stderr",
          "output_type": "stream",
          "text": [
            " 98%|█████████▊| 981/999 [6:08:53<06:11, 20.66s/it]"
          ]
        },
        {
          "name": "stdout",
          "output_type": "stream",
          "text": [
            " 사진 버튼 없음 : 엘코테.\n",
            "엘파소: searchIframe 로드 및 프레임 전환 완료\n",
            "엘파소: 첫 번째 가게 클릭 후 전환되지 않음. 다음 가게로 진행\n",
            "entryIframe 로드.\n",
            "Error while extracting menu/features for 엘파소, div 1:\n",
            "Error while extracting menu/features for 엘파소, div 2:\n"
          ]
        },
        {
          "name": "stderr",
          "output_type": "stream",
          "text": [
            " 98%|█████████▊| 982/999 [6:09:22<06:31, 23.04s/it]"
          ]
        },
        {
          "name": "stdout",
          "output_type": "stream",
          "text": [
            "엠 라운지 M Lounge: searchIframe 로드 및 프레임 전환 완료\n",
            "엠 라운지 M Lounge: 첫 번째 가게 클릭 후 전환되지 않음. 다음 가게로 진행\n",
            "entryIframe 로드.\n",
            "Error while extracting datalab information for 엠 라운지 M Lounge:\n",
            "Error while navigating to reviews for 엠 라운지 M Lounge:\n"
          ]
        },
        {
          "name": "stderr",
          "output_type": "stream",
          "text": [
            " 98%|█████████▊| 983/999 [6:09:47<06:21, 23.87s/it]"
          ]
        },
        {
          "name": "stdout",
          "output_type": "stream",
          "text": [
            "이미지 추출 오류 2 for 엠 라운지 M Lounge \n",
            "이미지 추출 오류 3 for 엠 라운지 M Lounge \n",
            "이미지 추출 오류 4 for 엠 라운지 M Lounge \n",
            "이미지 추출 오류 5 for 엠 라운지 M Lounge \n",
            "이미지 추출 오류 6 for 엠 라운지 M Lounge \n",
            "이미지 추출 오류 7 for 엠 라운지 M Lounge \n",
            "이미지 추출 오류 8 for 엠 라운지 M Lounge \n",
            "이미지 추출 오류 9 for 엠 라운지 M Lounge \n",
            "이미지 추출 오류 10 for 엠 라운지 M Lounge \n",
            "엠소마앤엠단테 성산점: searchIframe 로드 및 프레임 전환 완료\n",
            "Error while clicking first search result for 엠소마앤엠단테 성산점: Unable to locate list container.\n"
          ]
        },
        {
          "name": "stderr",
          "output_type": "stream",
          "text": [
            " 98%|█████████▊| 984/999 [6:10:09<05:46, 23.08s/it]"
          ]
        },
        {
          "name": "stdout",
          "output_type": "stream",
          "text": [
            "Failed to load iframe after multiple attempts for 엠소마앤엠단테 성산점.\n",
            "crawling fatil : 엠소마앤엠단테 성산점 to fail_to_crawling\n",
            "엠에스엠푸드 주식회사: searchIframe 로드 및 프레임 전환 완료\n",
            "Error while clicking first search result for 엠에스엠푸드 주식회사: Unable to locate list container.\n"
          ]
        },
        {
          "name": "stderr",
          "output_type": "stream",
          "text": [
            " 99%|█████████▊| 985/999 [6:10:30<05:16, 22.58s/it]"
          ]
        },
        {
          "name": "stdout",
          "output_type": "stream",
          "text": [
            "Failed to load iframe after multiple attempts for 엠에스엠푸드 주식회사.\n",
            "crawling fatil : 엠에스엠푸드 주식회사 to fail_to_crawling\n",
            "엠에이티(MAT): searchIframe 로드 및 프레임 전환 완료\n",
            "엠에이티(MAT): 링크버튼을 찾을 수 없음. xpath 대신 다른 방법 시도\n"
          ]
        },
        {
          "name": "stderr",
          "output_type": "stream",
          "text": [
            " 99%|█████████▊| 986/999 [6:10:48<04:34, 21.15s/it]"
          ]
        },
        {
          "name": "stdout",
          "output_type": "stream",
          "text": [
            "Failed to load iframe after multiple attempts for 엠에이티(MAT).\n",
            "crawling fatil : 엠에이티(MAT) to fail_to_crawling\n",
            "엠제이돼지본점: searchIframe 로드 및 프레임 전환 완료\n",
            "엠제이돼지본점: entryIframe이 이미 로드됨. 클릭 없이 바로 진행\n",
            "entryIframe 로드.\n",
            "Error while extracting menu/features for 엠제이돼지본점, div 1:\n",
            "Error while extracting menu/features for 엠제이돼지본점, div 2:\n"
          ]
        },
        {
          "name": "stderr",
          "output_type": "stream",
          "text": [
            " 99%|█████████▉| 987/999 [6:11:07<04:07, 20.66s/it]"
          ]
        },
        {
          "name": "stdout",
          "output_type": "stream",
          "text": [
            "엠츄로: searchIframe 로드 및 프레임 전환 완료\n",
            "엠츄로: entryIframe이 이미 로드됨. 클릭 없이 바로 진행\n",
            "entryIframe 로드.\n",
            "Error while extracting menu/features for 엠츄로, div 1:\n",
            "Error while extracting menu/features for 엠츄로, div 2:\n"
          ]
        },
        {
          "name": "stderr",
          "output_type": "stream",
          "text": [
            " 99%|█████████▉| 988/999 [6:11:28<03:48, 20.77s/it]"
          ]
        },
        {
          "name": "stdout",
          "output_type": "stream",
          "text": [
            "엠케이엠주식회사: searchIframe 로드 및 프레임 전환 완료\n",
            "Error while clicking first search result for 엠케이엠주식회사: Unable to locate list container.\n"
          ]
        },
        {
          "name": "stderr",
          "output_type": "stream",
          "text": [
            " 99%|█████████▉| 989/999 [6:11:49<03:27, 20.73s/it]"
          ]
        },
        {
          "name": "stdout",
          "output_type": "stream",
          "text": [
            "Failed to load iframe after multiple attempts for 엠케이엠주식회사.\n",
            "crawling fatil : 엠케이엠주식회사 to fail_to_crawling\n",
            "여: searchIframe 로드 및 프레임 전환 완료\n",
            "여: 링크버튼을 찾을 수 없음. xpath 대신 다른 방법 시도\n"
          ]
        },
        {
          "name": "stderr",
          "output_type": "stream",
          "text": [
            " 99%|█████████▉| 990/999 [6:12:07<02:59, 19.92s/it]"
          ]
        },
        {
          "name": "stdout",
          "output_type": "stream",
          "text": [
            "Failed to load iframe after multiple attempts for 여.\n",
            "crawling fatil : 여 to fail_to_crawling\n",
            "여기고씨네: searchIframe 로드 및 프레임 전환 완료\n",
            "여기고씨네: 첫 번째 가게 클릭 후 전환되지 않음. 다음 가게로 진행\n",
            "entryIframe 로드.\n",
            "Error while extracting menu/features for 여기고씨네, div 1:\n",
            "Error while extracting menu/features for 여기고씨네, div 2:\n"
          ]
        },
        {
          "name": "stderr",
          "output_type": "stream",
          "text": [
            " 99%|█████████▉| 991/999 [6:12:33<02:54, 21.79s/it]"
          ]
        },
        {
          "name": "stdout",
          "output_type": "stream",
          "text": [
            "여기야: searchIframe 로드 및 프레임 전환 완료\n",
            "여기야: 링크버튼을 찾을 수 없음. xpath 대신 다른 방법 시도\n"
          ]
        },
        {
          "name": "stderr",
          "output_type": "stream",
          "text": [
            " 99%|█████████▉| 992/999 [6:12:51<02:23, 20.54s/it]"
          ]
        },
        {
          "name": "stdout",
          "output_type": "stream",
          "text": [
            "Failed to load iframe after multiple attempts for 여기야.\n",
            "crawling fatil : 여기야 to fail_to_crawling\n",
            "여기왕언제먹을래?: searchIframe 로드 및 프레임 전환 완료\n",
            "여기왕언제먹을래?: entryIframe이 이미 로드됨. 클릭 없이 바로 진행\n",
            "entryIframe 로드.\n",
            "Error while extracting menu/features for 여기왕언제먹을래?, div 1:\n",
            "Error while extracting menu/features for 여기왕언제먹을래?, div 2:\n"
          ]
        },
        {
          "name": "stderr",
          "output_type": "stream",
          "text": [
            " 99%|█████████▉| 993/999 [6:13:10<02:00, 20.12s/it]"
          ]
        },
        {
          "name": "stdout",
          "output_type": "stream",
          "text": [
            "여누카페: searchIframe 로드 및 프레임 전환 완료\n",
            "여누카페: 첫 번째 가게 클릭 후 전환되지 않음. 다음 가게로 진행\n",
            "entryIframe 로드.\n",
            "Error while extracting menu/features for 여누카페, div 1:\n",
            "Error while extracting menu/features for 여누카페, div 2:\n"
          ]
        },
        {
          "name": "stderr",
          "output_type": "stream",
          "text": [
            " 99%|█████████▉| 994/999 [6:13:38<01:52, 22.45s/it]"
          ]
        },
        {
          "name": "stdout",
          "output_type": "stream",
          "text": [
            "여러분식당: searchIframe 로드 및 프레임 전환 완료\n",
            "여러분식당: 첫 번째 가게 클릭 후 전환되지 않음. 다음 가게로 진행\n",
            "entryIframe 로드.\n",
            "Error while extracting datalab information for 여러분식당:\n",
            "Error while navigating to reviews for 여러분식당:\n"
          ]
        },
        {
          "name": "stderr",
          "output_type": "stream",
          "text": [
            "100%|█████████▉| 995/999 [6:14:05<01:35, 23.97s/it]"
          ]
        },
        {
          "name": "stdout",
          "output_type": "stream",
          "text": [
            "여술: searchIframe 로드 및 프레임 전환 완료\n",
            "여술: 링크버튼을 찾을 수 없음. xpath 대신 다른 방법 시도\n"
          ]
        },
        {
          "name": "stderr",
          "output_type": "stream",
          "text": [
            "100%|█████████▉| 996/999 [6:14:23<01:06, 22.07s/it]"
          ]
        },
        {
          "name": "stdout",
          "output_type": "stream",
          "text": [
            "Failed to load iframe after multiple attempts for 여술.\n",
            "crawling fatil : 여술 to fail_to_crawling\n",
            "여우네: searchIframe 로드 및 프레임 전환 완료\n",
            "여우네: 링크버튼을 찾을 수 없음. xpath 대신 다른 방법 시도\n"
          ]
        },
        {
          "name": "stderr",
          "output_type": "stream",
          "text": [
            "100%|█████████▉| 997/999 [6:14:41<00:41, 20.83s/it]"
          ]
        },
        {
          "name": "stdout",
          "output_type": "stream",
          "text": [
            "Failed to load iframe after multiple attempts for 여우네.\n",
            "crawling fatil : 여우네 to fail_to_crawling\n",
            "여우비: searchIframe 로드 및 프레임 전환 완료\n",
            "여우비: 첫 번째 가게 클릭 후 전환되지 않음. 다음 가게로 진행\n",
            "entryIframe 로드.\n",
            "Error while extracting datalab information for 여우비:\n",
            "Error while navigating to reviews for 여우비:\n"
          ]
        },
        {
          "name": "stderr",
          "output_type": "stream",
          "text": [
            "100%|█████████▉| 998/999 [6:15:07<00:22, 22.37s/it]"
          ]
        },
        {
          "name": "stdout",
          "output_type": "stream",
          "text": [
            "이미지 추출 오류 5 for 여우비 \n",
            "이미지 추출 오류 6 for 여우비 \n",
            "이미지 추출 오류 7 for 여우비 \n",
            "이미지 추출 오류 8 for 여우비 \n",
            "이미지 추출 오류 9 for 여우비 \n",
            "이미지 추출 오류 10 for 여우비 \n",
            "여인천하: searchIframe 로드 및 프레임 전환 완료\n",
            "여인천하: 링크버튼을 찾을 수 없음. xpath 대신 다른 방법 시도\n"
          ]
        },
        {
          "name": "stderr",
          "output_type": "stream",
          "text": [
            "100%|██████████| 999/999 [6:15:25<00:00, 22.55s/it]"
          ]
        },
        {
          "name": "stdout",
          "output_type": "stream",
          "text": [
            "Failed to load iframe after multiple attempts for 여인천하.\n",
            "crawling fatil : 여인천하 to fail_to_crawling\n"
          ]
        },
        {
          "name": "stderr",
          "output_type": "stream",
          "text": [
            "\n"
          ]
        }
      ],
      "source": [
        "# Define the list of stores to be scraped\n",
        "stores = search_cols_1\n",
        "# stores = ['협재해녀의집']\n",
        "# Initialize webdriver options and webdriver\n",
        "options = webdriver.ChromeOptions()\n",
        "options.add_argument(\"--start-maximized\")\n",
        "driver = webdriver.Chrome(options=options)\n",
        "\n",
        "action = ActionChains(driver)\n",
        "fail_to_crawling = []\n",
        "\n",
        "\n",
        "###################### 검색 키워드를 바탕으로 시작\n",
        "results = []\n",
        "for store in tqdm(stores):\n",
        "    not_loading=False\n",
        "    result = {}\n",
        "    ######################### 기본세팅\n",
        "    # URL 입력\n",
        "    keyword = store\n",
        "    url = f'https://map.naver.com/p/search/{keyword}'\n",
        "    driver.get(url)\n",
        "    \n",
        "    # 페이지 로드 \n",
        "    try:\n",
        "        WebDriverWait(driver, 3).until(\n",
        "            lambda d: d.execute_script('return document.readyState') == 'complete'\n",
        "        )\n",
        "        # print(f\"{store}: 페이지 로드 완료\")\n",
        "    except TimeoutException:\n",
        "        print(f\"타임아웃 for {store}!\")\n",
        "        continue\n",
        "\n",
        "    # iframe을 찾고, 해당 iframe이 searchIframe인지 entryIframe인지 구분\n",
        "    while True:\n",
        "        try:\n",
        "            iframe = WebDriverWait(driver, 3).until(\n",
        "                EC.presence_of_element_located((By.XPATH, '//*[@id=\"searchIframe\" or @id=\"entryIframe\"]'))\n",
        "            )\n",
        "            iframe_id = iframe.get_attribute(\"id\")\n",
        "            driver.switch_to.frame(iframe)\n",
        "            print(f\"{store}: {iframe_id} 로드 및 프레임 전환 완료\")\n",
        "\n",
        "            if iframe_id == \"searchIframe\":\n",
        "                # searchIframe일 경우 entryIframe이 있는지 먼저 확인\n",
        "                driver.switch_to.default_content()\n",
        "                try:\n",
        "                    entry_iframe = WebDriverWait(driver, 3).until(\n",
        "                        EC.presence_of_element_located((By.ID, 'entryIframe'))\n",
        "                    )\n",
        "                    # entryIframe이 이미 로드된 경우: 클릭하지 않고 바로 entryIframe 처리로 넘어감\n",
        "                    print(f\"{store}: entryIframe이 이미 로드됨. 클릭 없이 바로 진행\")\n",
        "                    driver.switch_to.frame(entry_iframe)\n",
        "                    break\n",
        "                except TimeoutException:\n",
        "                    # entryIframe이 없는 경우: searchIframe 내에서 클릭 진행\n",
        "                    driver.switch_to.frame(iframe)\n",
        "                    time.sleep(1)\n",
        "                    try:\n",
        "                        list_scroll_container = WebDriverWait(driver, 3).until(\n",
        "                            EC.presence_of_element_located((By.XPATH, '//*[@id=\"app-root\"]/div[@class=\"mFg6p\"]/div[@class=\"XUrfU\"]/div[@class=\"Ryr1F\"]'))\n",
        "                        )\n",
        "                        # print(f\"{store}: 검색 결과 로드 완료\")\n",
        "                        # 첫번째 가게항목 찾기\n",
        "                        try:\n",
        "                            first_result = list_scroll_container.find_element(By.XPATH, './ul/li[1]')\n",
        "                        except NoSuchElementException:\n",
        "                            print(f\"{store}: 첫 번째 가게 항목을 찾을 수 없음\")\n",
        "                            break\n",
        "\n",
        "                        # Try clicking using XPath first with different methods\n",
        "                        try:\n",
        "                            link_button = first_result.find_element(By.XPATH, './div[1]/div[2]/a[1]/div/div/span')\n",
        "                            # print(f\"{store}: 링크 버튼 찾기 성공, 클릭 시도 중\")\n",
        "                            \n",
        "                            # Method 1: Use ActionChains\n",
        "                            try:\n",
        "                                action.move_to_element(link_button).click().perform()\n",
        "                                # print(f\"{store}: 첫 번째 가게 클릭 성공 (ActionChains)\")\n",
        "                            except Exception as e:\n",
        "                                print(f\"{store}: ActionChains 클릭 실패 - {e}, 자바스크립트를 이용해 클릭 시도 중\")\n",
        "                                # Method 2: Use JavaScript click\n",
        "                                driver.execute_script(\"arguments[0].click();\", link_button)\n",
        "                                # print(f\"{store}: 첫 번째 가게 클릭 성공 (JavaScript)\")\n",
        "\n",
        "                            time.sleep(1)\n",
        "                            driver.switch_to.default_content()\n",
        "\n",
        "                            # searchIframe이 사라질 때까지 대기 (entryIframe으로 전환 준비)\n",
        "                            WebDriverWait(driver, 2).until_not(\n",
        "                                EC.presence_of_element_located((By.ID, \"searchIframe\"))\n",
        "                            )\n",
        "                            # print(f\"{store}: searchIframe이 사라지고 entryIframe 로드를 기다림\")\n",
        "                        except NoSuchElementException:\n",
        "                            print(f\"{store}: 링크버튼을 찾을 수 없음. xpath 대신 다른 방법 시도\")\n",
        "                            break\n",
        "                        except TimeoutException:\n",
        "                            print(f\"{store}: 첫 번째 가게 클릭 후 전환되지 않음. 다음 가게로 진행\")\n",
        "                            break\n",
        "                    except TimeoutException:\n",
        "                        print(f\"Error while clicking first search result for {store}: Unable to locate list container.\")\n",
        "                        break\n",
        "            elif iframe_id == \"entryIframe\":\n",
        "                # entryIframe일 경우 바로 진행\n",
        "                print(f\"{store}: entryIframe 로드됨. 데이터 로딩 확인 진행 중\")\n",
        "                break\n",
        "        except TimeoutException:\n",
        "            print(f\"iframe을 찾을 수 없음 for {store}\")\n",
        "            fail_to_crawling.append(store)\n",
        "            not_loading = True\n",
        "            break\n",
        "    if not_loading :\n",
        "        continue\n",
        "    # 2. entryIframe일 경우 밑의 코드 진행 \n",
        "    # iframe 세팅\n",
        "    attempts = 0\n",
        "    max_attempts = 2\n",
        "    while attempts < max_attempts:\n",
        "        try:\n",
        "            driver.switch_to.default_content()\n",
        "            iframe = WebDriverWait(driver, 5).until(\n",
        "                EC.presence_of_element_located((By.XPATH, '//*[@id=\"entryIframe\"]'))\n",
        "            )\n",
        "            print(f\"entryIframe 로드.\")\n",
        "            driver.switch_to.frame(iframe)\n",
        "            break\n",
        "        except TimeoutException:\n",
        "            attempts += 1\n",
        "            time.sleep(1)  \n",
        "            if attempts == max_attempts:\n",
        "                print(f\"Failed to load iframe after multiple attempts for {store}.\")\n",
        "                # 크롤링 실패한 부분은 리스트에 저장해서 다시 돌릴 수 있도록 지정\n",
        "                \n",
        "                not_loading=True\n",
        "                break\n",
        "    if not_loading :\n",
        "        print(f\"crawling fatil : {store} to fail_to_crawling\")\n",
        "        fail_to_crawling.append(store)\n",
        "        continue\n",
        "    # 로딩을 위해 스크롤링 진행\n",
        "    SCROLL_PAUSE_TIME = 2\n",
        "    last_height = driver.execute_script(\"return document.body.scrollHeight\")\n",
        "    while True:\n",
        "        driver.execute_script(\"window.scrollTo(0, document.body.scrollHeight);\")\n",
        "        time.sleep(SCROLL_PAUSE_TIME)\n",
        "        new_height = driver.execute_script(\"return document.body.scrollHeight\")\n",
        "        if new_height == last_height:\n",
        "            break\n",
        "        last_height = new_height\n",
        "    \n",
        "    \n",
        "    time.sleep(1)\n",
        "    ## 주소 가져오기\n",
        "    try:\n",
        "        app_root = driver.find_element(By.XPATH, '//*[@id=\"app-root\"]')\n",
        "        main_div = app_root.find_element(By.XPATH, './div/div/div[@role=\"main\"]')\n",
        "        target_div = main_div.find_element(By.XPATH, './div[contains(@style, \"min-height\")]')\n",
        "        address_section = target_div.find_element(By.XPATH, './div/div[2]')\n",
        "        address_keyword = address_section.find_element(By.CLASS_NAME, 'place_section_content')\n",
        "        \n",
        "        # entryIframe에서 로드가 끝난 후 스크롤이 완료된 뒤 실행\n",
        "        target_element = address_keyword.find_element(By.XPATH, './/a/span[1]')\n",
        "\n",
        "        ldgih_text = target_element.text\n",
        "        # print(f\"LDgIH 클래스 내용: {ldgih_text}\")\n",
        "        # result[\"주소\"] = ldgih_text\n",
        "    except NoSuchElementException:\n",
        "        ldgih_text = None\n",
        "    except Exception as e:\n",
        "        ldgih_text = None\n",
        "    ###################### datalab 크롤링\n",
        "    try:\n",
        "        app_root = driver.find_element(By.XPATH, '//*[@id=\"app-root\"]')\n",
        "        main_div = app_root.find_element(By.XPATH, './div/div/div[@role=\"main\"]')\n",
        "        target_div = main_div.find_element(By.XPATH, './div[contains(@style, \"min-height\")]')\n",
        "        datalab_section = target_div.find_element(By.XPATH, './div/div[9]')\n",
        "        theme_keywords = datalab_section.find_element(By.CLASS_NAME, 'place_section_content')\n",
        "\n",
        "        atmosphere_elements = theme_keywords.find_elements(By.XPATH, \".//ul/li[span[contains(text(), '분위기')]]/span[@class='sJgQj']/span\")\n",
        "        popular_elements = theme_keywords.find_elements(By.XPATH, \".//ul/li[span[contains(text(), '인기토픽')]]/span[@class='sJgQj']/span\")\n",
        "        purpose_elements = theme_keywords.find_elements(By.XPATH, \".//ul/li[span[contains(text(), '찾는목적')]]/span[@class='sJgQj']/span\")\n",
        "\n",
        "        atmosphere = [elem.text for elem in atmosphere_elements]\n",
        "        popular_topics = [elem.text for elem in popular_elements]\n",
        "        purpose = [elem.text for elem in purpose_elements]\n",
        "        result = {\n",
        "            \"가게\": store,\n",
        "            '주소' : ldgih_text,\n",
        "            \"테마_분위기\": atmosphere,\n",
        "            \"테마_인기토픽\": popular_topics,\n",
        "            \"테마_찾는목적\": purpose\n",
        "        }\n",
        "        # results.append(result)\n",
        "    except Exception as e:\n",
        "        print(f\"Error while extracting datalab information for {store}:\")\n",
        "    time.sleep(3)\n",
        "\n",
        "    ############################## 리뷰로 넘어가서 진행하기\n",
        "    try:\n",
        "        # 리뷰버튼 클릭\n",
        "        for k in range(1, 6) : \n",
        "            try: \n",
        "                tab_button = driver.find_element(By.XPATH, f'//*[@id=\"app-root\"]/div/div/div/div[4]/div/div/div/div/a[{k}]')\n",
        "                span_text = tab_button.find_element(By.XPATH, './span').text\n",
        "                if span_text == '리뷰':\n",
        "                    review_button = tab_button\n",
        "                    break \n",
        "            except Exception as e:\n",
        "                continue \n",
        "        if review_button: \n",
        "            review_button.click() \n",
        "            # 리뷰 탭 로딩 확인\n",
        "            try:\n",
        "                WebDriverWait(driver, 5).until(\n",
        "                    EC.presence_of_element_located((By.XPATH, '//*[@id=\"app-root\"]/div/div/div/div[6]'))\n",
        "                )\n",
        "                # print(f\"{store}: 리뷰 페이지 로드 성공\")\n",
        "            except TimeoutException:\n",
        "                print(f\"{store}: 리뷰 페이지 로드 실패, 사진 수집으로 넘어가지 않음\")\n",
        "                continue\n",
        "\n",
        "        # iframe 로딩을 위해 스크롤링 진행\n",
        "        last_height = driver.execute_script(\"return document.body.scrollHeight\")\n",
        "        while True:\n",
        "            driver.execute_script(\"window.scrollTo(0, document.body.scrollHeight);\")\n",
        "            time.sleep(SCROLL_PAUSE_TIME)\n",
        "            new_height = driver.execute_script(\"return document.body.scrollHeight\")\n",
        "            if new_height == last_height:\n",
        "                break\n",
        "            last_height = new_height\n",
        "        # time.sleep(2)\n",
        "\n",
        "        # 리뷰 정보를 수집할 준비\n",
        "        \n",
        "        ############################## 리뷰 정보 수집\n",
        "        try:\n",
        "            review_box = driver.find_element(By.XPATH, '//*[@id=\"app-root\"]/div/div/div/div[6]/div[3]/div[3]/div[1]')\n",
        "        except:\n",
        "            review_box = driver.find_element(By.CLASS_NAME, 'place_section_content')\n",
        "\n",
        "        try:\n",
        "            tag_filters = review_box.find_element(By.XPATH, '//*[@id=\"_tag_filters\"]/div/div')\n",
        "        except:\n",
        "            tag_filters = review_box.find_element(By.CLASS_NAME, 'mWnvl')\n",
        "\n",
        "        menu_features = {}\n",
        "        feature_items = {}\n",
        "        for n in range(1, 3):\n",
        "            try:\n",
        "                div_element = tag_filters.find_element(By.XPATH, f'//*[@id=\"_tag_filters\"]/div/div[{n}]')\n",
        "            except:\n",
        "                div_element = tag_filters.find_element(By.XPATH, f'.//div[{n}]')\n",
        "\n",
        "            if n == 1:\n",
        "                div_class = \"JWiV0 eZMAS xcTvu\"  # 메뉴\n",
        "            elif n == 2:\n",
        "                div_class = \"JWiV0 khWUF eZMAS xcTvu\"  # 특징\n",
        "\n",
        "            try:\n",
        "                menu_items = div_element.find_elements(By.XPATH, './/a')\n",
        "                for item in menu_items:\n",
        "                    span_1 = item.find_element(By.XPATH, './span[1]').text\n",
        "                    span_2 = item.find_element(By.XPATH, './span[2]').text\n",
        "                    if n == 1:\n",
        "                        menu_features[span_1] = span_2\n",
        "                    elif n == 2:\n",
        "                        feature_items[span_1] = span_2\n",
        "            except Exception as e:\n",
        "                print(f\"Error while extracting menu/features for {store}, div {n}:\")\n",
        "\n",
        "        # Add the menu and features data to the result\n",
        "        result[\"메뉴\"] = menu_features\n",
        "        result[\"특징\"] = feature_items\n",
        "    except Exception as e:\n",
        "        print(f\"Error while navigating to reviews for {store}:\")\n",
        "    \n",
        "    ############################## 사진으로 넘어가서 진행하기\n",
        "    try:\n",
        "        # 사진 버튼 클릭\n",
        "        photo_button = None\n",
        "        for k in range(1, 6):\n",
        "            try:\n",
        "                tab_button = driver.find_element(By.XPATH, f'//*[@id=\"app-root\"]/div/div/div/div[4]/div/div/div/div/a[{k}]')\n",
        "                span_text = tab_button.find_element(By.XPATH, './span').text\n",
        "                if span_text == '사진':\n",
        "                    photo_button = tab_button\n",
        "                    \n",
        "                    break\n",
        "            except Exception as e:\n",
        "                continue\n",
        "        \n",
        "        if photo_button:\n",
        "            photo_button.click()\n",
        "            time.sleep(3)\n",
        "            WebDriverWait(driver, 5).until(\n",
        "                    EC.presence_of_element_located((By.XPATH, '//*[@id=\"app-root\"]/div/div/div/div[2]'))\n",
        "                )\n",
        "        else:\n",
        "            print(f\" 사진 버튼 없음 : {store}.\")\n",
        "            continue\n",
        "        \n",
        "        # 스크롤 세 번 진행\n",
        "        for _ in range(3):\n",
        "            driver.execute_script(\"window.scrollTo(0, document.body.scrollHeight);\")\n",
        "        time.sleep(1)\n",
        "        \n",
        "        # 사진 정보 수집\n",
        "        pic_tmp = []\n",
        "        try:\n",
        "            app_root = driver.find_element(By.XPATH, '//*[@id=\"app-root\"]')\n",
        "            main_div = app_root.find_element(By.XPATH, './div/div')\n",
        "            role_main_div = main_div.find_element(By.XPATH, './div[@role=\"main\"]')\n",
        "            target_div = role_main_div.find_element(By.XPATH, './div[contains(@style, \"min-height\")]')\n",
        "        except Exception as e:\n",
        "            print(f\"위치 못찾음 : {store}:\")\n",
        "            continue\n",
        "\n",
        "        try:\n",
        "            photo_section = target_div.find_element(By.XPATH, './div[contains(@class, \"place_section\")]')\n",
        "            # print(f'photo_section found: {photo_section}')\n",
        "        except:\n",
        "            try:\n",
        "                photo_section = target_div.find_element(By.CLASS_NAME, 'place_section no_margin')\n",
        "                # print(f'photo_section (alternative) found: {photo_section}')\n",
        "            except Exception as e:\n",
        "                print(f\"photo section 못찾음 {store}\")\n",
        "                continue\n",
        "        try:\n",
        "            photo_content = WebDriverWait(driver, 1).until(\n",
        "                EC.presence_of_element_located((By.CLASS_NAME, 'place_section_content'))\n",
        "            )\n",
        "            # print(f'photo_content found: {photo_content}')\n",
        "        except Exception as e:\n",
        "            print(f'photo_content 못찾음 {store}')\n",
        "            continue\n",
        "\n",
        "        # print(f\"photo_content : {photo_content}\")\n",
        "        for n in range(1, 11):\n",
        "            try:\n",
        "                photo_div = photo_content.find_element(By.XPATH, f'./div/div/div[{n}]/a')\n",
        "                img_element = photo_div.find_element(By.XPATH, './img')\n",
        "                img_src = img_element.get_attribute('src')\n",
        "                pic_tmp.append(img_src)\n",
        "            except Exception as e:\n",
        "                print(f\"이미지 추출 오류 {n} for {store} \")\n",
        "\n",
        "        result[\"사진\"] = pic_tmp\n",
        "    except Exception as e:\n",
        "        print(f\"Error while navigating to photos for {store}:\")\n",
        "\n",
        "    # Append the result for each store\n",
        "    results.append(result)\n",
        "\n",
        "################ Close the browser\n",
        "driver.quit()\n",
        "\n",
        "################### 크롤링 최종결과를 df에 저장\n",
        "df = pd.DataFrame(results)\n",
        "################## 원본데이터에 입력\n",
        "# df = pd.merge(df, shinhan, on='가게명', how='outer')\n",
        "\n",
        "################### 통합된 데이터 저장\n",
        "# df.to_csv('./crawling_shinhan.csv', index=False)\n"
      ]
    },
    {
      "cell_type": "markdown",
      "metadata": {},
      "source": [
        "# 테스트"
      ]
    },
    {
      "cell_type": "markdown",
      "metadata": {},
      "source": [
        "크롤링 실패한 부분 정리하고 결과물 저장"
      ]
    },
    {
      "cell_type": "code",
      "execution_count": 53,
      "metadata": {},
      "outputs": [
        {
          "data": {
            "text/plain": [
              "0"
            ]
          },
          "execution_count": 53,
          "metadata": {},
          "output_type": "execute_result"
        }
      ],
      "source": [
        "df['사진'].isna().sum()"
      ]
    },
    {
      "cell_type": "code",
      "execution_count": 54,
      "metadata": {},
      "outputs": [
        {
          "data": {
            "text/html": [
              "<div>\n",
              "<style scoped>\n",
              "    .dataframe tbody tr th:only-of-type {\n",
              "        vertical-align: middle;\n",
              "    }\n",
              "\n",
              "    .dataframe tbody tr th {\n",
              "        vertical-align: top;\n",
              "    }\n",
              "\n",
              "    .dataframe thead th {\n",
              "        text-align: right;\n",
              "    }\n",
              "</style>\n",
              "<table border=\"1\" class=\"dataframe\">\n",
              "  <thead>\n",
              "    <tr style=\"text-align: right;\">\n",
              "      <th></th>\n",
              "      <th>가게</th>\n",
              "      <th>주소</th>\n",
              "      <th>테마_분위기</th>\n",
              "      <th>테마_인기토픽</th>\n",
              "      <th>테마_찾는목적</th>\n",
              "      <th>메뉴</th>\n",
              "      <th>특징</th>\n",
              "      <th>사진</th>\n",
              "    </tr>\n",
              "  </thead>\n",
              "  <tbody>\n",
              "    <tr>\n",
              "      <th>0</th>\n",
              "      <td>송키</td>\n",
              "      <td>제주 제주시 연삼로 344 1층</td>\n",
              "      <td>[]</td>\n",
              "      <td>[]</td>\n",
              "      <td>[]</td>\n",
              "      <td>{'샤브샤브': '6', '고기': '2', '칼국수': '1', '돼지고기': '...</td>\n",
              "      <td>{'맛': '10', '만족도': '6', '서비스': '4', '음식량': '2'}</td>\n",
              "      <td>[https://search.pstatic.net/common/?autoRotate...</td>\n",
              "    </tr>\n",
              "    <tr>\n",
              "      <th>1</th>\n",
              "      <td>송탄부대찌개집</td>\n",
              "      <td>서울 중구 명동10길 35-20 3층</td>\n",
              "      <td>[]</td>\n",
              "      <td>[]</td>\n",
              "      <td>[]</td>\n",
              "      <td>{'부대찌개': '21', '라면': '17', '찌개': '17', '순두부': ...</td>\n",
              "      <td>{'맛': '80', '만족도': '40', '음식량': '11', '서비스': '...</td>\n",
              "      <td>[https://search.pstatic.net/common/?autoRotate...</td>\n",
              "    </tr>\n",
              "    <tr>\n",
              "      <th>2</th>\n",
              "      <td>송화</td>\n",
              "      <td>서울 강남구 강남대로94길 69</td>\n",
              "      <td>[]</td>\n",
              "      <td>[]</td>\n",
              "      <td>[]</td>\n",
              "      <td>{'비빔밥': '16', '육회': '16', '불고기': '12', '육회비빔밥'...</td>\n",
              "      <td>{'맛': '126', '만족도': '91', '서비스': '12', '메뉴': '...</td>\n",
              "      <td>[https://pup-review-phinf.pstatic.net/MjAyNDEw...</td>\n",
              "    </tr>\n",
              "    <tr>\n",
              "      <th>3</th>\n",
              "      <td>NaN</td>\n",
              "      <td>NaN</td>\n",
              "      <td>NaN</td>\n",
              "      <td>NaN</td>\n",
              "      <td>NaN</td>\n",
              "      <td>NaN</td>\n",
              "      <td>NaN</td>\n",
              "      <td>[https://pup-review-phinf.pstatic.net/MjAyNDA1...</td>\n",
              "    </tr>\n",
              "    <tr>\n",
              "      <th>4</th>\n",
              "      <td>송화정</td>\n",
              "      <td>서울 종로구 삼봉로 81 두산위브파빌리온</td>\n",
              "      <td>[]</td>\n",
              "      <td>[]</td>\n",
              "      <td>[]</td>\n",
              "      <td>{'소고기': '4', '불고기': '3', '갈비탕': '3', '삼겹살': '3...</td>\n",
              "      <td>{'맛': '23', '만족도': '17', '서비스': '8', '분위기': '1...</td>\n",
              "      <td>[https://search.pstatic.net/common/?autoRotate...</td>\n",
              "    </tr>\n",
              "    <tr>\n",
              "      <th>...</th>\n",
              "      <td>...</td>\n",
              "      <td>...</td>\n",
              "      <td>...</td>\n",
              "      <td>...</td>\n",
              "      <td>...</td>\n",
              "      <td>...</td>\n",
              "      <td>...</td>\n",
              "      <td>...</td>\n",
              "    </tr>\n",
              "    <tr>\n",
              "      <th>674</th>\n",
              "      <td>여기고씨네</td>\n",
              "      <td>제주 서귀포시 남원읍 신흥로13번길 23 여기고씨네 제주남원본점</td>\n",
              "      <td>[]</td>\n",
              "      <td>[]</td>\n",
              "      <td>[]</td>\n",
              "      <td>{'딱새우회': '773', '튀김': '409', '새우': '390', '새우튀...</td>\n",
              "      <td>{'맛': '2,431', '만족도': '1,940', '서비스': '1,266',...</td>\n",
              "      <td>[https://search.pstatic.net/common/?autoRotate...</td>\n",
              "    </tr>\n",
              "    <tr>\n",
              "      <th>675</th>\n",
              "      <td>여기왕언제먹을래?</td>\n",
              "      <td>제주 서귀포시 대정읍 신영로 121 2층</td>\n",
              "      <td>[]</td>\n",
              "      <td>[]</td>\n",
              "      <td>[]</td>\n",
              "      <td>{'고기': '23', '흑돼지': '19', '국수': '9', '삼겹살': '8...</td>\n",
              "      <td>{'맛': '55', '서비스': '36', '만족도': '33', '청결도': '...</td>\n",
              "      <td>[https://search.pstatic.net/common/?autoRotate...</td>\n",
              "    </tr>\n",
              "    <tr>\n",
              "      <th>676</th>\n",
              "      <td>여누카페</td>\n",
              "      <td>제주 제주시 조천읍 남조로 1842 1층 여누카페</td>\n",
              "      <td>[]</td>\n",
              "      <td>[]</td>\n",
              "      <td>[]</td>\n",
              "      <td>{'커피': '107', '라떼': '52', '꽈배기': '37', '아메리카노'...</td>\n",
              "      <td>{'맛': '236', '만족도': '215', '분위기': '87', '서비스':...</td>\n",
              "      <td>[https://search.pstatic.net/common/?autoRotate...</td>\n",
              "    </tr>\n",
              "    <tr>\n",
              "      <th>677</th>\n",
              "      <td>NaN</td>\n",
              "      <td>NaN</td>\n",
              "      <td>NaN</td>\n",
              "      <td>NaN</td>\n",
              "      <td>NaN</td>\n",
              "      <td>NaN</td>\n",
              "      <td>NaN</td>\n",
              "      <td>[https://search.pstatic.net/common/?autoRotate...</td>\n",
              "    </tr>\n",
              "    <tr>\n",
              "      <th>678</th>\n",
              "      <td>NaN</td>\n",
              "      <td>NaN</td>\n",
              "      <td>NaN</td>\n",
              "      <td>NaN</td>\n",
              "      <td>NaN</td>\n",
              "      <td>NaN</td>\n",
              "      <td>NaN</td>\n",
              "      <td>[https://search.pstatic.net/common/?autoRotate...</td>\n",
              "    </tr>\n",
              "  </tbody>\n",
              "</table>\n",
              "<p>679 rows × 8 columns</p>\n",
              "</div>"
            ],
            "text/plain": [
              "            가게                                   주소 테마_분위기 테마_인기토픽 테마_찾는목적  \\\n",
              "0           송키                    제주 제주시 연삼로 344 1층     []      []      []   \n",
              "1      송탄부대찌개집                 서울 중구 명동10길 35-20 3층     []      []      []   \n",
              "2           송화                    서울 강남구 강남대로94길 69     []      []      []   \n",
              "3          NaN                                  NaN    NaN     NaN     NaN   \n",
              "4          송화정               서울 종로구 삼봉로 81 두산위브파빌리온     []      []      []   \n",
              "..         ...                                  ...    ...     ...     ...   \n",
              "674      여기고씨네  제주 서귀포시 남원읍 신흥로13번길 23 여기고씨네 제주남원본점     []      []      []   \n",
              "675  여기왕언제먹을래?               제주 서귀포시 대정읍 신영로 121 2층     []      []      []   \n",
              "676       여누카페          제주 제주시 조천읍 남조로 1842 1층 여누카페     []      []      []   \n",
              "677        NaN                                  NaN    NaN     NaN     NaN   \n",
              "678        NaN                                  NaN    NaN     NaN     NaN   \n",
              "\n",
              "                                                    메뉴  \\\n",
              "0    {'샤브샤브': '6', '고기': '2', '칼국수': '1', '돼지고기': '...   \n",
              "1    {'부대찌개': '21', '라면': '17', '찌개': '17', '순두부': ...   \n",
              "2    {'비빔밥': '16', '육회': '16', '불고기': '12', '육회비빔밥'...   \n",
              "3                                                  NaN   \n",
              "4    {'소고기': '4', '불고기': '3', '갈비탕': '3', '삼겹살': '3...   \n",
              "..                                                 ...   \n",
              "674  {'딱새우회': '773', '튀김': '409', '새우': '390', '새우튀...   \n",
              "675  {'고기': '23', '흑돼지': '19', '국수': '9', '삼겹살': '8...   \n",
              "676  {'커피': '107', '라떼': '52', '꽈배기': '37', '아메리카노'...   \n",
              "677                                                NaN   \n",
              "678                                                NaN   \n",
              "\n",
              "                                                    특징  \\\n",
              "0      {'맛': '10', '만족도': '6', '서비스': '4', '음식량': '2'}   \n",
              "1    {'맛': '80', '만족도': '40', '음식량': '11', '서비스': '...   \n",
              "2    {'맛': '126', '만족도': '91', '서비스': '12', '메뉴': '...   \n",
              "3                                                  NaN   \n",
              "4    {'맛': '23', '만족도': '17', '서비스': '8', '분위기': '1...   \n",
              "..                                                 ...   \n",
              "674  {'맛': '2,431', '만족도': '1,940', '서비스': '1,266',...   \n",
              "675  {'맛': '55', '서비스': '36', '만족도': '33', '청결도': '...   \n",
              "676  {'맛': '236', '만족도': '215', '분위기': '87', '서비스':...   \n",
              "677                                                NaN   \n",
              "678                                                NaN   \n",
              "\n",
              "                                                    사진  \n",
              "0    [https://search.pstatic.net/common/?autoRotate...  \n",
              "1    [https://search.pstatic.net/common/?autoRotate...  \n",
              "2    [https://pup-review-phinf.pstatic.net/MjAyNDEw...  \n",
              "3    [https://pup-review-phinf.pstatic.net/MjAyNDA1...  \n",
              "4    [https://search.pstatic.net/common/?autoRotate...  \n",
              "..                                                 ...  \n",
              "674  [https://search.pstatic.net/common/?autoRotate...  \n",
              "675  [https://search.pstatic.net/common/?autoRotate...  \n",
              "676  [https://search.pstatic.net/common/?autoRotate...  \n",
              "677  [https://search.pstatic.net/common/?autoRotate...  \n",
              "678  [https://search.pstatic.net/common/?autoRotate...  \n",
              "\n",
              "[679 rows x 8 columns]"
            ]
          },
          "execution_count": 54,
          "metadata": {},
          "output_type": "execute_result"
        }
      ],
      "source": [
        "df"
      ]
    },
    {
      "cell_type": "markdown",
      "metadata": {},
      "source": [
        "중복제거"
      ]
    },
    {
      "cell_type": "code",
      "execution_count": 55,
      "metadata": {},
      "outputs": [],
      "source": [
        "for col in df.columns:\n",
        "    df[col] = df[col].apply(lambda x: tuple(x) if isinstance(x, list) else (tuple(x.items()) if isinstance(x, dict) else x))\n",
        "df.drop_duplicates(inplace=True)"
      ]
    },
    {
      "cell_type": "code",
      "execution_count": 56,
      "metadata": {},
      "outputs": [],
      "source": [
        "df_dup = pd.DataFrame(df)"
      ]
    },
    {
      "cell_type": "code",
      "execution_count": 57,
      "metadata": {},
      "outputs": [
        {
          "data": {
            "text/html": [
              "<div>\n",
              "<style scoped>\n",
              "    .dataframe tbody tr th:only-of-type {\n",
              "        vertical-align: middle;\n",
              "    }\n",
              "\n",
              "    .dataframe tbody tr th {\n",
              "        vertical-align: top;\n",
              "    }\n",
              "\n",
              "    .dataframe thead th {\n",
              "        text-align: right;\n",
              "    }\n",
              "</style>\n",
              "<table border=\"1\" class=\"dataframe\">\n",
              "  <thead>\n",
              "    <tr style=\"text-align: right;\">\n",
              "      <th></th>\n",
              "      <th>가게</th>\n",
              "      <th>주소</th>\n",
              "      <th>테마_분위기</th>\n",
              "      <th>테마_인기토픽</th>\n",
              "      <th>테마_찾는목적</th>\n",
              "      <th>메뉴</th>\n",
              "      <th>특징</th>\n",
              "      <th>사진</th>\n",
              "    </tr>\n",
              "  </thead>\n",
              "  <tbody>\n",
              "    <tr>\n",
              "      <th>0</th>\n",
              "      <td>송키</td>\n",
              "      <td>제주 제주시 연삼로 344 1층</td>\n",
              "      <td>()</td>\n",
              "      <td>()</td>\n",
              "      <td>()</td>\n",
              "      <td>((샤브샤브, 6), (고기, 2), (칼국수, 1), (돼지고기, 1), (, ))</td>\n",
              "      <td>((맛, 10), (만족도, 6), (서비스, 4), (음식량, 2))</td>\n",
              "      <td>(https://search.pstatic.net/common/?autoRotate...</td>\n",
              "    </tr>\n",
              "    <tr>\n",
              "      <th>1</th>\n",
              "      <td>송탄부대찌개집</td>\n",
              "      <td>서울 중구 명동10길 35-20 3층</td>\n",
              "      <td>()</td>\n",
              "      <td>()</td>\n",
              "      <td>()</td>\n",
              "      <td>((부대찌개, 21), (라면, 17), (찌개, 17), (순두부, 15), (, ))</td>\n",
              "      <td>((맛, 80), (만족도, 40), (음식량, 11), (서비스, 7), (, ))</td>\n",
              "      <td>(https://search.pstatic.net/common/?autoRotate...</td>\n",
              "    </tr>\n",
              "    <tr>\n",
              "      <th>2</th>\n",
              "      <td>송화</td>\n",
              "      <td>서울 강남구 강남대로94길 69</td>\n",
              "      <td>()</td>\n",
              "      <td>()</td>\n",
              "      <td>()</td>\n",
              "      <td>((비빔밥, 16), (육회, 16), (불고기, 12), (육회비빔밥, ), (, ))</td>\n",
              "      <td>((맛, 126), (만족도, 91), (서비스, 12), (메뉴, 8), (, ))</td>\n",
              "      <td>(https://pup-review-phinf.pstatic.net/MjAyNDEw...</td>\n",
              "    </tr>\n",
              "    <tr>\n",
              "      <th>3</th>\n",
              "      <td>NaN</td>\n",
              "      <td>NaN</td>\n",
              "      <td>NaN</td>\n",
              "      <td>NaN</td>\n",
              "      <td>NaN</td>\n",
              "      <td>NaN</td>\n",
              "      <td>NaN</td>\n",
              "      <td>(https://pup-review-phinf.pstatic.net/MjAyNDA1...</td>\n",
              "    </tr>\n",
              "    <tr>\n",
              "      <th>4</th>\n",
              "      <td>송화정</td>\n",
              "      <td>서울 종로구 삼봉로 81 두산위브파빌리온</td>\n",
              "      <td>()</td>\n",
              "      <td>()</td>\n",
              "      <td>()</td>\n",
              "      <td>((소고기, 4), (불고기, 3), (갈비탕, 3), (삼겹살, 3), (, ))</td>\n",
              "      <td>((맛, 23), (만족도, 17), (서비스, 8), (분위기, 1), (, ))</td>\n",
              "      <td>(https://search.pstatic.net/common/?autoRotate...</td>\n",
              "    </tr>\n",
              "    <tr>\n",
              "      <th>...</th>\n",
              "      <td>...</td>\n",
              "      <td>...</td>\n",
              "      <td>...</td>\n",
              "      <td>...</td>\n",
              "      <td>...</td>\n",
              "      <td>...</td>\n",
              "      <td>...</td>\n",
              "      <td>...</td>\n",
              "    </tr>\n",
              "    <tr>\n",
              "      <th>674</th>\n",
              "      <td>여기고씨네</td>\n",
              "      <td>제주 서귀포시 남원읍 신흥로13번길 23 여기고씨네 제주남원본점</td>\n",
              "      <td>()</td>\n",
              "      <td>()</td>\n",
              "      <td>()</td>\n",
              "      <td>((딱새우회, 773), (튀김, 409), (새우, 390), (새우튀김, ), ...</td>\n",
              "      <td>((맛, 2,431), (만족도, 1,940), (서비스, 1,266), (음식량,...</td>\n",
              "      <td>(https://search.pstatic.net/common/?autoRotate...</td>\n",
              "    </tr>\n",
              "    <tr>\n",
              "      <th>675</th>\n",
              "      <td>여기왕언제먹을래?</td>\n",
              "      <td>제주 서귀포시 대정읍 신영로 121 2층</td>\n",
              "      <td>()</td>\n",
              "      <td>()</td>\n",
              "      <td>()</td>\n",
              "      <td>((고기, 23), (흑돼지, 19), (국수, 9), (삼겹살, 8), (, ))</td>\n",
              "      <td>((맛, 55), (서비스, 36), (만족도, 33), (청결도, 5), (, ))</td>\n",
              "      <td>(https://search.pstatic.net/common/?autoRotate...</td>\n",
              "    </tr>\n",
              "    <tr>\n",
              "      <th>676</th>\n",
              "      <td>여누카페</td>\n",
              "      <td>제주 제주시 조천읍 남조로 1842 1층 여누카페</td>\n",
              "      <td>()</td>\n",
              "      <td>()</td>\n",
              "      <td>()</td>\n",
              "      <td>((커피, 107), (라떼, 52), (꽈배기, 37), (아메리카노, ), (, ))</td>\n",
              "      <td>((맛, 236), (만족도, 215), (분위기, 87), (서비스, 43), (...</td>\n",
              "      <td>(https://search.pstatic.net/common/?autoRotate...</td>\n",
              "    </tr>\n",
              "    <tr>\n",
              "      <th>677</th>\n",
              "      <td>NaN</td>\n",
              "      <td>NaN</td>\n",
              "      <td>NaN</td>\n",
              "      <td>NaN</td>\n",
              "      <td>NaN</td>\n",
              "      <td>NaN</td>\n",
              "      <td>NaN</td>\n",
              "      <td>(https://search.pstatic.net/common/?autoRotate...</td>\n",
              "    </tr>\n",
              "    <tr>\n",
              "      <th>678</th>\n",
              "      <td>NaN</td>\n",
              "      <td>NaN</td>\n",
              "      <td>NaN</td>\n",
              "      <td>NaN</td>\n",
              "      <td>NaN</td>\n",
              "      <td>NaN</td>\n",
              "      <td>NaN</td>\n",
              "      <td>(https://search.pstatic.net/common/?autoRotate...</td>\n",
              "    </tr>\n",
              "  </tbody>\n",
              "</table>\n",
              "<p>676 rows × 8 columns</p>\n",
              "</div>"
            ],
            "text/plain": [
              "            가게                                   주소 테마_분위기 테마_인기토픽 테마_찾는목적  \\\n",
              "0           송키                    제주 제주시 연삼로 344 1층     ()      ()      ()   \n",
              "1      송탄부대찌개집                 서울 중구 명동10길 35-20 3층     ()      ()      ()   \n",
              "2           송화                    서울 강남구 강남대로94길 69     ()      ()      ()   \n",
              "3          NaN                                  NaN    NaN     NaN     NaN   \n",
              "4          송화정               서울 종로구 삼봉로 81 두산위브파빌리온     ()      ()      ()   \n",
              "..         ...                                  ...    ...     ...     ...   \n",
              "674      여기고씨네  제주 서귀포시 남원읍 신흥로13번길 23 여기고씨네 제주남원본점     ()      ()      ()   \n",
              "675  여기왕언제먹을래?               제주 서귀포시 대정읍 신영로 121 2층     ()      ()      ()   \n",
              "676       여누카페          제주 제주시 조천읍 남조로 1842 1층 여누카페     ()      ()      ()   \n",
              "677        NaN                                  NaN    NaN     NaN     NaN   \n",
              "678        NaN                                  NaN    NaN     NaN     NaN   \n",
              "\n",
              "                                                    메뉴  \\\n",
              "0      ((샤브샤브, 6), (고기, 2), (칼국수, 1), (돼지고기, 1), (, ))   \n",
              "1    ((부대찌개, 21), (라면, 17), (찌개, 17), (순두부, 15), (, ))   \n",
              "2    ((비빔밥, 16), (육회, 16), (불고기, 12), (육회비빔밥, ), (, ))   \n",
              "3                                                  NaN   \n",
              "4       ((소고기, 4), (불고기, 3), (갈비탕, 3), (삼겹살, 3), (, ))   \n",
              "..                                                 ...   \n",
              "674  ((딱새우회, 773), (튀김, 409), (새우, 390), (새우튀김, ), ...   \n",
              "675     ((고기, 23), (흑돼지, 19), (국수, 9), (삼겹살, 8), (, ))   \n",
              "676  ((커피, 107), (라떼, 52), (꽈배기, 37), (아메리카노, ), (, ))   \n",
              "677                                                NaN   \n",
              "678                                                NaN   \n",
              "\n",
              "                                                    특징  \\\n",
              "0              ((맛, 10), (만족도, 6), (서비스, 4), (음식량, 2))   \n",
              "1      ((맛, 80), (만족도, 40), (음식량, 11), (서비스, 7), (, ))   \n",
              "2      ((맛, 126), (만족도, 91), (서비스, 12), (메뉴, 8), (, ))   \n",
              "3                                                  NaN   \n",
              "4       ((맛, 23), (만족도, 17), (서비스, 8), (분위기, 1), (, ))   \n",
              "..                                                 ...   \n",
              "674  ((맛, 2,431), (만족도, 1,940), (서비스, 1,266), (음식량,...   \n",
              "675    ((맛, 55), (서비스, 36), (만족도, 33), (청결도, 5), (, ))   \n",
              "676  ((맛, 236), (만족도, 215), (분위기, 87), (서비스, 43), (...   \n",
              "677                                                NaN   \n",
              "678                                                NaN   \n",
              "\n",
              "                                                    사진  \n",
              "0    (https://search.pstatic.net/common/?autoRotate...  \n",
              "1    (https://search.pstatic.net/common/?autoRotate...  \n",
              "2    (https://pup-review-phinf.pstatic.net/MjAyNDEw...  \n",
              "3    (https://pup-review-phinf.pstatic.net/MjAyNDA1...  \n",
              "4    (https://search.pstatic.net/common/?autoRotate...  \n",
              "..                                                 ...  \n",
              "674  (https://search.pstatic.net/common/?autoRotate...  \n",
              "675  (https://search.pstatic.net/common/?autoRotate...  \n",
              "676  (https://search.pstatic.net/common/?autoRotate...  \n",
              "677  (https://search.pstatic.net/common/?autoRotate...  \n",
              "678  (https://search.pstatic.net/common/?autoRotate...  \n",
              "\n",
              "[676 rows x 8 columns]"
            ]
          },
          "execution_count": 57,
          "metadata": {},
          "output_type": "execute_result"
        }
      ],
      "source": [
        "df_dup"
      ]
    },
    {
      "cell_type": "code",
      "execution_count": 58,
      "metadata": {},
      "outputs": [
        {
          "name": "stderr",
          "output_type": "stream",
          "text": [
            "<>:1: SyntaxWarning: invalid escape sequence '\\g'\n",
            "<>:1: SyntaxWarning: invalid escape sequence '\\g'\n",
            "C:\\Users\\tldbs\\AppData\\Local\\Temp\\ipykernel_10724\\3624201447.py:1: SyntaxWarning: invalid escape sequence '\\g'\n",
            "  df_all = pd.read_csv('C:\\github\\crawling_result.csv')\n"
          ]
        }
      ],
      "source": [
        "df_all = pd.read_csv('C:\\github\\crawling_result.csv')\n",
        "df_all.drop('Unnamed: 0',axis=1, inplace=True)"
      ]
    },
    {
      "cell_type": "code",
      "execution_count": 59,
      "metadata": {},
      "outputs": [
        {
          "data": {
            "text/html": [
              "<div>\n",
              "<style scoped>\n",
              "    .dataframe tbody tr th:only-of-type {\n",
              "        vertical-align: middle;\n",
              "    }\n",
              "\n",
              "    .dataframe tbody tr th {\n",
              "        vertical-align: top;\n",
              "    }\n",
              "\n",
              "    .dataframe thead th {\n",
              "        text-align: right;\n",
              "    }\n",
              "</style>\n",
              "<table border=\"1\" class=\"dataframe\">\n",
              "  <thead>\n",
              "    <tr style=\"text-align: right;\">\n",
              "      <th></th>\n",
              "      <th>가게</th>\n",
              "      <th>주소</th>\n",
              "      <th>테마_분위기</th>\n",
              "      <th>테마_인기토픽</th>\n",
              "      <th>테마_찾는목적</th>\n",
              "      <th>메뉴</th>\n",
              "      <th>특징</th>\n",
              "      <th>사진</th>\n",
              "    </tr>\n",
              "  </thead>\n",
              "  <tbody>\n",
              "    <tr>\n",
              "      <th>0</th>\n",
              "      <td>아웃백스테이크하우스 제주아일랜드점</td>\n",
              "      <td>제주 제주시 연북로 202 아웃백스테이크하우스 제주아일랜드점</td>\n",
              "      <td>()</td>\n",
              "      <td>()</td>\n",
              "      <td>()</td>\n",
              "      <td>(('스테이크', '88'), ('파스타', '56'), ('투움바파스타', '28...</td>\n",
              "      <td>(('만족도', '330'), ('맛', '297'), ('서비스', '241'),...</td>\n",
              "      <td>NaN</td>\n",
              "    </tr>\n",
              "    <tr>\n",
              "      <th>1</th>\n",
              "      <td>아워홈 제주지방합동청사점</td>\n",
              "      <td>제주 제주시 청사로 59</td>\n",
              "      <td>()</td>\n",
              "      <td>()</td>\n",
              "      <td>()</td>\n",
              "      <td>NaN</td>\n",
              "      <td>NaN</td>\n",
              "      <td>()</td>\n",
              "    </tr>\n",
              "    <tr>\n",
              "      <th>2</th>\n",
              "      <td>네츄럴파크리조트</td>\n",
              "      <td>서울 용산구 청파로 253-1</td>\n",
              "      <td>()</td>\n",
              "      <td>()</td>\n",
              "      <td>()</td>\n",
              "      <td>NaN</td>\n",
              "      <td>NaN</td>\n",
              "      <td>()</td>\n",
              "    </tr>\n",
              "    <tr>\n",
              "      <th>3</th>\n",
              "      <td>모던돔베제주노형본점</td>\n",
              "      <td>제주 제주시 1100로 3029 1층 모던돔베</td>\n",
              "      <td>()</td>\n",
              "      <td>()</td>\n",
              "      <td>()</td>\n",
              "      <td>(('국수', '1,892'), ('고기', '1,583'), ('고기국수', '1...</td>\n",
              "      <td>(('맛', '3,940'), ('만족도', '2,804'), ('서비스', '1,...</td>\n",
              "      <td>NaN</td>\n",
              "    </tr>\n",
              "    <tr>\n",
              "      <th>4</th>\n",
              "      <td>바다바라</td>\n",
              "      <td>울산 동구 상진길 67 1층 바다바라길</td>\n",
              "      <td>()</td>\n",
              "      <td>()</td>\n",
              "      <td>()</td>\n",
              "      <td>NaN</td>\n",
              "      <td>NaN</td>\n",
              "      <td>('https://search.pstatic.net/common/?autoRotat...</td>\n",
              "    </tr>\n",
              "    <tr>\n",
              "      <th>...</th>\n",
              "      <td>...</td>\n",
              "      <td>...</td>\n",
              "      <td>...</td>\n",
              "      <td>...</td>\n",
              "      <td>...</td>\n",
              "      <td>...</td>\n",
              "      <td>...</td>\n",
              "      <td>...</td>\n",
              "    </tr>\n",
              "    <tr>\n",
              "      <th>3158</th>\n",
              "      <td>송악통갈치</td>\n",
              "      <td>제주 서귀포시 대정읍 형제해안로 322 2층 송악통갈치</td>\n",
              "      <td>()</td>\n",
              "      <td>()</td>\n",
              "      <td>()</td>\n",
              "      <td>(('갈치', '271'), ('갈치조림', '136'), ('갈치구이', '62'...</td>\n",
              "      <td>(('맛', '486'), ('만족도', '353'), ('서비스', '98'), ...</td>\n",
              "      <td>('https://search.pstatic.net/common/?autoRotat...</td>\n",
              "    </tr>\n",
              "    <tr>\n",
              "      <th>3159</th>\n",
              "      <td>송이축산정육식당</td>\n",
              "      <td>제주 제주시 달마루길 20-9</td>\n",
              "      <td>()</td>\n",
              "      <td>()</td>\n",
              "      <td>()</td>\n",
              "      <td>(('고기', '27'), ('육회', '8'), ('비빔밥', '6'), ('육회...</td>\n",
              "      <td>(('맛', '61'), ('만족도', '44'), ('서비스', '16'), ('...</td>\n",
              "      <td>('https://search.pstatic.net/common/?autoRotat...</td>\n",
              "    </tr>\n",
              "    <tr>\n",
              "      <th>3160</th>\n",
              "      <td>송이축산정육식당삼양점</td>\n",
              "      <td>제주 제주시 지석4길 7 . 1층</td>\n",
              "      <td>()</td>\n",
              "      <td>()</td>\n",
              "      <td>()</td>\n",
              "      <td>(('고기', '11'), ('냉면', '4'), ('한우', '3'), ('오겹살...</td>\n",
              "      <td>(('맛', '14'), ('만족도', '13'), ('서비스', '11'), ('...</td>\n",
              "      <td>('https://search.pstatic.net/common/?autoRotat...</td>\n",
              "    </tr>\n",
              "    <tr>\n",
              "      <th>3161</th>\n",
              "      <td>송정동핫도그 제주지사점</td>\n",
              "      <td>제주 제주시 제성1길 25 송정동핫도그 제주지사점</td>\n",
              "      <td>()</td>\n",
              "      <td>()</td>\n",
              "      <td>()</td>\n",
              "      <td>(('핫도그', '32'), ('치즈', '9'), ('소세지', '8'), ('커...</td>\n",
              "      <td>(('맛', '52'), ('만족도', '17'), ('서비스', '10'), ('...</td>\n",
              "      <td>('https://pup-review-phinf.pstatic.net/MjAyNDA...</td>\n",
              "    </tr>\n",
              "    <tr>\n",
              "      <th>3162</th>\n",
              "      <td>NaN</td>\n",
              "      <td>NaN</td>\n",
              "      <td>NaN</td>\n",
              "      <td>NaN</td>\n",
              "      <td>NaN</td>\n",
              "      <td>(('핫도그', '6'), ('소세지', '2'), ('모짜렐라핫도그', '1'))</td>\n",
              "      <td>(('맛', '10'), ('만족도', '6'), ('서비스', '2'), ('주차...</td>\n",
              "      <td>('https://search.pstatic.net/common/?autoRotat...</td>\n",
              "    </tr>\n",
              "  </tbody>\n",
              "</table>\n",
              "<p>3163 rows × 8 columns</p>\n",
              "</div>"
            ],
            "text/plain": [
              "                      가게                                 주소 테마_분위기 테마_인기토픽  \\\n",
              "0     아웃백스테이크하우스 제주아일랜드점  제주 제주시 연북로 202 아웃백스테이크하우스 제주아일랜드점     ()      ()   \n",
              "1          아워홈 제주지방합동청사점                      제주 제주시 청사로 59     ()      ()   \n",
              "2               네츄럴파크리조트                   서울 용산구 청파로 253-1     ()      ()   \n",
              "3             모던돔베제주노형본점          제주 제주시 1100로 3029 1층 모던돔베     ()      ()   \n",
              "4                   바다바라              울산 동구 상진길 67 1층 바다바라길     ()      ()   \n",
              "...                  ...                                ...    ...     ...   \n",
              "3158               송악통갈치     제주 서귀포시 대정읍 형제해안로 322 2층 송악통갈치     ()      ()   \n",
              "3159            송이축산정육식당                   제주 제주시 달마루길 20-9     ()      ()   \n",
              "3160         송이축산정육식당삼양점                 제주 제주시 지석4길 7 . 1층     ()      ()   \n",
              "3161        송정동핫도그 제주지사점        제주 제주시 제성1길 25 송정동핫도그 제주지사점     ()      ()   \n",
              "3162                 NaN                                NaN    NaN     NaN   \n",
              "\n",
              "     테마_찾는목적                                                 메뉴  \\\n",
              "0         ()  (('스테이크', '88'), ('파스타', '56'), ('투움바파스타', '28...   \n",
              "1         ()                                                NaN   \n",
              "2         ()                                                NaN   \n",
              "3         ()  (('국수', '1,892'), ('고기', '1,583'), ('고기국수', '1...   \n",
              "4         ()                                                NaN   \n",
              "...      ...                                                ...   \n",
              "3158      ()  (('갈치', '271'), ('갈치조림', '136'), ('갈치구이', '62'...   \n",
              "3159      ()  (('고기', '27'), ('육회', '8'), ('비빔밥', '6'), ('육회...   \n",
              "3160      ()  (('고기', '11'), ('냉면', '4'), ('한우', '3'), ('오겹살...   \n",
              "3161      ()  (('핫도그', '32'), ('치즈', '9'), ('소세지', '8'), ('커...   \n",
              "3162     NaN     (('핫도그', '6'), ('소세지', '2'), ('모짜렐라핫도그', '1'))   \n",
              "\n",
              "                                                     특징  \\\n",
              "0     (('만족도', '330'), ('맛', '297'), ('서비스', '241'),...   \n",
              "1                                                   NaN   \n",
              "2                                                   NaN   \n",
              "3     (('맛', '3,940'), ('만족도', '2,804'), ('서비스', '1,...   \n",
              "4                                                   NaN   \n",
              "...                                                 ...   \n",
              "3158  (('맛', '486'), ('만족도', '353'), ('서비스', '98'), ...   \n",
              "3159  (('맛', '61'), ('만족도', '44'), ('서비스', '16'), ('...   \n",
              "3160  (('맛', '14'), ('만족도', '13'), ('서비스', '11'), ('...   \n",
              "3161  (('맛', '52'), ('만족도', '17'), ('서비스', '10'), ('...   \n",
              "3162  (('맛', '10'), ('만족도', '6'), ('서비스', '2'), ('주차...   \n",
              "\n",
              "                                                     사진  \n",
              "0                                                   NaN  \n",
              "1                                                    ()  \n",
              "2                                                    ()  \n",
              "3                                                   NaN  \n",
              "4     ('https://search.pstatic.net/common/?autoRotat...  \n",
              "...                                                 ...  \n",
              "3158  ('https://search.pstatic.net/common/?autoRotat...  \n",
              "3159  ('https://search.pstatic.net/common/?autoRotat...  \n",
              "3160  ('https://search.pstatic.net/common/?autoRotat...  \n",
              "3161  ('https://pup-review-phinf.pstatic.net/MjAyNDA...  \n",
              "3162  ('https://search.pstatic.net/common/?autoRotat...  \n",
              "\n",
              "[3163 rows x 8 columns]"
            ]
          },
          "execution_count": 59,
          "metadata": {},
          "output_type": "execute_result"
        }
      ],
      "source": [
        "df_all"
      ]
    },
    {
      "cell_type": "code",
      "execution_count": 60,
      "metadata": {},
      "outputs": [
        {
          "name": "stderr",
          "output_type": "stream",
          "text": [
            "<>:2: SyntaxWarning: invalid escape sequence '\\g'\n",
            "<>:2: SyntaxWarning: invalid escape sequence '\\g'\n",
            "C:\\Users\\tldbs\\AppData\\Local\\Temp\\ipykernel_10724\\2828121958.py:2: SyntaxWarning: invalid escape sequence '\\g'\n",
            "  df_all.to_csv('C:\\github\\crawling_result.csv')\n"
          ]
        }
      ],
      "source": [
        "df_all = pd.concat([df_all, df_dup])\n",
        "df_all.to_csv('C:\\github\\crawling_result.csv')"
      ]
    },
    {
      "cell_type": "code",
      "execution_count": 61,
      "metadata": {},
      "outputs": [
        {
          "data": {
            "text/html": [
              "<div>\n",
              "<style scoped>\n",
              "    .dataframe tbody tr th:only-of-type {\n",
              "        vertical-align: middle;\n",
              "    }\n",
              "\n",
              "    .dataframe tbody tr th {\n",
              "        vertical-align: top;\n",
              "    }\n",
              "\n",
              "    .dataframe thead th {\n",
              "        text-align: right;\n",
              "    }\n",
              "</style>\n",
              "<table border=\"1\" class=\"dataframe\">\n",
              "  <thead>\n",
              "    <tr style=\"text-align: right;\">\n",
              "      <th></th>\n",
              "      <th>가게</th>\n",
              "      <th>주소</th>\n",
              "      <th>테마_분위기</th>\n",
              "      <th>테마_인기토픽</th>\n",
              "      <th>테마_찾는목적</th>\n",
              "      <th>메뉴</th>\n",
              "      <th>특징</th>\n",
              "      <th>사진</th>\n",
              "    </tr>\n",
              "  </thead>\n",
              "  <tbody>\n",
              "    <tr>\n",
              "      <th>0</th>\n",
              "      <td>아웃백스테이크하우스 제주아일랜드점</td>\n",
              "      <td>제주 제주시 연북로 202 아웃백스테이크하우스 제주아일랜드점</td>\n",
              "      <td>()</td>\n",
              "      <td>()</td>\n",
              "      <td>()</td>\n",
              "      <td>(('스테이크', '88'), ('파스타', '56'), ('투움바파스타', '28...</td>\n",
              "      <td>(('만족도', '330'), ('맛', '297'), ('서비스', '241'),...</td>\n",
              "      <td>NaN</td>\n",
              "    </tr>\n",
              "    <tr>\n",
              "      <th>1</th>\n",
              "      <td>아워홈 제주지방합동청사점</td>\n",
              "      <td>제주 제주시 청사로 59</td>\n",
              "      <td>()</td>\n",
              "      <td>()</td>\n",
              "      <td>()</td>\n",
              "      <td>NaN</td>\n",
              "      <td>NaN</td>\n",
              "      <td>()</td>\n",
              "    </tr>\n",
              "    <tr>\n",
              "      <th>2</th>\n",
              "      <td>네츄럴파크리조트</td>\n",
              "      <td>서울 용산구 청파로 253-1</td>\n",
              "      <td>()</td>\n",
              "      <td>()</td>\n",
              "      <td>()</td>\n",
              "      <td>NaN</td>\n",
              "      <td>NaN</td>\n",
              "      <td>()</td>\n",
              "    </tr>\n",
              "    <tr>\n",
              "      <th>3</th>\n",
              "      <td>모던돔베제주노형본점</td>\n",
              "      <td>제주 제주시 1100로 3029 1층 모던돔베</td>\n",
              "      <td>()</td>\n",
              "      <td>()</td>\n",
              "      <td>()</td>\n",
              "      <td>(('국수', '1,892'), ('고기', '1,583'), ('고기국수', '1...</td>\n",
              "      <td>(('맛', '3,940'), ('만족도', '2,804'), ('서비스', '1,...</td>\n",
              "      <td>NaN</td>\n",
              "    </tr>\n",
              "    <tr>\n",
              "      <th>4</th>\n",
              "      <td>바다바라</td>\n",
              "      <td>울산 동구 상진길 67 1층 바다바라길</td>\n",
              "      <td>()</td>\n",
              "      <td>()</td>\n",
              "      <td>()</td>\n",
              "      <td>NaN</td>\n",
              "      <td>NaN</td>\n",
              "      <td>('https://search.pstatic.net/common/?autoRotat...</td>\n",
              "    </tr>\n",
              "    <tr>\n",
              "      <th>...</th>\n",
              "      <td>...</td>\n",
              "      <td>...</td>\n",
              "      <td>...</td>\n",
              "      <td>...</td>\n",
              "      <td>...</td>\n",
              "      <td>...</td>\n",
              "      <td>...</td>\n",
              "      <td>...</td>\n",
              "    </tr>\n",
              "    <tr>\n",
              "      <th>674</th>\n",
              "      <td>여기고씨네</td>\n",
              "      <td>제주 서귀포시 남원읍 신흥로13번길 23 여기고씨네 제주남원본점</td>\n",
              "      <td>()</td>\n",
              "      <td>()</td>\n",
              "      <td>()</td>\n",
              "      <td>((딱새우회, 773), (튀김, 409), (새우, 390), (새우튀김, ), ...</td>\n",
              "      <td>((맛, 2,431), (만족도, 1,940), (서비스, 1,266), (음식량,...</td>\n",
              "      <td>(https://search.pstatic.net/common/?autoRotate...</td>\n",
              "    </tr>\n",
              "    <tr>\n",
              "      <th>675</th>\n",
              "      <td>여기왕언제먹을래?</td>\n",
              "      <td>제주 서귀포시 대정읍 신영로 121 2층</td>\n",
              "      <td>()</td>\n",
              "      <td>()</td>\n",
              "      <td>()</td>\n",
              "      <td>((고기, 23), (흑돼지, 19), (국수, 9), (삼겹살, 8), (, ))</td>\n",
              "      <td>((맛, 55), (서비스, 36), (만족도, 33), (청결도, 5), (, ))</td>\n",
              "      <td>(https://search.pstatic.net/common/?autoRotate...</td>\n",
              "    </tr>\n",
              "    <tr>\n",
              "      <th>676</th>\n",
              "      <td>여누카페</td>\n",
              "      <td>제주 제주시 조천읍 남조로 1842 1층 여누카페</td>\n",
              "      <td>()</td>\n",
              "      <td>()</td>\n",
              "      <td>()</td>\n",
              "      <td>((커피, 107), (라떼, 52), (꽈배기, 37), (아메리카노, ), (, ))</td>\n",
              "      <td>((맛, 236), (만족도, 215), (분위기, 87), (서비스, 43), (...</td>\n",
              "      <td>(https://search.pstatic.net/common/?autoRotate...</td>\n",
              "    </tr>\n",
              "    <tr>\n",
              "      <th>677</th>\n",
              "      <td>NaN</td>\n",
              "      <td>NaN</td>\n",
              "      <td>NaN</td>\n",
              "      <td>NaN</td>\n",
              "      <td>NaN</td>\n",
              "      <td>NaN</td>\n",
              "      <td>NaN</td>\n",
              "      <td>(https://search.pstatic.net/common/?autoRotate...</td>\n",
              "    </tr>\n",
              "    <tr>\n",
              "      <th>678</th>\n",
              "      <td>NaN</td>\n",
              "      <td>NaN</td>\n",
              "      <td>NaN</td>\n",
              "      <td>NaN</td>\n",
              "      <td>NaN</td>\n",
              "      <td>NaN</td>\n",
              "      <td>NaN</td>\n",
              "      <td>(https://search.pstatic.net/common/?autoRotate...</td>\n",
              "    </tr>\n",
              "  </tbody>\n",
              "</table>\n",
              "<p>3839 rows × 8 columns</p>\n",
              "</div>"
            ],
            "text/plain": [
              "                     가게                                   주소 테마_분위기 테마_인기토픽  \\\n",
              "0    아웃백스테이크하우스 제주아일랜드점    제주 제주시 연북로 202 아웃백스테이크하우스 제주아일랜드점     ()      ()   \n",
              "1         아워홈 제주지방합동청사점                        제주 제주시 청사로 59     ()      ()   \n",
              "2              네츄럴파크리조트                     서울 용산구 청파로 253-1     ()      ()   \n",
              "3            모던돔베제주노형본점            제주 제주시 1100로 3029 1층 모던돔베     ()      ()   \n",
              "4                  바다바라                울산 동구 상진길 67 1층 바다바라길     ()      ()   \n",
              "..                  ...                                  ...    ...     ...   \n",
              "674               여기고씨네  제주 서귀포시 남원읍 신흥로13번길 23 여기고씨네 제주남원본점     ()      ()   \n",
              "675           여기왕언제먹을래?               제주 서귀포시 대정읍 신영로 121 2층     ()      ()   \n",
              "676                여누카페          제주 제주시 조천읍 남조로 1842 1층 여누카페     ()      ()   \n",
              "677                 NaN                                  NaN    NaN     NaN   \n",
              "678                 NaN                                  NaN    NaN     NaN   \n",
              "\n",
              "    테마_찾는목적                                                 메뉴  \\\n",
              "0        ()  (('스테이크', '88'), ('파스타', '56'), ('투움바파스타', '28...   \n",
              "1        ()                                                NaN   \n",
              "2        ()                                                NaN   \n",
              "3        ()  (('국수', '1,892'), ('고기', '1,583'), ('고기국수', '1...   \n",
              "4        ()                                                NaN   \n",
              "..      ...                                                ...   \n",
              "674      ()  ((딱새우회, 773), (튀김, 409), (새우, 390), (새우튀김, ), ...   \n",
              "675      ()     ((고기, 23), (흑돼지, 19), (국수, 9), (삼겹살, 8), (, ))   \n",
              "676      ()  ((커피, 107), (라떼, 52), (꽈배기, 37), (아메리카노, ), (, ))   \n",
              "677     NaN                                                NaN   \n",
              "678     NaN                                                NaN   \n",
              "\n",
              "                                                    특징  \\\n",
              "0    (('만족도', '330'), ('맛', '297'), ('서비스', '241'),...   \n",
              "1                                                  NaN   \n",
              "2                                                  NaN   \n",
              "3    (('맛', '3,940'), ('만족도', '2,804'), ('서비스', '1,...   \n",
              "4                                                  NaN   \n",
              "..                                                 ...   \n",
              "674  ((맛, 2,431), (만족도, 1,940), (서비스, 1,266), (음식량,...   \n",
              "675    ((맛, 55), (서비스, 36), (만족도, 33), (청결도, 5), (, ))   \n",
              "676  ((맛, 236), (만족도, 215), (분위기, 87), (서비스, 43), (...   \n",
              "677                                                NaN   \n",
              "678                                                NaN   \n",
              "\n",
              "                                                    사진  \n",
              "0                                                  NaN  \n",
              "1                                                   ()  \n",
              "2                                                   ()  \n",
              "3                                                  NaN  \n",
              "4    ('https://search.pstatic.net/common/?autoRotat...  \n",
              "..                                                 ...  \n",
              "674  (https://search.pstatic.net/common/?autoRotate...  \n",
              "675  (https://search.pstatic.net/common/?autoRotate...  \n",
              "676  (https://search.pstatic.net/common/?autoRotate...  \n",
              "677  (https://search.pstatic.net/common/?autoRotate...  \n",
              "678  (https://search.pstatic.net/common/?autoRotate...  \n",
              "\n",
              "[3839 rows x 8 columns]"
            ]
          },
          "execution_count": 61,
          "metadata": {},
          "output_type": "execute_result"
        }
      ],
      "source": [
        "df_all"
      ]
    },
    {
      "cell_type": "markdown",
      "metadata": {},
      "source": [
        "실패한 부분 크롤링"
      ]
    },
    {
      "cell_type": "code",
      "execution_count": 62,
      "metadata": {},
      "outputs": [
        {
          "name": "stdout",
          "output_type": "stream",
          "text": [
            "242\n"
          ]
        }
      ],
      "source": [
        "print(len(fail_to_crawling))\n",
        "new_fail = pd.DataFrame(fail_to_crawling, columns=['lst'])\n"
      ]
    },
    {
      "cell_type": "code",
      "execution_count": 63,
      "metadata": {},
      "outputs": [
        {
          "data": {
            "text/html": [
              "<div>\n",
              "<style scoped>\n",
              "    .dataframe tbody tr th:only-of-type {\n",
              "        vertical-align: middle;\n",
              "    }\n",
              "\n",
              "    .dataframe tbody tr th {\n",
              "        vertical-align: top;\n",
              "    }\n",
              "\n",
              "    .dataframe thead th {\n",
              "        text-align: right;\n",
              "    }\n",
              "</style>\n",
              "<table border=\"1\" class=\"dataframe\">\n",
              "  <thead>\n",
              "    <tr style=\"text-align: right;\">\n",
              "      <th></th>\n",
              "      <th>lst</th>\n",
              "    </tr>\n",
              "  </thead>\n",
              "  <tbody>\n",
              "    <tr>\n",
              "      <th>0</th>\n",
              "      <td>송탄최네집부대찌개제주점</td>\n",
              "    </tr>\n",
              "    <tr>\n",
              "      <th>1</th>\n",
              "      <td>송화촌</td>\n",
              "    </tr>\n",
              "    <tr>\n",
              "      <th>2</th>\n",
              "      <td>쇠소깍돼지갈비</td>\n",
              "    </tr>\n",
              "    <tr>\n",
              "      <th>3</th>\n",
              "      <td>쇠소깍횟집</td>\n",
              "    </tr>\n",
              "    <tr>\n",
              "      <th>4</th>\n",
              "      <td>수 킹 (SOOKiNG)</td>\n",
              "    </tr>\n",
              "    <tr>\n",
              "      <th>...</th>\n",
              "      <td>...</td>\n",
              "    </tr>\n",
              "    <tr>\n",
              "      <th>237</th>\n",
              "      <td>여</td>\n",
              "    </tr>\n",
              "    <tr>\n",
              "      <th>238</th>\n",
              "      <td>여기야</td>\n",
              "    </tr>\n",
              "    <tr>\n",
              "      <th>239</th>\n",
              "      <td>여술</td>\n",
              "    </tr>\n",
              "    <tr>\n",
              "      <th>240</th>\n",
              "      <td>여우네</td>\n",
              "    </tr>\n",
              "    <tr>\n",
              "      <th>241</th>\n",
              "      <td>여인천하</td>\n",
              "    </tr>\n",
              "  </tbody>\n",
              "</table>\n",
              "<p>242 rows × 1 columns</p>\n",
              "</div>"
            ],
            "text/plain": [
              "               lst\n",
              "0     송탄최네집부대찌개제주점\n",
              "1              송화촌\n",
              "2          쇠소깍돼지갈비\n",
              "3            쇠소깍횟집\n",
              "4    수 킹 (SOOKiNG)\n",
              "..             ...\n",
              "237              여\n",
              "238            여기야\n",
              "239             여술\n",
              "240            여우네\n",
              "241           여인천하\n",
              "\n",
              "[242 rows x 1 columns]"
            ]
          },
          "execution_count": 63,
          "metadata": {},
          "output_type": "execute_result"
        }
      ],
      "source": [
        "new_fail"
      ]
    },
    {
      "cell_type": "markdown",
      "metadata": {},
      "source": [
        "이전에 저장된 부분 가져오기"
      ]
    },
    {
      "cell_type": "code",
      "execution_count": 64,
      "metadata": {},
      "outputs": [
        {
          "name": "stderr",
          "output_type": "stream",
          "text": [
            "<>:1: SyntaxWarning: invalid escape sequence '\\g'\n",
            "<>:1: SyntaxWarning: invalid escape sequence '\\g'\n",
            "C:\\Users\\tldbs\\AppData\\Local\\Temp\\ipykernel_10724\\1625917794.py:1: SyntaxWarning: invalid escape sequence '\\g'\n",
            "  crawling_list = pd.read_csv('C:\\github\\crawling_list.csv')\n"
          ]
        }
      ],
      "source": [
        "crawling_list = pd.read_csv('C:\\github\\crawling_list.csv')\n",
        "crawling_list.drop('Unnamed: 0',axis=1, inplace=True)"
      ]
    },
    {
      "cell_type": "code",
      "execution_count": 65,
      "metadata": {},
      "outputs": [
        {
          "data": {
            "text/html": [
              "<div>\n",
              "<style scoped>\n",
              "    .dataframe tbody tr th:only-of-type {\n",
              "        vertical-align: middle;\n",
              "    }\n",
              "\n",
              "    .dataframe tbody tr th {\n",
              "        vertical-align: top;\n",
              "    }\n",
              "\n",
              "    .dataframe thead th {\n",
              "        text-align: right;\n",
              "    }\n",
              "</style>\n",
              "<table border=\"1\" class=\"dataframe\">\n",
              "  <thead>\n",
              "    <tr style=\"text-align: right;\">\n",
              "      <th></th>\n",
              "      <th>lst</th>\n",
              "    </tr>\n",
              "  </thead>\n",
              "  <tbody>\n",
              "    <tr>\n",
              "      <th>0</th>\n",
              "      <td>한국수상레저안전협회 제주제주시지부</td>\n",
              "    </tr>\n",
              "    <tr>\n",
              "      <th>1</th>\n",
              "      <td>케이디에셋 담앤루</td>\n",
              "    </tr>\n",
              "    <tr>\n",
              "      <th>2</th>\n",
              "      <td>베이힐</td>\n",
              "    </tr>\n",
              "    <tr>\n",
              "      <th>3</th>\n",
              "      <td>비케이알 버거킹 제주화북DT점</td>\n",
              "    </tr>\n",
              "    <tr>\n",
              "      <th>4</th>\n",
              "      <td>신세계푸드 제주신화월드  고래라면</td>\n",
              "    </tr>\n",
              "    <tr>\n",
              "      <th>...</th>\n",
              "      <td>...</td>\n",
              "    </tr>\n",
              "    <tr>\n",
              "      <th>1177</th>\n",
              "      <td>솔솥</td>\n",
              "    </tr>\n",
              "    <tr>\n",
              "      <th>1178</th>\n",
              "      <td>솔채</td>\n",
              "    </tr>\n",
              "    <tr>\n",
              "      <th>1179</th>\n",
              "      <td>송송숯불두마리치킨앤곱꼬닭</td>\n",
              "    </tr>\n",
              "    <tr>\n",
              "      <th>1180</th>\n",
              "      <td>송이축산정육식당2호점,송이축산정육판매장</td>\n",
              "    </tr>\n",
              "    <tr>\n",
              "      <th>1181</th>\n",
              "      <td>송죽원</td>\n",
              "    </tr>\n",
              "  </tbody>\n",
              "</table>\n",
              "<p>1182 rows × 1 columns</p>\n",
              "</div>"
            ],
            "text/plain": [
              "                        lst\n",
              "0        한국수상레저안전협회 제주제주시지부\n",
              "1                 케이디에셋 담앤루\n",
              "2                       베이힐\n",
              "3          비케이알 버거킹 제주화북DT점\n",
              "4        신세계푸드 제주신화월드  고래라면\n",
              "...                     ...\n",
              "1177                     솔솥\n",
              "1178                     솔채\n",
              "1179          송송숯불두마리치킨앤곱꼬닭\n",
              "1180  송이축산정육식당2호점,송이축산정육판매장\n",
              "1181                    송죽원\n",
              "\n",
              "[1182 rows x 1 columns]"
            ]
          },
          "execution_count": 65,
          "metadata": {},
          "output_type": "execute_result"
        }
      ],
      "source": [
        "crawling_list"
      ]
    },
    {
      "cell_type": "code",
      "execution_count": 66,
      "metadata": {},
      "outputs": [],
      "source": [
        "store_crawling = pd.concat([crawling_list, new_fail], ignore_index=True)"
      ]
    },
    {
      "cell_type": "code",
      "execution_count": 67,
      "metadata": {},
      "outputs": [
        {
          "data": {
            "text/html": [
              "<div>\n",
              "<style scoped>\n",
              "    .dataframe tbody tr th:only-of-type {\n",
              "        vertical-align: middle;\n",
              "    }\n",
              "\n",
              "    .dataframe tbody tr th {\n",
              "        vertical-align: top;\n",
              "    }\n",
              "\n",
              "    .dataframe thead th {\n",
              "        text-align: right;\n",
              "    }\n",
              "</style>\n",
              "<table border=\"1\" class=\"dataframe\">\n",
              "  <thead>\n",
              "    <tr style=\"text-align: right;\">\n",
              "      <th></th>\n",
              "      <th>lst</th>\n",
              "    </tr>\n",
              "  </thead>\n",
              "  <tbody>\n",
              "    <tr>\n",
              "      <th>0</th>\n",
              "      <td>한국수상레저안전협회 제주제주시지부</td>\n",
              "    </tr>\n",
              "    <tr>\n",
              "      <th>1</th>\n",
              "      <td>케이디에셋 담앤루</td>\n",
              "    </tr>\n",
              "    <tr>\n",
              "      <th>2</th>\n",
              "      <td>베이힐</td>\n",
              "    </tr>\n",
              "    <tr>\n",
              "      <th>3</th>\n",
              "      <td>비케이알 버거킹 제주화북DT점</td>\n",
              "    </tr>\n",
              "    <tr>\n",
              "      <th>4</th>\n",
              "      <td>신세계푸드 제주신화월드  고래라면</td>\n",
              "    </tr>\n",
              "    <tr>\n",
              "      <th>...</th>\n",
              "      <td>...</td>\n",
              "    </tr>\n",
              "    <tr>\n",
              "      <th>1419</th>\n",
              "      <td>여</td>\n",
              "    </tr>\n",
              "    <tr>\n",
              "      <th>1420</th>\n",
              "      <td>여기야</td>\n",
              "    </tr>\n",
              "    <tr>\n",
              "      <th>1421</th>\n",
              "      <td>여술</td>\n",
              "    </tr>\n",
              "    <tr>\n",
              "      <th>1422</th>\n",
              "      <td>여우네</td>\n",
              "    </tr>\n",
              "    <tr>\n",
              "      <th>1423</th>\n",
              "      <td>여인천하</td>\n",
              "    </tr>\n",
              "  </tbody>\n",
              "</table>\n",
              "<p>1424 rows × 1 columns</p>\n",
              "</div>"
            ],
            "text/plain": [
              "                     lst\n",
              "0     한국수상레저안전협회 제주제주시지부\n",
              "1              케이디에셋 담앤루\n",
              "2                    베이힐\n",
              "3       비케이알 버거킹 제주화북DT점\n",
              "4     신세계푸드 제주신화월드  고래라면\n",
              "...                  ...\n",
              "1419                   여\n",
              "1420                 여기야\n",
              "1421                  여술\n",
              "1422                 여우네\n",
              "1423                여인천하\n",
              "\n",
              "[1424 rows x 1 columns]"
            ]
          },
          "execution_count": 67,
          "metadata": {},
          "output_type": "execute_result"
        }
      ],
      "source": [
        "store_crawling"
      ]
    },
    {
      "cell_type": "code",
      "execution_count": 68,
      "metadata": {},
      "outputs": [
        {
          "name": "stderr",
          "output_type": "stream",
          "text": [
            "<>:1: SyntaxWarning: invalid escape sequence '\\g'\n",
            "<>:1: SyntaxWarning: invalid escape sequence '\\g'\n",
            "C:\\Users\\tldbs\\AppData\\Local\\Temp\\ipykernel_10724\\4008988355.py:1: SyntaxWarning: invalid escape sequence '\\g'\n",
            "  store_crawling.to_csv('C:\\github\\crawling_list.csv')\n"
          ]
        }
      ],
      "source": [
        "store_crawling.to_csv('C:\\github\\crawling_list.csv')"
      ]
    },
    {
      "cell_type": "code",
      "execution_count": 58,
      "metadata": {},
      "outputs": [
        {
          "data": {
            "text/plain": [
              "[('https://search.pstatic.net/common/?autoRotate=true&type=w560_sharpen&src=https%3A%2F%2Fvideo-phinf.pstatic.net%2F20240723_229%2F1721745070846WJY7f_JPEG%2FQLg3eZDGkE_03.jpg',\n",
              "  'https://pup-review-phinf.pstatic.net/MjAyNDA3MjNfMTIg/MDAxNzIxNzQ1MDY1NDg0.lemw_CM6_eOV2ToDKmOxfNpVbZ6T5lfCets6jfl5Vcog.SmDHuNlH0JOYnyLG3qInzqO953Y0LssVl8wa1xrjj9og.JPEG/049A7AF2-A517-405D-8F98-66E642FEBD37.jpeg?type=w560_sharpen',\n",
              "  'https://pup-review-phinf.pstatic.net/MjAyNDA3MjNfMjcx/MDAxNzIxNzQ1MDY1NjEy.qT_vqPnPzU49rVlqwvralCU17vFpnesu7nU8eUGMTMAg.CPkD5VZZqZaFBRNWOEuNBjkWZ8Hw_pTfgsLnZH9rEwcg.JPEG/ABA8D4D0-BB1B-4757-B3ED-321C1A8279E9.jpeg?type=w560_sharpen',\n",
              "  'https://search.pstatic.net/common/?autoRotate=true&type=w560_sharpen&src=https%3A%2F%2Fphinf.pstatic.net%2Ftvcast%2F20241001_199%2FxODei_1727774502019MCzhA_JPEG%2FPublishThumb_20241001_182124_604.jpg',\n",
              "  'https://search.pstatic.net/common/?autoRotate=true&type=w560_sharpen&src=http%3A%2F%2Fimage.nmv.naver.net%2Fblog_2024_09_15_2945%2F3Ceu1MtgvR_03.jpg')]"
            ]
          },
          "execution_count": 58,
          "metadata": {},
          "output_type": "execute_result"
        }
      ],
      "source": [
        "# 이미지 확인용\n",
        "# df[df['가게'] == '24시 뼈다귀탕 제주점']['사진'].tolist()\n"
      ]
    },
    {
      "cell_type": "markdown",
      "metadata": {},
      "source": [
        "이 부분에서 수정해서 위로 올렸음. 혹시 모르니 백업한 코드"
      ]
    },
    {
      "cell_type": "code",
      "execution_count": 3,
      "metadata": {},
      "outputs": [
        {
          "ename": "NoSuchWindowException",
          "evalue": "Message: no such window: target window already closed\nfrom unknown error: web view not found\n  (Session info: chrome=129.0.6668.101)\nStacktrace:\n\tGetHandleVerifier [0x00007FF6A987B095+29557]\n\t(No symbol) [0x00007FF6A97EFA50]\n\t(No symbol) [0x00007FF6A96AB56A]\n\t(No symbol) [0x00007FF6A967FCC5]\n\t(No symbol) [0x00007FF6A972EE07]\n\t(No symbol) [0x00007FF6A9747E21]\n\t(No symbol) [0x00007FF6A9726F33]\n\t(No symbol) [0x00007FF6A96F116F]\n\t(No symbol) [0x00007FF6A96F22D1]\n\tGetHandleVerifier [0x00007FF6A9BAC96D+3378253]\n\tGetHandleVerifier [0x00007FF6A9BF8497+3688311]\n\tGetHandleVerifier [0x00007FF6A9BED1CB+3642539]\n\tGetHandleVerifier [0x00007FF6A993A6B6+813462]\n\t(No symbol) [0x00007FF6A97FAB5F]\n\t(No symbol) [0x00007FF6A97F6B74]\n\t(No symbol) [0x00007FF6A97F6D10]\n\t(No symbol) [0x00007FF6A97E5C1F]\n\tBaseThreadInitThunk [0x00007FFD77247374+20]\n\tRtlUserThreadStart [0x00007FFD785BCC91+33]\n",
          "output_type": "error",
          "traceback": [
            "\u001b[1;31m---------------------------------------------------------------------------\u001b[0m",
            "\u001b[1;31mNoSuchWindowException\u001b[0m                     Traceback (most recent call last)",
            "Cell \u001b[1;32mIn[3], line 102\u001b[0m\n\u001b[0;32m    100\u001b[0m \u001b[38;5;28;01mwhile\u001b[39;00m attempts \u001b[38;5;241m<\u001b[39m max_attempts:\n\u001b[0;32m    101\u001b[0m     \u001b[38;5;28;01mtry\u001b[39;00m:\n\u001b[1;32m--> 102\u001b[0m         driver\u001b[38;5;241m.\u001b[39mswitch_to\u001b[38;5;241m.\u001b[39mdefault_content()\n\u001b[0;32m    103\u001b[0m         iframe \u001b[38;5;241m=\u001b[39m WebDriverWait(driver, \u001b[38;5;241m5\u001b[39m)\u001b[38;5;241m.\u001b[39muntil(\n\u001b[0;32m    104\u001b[0m             EC\u001b[38;5;241m.\u001b[39mpresence_of_element_located((By\u001b[38;5;241m.\u001b[39mXPATH, \u001b[38;5;124m'\u001b[39m\u001b[38;5;124m//*[@id=\u001b[39m\u001b[38;5;124m\"\u001b[39m\u001b[38;5;124mentryIframe\u001b[39m\u001b[38;5;124m\"\u001b[39m\u001b[38;5;124m]\u001b[39m\u001b[38;5;124m'\u001b[39m))\n\u001b[0;32m    105\u001b[0m         )\n\u001b[0;32m    106\u001b[0m         \u001b[38;5;28mprint\u001b[39m(\u001b[38;5;124mf\u001b[39m\u001b[38;5;124m\"\u001b[39m\u001b[38;5;124mentryIframe 로드.\u001b[39m\u001b[38;5;124m\"\u001b[39m)\n",
            "File \u001b[1;32mc:\\Users\\tldbs\\anaconda3\\Lib\\site-packages\\selenium\\webdriver\\remote\\switch_to.py:69\u001b[0m, in \u001b[0;36mSwitchTo.default_content\u001b[1;34m(self)\u001b[0m\n\u001b[0;32m     61\u001b[0m \u001b[38;5;28;01mdef\u001b[39;00m \u001b[38;5;21mdefault_content\u001b[39m(\u001b[38;5;28mself\u001b[39m) \u001b[38;5;241m-\u001b[39m\u001b[38;5;241m>\u001b[39m \u001b[38;5;28;01mNone\u001b[39;00m:\n\u001b[0;32m     62\u001b[0m \u001b[38;5;250m    \u001b[39m\u001b[38;5;124;03m\"\"\"Switch focus to the default frame.\u001b[39;00m\n\u001b[0;32m     63\u001b[0m \n\u001b[0;32m     64\u001b[0m \u001b[38;5;124;03m    :Usage:\u001b[39;00m\n\u001b[1;32m   (...)\u001b[0m\n\u001b[0;32m     67\u001b[0m \u001b[38;5;124;03m            driver.switch_to.default_content()\u001b[39;00m\n\u001b[0;32m     68\u001b[0m \u001b[38;5;124;03m    \"\"\"\u001b[39;00m\n\u001b[1;32m---> 69\u001b[0m     \u001b[38;5;28mself\u001b[39m\u001b[38;5;241m.\u001b[39m_driver\u001b[38;5;241m.\u001b[39mexecute(Command\u001b[38;5;241m.\u001b[39mSWITCH_TO_FRAME, {\u001b[38;5;124m\"\u001b[39m\u001b[38;5;124mid\u001b[39m\u001b[38;5;124m\"\u001b[39m: \u001b[38;5;28;01mNone\u001b[39;00m})\n",
            "File \u001b[1;32mc:\\Users\\tldbs\\anaconda3\\Lib\\site-packages\\selenium\\webdriver\\remote\\webdriver.py:354\u001b[0m, in \u001b[0;36mWebDriver.execute\u001b[1;34m(self, driver_command, params)\u001b[0m\n\u001b[0;32m    352\u001b[0m response \u001b[38;5;241m=\u001b[39m \u001b[38;5;28mself\u001b[39m\u001b[38;5;241m.\u001b[39mcommand_executor\u001b[38;5;241m.\u001b[39mexecute(driver_command, params)\n\u001b[0;32m    353\u001b[0m \u001b[38;5;28;01mif\u001b[39;00m response:\n\u001b[1;32m--> 354\u001b[0m     \u001b[38;5;28mself\u001b[39m\u001b[38;5;241m.\u001b[39merror_handler\u001b[38;5;241m.\u001b[39mcheck_response(response)\n\u001b[0;32m    355\u001b[0m     response[\u001b[38;5;124m\"\u001b[39m\u001b[38;5;124mvalue\u001b[39m\u001b[38;5;124m\"\u001b[39m] \u001b[38;5;241m=\u001b[39m \u001b[38;5;28mself\u001b[39m\u001b[38;5;241m.\u001b[39m_unwrap_value(response\u001b[38;5;241m.\u001b[39mget(\u001b[38;5;124m\"\u001b[39m\u001b[38;5;124mvalue\u001b[39m\u001b[38;5;124m\"\u001b[39m, \u001b[38;5;28;01mNone\u001b[39;00m))\n\u001b[0;32m    356\u001b[0m     \u001b[38;5;28;01mreturn\u001b[39;00m response\n",
            "File \u001b[1;32mc:\\Users\\tldbs\\anaconda3\\Lib\\site-packages\\selenium\\webdriver\\remote\\errorhandler.py:229\u001b[0m, in \u001b[0;36mErrorHandler.check_response\u001b[1;34m(self, response)\u001b[0m\n\u001b[0;32m    227\u001b[0m         alert_text \u001b[38;5;241m=\u001b[39m value[\u001b[38;5;124m\"\u001b[39m\u001b[38;5;124malert\u001b[39m\u001b[38;5;124m\"\u001b[39m]\u001b[38;5;241m.\u001b[39mget(\u001b[38;5;124m\"\u001b[39m\u001b[38;5;124mtext\u001b[39m\u001b[38;5;124m\"\u001b[39m)\n\u001b[0;32m    228\u001b[0m     \u001b[38;5;28;01mraise\u001b[39;00m exception_class(message, screen, stacktrace, alert_text)  \u001b[38;5;66;03m# type: ignore[call-arg]  # mypy is not smart enough here\u001b[39;00m\n\u001b[1;32m--> 229\u001b[0m \u001b[38;5;28;01mraise\u001b[39;00m exception_class(message, screen, stacktrace)\n",
            "\u001b[1;31mNoSuchWindowException\u001b[0m: Message: no such window: target window already closed\nfrom unknown error: web view not found\n  (Session info: chrome=129.0.6668.101)\nStacktrace:\n\tGetHandleVerifier [0x00007FF6A987B095+29557]\n\t(No symbol) [0x00007FF6A97EFA50]\n\t(No symbol) [0x00007FF6A96AB56A]\n\t(No symbol) [0x00007FF6A967FCC5]\n\t(No symbol) [0x00007FF6A972EE07]\n\t(No symbol) [0x00007FF6A9747E21]\n\t(No symbol) [0x00007FF6A9726F33]\n\t(No symbol) [0x00007FF6A96F116F]\n\t(No symbol) [0x00007FF6A96F22D1]\n\tGetHandleVerifier [0x00007FF6A9BAC96D+3378253]\n\tGetHandleVerifier [0x00007FF6A9BF8497+3688311]\n\tGetHandleVerifier [0x00007FF6A9BED1CB+3642539]\n\tGetHandleVerifier [0x00007FF6A993A6B6+813462]\n\t(No symbol) [0x00007FF6A97FAB5F]\n\t(No symbol) [0x00007FF6A97F6B74]\n\t(No symbol) [0x00007FF6A97F6D10]\n\t(No symbol) [0x00007FF6A97E5C1F]\n\tBaseThreadInitThunk [0x00007FFD77247374+20]\n\tRtlUserThreadStart [0x00007FFD785BCC91+33]\n"
          ]
        }
      ],
      "source": [
        "# from selenium import webdriver\n",
        "# from selenium.webdriver.common.by import By\n",
        "# from selenium.webdriver.common.keys import Keys\n",
        "# from selenium.webdriver.support.ui import WebDriverWait\n",
        "# from selenium.webdriver.support import expected_conditions as EC\n",
        "# from selenium.common.exceptions import TimeoutException, NoSuchElementException\n",
        "# import time\n",
        "# import pandas as pd\n",
        "# from selenium.webdriver import ActionChains\n",
        "\n",
        "\n",
        "# # Define the list of stores to be scraped\n",
        "# # stores = search_cols_2\n",
        "# stores = ['협재해녀의집']\n",
        "# # Initialize webdriver options and webdriver\n",
        "# options = webdriver.ChromeOptions()\n",
        "# options.add_argument(\"--start-maximized\")\n",
        "# driver = webdriver.Chrome(options=options)\n",
        "\n",
        "# action = ActionChains(driver)\n",
        "# fail_to_crawling = []\n",
        "\n",
        "\n",
        "# ###################### 검색 키워드를 바탕으로 시작\n",
        "# results = []\n",
        "# for store in stores:\n",
        "#     ######################### 기본세팅\n",
        "#     # URL 입력\n",
        "#     keyword = store\n",
        "#     url = f'https://map.naver.com/p/search/{keyword}'\n",
        "#     driver.get(url)\n",
        "\n",
        "#     # 페이지 로드 \n",
        "#     try:\n",
        "#         WebDriverWait(driver, 3).until(\n",
        "#             lambda d: d.execute_script('return document.readyState') == 'complete'\n",
        "#         )\n",
        "#     except TimeoutException:\n",
        "#         print(f\"타임아웃 for {store}!\")\n",
        "#         continue\n",
        "\n",
        "#     ################ searchIframe 및 entryIframe에 따른 처리\n",
        "#     # 1. searchIframe일 경우 첫번째 가게 클릭하기\n",
        "#     try:\n",
        "#         search_iframe = WebDriverWait(driver, 4).until(\n",
        "#             EC.presence_of_element_located((By.XPATH, '//*[@id=\"searchIframe\"]'))\n",
        "#         )\n",
        "#         driver.switch_to.frame(search_iframe)\n",
        "        \n",
        "#         # Explicitly wait for the list container to load\n",
        "#         try:\n",
        "#             list_scroll_container = WebDriverWait(driver, 2).until(\n",
        "#             EC.presence_of_element_located((By.XPATH, '//*[@id=\"app-root\"]/div[@class=\"mFg6p\"]/div[@class=\"XUrfU\"]/div[@class=\"Ryr1F\"]'))\n",
        "#         )\n",
        "#             # 첫번째 가게항목\n",
        "#             # /ul/li[@class=\"VLTHu OW9LQ\"]/div[@class=\"qbGlu\"]/div[2]/a/div[@class=\"ApCpt\"]/div[@class=\"place_bluelink C6RjW\"]\n",
        "#             try : \n",
        "#                 first_result = list_scroll_container.find_element(By.XPATH, './ul/li[1]')\n",
        "#                 # print(f\"first_result : {first_result.get_attribute('innerHTML')}\")\n",
        "#             except : \n",
        "#                 first_result = list_scroll_container.find_element(By.CLASS_NAME, '/ul/li[@class=\"VLTHu OW9LQ\"]')\n",
        "#                 # print(f\"except first_result : {first_result.get_attribute('innerHTML')}\")\n",
        "\n",
        "#             # Try clicking using XPath first\n",
        "#             try:\n",
        "#                 link_button = first_result.find_element(By.XPATH, './div[1]/div[2]/a[1]/div/div/span')\n",
        "#                 # action chain을 이용해서 강제로 클릭하도록 설정\n",
        "#                 action.move_to_element(link_button).click().perform()\n",
        "#                 # print(f\"link_button : {link_button.get_attribute('innerHTML')}\")\n",
        "#                 # driver.execute_script(\"arguments[0].click();\", link_button)\n",
        "#                 ###### 디버깅파트\n",
        "#                 # print(f\"됐냐?\")\n",
        "#                 # current_url = driver.current_url\n",
        "#                 # print(f\"클릭 후 URL: {current_url}\")\n",
        "#                 # current_title = driver.title\n",
        "#                 # print(f\"클릭 후 페이지 타이틀: {current_title}\")\n",
        "#                 time.sleep(2)  # Wait for page transition\n",
        "#             except NoSuchElementException: \n",
        "#                 print(f\"링크버튼 어디감? xpath 대신 클래스 이름으로 시도\")\n",
        "#                 try:\n",
        "#                     # Fallback to class name\n",
        "#                     link_button = first_result.find_element(By.CLASS_NAME, 'place_bluelink')\n",
        "#                     action.move_to_element(link_button).click().perform()\n",
        "#                     time.sleep(3)  # Wait for page transition\n",
        "#                 except NoSuchElementException:\n",
        "#                     print(f\"링크버튼 어디감?\")\n",
        "#                     continue\n",
        "#         except TimeoutException:\n",
        "#             print(f\"Error while clicking first search result for {store}: Unable to locate list container.\")\n",
        "#             continue\n",
        "#     except TimeoutException:\n",
        "#         print(f\"Search iframe not found for {store}, attempting entry iframe.\")\n",
        "#         continue\n",
        "\n",
        "#     # 2. entryIframe일 경우 밑의 코드 진행 \n",
        "\n",
        "#     # iframe 세팅\n",
        "#     attempts = 0\n",
        "#     max_attempts = 3\n",
        "#     while attempts < max_attempts:\n",
        "#         try:\n",
        "#             driver.switch_to.default_content()\n",
        "#             iframe = WebDriverWait(driver, 5).until(\n",
        "#                 EC.presence_of_element_located((By.XPATH, '//*[@id=\"entryIframe\"]'))\n",
        "#             )\n",
        "#             print(f\"entryIframe 로드.\")\n",
        "#             driver.switch_to.frame(iframe)\n",
        "#             break\n",
        "#         except TimeoutException:\n",
        "#             attempts += 1\n",
        "#             time.sleep(1)  \n",
        "#             if attempts == max_attempts:\n",
        "#                 print(f\"Failed to load iframe after multiple attempts for {store}.\")\n",
        "#                 # 크롤링 실패한 부분은 리스트에 저장해서 다시 돌릴 수 있도록 지정\n",
        "#                 print(f\"crawling fatil : {store} to fail_to_crawling\")\n",
        "#                 fail_to_crawling.append(store)\n",
        "#                 continue\n",
        "\n",
        "#     # 로딩을 위해 스크롤링 진행\n",
        "#     SCROLL_PAUSE_TIME = 2\n",
        "#     last_height = driver.execute_script(\"return document.body.scrollHeight\")\n",
        "#     while True:\n",
        "#         driver.execute_script(\"window.scrollTo(0, document.body.scrollHeight);\")\n",
        "#         time.sleep(SCROLL_PAUSE_TIME)\n",
        "#         new_height = driver.execute_script(\"return document.body.scrollHeight\")\n",
        "#         if new_height == last_height:\n",
        "#             break\n",
        "#         last_height = new_height\n",
        "#     time.sleep(1)\n",
        "\n",
        "#     ###################### datalab 크롤링\n",
        "#     try:\n",
        "#         app_root = driver.find_element(By.XPATH, '//*[@id=\"app-root\"]')\n",
        "#         main_div = app_root.find_element(By.XPATH, './div/div/div[@role=\"main\"]')\n",
        "#         target_div = main_div.find_element(By.XPATH, './div[contains(@style, \"min-height\")]')\n",
        "#         datalab_section = target_div.find_element(By.XPATH, './div/div[9]')\n",
        "#         theme_keywords = datalab_section.find_element(By.CLASS_NAME, 'place_section_content')\n",
        "\n",
        "#         atmosphere_elements = theme_keywords.find_elements(By.XPATH, \".//ul/li[span[contains(text(), '분위기')]]/span[@class='sJgQj']/span\")\n",
        "#         popular_elements = theme_keywords.find_elements(By.XPATH, \".//ul/li[span[contains(text(), '인기토픽')]]/span[@class='sJgQj']/span\")\n",
        "#         purpose_elements = theme_keywords.find_elements(By.XPATH, \".//ul/li[span[contains(text(), '찾는목적')]]/span[@class='sJgQj']/span\")\n",
        "\n",
        "#         atmosphere = [elem.text for elem in atmosphere_elements]\n",
        "#         popular_topics = [elem.text for elem in popular_elements]\n",
        "#         purpose = [elem.text for elem in purpose_elements]\n",
        "\n",
        "#         result = {\n",
        "#             \"가게\": store,\n",
        "#             \"테마_분위기\": atmosphere,\n",
        "#             \"테마_인기토픽\": popular_topics,\n",
        "#             \"테마_찾는목적\": purpose\n",
        "#         }\n",
        "#         results.append(result)\n",
        "#     except Exception as e:\n",
        "#         print(f\"Error while extracting datalab information for {store}:\", e)\n",
        "    \n",
        "#     time.sleep(2)\n",
        "\n",
        "\n",
        "\n",
        "#     ############################## 리뷰로 넘어가서 진행하기\n",
        "#     try:\n",
        "#         # 리뷰버튼 클릭\n",
        "#         for k in range(1, 6) : \n",
        "#             try: \n",
        "#                 tab_button = driver.find_element(By.XPATH, f'//*[@id=\"app-root\"]/div/div/div/div[4]/div/div/div/div/a[{k}]')\n",
        "#                 span_text = tab_button.find_element(By.XPATH, './span').text\n",
        "#                 if span_text == '리뷰':\n",
        "#                     review_button = tab_button\n",
        "#                     break \n",
        "#             except Exception as e:\n",
        "#                 continue \n",
        "#         if review_button: \n",
        "#             review_button.click() \n",
        "#             # 리뷰 탭 로딩 확인\n",
        "#             try:\n",
        "#                 WebDriverWait(driver, 5).until(\n",
        "#                     EC.presence_of_element_located((By.XPATH, '//*[@id=\"app-root\"]/div/div/div/div[6]'))\n",
        "#                 )\n",
        "#                 print(f\"{store}: 리뷰 페이지 로드 성공\")\n",
        "#             except TimeoutException:\n",
        "#                 print(f\"{store}: 리뷰 페이지 로드 실패, 사진 수집으로 넘어가지 않음\")\n",
        "#                 continue\n",
        "\n",
        "#         # iframe 로딩을 위해 스크롤링 진행\n",
        "#         last_height = driver.execute_script(\"return document.body.scrollHeight\")\n",
        "#         while True:\n",
        "#             driver.execute_script(\"window.scrollTo(0, document.body.scrollHeight);\")\n",
        "#             time.sleep(SCROLL_PAUSE_TIME)\n",
        "#             new_height = driver.execute_script(\"return document.body.scrollHeight\")\n",
        "#             if new_height == last_height:\n",
        "#                 break\n",
        "#             last_height = new_height\n",
        "#         time.sleep(2)\n",
        "\n",
        "#         # 리뷰 정보를 수집할 준비\n",
        "        \n",
        "#         ############################## 리뷰 정보 수집\n",
        "#         try:\n",
        "#             review_box = driver.find_element(By.XPATH, '//*[@id=\"app-root\"]/div/div/div/div[6]/div[3]/div[3]/div[1]')\n",
        "#         except:\n",
        "#             review_box = driver.find_element(By.CLASS_NAME, 'place_section_content')\n",
        "\n",
        "#         try:\n",
        "#             tag_filters = review_box.find_element(By.XPATH, '//*[@id=\"_tag_filters\"]/div/div')\n",
        "#         except:\n",
        "#             tag_filters = review_box.find_element(By.CLASS_NAME, 'mWnvl')\n",
        "\n",
        "#         menu_features = {}\n",
        "#         feature_items = {}\n",
        "#         for n in range(1, 3):\n",
        "#             try:\n",
        "#                 div_element = tag_filters.find_element(By.XPATH, f'//*[@id=\"_tag_filters\"]/div/div[{n}]')\n",
        "#             except:\n",
        "#                 div_element = tag_filters.find_element(By.XPATH, f'.//div[{n}]')\n",
        "\n",
        "#             if n == 1:\n",
        "#                 div_class = \"JWiV0 eZMAS xcTvu\"  # 메뉴\n",
        "#             elif n == 2:\n",
        "#                 div_class = \"JWiV0 khWUF eZMAS xcTvu\"  # 특징\n",
        "\n",
        "#             try:\n",
        "#                 menu_items = div_element.find_elements(By.XPATH, './/a')\n",
        "#                 for item in menu_items:\n",
        "#                     span_1 = item.find_element(By.XPATH, './span[1]').text\n",
        "#                     span_2 = item.find_element(By.XPATH, './span[2]').text\n",
        "#                     if n == 1:\n",
        "#                         menu_features[span_1] = span_2\n",
        "#                     elif n == 2:\n",
        "#                         feature_items[span_1] = span_2\n",
        "#             except Exception as e:\n",
        "#                 print(f\"Error while extracting menu/features for {store}, div {n}:\", e)\n",
        "\n",
        "#         # Add the menu and features data to the result\n",
        "#         result[\"메뉴\"] = menu_features\n",
        "#         result[\"특징\"] = feature_items\n",
        "#     except Exception as e:\n",
        "#         print(f\"Error while navigating to reviews for {store}:\", e)\n",
        "    \n",
        "#     time.sleep(1)\n",
        "    \n",
        "#     ############################## 사진으로 넘어가서 진행하기\n",
        "#     try:\n",
        "#         # 사진 버튼 클릭\n",
        "#         photo_button = None\n",
        "#         for k in range(1, 6):\n",
        "#             try:\n",
        "#                 tab_button = driver.find_element(By.XPATH, f'//*[@id=\"app-root\"]/div/div/div/div[4]/div/div/div/div/a[{k}]')\n",
        "#                 span_text = tab_button.find_element(By.XPATH, './span').text\n",
        "#                 if span_text == '사진':\n",
        "#                     photo_button = tab_button\n",
        "#                     break\n",
        "#             except Exception as e:\n",
        "#                 continue\n",
        "\n",
        "#         if photo_button:\n",
        "#             photo_button.click()\n",
        "#         else:\n",
        "#             print(f\" 사진 버튼 없음 : {store}.\")\n",
        "#             continue\n",
        "        \n",
        "#         # 스크롤 세 번 진행\n",
        "#         for _ in range(3):\n",
        "#             driver.execute_script(\"window.scrollTo(0, document.body.scrollHeight);\")\n",
        "#         time.sleep(1)\n",
        "        \n",
        "#         # 사진 정보 수집\n",
        "#         pic_tmp = []\n",
        "#         try:\n",
        "#             app_root = driver.find_element(By.XPATH, '//*[@id=\"app-root\"]')\n",
        "#             main_div = app_root.find_element(By.XPATH, './div/div')\n",
        "#             role_main_div = main_div.find_element(By.XPATH, './div[@role=\"main\"]')\n",
        "#             target_div = role_main_div.find_element(By.XPATH, './div[contains(@style, \"min-height\")]')\n",
        "#         except Exception as e:\n",
        "#             print(f\"위치 못찾음 : {store}:\", e)\n",
        "#             continue\n",
        "\n",
        "#         try:\n",
        "#             photo_section = target_div.find_element(By.XPATH, './div[contains(@class, \"place_section\")]')\n",
        "#             # print(f'photo_section found: {photo_section}')\n",
        "#         except:\n",
        "#             try:\n",
        "#                 photo_section = target_div.find_element(By.CLASS_NAME, 'place_section no_margin')\n",
        "#                 # print(f'photo_section (alternative) found: {photo_section}')\n",
        "#             except Exception as e:\n",
        "#                 print(f\"photo section 못찾음 {store}: {e}\")\n",
        "#                 continue\n",
        "#         try:\n",
        "#             photo_content = WebDriverWait(driver, 1).until(\n",
        "#                 EC.presence_of_element_located((By.CLASS_NAME, 'place_section_content'))\n",
        "#             )\n",
        "#             # print(f'photo_content found: {photo_content}')\n",
        "#         except Exception as e:\n",
        "#             print(f'photo_content 못찾음 {store}: {e}')\n",
        "#             continue\n",
        "\n",
        "#         # print(f\"photo_content : {photo_content}\")\n",
        "#         for n in range(1, 11):\n",
        "#             try:\n",
        "#                 photo_div = photo_content.find_element(By.XPATH, f'./div/div/div[{n}]/a')\n",
        "#                 img_element = photo_div.find_element(By.XPATH, './img')\n",
        "#                 img_src = img_element.get_attribute('src')\n",
        "#                 pic_tmp.append(img_src)\n",
        "#             except Exception as e:\n",
        "#                 print(f\"이미지 추출 오류 {n} for {store}: {e}\")\n",
        "\n",
        "#         result[\"사진\"] = pic_tmp\n",
        "#     except Exception as e:\n",
        "#         print(f\"Error while navigating to photos for {store}:\", e)\n",
        "\n",
        "#     # Append the result for each store\n",
        "#     results.append(result)\n",
        "\n",
        "# ################ Close the browser\n",
        "# # driver.quit()\n",
        "\n",
        "# ################### 크롤링 최종결과를 df에 저장\n",
        "# df = pd.DataFrame(results)\n",
        "# ################## 원본데이터에 입력\n",
        "# # df = pd.merge(df, shinhan, on='가게명', how='outer')\n",
        "\n",
        "# ################### 통합된 데이터 저장\n",
        "# # df.to_csv('./crawling_shinhan.csv', index=False)\n"
      ]
    }
  ],
  "metadata": {
    "colab": {
      "provenance": []
    },
    "kernelspec": {
      "display_name": "base",
      "language": "python",
      "name": "python3"
    },
    "language_info": {
      "codemirror_mode": {
        "name": "ipython",
        "version": 3
      },
      "file_extension": ".py",
      "mimetype": "text/x-python",
      "name": "python",
      "nbconvert_exporter": "python",
      "pygments_lexer": "ipython3",
      "version": "3.12.4"
    }
  },
  "nbformat": 4,
  "nbformat_minor": 0
}
