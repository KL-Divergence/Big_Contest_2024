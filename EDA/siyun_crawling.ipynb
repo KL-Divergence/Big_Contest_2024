{
  "cells": [
    {
      "cell_type": "markdown",
      "metadata": {
        "id": "HdVB8gdufnIk"
      },
      "source": [
        "# Todo\n",
        "0. 현재 attempt 1-1 진행중 오류는 주석 참고바람\n",
        "1. searchframe 구분해서 추가처리하기\n",
        "2. searchframe의 경우 맨 위의 장소를 클릭하도록 설정\n",
        "3. 각 리뷰가 없는 경우 빠르게 넘겨서 시간절약하기\n",
        "\n",
        "\n"
      ]
    },
    {
      "cell_type": "markdown",
      "metadata": {
        "id": "6o7sktkfsJmH"
      },
      "source": [
        "#selenium settings\n",
        "- 참고\n",
        "https://velog.io/@kimdy0915/Selenium%EC%9C%BC%EB%A1%9C-%EB%84%A4%EC%9D%B4%EB%B2%84-%EC%A7%80%EB%8F%84-%ED%81%AC%EB%A1%A4%EB%A7%81%ED%95%98%EA%B8%B0\n",
        "\n",
        "https://eastsea92-com.tistory.com/80\n",
        "\n",
        "https://jinooh.tistory.com/89\n",
        "\n"
      ]
    },
    {
      "cell_type": "code",
      "execution_count": null,
      "metadata": {
        "colab": {
          "base_uri": "https://localhost:8080/"
        },
        "id": "Yaq6VCvTuII_",
        "outputId": "b5797f9d-dcec-413a-a400-69e5798e78a9"
      },
      "outputs": [],
      "source": [
        "!pip install selenium"
      ]
    },
    {
      "cell_type": "code",
      "execution_count": 1,
      "metadata": {
        "id": "klP80wzayETr"
      },
      "outputs": [],
      "source": [
        "from selenium import webdriver\n",
        "from selenium.webdriver.chrome.service import Service\n",
        "from selenium.webdriver.common.keys import Keys\n",
        "from selenium.webdriver.common.by import By\n",
        "from selenium.webdriver.support.ui import WebDriverWait\n",
        "from selenium.webdriver.support import expected_conditions as EC\n",
        "import json\n",
        "import time\n",
        "from time import sleep\n",
        "import pandas as pd\n"
      ]
    },
    {
      "cell_type": "markdown",
      "metadata": {
        "id": "CrkgzG6mym0G"
      },
      "source": [
        "load chrome driver"
      ]
    },
    {
      "cell_type": "code",
      "execution_count": 2,
      "metadata": {},
      "outputs": [
        {
          "data": {
            "text/plain": [
              "'.'"
            ]
          },
          "execution_count": 2,
          "metadata": {},
          "output_type": "execute_result"
        }
      ],
      "source": [
        "import os\n",
        "os.curdir"
      ]
    },
    {
      "cell_type": "markdown",
      "metadata": {
        "id": "f1sOC9q1x7lG"
      },
      "source": [
        "# 절차\n",
        "\n",
        "1. 가게에 대한 unique를 list에 넣기\n",
        "2. for 문을 돌면서 해당 가게에 대한 정보\n",
        "    - 홈 - datalab 키워드\n",
        "    - 사진 - 이미지\n",
        "    - 리뷰 - 메뉴/특징\n",
        "\n",
        "\n"
      ]
    },
    {
      "cell_type": "code",
      "execution_count": null,
      "metadata": {
        "id": "Z0icws1HtzcW"
      },
      "outputs": [],
      "source": [
        "# # 검색할 키워드\n",
        "# ## 검색할 키워드를 입력받은 후 for문장으로 해당 가게에 대한 정보 가져오기\n",
        "# shinhan_store = ['','','','']\n",
        "\n",
        "# datalab = []\n",
        "# picture = []\n",
        "# review = []\n",
        "\n",
        "# driver = webdriver.Chrome('./chromedriver')\n",
        "# driver.get('https://map.naver.com/v5/search')\n",
        "\n",
        "# for store in shinhan_store:\n",
        "\n",
        "#     # 10 secs wait until find css\n",
        "#     time_wait(10, 'div.input_box > input.input_search')\n",
        "\n",
        "#     # 검색창 찾기\n",
        "#     search = driver.find_element(By.CSS_SELECTOR, 'div.input_box > input.input_search')\n",
        "#     search.clear()\n",
        "#     search.send_keys(store)\n",
        "#     search.send_keys(Keys.ENTER)\n",
        "\n",
        "#     sleep(1)\n",
        "\n",
        "#     switch_method('searchIframe')\n",
        "#     page_down(20)\n",
        "#     sleep(3)\n",
        "\n",
        "#     # 홈\n",
        "#     ## datalab의 키워드\n",
        "#     path = '/html/body/div[3]/div/div/div/div[6]/div/div[9]'\n",
        "#     ### theme-keyword\n",
        "#     /html/body/div[3]/div/div/div/div[6]/div/div[9]/div[1]/div[1]/div/ul/li[1]/span[1]\n",
        "#     /html/body/div[3]/div/div/div/div[6]/div/div[9]/div[1]/div[1]/div/ul/li[2]/span[1]\n",
        "#     /html/body/div[3]/div/div/div/div[6]/div/div[9]/div[1]/div[1]/div/ul/li[3]/span[1]\n",
        "#     ### 내용1\n",
        "#     /html/body/div[3]/div/div/div/div[6]/div/div[9]/div[1]/div[1]/div/ul/li[1]/span[2]/span[1]\n",
        "#     /html/body/div[3]/div/div/div/div[6]/div/div[9]/div[1]/div[1]/div/ul/li[1]/span[2]/span[5]\n",
        "#     ### 내용2\n",
        "#     /html/body/div[3]/div/div/div/div[6]/div/div[9]/div[1]/div[1]/div/ul/li[2]/span[2]/span[1]\n",
        "#     /html/body/div[3]/div/div/div/div[6]/div/div[9]/div[1]/div[1]/div/ul/li[2]/span[2]/span[5]\n",
        "#     ### 내용3\n",
        "#     /html/body/div[3]/div/div/div/div[6]/div/div[9]/div[1]/div[1]/div/ul/li[2]/span[3]/span[1]\n",
        "#     /html/body/div[3]/div/div/div/div[6]/div/div[9]/div[1]/div[1]/div/ul/li[2]/span[3]/span[5]\n",
        "\n",
        "#     # 리뷰\n",
        "#     to_click1 = /html/body/div[3]/div/div/div/div[4]/div/div/div/div/a[4]/span\n",
        "#     # 메뉴박스\n",
        "#     review = /html/body/div[3]/div/div/div/div[6]/div[3]/div[3]\n",
        "#     menu_box = /html/body/div[3]/div/div/div/div[6]/div[3]/div[3]/div[1]/div[1]/div/div[1]\n",
        "#     menu = /html/body/div[3]/div/div/div/div[6]/div[3]/div[3]/div[1]/div[1]/div/div[1]/div/div/div/div/span[2]/a/span[1]\n",
        "#     # 특징박스\n",
        "#     feature = /html/body/div[3]/div/div/div/div[6]/div[3]/div[3]/div[1]/div[1]/div/div[2]\n",
        "#     feqture_1 = /html/body/div[3]/div/div/div/div[6]/div[3]/div[3]/div[1]/div[1]/div/div[2]/div/div/div/div/span[2]/a/span[1]\n",
        "\n",
        "#     # 사진\n",
        "#     to_click2 = /html/body/div[3]/div/div/div/div[4]/div/div/div/div/a[5]/span\n",
        "#     # 동영상이 아니라 사진의 경우만\n",
        "#     # 대략 5~10개 이미지 url 저장\n",
        "\n",
        "#     picture_box = /html/body/div[3]/div/div/div/div[6]/div[5]/div/div/div/div[1]/a\n",
        "#     url = /html/body/div[3]/div/div/div/div[6]/div[5]/div/div/div/div[1]/a/div/div[1]/img\n",
        "\n",
        "\n",
        "\n"
      ]
    },
    {
      "cell_type": "code",
      "execution_count": 8,
      "metadata": {},
      "outputs": [
        {
          "name": "stderr",
          "output_type": "stream",
          "text": [
            "<>:1: SyntaxWarning: invalid escape sequence '\\g'\n",
            "<>:1: SyntaxWarning: invalid escape sequence '\\g'\n",
            "C:\\Users\\tldbs\\AppData\\Local\\Temp\\ipykernel_4988\\1202689804.py:1: SyntaxWarning: invalid escape sequence '\\g'\n",
            "  concat = pd.read_csv('C:\\github\\shinhan_merge.csv', encoding='utf-8')\n"
          ]
        }
      ],
      "source": [
        "concat = pd.read_csv('C:\\github\\shinhan_merge.csv', encoding='utf-8')\n",
        "\n",
        "search_cols = concat['MCT_NM']\n",
        "search_cols = search_cols.tolist()\n",
        "search_cols_cut = search_cols[501:1500]\n"
      ]
    },
    {
      "cell_type": "code",
      "execution_count": 12,
      "metadata": {},
      "outputs": [],
      "source": [
        "# 처음에 초기화\n",
        "fail_to_crawling = []"
      ]
    },
    {
      "cell_type": "markdown",
      "metadata": {},
      "source": [
        "수정해야할 부분\n",
        "- search cols에서 (사) (주) (유) 등이 있는데ㅐ 그러면 검색이 안됨. 따라서 처리"
      ]
    },
    {
      "cell_type": "code",
      "execution_count": 13,
      "metadata": {},
      "outputs": [
        {
          "data": {
            "text/plain": [
              "['고집순두부연동본점',\n",
              " '고찌올레',\n",
              " '고창댁풍천장어낙지',\n",
              " '고촌',\n",
              " '고코요',\n",
              " '고평갯드르식당',\n",
              " '고피자 시청점',\n",
              " '고할망네',\n",
              " '고향모밀촌',\n",
              " '고향산천']"
            ]
          },
          "execution_count": 13,
          "metadata": {},
          "output_type": "execute_result"
        }
      ],
      "source": [
        "import re\n",
        "search_cols_1 = list(map(lambda x: re.sub(r'^\\(.*?\\)\\s*', '', x), search_cols_cut))\n",
        "search_cols_1[:10]\n"
      ]
    },
    {
      "cell_type": "code",
      "execution_count": 15,
      "metadata": {},
      "outputs": [
        {
          "name": "stderr",
          "output_type": "stream",
          "text": [
            "  0%|          | 0/999 [00:00<?, ?it/s]"
          ]
        },
        {
          "name": "stdout",
          "output_type": "stream",
          "text": [
            "고집순두부연동본점: searchIframe 로드 및 프레임 전환 완료\n",
            "Error while clicking first search result for 고집순두부연동본점: Unable to locate list container.\n"
          ]
        },
        {
          "name": "stderr",
          "output_type": "stream",
          "text": [
            "  0%|          | 1/999 [00:21<5:57:04, 21.47s/it]"
          ]
        },
        {
          "name": "stdout",
          "output_type": "stream",
          "text": [
            "Failed to load iframe after multiple attempts for 고집순두부연동본점.\n",
            "crawling fatil : 고집순두부연동본점 to fail_to_crawling\n",
            "고찌올레: searchIframe 로드 및 프레임 전환 완료\n",
            "고찌올레: entryIframe이 이미 로드됨. 클릭 없이 바로 진행\n",
            "entryIframe 로드.\n",
            "Error while extracting menu/features for 고찌올레, div 1:\n",
            "Error while extracting menu/features for 고찌올레, div 2:\n"
          ]
        },
        {
          "name": "stderr",
          "output_type": "stream",
          "text": [
            "  0%|          | 2/999 [00:42<5:56:54, 21.48s/it]"
          ]
        },
        {
          "name": "stdout",
          "output_type": "stream",
          "text": [
            "고창댁풍천장어낙지: searchIframe 로드 및 프레임 전환 완료\n",
            "고창댁풍천장어낙지: entryIframe이 이미 로드됨. 클릭 없이 바로 진행\n",
            "entryIframe 로드.\n",
            "Error while extracting menu/features for 고창댁풍천장어낙지, div 1:\n",
            "Error while extracting menu/features for 고창댁풍천장어낙지, div 2:\n"
          ]
        },
        {
          "name": "stderr",
          "output_type": "stream",
          "text": [
            "  0%|          | 3/999 [01:02<5:38:40, 20.40s/it]"
          ]
        },
        {
          "name": "stdout",
          "output_type": "stream",
          "text": [
            "iframe을 찾을 수 없음 for 고촌\n"
          ]
        },
        {
          "name": "stderr",
          "output_type": "stream",
          "text": [
            "  0%|          | 4/999 [01:17<5:06:03, 18.46s/it]"
          ]
        },
        {
          "name": "stdout",
          "output_type": "stream",
          "text": [
            "Failed to load iframe after multiple attempts for 고촌.\n",
            "crawling fatil : 고촌 to fail_to_crawling\n",
            "고코요: searchIframe 로드 및 프레임 전환 완료\n",
            "고코요: entryIframe이 이미 로드됨. 클릭 없이 바로 진행\n",
            "entryIframe 로드.\n",
            "Error while extracting menu/features for 고코요, div 1:\n",
            "Error while extracting menu/features for 고코요, div 2:\n"
          ]
        },
        {
          "name": "stderr",
          "output_type": "stream",
          "text": [
            "  1%|          | 5/999 [01:34<4:57:49, 17.98s/it]"
          ]
        },
        {
          "name": "stdout",
          "output_type": "stream",
          "text": [
            " 사진 버튼 없음 : 고코요.\n",
            "고평갯드르식당: searchIframe 로드 및 프레임 전환 완료\n",
            "고평갯드르식당: entryIframe이 이미 로드됨. 클릭 없이 바로 진행\n",
            "entryIframe 로드.\n",
            "Error while navigating to reviews for 고평갯드르식당:\n"
          ]
        },
        {
          "name": "stderr",
          "output_type": "stream",
          "text": [
            "  1%|          | 6/999 [01:55<5:11:03, 18.79s/it]"
          ]
        },
        {
          "name": "stdout",
          "output_type": "stream",
          "text": [
            "고피자 시청점: searchIframe 로드 및 프레임 전환 완료\n",
            "Error while clicking first search result for 고피자 시청점: Unable to locate list container.\n"
          ]
        },
        {
          "name": "stderr",
          "output_type": "stream",
          "text": [
            "  1%|          | 7/999 [02:16<5:22:33, 19.51s/it]"
          ]
        },
        {
          "name": "stdout",
          "output_type": "stream",
          "text": [
            "Failed to load iframe after multiple attempts for 고피자 시청점.\n",
            "crawling fatil : 고피자 시청점 to fail_to_crawling\n",
            "고할망네: searchIframe 로드 및 프레임 전환 완료\n",
            "고할망네: entryIframe이 이미 로드됨. 클릭 없이 바로 진행\n",
            "entryIframe 로드.\n",
            "Error while extracting menu/features for 고할망네, div 1:\n",
            "Error while extracting menu/features for 고할망네, div 2:\n"
          ]
        },
        {
          "name": "stderr",
          "output_type": "stream",
          "text": [
            "  1%|          | 8/999 [02:37<5:31:13, 20.05s/it]"
          ]
        },
        {
          "name": "stdout",
          "output_type": "stream",
          "text": [
            "고향모밀촌: searchIframe 로드 및 프레임 전환 완료\n",
            "고향모밀촌: 첫 번째 가게 클릭 후 전환되지 않음. 다음 가게로 진행\n",
            "entryIframe 로드.\n",
            "Error while extracting menu/features for 고향모밀촌, div 1:\n",
            "Error while extracting menu/features for 고향모밀촌, div 2:\n"
          ]
        },
        {
          "name": "stderr",
          "output_type": "stream",
          "text": [
            "  1%|          | 9/999 [03:05<6:13:15, 22.62s/it]"
          ]
        },
        {
          "name": "stdout",
          "output_type": "stream",
          "text": [
            "고향산천: searchIframe 로드 및 프레임 전환 완료\n",
            "고향산천: 첫 번째 가게 클릭 후 전환되지 않음. 다음 가게로 진행\n",
            "entryIframe 로드.\n",
            "Error while extracting menu/features for 고향산천, div 1:\n",
            "Error while extracting menu/features for 고향산천, div 2:\n"
          ]
        },
        {
          "name": "stderr",
          "output_type": "stream",
          "text": [
            "  1%|          | 10/999 [03:33<6:42:00, 24.39s/it]"
          ]
        },
        {
          "name": "stdout",
          "output_type": "stream",
          "text": [
            "고향숯불막창구이: searchIframe 로드 및 프레임 전환 완료\n",
            "고향숯불막창구이: 첫 번째 가게 클릭 후 전환되지 않음. 다음 가게로 진행\n",
            "entryIframe 로드.\n",
            "Error while extracting menu/features for 고향숯불막창구이, div 1:\n",
            "Error while extracting menu/features for 고향숯불막창구이, div 2:\n"
          ]
        },
        {
          "name": "stderr",
          "output_type": "stream",
          "text": [
            "  1%|          | 11/999 [04:02<7:00:42, 25.55s/it]"
          ]
        },
        {
          "name": "stdout",
          "output_type": "stream",
          "text": [
            "고향숯불막창삼도점: searchIframe 로드 및 프레임 전환 완료\n",
            "고향숯불막창삼도점: entryIframe이 이미 로드됨. 클릭 없이 바로 진행\n",
            "entryIframe 로드.\n",
            "Error while extracting menu/features for 고향숯불막창삼도점, div 1:\n",
            "Error while extracting menu/features for 고향숯불막창삼도점, div 2:\n"
          ]
        },
        {
          "name": "stderr",
          "output_type": "stream",
          "text": [
            "  1%|          | 12/999 [04:21<6:27:25, 23.55s/it]"
          ]
        },
        {
          "name": "stdout",
          "output_type": "stream",
          "text": [
            "고향숯불막창삼화점: searchIframe 로드 및 프레임 전환 완료\n",
            "고향숯불막창삼화점: entryIframe이 이미 로드됨. 클릭 없이 바로 진행\n",
            "entryIframe 로드.\n",
            "Error while extracting menu/features for 고향숯불막창삼화점, div 1:\n",
            "Error while extracting menu/features for 고향숯불막창삼화점, div 2:\n"
          ]
        },
        {
          "name": "stderr",
          "output_type": "stream",
          "text": [
            "  1%|▏         | 13/999 [04:39<6:03:35, 22.12s/it]"
          ]
        },
        {
          "name": "stdout",
          "output_type": "stream",
          "text": [
            "고향숯불막창외도점: searchIframe 로드 및 프레임 전환 완료\n",
            "고향숯불막창외도점: entryIframe이 이미 로드됨. 클릭 없이 바로 진행\n",
            "entryIframe 로드.\n",
            "Error while extracting menu/features for 고향숯불막창외도점, div 1:\n",
            "Error while extracting menu/features for 고향숯불막창외도점, div 2:\n"
          ]
        },
        {
          "name": "stderr",
          "output_type": "stream",
          "text": [
            "  1%|▏         | 14/999 [05:01<5:58:32, 21.84s/it]"
          ]
        },
        {
          "name": "stdout",
          "output_type": "stream",
          "text": [
            "고향숯불막창일도점: searchIframe 로드 및 프레임 전환 완료\n",
            "고향숯불막창일도점: 첫 번째 가게 클릭 후 전환되지 않음. 다음 가게로 진행\n",
            "entryIframe 로드.\n",
            "Error while extracting menu/features for 고향숯불막창일도점, div 1:\n",
            "Error while extracting menu/features for 고향숯불막창일도점, div 2:\n"
          ]
        },
        {
          "name": "stderr",
          "output_type": "stream",
          "text": [
            "  2%|▏         | 15/999 [05:29<6:30:27, 23.81s/it]"
          ]
        },
        {
          "name": "stdout",
          "output_type": "stream",
          "text": [
            "고향역: searchIframe 로드 및 프레임 전환 완료\n",
            "고향역: 첫 번째 가게 클릭 후 전환되지 않음. 다음 가게로 진행\n",
            "entryIframe 로드.\n",
            "Error while extracting datalab information for 고향역:\n"
          ]
        },
        {
          "name": "stderr",
          "output_type": "stream",
          "text": [
            "  2%|▏         | 16/999 [05:57<6:49:56, 25.02s/it]"
          ]
        },
        {
          "name": "stdout",
          "output_type": "stream",
          "text": [
            "이미지 추출 오류 8 for 고향역 \n",
            "이미지 추출 오류 9 for 고향역 \n",
            "이미지 추출 오류 10 for 고향역 \n",
            "고향향토장터: searchIframe 로드 및 프레임 전환 완료\n",
            "고향향토장터: entryIframe이 이미 로드됨. 클릭 없이 바로 진행\n",
            "entryIframe 로드.\n",
            "Error while extracting menu/features for 고향향토장터, div 1:\n",
            "Error while extracting menu/features for 고향향토장터, div 2:\n"
          ]
        },
        {
          "name": "stderr",
          "output_type": "stream",
          "text": [
            "  2%|▏         | 17/999 [06:16<6:19:33, 23.19s/it]"
          ]
        },
        {
          "name": "stdout",
          "output_type": "stream",
          "text": [
            "고향흑돼지: searchIframe 로드 및 프레임 전환 완료\n",
            "고향흑돼지: 첫 번째 가게 클릭 후 전환되지 않음. 다음 가게로 진행\n",
            "entryIframe 로드.\n",
            "Error while extracting menu/features for 고향흑돼지, div 1:\n",
            "Error while extracting menu/features for 고향흑돼지, div 2:\n"
          ]
        },
        {
          "name": "stderr",
          "output_type": "stream",
          "text": [
            "  2%|▏         | 18/999 [06:44<6:43:56, 24.71s/it]"
          ]
        },
        {
          "name": "stdout",
          "output_type": "stream",
          "text": [
            "곤밥2: searchIframe 로드 및 프레임 전환 완료\n",
            "곤밥2: 링크버튼을 찾을 수 없음. xpath 대신 다른 방법 시도\n"
          ]
        },
        {
          "name": "stderr",
          "output_type": "stream",
          "text": [
            "  2%|▏         | 19/999 [07:02<6:09:16, 22.61s/it]"
          ]
        },
        {
          "name": "stdout",
          "output_type": "stream",
          "text": [
            "Failed to load iframe after multiple attempts for 곤밥2.\n",
            "crawling fatil : 곤밥2 to fail_to_crawling\n",
            "곤밥보리밥: searchIframe 로드 및 프레임 전환 완료\n",
            "곤밥보리밥: entryIframe이 이미 로드됨. 클릭 없이 바로 진행\n",
            "entryIframe 로드.\n",
            "Error while extracting menu/features for 곤밥보리밥, div 1:\n",
            "Error while extracting menu/features for 곤밥보리밥, div 2:\n"
          ]
        },
        {
          "name": "stderr",
          "output_type": "stream",
          "text": [
            "  2%|▏         | 20/999 [07:23<6:01:33, 22.16s/it]"
          ]
        },
        {
          "name": "stdout",
          "output_type": "stream",
          "text": [
            "곤지암할매소머리국밥: searchIframe 로드 및 프레임 전환 완료\n",
            "곤지암할매소머리국밥: 링크버튼을 찾을 수 없음. xpath 대신 다른 방법 시도\n"
          ]
        },
        {
          "name": "stderr",
          "output_type": "stream",
          "text": [
            "  2%|▏         | 21/999 [07:41<5:44:14, 21.12s/it]"
          ]
        },
        {
          "name": "stdout",
          "output_type": "stream",
          "text": [
            "Failed to load iframe after multiple attempts for 곤지암할매소머리국밥.\n",
            "crawling fatil : 곤지암할매소머리국밥 to fail_to_crawling\n",
            "곤지암할매소머리국밥노형점: searchIframe 로드 및 프레임 전환 완료\n",
            "곤지암할매소머리국밥노형점: 링크버튼을 찾을 수 없음. xpath 대신 다른 방법 시도\n"
          ]
        },
        {
          "name": "stderr",
          "output_type": "stream",
          "text": [
            "  2%|▏         | 22/999 [07:59<5:25:52, 20.01s/it]"
          ]
        },
        {
          "name": "stdout",
          "output_type": "stream",
          "text": [
            "Failed to load iframe after multiple attempts for 곤지암할매소머리국밥노형점.\n",
            "crawling fatil : 곤지암할매소머리국밥노형점 to fail_to_crawling\n",
            "곤지암할매소머리국밥신제주점: searchIframe 로드 및 프레임 전환 완료\n",
            "곤지암할매소머리국밥신제주점: 링크버튼을 찾을 수 없음. xpath 대신 다른 방법 시도\n"
          ]
        },
        {
          "name": "stderr",
          "output_type": "stream",
          "text": [
            "  2%|▏         | 23/999 [08:17<5:15:50, 19.42s/it]"
          ]
        },
        {
          "name": "stdout",
          "output_type": "stream",
          "text": [
            "Failed to load iframe after multiple attempts for 곤지암할매소머리국밥신제주점.\n",
            "crawling fatil : 곤지암할매소머리국밥신제주점 to fail_to_crawling\n",
            "골드문: searchIframe 로드 및 프레임 전환 완료\n",
            "골드문: 첫 번째 가게 클릭 후 전환되지 않음. 다음 가게로 진행\n",
            "entryIframe 로드.\n",
            "Error while extracting datalab information for 골드문:\n",
            "Error while navigating to reviews for 골드문:\n"
          ]
        },
        {
          "name": "stderr",
          "output_type": "stream",
          "text": [
            "  2%|▏         | 24/999 [08:43<5:45:35, 21.27s/it]"
          ]
        },
        {
          "name": "stdout",
          "output_type": "stream",
          "text": [
            "골든에스: searchIframe 로드 및 프레임 전환 완료\n",
            "골든에스: 첫 번째 가게 클릭 후 전환되지 않음. 다음 가게로 진행\n",
            "entryIframe 로드.\n",
            "Error while extracting datalab information for 골든에스:\n",
            "Error while navigating to reviews for 골든에스:\n"
          ]
        },
        {
          "name": "stderr",
          "output_type": "stream",
          "text": [
            "  3%|▎         | 25/999 [09:10<6:16:45, 23.21s/it]"
          ]
        },
        {
          "name": "stdout",
          "output_type": "stream",
          "text": [
            "이미지 추출 오류 6 for 골든에스 \n",
            "이미지 추출 오류 7 for 골든에스 \n",
            "이미지 추출 오류 8 for 골든에스 \n",
            "이미지 추출 오류 9 for 골든에스 \n",
            "이미지 추출 오류 10 for 골든에스 \n",
            "골든와틀: searchIframe 로드 및 프레임 전환 완료\n",
            "Error while clicking first search result for 골든와틀: Unable to locate list container.\n"
          ]
        },
        {
          "name": "stderr",
          "output_type": "stream",
          "text": [
            "  3%|▎         | 26/999 [09:31<6:03:16, 22.40s/it]"
          ]
        },
        {
          "name": "stdout",
          "output_type": "stream",
          "text": [
            "Failed to load iframe after multiple attempts for 골든와틀.\n",
            "crawling fatil : 골든와틀 to fail_to_crawling\n",
            "골막식당: searchIframe 로드 및 프레임 전환 완료\n",
            "골막식당: entryIframe이 이미 로드됨. 클릭 없이 바로 진행\n",
            "entryIframe 로드.\n",
            "Error while extracting menu/features for 골막식당, div 1:\n",
            "Error while extracting menu/features for 골막식당, div 2:\n"
          ]
        },
        {
          "name": "stderr",
          "output_type": "stream",
          "text": [
            "  3%|▎         | 27/999 [09:52<5:58:39, 22.14s/it]"
          ]
        },
        {
          "name": "stdout",
          "output_type": "stream",
          "text": [
            "골목: searchIframe 로드 및 프레임 전환 완료\n",
            "골목: 첫 번째 가게 클릭 후 전환되지 않음. 다음 가게로 진행\n",
            "entryIframe 로드.\n",
            "Error while extracting menu/features for 골목, div 1:\n",
            "Error while extracting menu/features for 골목, div 2:\n"
          ]
        },
        {
          "name": "stderr",
          "output_type": "stream",
          "text": [
            "  3%|▎         | 28/999 [10:21<6:30:54, 24.16s/it]"
          ]
        },
        {
          "name": "stdout",
          "output_type": "stream",
          "text": [
            "골목깡통구이: searchIframe 로드 및 프레임 전환 완료\n",
            "골목깡통구이: 링크버튼을 찾을 수 없음. xpath 대신 다른 방법 시도\n"
          ]
        },
        {
          "name": "stderr",
          "output_type": "stream",
          "text": [
            "  3%|▎         | 29/999 [10:38<5:56:59, 22.08s/it]"
          ]
        },
        {
          "name": "stdout",
          "output_type": "stream",
          "text": [
            "Failed to load iframe after multiple attempts for 골목깡통구이.\n",
            "crawling fatil : 골목깡통구이 to fail_to_crawling\n",
            "골목돼지: searchIframe 로드 및 프레임 전환 완료\n",
            "골목돼지: 첫 번째 가게 클릭 후 전환되지 않음. 다음 가게로 진행\n",
            "entryIframe 로드.\n",
            "Error while extracting menu/features for 골목돼지, div 1:\n",
            "Error while extracting menu/features for 골목돼지, div 2:\n"
          ]
        },
        {
          "name": "stderr",
          "output_type": "stream",
          "text": [
            "  3%|▎         | 30/999 [11:03<6:09:15, 22.86s/it]"
          ]
        },
        {
          "name": "stdout",
          "output_type": "stream",
          "text": [
            " 사진 버튼 없음 : 골목돼지.\n",
            "골목집갈비: searchIframe 로드 및 프레임 전환 완료\n",
            "골목집갈비: 첫 번째 가게 클릭 후 전환되지 않음. 다음 가게로 진행\n",
            "entryIframe 로드.\n",
            "Error while extracting menu/features for 골목집갈비, div 1:\n",
            "Error while extracting menu/features for 골목집갈비, div 2:\n"
          ]
        },
        {
          "name": "stderr",
          "output_type": "stream",
          "text": [
            "  3%|▎         | 31/999 [11:31<6:33:48, 24.41s/it]"
          ]
        },
        {
          "name": "stdout",
          "output_type": "stream",
          "text": [
            "골목집갈치와고등어: searchIframe 로드 및 프레임 전환 완료\n",
            "골목집갈치와고등어: entryIframe이 이미 로드됨. 클릭 없이 바로 진행\n",
            "entryIframe 로드.\n",
            "Error while extracting menu/features for 골목집갈치와고등어, div 1:\n",
            "Error while extracting menu/features for 골목집갈치와고등어, div 2:\n"
          ]
        },
        {
          "name": "stderr",
          "output_type": "stream",
          "text": [
            "  3%|▎         | 32/999 [11:52<6:17:53, 23.45s/it]"
          ]
        },
        {
          "name": "stdout",
          "output_type": "stream",
          "text": [
            "골목카페옥수: searchIframe 로드 및 프레임 전환 완료\n",
            "골목카페옥수: entryIframe이 이미 로드됨. 클릭 없이 바로 진행\n",
            "entryIframe 로드.\n",
            "Error while extracting menu/features for 골목카페옥수, div 1:\n",
            "Error while extracting menu/features for 골목카페옥수, div 2:\n"
          ]
        },
        {
          "name": "stderr",
          "output_type": "stream",
          "text": [
            "  3%|▎         | 33/999 [12:14<6:07:18, 22.81s/it]"
          ]
        },
        {
          "name": "stdout",
          "output_type": "stream",
          "text": [
            "골뱅이포차: searchIframe 로드 및 프레임 전환 완료\n",
            "골뱅이포차: 첫 번째 가게 클릭 후 전환되지 않음. 다음 가게로 진행\n",
            "entryIframe 로드.\n",
            "Error while extracting menu/features for 골뱅이포차, div 1:\n",
            "Error while extracting menu/features for 골뱅이포차, div 2:\n"
          ]
        },
        {
          "name": "stderr",
          "output_type": "stream",
          "text": [
            "  3%|▎         | 34/999 [12:42<6:33:19, 24.46s/it]"
          ]
        },
        {
          "name": "stdout",
          "output_type": "stream",
          "text": [
            "곰: searchIframe 로드 및 프레임 전환 완료\n",
            "곰: 첫 번째 가게 클릭 후 전환되지 않음. 다음 가게로 진행\n",
            "entryIframe 로드.\n",
            "Error while extracting menu/features for 곰, div 1:\n",
            "Error while extracting menu/features for 곰, div 2:\n"
          ]
        },
        {
          "name": "stderr",
          "output_type": "stream",
          "text": [
            "  4%|▎         | 35/999 [13:11<6:54:40, 25.81s/it]"
          ]
        },
        {
          "name": "stdout",
          "output_type": "stream",
          "text": [
            "곰돌식당: searchIframe 로드 및 프레임 전환 완료\n",
            "곰돌식당: 링크버튼을 찾을 수 없음. xpath 대신 다른 방법 시도\n"
          ]
        },
        {
          "name": "stderr",
          "output_type": "stream",
          "text": [
            "  4%|▎         | 36/999 [13:28<6:14:26, 23.33s/it]"
          ]
        },
        {
          "name": "stdout",
          "output_type": "stream",
          "text": [
            "Failed to load iframe after multiple attempts for 곰돌식당.\n",
            "crawling fatil : 곰돌식당 to fail_to_crawling\n",
            "곰돌이숯불갈비: searchIframe 로드 및 프레임 전환 완료\n",
            "곰돌이숯불갈비: entryIframe이 이미 로드됨. 클릭 없이 바로 진행\n",
            "entryIframe 로드.\n",
            "Error while extracting menu/features for 곰돌이숯불갈비, div 1:\n",
            "Error while extracting menu/features for 곰돌이숯불갈비, div 2:\n"
          ]
        },
        {
          "name": "stderr",
          "output_type": "stream",
          "text": [
            "  4%|▎         | 37/999 [13:50<6:03:52, 22.69s/it]"
          ]
        },
        {
          "name": "stdout",
          "output_type": "stream",
          "text": [
            "곰막: searchIframe 로드 및 프레임 전환 완료\n",
            "곰막: 첫 번째 가게 클릭 후 전환되지 않음. 다음 가게로 진행\n",
            "entryIframe 로드.\n"
          ]
        },
        {
          "name": "stderr",
          "output_type": "stream",
          "text": [
            "  4%|▍         | 38/999 [14:12<6:02:58, 22.66s/it]"
          ]
        },
        {
          "name": "stdout",
          "output_type": "stream",
          "text": [
            "곰막: 리뷰 페이지 로드 실패, 사진 수집으로 넘어가지 않음\n",
            "곰막식당: searchIframe 로드 및 프레임 전환 완료\n",
            "곰막식당: 첫 번째 가게 클릭 후 전환되지 않음. 다음 가게로 진행\n"
          ]
        },
        {
          "name": "stderr",
          "output_type": "stream",
          "text": [
            "  4%|▍         | 39/999 [14:33<5:51:40, 21.98s/it]"
          ]
        },
        {
          "name": "stdout",
          "output_type": "stream",
          "text": [
            "Failed to load iframe after multiple attempts for 곰막식당.\n",
            "crawling fatil : 곰막식당 to fail_to_crawling\n",
            "곰보숯불갈비: searchIframe 로드 및 프레임 전환 완료\n",
            "곰보숯불갈비: entryIframe이 이미 로드됨. 클릭 없이 바로 진행\n",
            "entryIframe 로드.\n",
            "Error while extracting datalab information for 곰보숯불갈비:\n",
            "Error while extracting menu/features for 곰보숯불갈비, div 1:\n",
            "Error while extracting menu/features for 곰보숯불갈비, div 2:\n"
          ]
        },
        {
          "name": "stderr",
          "output_type": "stream",
          "text": [
            "  4%|▍         | 40/999 [14:54<5:47:40, 21.75s/it]"
          ]
        },
        {
          "name": "stdout",
          "output_type": "stream",
          "text": [
            "곰집: searchIframe 로드 및 프레임 전환 완료\n",
            "곰집: 첫 번째 가게 클릭 후 전환되지 않음. 다음 가게로 진행\n",
            "entryIframe 로드.\n",
            "Error while extracting menu/features for 곰집, div 1:\n",
            "Error while extracting menu/features for 곰집, div 2:\n"
          ]
        },
        {
          "name": "stderr",
          "output_type": "stream",
          "text": [
            "  4%|▍         | 41/999 [15:22<6:18:23, 23.70s/it]"
          ]
        },
        {
          "name": "stdout",
          "output_type": "stream",
          "text": [
            "곰탕제작소: searchIframe 로드 및 프레임 전환 완료\n",
            "곰탕제작소: entryIframe이 이미 로드됨. 클릭 없이 바로 진행\n",
            "entryIframe 로드.\n",
            "Error while extracting datalab information for 곰탕제작소:\n",
            "Error while extracting menu/features for 곰탕제작소, div 1:\n",
            "Error while extracting menu/features for 곰탕제작소, div 2:\n"
          ]
        },
        {
          "name": "stderr",
          "output_type": "stream",
          "text": [
            "  4%|▍         | 42/999 [15:43<6:06:04, 22.95s/it]"
          ]
        },
        {
          "name": "stdout",
          "output_type": "stream",
          "text": [
            "곱단이네식당: searchIframe 로드 및 프레임 전환 완료\n",
            "곱단이네식당: entryIframe이 이미 로드됨. 클릭 없이 바로 진행\n",
            "entryIframe 로드.\n",
            "Error while extracting menu/features for 곱단이네식당, div 1:\n",
            "Error while extracting menu/features for 곱단이네식당, div 2:\n"
          ]
        },
        {
          "name": "stderr",
          "output_type": "stream",
          "text": [
            "  4%|▍         | 43/999 [16:04<5:54:51, 22.27s/it]"
          ]
        },
        {
          "name": "stdout",
          "output_type": "stream",
          "text": [
            "곱들락: searchIframe 로드 및 프레임 전환 완료\n",
            "곱들락: 첫 번째 가게 클릭 후 전환되지 않음. 다음 가게로 진행\n",
            "entryIframe 로드.\n",
            "Error while extracting datalab information for 곱들락:\n",
            "Error while navigating to reviews for 곱들락:\n"
          ]
        },
        {
          "name": "stderr",
          "output_type": "stream",
          "text": [
            "  4%|▍         | 44/999 [16:20<5:24:55, 20.41s/it]"
          ]
        },
        {
          "name": "stdout",
          "output_type": "stream",
          "text": [
            "Error while navigating to photos for 곱들락:\n",
            "곱들락제주공항점: searchIframe 로드 및 프레임 전환 완료\n",
            "곱들락제주공항점: 첫 번째 가게 클릭 후 전환되지 않음. 다음 가게로 진행\n",
            "entryIframe 로드.\n",
            "Error while extracting menu/features for 곱들락제주공항점, div 1:\n",
            "Error while extracting menu/features for 곱들락제주공항점, div 2:\n"
          ]
        },
        {
          "name": "stderr",
          "output_type": "stream",
          "text": [
            "  5%|▍         | 45/999 [16:48<6:02:02, 22.77s/it]"
          ]
        },
        {
          "name": "stdout",
          "output_type": "stream",
          "text": [
            "곱은달: searchIframe 로드 및 프레임 전환 완료\n",
            "곱은달: 첫 번째 가게 클릭 후 전환되지 않음. 다음 가게로 진행\n",
            "entryIframe 로드.\n",
            "Error while extracting menu/features for 곱은달, div 1:\n",
            "Error while extracting menu/features for 곱은달, div 2:\n"
          ]
        },
        {
          "name": "stderr",
          "output_type": "stream",
          "text": [
            "  5%|▍         | 46/999 [17:16<6:27:01, 24.37s/it]"
          ]
        },
        {
          "name": "stdout",
          "output_type": "stream",
          "text": [
            "곱창이야기일도점: searchIframe 로드 및 프레임 전환 완료\n",
            "곱창이야기일도점: entryIframe이 이미 로드됨. 클릭 없이 바로 진행\n",
            "entryIframe 로드.\n",
            "Error while extracting menu/features for 곱창이야기일도점, div 1:\n",
            "Error while extracting menu/features for 곱창이야기일도점, div 2:\n"
          ]
        },
        {
          "name": "stderr",
          "output_type": "stream",
          "text": [
            "  5%|▍         | 47/999 [17:38<6:12:48, 23.50s/it]"
          ]
        },
        {
          "name": "stdout",
          "output_type": "stream",
          "text": [
            "공가네구이촌: searchIframe 로드 및 프레임 전환 완료\n",
            "공가네구이촌: entryIframe이 이미 로드됨. 클릭 없이 바로 진행\n",
            "entryIframe 로드.\n",
            "Error while extracting menu/features for 공가네구이촌, div 1:\n",
            "Error while extracting menu/features for 공가네구이촌, div 2:\n"
          ]
        },
        {
          "name": "stderr",
          "output_type": "stream",
          "text": [
            "  5%|▍         | 48/999 [17:59<6:03:03, 22.91s/it]"
          ]
        },
        {
          "name": "stdout",
          "output_type": "stream",
          "text": [
            "공간: searchIframe 로드 및 프레임 전환 완료\n",
            "공간: 첫 번째 가게 클릭 후 전환되지 않음. 다음 가게로 진행\n",
            "entryIframe 로드.\n",
            "Error while extracting datalab information for 공간:\n",
            "Error while navigating to reviews for 공간:\n"
          ]
        },
        {
          "name": "stderr",
          "output_type": "stream",
          "text": [
            "  5%|▍         | 49/999 [18:27<6:25:27, 24.34s/it]"
          ]
        },
        {
          "name": "stdout",
          "output_type": "stream",
          "text": [
            "공간뉴제주펍: searchIframe 로드 및 프레임 전환 완료\n",
            "공간뉴제주펍: entryIframe이 이미 로드됨. 클릭 없이 바로 진행\n",
            "entryIframe 로드.\n"
          ]
        },
        {
          "name": "stderr",
          "output_type": "stream",
          "text": [
            "  5%|▌         | 50/999 [18:48<6:07:20, 23.22s/it]"
          ]
        },
        {
          "name": "stdout",
          "output_type": "stream",
          "text": [
            "공간키친: searchIframe 로드 및 프레임 전환 완료\n",
            "공간키친: 첫 번째 가게 클릭 후 전환되지 않음. 다음 가게로 진행\n",
            "entryIframe 로드.\n",
            "Error while extracting datalab information for 공간키친:\n",
            "Error while navigating to reviews for 공간키친:\n"
          ]
        },
        {
          "name": "stderr",
          "output_type": "stream",
          "text": [
            "  5%|▌         | 51/999 [19:12<6:10:19, 23.44s/it]"
          ]
        },
        {
          "name": "stdout",
          "output_type": "stream",
          "text": [
            "공단해장국: searchIframe 로드 및 프레임 전환 완료\n",
            "공단해장국: 첫 번째 가게 클릭 후 전환되지 않음. 다음 가게로 진행\n",
            "entryIframe 로드.\n",
            "Error while extracting menu/features for 공단해장국, div 1:\n",
            "Error while extracting menu/features for 공단해장국, div 2:\n"
          ]
        },
        {
          "name": "stderr",
          "output_type": "stream",
          "text": [
            "  5%|▌         | 52/999 [19:40<6:30:50, 24.76s/it]"
          ]
        },
        {
          "name": "stdout",
          "output_type": "stream",
          "text": [
            "공단해장국 아라점: searchIframe 로드 및 프레임 전환 완료\n",
            "공단해장국 아라점: entryIframe이 이미 로드됨. 클릭 없이 바로 진행\n",
            "entryIframe 로드.\n",
            "Error while extracting menu/features for 공단해장국 아라점, div 1:\n",
            "Error while extracting menu/features for 공단해장국 아라점, div 2:\n"
          ]
        },
        {
          "name": "stderr",
          "output_type": "stream",
          "text": [
            "  5%|▌         | 53/999 [20:01<6:12:44, 23.64s/it]"
          ]
        },
        {
          "name": "stdout",
          "output_type": "stream",
          "text": [
            "공룡고기: searchIframe 로드 및 프레임 전환 완료\n",
            "공룡고기: 링크버튼을 찾을 수 없음. xpath 대신 다른 방법 시도\n"
          ]
        },
        {
          "name": "stderr",
          "output_type": "stream",
          "text": [
            "  5%|▌         | 54/999 [20:18<5:44:56, 21.90s/it]"
          ]
        },
        {
          "name": "stdout",
          "output_type": "stream",
          "text": [
            "Failed to load iframe after multiple attempts for 공룡고기.\n",
            "crawling fatil : 공룡고기 to fail_to_crawling\n",
            "공룡마라탕5호점: searchIframe 로드 및 프레임 전환 완료\n",
            "공룡마라탕5호점: entryIframe이 이미 로드됨. 클릭 없이 바로 진행\n",
            "entryIframe 로드.\n",
            "Error while extracting menu/features for 공룡마라탕5호점, div 1:\n",
            "Error while extracting menu/features for 공룡마라탕5호점, div 2:\n"
          ]
        },
        {
          "name": "stderr",
          "output_type": "stream",
          "text": [
            "  6%|▌         | 55/999 [20:40<5:42:09, 21.75s/it]"
          ]
        },
        {
          "name": "stdout",
          "output_type": "stream",
          "text": [
            "공룡마라탕앤꼬치6호점: searchIframe 로드 및 프레임 전환 완료\n",
            "Error while clicking first search result for 공룡마라탕앤꼬치6호점: Unable to locate list container.\n"
          ]
        },
        {
          "name": "stderr",
          "output_type": "stream",
          "text": [
            "  6%|▌         | 56/999 [21:01<5:37:51, 21.50s/it]"
          ]
        },
        {
          "name": "stdout",
          "output_type": "stream",
          "text": [
            "Failed to load iframe after multiple attempts for 공룡마라탕앤꼬치6호점.\n",
            "crawling fatil : 공룡마라탕앤꼬치6호점 to fail_to_crawling\n",
            "공룡마라탕앤꼬치7호점: searchIframe 로드 및 프레임 전환 완료\n",
            "Error while clicking first search result for 공룡마라탕앤꼬치7호점: Unable to locate list container.\n"
          ]
        },
        {
          "name": "stderr",
          "output_type": "stream",
          "text": [
            "  6%|▌         | 57/999 [21:22<5:34:51, 21.33s/it]"
          ]
        },
        {
          "name": "stdout",
          "output_type": "stream",
          "text": [
            "Failed to load iframe after multiple attempts for 공룡마라탕앤꼬치7호점.\n",
            "crawling fatil : 공룡마라탕앤꼬치7호점 to fail_to_crawling\n",
            "공룡마라탕앤양꼬치8호점: searchIframe 로드 및 프레임 전환 완료\n",
            "Error while clicking first search result for 공룡마라탕앤양꼬치8호점: Unable to locate list container.\n"
          ]
        },
        {
          "name": "stderr",
          "output_type": "stream",
          "text": [
            "  6%|▌         | 58/999 [21:42<5:32:18, 21.19s/it]"
          ]
        },
        {
          "name": "stdout",
          "output_type": "stream",
          "text": [
            "Failed to load iframe after multiple attempts for 공룡마라탕앤양꼬치8호점.\n",
            "crawling fatil : 공룡마라탕앤양꼬치8호점 to fail_to_crawling\n",
            "공명식당: searchIframe 로드 및 프레임 전환 완료\n",
            "공명식당: 첫 번째 가게 클릭 후 전환되지 않음. 다음 가게로 진행\n",
            "entryIframe 로드.\n",
            "Error while extracting menu/features for 공명식당, div 1:\n",
            "Error while extracting menu/features for 공명식당, div 2:\n"
          ]
        },
        {
          "name": "stderr",
          "output_type": "stream",
          "text": [
            "  6%|▌         | 59/999 [22:11<6:05:07, 23.31s/it]"
          ]
        },
        {
          "name": "stdout",
          "output_type": "stream",
          "text": [
            "공백: searchIframe 로드 및 프레임 전환 완료\n",
            "공백: 첫 번째 가게 클릭 후 전환되지 않음. 다음 가게로 진행\n",
            "entryIframe 로드.\n",
            "Error while extracting menu/features for 공백, div 1:\n",
            "Error while extracting menu/features for 공백, div 2:\n"
          ]
        },
        {
          "name": "stderr",
          "output_type": "stream",
          "text": [
            "  6%|▌         | 60/999 [22:38<6:25:42, 24.65s/it]"
          ]
        },
        {
          "name": "stdout",
          "output_type": "stream",
          "text": [
            "공새미59: searchIframe 로드 및 프레임 전환 완료\n",
            "공새미59: entryIframe이 이미 로드됨. 클릭 없이 바로 진행\n",
            "entryIframe 로드.\n",
            "Error while extracting menu/features for 공새미59, div 1:\n",
            "Error while extracting menu/features for 공새미59, div 2:\n"
          ]
        },
        {
          "name": "stderr",
          "output_type": "stream",
          "text": [
            "  6%|▌         | 61/999 [23:02<6:19:07, 24.25s/it]"
          ]
        },
        {
          "name": "stdout",
          "output_type": "stream",
          "text": [
            "공새미솥뚜껑: searchIframe 로드 및 프레임 전환 완료\n",
            "공새미솥뚜껑: entryIframe이 이미 로드됨. 클릭 없이 바로 진행\n",
            "entryIframe 로드.\n",
            "Error while extracting menu/features for 공새미솥뚜껑, div 1:\n",
            "Error while extracting menu/features for 공새미솥뚜껑, div 2:\n"
          ]
        },
        {
          "name": "stderr",
          "output_type": "stream",
          "text": [
            "  6%|▌         | 62/999 [23:17<5:35:59, 21.51s/it]"
          ]
        },
        {
          "name": "stdout",
          "output_type": "stream",
          "text": [
            " 사진 버튼 없음 : 공새미솥뚜껑.\n",
            "공설: searchIframe 로드 및 프레임 전환 완료\n",
            "공설: 첫 번째 가게 클릭 후 전환되지 않음. 다음 가게로 진행\n",
            "entryIframe 로드.\n",
            "Error while extracting datalab information for 공설:\n",
            "Error while navigating to reviews for 공설:\n"
          ]
        },
        {
          "name": "stderr",
          "output_type": "stream",
          "text": [
            "  6%|▋         | 63/999 [23:45<6:07:34, 23.56s/it]"
          ]
        },
        {
          "name": "stdout",
          "output_type": "stream",
          "text": [
            "공육사: searchIframe 로드 및 프레임 전환 완료\n",
            "공육사: 링크버튼을 찾을 수 없음. xpath 대신 다른 방법 시도\n"
          ]
        },
        {
          "name": "stderr",
          "output_type": "stream",
          "text": [
            "  6%|▋         | 64/999 [24:03<5:41:36, 21.92s/it]"
          ]
        },
        {
          "name": "stdout",
          "output_type": "stream",
          "text": [
            "Failed to load iframe after multiple attempts for 공육사.\n",
            "crawling fatil : 공육사 to fail_to_crawling\n",
            "공육사하이픈: searchIframe 로드 및 프레임 전환 완료\n",
            "Error while clicking first search result for 공육사하이픈: Unable to locate list container.\n"
          ]
        },
        {
          "name": "stderr",
          "output_type": "stream",
          "text": [
            "  7%|▋         | 65/999 [24:24<5:36:14, 21.60s/it]"
          ]
        },
        {
          "name": "stdout",
          "output_type": "stream",
          "text": [
            "Failed to load iframe after multiple attempts for 공육사하이픈.\n",
            "crawling fatil : 공육사하이픈 to fail_to_crawling\n",
            "공육이육: searchIframe 로드 및 프레임 전환 완료\n",
            "Error while clicking first search result for 공육이육: Unable to locate list container.\n"
          ]
        },
        {
          "name": "stderr",
          "output_type": "stream",
          "text": [
            "  7%|▋         | 66/999 [24:45<5:31:26, 21.31s/it]"
          ]
        },
        {
          "name": "stdout",
          "output_type": "stream",
          "text": [
            "Failed to load iframe after multiple attempts for 공육이육.\n",
            "crawling fatil : 공육이육 to fail_to_crawling\n",
            "공작흑돼지: searchIframe 로드 및 프레임 전환 완료\n",
            "공작흑돼지: 첫 번째 가게 클릭 후 전환되지 않음. 다음 가게로 진행\n",
            "entryIframe 로드.\n",
            "Error while extracting menu/features for 공작흑돼지, div 1:\n"
          ]
        },
        {
          "name": "stderr",
          "output_type": "stream",
          "text": [
            "  7%|▋         | 67/999 [25:07<5:34:58, 21.57s/it]"
          ]
        },
        {
          "name": "stdout",
          "output_type": "stream",
          "text": [
            "Error while extracting menu/features for 공작흑돼지, div 2:\n",
            " 사진 버튼 없음 : 공작흑돼지.\n",
            "공주네국수: searchIframe 로드 및 프레임 전환 완료\n",
            "공주네국수: 첫 번째 가게 클릭 후 전환되지 않음. 다음 가게로 진행\n",
            "entryIframe 로드.\n",
            "Error while extracting menu/features for 공주네국수, div 1:\n",
            "Error while extracting menu/features for 공주네국수, div 2:\n"
          ]
        },
        {
          "name": "stderr",
          "output_type": "stream",
          "text": [
            "  7%|▋         | 68/999 [25:35<6:05:12, 23.54s/it]"
          ]
        },
        {
          "name": "stdout",
          "output_type": "stream",
          "text": [
            "공차이마트신제주점: searchIframe 로드 및 프레임 전환 완료\n",
            "공차이마트신제주점: entryIframe이 이미 로드됨. 클릭 없이 바로 진행\n",
            "entryIframe 로드.\n",
            "Error while extracting menu/features for 공차이마트신제주점, div 1:\n",
            "Error while extracting menu/features for 공차이마트신제주점, div 2:\n"
          ]
        },
        {
          "name": "stderr",
          "output_type": "stream",
          "text": [
            "  7%|▋         | 69/999 [25:56<5:53:10, 22.79s/it]"
          ]
        },
        {
          "name": "stdout",
          "output_type": "stream",
          "text": [
            "공천포식당: searchIframe 로드 및 프레임 전환 완료\n",
            "공천포식당: 링크버튼을 찾을 수 없음. xpath 대신 다른 방법 시도\n"
          ]
        },
        {
          "name": "stderr",
          "output_type": "stream",
          "text": [
            "  7%|▋         | 70/999 [26:14<5:30:09, 21.32s/it]"
          ]
        },
        {
          "name": "stdout",
          "output_type": "stream",
          "text": [
            "Failed to load iframe after multiple attempts for 공천포식당.\n",
            "crawling fatil : 공천포식당 to fail_to_crawling\n",
            "공푸마라탕: searchIframe 로드 및 프레임 전환 완료\n",
            "공푸마라탕: entryIframe이 이미 로드됨. 클릭 없이 바로 진행\n",
            "entryIframe 로드.\n",
            "Error while extracting menu/features for 공푸마라탕, div 1:\n",
            "Error while extracting menu/features for 공푸마라탕, div 2:\n"
          ]
        },
        {
          "name": "stderr",
          "output_type": "stream",
          "text": [
            "  7%|▋         | 71/999 [26:35<5:28:21, 21.23s/it]"
          ]
        },
        {
          "name": "stdout",
          "output_type": "stream",
          "text": [
            "공항1등이자카야도: searchIframe 로드 및 프레임 전환 완료\n",
            "공항1등이자카야도: entryIframe이 이미 로드됨. 클릭 없이 바로 진행\n",
            "entryIframe 로드.\n",
            "Error while extracting menu/features for 공항1등이자카야도, div 1:\n"
          ]
        },
        {
          "name": "stderr",
          "output_type": "stream",
          "text": [
            "  7%|▋         | 72/999 [26:55<5:19:37, 20.69s/it]"
          ]
        },
        {
          "name": "stdout",
          "output_type": "stream",
          "text": [
            "Error while extracting menu/features for 공항1등이자카야도, div 2:\n",
            " 사진 버튼 없음 : 공항1등이자카야도.\n",
            "공회당: searchIframe 로드 및 프레임 전환 완료\n",
            "공회당: 링크버튼을 찾을 수 없음. xpath 대신 다른 방법 시도\n"
          ]
        },
        {
          "name": "stderr",
          "output_type": "stream",
          "text": [
            "  7%|▋         | 73/999 [27:12<5:04:49, 19.75s/it]"
          ]
        },
        {
          "name": "stdout",
          "output_type": "stream",
          "text": [
            "Failed to load iframe after multiple attempts for 공회당.\n",
            "crawling fatil : 공회당 to fail_to_crawling\n",
            "곶자왈: searchIframe 로드 및 프레임 전환 완료\n",
            "곶자왈: 첫 번째 가게 클릭 후 전환되지 않음. 다음 가게로 진행\n",
            "entryIframe 로드.\n",
            "Error while extracting menu/features for 곶자왈, div 1:\n",
            "Error while extracting menu/features for 곶자왈, div 2:\n"
          ]
        },
        {
          "name": "stderr",
          "output_type": "stream",
          "text": [
            "  7%|▋         | 74/999 [27:40<5:43:52, 22.31s/it]"
          ]
        },
        {
          "name": "stdout",
          "output_type": "stream",
          "text": [
            "곶자왈밥상: searchIframe 로드 및 프레임 전환 완료\n",
            "곶자왈밥상: entryIframe이 이미 로드됨. 클릭 없이 바로 진행\n",
            "entryIframe 로드.\n"
          ]
        },
        {
          "name": "stderr",
          "output_type": "stream",
          "text": [
            "  8%|▊         | 75/999 [28:03<5:44:31, 22.37s/it]"
          ]
        },
        {
          "name": "stdout",
          "output_type": "stream",
          "text": [
            "곶자왈화덕피자: searchIframe 로드 및 프레임 전환 완료\n",
            "곶자왈화덕피자: entryIframe이 이미 로드됨. 클릭 없이 바로 진행\n",
            "entryIframe 로드.\n",
            "Error while extracting menu/features for 곶자왈화덕피자, div 1:\n",
            "Error while extracting menu/features for 곶자왈화덕피자, div 2:\n"
          ]
        },
        {
          "name": "stderr",
          "output_type": "stream",
          "text": [
            "  8%|▊         | 76/999 [28:22<5:30:52, 21.51s/it]"
          ]
        },
        {
          "name": "stdout",
          "output_type": "stream",
          "text": [
            "과수원집: searchIframe 로드 및 프레임 전환 완료\n",
            "과수원집: 첫 번째 가게 클릭 후 전환되지 않음. 다음 가게로 진행\n",
            "entryIframe 로드.\n",
            "Error while extracting menu/features for 과수원집, div 1:\n",
            "Error while navigating to reviews for 과수원집:\n"
          ]
        },
        {
          "name": "stderr",
          "output_type": "stream",
          "text": [
            "  8%|▊         | 77/999 [28:49<5:52:09, 22.92s/it]"
          ]
        },
        {
          "name": "stdout",
          "output_type": "stream",
          "text": [
            "곽돈: searchIframe 로드 및 프레임 전환 완료\n",
            "곽돈: entryIframe이 이미 로드됨. 클릭 없이 바로 진행\n",
            "entryIframe 로드.\n",
            "Error while extracting menu/features for 곽돈, div 1:\n",
            "Error while extracting menu/features for 곽돈, div 2:\n"
          ]
        },
        {
          "name": "stderr",
          "output_type": "stream",
          "text": [
            "  8%|▊         | 78/999 [29:10<5:43:05, 22.35s/it]"
          ]
        },
        {
          "name": "stdout",
          "output_type": "stream",
          "text": [
            "곽지BAR다: searchIframe 로드 및 프레임 전환 완료\n",
            "곽지BAR다: entryIframe이 이미 로드됨. 클릭 없이 바로 진행\n",
            "entryIframe 로드.\n",
            "Error while extracting menu/features for 곽지BAR다, div 1:\n",
            "Error while extracting menu/features for 곽지BAR다, div 2:\n"
          ]
        },
        {
          "name": "stderr",
          "output_type": "stream",
          "text": [
            "  8%|▊         | 79/999 [29:31<5:37:05, 21.98s/it]"
          ]
        },
        {
          "name": "stdout",
          "output_type": "stream",
          "text": [
            "곽지가: searchIframe 로드 및 프레임 전환 완료\n",
            "곽지가: entryIframe이 이미 로드됨. 클릭 없이 바로 진행\n",
            "entryIframe 로드.\n",
            "Error while extracting menu/features for 곽지가, div 1:\n",
            "Error while extracting menu/features for 곽지가, div 2:\n"
          ]
        },
        {
          "name": "stderr",
          "output_type": "stream",
          "text": [
            "  8%|▊         | 80/999 [29:52<5:34:54, 21.87s/it]"
          ]
        },
        {
          "name": "stdout",
          "output_type": "stream",
          "text": [
            "곽지곤지암해장국: searchIframe 로드 및 프레임 전환 완료\n",
            "곽지곤지암해장국: entryIframe이 이미 로드됨. 클릭 없이 바로 진행\n",
            "entryIframe 로드.\n",
            "Error while extracting menu/features for 곽지곤지암해장국, div 1:\n",
            "Error while extracting menu/features for 곽지곤지암해장국, div 2:\n"
          ]
        },
        {
          "name": "stderr",
          "output_type": "stream",
          "text": [
            "  8%|▊         | 81/999 [30:14<5:33:11, 21.78s/it]"
          ]
        },
        {
          "name": "stdout",
          "output_type": "stream",
          "text": [
            "곽지과물식당: searchIframe 로드 및 프레임 전환 완료\n",
            "곽지과물식당: 첫 번째 가게 클릭 후 전환되지 않음. 다음 가게로 진행\n",
            "entryIframe 로드.\n",
            "Error while extracting menu/features for 곽지과물식당, div 1:\n",
            "Error while extracting menu/features for 곽지과물식당, div 2:\n"
          ]
        },
        {
          "name": "stderr",
          "output_type": "stream",
          "text": [
            "  8%|▊         | 82/999 [30:42<6:02:21, 23.71s/it]"
          ]
        },
        {
          "name": "stdout",
          "output_type": "stream",
          "text": [
            "곽지국수: searchIframe 로드 및 프레임 전환 완료\n",
            "곽지국수: 첫 번째 가게 클릭 후 전환되지 않음. 다음 가게로 진행\n",
            "entryIframe 로드.\n",
            "Error while extracting menu/features for 곽지국수, div 1:\n",
            "Error while extracting menu/features for 곽지국수, div 2:\n"
          ]
        },
        {
          "name": "stderr",
          "output_type": "stream",
          "text": [
            "  8%|▊         | 83/999 [31:10<6:22:43, 25.07s/it]"
          ]
        },
        {
          "name": "stdout",
          "output_type": "stream",
          "text": [
            "곽지식당: searchIframe 로드 및 프레임 전환 완료\n",
            "곽지식당: entryIframe이 이미 로드됨. 클릭 없이 바로 진행\n",
            "entryIframe 로드.\n",
            "Error while extracting menu/features for 곽지식당, div 1:\n",
            "Error while extracting menu/features for 곽지식당, div 2:\n"
          ]
        },
        {
          "name": "stderr",
          "output_type": "stream",
          "text": [
            "  8%|▊         | 84/999 [31:30<5:57:42, 23.46s/it]"
          ]
        },
        {
          "name": "stdout",
          "output_type": "stream",
          "text": [
            "곽지해녀의집: searchIframe 로드 및 프레임 전환 완료\n",
            "곽지해녀의집: entryIframe이 이미 로드됨. 클릭 없이 바로 진행\n",
            "entryIframe 로드.\n",
            "Error while extracting menu/features for 곽지해녀의집, div 1:\n",
            "Error while extracting menu/features for 곽지해녀의집, div 2:\n"
          ]
        },
        {
          "name": "stderr",
          "output_type": "stream",
          "text": [
            "  9%|▊         | 85/999 [31:50<5:40:31, 22.35s/it]"
          ]
        },
        {
          "name": "stdout",
          "output_type": "stream",
          "text": [
            "관덕정들깨칼국수: searchIframe 로드 및 프레임 전환 완료\n",
            "관덕정들깨칼국수: entryIframe이 이미 로드됨. 클릭 없이 바로 진행\n",
            "entryIframe 로드.\n",
            "Error while extracting menu/features for 관덕정들깨칼국수, div 1:\n",
            "Error while extracting menu/features for 관덕정들깨칼국수, div 2:\n"
          ]
        },
        {
          "name": "stderr",
          "output_type": "stream",
          "text": [
            "  9%|▊         | 86/999 [32:11<5:36:07, 22.09s/it]"
          ]
        },
        {
          "name": "stdout",
          "output_type": "stream",
          "text": [
            "관심사: searchIframe 로드 및 프레임 전환 완료\n",
            "관심사: 첫 번째 가게 클릭 후 전환되지 않음. 다음 가게로 진행\n",
            "entryIframe 로드.\n",
            "Error while extracting datalab information for 관심사:\n",
            "Error while navigating to reviews for 관심사:\n"
          ]
        },
        {
          "name": "stderr",
          "output_type": "stream",
          "text": [
            "  9%|▊         | 87/999 [32:35<5:43:32, 22.60s/it]"
          ]
        },
        {
          "name": "stdout",
          "output_type": "stream",
          "text": [
            "이미지 추출 오류 4 for 관심사 \n",
            "이미지 추출 오류 5 for 관심사 \n",
            "이미지 추출 오류 6 for 관심사 \n",
            "이미지 추출 오류 7 for 관심사 \n",
            "이미지 추출 오류 8 for 관심사 \n",
            "이미지 추출 오류 9 for 관심사 \n",
            "이미지 추출 오류 10 for 관심사 \n",
            "관촌밀면: searchIframe 로드 및 프레임 전환 완료\n",
            "관촌밀면: entryIframe이 이미 로드됨. 클릭 없이 바로 진행\n",
            "entryIframe 로드.\n",
            "Error while extracting menu/features for 관촌밀면, div 1:\n",
            "Error while extracting menu/features for 관촌밀면, div 2:\n"
          ]
        },
        {
          "name": "stderr",
          "output_type": "stream",
          "text": [
            "  9%|▉         | 88/999 [32:56<5:36:16, 22.15s/it]"
          ]
        },
        {
          "name": "stdout",
          "output_type": "stream",
          "text": [
            "광동도남오거리: searchIframe 로드 및 프레임 전환 완료\n",
            "광동도남오거리: entryIframe이 이미 로드됨. 클릭 없이 바로 진행\n",
            "entryIframe 로드.\n",
            "Error while extracting menu/features for 광동도남오거리, div 1:\n",
            "Error while extracting menu/features for 광동도남오거리, div 2:\n"
          ]
        },
        {
          "name": "stderr",
          "output_type": "stream",
          "text": [
            "  9%|▉         | 89/999 [33:17<5:30:33, 21.80s/it]"
          ]
        },
        {
          "name": "stdout",
          "output_type": "stream",
          "text": [
            "광동식당: searchIframe 로드 및 프레임 전환 완료\n",
            "광동식당: 링크버튼을 찾을 수 없음. xpath 대신 다른 방법 시도\n"
          ]
        },
        {
          "name": "stderr",
          "output_type": "stream",
          "text": [
            "  9%|▉         | 90/999 [33:37<5:20:47, 21.17s/it]"
          ]
        },
        {
          "name": "stdout",
          "output_type": "stream",
          "text": [
            "Failed to load iframe after multiple attempts for 광동식당.\n",
            "crawling fatil : 광동식당 to fail_to_crawling\n",
            "광령치킨: searchIframe 로드 및 프레임 전환 완료\n",
            "광령치킨: 첫 번째 가게 클릭 후 전환되지 않음. 다음 가게로 진행\n",
            "entryIframe 로드.\n",
            "Error while extracting menu/features for 광령치킨, div 1:\n",
            "Error while extracting menu/features for 광령치킨, div 2:\n"
          ]
        },
        {
          "name": "stderr",
          "output_type": "stream",
          "text": [
            "  9%|▉         | 91/999 [34:05<5:52:29, 23.29s/it]"
          ]
        },
        {
          "name": "stdout",
          "output_type": "stream",
          "text": [
            "광령힐식당: searchIframe 로드 및 프레임 전환 완료\n",
            "광령힐식당: entryIframe이 이미 로드됨. 클릭 없이 바로 진행\n",
            "entryIframe 로드.\n",
            "Error while extracting menu/features for 광령힐식당, div 1:\n",
            "Error while extracting menu/features for 광령힐식당, div 2:\n"
          ]
        },
        {
          "name": "stderr",
          "output_type": "stream",
          "text": [
            "  9%|▉         | 92/999 [34:26<5:42:17, 22.64s/it]"
          ]
        },
        {
          "name": "stdout",
          "output_type": "stream",
          "text": [
            "광림: searchIframe 로드 및 프레임 전환 완료\n",
            "광림: 링크버튼을 찾을 수 없음. xpath 대신 다른 방법 시도\n"
          ]
        },
        {
          "name": "stderr",
          "output_type": "stream",
          "text": [
            "  9%|▉         | 93/999 [34:44<5:21:21, 21.28s/it]"
          ]
        },
        {
          "name": "stdout",
          "output_type": "stream",
          "text": [
            "Failed to load iframe after multiple attempts for 광림.\n",
            "crawling fatil : 광림 to fail_to_crawling\n",
            "iframe을 찾을 수 없음 for 광명\n"
          ]
        },
        {
          "name": "stderr",
          "output_type": "stream",
          "text": [
            "  9%|▉         | 94/999 [35:00<4:55:56, 19.62s/it]"
          ]
        },
        {
          "name": "stdout",
          "output_type": "stream",
          "text": [
            "Failed to load iframe after multiple attempts for 광명.\n",
            "crawling fatil : 광명 to fail_to_crawling\n",
            "광명대창집신서귀포점: searchIframe 로드 및 프레임 전환 완료\n",
            "광명대창집신서귀포점: entryIframe이 이미 로드됨. 클릭 없이 바로 진행\n",
            "entryIframe 로드.\n",
            "Error while extracting menu/features for 광명대창집신서귀포점, div 1:\n",
            "Error while extracting menu/features for 광명대창집신서귀포점, div 2:\n"
          ]
        },
        {
          "name": "stderr",
          "output_type": "stream",
          "text": [
            " 10%|▉         | 95/999 [35:19<4:53:41, 19.49s/it]"
          ]
        },
        {
          "name": "stdout",
          "output_type": "stream",
          "text": [
            "광부맥주: searchIframe 로드 및 프레임 전환 완료\n",
            "광부맥주: 첫 번째 가게 클릭 후 전환되지 않음. 다음 가게로 진행\n",
            "entryIframe 로드.\n",
            "Error while extracting menu/features for 광부맥주, div 1:\n",
            "Error while extracting menu/features for 광부맥주, div 2:\n"
          ]
        },
        {
          "name": "stderr",
          "output_type": "stream",
          "text": [
            " 10%|▉         | 96/999 [35:48<5:33:27, 22.16s/it]"
          ]
        },
        {
          "name": "stdout",
          "output_type": "stream",
          "text": [
            "광성식당: searchIframe 로드 및 프레임 전환 완료\n",
            "광성식당: 첫 번째 가게 클릭 후 전환되지 않음. 다음 가게로 진행\n",
            "entryIframe 로드.\n",
            "Error while extracting menu/features for 광성식당, div 1:\n",
            "Error while extracting menu/features for 광성식당, div 2:\n"
          ]
        },
        {
          "name": "stderr",
          "output_type": "stream",
          "text": [
            " 10%|▉         | 97/999 [36:16<5:59:45, 23.93s/it]"
          ]
        },
        {
          "name": "stdout",
          "output_type": "stream",
          "text": [
            "광안국밥: searchIframe 로드 및 프레임 전환 완료\n",
            "광안국밥: 링크버튼을 찾을 수 없음. xpath 대신 다른 방법 시도\n"
          ]
        },
        {
          "name": "stderr",
          "output_type": "stream",
          "text": [
            " 10%|▉         | 98/999 [36:34<5:34:55, 22.30s/it]"
          ]
        },
        {
          "name": "stdout",
          "output_type": "stream",
          "text": [
            "Failed to load iframe after multiple attempts for 광안국밥.\n",
            "crawling fatil : 광안국밥 to fail_to_crawling\n",
            "iframe을 찾을 수 없음 for 광양\n"
          ]
        },
        {
          "name": "stderr",
          "output_type": "stream",
          "text": [
            " 10%|▉         | 99/999 [36:50<5:05:04, 20.34s/it]"
          ]
        },
        {
          "name": "stdout",
          "output_type": "stream",
          "text": [
            "Failed to load iframe after multiple attempts for 광양.\n",
            "crawling fatil : 광양 to fail_to_crawling\n",
            "iframe을 찾을 수 없음 for 광양8길9\n"
          ]
        },
        {
          "name": "stderr",
          "output_type": "stream",
          "text": [
            " 10%|█         | 100/999 [37:06<4:44:04, 18.96s/it]"
          ]
        },
        {
          "name": "stdout",
          "output_type": "stream",
          "text": [
            "Failed to load iframe after multiple attempts for 광양8길9.\n",
            "crawling fatil : 광양8길9 to fail_to_crawling\n",
            "광양국수: searchIframe 로드 및 프레임 전환 완료\n",
            "광양국수: 링크버튼을 찾을 수 없음. xpath 대신 다른 방법 시도\n"
          ]
        },
        {
          "name": "stderr",
          "output_type": "stream",
          "text": [
            " 10%|█         | 101/999 [37:25<4:43:59, 18.97s/it]"
          ]
        },
        {
          "name": "stdout",
          "output_type": "stream",
          "text": [
            "Failed to load iframe after multiple attempts for 광양국수.\n",
            "crawling fatil : 광양국수 to fail_to_crawling\n",
            "광양왕소금깡통구이: searchIframe 로드 및 프레임 전환 완료\n",
            "광양왕소금깡통구이: entryIframe이 이미 로드됨. 클릭 없이 바로 진행\n",
            "entryIframe 로드.\n",
            "Error while extracting menu/features for 광양왕소금깡통구이, div 1:\n",
            "Error while extracting menu/features for 광양왕소금깡통구이, div 2:\n"
          ]
        },
        {
          "name": "stderr",
          "output_type": "stream",
          "text": [
            " 10%|█         | 102/999 [37:46<4:54:43, 19.71s/it]"
          ]
        },
        {
          "name": "stdout",
          "output_type": "stream",
          "text": [
            "광양캔사스시티: searchIframe 로드 및 프레임 전환 완료\n",
            "Error while clicking first search result for 광양캔사스시티: Unable to locate list container.\n"
          ]
        },
        {
          "name": "stderr",
          "output_type": "stream",
          "text": [
            " 10%|█         | 103/999 [38:07<4:58:28, 19.99s/it]"
          ]
        },
        {
          "name": "stdout",
          "output_type": "stream",
          "text": [
            "Failed to load iframe after multiple attempts for 광양캔사스시티.\n",
            "crawling fatil : 광양캔사스시티 to fail_to_crawling\n",
            "광양해장국집: searchIframe 로드 및 프레임 전환 완료\n",
            "광양해장국집: 첫 번째 가게 클릭 후 전환되지 않음. 다음 가게로 진행\n",
            "entryIframe 로드.\n",
            "Error while extracting menu/features for 광양해장국집, div 1:\n",
            "Error while extracting menu/features for 광양해장국집, div 2:\n"
          ]
        },
        {
          "name": "stderr",
          "output_type": "stream",
          "text": [
            " 10%|█         | 104/999 [38:35<5:36:40, 22.57s/it]"
          ]
        },
        {
          "name": "stdout",
          "output_type": "stream",
          "text": [
            "광어다: searchIframe 로드 및 프레임 전환 완료\n",
            "광어다: entryIframe이 이미 로드됨. 클릭 없이 바로 진행\n",
            "entryIframe 로드.\n",
            "Error while extracting menu/features for 광어다, div 1:\n",
            "Error while extracting menu/features for 광어다, div 2:\n"
          ]
        },
        {
          "name": "stderr",
          "output_type": "stream",
          "text": [
            " 11%|█         | 105/999 [38:57<5:30:36, 22.19s/it]"
          ]
        },
        {
          "name": "stdout",
          "output_type": "stream",
          "text": [
            "광어다서귀포표선본점: searchIframe 로드 및 프레임 전환 완료\n",
            "광어다서귀포표선본점: entryIframe이 이미 로드됨. 클릭 없이 바로 진행\n",
            "entryIframe 로드.\n",
            "Error while extracting menu/features for 광어다서귀포표선본점, div 1:\n",
            "Error while extracting menu/features for 광어다서귀포표선본점, div 2:\n"
          ]
        },
        {
          "name": "stderr",
          "output_type": "stream",
          "text": [
            " 11%|█         | 106/999 [39:18<5:25:28, 21.87s/it]"
          ]
        },
        {
          "name": "stdout",
          "output_type": "stream",
          "text": [
            "광원: searchIframe 로드 및 프레임 전환 완료\n",
            "Error while clicking first search result for 광원: Unable to locate list container.\n"
          ]
        },
        {
          "name": "stderr",
          "output_type": "stream",
          "text": [
            " 11%|█         | 107/999 [39:39<5:20:17, 21.54s/it]"
          ]
        },
        {
          "name": "stdout",
          "output_type": "stream",
          "text": [
            "Failed to load iframe after multiple attempts for 광원.\n",
            "crawling fatil : 광원 to fail_to_crawling\n",
            "광장가든: searchIframe 로드 및 프레임 전환 완료\n",
            "광장가든: 첫 번째 가게 클릭 후 전환되지 않음. 다음 가게로 진행\n",
            "entryIframe 로드.\n",
            "Error while extracting menu/features for 광장가든, div 1:\n",
            "Error while extracting menu/features for 광장가든, div 2:\n"
          ]
        },
        {
          "name": "stderr",
          "output_type": "stream",
          "text": [
            " 11%|█         | 108/999 [40:06<5:46:26, 23.33s/it]"
          ]
        },
        {
          "name": "stdout",
          "output_type": "stream",
          "text": [
            "광주식당: searchIframe 로드 및 프레임 전환 완료\n",
            "광주식당: 링크버튼을 찾을 수 없음. xpath 대신 다른 방법 시도\n"
          ]
        },
        {
          "name": "stderr",
          "output_type": "stream",
          "text": [
            " 11%|█         | 109/999 [40:26<5:32:07, 22.39s/it]"
          ]
        },
        {
          "name": "stdout",
          "output_type": "stream",
          "text": [
            "Failed to load iframe after multiple attempts for 광주식당.\n",
            "crawling fatil : 광주식당 to fail_to_crawling\n",
            "광평도새기촌 본점: searchIframe 로드 및 프레임 전환 완료\n",
            "광평도새기촌 본점: entryIframe이 이미 로드됨. 클릭 없이 바로 진행\n",
            "entryIframe 로드.\n",
            "Error while extracting menu/features for 광평도새기촌 본점, div 1:\n",
            "Error while extracting menu/features for 광평도새기촌 본점, div 2:\n"
          ]
        },
        {
          "name": "stderr",
          "output_type": "stream",
          "text": [
            " 11%|█         | 110/999 [40:48<5:27:11, 22.08s/it]"
          ]
        },
        {
          "name": "stdout",
          "output_type": "stream",
          "text": [
            "광평도새기촌본점: searchIframe 로드 및 프레임 전환 완료\n",
            "광평도새기촌본점: entryIframe이 이미 로드됨. 클릭 없이 바로 진행\n",
            "entryIframe 로드.\n",
            "Error while extracting menu/features for 광평도새기촌본점, div 1:\n",
            "Error while extracting menu/features for 광평도새기촌본점, div 2:\n"
          ]
        },
        {
          "name": "stderr",
          "output_type": "stream",
          "text": [
            " 11%|█         | 111/999 [41:10<5:25:55, 22.02s/it]"
          ]
        },
        {
          "name": "stdout",
          "output_type": "stream",
          "text": [
            "괸당집 노형점: searchIframe 로드 및 프레임 전환 완료\n",
            "괸당집 노형점: entryIframe이 이미 로드됨. 클릭 없이 바로 진행\n",
            "entryIframe 로드.\n",
            "Error while extracting menu/features for 괸당집 노형점, div 1:\n",
            "Error while extracting menu/features for 괸당집 노형점, div 2:\n"
          ]
        },
        {
          "name": "stderr",
          "output_type": "stream",
          "text": [
            " 11%|█         | 112/999 [41:29<5:11:49, 21.09s/it]"
          ]
        },
        {
          "name": "stdout",
          "output_type": "stream",
          "text": [
            "괸당집도남점: searchIframe 로드 및 프레임 전환 완료\n",
            "Error while clicking first search result for 괸당집도남점: Unable to locate list container.\n"
          ]
        },
        {
          "name": "stderr",
          "output_type": "stream",
          "text": [
            " 11%|█▏        | 113/999 [41:49<5:08:25, 20.89s/it]"
          ]
        },
        {
          "name": "stdout",
          "output_type": "stream",
          "text": [
            "Failed to load iframe after multiple attempts for 괸당집도남점.\n",
            "crawling fatil : 괸당집도남점 to fail_to_crawling\n",
            "괸당집서귀포점: searchIframe 로드 및 프레임 전환 완료\n",
            "괸당집서귀포점: entryIframe이 이미 로드됨. 클릭 없이 바로 진행\n",
            "entryIframe 로드.\n",
            "Error while extracting menu/features for 괸당집서귀포점, div 1:\n",
            "Error while extracting menu/features for 괸당집서귀포점, div 2:\n"
          ]
        },
        {
          "name": "stderr",
          "output_type": "stream",
          "text": [
            " 11%|█▏        | 114/999 [42:09<5:02:28, 20.51s/it]"
          ]
        },
        {
          "name": "stdout",
          "output_type": "stream",
          "text": [
            "괸당집성산점: searchIframe 로드 및 프레임 전환 완료\n",
            "괸당집성산점: entryIframe이 이미 로드됨. 클릭 없이 바로 진행\n",
            "entryIframe 로드.\n",
            "Error while extracting menu/features for 괸당집성산점, div 1:\n"
          ]
        },
        {
          "name": "stderr",
          "output_type": "stream",
          "text": [
            " 12%|█▏        | 115/999 [42:26<4:49:22, 19.64s/it]"
          ]
        },
        {
          "name": "stdout",
          "output_type": "stream",
          "text": [
            "Error while extracting menu/features for 괸당집성산점, div 2:\n",
            " 사진 버튼 없음 : 괸당집성산점.\n",
            "괸당집신시가지점: searchIframe 로드 및 프레임 전환 완료\n",
            "괸당집신시가지점: entryIframe이 이미 로드됨. 클릭 없이 바로 진행\n",
            "entryIframe 로드.\n",
            "Error while extracting menu/features for 괸당집신시가지점, div 1:\n",
            "Error while extracting menu/features for 괸당집신시가지점, div 2:\n"
          ]
        },
        {
          "name": "stderr",
          "output_type": "stream",
          "text": [
            " 12%|█▏        | 116/999 [42:48<4:57:19, 20.20s/it]"
          ]
        },
        {
          "name": "stdout",
          "output_type": "stream",
          "text": [
            "괸당집신재주점: searchIframe 로드 및 프레임 전환 완료\n",
            "괸당집신재주점: entryIframe이 이미 로드됨. 클릭 없이 바로 진행\n",
            "entryIframe 로드.\n",
            "Error while extracting menu/features for 괸당집신재주점, div 1:\n",
            "Error while extracting menu/features for 괸당집신재주점, div 2:\n"
          ]
        },
        {
          "name": "stderr",
          "output_type": "stream",
          "text": [
            " 12%|█▏        | 117/999 [43:07<4:53:30, 19.97s/it]"
          ]
        },
        {
          "name": "stdout",
          "output_type": "stream",
          "text": [
            "괸당집외도점: searchIframe 로드 및 프레임 전환 완료\n",
            "괸당집외도점: entryIframe이 이미 로드됨. 클릭 없이 바로 진행\n",
            "entryIframe 로드.\n",
            "Error while extracting menu/features for 괸당집외도점, div 1:\n",
            "Error while extracting menu/features for 괸당집외도점, div 2:\n"
          ]
        },
        {
          "name": "stderr",
          "output_type": "stream",
          "text": [
            " 12%|█▏        | 118/999 [43:29<5:00:05, 20.44s/it]"
          ]
        },
        {
          "name": "stdout",
          "output_type": "stream",
          "text": [
            "괸당집인제점: searchIframe 로드 및 프레임 전환 완료\n",
            "Error while clicking first search result for 괸당집인제점: Unable to locate list container.\n"
          ]
        },
        {
          "name": "stderr",
          "output_type": "stream",
          "text": [
            " 12%|█▏        | 119/999 [43:50<5:02:54, 20.65s/it]"
          ]
        },
        {
          "name": "stdout",
          "output_type": "stream",
          "text": [
            "Failed to load iframe after multiple attempts for 괸당집인제점.\n",
            "crawling fatil : 괸당집인제점 to fail_to_crawling\n",
            "괸당집중문점: searchIframe 로드 및 프레임 전환 완료\n",
            "괸당집중문점: entryIframe이 이미 로드됨. 클릭 없이 바로 진행\n",
            "entryIframe 로드.\n",
            "Error while extracting menu/features for 괸당집중문점, div 1:\n",
            "Error while extracting menu/features for 괸당집중문점, div 2:\n"
          ]
        },
        {
          "name": "stderr",
          "output_type": "stream",
          "text": [
            " 12%|█▏        | 120/999 [44:11<5:05:01, 20.82s/it]"
          ]
        },
        {
          "name": "stdout",
          "output_type": "stream",
          "text": [
            "괸당집표선점: searchIframe 로드 및 프레임 전환 완료\n",
            "괸당집표선점: entryIframe이 이미 로드됨. 클릭 없이 바로 진행\n",
            "entryIframe 로드.\n",
            "Error while extracting menu/features for 괸당집표선점, div 1:\n",
            "Error while extracting menu/features for 괸당집표선점, div 2:\n"
          ]
        },
        {
          "name": "stderr",
          "output_type": "stream",
          "text": [
            " 12%|█▏        | 121/999 [44:32<5:06:20, 20.93s/it]"
          ]
        },
        {
          "name": "stdout",
          "output_type": "stream",
          "text": [
            "괸당집함덕점: searchIframe 로드 및 프레임 전환 완료\n",
            "괸당집함덕점: entryIframe이 이미 로드됨. 클릭 없이 바로 진행\n",
            "entryIframe 로드.\n",
            "Error while extracting menu/features for 괸당집함덕점, div 1:\n",
            "Error while extracting menu/features for 괸당집함덕점, div 2:\n"
          ]
        },
        {
          "name": "stderr",
          "output_type": "stream",
          "text": [
            " 12%|█▏        | 122/999 [44:51<4:58:32, 20.42s/it]"
          ]
        },
        {
          "name": "stdout",
          "output_type": "stream",
          "text": [
            "괸당포차: searchIframe 로드 및 프레임 전환 완료\n",
            "괸당포차: entryIframe이 이미 로드됨. 클릭 없이 바로 진행\n",
            "entryIframe 로드.\n",
            "Error while extracting menu/features for 괸당포차, div 1:\n",
            "Error while extracting menu/features for 괸당포차, div 2:\n"
          ]
        },
        {
          "name": "stderr",
          "output_type": "stream",
          "text": [
            " 12%|█▏        | 123/999 [45:11<4:53:37, 20.11s/it]"
          ]
        },
        {
          "name": "stdout",
          "output_type": "stream",
          "text": [
            "교동짬뽕제주: searchIframe 로드 및 프레임 전환 완료\n",
            "교동짬뽕제주: 첫 번째 가게 클릭 후 전환되지 않음. 다음 가게로 진행\n",
            "entryIframe 로드.\n",
            "Error while extracting menu/features for 교동짬뽕제주, div 1:\n",
            "Error while extracting menu/features for 교동짬뽕제주, div 2:\n"
          ]
        },
        {
          "name": "stderr",
          "output_type": "stream",
          "text": [
            " 12%|█▏        | 124/999 [45:39<5:27:41, 22.47s/it]"
          ]
        },
        {
          "name": "stdout",
          "output_type": "stream",
          "text": [
            "교래공간: searchIframe 로드 및 프레임 전환 완료\n",
            "교래공간: entryIframe이 이미 로드됨. 클릭 없이 바로 진행\n",
            "entryIframe 로드.\n",
            "Error while extracting datalab information for 교래공간:\n",
            "Error while navigating to reviews for 교래공간:\n"
          ]
        },
        {
          "name": "stderr",
          "output_type": "stream",
          "text": [
            " 13%|█▎        | 125/999 [45:57<5:10:19, 21.30s/it]"
          ]
        },
        {
          "name": "stdout",
          "output_type": "stream",
          "text": [
            "이미지 추출 오류 2 for 교래공간 \n",
            "이미지 추출 오류 3 for 교래공간 \n",
            "이미지 추출 오류 4 for 교래공간 \n",
            "이미지 추출 오류 5 for 교래공간 \n",
            "이미지 추출 오류 6 for 교래공간 \n",
            "이미지 추출 오류 7 for 교래공간 \n",
            "이미지 추출 오류 8 for 교래공간 \n",
            "이미지 추출 오류 9 for 교래공간 \n",
            "이미지 추출 오류 10 for 교래공간 \n",
            "교래손칼국수: searchIframe 로드 및 프레임 전환 완료\n",
            "교래손칼국수: 첫 번째 가게 클릭 후 전환되지 않음. 다음 가게로 진행\n",
            "entryIframe 로드.\n",
            "Error while extracting menu/features for 교래손칼국수, div 1:\n",
            "Error while extracting menu/features for 교래손칼국수, div 2:\n"
          ]
        },
        {
          "name": "stderr",
          "output_type": "stream",
          "text": [
            " 13%|█▎        | 126/999 [46:24<5:31:18, 22.77s/it]"
          ]
        },
        {
          "name": "stdout",
          "output_type": "stream",
          "text": [
            "교래퐁낭: searchIframe 로드 및 프레임 전환 완료\n",
            "교래퐁낭: 첫 번째 가게 클릭 후 전환되지 않음. 다음 가게로 진행\n",
            "entryIframe 로드.\n",
            "Error while extracting menu/features for 교래퐁낭, div 1:\n",
            "Error while extracting menu/features for 교래퐁낭, div 2:\n"
          ]
        },
        {
          "name": "stderr",
          "output_type": "stream",
          "text": [
            " 13%|█▎        | 127/999 [46:50<5:46:11, 23.82s/it]"
          ]
        },
        {
          "name": "stdout",
          "output_type": "stream",
          "text": [
            "교래퐁낭식당별관: searchIframe 로드 및 프레임 전환 완료\n",
            "Error while clicking first search result for 교래퐁낭식당별관: Unable to locate list container.\n"
          ]
        },
        {
          "name": "stderr",
          "output_type": "stream",
          "text": [
            " 13%|█▎        | 128/999 [47:11<5:32:58, 22.94s/it]"
          ]
        },
        {
          "name": "stdout",
          "output_type": "stream",
          "text": [
            "Failed to load iframe after multiple attempts for 교래퐁낭식당별관.\n",
            "crawling fatil : 교래퐁낭식당별관 to fail_to_crawling\n",
            "교래향: searchIframe 로드 및 프레임 전환 완료\n",
            "교래향: entryIframe이 이미 로드됨. 클릭 없이 바로 진행\n",
            "entryIframe 로드.\n",
            "Error while extracting menu/features for 교래향, div 1:\n",
            "Error while extracting menu/features for 교래향, div 2:\n"
          ]
        },
        {
          "name": "stderr",
          "output_type": "stream",
          "text": [
            " 13%|█▎        | 129/999 [47:32<5:25:38, 22.46s/it]"
          ]
        },
        {
          "name": "stdout",
          "output_type": "stream",
          "text": [
            "교래흑돼지: searchIframe 로드 및 프레임 전환 완료\n",
            "교래흑돼지: 첫 번째 가게 클릭 후 전환되지 않음. 다음 가게로 진행\n",
            "entryIframe 로드.\n",
            "Error while extracting menu/features for 교래흑돼지, div 1:\n",
            "Error while extracting menu/features for 교래흑돼지, div 2:\n"
          ]
        },
        {
          "name": "stderr",
          "output_type": "stream",
          "text": [
            " 13%|█▎        | 130/999 [48:00<5:50:38, 24.21s/it]"
          ]
        },
        {
          "name": "stdout",
          "output_type": "stream",
          "text": [
            "교래흑돼지성산일출봉점: searchIframe 로드 및 프레임 전환 완료\n",
            "교래흑돼지성산일출봉점: entryIframe이 이미 로드됨. 클릭 없이 바로 진행\n",
            "entryIframe 로드.\n",
            "Error while extracting menu/features for 교래흑돼지성산일출봉점, div 1:\n"
          ]
        },
        {
          "name": "stderr",
          "output_type": "stream",
          "text": [
            " 13%|█▎        | 131/999 [48:19<5:28:17, 22.69s/it]"
          ]
        },
        {
          "name": "stdout",
          "output_type": "stream",
          "text": [
            "Error while extracting menu/features for 교래흑돼지성산일출봉점, div 2:\n",
            " 사진 버튼 없음 : 교래흑돼지성산일출봉점.\n",
            "교래흑돼지표선점: searchIframe 로드 및 프레임 전환 완료\n",
            "교래흑돼지표선점: entryIframe이 이미 로드됨. 클릭 없이 바로 진행\n",
            "entryIframe 로드.\n",
            "Error while extracting menu/features for 교래흑돼지표선점, div 1:\n"
          ]
        },
        {
          "name": "stderr",
          "output_type": "stream",
          "text": [
            " 13%|█▎        | 132/999 [48:40<5:16:47, 21.92s/it]"
          ]
        },
        {
          "name": "stdout",
          "output_type": "stream",
          "text": [
            "Error while extracting menu/features for 교래흑돼지표선점, div 2:\n",
            " 사진 버튼 없음 : 교래흑돼지표선점.\n",
            "교촌치킨 건입점: searchIframe 로드 및 프레임 전환 완료\n",
            "교촌치킨 건입점: entryIframe이 이미 로드됨. 클릭 없이 바로 진행\n",
            "entryIframe 로드.\n",
            "Error while extracting menu/features for 교촌치킨 건입점, div 1:\n",
            "Error while navigating to reviews for 교촌치킨 건입점:\n"
          ]
        },
        {
          "name": "stderr",
          "output_type": "stream",
          "text": [
            " 13%|█▎        | 133/999 [49:00<5:11:33, 21.59s/it]"
          ]
        },
        {
          "name": "stdout",
          "output_type": "stream",
          "text": [
            "교촌치킨 노형점: searchIframe 로드 및 프레임 전환 완료\n",
            "교촌치킨 노형점: entryIframe이 이미 로드됨. 클릭 없이 바로 진행\n",
            "entryIframe 로드.\n",
            "Error while extracting menu/features for 교촌치킨 노형점, div 1:\n",
            "Error while extracting menu/features for 교촌치킨 노형점, div 2:\n"
          ]
        },
        {
          "name": "stderr",
          "output_type": "stream",
          "text": [
            " 13%|█▎        | 134/999 [49:22<5:09:46, 21.49s/it]"
          ]
        },
        {
          "name": "stdout",
          "output_type": "stream",
          "text": [
            "교촌치킨 대정점: searchIframe 로드 및 프레임 전환 완료\n",
            "교촌치킨 대정점: entryIframe이 이미 로드됨. 클릭 없이 바로 진행\n",
            "entryIframe 로드.\n",
            "Error while extracting menu/features for 교촌치킨 대정점, div 1:\n",
            "Error while extracting menu/features for 교촌치킨 대정점, div 2:\n"
          ]
        },
        {
          "name": "stderr",
          "output_type": "stream",
          "text": [
            " 14%|█▎        | 135/999 [49:43<5:09:55, 21.52s/it]"
          ]
        },
        {
          "name": "stdout",
          "output_type": "stream",
          "text": [
            "교촌치킨 삼양화북점: searchIframe 로드 및 프레임 전환 완료\n",
            "교촌치킨 삼양화북점: entryIframe이 이미 로드됨. 클릭 없이 바로 진행\n",
            "entryIframe 로드.\n",
            "Error while extracting menu/features for 교촌치킨 삼양화북점, div 1:\n",
            "Error while extracting menu/features for 교촌치킨 삼양화북점, div 2:\n"
          ]
        },
        {
          "name": "stderr",
          "output_type": "stream",
          "text": [
            " 14%|█▎        | 136/999 [50:04<5:08:13, 21.43s/it]"
          ]
        },
        {
          "name": "stdout",
          "output_type": "stream",
          "text": [
            "교촌치킨 서귀포남원점: searchIframe 로드 및 프레임 전환 완료\n",
            "교촌치킨 서귀포남원점: entryIframe이 이미 로드됨. 클릭 없이 바로 진행\n",
            "entryIframe 로드.\n",
            "Error while extracting menu/features for 교촌치킨 서귀포남원점, div 1:\n",
            "Error while extracting menu/features for 교촌치킨 서귀포남원점, div 2:\n"
          ]
        },
        {
          "name": "stderr",
          "output_type": "stream",
          "text": [
            " 14%|█▎        | 137/999 [50:26<5:06:05, 21.31s/it]"
          ]
        },
        {
          "name": "stdout",
          "output_type": "stream",
          "text": [
            "교촌치킨 서귀포명동점: searchIframe 로드 및 프레임 전환 완료\n",
            "교촌치킨 서귀포명동점: entryIframe이 이미 로드됨. 클릭 없이 바로 진행\n",
            "entryIframe 로드.\n",
            "Error while extracting menu/features for 교촌치킨 서귀포명동점, div 1:\n",
            "Error while extracting menu/features for 교촌치킨 서귀포명동점, div 2:\n"
          ]
        },
        {
          "name": "stderr",
          "output_type": "stream",
          "text": [
            " 14%|█▍        | 138/999 [50:47<5:06:48, 21.38s/it]"
          ]
        },
        {
          "name": "stdout",
          "output_type": "stream",
          "text": [
            "교촌치킨 서귀포혁신도시점: searchIframe 로드 및 프레임 전환 완료\n",
            "교촌치킨 서귀포혁신도시점: entryIframe이 이미 로드됨. 클릭 없이 바로 진행\n",
            "entryIframe 로드.\n",
            "Error while extracting menu/features for 교촌치킨 서귀포혁신도시점, div 1:\n",
            "Error while extracting menu/features for 교촌치킨 서귀포혁신도시점, div 2:\n"
          ]
        },
        {
          "name": "stderr",
          "output_type": "stream",
          "text": [
            " 14%|█▍        | 139/999 [51:09<5:08:31, 21.52s/it]"
          ]
        },
        {
          "name": "stdout",
          "output_type": "stream",
          "text": [
            "교촌치킨 성산일출봉점: searchIframe 로드 및 프레임 전환 완료\n",
            "교촌치킨 성산일출봉점: entryIframe이 이미 로드됨. 클릭 없이 바로 진행\n",
            "entryIframe 로드.\n",
            "Error while extracting menu/features for 교촌치킨 성산일출봉점, div 1:\n",
            "Error while extracting menu/features for 교촌치킨 성산일출봉점, div 2:\n"
          ]
        },
        {
          "name": "stderr",
          "output_type": "stream",
          "text": [
            " 14%|█▍        | 140/999 [51:30<5:07:02, 21.45s/it]"
          ]
        },
        {
          "name": "stdout",
          "output_type": "stream",
          "text": [
            "교촌치킨 아라이도점: searchIframe 로드 및 프레임 전환 완료\n",
            "Error while clicking first search result for 교촌치킨 아라이도점: Unable to locate list container.\n"
          ]
        },
        {
          "name": "stderr",
          "output_type": "stream",
          "text": [
            " 14%|█▍        | 141/999 [51:51<5:05:05, 21.34s/it]"
          ]
        },
        {
          "name": "stdout",
          "output_type": "stream",
          "text": [
            "Failed to load iframe after multiple attempts for 교촌치킨 아라이도점.\n",
            "crawling fatil : 교촌치킨 아라이도점 to fail_to_crawling\n",
            "교촌치킨 아라점: searchIframe 로드 및 프레임 전환 완료\n",
            "교촌치킨 아라점: entryIframe이 이미 로드됨. 클릭 없이 바로 진행\n",
            "entryIframe 로드.\n",
            "Error while extracting menu/features for 교촌치킨 아라점, div 1:\n",
            "Error while extracting menu/features for 교촌치킨 아라점, div 2:\n"
          ]
        },
        {
          "name": "stderr",
          "output_type": "stream",
          "text": [
            " 14%|█▍        | 142/999 [52:13<5:04:46, 21.34s/it]"
          ]
        },
        {
          "name": "stdout",
          "output_type": "stream",
          "text": [
            "교촌치킨 애월하귀점: searchIframe 로드 및 프레임 전환 완료\n",
            "교촌치킨 애월하귀점: 링크버튼을 찾을 수 없음. xpath 대신 다른 방법 시도\n"
          ]
        },
        {
          "name": "stderr",
          "output_type": "stream",
          "text": [
            " 14%|█▍        | 143/999 [52:30<4:48:58, 20.26s/it]"
          ]
        },
        {
          "name": "stdout",
          "output_type": "stream",
          "text": [
            "Failed to load iframe after multiple attempts for 교촌치킨 애월하귀점.\n",
            "crawling fatil : 교촌치킨 애월하귀점 to fail_to_crawling\n",
            "교촌치킨 애월해안도로점: searchIframe 로드 및 프레임 전환 완료\n",
            "교촌치킨 애월해안도로점: entryIframe이 이미 로드됨. 클릭 없이 바로 진행\n",
            "entryIframe 로드.\n",
            "Error while extracting menu/features for 교촌치킨 애월해안도로점, div 1:\n",
            "Error while extracting menu/features for 교촌치킨 애월해안도로점, div 2:\n"
          ]
        },
        {
          "name": "stderr",
          "output_type": "stream",
          "text": [
            " 14%|█▍        | 144/999 [52:52<4:54:35, 20.67s/it]"
          ]
        },
        {
          "name": "stdout",
          "output_type": "stream",
          "text": [
            "교촌치킨 오라점: searchIframe 로드 및 프레임 전환 완료\n",
            "교촌치킨 오라점: entryIframe이 이미 로드됨. 클릭 없이 바로 진행\n",
            "entryIframe 로드.\n",
            "Error while extracting menu/features for 교촌치킨 오라점, div 1:\n",
            "Error while navigating to reviews for 교촌치킨 오라점:\n"
          ]
        },
        {
          "name": "stderr",
          "output_type": "stream",
          "text": [
            " 15%|█▍        | 145/999 [53:14<4:59:09, 21.02s/it]"
          ]
        },
        {
          "name": "stdout",
          "output_type": "stream",
          "text": [
            "교촌치킨 용담삼도점: searchIframe 로드 및 프레임 전환 완료\n",
            "교촌치킨 용담삼도점: entryIframe이 이미 로드됨. 클릭 없이 바로 진행\n",
            "entryIframe 로드.\n",
            "Error while extracting menu/features for 교촌치킨 용담삼도점, div 1:\n",
            "Error while extracting menu/features for 교촌치킨 용담삼도점, div 2:\n"
          ]
        },
        {
          "name": "stderr",
          "output_type": "stream",
          "text": [
            " 15%|█▍        | 146/999 [53:35<5:00:20, 21.13s/it]"
          ]
        },
        {
          "name": "stdout",
          "output_type": "stream",
          "text": [
            "교촌치킨 이도점: searchIframe 로드 및 프레임 전환 완료\n",
            "교촌치킨 이도점: entryIframe이 이미 로드됨. 클릭 없이 바로 진행\n",
            "entryIframe 로드.\n",
            "Error while extracting menu/features for 교촌치킨 이도점, div 1:\n",
            "Error while extracting menu/features for 교촌치킨 이도점, div 2:\n"
          ]
        },
        {
          "name": "stderr",
          "output_type": "stream",
          "text": [
            " 15%|█▍        | 147/999 [53:57<5:01:14, 21.21s/it]"
          ]
        },
        {
          "name": "stdout",
          "output_type": "stream",
          "text": [
            "교촌치킨 일도점: searchIframe 로드 및 프레임 전환 완료\n",
            "교촌치킨 일도점: 링크버튼을 찾을 수 없음. xpath 대신 다른 방법 시도\n"
          ]
        },
        {
          "name": "stderr",
          "output_type": "stream",
          "text": [
            " 15%|█▍        | 148/999 [54:14<4:45:40, 20.14s/it]"
          ]
        },
        {
          "name": "stdout",
          "output_type": "stream",
          "text": [
            "Failed to load iframe after multiple attempts for 교촌치킨 일도점.\n",
            "crawling fatil : 교촌치킨 일도점 to fail_to_crawling\n",
            "교촌치킨 제주1호: searchIframe 로드 및 프레임 전환 완료\n",
            "교촌치킨 제주1호: 링크버튼을 찾을 수 없음. xpath 대신 다른 방법 시도\n"
          ]
        },
        {
          "name": "stderr",
          "output_type": "stream",
          "text": [
            " 15%|█▍        | 149/999 [54:32<4:34:27, 19.37s/it]"
          ]
        },
        {
          "name": "stdout",
          "output_type": "stream",
          "text": [
            "Failed to load iframe after multiple attempts for 교촌치킨 제주1호.\n",
            "crawling fatil : 교촌치킨 제주1호 to fail_to_crawling\n",
            "교촌치킨 제주시청점: searchIframe 로드 및 프레임 전환 완료\n",
            "교촌치킨 제주시청점: entryIframe이 이미 로드됨. 클릭 없이 바로 진행\n",
            "entryIframe 로드.\n",
            "Error while extracting menu/features for 교촌치킨 제주시청점, div 1:\n",
            "Error while extracting menu/features for 교촌치킨 제주시청점, div 2:\n"
          ]
        },
        {
          "name": "stderr",
          "output_type": "stream",
          "text": [
            " 15%|█▌        | 150/999 [54:53<4:43:48, 20.06s/it]"
          ]
        },
        {
          "name": "stdout",
          "output_type": "stream",
          "text": [
            "교촌치킨 표선점: searchIframe 로드 및 프레임 전환 완료\n",
            "교촌치킨 표선점: entryIframe이 이미 로드됨. 클릭 없이 바로 진행\n",
            "entryIframe 로드.\n",
            "Error while extracting menu/features for 교촌치킨 표선점, div 1:\n",
            "Error while extracting menu/features for 교촌치킨 표선점, div 2:\n"
          ]
        },
        {
          "name": "stderr",
          "output_type": "stream",
          "text": [
            " 15%|█▌        | 151/999 [55:15<4:48:54, 20.44s/it]"
          ]
        },
        {
          "name": "stdout",
          "output_type": "stream",
          "text": [
            "교촌치킨 한림협재점: searchIframe 로드 및 프레임 전환 완료\n",
            "교촌치킨 한림협재점: 링크버튼을 찾을 수 없음. xpath 대신 다른 방법 시도\n"
          ]
        },
        {
          "name": "stderr",
          "output_type": "stream",
          "text": [
            " 15%|█▌        | 152/999 [55:33<4:37:34, 19.66s/it]"
          ]
        },
        {
          "name": "stdout",
          "output_type": "stream",
          "text": [
            "Failed to load iframe after multiple attempts for 교촌치킨 한림협재점.\n",
            "crawling fatil : 교촌치킨 한림협재점 to fail_to_crawling\n",
            "교촌치킨도두해안도로점: searchIframe 로드 및 프레임 전환 완료\n",
            "교촌치킨도두해안도로점: entryIframe이 이미 로드됨. 클릭 없이 바로 진행\n",
            "entryIframe 로드.\n",
            "Error while extracting menu/features for 교촌치킨도두해안도로점, div 1:\n",
            "Error while extracting menu/features for 교촌치킨도두해안도로점, div 2:\n"
          ]
        },
        {
          "name": "stderr",
          "output_type": "stream",
          "text": [
            " 15%|█▌        | 153/999 [55:54<4:44:13, 20.16s/it]"
          ]
        },
        {
          "name": "stdout",
          "output_type": "stream",
          "text": [
            "교촌치킨서귀포1호점: searchIframe 로드 및 프레임 전환 완료\n",
            "교촌치킨서귀포1호점: entryIframe이 이미 로드됨. 클릭 없이 바로 진행\n",
            "entryIframe 로드.\n",
            "Error while extracting menu/features for 교촌치킨서귀포1호점, div 1:\n",
            "Error while extracting menu/features for 교촌치킨서귀포1호점, div 2:\n"
          ]
        },
        {
          "name": "stderr",
          "output_type": "stream",
          "text": [
            " 15%|█▌        | 154/999 [56:11<4:30:19, 19.20s/it]"
          ]
        },
        {
          "name": "stdout",
          "output_type": "stream",
          "text": [
            "교촌치킨세화점: searchIframe 로드 및 프레임 전환 완료\n",
            "교촌치킨세화점: entryIframe이 이미 로드됨. 클릭 없이 바로 진행\n",
            "entryIframe 로드.\n",
            "Error while extracting menu/features for 교촌치킨세화점, div 1:\n",
            "Error while extracting menu/features for 교촌치킨세화점, div 2:\n"
          ]
        },
        {
          "name": "stderr",
          "output_type": "stream",
          "text": [
            " 16%|█▌        | 155/999 [56:32<4:36:44, 19.67s/it]"
          ]
        },
        {
          "name": "stdout",
          "output_type": "stream",
          "text": [
            "교촌치킨영어교육도시점: searchIframe 로드 및 프레임 전환 완료\n",
            "교촌치킨영어교육도시점: entryIframe이 이미 로드됨. 클릭 없이 바로 진행\n",
            "entryIframe 로드.\n",
            "Error while extracting menu/features for 교촌치킨영어교육도시점, div 1:\n",
            "Error while extracting menu/features for 교촌치킨영어교육도시점, div 2:\n"
          ]
        },
        {
          "name": "stderr",
          "output_type": "stream",
          "text": [
            " 16%|█▌        | 156/999 [56:53<4:41:22, 20.03s/it]"
          ]
        },
        {
          "name": "stdout",
          "output_type": "stream",
          "text": [
            "교촌치킨제주1호: searchIframe 로드 및 프레임 전환 완료\n",
            "교촌치킨제주1호: 링크버튼을 찾을 수 없음. xpath 대신 다른 방법 시도\n"
          ]
        },
        {
          "name": "stderr",
          "output_type": "stream",
          "text": [
            " 16%|█▌        | 157/999 [57:11<4:33:17, 19.47s/it]"
          ]
        },
        {
          "name": "stdout",
          "output_type": "stream",
          "text": [
            "Failed to load iframe after multiple attempts for 교촌치킨제주1호.\n",
            "crawling fatil : 교촌치킨제주1호 to fail_to_crawling\n",
            "교촌치킨제주시청점: searchIframe 로드 및 프레임 전환 완료\n",
            "교촌치킨제주시청점: entryIframe이 이미 로드됨. 클릭 없이 바로 진행\n",
            "entryIframe 로드.\n",
            "Error while extracting menu/features for 교촌치킨제주시청점, div 1:\n",
            "Error while extracting menu/features for 교촌치킨제주시청점, div 2:\n"
          ]
        },
        {
          "name": "stderr",
          "output_type": "stream",
          "text": [
            " 16%|█▌        | 158/999 [57:32<4:42:11, 20.13s/it]"
          ]
        },
        {
          "name": "stdout",
          "output_type": "stream",
          "text": [
            "교촌치킨탑동점: searchIframe 로드 및 프레임 전환 완료\n",
            "교촌치킨탑동점: 링크버튼을 찾을 수 없음. xpath 대신 다른 방법 시도\n"
          ]
        },
        {
          "name": "stderr",
          "output_type": "stream",
          "text": [
            " 16%|█▌        | 159/999 [57:51<4:34:40, 19.62s/it]"
          ]
        },
        {
          "name": "stdout",
          "output_type": "stream",
          "text": [
            "Failed to load iframe after multiple attempts for 교촌치킨탑동점.\n",
            "crawling fatil : 교촌치킨탑동점 to fail_to_crawling\n",
            "교촌치킨표선점: searchIframe 로드 및 프레임 전환 완료\n",
            "교촌치킨표선점: entryIframe이 이미 로드됨. 클릭 없이 바로 진행\n",
            "entryIframe 로드.\n",
            "Error while extracting menu/features for 교촌치킨표선점, div 1:\n",
            "Error while extracting menu/features for 교촌치킨표선점, div 2:\n"
          ]
        },
        {
          "name": "stderr",
          "output_type": "stream",
          "text": [
            " 16%|█▌        | 160/999 [58:12<4:40:41, 20.07s/it]"
          ]
        },
        {
          "name": "stdout",
          "output_type": "stream",
          "text": [
            "교촌치킨함덕점: searchIframe 로드 및 프레임 전환 완료\n",
            "교촌치킨함덕점: entryIframe이 이미 로드됨. 클릭 없이 바로 진행\n",
            "entryIframe 로드.\n",
            "Error while extracting menu/features for 교촌치킨함덕점, div 1:\n",
            "Error while extracting menu/features for 교촌치킨함덕점, div 2:\n"
          ]
        },
        {
          "name": "stderr",
          "output_type": "stream",
          "text": [
            " 16%|█▌        | 161/999 [58:33<4:46:17, 20.50s/it]"
          ]
        },
        {
          "name": "stdout",
          "output_type": "stream",
          "text": [
            "구공족발: searchIframe 로드 및 프레임 전환 완료\n",
            "구공족발: 첫 번째 가게 클릭 후 전환되지 않음. 다음 가게로 진행\n",
            "entryIframe 로드.\n",
            "Error while extracting menu/features for 구공족발, div 1:\n",
            "Error while extracting menu/features for 구공족발, div 2:\n"
          ]
        },
        {
          "name": "stderr",
          "output_type": "stream",
          "text": [
            " 16%|█▌        | 162/999 [59:01<5:15:47, 22.64s/it]"
          ]
        },
        {
          "name": "stdout",
          "output_type": "stream",
          "text": [
            "구구단: searchIframe 로드 및 프레임 전환 완료\n",
            "구구단: 첫 번째 가게 클릭 후 전환되지 않음. 다음 가게로 진행\n",
            "entryIframe 로드.\n",
            "Error while extracting menu/features for 구구단, div 1:\n",
            "Error while extracting menu/features for 구구단, div 2:\n"
          ]
        },
        {
          "name": "stderr",
          "output_type": "stream",
          "text": [
            " 16%|█▋        | 163/999 [59:27<5:28:21, 23.57s/it]"
          ]
        },
        {
          "name": "stdout",
          "output_type": "stream",
          "text": [
            "구구토종닭: searchIframe 로드 및 프레임 전환 완료\n",
            "구구토종닭: entryIframe이 이미 로드됨. 클릭 없이 바로 진행\n",
            "entryIframe 로드.\n",
            "Error while extracting menu/features for 구구토종닭, div 1:\n",
            "Error while extracting menu/features for 구구토종닭, div 2:\n"
          ]
        },
        {
          "name": "stderr",
          "output_type": "stream",
          "text": [
            " 16%|█▋        | 164/999 [59:48<5:17:45, 22.83s/it]"
          ]
        },
        {
          "name": "stdout",
          "output_type": "stream",
          "text": [
            "구남로7길: searchIframe 로드 및 프레임 전환 완료\n",
            "구남로7길: 첫 번째 가게 클릭 후 전환되지 않음. 다음 가게로 진행\n",
            "entryIframe 로드.\n",
            "Error while extracting menu/features for 구남로7길, div 1:\n",
            "Error while extracting menu/features for 구남로7길, div 2:\n"
          ]
        },
        {
          "name": "stderr",
          "output_type": "stream",
          "text": [
            " 17%|█▋        | 165/999 [1:00:16<5:39:15, 24.41s/it]"
          ]
        },
        {
          "name": "stdout",
          "output_type": "stream",
          "text": [
            "구닮카페(구름을닮다): searchIframe 로드 및 프레임 전환 완료\n",
            "Error while clicking first search result for 구닮카페(구름을닮다): Unable to locate list container.\n"
          ]
        },
        {
          "name": "stderr",
          "output_type": "stream",
          "text": [
            " 17%|█▋        | 166/999 [1:00:36<5:21:37, 23.17s/it]"
          ]
        },
        {
          "name": "stdout",
          "output_type": "stream",
          "text": [
            "Failed to load iframe after multiple attempts for 구닮카페(구름을닮다).\n",
            "crawling fatil : 구닮카페(구름을닮다) to fail_to_crawling\n",
            "구도로통닭 제주삼화점: searchIframe 로드 및 프레임 전환 완료\n",
            "Error while clicking first search result for 구도로통닭 제주삼화점: Unable to locate list container.\n"
          ]
        },
        {
          "name": "stderr",
          "output_type": "stream",
          "text": [
            " 17%|█▋        | 167/999 [1:00:58<5:14:32, 22.68s/it]"
          ]
        },
        {
          "name": "stdout",
          "output_type": "stream",
          "text": [
            "Failed to load iframe after multiple attempts for 구도로통닭 제주삼화점.\n",
            "crawling fatil : 구도로통닭 제주삼화점 to fail_to_crawling\n",
            "구두미: searchIframe 로드 및 프레임 전환 완료\n",
            "구두미: 링크버튼을 찾을 수 없음. xpath 대신 다른 방법 시도\n"
          ]
        },
        {
          "name": "stderr",
          "output_type": "stream",
          "text": [
            " 17%|█▋        | 168/999 [1:01:16<4:54:22, 21.25s/it]"
          ]
        },
        {
          "name": "stdout",
          "output_type": "stream",
          "text": [
            "Failed to load iframe after multiple attempts for 구두미.\n",
            "crawling fatil : 구두미 to fail_to_crawling\n",
            "구두미바당: searchIframe 로드 및 프레임 전환 완료\n",
            "구두미바당: entryIframe이 이미 로드됨. 클릭 없이 바로 진행\n",
            "entryIframe 로드.\n"
          ]
        },
        {
          "name": "stderr",
          "output_type": "stream",
          "text": [
            " 17%|█▋        | 169/999 [1:01:37<4:52:39, 21.16s/it]"
          ]
        },
        {
          "name": "stdout",
          "output_type": "stream",
          "text": [
            "구락: searchIframe 로드 및 프레임 전환 완료\n",
            "구락: 첫 번째 가게 클릭 후 전환되지 않음. 다음 가게로 진행\n",
            "entryIframe 로드.\n",
            "Error while extracting datalab information for 구락:\n",
            "Error while navigating to reviews for 구락:\n"
          ]
        },
        {
          "name": "stderr",
          "output_type": "stream",
          "text": [
            " 17%|█▋        | 170/999 [1:02:04<5:19:14, 23.11s/it]"
          ]
        },
        {
          "name": "stdout",
          "output_type": "stream",
          "text": [
            "구럼비나무: searchIframe 로드 및 프레임 전환 완료\n",
            "구럼비나무: entryIframe이 이미 로드됨. 클릭 없이 바로 진행\n",
            "entryIframe 로드.\n",
            "Error while extracting menu/features for 구럼비나무, div 1:\n",
            "Error while extracting menu/features for 구럼비나무, div 2:\n"
          ]
        },
        {
          "name": "stderr",
          "output_type": "stream",
          "text": [
            " 17%|█▋        | 171/999 [1:02:26<5:11:36, 22.58s/it]"
          ]
        },
        {
          "name": "stdout",
          "output_type": "stream",
          "text": [
            "구르메스시: searchIframe 로드 및 프레임 전환 완료\n",
            "구르메스시: entryIframe이 이미 로드됨. 클릭 없이 바로 진행\n",
            "entryIframe 로드.\n",
            "Error while extracting menu/features for 구르메스시, div 1:\n"
          ]
        },
        {
          "name": "stderr",
          "output_type": "stream",
          "text": [
            " 17%|█▋        | 172/999 [1:02:41<4:39:43, 20.29s/it]"
          ]
        },
        {
          "name": "stdout",
          "output_type": "stream",
          "text": [
            "Error while extracting menu/features for 구르메스시, div 2:\n",
            " 사진 버튼 없음 : 구르메스시.\n",
            "구면카페: searchIframe 로드 및 프레임 전환 완료\n",
            "구면카페: entryIframe이 이미 로드됨. 클릭 없이 바로 진행\n",
            "entryIframe 로드.\n",
            "Error while extracting datalab information for 구면카페:\n",
            "Error while navigating to reviews for 구면카페:\n"
          ]
        },
        {
          "name": "stderr",
          "output_type": "stream",
          "text": [
            " 17%|█▋        | 173/999 [1:02:53<4:07:09, 17.95s/it]"
          ]
        },
        {
          "name": "stdout",
          "output_type": "stream",
          "text": [
            "이미지 추출 오류 1 for 구면카페 \n",
            "이미지 추출 오류 2 for 구면카페 \n",
            "이미지 추출 오류 3 for 구면카페 \n",
            "이미지 추출 오류 4 for 구면카페 \n",
            "이미지 추출 오류 5 for 구면카페 \n",
            "이미지 추출 오류 6 for 구면카페 \n",
            "이미지 추출 오류 7 for 구면카페 \n",
            "이미지 추출 오류 8 for 구면카페 \n",
            "이미지 추출 오류 9 for 구면카페 \n",
            "이미지 추출 오류 10 for 구면카페 \n",
            "구산식당: searchIframe 로드 및 프레임 전환 완료\n",
            "구산식당: 첫 번째 가게 클릭 후 전환되지 않음. 다음 가게로 진행\n",
            "entryIframe 로드.\n",
            "Error while extracting menu/features for 구산식당, div 1:\n",
            "Error while extracting menu/features for 구산식당, div 2:\n"
          ]
        },
        {
          "name": "stderr",
          "output_type": "stream",
          "text": [
            " 17%|█▋        | 174/999 [1:03:22<4:51:06, 21.17s/it]"
          ]
        },
        {
          "name": "stdout",
          "output_type": "stream",
          "text": [
            "구삼화로: searchIframe 로드 및 프레임 전환 완료\n",
            "Error while clicking first search result for 구삼화로: Unable to locate list container.\n"
          ]
        },
        {
          "name": "stderr",
          "output_type": "stream",
          "text": [
            " 18%|█▊        | 175/999 [1:03:42<4:48:15, 20.99s/it]"
          ]
        },
        {
          "name": "stdout",
          "output_type": "stream",
          "text": [
            "Failed to load iframe after multiple attempts for 구삼화로.\n",
            "crawling fatil : 구삼화로 to fail_to_crawling\n",
            "구씨커피로스터스: searchIframe 로드 및 프레임 전환 완료\n",
            "구씨커피로스터스: entryIframe이 이미 로드됨. 클릭 없이 바로 진행\n",
            "entryIframe 로드.\n",
            "Error while extracting menu/features for 구씨커피로스터스, div 1:\n",
            "Error while extracting menu/features for 구씨커피로스터스, div 2:\n"
          ]
        },
        {
          "name": "stderr",
          "output_type": "stream",
          "text": [
            " 18%|█▊        | 176/999 [1:04:04<4:52:20, 21.31s/it]"
          ]
        },
        {
          "name": "stdout",
          "output_type": "stream",
          "text": [
            "구어라조연탄: searchIframe 로드 및 프레임 전환 완료\n",
            "구어라조연탄: entryIframe이 이미 로드됨. 클릭 없이 바로 진행\n",
            "entryIframe 로드.\n",
            "Error while extracting menu/features for 구어라조연탄, div 1:\n",
            "Error while extracting menu/features for 구어라조연탄, div 2:\n"
          ]
        },
        {
          "name": "stderr",
          "output_type": "stream",
          "text": [
            " 18%|█▊        | 177/999 [1:04:24<4:44:05, 20.74s/it]"
          ]
        },
        {
          "name": "stdout",
          "output_type": "stream",
          "text": [
            "구억불사나이: searchIframe 로드 및 프레임 전환 완료\n",
            "구억불사나이: entryIframe이 이미 로드됨. 클릭 없이 바로 진행\n",
            "entryIframe 로드.\n",
            "Error while extracting menu/features for 구억불사나이, div 1:\n",
            "Error while extracting menu/features for 구억불사나이, div 2:\n"
          ]
        },
        {
          "name": "stderr",
          "output_type": "stream",
          "text": [
            " 18%|█▊        | 178/999 [1:04:47<4:55:21, 21.59s/it]"
          ]
        },
        {
          "name": "stdout",
          "output_type": "stream",
          "text": [
            "구엄애초밥: searchIframe 로드 및 프레임 전환 완료\n",
            "구엄애초밥: entryIframe이 이미 로드됨. 클릭 없이 바로 진행\n",
            "entryIframe 로드.\n",
            "Error while extracting menu/features for 구엄애초밥, div 1:\n",
            "Error while extracting menu/features for 구엄애초밥, div 2:\n"
          ]
        },
        {
          "name": "stderr",
          "output_type": "stream",
          "text": [
            " 18%|█▊        | 179/999 [1:05:09<4:54:20, 21.54s/it]"
          ]
        },
        {
          "name": "stdout",
          "output_type": "stream",
          "text": [
            "구엄어촌계횟집: searchIframe 로드 및 프레임 전환 완료\n",
            "Error while clicking first search result for 구엄어촌계횟집: Unable to locate list container.\n"
          ]
        },
        {
          "name": "stderr",
          "output_type": "stream",
          "text": [
            " 18%|█▊        | 180/999 [1:05:30<4:52:06, 21.40s/it]"
          ]
        },
        {
          "name": "stdout",
          "output_type": "stream",
          "text": [
            "Failed to load iframe after multiple attempts for 구엄어촌계횟집.\n",
            "crawling fatil : 구엄어촌계횟집 to fail_to_crawling\n",
            "구이구이 돌담집: searchIframe 로드 및 프레임 전환 완료\n",
            "구이구이 돌담집: 첫 번째 가게 클릭 후 전환되지 않음. 다음 가게로 진행\n",
            "entryIframe 로드.\n",
            "Error while extracting menu/features for 구이구이 돌담집, div 1:\n",
            "Error while extracting menu/features for 구이구이 돌담집, div 2:\n"
          ]
        },
        {
          "name": "stderr",
          "output_type": "stream",
          "text": [
            " 18%|█▊        | 181/999 [1:05:58<5:20:04, 23.48s/it]"
          ]
        },
        {
          "name": "stdout",
          "output_type": "stream",
          "text": [
            "구이사이: searchIframe 로드 및 프레임 전환 완료\n",
            "구이사이: 첫 번째 가게 클릭 후 전환되지 않음. 다음 가게로 진행\n",
            "entryIframe 로드.\n",
            "Error while extracting menu/features for 구이사이, div 1:\n",
            "Error while extracting menu/features for 구이사이, div 2:\n"
          ]
        },
        {
          "name": "stderr",
          "output_type": "stream",
          "text": [
            " 18%|█▊        | 182/999 [1:06:27<5:40:19, 24.99s/it]"
          ]
        },
        {
          "name": "stdout",
          "output_type": "stream",
          "text": [
            "구이소: searchIframe 로드 및 프레임 전환 완료\n",
            "구이소: 첫 번째 가게 클릭 후 전환되지 않음. 다음 가게로 진행\n",
            "entryIframe 로드.\n",
            "Error while extracting menu/features for 구이소, div 1:\n"
          ]
        },
        {
          "name": "stderr",
          "output_type": "stream",
          "text": [
            " 18%|█▊        | 183/999 [1:06:53<5:45:48, 25.43s/it]"
          ]
        },
        {
          "name": "stdout",
          "output_type": "stream",
          "text": [
            "Error while extracting menu/features for 구이소, div 2:\n",
            " 사진 버튼 없음 : 구이소.\n",
            "구이향연동점: searchIframe 로드 및 프레임 전환 완료\n",
            "Error while clicking first search result for 구이향연동점: Unable to locate list container.\n"
          ]
        },
        {
          "name": "stderr",
          "output_type": "stream",
          "text": [
            " 18%|█▊        | 184/999 [1:07:14<5:26:04, 24.01s/it]"
          ]
        },
        {
          "name": "stdout",
          "output_type": "stream",
          "text": [
            "Failed to load iframe after multiple attempts for 구이향연동점.\n",
            "crawling fatil : 구이향연동점 to fail_to_crawling\n",
            "구좌모메존흑돼지: searchIframe 로드 및 프레임 전환 완료\n",
            "구좌모메존흑돼지: entryIframe이 이미 로드됨. 클릭 없이 바로 진행\n",
            "entryIframe 로드.\n",
            "Error while extracting menu/features for 구좌모메존흑돼지, div 1:\n",
            "Error while extracting menu/features for 구좌모메존흑돼지, div 2:\n"
          ]
        },
        {
          "name": "stderr",
          "output_type": "stream",
          "text": [
            " 19%|█▊        | 185/999 [1:07:35<5:14:44, 23.20s/it]"
          ]
        },
        {
          "name": "stdout",
          "output_type": "stream",
          "text": [
            "구좌상회: searchIframe 로드 및 프레임 전환 완료\n",
            "구좌상회: entryIframe이 이미 로드됨. 클릭 없이 바로 진행\n",
            "entryIframe 로드.\n",
            "Error while extracting menu/features for 구좌상회, div 1:\n",
            "Error while extracting menu/features for 구좌상회, div 2:\n"
          ]
        },
        {
          "name": "stderr",
          "output_type": "stream",
          "text": [
            " 19%|█▊        | 186/999 [1:07:56<5:05:29, 22.55s/it]"
          ]
        },
        {
          "name": "stdout",
          "output_type": "stream",
          "text": [
            "구피풋: searchIframe 로드 및 프레임 전환 완료\n",
            "구피풋: entryIframe이 이미 로드됨. 클릭 없이 바로 진행\n",
            "entryIframe 로드.\n",
            "Error while extracting menu/features for 구피풋, div 1:\n",
            "Error while extracting menu/features for 구피풋, div 2:\n"
          ]
        },
        {
          "name": "stderr",
          "output_type": "stream",
          "text": [
            " 19%|█▊        | 187/999 [1:08:18<5:00:05, 22.17s/it]"
          ]
        },
        {
          "name": "stdout",
          "output_type": "stream",
          "text": [
            "국군복지단서귀포호텔식당: searchIframe 로드 및 프레임 전환 완료\n",
            "국군복지단서귀포호텔식당: entryIframe이 이미 로드됨. 클릭 없이 바로 진행\n",
            "entryIframe 로드.\n",
            "Error while extracting menu/features for 국군복지단서귀포호텔식당, div 1:\n",
            "Error while extracting menu/features for 국군복지단서귀포호텔식당, div 2:\n"
          ]
        },
        {
          "name": "stderr",
          "output_type": "stream",
          "text": [
            " 19%|█▉        | 188/999 [1:08:39<4:56:51, 21.96s/it]"
          ]
        },
        {
          "name": "stdout",
          "output_type": "stream",
          "text": [
            "국대전: searchIframe 로드 및 프레임 전환 완료\n",
            "국대전: 첫 번째 가게 클릭 후 전환되지 않음. 다음 가게로 진행\n",
            "entryIframe 로드.\n",
            "Error while extracting datalab information for 국대전:\n",
            "Error while extracting menu/features for 국대전, div 1:\n",
            "Error while extracting menu/features for 국대전, div 2:\n"
          ]
        },
        {
          "name": "stderr",
          "output_type": "stream",
          "text": [
            " 19%|█▉        | 189/999 [1:09:07<5:21:08, 23.79s/it]"
          ]
        },
        {
          "name": "stdout",
          "output_type": "stream",
          "text": [
            "국밥먹고가자: searchIframe 로드 및 프레임 전환 완료\n",
            "국밥먹고가자: entryIframe이 이미 로드됨. 클릭 없이 바로 진행\n",
            "entryIframe 로드.\n",
            "Error while extracting menu/features for 국밥먹고가자, div 1:\n",
            "Error while extracting menu/features for 국밥먹고가자, div 2:\n"
          ]
        },
        {
          "name": "stderr",
          "output_type": "stream",
          "text": [
            " 19%|█▉        | 190/999 [1:09:28<5:09:46, 22.97s/it]"
          ]
        },
        {
          "name": "stdout",
          "output_type": "stream",
          "text": [
            "국밥생각노형점: searchIframe 로드 및 프레임 전환 완료\n",
            "국밥생각노형점: entryIframe이 이미 로드됨. 클릭 없이 바로 진행\n",
            "entryIframe 로드.\n",
            "Error while extracting menu/features for 국밥생각노형점, div 1:\n",
            "Error while extracting menu/features for 국밥생각노형점, div 2:\n"
          ]
        },
        {
          "name": "stderr",
          "output_type": "stream",
          "text": [
            " 19%|█▉        | 191/999 [1:09:49<5:02:17, 22.45s/it]"
          ]
        },
        {
          "name": "stdout",
          "output_type": "stream",
          "text": [
            "국밥촌: searchIframe 로드 및 프레임 전환 완료\n",
            "국밥촌: 첫 번째 가게 클릭 후 전환되지 않음. 다음 가게로 진행\n",
            "entryIframe 로드.\n",
            "Error while extracting menu/features for 국밥촌, div 1:\n",
            "Error while extracting menu/features for 국밥촌, div 2:\n"
          ]
        },
        {
          "name": "stderr",
          "output_type": "stream",
          "text": [
            " 19%|█▉        | 192/999 [1:10:18<5:24:55, 24.16s/it]"
          ]
        },
        {
          "name": "stdout",
          "output_type": "stream",
          "text": [
            "국빈대반점: searchIframe 로드 및 프레임 전환 완료\n",
            "국빈대반점: 첫 번째 가게 클릭 후 전환되지 않음. 다음 가게로 진행\n",
            "entryIframe 로드.\n",
            "Error while extracting menu/features for 국빈대반점, div 1:\n",
            "Error while extracting menu/features for 국빈대반점, div 2:\n"
          ]
        },
        {
          "name": "stderr",
          "output_type": "stream",
          "text": [
            " 19%|█▉        | 193/999 [1:10:46<5:40:48, 25.37s/it]"
          ]
        },
        {
          "name": "stdout",
          "output_type": "stream",
          "text": [
            "국수1번가: searchIframe 로드 및 프레임 전환 완료\n",
            "국수1번가: 첫 번째 가게 클릭 후 전환되지 않음. 다음 가게로 진행\n",
            "entryIframe 로드.\n",
            "Error while extracting menu/features for 국수1번가, div 1:\n",
            "Error while extracting menu/features for 국수1번가, div 2:\n"
          ]
        },
        {
          "name": "stderr",
          "output_type": "stream",
          "text": [
            " 19%|█▉        | 194/999 [1:11:14<5:53:00, 26.31s/it]"
          ]
        },
        {
          "name": "stdout",
          "output_type": "stream",
          "text": [
            "국수나무노형점: searchIframe 로드 및 프레임 전환 완료\n",
            "국수나무노형점: 링크버튼을 찾을 수 없음. xpath 대신 다른 방법 시도\n"
          ]
        },
        {
          "name": "stderr",
          "output_type": "stream",
          "text": [
            " 20%|█▉        | 195/999 [1:11:32<5:18:00, 23.73s/it]"
          ]
        },
        {
          "name": "stdout",
          "output_type": "stream",
          "text": [
            "Failed to load iframe after multiple attempts for 국수나무노형점.\n",
            "crawling fatil : 국수나무노형점 to fail_to_crawling\n",
            "국수냐 국밥이냐: searchIframe 로드 및 프레임 전환 완료\n",
            "국수냐 국밥이냐: entryIframe이 이미 로드됨. 클릭 없이 바로 진행\n",
            "entryIframe 로드.\n",
            "Error while extracting menu/features for 국수냐 국밥이냐, div 1:\n",
            "Error while extracting menu/features for 국수냐 국밥이냐, div 2:\n"
          ]
        },
        {
          "name": "stderr",
          "output_type": "stream",
          "text": [
            " 20%|█▉        | 196/999 [1:11:53<5:07:05, 22.95s/it]"
          ]
        },
        {
          "name": "stdout",
          "output_type": "stream",
          "text": [
            "국수대표: searchIframe 로드 및 프레임 전환 완료\n",
            "국수대표: 첫 번째 가게 클릭 후 전환되지 않음. 다음 가게로 진행\n",
            "entryIframe 로드.\n",
            "Error while extracting menu/features for 국수대표, div 1:\n",
            "Error while extracting menu/features for 국수대표, div 2:\n"
          ]
        },
        {
          "name": "stderr",
          "output_type": "stream",
          "text": [
            " 20%|█▉        | 197/999 [1:12:21<5:27:48, 24.52s/it]"
          ]
        },
        {
          "name": "stdout",
          "output_type": "stream",
          "text": [
            "국수데이: searchIframe 로드 및 프레임 전환 완료\n",
            "국수데이: 첫 번째 가게 클릭 후 전환되지 않음. 다음 가게로 진행\n",
            "entryIframe 로드.\n",
            "Error while extracting menu/features for 국수데이, div 1:\n",
            "Error while extracting menu/features for 국수데이, div 2:\n"
          ]
        },
        {
          "name": "stderr",
          "output_type": "stream",
          "text": [
            " 20%|█▉        | 198/999 [1:12:49<5:39:46, 25.45s/it]"
          ]
        },
        {
          "name": "stdout",
          "output_type": "stream",
          "text": [
            "국수도둑: searchIframe 로드 및 프레임 전환 완료\n",
            "국수도둑: entryIframe이 이미 로드됨. 클릭 없이 바로 진행\n",
            "entryIframe 로드.\n",
            "Error while extracting menu/features for 국수도둑, div 1:\n",
            "Error while extracting menu/features for 국수도둑, div 2:\n"
          ]
        },
        {
          "name": "stderr",
          "output_type": "stream",
          "text": [
            " 20%|█▉        | 199/999 [1:13:10<5:20:53, 24.07s/it]"
          ]
        },
        {
          "name": "stdout",
          "output_type": "stream",
          "text": [
            "국수마당 본점: searchIframe 로드 및 프레임 전환 완료\n",
            "국수마당 본점: entryIframe이 이미 로드됨. 클릭 없이 바로 진행\n",
            "entryIframe 로드.\n",
            "Error while extracting menu/features for 국수마당 본점, div 1:\n"
          ]
        },
        {
          "name": "stderr",
          "output_type": "stream",
          "text": [
            " 20%|██        | 200/999 [1:13:27<4:51:41, 21.90s/it]"
          ]
        },
        {
          "name": "stdout",
          "output_type": "stream",
          "text": [
            "Error while extracting menu/features for 국수마당 본점, div 2:\n",
            " 사진 버튼 없음 : 국수마당 본점.\n",
            "국수마당본점: searchIframe 로드 및 프레임 전환 완료\n",
            "국수마당본점: entryIframe이 이미 로드됨. 클릭 없이 바로 진행\n",
            "entryIframe 로드.\n",
            "Error while extracting menu/features for 국수마당본점, div 1:\n"
          ]
        },
        {
          "name": "stderr",
          "output_type": "stream",
          "text": [
            " 20%|██        | 201/999 [1:13:44<4:32:08, 20.46s/it]"
          ]
        },
        {
          "name": "stdout",
          "output_type": "stream",
          "text": [
            "Error while extracting menu/features for 국수마당본점, div 2:\n",
            " 사진 버튼 없음 : 국수마당본점.\n",
            "국수마씸: searchIframe 로드 및 프레임 전환 완료\n",
            "국수마씸: entryIframe이 이미 로드됨. 클릭 없이 바로 진행\n",
            "entryIframe 로드.\n",
            "Error while extracting menu/features for 국수마씸, div 1:\n",
            "Error while extracting menu/features for 국수마씸, div 2:\n"
          ]
        },
        {
          "name": "stderr",
          "output_type": "stream",
          "text": [
            " 20%|██        | 202/999 [1:14:07<4:43:04, 21.31s/it]"
          ]
        },
        {
          "name": "stdout",
          "output_type": "stream",
          "text": [
            "국수먹고가게: searchIframe 로드 및 프레임 전환 완료\n",
            "국수먹고가게: 첫 번째 가게 클릭 후 전환되지 않음. 다음 가게로 진행\n",
            "entryIframe 로드.\n",
            "Error while extracting menu/features for 국수먹고가게, div 1:\n",
            "Error while extracting menu/features for 국수먹고가게, div 2:\n"
          ]
        },
        {
          "name": "stderr",
          "output_type": "stream",
          "text": [
            " 20%|██        | 203/999 [1:14:35<5:09:24, 23.32s/it]"
          ]
        },
        {
          "name": "stdout",
          "output_type": "stream",
          "text": [
            "국수명가: searchIframe 로드 및 프레임 전환 완료\n",
            "국수명가: 첫 번째 가게 클릭 후 전환되지 않음. 다음 가게로 진행\n",
            "entryIframe 로드.\n",
            "Error while extracting menu/features for 국수명가, div 1:\n",
            "Error while extracting menu/features for 국수명가, div 2:\n"
          ]
        },
        {
          "name": "stderr",
          "output_type": "stream",
          "text": [
            " 20%|██        | 204/999 [1:15:04<5:30:54, 24.97s/it]"
          ]
        },
        {
          "name": "stdout",
          "output_type": "stream",
          "text": [
            "국수몰고랑: searchIframe 로드 및 프레임 전환 완료\n",
            "국수몰고랑: entryIframe이 이미 로드됨. 클릭 없이 바로 진행\n",
            "entryIframe 로드.\n",
            "Error while extracting menu/features for 국수몰고랑, div 1:\n",
            "Error while extracting menu/features for 국수몰고랑, div 2:\n"
          ]
        },
        {
          "name": "stderr",
          "output_type": "stream",
          "text": [
            " 21%|██        | 205/999 [1:15:25<5:14:58, 23.80s/it]"
          ]
        },
        {
          "name": "stdout",
          "output_type": "stream",
          "text": [
            "국수몽: searchIframe 로드 및 프레임 전환 완료\n",
            "국수몽: entryIframe이 이미 로드됨. 클릭 없이 바로 진행\n",
            "entryIframe 로드.\n",
            "Error while extracting menu/features for 국수몽, div 1:\n",
            "Error while extracting menu/features for 국수몽, div 2:\n"
          ]
        },
        {
          "name": "stderr",
          "output_type": "stream",
          "text": [
            " 21%|██        | 206/999 [1:15:46<5:03:31, 22.97s/it]"
          ]
        },
        {
          "name": "stdout",
          "output_type": "stream",
          "text": [
            "국수바다 본점: searchIframe 로드 및 프레임 전환 완료\n",
            "국수바다 본점: entryIframe이 이미 로드됨. 클릭 없이 바로 진행\n",
            "entryIframe 로드.\n",
            "Error while extracting menu/features for 국수바다 본점, div 1:\n",
            "Error while extracting menu/features for 국수바다 본점, div 2:\n"
          ]
        },
        {
          "name": "stderr",
          "output_type": "stream",
          "text": [
            " 21%|██        | 207/999 [1:16:08<5:00:08, 22.74s/it]"
          ]
        },
        {
          "name": "stdout",
          "output_type": "stream",
          "text": [
            "국수바다본점: searchIframe 로드 및 프레임 전환 완료\n",
            "국수바다본점: entryIframe이 이미 로드됨. 클릭 없이 바로 진행\n",
            "entryIframe 로드.\n",
            "Error while extracting menu/features for 국수바다본점, div 1:\n",
            "Error while extracting menu/features for 국수바다본점, div 2:\n"
          ]
        },
        {
          "name": "stderr",
          "output_type": "stream",
          "text": [
            " 21%|██        | 208/999 [1:16:32<5:02:29, 22.94s/it]"
          ]
        },
        {
          "name": "stdout",
          "output_type": "stream",
          "text": [
            "국수사랑: searchIframe 로드 및 프레임 전환 완료\n",
            "국수사랑: 첫 번째 가게 클릭 후 전환되지 않음. 다음 가게로 진행\n",
            "entryIframe 로드.\n",
            "Error while extracting menu/features for 국수사랑, div 1:\n",
            "Error while extracting menu/features for 국수사랑, div 2:\n"
          ]
        },
        {
          "name": "stderr",
          "output_type": "stream",
          "text": [
            " 21%|██        | 209/999 [1:16:59<5:21:55, 24.45s/it]"
          ]
        },
        {
          "name": "stdout",
          "output_type": "stream",
          "text": [
            "국수앤: searchIframe 로드 및 프레임 전환 완료\n",
            "국수앤: 첫 번째 가게 클릭 후 전환되지 않음. 다음 가게로 진행\n",
            "entryIframe 로드.\n",
            "Error while extracting menu/features for 국수앤, div 1:\n",
            "Error while extracting menu/features for 국수앤, div 2:\n"
          ]
        },
        {
          "name": "stderr",
          "output_type": "stream",
          "text": [
            " 21%|██        | 210/999 [1:17:30<5:45:37, 26.28s/it]"
          ]
        },
        {
          "name": "stdout",
          "output_type": "stream",
          "text": [
            "국수와냉면: searchIframe 로드 및 프레임 전환 완료\n",
            "국수와냉면: 첫 번째 가게 클릭 후 전환되지 않음. 다음 가게로 진행\n",
            "entryIframe 로드.\n",
            "Error while extracting menu/features for 국수와냉면, div 1:\n",
            "Error while extracting menu/features for 국수와냉면, div 2:\n"
          ]
        },
        {
          "name": "stderr",
          "output_type": "stream",
          "text": [
            " 21%|██        | 211/999 [1:17:58<5:51:18, 26.75s/it]"
          ]
        },
        {
          "name": "stdout",
          "output_type": "stream",
          "text": [
            "국수와야식: searchIframe 로드 및 프레임 전환 완료\n",
            "국수와야식: 링크버튼을 찾을 수 없음. xpath 대신 다른 방법 시도\n"
          ]
        },
        {
          "name": "stderr",
          "output_type": "stream",
          "text": [
            " 21%|██        | 212/999 [1:18:16<5:16:32, 24.13s/it]"
          ]
        },
        {
          "name": "stdout",
          "output_type": "stream",
          "text": [
            "Failed to load iframe after multiple attempts for 국수와야식.\n",
            "crawling fatil : 국수와야식 to fail_to_crawling\n",
            "국수와의 미팅: searchIframe 로드 및 프레임 전환 완료\n",
            "국수와의 미팅: entryIframe이 이미 로드됨. 클릭 없이 바로 진행\n",
            "entryIframe 로드.\n",
            "Error while extracting menu/features for 국수와의 미팅, div 1:\n",
            "Error while extracting menu/features for 국수와의 미팅, div 2:\n"
          ]
        },
        {
          "name": "stderr",
          "output_type": "stream",
          "text": [
            " 21%|██▏       | 213/999 [1:18:38<5:06:15, 23.38s/it]"
          ]
        },
        {
          "name": "stdout",
          "output_type": "stream",
          "text": [
            "국수의전설: searchIframe 로드 및 프레임 전환 완료\n",
            "국수의전설: entryIframe이 이미 로드됨. 클릭 없이 바로 진행\n",
            "entryIframe 로드.\n",
            "Error while extracting menu/features for 국수의전설, div 1:\n",
            "Error while extracting menu/features for 국수의전설, div 2:\n"
          ]
        },
        {
          "name": "stderr",
          "output_type": "stream",
          "text": [
            " 21%|██▏       | 214/999 [1:19:00<5:00:55, 23.00s/it]"
          ]
        },
        {
          "name": "stdout",
          "output_type": "stream",
          "text": [
            "국수장터: searchIframe 로드 및 프레임 전환 완료\n",
            "국수장터: 첫 번째 가게 클릭 후 전환되지 않음. 다음 가게로 진행\n",
            "entryIframe 로드.\n",
            "Error while extracting menu/features for 국수장터, div 1:\n",
            "Error while extracting menu/features for 국수장터, div 2:\n"
          ]
        },
        {
          "name": "stderr",
          "output_type": "stream",
          "text": [
            " 22%|██▏       | 215/999 [1:19:25<5:11:26, 23.84s/it]"
          ]
        },
        {
          "name": "stdout",
          "output_type": "stream",
          "text": [
            "국수전: searchIframe 로드 및 프레임 전환 완료\n",
            "국수전: 링크버튼을 찾을 수 없음. xpath 대신 다른 방법 시도\n"
          ]
        },
        {
          "name": "stderr",
          "output_type": "stream",
          "text": [
            " 22%|██▏       | 216/999 [1:19:43<4:48:06, 22.08s/it]"
          ]
        },
        {
          "name": "stdout",
          "output_type": "stream",
          "text": [
            "Failed to load iframe after multiple attempts for 국수전.\n",
            "crawling fatil : 국수전 to fail_to_crawling\n",
            "국수탐나: searchIframe 로드 및 프레임 전환 완료\n",
            "국수탐나: 첫 번째 가게 클릭 후 전환되지 않음. 다음 가게로 진행\n",
            "entryIframe 로드.\n",
            "Error while extracting menu/features for 국수탐나, div 1:\n",
            "Error while extracting menu/features for 국수탐나, div 2:\n"
          ]
        },
        {
          "name": "stderr",
          "output_type": "stream",
          "text": [
            " 22%|██▏       | 217/999 [1:20:13<5:18:10, 24.41s/it]"
          ]
        },
        {
          "name": "stdout",
          "output_type": "stream",
          "text": [
            "국시트멍: searchIframe 로드 및 프레임 전환 완료\n",
            "국시트멍: entryIframe이 이미 로드됨. 클릭 없이 바로 진행\n",
            "entryIframe 로드.\n",
            "Error while extracting menu/features for 국시트멍, div 1:\n",
            "Error while extracting menu/features for 국시트멍, div 2:\n"
          ]
        },
        {
          "name": "stderr",
          "output_type": "stream",
          "text": [
            " 22%|██▏       | 218/999 [1:20:37<5:13:19, 24.07s/it]"
          ]
        },
        {
          "name": "stdout",
          "output_type": "stream",
          "text": [
            "국제부두토산품스낵: searchIframe 로드 및 프레임 전환 완료\n",
            "국제부두토산품스낵: entryIframe이 이미 로드됨. 클릭 없이 바로 진행\n",
            "entryIframe 로드.\n",
            "Error while extracting menu/features for 국제부두토산품스낵, div 1:\n",
            "Error while extracting menu/features for 국제부두토산품스낵, div 2:\n"
          ]
        },
        {
          "name": "stderr",
          "output_type": "stream",
          "text": [
            " 22%|██▏       | 219/999 [1:20:58<5:01:52, 23.22s/it]"
          ]
        },
        {
          "name": "stdout",
          "output_type": "stream",
          "text": [
            "국제토산품스낵: searchIframe 로드 및 프레임 전환 완료\n",
            "국제토산품스낵: entryIframe이 이미 로드됨. 클릭 없이 바로 진행\n",
            "entryIframe 로드.\n",
            "Error while extracting menu/features for 국제토산품스낵, div 1:\n",
            "Error while extracting menu/features for 국제토산품스낵, div 2:\n"
          ]
        },
        {
          "name": "stderr",
          "output_type": "stream",
          "text": [
            " 22%|██▏       | 220/999 [1:21:19<4:53:07, 22.58s/it]"
          ]
        },
        {
          "name": "stdout",
          "output_type": "stream",
          "text": [
            "국제통닭 신제주점: searchIframe 로드 및 프레임 전환 완료\n",
            "국제통닭 신제주점: entryIframe이 이미 로드됨. 클릭 없이 바로 진행\n",
            "entryIframe 로드.\n",
            "Error while extracting menu/features for 국제통닭 신제주점, div 1:\n",
            "Error while extracting menu/features for 국제통닭 신제주점, div 2:\n"
          ]
        },
        {
          "name": "stderr",
          "output_type": "stream",
          "text": [
            " 22%|██▏       | 221/999 [1:21:38<4:39:44, 21.57s/it]"
          ]
        },
        {
          "name": "stdout",
          "output_type": "stream",
          "text": [
            "군산소문난해물칼국수: searchIframe 로드 및 프레임 전환 완료\n",
            "군산소문난해물칼국수: entryIframe이 이미 로드됨. 클릭 없이 바로 진행\n",
            "entryIframe 로드.\n",
            "Error while extracting menu/features for 군산소문난해물칼국수, div 1:\n",
            "Error while extracting menu/features for 군산소문난해물칼국수, div 2:\n"
          ]
        },
        {
          "name": "stderr",
          "output_type": "stream",
          "text": [
            " 22%|██▏       | 222/999 [1:21:59<4:38:06, 21.48s/it]"
          ]
        },
        {
          "name": "stdout",
          "output_type": "stream",
          "text": [
            "군산식당: searchIframe 로드 및 프레임 전환 완료\n",
            "군산식당: 링크버튼을 찾을 수 없음. xpath 대신 다른 방법 시도\n"
          ]
        },
        {
          "name": "stderr",
          "output_type": "stream",
          "text": [
            " 22%|██▏       | 223/999 [1:22:19<4:32:01, 21.03s/it]"
          ]
        },
        {
          "name": "stdout",
          "output_type": "stream",
          "text": [
            "Failed to load iframe after multiple attempts for 군산식당.\n",
            "crawling fatil : 군산식당 to fail_to_crawling\n",
            "군자대한곱창제주서귀포점: searchIframe 로드 및 프레임 전환 완료\n",
            "Error while clicking first search result for 군자대한곱창제주서귀포점: Unable to locate list container.\n"
          ]
        },
        {
          "name": "stderr",
          "output_type": "stream",
          "text": [
            " 22%|██▏       | 224/999 [1:22:40<4:30:53, 20.97s/it]"
          ]
        },
        {
          "name": "stdout",
          "output_type": "stream",
          "text": [
            "Failed to load iframe after multiple attempts for 군자대한곱창제주서귀포점.\n",
            "crawling fatil : 군자대한곱창제주서귀포점 to fail_to_crawling\n",
            "군족: searchIframe 로드 및 프레임 전환 완료\n",
            "군족: 첫 번째 가게 클릭 후 전환되지 않음. 다음 가게로 진행\n",
            "entryIframe 로드.\n",
            "Error while extracting menu/features for 군족, div 1:\n",
            "Error while extracting menu/features for 군족, div 2:\n"
          ]
        },
        {
          "name": "stderr",
          "output_type": "stream",
          "text": [
            " 23%|██▎       | 225/999 [1:23:08<4:57:55, 23.09s/it]"
          ]
        },
        {
          "name": "stdout",
          "output_type": "stream",
          "text": [
            "군족 강정점: searchIframe 로드 및 프레임 전환 완료\n",
            "Error while clicking first search result for 군족 강정점: Unable to locate list container.\n"
          ]
        },
        {
          "name": "stderr",
          "output_type": "stream",
          "text": [
            " 23%|██▎       | 226/999 [1:23:29<4:48:19, 22.38s/it]"
          ]
        },
        {
          "name": "stdout",
          "output_type": "stream",
          "text": [
            "Failed to load iframe after multiple attempts for 군족 강정점.\n",
            "crawling fatil : 군족 강정점 to fail_to_crawling\n",
            "군족서귀포점: searchIframe 로드 및 프레임 전환 완료\n",
            "군족서귀포점: entryIframe이 이미 로드됨. 클릭 없이 바로 진행\n",
            "entryIframe 로드.\n",
            "Error while extracting menu/features for 군족서귀포점, div 1:\n",
            "Error while extracting menu/features for 군족서귀포점, div 2:\n"
          ]
        },
        {
          "name": "stderr",
          "output_type": "stream",
          "text": [
            " 23%|██▎       | 227/999 [1:23:50<4:43:15, 22.02s/it]"
          ]
        },
        {
          "name": "stdout",
          "output_type": "stream",
          "text": [
            "굼부리식당: searchIframe 로드 및 프레임 전환 완료\n",
            "굼부리식당: entryIframe이 이미 로드됨. 클릭 없이 바로 진행\n",
            "entryIframe 로드.\n",
            "Error while extracting menu/features for 굼부리식당, div 1:\n",
            "Error while extracting menu/features for 굼부리식당, div 2:\n"
          ]
        },
        {
          "name": "stderr",
          "output_type": "stream",
          "text": [
            " 23%|██▎       | 228/999 [1:24:11<4:39:28, 21.75s/it]"
          ]
        },
        {
          "name": "stdout",
          "output_type": "stream",
          "text": [
            "굽네치킨 도남점: searchIframe 로드 및 프레임 전환 완료\n",
            "굽네치킨 도남점: entryIframe이 이미 로드됨. 클릭 없이 바로 진행\n",
            "entryIframe 로드.\n",
            "Error while extracting menu/features for 굽네치킨 도남점, div 1:\n",
            "Error while extracting menu/features for 굽네치킨 도남점, div 2:\n"
          ]
        },
        {
          "name": "stderr",
          "output_type": "stream",
          "text": [
            " 23%|██▎       | 229/999 [1:24:33<4:39:35, 21.79s/it]"
          ]
        },
        {
          "name": "stdout",
          "output_type": "stream",
          "text": [
            "굽네치킨 성산점: searchIframe 로드 및 프레임 전환 완료\n",
            "굽네치킨 성산점: entryIframe이 이미 로드됨. 클릭 없이 바로 진행\n",
            "entryIframe 로드.\n",
            "Error while extracting menu/features for 굽네치킨 성산점, div 1:\n",
            "Error while extracting menu/features for 굽네치킨 성산점, div 2:\n"
          ]
        },
        {
          "name": "stderr",
          "output_type": "stream",
          "text": [
            " 23%|██▎       | 230/999 [1:24:53<4:30:06, 21.07s/it]"
          ]
        },
        {
          "name": "stdout",
          "output_type": "stream",
          "text": [
            "굽네치킨 연동점: searchIframe 로드 및 프레임 전환 완료\n",
            "굽네치킨 연동점: 링크버튼을 찾을 수 없음. xpath 대신 다른 방법 시도\n"
          ]
        },
        {
          "name": "stderr",
          "output_type": "stream",
          "text": [
            " 23%|██▎       | 231/999 [1:25:11<4:18:49, 20.22s/it]"
          ]
        },
        {
          "name": "stdout",
          "output_type": "stream",
          "text": [
            "Failed to load iframe after multiple attempts for 굽네치킨 연동점.\n",
            "crawling fatil : 굽네치킨 연동점 to fail_to_crawling\n",
            "굽네치킨 영어도시점: searchIframe 로드 및 프레임 전환 완료\n",
            "굽네치킨 영어도시점: entryIframe이 이미 로드됨. 클릭 없이 바로 진행\n",
            "entryIframe 로드.\n",
            "Error while extracting menu/features for 굽네치킨 영어도시점, div 1:\n",
            "Error while extracting menu/features for 굽네치킨 영어도시점, div 2:\n"
          ]
        },
        {
          "name": "stderr",
          "output_type": "stream",
          "text": [
            " 23%|██▎       | 232/999 [1:25:34<4:29:00, 21.04s/it]"
          ]
        },
        {
          "name": "stdout",
          "output_type": "stream",
          "text": [
            "굽네치킨 영평점: searchIframe 로드 및 프레임 전환 완료\n",
            "굽네치킨 영평점: entryIframe이 이미 로드됨. 클릭 없이 바로 진행\n",
            "entryIframe 로드.\n",
            "Error while extracting menu/features for 굽네치킨 영평점, div 1:\n",
            "Error while extracting menu/features for 굽네치킨 영평점, div 2:\n"
          ]
        },
        {
          "name": "stderr",
          "output_type": "stream",
          "text": [
            " 23%|██▎       | 233/999 [1:25:55<4:30:23, 21.18s/it]"
          ]
        },
        {
          "name": "stdout",
          "output_type": "stream",
          "text": [
            "굽네치킨 외도점: searchIframe 로드 및 프레임 전환 완료\n",
            "굽네치킨 외도점: 링크버튼을 찾을 수 없음. xpath 대신 다른 방법 시도\n"
          ]
        },
        {
          "name": "stderr",
          "output_type": "stream",
          "text": [
            " 23%|██▎       | 234/999 [1:26:14<4:19:15, 20.33s/it]"
          ]
        },
        {
          "name": "stdout",
          "output_type": "stream",
          "text": [
            "Failed to load iframe after multiple attempts for 굽네치킨 외도점.\n",
            "crawling fatil : 굽네치킨 외도점 to fail_to_crawling\n",
            "굽네치킨동홍점: searchIframe 로드 및 프레임 전환 완료\n",
            "굽네치킨동홍점: entryIframe이 이미 로드됨. 클릭 없이 바로 진행\n",
            "entryIframe 로드.\n",
            "Error while extracting menu/features for 굽네치킨동홍점, div 1:\n",
            "Error while extracting menu/features for 굽네치킨동홍점, div 2:\n"
          ]
        },
        {
          "name": "stderr",
          "output_type": "stream",
          "text": [
            " 24%|██▎       | 235/999 [1:26:35<4:23:11, 20.67s/it]"
          ]
        },
        {
          "name": "stdout",
          "output_type": "stream",
          "text": [
            "굽네치킨애월점: searchIframe 로드 및 프레임 전환 완료\n",
            "굽네치킨애월점: entryIframe이 이미 로드됨. 클릭 없이 바로 진행\n",
            "entryIframe 로드.\n",
            "Error while extracting datalab information for 굽네치킨애월점:\n",
            "Error while extracting menu/features for 굽네치킨애월점, div 1:\n",
            "Error while navigating to reviews for 굽네치킨애월점:\n"
          ]
        },
        {
          "name": "stderr",
          "output_type": "stream",
          "text": [
            " 24%|██▎       | 236/999 [1:26:56<4:24:49, 20.82s/it]"
          ]
        },
        {
          "name": "stdout",
          "output_type": "stream",
          "text": [
            "이미지 추출 오류 9 for 굽네치킨애월점 \n",
            "이미지 추출 오류 10 for 굽네치킨애월점 \n",
            "굽네치킨표선점: searchIframe 로드 및 프레임 전환 완료\n",
            "굽네치킨표선점: entryIframe이 이미 로드됨. 클릭 없이 바로 진행\n",
            "entryIframe 로드.\n",
            "Error while extracting menu/features for 굽네치킨표선점, div 1:\n",
            "Error while extracting menu/features for 굽네치킨표선점, div 2:\n"
          ]
        },
        {
          "name": "stderr",
          "output_type": "stream",
          "text": [
            " 24%|██▎       | 237/999 [1:27:19<4:33:11, 21.51s/it]"
          ]
        },
        {
          "name": "stdout",
          "output_type": "stream",
          "text": [
            "굽네치킨한림점: searchIframe 로드 및 프레임 전환 완료\n",
            "굽네치킨한림점: 첫 번째 가게 클릭 후 전환되지 않음. 다음 가게로 진행\n",
            "entryIframe 로드.\n",
            "Error while extracting menu/features for 굽네치킨한림점, div 1:\n",
            "Error while extracting menu/features for 굽네치킨한림점, div 2:\n"
          ]
        },
        {
          "name": "stderr",
          "output_type": "stream",
          "text": [
            " 24%|██▍       | 238/999 [1:27:47<4:56:25, 23.37s/it]"
          ]
        },
        {
          "name": "stdout",
          "output_type": "stream",
          "text": [
            "굽네치킨화북삼양점: searchIframe 로드 및 프레임 전환 완료\n",
            "굽네치킨화북삼양점: entryIframe이 이미 로드됨. 클릭 없이 바로 진행\n",
            "entryIframe 로드.\n",
            "Error while extracting menu/features for 굽네치킨화북삼양점, div 1:\n",
            "Error while extracting menu/features for 굽네치킨화북삼양점, div 2:\n"
          ]
        },
        {
          "name": "stderr",
          "output_type": "stream",
          "text": [
            " 24%|██▍       | 239/999 [1:28:08<4:46:17, 22.60s/it]"
          ]
        },
        {
          "name": "stdout",
          "output_type": "stream",
          "text": [
            "굽써: searchIframe 로드 및 프레임 전환 완료\n",
            "굽써: entryIframe이 이미 로드됨. 클릭 없이 바로 진행\n",
            "entryIframe 로드.\n"
          ]
        },
        {
          "name": "stderr",
          "output_type": "stream",
          "text": [
            " 24%|██▍       | 240/999 [1:28:18<4:00:02, 18.98s/it]"
          ]
        },
        {
          "name": "stdout",
          "output_type": "stream",
          "text": [
            "Error while navigating to reviews for 굽써:\n",
            " 사진 버튼 없음 : 굽써.\n",
            "궁중삼계탕: searchIframe 로드 및 프레임 전환 완료\n",
            "궁중삼계탕: 첫 번째 가게 클릭 후 전환되지 않음. 다음 가게로 진행\n",
            "entryIframe 로드.\n",
            "Error while extracting menu/features for 궁중삼계탕, div 1:\n",
            "Error while extracting menu/features for 궁중삼계탕, div 2:\n"
          ]
        },
        {
          "name": "stderr",
          "output_type": "stream",
          "text": [
            " 24%|██▍       | 241/999 [1:28:47<4:34:40, 21.74s/it]"
          ]
        },
        {
          "name": "stdout",
          "output_type": "stream",
          "text": [
            "궁중오메기떡: searchIframe 로드 및 프레임 전환 완료\n",
            "궁중오메기떡: 첫 번째 가게 클릭 후 전환되지 않음. 다음 가게로 진행\n",
            "entryIframe 로드.\n",
            "Error while extracting datalab information for 궁중오메기떡:\n",
            "Error while navigating to reviews for 궁중오메기떡:\n"
          ]
        },
        {
          "name": "stderr",
          "output_type": "stream",
          "text": [
            " 24%|██▍       | 242/999 [1:29:14<4:55:36, 23.43s/it]"
          ]
        },
        {
          "name": "stdout",
          "output_type": "stream",
          "text": [
            "궁한스샤브신제주점: searchIframe 로드 및 프레임 전환 완료\n",
            "궁한스샤브신제주점: entryIframe이 이미 로드됨. 클릭 없이 바로 진행\n",
            "entryIframe 로드.\n",
            "Error while extracting menu/features for 궁한스샤브신제주점, div 1:\n",
            "Error while extracting menu/features for 궁한스샤브신제주점, div 2:\n"
          ]
        },
        {
          "name": "stderr",
          "output_type": "stream",
          "text": [
            " 24%|██▍       | 243/999 [1:29:36<4:50:18, 23.04s/it]"
          ]
        },
        {
          "name": "stdout",
          "output_type": "stream",
          "text": [
            "궁한스샤브제주일도점: searchIframe 로드 및 프레임 전환 완료\n",
            "궁한스샤브제주일도점: entryIframe이 이미 로드됨. 클릭 없이 바로 진행\n",
            "entryIframe 로드.\n",
            "Error while extracting menu/features for 궁한스샤브제주일도점, div 1:\n",
            "Error while extracting menu/features for 궁한스샤브제주일도점, div 2:\n"
          ]
        },
        {
          "name": "stderr",
          "output_type": "stream",
          "text": [
            " 24%|██▍       | 244/999 [1:29:56<4:36:48, 22.00s/it]"
          ]
        },
        {
          "name": "stdout",
          "output_type": "stream",
          "text": [
            "권가칼국수: searchIframe 로드 및 프레임 전환 완료\n",
            "권가칼국수: 첫 번째 가게 클릭 후 전환되지 않음. 다음 가게로 진행\n",
            "entryIframe 로드.\n",
            "Error while extracting menu/features for 권가칼국수, div 1:\n",
            "Error while extracting menu/features for 권가칼국수, div 2:\n"
          ]
        },
        {
          "name": "stderr",
          "output_type": "stream",
          "text": [
            " 25%|██▍       | 245/999 [1:30:24<5:00:58, 23.95s/it]"
          ]
        },
        {
          "name": "stdout",
          "output_type": "stream",
          "text": [
            "귀덕간식: searchIframe 로드 및 프레임 전환 완료\n",
            "Error while clicking first search result for 귀덕간식: Unable to locate list container.\n"
          ]
        },
        {
          "name": "stderr",
          "output_type": "stream",
          "text": [
            " 25%|██▍       | 246/999 [1:30:45<4:49:19, 23.05s/it]"
          ]
        },
        {
          "name": "stdout",
          "output_type": "stream",
          "text": [
            "Failed to load iframe after multiple attempts for 귀덕간식.\n",
            "crawling fatil : 귀덕간식 to fail_to_crawling\n",
            "귀동이네: searchIframe 로드 및 프레임 전환 완료\n",
            "귀동이네: 링크버튼을 찾을 수 없음. xpath 대신 다른 방법 시도\n"
          ]
        },
        {
          "name": "stderr",
          "output_type": "stream",
          "text": [
            " 25%|██▍       | 247/999 [1:31:03<4:28:03, 21.39s/it]"
          ]
        },
        {
          "name": "stdout",
          "output_type": "stream",
          "text": [
            "Failed to load iframe after multiple attempts for 귀동이네.\n",
            "crawling fatil : 귀동이네 to fail_to_crawling\n",
            "귀빈반점: searchIframe 로드 및 프레임 전환 완료\n",
            "귀빈반점: 링크버튼을 찾을 수 없음. xpath 대신 다른 방법 시도\n"
          ]
        },
        {
          "name": "stderr",
          "output_type": "stream",
          "text": [
            " 25%|██▍       | 248/999 [1:31:20<4:14:42, 20.35s/it]"
          ]
        },
        {
          "name": "stdout",
          "output_type": "stream",
          "text": [
            "Failed to load iframe after multiple attempts for 귀빈반점.\n",
            "crawling fatil : 귀빈반점 to fail_to_crawling\n",
            "귀빈식당: searchIframe 로드 및 프레임 전환 완료\n",
            "귀빈식당: 링크버튼을 찾을 수 없음. xpath 대신 다른 방법 시도\n"
          ]
        },
        {
          "name": "stderr",
          "output_type": "stream",
          "text": [
            " 25%|██▍       | 249/999 [1:31:39<4:05:39, 19.65s/it]"
          ]
        },
        {
          "name": "stdout",
          "output_type": "stream",
          "text": [
            "Failed to load iframe after multiple attempts for 귀빈식당.\n",
            "crawling fatil : 귀빈식당 to fail_to_crawling\n",
            "귀한족발 신제주점: searchIframe 로드 및 프레임 전환 완료\n",
            "귀한족발 신제주점: entryIframe이 이미 로드됨. 클릭 없이 바로 진행\n",
            "entryIframe 로드.\n",
            "Error while extracting menu/features for 귀한족발 신제주점, div 1:\n",
            "Error while extracting menu/features for 귀한족발 신제주점, div 2:\n"
          ]
        },
        {
          "name": "stderr",
          "output_type": "stream",
          "text": [
            " 25%|██▌       | 250/999 [1:32:00<4:13:06, 20.28s/it]"
          ]
        },
        {
          "name": "stdout",
          "output_type": "stream",
          "text": [
            "귀한족발제주일도점: searchIframe 로드 및 프레임 전환 완료\n",
            "귀한족발제주일도점: entryIframe이 이미 로드됨. 클릭 없이 바로 진행\n",
            "entryIframe 로드.\n",
            "Error while extracting menu/features for 귀한족발제주일도점, div 1:\n",
            "Error while extracting menu/features for 귀한족발제주일도점, div 2:\n"
          ]
        },
        {
          "name": "stderr",
          "output_type": "stream",
          "text": [
            " 25%|██▌       | 251/999 [1:32:21<4:15:12, 20.47s/it]"
          ]
        },
        {
          "name": "stdout",
          "output_type": "stream",
          "text": [
            "규방: searchIframe 로드 및 프레임 전환 완료\n",
            "규방: 첫 번째 가게 클릭 후 전환되지 않음. 다음 가게로 진행\n",
            "entryIframe 로드.\n"
          ]
        },
        {
          "name": "stderr",
          "output_type": "stream",
          "text": [
            " 25%|██▌       | 252/999 [1:32:45<4:28:09, 21.54s/it]"
          ]
        },
        {
          "name": "stdout",
          "output_type": "stream",
          "text": [
            "Error while extracting menu/features for 규방, div 1:\n",
            "Error while extracting menu/features for 규방, div 2:\n",
            " 사진 버튼 없음 : 규방.\n",
            "규영이네: searchIframe 로드 및 프레임 전환 완료\n",
            "규영이네: 링크버튼을 찾을 수 없음. xpath 대신 다른 방법 시도\n"
          ]
        },
        {
          "name": "stderr",
          "output_type": "stream",
          "text": [
            " 25%|██▌       | 253/999 [1:33:03<4:13:26, 20.38s/it]"
          ]
        },
        {
          "name": "stdout",
          "output_type": "stream",
          "text": [
            "Failed to load iframe after multiple attempts for 규영이네.\n",
            "crawling fatil : 규영이네 to fail_to_crawling\n",
            "규태네: searchIframe 로드 및 프레임 전환 완료\n",
            "규태네: 첫 번째 가게 클릭 후 전환되지 않음. 다음 가게로 진행\n",
            "entryIframe 로드.\n",
            "Error while extracting menu/features for 규태네, div 1:\n",
            "Error while extracting menu/features for 규태네, div 2:\n"
          ]
        },
        {
          "name": "stderr",
          "output_type": "stream",
          "text": [
            " 25%|██▌       | 254/999 [1:33:29<4:35:03, 22.15s/it]"
          ]
        },
        {
          "name": "stdout",
          "output_type": "stream",
          "text": [
            "규태네남녕점: searchIframe 로드 및 프레임 전환 완료\n",
            "규태네남녕점: entryIframe이 이미 로드됨. 클릭 없이 바로 진행\n",
            "entryIframe 로드.\n",
            "Error while extracting menu/features for 규태네남녕점, div 1:\n",
            "Error while extracting menu/features for 규태네남녕점, div 2:\n"
          ]
        },
        {
          "name": "stderr",
          "output_type": "stream",
          "text": [
            " 26%|██▌       | 255/999 [1:33:50<4:30:16, 21.80s/it]"
          ]
        },
        {
          "name": "stdout",
          "output_type": "stream",
          "text": [
            "귤꽃다락: searchIframe 로드 및 프레임 전환 완료\n",
            "귤꽃다락: entryIframe이 이미 로드됨. 클릭 없이 바로 진행\n",
            "entryIframe 로드.\n",
            "Error while extracting menu/features for 귤꽃다락, div 1:\n",
            "Error while extracting menu/features for 귤꽃다락, div 2:\n"
          ]
        },
        {
          "name": "stderr",
          "output_type": "stream",
          "text": [
            " 26%|██▌       | 256/999 [1:34:12<4:29:23, 21.75s/it]"
          ]
        },
        {
          "name": "stdout",
          "output_type": "stream",
          "text": [
            "귤냥: searchIframe 로드 및 프레임 전환 완료\n",
            "귤냥: entryIframe이 이미 로드됨. 클릭 없이 바로 진행\n",
            "entryIframe 로드.\n",
            "Error while extracting menu/features for 귤냥, div 1:\n",
            "Error while extracting menu/features for 귤냥, div 2:\n"
          ]
        },
        {
          "name": "stderr",
          "output_type": "stream",
          "text": [
            " 26%|██▌       | 257/999 [1:34:33<4:26:07, 21.52s/it]"
          ]
        },
        {
          "name": "stdout",
          "output_type": "stream",
          "text": [
            "귤당리: searchIframe 로드 및 프레임 전환 완료\n",
            "귤당리: entryIframe이 이미 로드됨. 클릭 없이 바로 진행\n",
            "entryIframe 로드.\n"
          ]
        },
        {
          "name": "stderr",
          "output_type": "stream",
          "text": [
            " 26%|██▌       | 258/999 [1:34:45<3:52:09, 18.80s/it]"
          ]
        },
        {
          "name": "stdout",
          "output_type": "stream",
          "text": [
            "Error while navigating to reviews for 귤당리:\n",
            " 사진 버튼 없음 : 귤당리.\n",
            "귤따고 레드향갈고: searchIframe 로드 및 프레임 전환 완료\n",
            "Error while clicking first search result for 귤따고 레드향갈고: Unable to locate list container.\n"
          ]
        },
        {
          "name": "stderr",
          "output_type": "stream",
          "text": [
            " 26%|██▌       | 259/999 [1:35:06<4:00:06, 19.47s/it]"
          ]
        },
        {
          "name": "stdout",
          "output_type": "stream",
          "text": [
            "Failed to load iframe after multiple attempts for 귤따고 레드향갈고.\n",
            "crawling fatil : 귤따고 레드향갈고 to fail_to_crawling\n",
            "귤로: searchIframe 로드 및 프레임 전환 완료\n",
            "귤로: entryIframe이 이미 로드됨. 클릭 없이 바로 진행\n",
            "entryIframe 로드.\n",
            "Error while extracting menu/features for 귤로, div 1:\n",
            "Error while extracting menu/features for 귤로, div 2:\n"
          ]
        },
        {
          "name": "stderr",
          "output_type": "stream",
          "text": [
            " 26%|██▌       | 260/999 [1:35:30<4:16:09, 20.80s/it]"
          ]
        },
        {
          "name": "stdout",
          "output_type": "stream",
          "text": [
            "귤밭사이로수제돈가스: searchIframe 로드 및 프레임 전환 완료\n",
            "귤밭사이로수제돈가스: 첫 번째 가게 클릭 후 전환되지 않음. 다음 가게로 진행\n",
            "entryIframe 로드.\n",
            "Error while extracting menu/features for 귤밭사이로수제돈가스, div 1:\n",
            "Error while extracting menu/features for 귤밭사이로수제돈가스, div 2:\n"
          ]
        },
        {
          "name": "stderr",
          "output_type": "stream",
          "text": [
            " 26%|██▌       | 261/999 [1:35:56<4:36:00, 22.44s/it]"
          ]
        },
        {
          "name": "stdout",
          "output_type": "stream",
          "text": [
            "귤밭사이로수제돈까스: searchIframe 로드 및 프레임 전환 완료\n",
            "귤밭사이로수제돈까스: 첫 번째 가게 클릭 후 전환되지 않음. 다음 가게로 진행\n",
            "entryIframe 로드.\n",
            "Error while extracting menu/features for 귤밭사이로수제돈까스, div 1:\n",
            "Error while extracting menu/features for 귤밭사이로수제돈까스, div 2:\n"
          ]
        },
        {
          "name": "stderr",
          "output_type": "stream",
          "text": [
            " 26%|██▌       | 262/999 [1:36:22<4:48:52, 23.52s/it]"
          ]
        },
        {
          "name": "stdout",
          "output_type": "stream",
          "text": [
            "photo section 못찾음 귤밭사이로수제돈까스\n",
            "귤하르방: searchIframe 로드 및 프레임 전환 완료\n",
            "귤하르방: 링크버튼을 찾을 수 없음. xpath 대신 다른 방법 시도\n"
          ]
        },
        {
          "name": "stderr",
          "output_type": "stream",
          "text": [
            " 26%|██▋       | 263/999 [1:36:40<4:27:02, 21.77s/it]"
          ]
        },
        {
          "name": "stdout",
          "output_type": "stream",
          "text": [
            "Failed to load iframe after multiple attempts for 귤하르방.\n",
            "crawling fatil : 귤하르방 to fail_to_crawling\n",
            "귤하르방 동문시장점: searchIframe 로드 및 프레임 전환 완료\n",
            "귤하르방 동문시장점: entryIframe이 이미 로드됨. 클릭 없이 바로 진행\n",
            "entryIframe 로드.\n",
            "Error while extracting menu/features for 귤하르방 동문시장점, div 1:\n",
            "Error while extracting menu/features for 귤하르방 동문시장점, div 2:\n"
          ]
        },
        {
          "name": "stderr",
          "output_type": "stream",
          "text": [
            " 26%|██▋       | 264/999 [1:37:01<4:23:41, 21.53s/it]"
          ]
        },
        {
          "name": "stdout",
          "output_type": "stream",
          "text": [
            "귤하르방구좌점: searchIframe 로드 및 프레임 전환 완료\n",
            "귤하르방구좌점: entryIframe이 이미 로드됨. 클릭 없이 바로 진행\n",
            "entryIframe 로드.\n",
            "Error while extracting menu/features for 귤하르방구좌점, div 1:\n",
            "Error while extracting menu/features for 귤하르방구좌점, div 2:\n"
          ]
        },
        {
          "name": "stderr",
          "output_type": "stream",
          "text": [
            " 27%|██▋       | 265/999 [1:37:22<4:21:54, 21.41s/it]"
          ]
        },
        {
          "name": "stdout",
          "output_type": "stream",
          "text": [
            "그계절: searchIframe 로드 및 프레임 전환 완료\n",
            "Error while clicking first search result for 그계절: Unable to locate list container.\n"
          ]
        },
        {
          "name": "stderr",
          "output_type": "stream",
          "text": [
            " 27%|██▋       | 266/999 [1:37:43<4:18:09, 21.13s/it]"
          ]
        },
        {
          "name": "stdout",
          "output_type": "stream",
          "text": [
            "Failed to load iframe after multiple attempts for 그계절.\n",
            "crawling fatil : 그계절 to fail_to_crawling\n",
            "그냥: searchIframe 로드 및 프레임 전환 완료\n",
            "그냥: 첫 번째 가게 클릭 후 전환되지 않음. 다음 가게로 진행\n",
            "entryIframe 로드.\n"
          ]
        },
        {
          "name": "stderr",
          "output_type": "stream",
          "text": [
            " 27%|██▋       | 267/999 [1:38:06<4:27:07, 21.90s/it]"
          ]
        },
        {
          "name": "stdout",
          "output_type": "stream",
          "text": [
            "Error while navigating to reviews for 그냥:\n",
            " 사진 버튼 없음 : 그냥.\n",
            "그늘집: searchIframe 로드 및 프레임 전환 완료\n",
            "Error while clicking first search result for 그늘집: Unable to locate list container.\n"
          ]
        },
        {
          "name": "stderr",
          "output_type": "stream",
          "text": [
            " 27%|██▋       | 268/999 [1:38:27<4:22:57, 21.58s/it]"
          ]
        },
        {
          "name": "stdout",
          "output_type": "stream",
          "text": [
            "Failed to load iframe after multiple attempts for 그늘집.\n",
            "crawling fatil : 그늘집 to fail_to_crawling\n",
            "그대와함께라면: searchIframe 로드 및 프레임 전환 완료\n",
            "그대와함께라면: entryIframe이 이미 로드됨. 클릭 없이 바로 진행\n",
            "entryIframe 로드.\n",
            "Error while extracting menu/features for 그대와함께라면, div 1:\n",
            "Error while extracting menu/features for 그대와함께라면, div 2:\n"
          ]
        },
        {
          "name": "stderr",
          "output_type": "stream",
          "text": [
            " 27%|██▋       | 269/999 [1:38:51<4:30:37, 22.24s/it]"
          ]
        },
        {
          "name": "stdout",
          "output_type": "stream",
          "text": [
            "그때그집 함덕: searchIframe 로드 및 프레임 전환 완료\n",
            "그때그집 함덕: entryIframe이 이미 로드됨. 클릭 없이 바로 진행\n",
            "entryIframe 로드.\n",
            "Error while extracting menu/features for 그때그집 함덕, div 1:\n",
            "Error while extracting menu/features for 그때그집 함덕, div 2:\n"
          ]
        },
        {
          "name": "stderr",
          "output_type": "stream",
          "text": [
            " 27%|██▋       | 270/999 [1:39:12<4:27:09, 21.99s/it]"
          ]
        },
        {
          "name": "stdout",
          "output_type": "stream",
          "text": [
            "그라나다: searchIframe 로드 및 프레임 전환 완료\n",
            "Error while clicking first search result for 그라나다: Unable to locate list container.\n"
          ]
        },
        {
          "name": "stderr",
          "output_type": "stream",
          "text": [
            " 27%|██▋       | 271/999 [1:39:33<4:22:29, 21.63s/it]"
          ]
        },
        {
          "name": "stdout",
          "output_type": "stream",
          "text": [
            "Failed to load iframe after multiple attempts for 그라나다.\n",
            "crawling fatil : 그라나다 to fail_to_crawling\n",
            "그라미니: searchIframe 로드 및 프레임 전환 완료\n",
            "그라미니: entryIframe이 이미 로드됨. 클릭 없이 바로 진행\n",
            "entryIframe 로드.\n",
            "Error while extracting menu/features for 그라미니, div 1:\n",
            "Error while extracting menu/features for 그라미니, div 2:\n"
          ]
        },
        {
          "name": "stderr",
          "output_type": "stream",
          "text": [
            " 27%|██▋       | 272/999 [1:39:55<4:21:03, 21.55s/it]"
          ]
        },
        {
          "name": "stdout",
          "output_type": "stream",
          "text": [
            "그라인딩홀덤펍: searchIframe 로드 및 프레임 전환 완료\n",
            "Error while clicking first search result for 그라인딩홀덤펍: Unable to locate list container.\n"
          ]
        },
        {
          "name": "stderr",
          "output_type": "stream",
          "text": [
            " 27%|██▋       | 273/999 [1:40:15<4:16:51, 21.23s/it]"
          ]
        },
        {
          "name": "stdout",
          "output_type": "stream",
          "text": [
            "Failed to load iframe after multiple attempts for 그라인딩홀덤펍.\n",
            "crawling fatil : 그라인딩홀덤펍 to fail_to_crawling\n",
            "그란데: searchIframe 로드 및 프레임 전환 완료\n",
            "그란데: 첫 번째 가게 클릭 후 전환되지 않음. 다음 가게로 진행\n",
            "entryIframe 로드.\n",
            "Error while extracting menu/features for 그란데, div 1:\n",
            "Error while extracting menu/features for 그란데, div 2:\n"
          ]
        },
        {
          "name": "stderr",
          "output_type": "stream",
          "text": [
            " 27%|██▋       | 274/999 [1:40:44<4:43:42, 23.48s/it]"
          ]
        },
        {
          "name": "stdout",
          "output_type": "stream",
          "text": [
            "그래잍: searchIframe 로드 및 프레임 전환 완료\n",
            "그래잍: entryIframe이 이미 로드됨. 클릭 없이 바로 진행\n",
            "entryIframe 로드.\n",
            "Error while extracting menu/features for 그래잍, div 1:\n",
            "Error while extracting menu/features for 그래잍, div 2:\n"
          ]
        },
        {
          "name": "stderr",
          "output_type": "stream",
          "text": [
            " 28%|██▊       | 275/999 [1:41:05<4:35:50, 22.86s/it]"
          ]
        },
        {
          "name": "stdout",
          "output_type": "stream",
          "text": [
            "그랜드: searchIframe 로드 및 프레임 전환 완료\n",
            "그랜드: 첫 번째 가게 클릭 후 전환되지 않음. 다음 가게로 진행\n",
            "entryIframe 로드.\n"
          ]
        },
        {
          "name": "stderr",
          "output_type": "stream",
          "text": [
            " 28%|██▊       | 276/999 [1:41:29<4:39:06, 23.16s/it]"
          ]
        },
        {
          "name": "stdout",
          "output_type": "stream",
          "text": [
            "Error while extracting menu/features for 그랜드, div 1:\n",
            "Error while navigating to reviews for 그랜드:\n",
            " 사진 버튼 없음 : 그랜드.\n",
            "그랜드 키친: searchIframe 로드 및 프레임 전환 완료\n",
            "그랜드 키친: 첫 번째 가게 클릭 후 전환되지 않음. 다음 가게로 진행\n",
            "entryIframe 로드.\n",
            "Error while extracting menu/features for 그랜드 키친, div 1:\n"
          ]
        },
        {
          "name": "stderr",
          "output_type": "stream",
          "text": [
            " 28%|██▊       | 277/999 [1:41:55<4:47:50, 23.92s/it]"
          ]
        },
        {
          "name": "stdout",
          "output_type": "stream",
          "text": [
            "Error while extracting menu/features for 그랜드 키친, div 2:\n",
            " 사진 버튼 없음 : 그랜드 키친.\n",
            "그랜마스: searchIframe 로드 및 프레임 전환 완료\n",
            "그랜마스: 링크버튼을 찾을 수 없음. xpath 대신 다른 방법 시도\n"
          ]
        },
        {
          "name": "stderr",
          "output_type": "stream",
          "text": [
            " 28%|██▊       | 278/999 [1:42:13<4:25:33, 22.10s/it]"
          ]
        },
        {
          "name": "stdout",
          "output_type": "stream",
          "text": [
            "Failed to load iframe after multiple attempts for 그랜마스.\n",
            "crawling fatil : 그랜마스 to fail_to_crawling\n",
            "그랜마스 노형점: searchIframe 로드 및 프레임 전환 완료\n",
            "그랜마스 노형점: entryIframe이 이미 로드됨. 클릭 없이 바로 진행\n",
            "entryIframe 로드.\n",
            "Error while extracting menu/features for 그랜마스 노형점, div 1:\n",
            "Error while extracting menu/features for 그랜마스 노형점, div 2:\n"
          ]
        },
        {
          "name": "stderr",
          "output_type": "stream",
          "text": [
            " 28%|██▊       | 279/999 [1:42:36<4:30:32, 22.54s/it]"
          ]
        },
        {
          "name": "stdout",
          "output_type": "stream",
          "text": [
            "그랜마스 노형직영점: searchIframe 로드 및 프레임 전환 완료\n",
            "그랜마스 노형직영점: entryIframe이 이미 로드됨. 클릭 없이 바로 진행\n",
            "entryIframe 로드.\n",
            "Error while extracting menu/features for 그랜마스 노형직영점, div 1:\n",
            "Error while extracting menu/features for 그랜마스 노형직영점, div 2:\n"
          ]
        },
        {
          "name": "stderr",
          "output_type": "stream",
          "text": [
            " 28%|██▊       | 280/999 [1:43:00<4:33:33, 22.83s/it]"
          ]
        },
        {
          "name": "stdout",
          "output_type": "stream",
          "text": [
            "그랜마스 서귀포 시청점: searchIframe 로드 및 프레임 전환 완료\n",
            "Error while clicking first search result for 그랜마스 서귀포 시청점: Unable to locate list container.\n"
          ]
        },
        {
          "name": "stderr",
          "output_type": "stream",
          "text": [
            " 28%|██▊       | 281/999 [1:43:21<4:26:31, 22.27s/it]"
          ]
        },
        {
          "name": "stdout",
          "output_type": "stream",
          "text": [
            "Failed to load iframe after multiple attempts for 그랜마스 서귀포 시청점.\n",
            "crawling fatil : 그랜마스 서귀포 시청점 to fail_to_crawling\n",
            "그랜마스 서귀포 신시가지점: searchIframe 로드 및 프레임 전환 완료\n",
            "그랜마스 서귀포 신시가지점: entryIframe이 이미 로드됨. 클릭 없이 바로 진행\n",
            "entryIframe 로드.\n",
            "Error while extracting menu/features for 그랜마스 서귀포 신시가지점, div 1:\n"
          ]
        },
        {
          "name": "stderr",
          "output_type": "stream",
          "text": [
            " 28%|██▊       | 282/999 [1:43:38<4:08:36, 20.80s/it]"
          ]
        },
        {
          "name": "stdout",
          "output_type": "stream",
          "text": [
            "Error while extracting menu/features for 그랜마스 서귀포 신시가지점, div 2:\n",
            " 사진 버튼 없음 : 그랜마스 서귀포 신시가지점.\n",
            "그랜마스 아라점: searchIframe 로드 및 프레임 전환 완료\n",
            "그랜마스 아라점: entryIframe이 이미 로드됨. 클릭 없이 바로 진행\n",
            "entryIframe 로드.\n",
            "Error while extracting menu/features for 그랜마스 아라점, div 1:\n"
          ]
        },
        {
          "name": "stderr",
          "output_type": "stream",
          "text": [
            " 28%|██▊       | 283/999 [1:43:55<3:55:04, 19.70s/it]"
          ]
        },
        {
          "name": "stdout",
          "output_type": "stream",
          "text": [
            "Error while extracting menu/features for 그랜마스 아라점, div 2:\n",
            " 사진 버튼 없음 : 그랜마스 아라점.\n",
            "그러므로: searchIframe 로드 및 프레임 전환 완료\n",
            "그러므로: 첫 번째 가게 클릭 후 전환되지 않음. 다음 가게로 진행\n",
            "entryIframe 로드.\n",
            "Error while extracting menu/features for 그러므로, div 1:\n",
            "Error while extracting menu/features for 그러므로, div 2:\n"
          ]
        },
        {
          "name": "stderr",
          "output_type": "stream",
          "text": [
            " 28%|██▊       | 284/999 [1:44:23<4:23:17, 22.09s/it]"
          ]
        },
        {
          "name": "stdout",
          "output_type": "stream",
          "text": [
            "그러므로part2: searchIframe 로드 및 프레임 전환 완료\n",
            "Error while clicking first search result for 그러므로part2: Unable to locate list container.\n"
          ]
        },
        {
          "name": "stderr",
          "output_type": "stream",
          "text": [
            " 29%|██▊       | 285/999 [1:44:43<4:17:43, 21.66s/it]"
          ]
        },
        {
          "name": "stdout",
          "output_type": "stream",
          "text": [
            "Failed to load iframe after multiple attempts for 그러므로part2.\n",
            "crawling fatil : 그러므로part2 to fail_to_crawling\n",
            "그러므로파트투: searchIframe 로드 및 프레임 전환 완료\n",
            "그러므로파트투: entryIframe이 이미 로드됨. 클릭 없이 바로 진행\n",
            "entryIframe 로드.\n",
            "Error while extracting menu/features for 그러므로파트투, div 1:\n",
            "Error while extracting menu/features for 그러므로파트투, div 2:\n"
          ]
        },
        {
          "name": "stderr",
          "output_type": "stream",
          "text": [
            " 29%|██▊       | 286/999 [1:45:03<4:09:36, 21.00s/it]"
          ]
        },
        {
          "name": "stdout",
          "output_type": "stream",
          "text": [
            "그럼외도: searchIframe 로드 및 프레임 전환 완료\n",
            "그럼외도: entryIframe이 이미 로드됨. 클릭 없이 바로 진행\n",
            "entryIframe 로드.\n",
            "Error while extracting menu/features for 그럼외도, div 1:\n",
            "Error while extracting menu/features for 그럼외도, div 2:\n"
          ]
        },
        {
          "name": "stderr",
          "output_type": "stream",
          "text": [
            " 29%|██▊       | 287/999 [1:45:24<4:09:28, 21.02s/it]"
          ]
        },
        {
          "name": "stdout",
          "output_type": "stream",
          "text": [
            "그럼피베이비: searchIframe 로드 및 프레임 전환 완료\n",
            "그럼피베이비: entryIframe이 이미 로드됨. 클릭 없이 바로 진행\n",
            "entryIframe 로드.\n",
            "Error while extracting menu/features for 그럼피베이비, div 1:\n",
            "Error while extracting menu/features for 그럼피베이비, div 2:\n"
          ]
        },
        {
          "name": "stderr",
          "output_type": "stream",
          "text": [
            " 29%|██▉       | 288/999 [1:45:45<4:09:44, 21.08s/it]"
          ]
        },
        {
          "name": "stdout",
          "output_type": "stream",
          "text": [
            "그레이그로브: searchIframe 로드 및 프레임 전환 완료\n",
            "그레이그로브: entryIframe이 이미 로드됨. 클릭 없이 바로 진행\n",
            "entryIframe 로드.\n",
            "Error while extracting menu/features for 그레이그로브, div 1:\n",
            "Error while extracting menu/features for 그레이그로브, div 2:\n"
          ]
        },
        {
          "name": "stderr",
          "output_type": "stream",
          "text": [
            " 29%|██▉       | 289/999 [1:46:06<4:09:53, 21.12s/it]"
          ]
        },
        {
          "name": "stdout",
          "output_type": "stream",
          "text": [
            "그로미제과: searchIframe 로드 및 프레임 전환 완료\n",
            "그로미제과: entryIframe이 이미 로드됨. 클릭 없이 바로 진행\n",
            "entryIframe 로드.\n",
            "Error while extracting menu/features for 그로미제과, div 1:\n",
            "Error while extracting menu/features for 그로미제과, div 2:\n"
          ]
        },
        {
          "name": "stderr",
          "output_type": "stream",
          "text": [
            " 29%|██▉       | 290/999 [1:46:28<4:09:41, 21.13s/it]"
          ]
        },
        {
          "name": "stdout",
          "output_type": "stream",
          "text": [
            "그로우(GROW): searchIframe 로드 및 프레임 전환 완료\n",
            "그로우(GROW): 링크버튼을 찾을 수 없음. xpath 대신 다른 방법 시도\n"
          ]
        },
        {
          "name": "stderr",
          "output_type": "stream",
          "text": [
            " 29%|██▉       | 291/999 [1:46:45<3:57:19, 20.11s/it]"
          ]
        },
        {
          "name": "stdout",
          "output_type": "stream",
          "text": [
            "Failed to load iframe after multiple attempts for 그로우(GROW).\n",
            "crawling fatil : 그로우(GROW) to fail_to_crawling\n",
            "그루브: searchIframe 로드 및 프레임 전환 완료\n",
            "그루브: 첫 번째 가게 클릭 후 전환되지 않음. 다음 가게로 진행\n",
            "entryIframe 로드.\n",
            "Error while extracting menu/features for 그루브, div 1:\n",
            "Error while extracting menu/features for 그루브, div 2:\n"
          ]
        },
        {
          "name": "stderr",
          "output_type": "stream",
          "text": [
            " 29%|██▉       | 292/999 [1:47:14<4:27:26, 22.70s/it]"
          ]
        },
        {
          "name": "stdout",
          "output_type": "stream",
          "text": [
            "그륻: searchIframe 로드 및 프레임 전환 완료\n",
            "그륻: entryIframe이 이미 로드됨. 클릭 없이 바로 진행\n",
            "entryIframe 로드.\n",
            "Error while extracting menu/features for 그륻, div 1:\n",
            "Error while extracting menu/features for 그륻, div 2:\n"
          ]
        },
        {
          "name": "stderr",
          "output_type": "stream",
          "text": [
            " 29%|██▉       | 293/999 [1:47:35<4:22:08, 22.28s/it]"
          ]
        },
        {
          "name": "stdout",
          "output_type": "stream",
          "text": [
            "그릉그릉파스타가게: searchIframe 로드 및 프레임 전환 완료\n",
            "Error while clicking first search result for 그릉그릉파스타가게: Unable to locate list container.\n"
          ]
        },
        {
          "name": "stderr",
          "output_type": "stream",
          "text": [
            " 29%|██▉       | 294/999 [1:47:56<4:16:50, 21.86s/it]"
          ]
        },
        {
          "name": "stdout",
          "output_type": "stream",
          "text": [
            "Failed to load iframe after multiple attempts for 그릉그릉파스타가게.\n",
            "crawling fatil : 그릉그릉파스타가게 to fail_to_crawling\n",
            "그리그리카페: searchIframe 로드 및 프레임 전환 완료\n",
            "Error while clicking first search result for 그리그리카페: Unable to locate list container.\n"
          ]
        },
        {
          "name": "stderr",
          "output_type": "stream",
          "text": [
            " 30%|██▉       | 295/999 [1:48:17<4:12:41, 21.54s/it]"
          ]
        },
        {
          "name": "stdout",
          "output_type": "stream",
          "text": [
            "Failed to load iframe after multiple attempts for 그리그리카페.\n",
            "crawling fatil : 그리그리카페 to fail_to_crawling\n",
            "그리너 제주 인화점: searchIframe 로드 및 프레임 전환 완료\n",
            "Error while clicking first search result for 그리너 제주 인화점: Unable to locate list container.\n"
          ]
        },
        {
          "name": "stderr",
          "output_type": "stream",
          "text": [
            " 30%|██▉       | 296/999 [1:48:38<4:09:50, 21.32s/it]"
          ]
        },
        {
          "name": "stdout",
          "output_type": "stream",
          "text": [
            "Failed to load iframe after multiple attempts for 그리너 제주 인화점.\n",
            "crawling fatil : 그리너 제주 인화점 to fail_to_crawling\n",
            "그리너제주삼화지구점: searchIframe 로드 및 프레임 전환 완료\n",
            "그리너제주삼화지구점: entryIframe이 이미 로드됨. 클릭 없이 바로 진행\n",
            "entryIframe 로드.\n",
            "Error while extracting menu/features for 그리너제주삼화지구점, div 1:\n",
            "Error while extracting menu/features for 그리너제주삼화지구점, div 2:\n"
          ]
        },
        {
          "name": "stderr",
          "output_type": "stream",
          "text": [
            " 30%|██▉       | 297/999 [1:49:00<4:13:04, 21.63s/it]"
          ]
        },
        {
          "name": "stdout",
          "output_type": "stream",
          "text": [
            "그리다시카고피자&파스타: searchIframe 로드 및 프레임 전환 완료\n",
            "Error while clicking first search result for 그리다시카고피자&파스타: Unable to locate list container.\n"
          ]
        },
        {
          "name": "stderr",
          "output_type": "stream",
          "text": [
            " 30%|██▉       | 298/999 [1:49:21<4:10:04, 21.40s/it]"
          ]
        },
        {
          "name": "stdout",
          "output_type": "stream",
          "text": [
            "Failed to load iframe after multiple attempts for 그리다시카고피자&파스타.\n",
            "crawling fatil : 그리다시카고피자&파스타 to fail_to_crawling\n",
            "그리다앤쿡: searchIframe 로드 및 프레임 전환 완료\n",
            "Error while clicking first search result for 그리다앤쿡: Unable to locate list container.\n"
          ]
        },
        {
          "name": "stderr",
          "output_type": "stream",
          "text": [
            " 30%|██▉       | 299/999 [1:49:42<4:07:29, 21.21s/it]"
          ]
        },
        {
          "name": "stdout",
          "output_type": "stream",
          "text": [
            "Failed to load iframe after multiple attempts for 그리다앤쿡.\n",
            "crawling fatil : 그리다앤쿡 to fail_to_crawling\n",
            "그리매: searchIframe 로드 및 프레임 전환 완료\n",
            "그리매: 첫 번째 가게 클릭 후 전환되지 않음. 다음 가게로 진행\n",
            "entryIframe 로드.\n",
            "Error while extracting menu/features for 그리매, div 1:\n",
            "Error while extracting menu/features for 그리매, div 2:\n"
          ]
        },
        {
          "name": "stderr",
          "output_type": "stream",
          "text": [
            " 30%|███       | 300/999 [1:50:10<4:31:08, 23.27s/it]"
          ]
        },
        {
          "name": "stdout",
          "output_type": "stream",
          "text": [
            "그리운바다성산포: searchIframe 로드 및 프레임 전환 완료\n",
            "그리운바다성산포: 첫 번째 가게 클릭 후 전환되지 않음. 다음 가게로 진행\n",
            "entryIframe 로드.\n",
            "Error while extracting menu/features for 그리운바다성산포, div 1:\n"
          ]
        },
        {
          "name": "stderr",
          "output_type": "stream",
          "text": [
            " 30%|███       | 301/999 [1:50:34<4:33:03, 23.47s/it]"
          ]
        },
        {
          "name": "stdout",
          "output_type": "stream",
          "text": [
            "Error while extracting menu/features for 그리운바다성산포, div 2:\n",
            " 사진 버튼 없음 : 그리운바다성산포.\n",
            "그리울땐제주: searchIframe 로드 및 프레임 전환 완료\n",
            "그리울땐제주: entryIframe이 이미 로드됨. 클릭 없이 바로 진행\n",
            "entryIframe 로드.\n",
            "Error while extracting menu/features for 그리울땐제주, div 1:\n",
            "Error while extracting menu/features for 그리울땐제주, div 2:\n"
          ]
        },
        {
          "name": "stderr",
          "output_type": "stream",
          "text": [
            " 30%|███       | 302/999 [1:50:55<4:24:48, 22.80s/it]"
          ]
        },
        {
          "name": "stdout",
          "output_type": "stream",
          "text": [
            "그리트커피: searchIframe 로드 및 프레임 전환 완료\n",
            "그리트커피: 첫 번째 가게 클릭 후 전환되지 않음. 다음 가게로 진행\n",
            "entryIframe 로드.\n",
            "Error while extracting menu/features for 그리트커피, div 1:\n",
            "Error while extracting menu/features for 그리트커피, div 2:\n"
          ]
        },
        {
          "name": "stderr",
          "output_type": "stream",
          "text": [
            " 30%|███       | 303/999 [1:51:23<4:43:05, 24.40s/it]"
          ]
        },
        {
          "name": "stdout",
          "output_type": "stream",
          "text": [
            "그리트커피(Gr iet Coffee): searchIframe 로드 및 프레임 전환 완료\n",
            "Error while clicking first search result for 그리트커피(Gr iet Coffee): Unable to locate list container.\n"
          ]
        },
        {
          "name": "stderr",
          "output_type": "stream",
          "text": [
            " 30%|███       | 304/999 [1:51:43<4:28:14, 23.16s/it]"
          ]
        },
        {
          "name": "stdout",
          "output_type": "stream",
          "text": [
            "Failed to load iframe after multiple attempts for 그리트커피(Gr iet Coffee).\n",
            "crawling fatil : 그리트커피(Gr iet Coffee) to fail_to_crawling\n",
            "그린기사: searchIframe 로드 및 프레임 전환 완료\n",
            "그린기사: 첫 번째 가게 클릭 후 전환되지 않음. 다음 가게로 진행\n",
            "entryIframe 로드.\n",
            "Error while extracting menu/features for 그린기사, div 1:\n",
            "Error while extracting menu/features for 그린기사, div 2:\n"
          ]
        },
        {
          "name": "stderr",
          "output_type": "stream",
          "text": [
            " 31%|███       | 305/999 [1:52:11<4:43:47, 24.53s/it]"
          ]
        },
        {
          "name": "stdout",
          "output_type": "stream",
          "text": [
            "그린보이즈: searchIframe 로드 및 프레임 전환 완료\n",
            "그린보이즈: 링크버튼을 찾을 수 없음. xpath 대신 다른 방법 시도\n"
          ]
        },
        {
          "name": "stderr",
          "output_type": "stream",
          "text": [
            " 31%|███       | 306/999 [1:52:29<4:19:47, 22.49s/it]"
          ]
        },
        {
          "name": "stdout",
          "output_type": "stream",
          "text": [
            "Failed to load iframe after multiple attempts for 그린보이즈.\n",
            "crawling fatil : 그린보이즈 to fail_to_crawling\n",
            "그린보이즈 제주이도점: searchIframe 로드 및 프레임 전환 완료\n",
            "그린보이즈 제주이도점: entryIframe이 이미 로드됨. 클릭 없이 바로 진행\n",
            "entryIframe 로드.\n",
            "Error while extracting menu/features for 그린보이즈 제주이도점, div 1:\n",
            "Error while extracting menu/features for 그린보이즈 제주이도점, div 2:\n"
          ]
        },
        {
          "name": "stderr",
          "output_type": "stream",
          "text": [
            " 31%|███       | 307/999 [1:52:50<4:14:58, 22.11s/it]"
          ]
        },
        {
          "name": "stdout",
          "output_type": "stream",
          "text": [
            "그린사이공: searchIframe 로드 및 프레임 전환 완료\n",
            "그린사이공: 첫 번째 가게 클릭 후 전환되지 않음. 다음 가게로 진행\n",
            "entryIframe 로드.\n",
            "Error while extracting menu/features for 그린사이공, div 1:\n",
            "Error while extracting menu/features for 그린사이공, div 2:\n"
          ]
        },
        {
          "name": "stderr",
          "output_type": "stream",
          "text": [
            " 31%|███       | 308/999 [1:53:18<4:34:40, 23.85s/it]"
          ]
        },
        {
          "name": "stdout",
          "output_type": "stream",
          "text": [
            "그릴데미그라스: searchIframe 로드 및 프레임 전환 완료\n",
            "그릴데미그라스: 첫 번째 가게 클릭 후 전환되지 않음. 다음 가게로 진행\n",
            "entryIframe 로드.\n",
            "Error while extracting menu/features for 그릴데미그라스, div 1:\n",
            "Error while extracting menu/features for 그릴데미그라스, div 2:\n"
          ]
        },
        {
          "name": "stderr",
          "output_type": "stream",
          "text": [
            " 31%|███       | 309/999 [1:53:46<4:48:49, 25.11s/it]"
          ]
        },
        {
          "name": "stdout",
          "output_type": "stream",
          "text": [
            "그림상회화덕피자: searchIframe 로드 및 프레임 전환 완료\n",
            "그림상회화덕피자: entryIframe이 이미 로드됨. 클릭 없이 바로 진행\n",
            "entryIframe 로드.\n",
            "Error while extracting menu/features for 그림상회화덕피자, div 1:\n",
            "Error while extracting menu/features for 그림상회화덕피자, div 2:\n"
          ]
        },
        {
          "name": "stderr",
          "output_type": "stream",
          "text": [
            " 31%|███       | 310/999 [1:54:07<4:34:54, 23.94s/it]"
          ]
        },
        {
          "name": "stdout",
          "output_type": "stream",
          "text": [
            "그마니네: searchIframe 로드 및 프레임 전환 완료\n",
            "Error while clicking first search result for 그마니네: Unable to locate list container.\n"
          ]
        },
        {
          "name": "stderr",
          "output_type": "stream",
          "text": [
            " 31%|███       | 311/999 [1:54:28<4:23:38, 22.99s/it]"
          ]
        },
        {
          "name": "stdout",
          "output_type": "stream",
          "text": [
            "Failed to load iframe after multiple attempts for 그마니네.\n",
            "crawling fatil : 그마니네 to fail_to_crawling\n",
            "그시절동태촌신제주점: searchIframe 로드 및 프레임 전환 완료\n",
            "Error while clicking first search result for 그시절동태촌신제주점: Unable to locate list container.\n"
          ]
        },
        {
          "name": "stderr",
          "output_type": "stream",
          "text": [
            " 31%|███       | 312/999 [1:54:48<4:13:35, 22.15s/it]"
          ]
        },
        {
          "name": "stdout",
          "output_type": "stream",
          "text": [
            "Failed to load iframe after multiple attempts for 그시절동태촌신제주점.\n",
            "crawling fatil : 그시절동태촌신제주점 to fail_to_crawling\n",
            "그옛맛: searchIframe 로드 및 프레임 전환 완료\n",
            "Error while clicking first search result for 그옛맛: Unable to locate list container.\n"
          ]
        },
        {
          "name": "stderr",
          "output_type": "stream",
          "text": [
            " 31%|███▏      | 313/999 [1:55:09<4:08:05, 21.70s/it]"
          ]
        },
        {
          "name": "stdout",
          "output_type": "stream",
          "text": [
            "Failed to load iframe after multiple attempts for 그옛맛.\n",
            "crawling fatil : 그옛맛 to fail_to_crawling\n",
            "그집글라: searchIframe 로드 및 프레임 전환 완료\n",
            "그집글라: entryIframe이 이미 로드됨. 클릭 없이 바로 진행\n",
            "entryIframe 로드.\n",
            "Error while extracting menu/features for 그집글라, div 1:\n",
            "Error while extracting menu/features for 그집글라, div 2:\n"
          ]
        },
        {
          "name": "stderr",
          "output_type": "stream",
          "text": [
            " 31%|███▏      | 314/999 [1:55:31<4:07:09, 21.65s/it]"
          ]
        },
        {
          "name": "stdout",
          "output_type": "stream",
          "text": [
            "그초록: searchIframe 로드 및 프레임 전환 완료\n",
            "그초록: 첫 번째 가게 클릭 후 전환되지 않음. 다음 가게로 진행\n",
            "entryIframe 로드.\n",
            "Error while extracting menu/features for 그초록, div 1:\n",
            "Error while extracting menu/features for 그초록, div 2:\n"
          ]
        },
        {
          "name": "stderr",
          "output_type": "stream",
          "text": [
            " 32%|███▏      | 315/999 [1:55:54<4:14:39, 22.34s/it]"
          ]
        },
        {
          "name": "stdout",
          "output_type": "stream",
          "text": [
            " 사진 버튼 없음 : 그초록.\n",
            "글라글라하와이: searchIframe 로드 및 프레임 전환 완료\n",
            "글라글라하와이: entryIframe이 이미 로드됨. 클릭 없이 바로 진행\n",
            "entryIframe 로드.\n",
            "Error while extracting menu/features for 글라글라하와이, div 1:\n",
            "Error while extracting menu/features for 글라글라하와이, div 2:\n"
          ]
        },
        {
          "name": "stderr",
          "output_type": "stream",
          "text": [
            " 32%|███▏      | 316/999 [1:56:18<4:19:25, 22.79s/it]"
          ]
        },
        {
          "name": "stdout",
          "output_type": "stream",
          "text": [
            "글라성국이네: searchIframe 로드 및 프레임 전환 완료\n",
            "Error while clicking first search result for 글라성국이네: Unable to locate list container.\n"
          ]
        },
        {
          "name": "stderr",
          "output_type": "stream",
          "text": [
            " 32%|███▏      | 317/999 [1:56:39<4:12:25, 22.21s/it]"
          ]
        },
        {
          "name": "stdout",
          "output_type": "stream",
          "text": [
            "Failed to load iframe after multiple attempts for 글라성국이네.\n",
            "crawling fatil : 글라성국이네 to fail_to_crawling\n",
            "글래드호텔앤리조트(주)메종글래드제주: searchIframe 로드 및 프레임 전환 완료\n",
            "Error while clicking first search result for 글래드호텔앤리조트(주)메종글래드제주: Unable to locate list container.\n"
          ]
        },
        {
          "name": "stderr",
          "output_type": "stream",
          "text": [
            " 32%|███▏      | 318/999 [1:57:00<4:08:00, 21.85s/it]"
          ]
        },
        {
          "name": "stdout",
          "output_type": "stream",
          "text": [
            "Failed to load iframe after multiple attempts for 글래드호텔앤리조트(주)메종글래드제주.\n",
            "crawling fatil : 글래드호텔앤리조트(주)메종글래드제주 to fail_to_crawling\n",
            "글램바: searchIframe 로드 및 프레임 전환 완료\n",
            "글램바: 링크버튼을 찾을 수 없음. xpath 대신 다른 방법 시도\n"
          ]
        },
        {
          "name": "stderr",
          "output_type": "stream",
          "text": [
            " 32%|███▏      | 319/999 [1:57:18<3:53:29, 20.60s/it]"
          ]
        },
        {
          "name": "stdout",
          "output_type": "stream",
          "text": [
            "Failed to load iframe after multiple attempts for 글램바.\n",
            "crawling fatil : 글램바 to fail_to_crawling\n",
            "글램큐: searchIframe 로드 및 프레임 전환 완료\n",
            "글램큐: entryIframe이 이미 로드됨. 클릭 없이 바로 진행\n",
            "entryIframe 로드.\n",
            "Error while extracting menu/features for 글램큐, div 1:\n",
            "Error while extracting menu/features for 글램큐, div 2:\n"
          ]
        },
        {
          "name": "stderr",
          "output_type": "stream",
          "text": [
            " 32%|███▏      | 320/999 [1:57:39<3:55:37, 20.82s/it]"
          ]
        },
        {
          "name": "stdout",
          "output_type": "stream",
          "text": [
            "글러트니커피: searchIframe 로드 및 프레임 전환 완료\n",
            "글러트니커피: entryIframe이 이미 로드됨. 클릭 없이 바로 진행\n",
            "entryIframe 로드.\n",
            "Error while extracting menu/features for 글러트니커피, div 1:\n",
            "Error while extracting menu/features for 글러트니커피, div 2:\n"
          ]
        },
        {
          "name": "stderr",
          "output_type": "stream",
          "text": [
            " 32%|███▏      | 321/999 [1:58:01<3:59:00, 21.15s/it]"
          ]
        },
        {
          "name": "stdout",
          "output_type": "stream",
          "text": [
            "금갈치: searchIframe 로드 및 프레임 전환 완료\n",
            "금갈치: 첫 번째 가게 클릭 후 전환되지 않음. 다음 가게로 진행\n",
            "entryIframe 로드.\n",
            "Error while extracting menu/features for 금갈치, div 1:\n"
          ]
        },
        {
          "name": "stderr",
          "output_type": "stream",
          "text": [
            " 32%|███▏      | 322/999 [1:58:25<4:07:33, 21.94s/it]"
          ]
        },
        {
          "name": "stdout",
          "output_type": "stream",
          "text": [
            "Error while extracting menu/features for 금갈치, div 2:\n",
            " 사진 버튼 없음 : 금갈치.\n",
            "금강민물장어: searchIframe 로드 및 프레임 전환 완료\n",
            "금강민물장어: 첫 번째 가게 클릭 후 전환되지 않음. 다음 가게로 진행\n",
            "entryIframe 로드.\n",
            "Error while extracting menu/features for 금강민물장어, div 1:\n",
            "Error while extracting menu/features for 금강민물장어, div 2:\n"
          ]
        },
        {
          "name": "stderr",
          "output_type": "stream",
          "text": [
            " 32%|███▏      | 323/999 [1:58:51<4:20:35, 23.13s/it]"
          ]
        },
        {
          "name": "stdout",
          "output_type": "stream",
          "text": [
            "금관: searchIframe 로드 및 프레임 전환 완료\n",
            "금관: 링크버튼을 찾을 수 없음. xpath 대신 다른 방법 시도\n"
          ]
        },
        {
          "name": "stderr",
          "output_type": "stream",
          "text": [
            " 32%|███▏      | 324/999 [1:59:09<4:04:17, 21.71s/it]"
          ]
        },
        {
          "name": "stdout",
          "output_type": "stream",
          "text": [
            "Failed to load iframe after multiple attempts for 금관.\n",
            "crawling fatil : 금관 to fail_to_crawling\n",
            "금능 제면소: searchIframe 로드 및 프레임 전환 완료\n",
            "금능 제면소: 첫 번째 가게 클릭 후 전환되지 않음. 다음 가게로 진행\n",
            "entryIframe 로드.\n",
            "Error while extracting menu/features for 금능 제면소, div 1:\n"
          ]
        },
        {
          "name": "stderr",
          "output_type": "stream",
          "text": [
            " 33%|███▎      | 325/999 [1:59:33<4:11:08, 22.36s/it]"
          ]
        },
        {
          "name": "stdout",
          "output_type": "stream",
          "text": [
            "Error while extracting menu/features for 금능 제면소, div 2:\n",
            " 사진 버튼 없음 : 금능 제면소.\n",
            "금능고깃집: searchIframe 로드 및 프레임 전환 완료\n",
            "금능고깃집: 링크버튼을 찾을 수 없음. xpath 대신 다른 방법 시도\n"
          ]
        },
        {
          "name": "stderr",
          "output_type": "stream",
          "text": [
            " 33%|███▎      | 326/999 [1:59:52<4:00:31, 21.44s/it]"
          ]
        },
        {
          "name": "stdout",
          "output_type": "stream",
          "text": [
            "Failed to load iframe after multiple attempts for 금능고깃집.\n",
            "crawling fatil : 금능고깃집 to fail_to_crawling\n",
            "금능길: searchIframe 로드 및 프레임 전환 완료\n",
            "금능길: 첫 번째 가게 클릭 후 전환되지 않음. 다음 가게로 진행\n",
            "entryIframe 로드.\n",
            "Error while extracting menu/features for 금능길, div 1:\n",
            "Error while extracting menu/features for 금능길, div 2:\n"
          ]
        },
        {
          "name": "stderr",
          "output_type": "stream",
          "text": [
            " 33%|███▎      | 327/999 [2:00:22<4:26:12, 23.77s/it]"
          ]
        },
        {
          "name": "stdout",
          "output_type": "stream",
          "text": [
            "금능낙원: searchIframe 로드 및 프레임 전환 완료\n",
            "금능낙원: 첫 번째 가게 클릭 후 전환되지 않음. 다음 가게로 진행\n",
            "entryIframe 로드.\n",
            "Error while extracting menu/features for 금능낙원, div 1:\n",
            "Error while extracting menu/features for 금능낙원, div 2:\n"
          ]
        },
        {
          "name": "stderr",
          "output_type": "stream",
          "text": [
            " 33%|███▎      | 328/999 [2:00:50<4:41:19, 25.16s/it]"
          ]
        },
        {
          "name": "stdout",
          "output_type": "stream",
          "text": [
            "금능둘레길: searchIframe 로드 및 프레임 전환 완료\n",
            "금능둘레길: entryIframe이 이미 로드됨. 클릭 없이 바로 진행\n",
            "entryIframe 로드.\n",
            "Error while extracting menu/features for 금능둘레길, div 1:\n"
          ]
        },
        {
          "name": "stderr",
          "output_type": "stream",
          "text": [
            " 33%|███▎      | 329/999 [2:01:05<4:06:59, 22.12s/it]"
          ]
        },
        {
          "name": "stdout",
          "output_type": "stream",
          "text": [
            "Error while extracting menu/features for 금능둘레길, div 2:\n",
            " 사진 버튼 없음 : 금능둘레길.\n",
            "금능맛차롱: searchIframe 로드 및 프레임 전환 완료\n",
            "금능맛차롱: entryIframe이 이미 로드됨. 클릭 없이 바로 진행\n",
            "entryIframe 로드.\n",
            "Error while extracting datalab information for 금능맛차롱:\n"
          ]
        },
        {
          "name": "stderr",
          "output_type": "stream",
          "text": [
            " 33%|███▎      | 330/999 [2:01:18<3:34:29, 19.24s/it]"
          ]
        },
        {
          "name": "stdout",
          "output_type": "stream",
          "text": [
            "Error while navigating to reviews for 금능맛차롱:\n",
            " 사진 버튼 없음 : 금능맛차롱.\n",
            "금능반지하: searchIframe 로드 및 프레임 전환 완료\n",
            "금능반지하: entryIframe이 이미 로드됨. 클릭 없이 바로 진행\n",
            "entryIframe 로드.\n",
            "Error while extracting menu/features for 금능반지하, div 1:\n",
            "Error while extracting menu/features for 금능반지하, div 2:\n"
          ]
        },
        {
          "name": "stderr",
          "output_type": "stream",
          "text": [
            " 33%|███▎      | 331/999 [2:01:39<3:40:08, 19.77s/it]"
          ]
        },
        {
          "name": "stdout",
          "output_type": "stream",
          "text": [
            "금능상회: searchIframe 로드 및 프레임 전환 완료\n",
            "금능상회: 첫 번째 가게 클릭 후 전환되지 않음. 다음 가게로 진행\n",
            "entryIframe 로드.\n",
            "Error while extracting datalab information for 금능상회:\n",
            "Error while navigating to reviews for 금능상회:\n"
          ]
        },
        {
          "name": "stderr",
          "output_type": "stream",
          "text": [
            " 33%|███▎      | 332/999 [2:02:04<4:00:15, 21.61s/it]"
          ]
        },
        {
          "name": "stdout",
          "output_type": "stream",
          "text": [
            "금능샌드: searchIframe 로드 및 프레임 전환 완료\n",
            "금능샌드: entryIframe이 이미 로드됨. 클릭 없이 바로 진행\n",
            "entryIframe 로드.\n",
            "Error while extracting menu/features for 금능샌드, div 1:\n",
            "Error while extracting menu/features for 금능샌드, div 2:\n"
          ]
        },
        {
          "name": "stderr",
          "output_type": "stream",
          "text": [
            " 33%|███▎      | 333/999 [2:02:26<3:58:42, 21.50s/it]"
          ]
        },
        {
          "name": "stdout",
          "output_type": "stream",
          "text": [
            "금능식당: searchIframe 로드 및 프레임 전환 완료\n",
            "금능식당: 링크버튼을 찾을 수 없음. xpath 대신 다른 방법 시도\n"
          ]
        },
        {
          "name": "stderr",
          "output_type": "stream",
          "text": [
            " 33%|███▎      | 334/999 [2:02:46<3:54:30, 21.16s/it]"
          ]
        },
        {
          "name": "stdout",
          "output_type": "stream",
          "text": [
            "Failed to load iframe after multiple attempts for 금능식당.\n",
            "crawling fatil : 금능식당 to fail_to_crawling\n",
            "금능이모네: searchIframe 로드 및 프레임 전환 완료\n",
            "금능이모네: entryIframe이 이미 로드됨. 클릭 없이 바로 진행\n",
            "entryIframe 로드.\n",
            "Error while extracting menu/features for 금능이모네, div 1:\n",
            "Error while extracting menu/features for 금능이모네, div 2:\n"
          ]
        },
        {
          "name": "stderr",
          "output_type": "stream",
          "text": [
            " 34%|███▎      | 335/999 [2:03:08<3:55:54, 21.32s/it]"
          ]
        },
        {
          "name": "stdout",
          "output_type": "stream",
          "text": [
            "금능자갈: searchIframe 로드 및 프레임 전환 완료\n",
            "금능자갈: 첫 번째 가게 클릭 후 전환되지 않음. 다음 가게로 진행\n",
            "entryIframe 로드.\n",
            "Error while extracting datalab information for 금능자갈:\n",
            "Error while navigating to reviews for 금능자갈:\n"
          ]
        },
        {
          "name": "stderr",
          "output_type": "stream",
          "text": [
            " 34%|███▎      | 336/999 [2:03:34<4:12:02, 22.81s/it]"
          ]
        },
        {
          "name": "stdout",
          "output_type": "stream",
          "text": [
            "이미지 추출 오류 4 for 금능자갈 \n",
            "이미지 추출 오류 5 for 금능자갈 \n",
            "이미지 추출 오류 6 for 금능자갈 \n",
            "이미지 추출 오류 7 for 금능자갈 \n",
            "이미지 추출 오류 8 for 금능자갈 \n",
            "이미지 추출 오류 9 for 금능자갈 \n",
            "이미지 추출 오류 10 for 금능자갈 \n",
            "금능제면소: searchIframe 로드 및 프레임 전환 완료\n",
            "금능제면소: 첫 번째 가게 클릭 후 전환되지 않음. 다음 가게로 진행\n",
            "entryIframe 로드.\n",
            "Error while extracting menu/features for 금능제면소, div 1:\n"
          ]
        },
        {
          "name": "stderr",
          "output_type": "stream",
          "text": [
            " 34%|███▎      | 337/999 [2:03:58<4:16:41, 23.27s/it]"
          ]
        },
        {
          "name": "stdout",
          "output_type": "stream",
          "text": [
            "Error while extracting menu/features for 금능제면소, div 2:\n",
            " 사진 버튼 없음 : 금능제면소.\n",
            "금능포구횟집: searchIframe 로드 및 프레임 전환 완료\n",
            "금능포구횟집: entryIframe이 이미 로드됨. 클릭 없이 바로 진행\n",
            "entryIframe 로드.\n",
            "Error while extracting menu/features for 금능포구횟집, div 1:\n",
            "Error while extracting menu/features for 금능포구횟집, div 2:\n"
          ]
        },
        {
          "name": "stderr",
          "output_type": "stream",
          "text": [
            " 34%|███▍      | 338/999 [2:04:20<4:09:29, 22.65s/it]"
          ]
        },
        {
          "name": "stdout",
          "output_type": "stream",
          "text": [
            "금능해장국: searchIframe 로드 및 프레임 전환 완료\n",
            "금능해장국: 링크버튼을 찾을 수 없음. xpath 대신 다른 방법 시도\n"
          ]
        },
        {
          "name": "stderr",
          "output_type": "stream",
          "text": [
            " 34%|███▍      | 339/999 [2:04:39<3:58:38, 21.69s/it]"
          ]
        },
        {
          "name": "stdout",
          "output_type": "stream",
          "text": [
            "Failed to load iframe after multiple attempts for 금능해장국.\n",
            "crawling fatil : 금능해장국 to fail_to_crawling\n",
            "금데기식당: searchIframe 로드 및 프레임 전환 완료\n",
            "금데기식당: entryIframe이 이미 로드됨. 클릭 없이 바로 진행\n",
            "entryIframe 로드.\n",
            "Error while extracting menu/features for 금데기식당, div 1:\n",
            "Error while extracting menu/features for 금데기식당, div 2:\n"
          ]
        },
        {
          "name": "stderr",
          "output_type": "stream",
          "text": [
            " 34%|███▍      | 340/999 [2:05:01<3:58:16, 21.69s/it]"
          ]
        },
        {
          "name": "stdout",
          "output_type": "stream",
          "text": [
            "금돈가: searchIframe 로드 및 프레임 전환 완료\n",
            "금돈가: 첫 번째 가게 클릭 후 전환되지 않음. 다음 가게로 진행\n",
            "entryIframe 로드.\n",
            "Error while extracting menu/features for 금돈가, div 1:\n",
            "Error while extracting menu/features for 금돈가, div 2:\n"
          ]
        },
        {
          "name": "stderr",
          "output_type": "stream",
          "text": [
            " 34%|███▍      | 341/999 [2:05:29<4:20:01, 23.71s/it]"
          ]
        },
        {
          "name": "stdout",
          "output_type": "stream",
          "text": [
            "금돈상회: searchIframe 로드 및 프레임 전환 완료\n",
            "금돈상회: entryIframe이 이미 로드됨. 클릭 없이 바로 진행\n",
            "entryIframe 로드.\n",
            "Error while extracting menu/features for 금돈상회, div 1:\n"
          ]
        },
        {
          "name": "stderr",
          "output_type": "stream",
          "text": [
            " 34%|███▍      | 342/999 [2:05:46<3:58:21, 21.77s/it]"
          ]
        },
        {
          "name": "stdout",
          "output_type": "stream",
          "text": [
            "Error while extracting menu/features for 금돈상회, div 2:\n",
            " 사진 버튼 없음 : 금돈상회.\n",
            "금돈흑돼지: searchIframe 로드 및 프레임 전환 완료\n",
            "금돈흑돼지: 첫 번째 가게 클릭 후 전환되지 않음. 다음 가게로 진행\n",
            "entryIframe 로드.\n",
            "Error while extracting menu/features for 금돈흑돼지, div 1:\n",
            "Error while extracting menu/features for 금돈흑돼지, div 2:\n"
          ]
        },
        {
          "name": "stderr",
          "output_type": "stream",
          "text": [
            " 34%|███▍      | 343/999 [2:06:13<4:13:23, 23.18s/it]"
          ]
        },
        {
          "name": "stdout",
          "output_type": "stream",
          "text": [
            "금돗: searchIframe 로드 및 프레임 전환 완료\n",
            "금돗: entryIframe이 이미 로드됨. 클릭 없이 바로 진행\n",
            "entryIframe 로드.\n",
            "Error while extracting menu/features for 금돗, div 1:\n"
          ]
        },
        {
          "name": "stderr",
          "output_type": "stream",
          "text": [
            " 34%|███▍      | 344/999 [2:06:32<3:59:46, 21.96s/it]"
          ]
        },
        {
          "name": "stdout",
          "output_type": "stream",
          "text": [
            "Error while extracting menu/features for 금돗, div 2:\n",
            " 사진 버튼 없음 : 금돗.\n",
            "금땡이양꼬치: searchIframe 로드 및 프레임 전환 완료\n",
            "금땡이양꼬치: entryIframe이 이미 로드됨. 클릭 없이 바로 진행\n",
            "entryIframe 로드.\n",
            "Error while extracting menu/features for 금땡이양꼬치, div 1:\n",
            "Error while extracting menu/features for 금땡이양꼬치, div 2:\n"
          ]
        },
        {
          "name": "stderr",
          "output_type": "stream",
          "text": [
            " 35%|███▍      | 345/999 [2:06:53<3:57:17, 21.77s/it]"
          ]
        },
        {
          "name": "stdout",
          "output_type": "stream",
          "text": [
            "금메달분식: searchIframe 로드 및 프레임 전환 완료\n",
            "금메달분식: 첫 번째 가게 클릭 후 전환되지 않음. 다음 가게로 진행\n",
            "entryIframe 로드.\n",
            "Error while extracting menu/features for 금메달분식, div 1:\n",
            "Error while extracting menu/features for 금메달분식, div 2:\n"
          ]
        },
        {
          "name": "stderr",
          "output_type": "stream",
          "text": [
            " 35%|███▍      | 346/999 [2:07:21<4:17:53, 23.70s/it]"
          ]
        },
        {
          "name": "stdout",
          "output_type": "stream",
          "text": [
            "금모래흑돼지숯불구이: searchIframe 로드 및 프레임 전환 완료\n",
            "금모래흑돼지숯불구이: entryIframe이 이미 로드됨. 클릭 없이 바로 진행\n",
            "entryIframe 로드.\n",
            "Error while extracting menu/features for 금모래흑돼지숯불구이, div 1:\n",
            "Error while extracting menu/features for 금모래흑돼지숯불구이, div 2:\n"
          ]
        },
        {
          "name": "stderr",
          "output_type": "stream",
          "text": [
            " 35%|███▍      | 347/999 [2:07:43<4:08:59, 22.91s/it]"
          ]
        },
        {
          "name": "stdout",
          "output_type": "stream",
          "text": [
            "금바우: searchIframe 로드 및 프레임 전환 완료\n",
            "금바우: 첫 번째 가게 클릭 후 전환되지 않음. 다음 가게로 진행\n",
            "entryIframe 로드.\n",
            "Error while extracting menu/features for 금바우, div 1:\n",
            "Error while extracting menu/features for 금바우, div 2:\n"
          ]
        },
        {
          "name": "stderr",
          "output_type": "stream",
          "text": [
            " 35%|███▍      | 348/999 [2:08:11<4:26:12, 24.54s/it]"
          ]
        },
        {
          "name": "stdout",
          "output_type": "stream",
          "text": [
            "금박돈: searchIframe 로드 및 프레임 전환 완료\n",
            "금박돈: entryIframe이 이미 로드됨. 클릭 없이 바로 진행\n",
            "entryIframe 로드.\n",
            "Error while extracting menu/features for 금박돈, div 1:\n",
            "Error while extracting menu/features for 금박돈, div 2:\n"
          ]
        },
        {
          "name": "stderr",
          "output_type": "stream",
          "text": [
            " 35%|███▍      | 349/999 [2:08:32<4:15:46, 23.61s/it]"
          ]
        },
        {
          "name": "stdout",
          "output_type": "stream",
          "text": [
            "금백조로 가든: searchIframe 로드 및 프레임 전환 완료\n",
            "금백조로 가든: entryIframe이 이미 로드됨. 클릭 없이 바로 진행\n",
            "entryIframe 로드.\n",
            "Error while extracting menu/features for 금백조로 가든, div 1:\n",
            "Error while extracting menu/features for 금백조로 가든, div 2:\n"
          ]
        },
        {
          "name": "stderr",
          "output_type": "stream",
          "text": [
            " 35%|███▌      | 350/999 [2:08:52<4:01:34, 22.33s/it]"
          ]
        },
        {
          "name": "stdout",
          "output_type": "stream",
          "text": [
            "금별맥주 서귀포점: searchIframe 로드 및 프레임 전환 완료\n",
            "금별맥주 서귀포점: entryIframe이 이미 로드됨. 클릭 없이 바로 진행\n",
            "entryIframe 로드.\n",
            "Error while extracting menu/features for 금별맥주 서귀포점, div 1:\n",
            "Error while extracting menu/features for 금별맥주 서귀포점, div 2:\n"
          ]
        },
        {
          "name": "stderr",
          "output_type": "stream",
          "text": [
            " 35%|███▌      | 351/999 [2:09:11<3:51:02, 21.39s/it]"
          ]
        },
        {
          "name": "stdout",
          "output_type": "stream",
          "text": [
            "금별맥주 일도점: searchIframe 로드 및 프레임 전환 완료\n",
            "금별맥주 일도점: 링크버튼을 찾을 수 없음. xpath 대신 다른 방법 시도\n"
          ]
        },
        {
          "name": "stderr",
          "output_type": "stream",
          "text": [
            " 35%|███▌      | 352/999 [2:09:29<3:39:20, 20.34s/it]"
          ]
        },
        {
          "name": "stdout",
          "output_type": "stream",
          "text": [
            "Failed to load iframe after multiple attempts for 금별맥주 일도점.\n",
            "crawling fatil : 금별맥주 일도점 to fail_to_crawling\n",
            "금별맥주 제주시청점: searchIframe 로드 및 프레임 전환 완료\n",
            "금별맥주 제주시청점: entryIframe이 이미 로드됨. 클릭 없이 바로 진행\n",
            "entryIframe 로드.\n",
            "Error while extracting menu/features for 금별맥주 제주시청점, div 1:\n",
            "Error while extracting menu/features for 금별맥주 제주시청점, div 2:\n"
          ]
        },
        {
          "name": "stderr",
          "output_type": "stream",
          "text": [
            " 35%|███▌      | 353/999 [2:09:48<3:35:19, 20.00s/it]"
          ]
        },
        {
          "name": "stdout",
          "output_type": "stream",
          "text": [
            "금별맥주제원점: searchIframe 로드 및 프레임 전환 완료\n",
            "금별맥주제원점: entryIframe이 이미 로드됨. 클릭 없이 바로 진행\n",
            "entryIframe 로드.\n",
            "Error while extracting menu/features for 금별맥주제원점, div 1:\n",
            "Error while extracting menu/features for 금별맥주제원점, div 2:\n"
          ]
        },
        {
          "name": "stderr",
          "output_type": "stream",
          "text": [
            " 35%|███▌      | 354/999 [2:10:10<3:40:02, 20.47s/it]"
          ]
        },
        {
          "name": "stdout",
          "output_type": "stream",
          "text": [
            "금보: searchIframe 로드 및 프레임 전환 완료\n",
            "금보: 링크버튼을 찾을 수 없음. xpath 대신 다른 방법 시도\n"
          ]
        },
        {
          "name": "stderr",
          "output_type": "stream",
          "text": [
            " 36%|███▌      | 355/999 [2:10:28<3:32:21, 19.79s/it]"
          ]
        },
        {
          "name": "stdout",
          "output_type": "stream",
          "text": [
            "Failed to load iframe after multiple attempts for 금보.\n",
            "crawling fatil : 금보 to fail_to_crawling\n",
            "금보가든: searchIframe 로드 및 프레임 전환 완료\n",
            "금보가든: entryIframe이 이미 로드됨. 클릭 없이 바로 진행\n",
            "entryIframe 로드.\n",
            "Error while extracting menu/features for 금보가든, div 1:\n",
            "Error while extracting menu/features for 금보가든, div 2:\n"
          ]
        },
        {
          "name": "stderr",
          "output_type": "stream",
          "text": [
            " 36%|███▌      | 356/999 [2:10:49<3:37:16, 20.27s/it]"
          ]
        },
        {
          "name": "stdout",
          "output_type": "stream",
          "text": [
            "금보식당: searchIframe 로드 및 프레임 전환 완료\n",
            "금보식당: 첫 번째 가게 클릭 후 전환되지 않음. 다음 가게로 진행\n",
            "entryIframe 로드.\n",
            "Error while extracting menu/features for 금보식당, div 1:\n",
            "Error while extracting menu/features for 금보식당, div 2:\n"
          ]
        },
        {
          "name": "stderr",
          "output_type": "stream",
          "text": [
            " 36%|███▌      | 357/999 [2:11:15<3:55:44, 22.03s/it]"
          ]
        },
        {
          "name": "stdout",
          "output_type": "stream",
          "text": [
            "금복: searchIframe 로드 및 프레임 전환 완료\n",
            "금복: 링크버튼을 찾을 수 없음. xpath 대신 다른 방법 시도\n"
          ]
        },
        {
          "name": "stderr",
          "output_type": "stream",
          "text": [
            " 36%|███▌      | 358/999 [2:11:33<3:42:46, 20.85s/it]"
          ]
        },
        {
          "name": "stdout",
          "output_type": "stream",
          "text": [
            "Failed to load iframe after multiple attempts for 금복.\n",
            "crawling fatil : 금복 to fail_to_crawling\n",
            "금복촌: searchIframe 로드 및 프레임 전환 완료\n",
            "금복촌: entryIframe이 이미 로드됨. 클릭 없이 바로 진행\n",
            "entryIframe 로드.\n",
            "Error while extracting menu/features for 금복촌, div 1:\n",
            "Error while extracting menu/features for 금복촌, div 2:\n"
          ]
        },
        {
          "name": "stderr",
          "output_type": "stream",
          "text": [
            " 36%|███▌      | 359/999 [2:11:52<3:36:38, 20.31s/it]"
          ]
        },
        {
          "name": "stdout",
          "output_type": "stream",
          "text": [
            "금빌레식당: searchIframe 로드 및 프레임 전환 완료\n",
            "금빌레식당: 첫 번째 가게 클릭 후 전환되지 않음. 다음 가게로 진행\n",
            "entryIframe 로드.\n",
            "Error while extracting menu/features for 금빌레식당, div 1:\n",
            "Error while extracting menu/features for 금빌레식당, div 2:\n"
          ]
        },
        {
          "name": "stderr",
          "output_type": "stream",
          "text": [
            " 36%|███▌      | 360/999 [2:12:21<4:02:11, 22.74s/it]"
          ]
        },
        {
          "name": "stdout",
          "output_type": "stream",
          "text": [
            "금뽕똘향토음식점: searchIframe 로드 및 프레임 전환 완료\n",
            "Error while clicking first search result for 금뽕똘향토음식점: Unable to locate list container.\n"
          ]
        },
        {
          "name": "stderr",
          "output_type": "stream",
          "text": [
            " 36%|███▌      | 361/999 [2:12:42<3:55:44, 22.17s/it]"
          ]
        },
        {
          "name": "stdout",
          "output_type": "stream",
          "text": [
            "Failed to load iframe after multiple attempts for 금뽕똘향토음식점.\n",
            "crawling fatil : 금뽕똘향토음식점 to fail_to_crawling\n",
            "iframe을 찾을 수 없음 for 금산\n"
          ]
        },
        {
          "name": "stderr",
          "output_type": "stream",
          "text": [
            " 36%|███▌      | 362/999 [2:12:58<3:35:32, 20.30s/it]"
          ]
        },
        {
          "name": "stdout",
          "output_type": "stream",
          "text": [
            "Failed to load iframe after multiple attempts for 금산.\n",
            "crawling fatil : 금산 to fail_to_crawling\n",
            "금산서당골: searchIframe 로드 및 프레임 전환 완료\n",
            "금산서당골: entryIframe이 이미 로드됨. 클릭 없이 바로 진행\n",
            "entryIframe 로드.\n"
          ]
        },
        {
          "name": "stderr",
          "output_type": "stream",
          "text": [
            " 36%|███▋      | 363/999 [2:13:17<3:31:35, 19.96s/it]"
          ]
        },
        {
          "name": "stdout",
          "output_type": "stream",
          "text": [
            "Error while extracting menu/features for 금산서당골, div 1:\n",
            "Error while extracting menu/features for 금산서당골, div 2:\n",
            " 사진 버튼 없음 : 금산서당골.\n",
            "금상족발: searchIframe 로드 및 프레임 전환 완료\n",
            "금상족발: 첫 번째 가게 클릭 후 전환되지 않음. 다음 가게로 진행\n",
            "entryIframe 로드.\n",
            "Error while extracting menu/features for 금상족발, div 1:\n",
            "Error while extracting menu/features for 금상족발, div 2:\n"
          ]
        },
        {
          "name": "stderr",
          "output_type": "stream",
          "text": [
            " 36%|███▋      | 364/999 [2:13:45<3:57:38, 22.45s/it]"
          ]
        },
        {
          "name": "stdout",
          "output_type": "stream",
          "text": [
            "금선: searchIframe 로드 및 프레임 전환 완료\n",
            "금선: 첫 번째 가게 클릭 후 전환되지 않음. 다음 가게로 진행\n",
            "entryIframe 로드.\n",
            "Error while extracting datalab information for 금선:\n",
            "Error while navigating to reviews for 금선:\n"
          ]
        },
        {
          "name": "stderr",
          "output_type": "stream",
          "text": [
            " 37%|███▋      | 365/999 [2:14:11<4:07:57, 23.47s/it]"
          ]
        },
        {
          "name": "stdout",
          "output_type": "stream",
          "text": [
            "이미지 추출 오류 10 for 금선 \n",
            "금성해장국: searchIframe 로드 및 프레임 전환 완료\n",
            "금성해장국: 첫 번째 가게 클릭 후 전환되지 않음. 다음 가게로 진행\n",
            "entryIframe 로드.\n",
            "Error while extracting menu/features for 금성해장국, div 1:\n",
            "Error while extracting menu/features for 금성해장국, div 2:\n"
          ]
        },
        {
          "name": "stderr",
          "output_type": "stream",
          "text": [
            " 37%|███▋      | 366/999 [2:14:39<4:22:40, 24.90s/it]"
          ]
        },
        {
          "name": "stdout",
          "output_type": "stream",
          "text": [
            "금수강산바다장어: searchIframe 로드 및 프레임 전환 완료\n",
            "금수강산바다장어: entryIframe이 이미 로드됨. 클릭 없이 바로 진행\n",
            "entryIframe 로드.\n",
            "Error while extracting menu/features for 금수강산바다장어, div 1:\n",
            "Error while extracting menu/features for 금수강산바다장어, div 2:\n"
          ]
        },
        {
          "name": "stderr",
          "output_type": "stream",
          "text": [
            " 37%|███▋      | 367/999 [2:14:58<4:04:34, 23.22s/it]"
          ]
        },
        {
          "name": "stdout",
          "output_type": "stream",
          "text": [
            "금순이네: searchIframe 로드 및 프레임 전환 완료\n",
            "금순이네: 첫 번째 가게 클릭 후 전환되지 않음. 다음 가게로 진행\n",
            "entryIframe 로드.\n",
            "Error while extracting datalab information for 금순이네:\n",
            "Error while navigating to reviews for 금순이네:\n"
          ]
        },
        {
          "name": "stderr",
          "output_type": "stream",
          "text": [
            " 37%|███▋      | 368/999 [2:15:24<4:11:35, 23.92s/it]"
          ]
        },
        {
          "name": "stdout",
          "output_type": "stream",
          "text": [
            "이미지 추출 오류 4 for 금순이네 \n",
            "이미지 추출 오류 5 for 금순이네 \n",
            "이미지 추출 오류 6 for 금순이네 \n",
            "이미지 추출 오류 7 for 금순이네 \n",
            "이미지 추출 오류 8 for 금순이네 \n",
            "이미지 추출 오류 9 for 금순이네 \n",
            "이미지 추출 오류 10 for 금순이네 \n",
            "금악 똣똣라면: searchIframe 로드 및 프레임 전환 완료\n",
            "금악 똣똣라면: entryIframe이 이미 로드됨. 클릭 없이 바로 진행\n",
            "entryIframe 로드.\n",
            "Error while extracting menu/features for 금악 똣똣라면, div 1:\n"
          ]
        },
        {
          "name": "stderr",
          "output_type": "stream",
          "text": [
            " 37%|███▋      | 369/999 [2:15:43<3:54:57, 22.38s/it]"
          ]
        },
        {
          "name": "stdout",
          "output_type": "stream",
          "text": [
            "Error while extracting menu/features for 금악 똣똣라면, div 2:\n",
            " 사진 버튼 없음 : 금악 똣똣라면.\n",
            "금악국수: searchIframe 로드 및 프레임 전환 완료\n",
            "금악국수: 링크버튼을 찾을 수 없음. xpath 대신 다른 방법 시도\n"
          ]
        },
        {
          "name": "stderr",
          "output_type": "stream",
          "text": [
            " 37%|███▋      | 370/999 [2:16:00<3:39:56, 20.98s/it]"
          ]
        },
        {
          "name": "stdout",
          "output_type": "stream",
          "text": [
            "Failed to load iframe after multiple attempts for 금악국수.\n",
            "crawling fatil : 금악국수 to fail_to_crawling\n",
            "금악냉면: searchIframe 로드 및 프레임 전환 완료\n",
            "금악냉면: 첫 번째 가게 클릭 후 전환되지 않음. 다음 가게로 진행\n",
            "entryIframe 로드.\n",
            "Error while extracting menu/features for 금악냉면, div 1:\n",
            "Error while extracting menu/features for 금악냉면, div 2:\n"
          ]
        },
        {
          "name": "stderr",
          "output_type": "stream",
          "text": [
            " 37%|███▋      | 371/999 [2:16:29<4:02:39, 23.18s/it]"
          ]
        },
        {
          "name": "stdout",
          "output_type": "stream",
          "text": [
            "금악똣똣라면: searchIframe 로드 및 프레임 전환 완료\n",
            "금악똣똣라면: entryIframe이 이미 로드됨. 클릭 없이 바로 진행\n",
            "entryIframe 로드.\n",
            "Error while extracting menu/features for 금악똣똣라면, div 1:\n"
          ]
        },
        {
          "name": "stderr",
          "output_type": "stream",
          "text": [
            " 37%|███▋      | 372/999 [2:16:48<3:48:18, 21.85s/it]"
          ]
        },
        {
          "name": "stdout",
          "output_type": "stream",
          "text": [
            "Error while extracting menu/features for 금악똣똣라면, div 2:\n",
            " 사진 버튼 없음 : 금악똣똣라면.\n",
            "금악리자양식당: searchIframe 로드 및 프레임 전환 완료\n",
            "금악리자양식당: entryIframe이 이미 로드됨. 클릭 없이 바로 진행\n",
            "entryIframe 로드.\n",
            "Error while extracting menu/features for 금악리자양식당, div 1:\n",
            "Error while extracting menu/features for 금악리자양식당, div 2:\n"
          ]
        },
        {
          "name": "stderr",
          "output_type": "stream",
          "text": [
            " 37%|███▋      | 373/999 [2:17:09<3:46:11, 21.68s/it]"
          ]
        },
        {
          "name": "stdout",
          "output_type": "stream",
          "text": [
            "금악정육식당: searchIframe 로드 및 프레임 전환 완료\n",
            "금악정육식당: entryIframe이 이미 로드됨. 클릭 없이 바로 진행\n",
            "entryIframe 로드.\n",
            "Error while extracting menu/features for 금악정육식당, div 1:\n",
            "Error while extracting menu/features for 금악정육식당, div 2:\n"
          ]
        },
        {
          "name": "stderr",
          "output_type": "stream",
          "text": [
            " 37%|███▋      | 374/999 [2:17:28<3:38:12, 20.95s/it]"
          ]
        },
        {
          "name": "stdout",
          "output_type": "stream",
          "text": [
            "금악휴게소: searchIframe 로드 및 프레임 전환 완료\n",
            "Error while clicking first search result for 금악휴게소: Unable to locate list container.\n"
          ]
        },
        {
          "name": "stderr",
          "output_type": "stream",
          "text": [
            " 38%|███▊      | 375/999 [2:17:49<3:36:58, 20.86s/it]"
          ]
        },
        {
          "name": "stdout",
          "output_type": "stream",
          "text": [
            "Failed to load iframe after multiple attempts for 금악휴게소.\n",
            "crawling fatil : 금악휴게소 to fail_to_crawling\n",
            "금자매: searchIframe 로드 및 프레임 전환 완료\n",
            "금자매: 첫 번째 가게 클릭 후 전환되지 않음. 다음 가게로 진행\n",
            "entryIframe 로드.\n",
            "Error while extracting menu/features for 금자매, div 1:\n",
            "Error while extracting menu/features for 금자매, div 2:\n"
          ]
        },
        {
          "name": "stderr",
          "output_type": "stream",
          "text": [
            " 38%|███▊      | 376/999 [2:18:17<3:59:33, 23.07s/it]"
          ]
        },
        {
          "name": "stdout",
          "output_type": "stream",
          "text": [
            "금정무산시도삭면: searchIframe 로드 및 프레임 전환 완료\n",
            "Error while clicking first search result for 금정무산시도삭면: Unable to locate list container.\n"
          ]
        },
        {
          "name": "stderr",
          "output_type": "stream",
          "text": [
            " 38%|███▊      | 377/999 [2:18:38<3:52:23, 22.42s/it]"
          ]
        },
        {
          "name": "stdout",
          "output_type": "stream",
          "text": [
            "Failed to load iframe after multiple attempts for 금정무산시도삭면.\n",
            "crawling fatil : 금정무산시도삭면 to fail_to_crawling\n",
            "금조: searchIframe 로드 및 프레임 전환 완료\n",
            "금조: 링크버튼을 찾을 수 없음. xpath 대신 다른 방법 시도\n"
          ]
        },
        {
          "name": "stderr",
          "output_type": "stream",
          "text": [
            " 38%|███▊      | 378/999 [2:18:56<3:38:02, 21.07s/it]"
          ]
        },
        {
          "name": "stdout",
          "output_type": "stream",
          "text": [
            "Failed to load iframe after multiple attempts for 금조.\n",
            "crawling fatil : 금조 to fail_to_crawling\n",
            "금촌댁: searchIframe 로드 및 프레임 전환 완료\n",
            "금촌댁: 링크버튼을 찾을 수 없음. xpath 대신 다른 방법 시도\n"
          ]
        },
        {
          "name": "stderr",
          "output_type": "stream",
          "text": [
            " 38%|███▊      | 379/999 [2:19:13<3:25:51, 19.92s/it]"
          ]
        },
        {
          "name": "stdout",
          "output_type": "stream",
          "text": [
            "Failed to load iframe after multiple attempts for 금촌댁.\n",
            "crawling fatil : 금촌댁 to fail_to_crawling\n",
            "금하갈비: searchIframe 로드 및 프레임 전환 완료\n",
            "금하갈비: entryIframe이 이미 로드됨. 클릭 없이 바로 진행\n",
            "entryIframe 로드.\n",
            "Error while extracting menu/features for 금하갈비, div 1:\n",
            "Error while extracting menu/features for 금하갈비, div 2:\n"
          ]
        },
        {
          "name": "stderr",
          "output_type": "stream",
          "text": [
            " 38%|███▊      | 380/999 [2:19:35<3:31:29, 20.50s/it]"
          ]
        },
        {
          "name": "stdout",
          "output_type": "stream",
          "text": [
            "금하순대: searchIframe 로드 및 프레임 전환 완료\n",
            "금하순대: entryIframe이 이미 로드됨. 클릭 없이 바로 진행\n",
            "entryIframe 로드.\n",
            "Error while extracting datalab information for 금하순대:\n"
          ]
        },
        {
          "name": "stderr",
          "output_type": "stream",
          "text": [
            " 38%|███▊      | 381/999 [2:19:50<3:13:12, 18.76s/it]"
          ]
        },
        {
          "name": "stdout",
          "output_type": "stream",
          "text": [
            "Error while navigating to reviews for 금하순대:\n",
            " 사진 버튼 없음 : 금하순대.\n",
            "금하식당: searchIframe 로드 및 프레임 전환 완료\n",
            "금하식당: 첫 번째 가게 클릭 후 전환되지 않음. 다음 가게로 진행\n",
            "entryIframe 로드.\n",
            "Error while extracting menu/features for 금하식당, div 1:\n"
          ]
        },
        {
          "name": "stderr",
          "output_type": "stream",
          "text": [
            " 38%|███▊      | 382/999 [2:20:16<3:35:20, 20.94s/it]"
          ]
        },
        {
          "name": "stdout",
          "output_type": "stream",
          "text": [
            "Error while extracting menu/features for 금하식당, div 2:\n",
            " 사진 버튼 없음 : 금하식당.\n",
            "금화: searchIframe 로드 및 프레임 전환 완료\n",
            "금화: 링크버튼을 찾을 수 없음. xpath 대신 다른 방법 시도\n"
          ]
        },
        {
          "name": "stderr",
          "output_type": "stream",
          "text": [
            " 38%|███▊      | 383/999 [2:20:34<3:26:08, 20.08s/it]"
          ]
        },
        {
          "name": "stdout",
          "output_type": "stream",
          "text": [
            "Failed to load iframe after multiple attempts for 금화.\n",
            "crawling fatil : 금화 to fail_to_crawling\n",
            "금화덕: searchIframe 로드 및 프레임 전환 완료\n",
            "금화덕: entryIframe이 이미 로드됨. 클릭 없이 바로 진행\n",
            "entryIframe 로드.\n",
            "Error while extracting menu/features for 금화덕, div 1:\n"
          ]
        },
        {
          "name": "stderr",
          "output_type": "stream",
          "text": [
            " 38%|███▊      | 384/999 [2:20:53<3:23:01, 19.81s/it]"
          ]
        },
        {
          "name": "stdout",
          "output_type": "stream",
          "text": [
            "Error while extracting menu/features for 금화덕, div 2:\n",
            " 사진 버튼 없음 : 금화덕.\n",
            "금화음식점: searchIframe 로드 및 프레임 전환 완료\n",
            "금화음식점: 링크버튼을 찾을 수 없음. xpath 대신 다른 방법 시도\n"
          ]
        },
        {
          "name": "stderr",
          "output_type": "stream",
          "text": [
            " 39%|███▊      | 385/999 [2:21:12<3:21:06, 19.65s/it]"
          ]
        },
        {
          "name": "stdout",
          "output_type": "stream",
          "text": [
            "Failed to load iframe after multiple attempts for 금화음식점.\n",
            "crawling fatil : 금화음식점 to fail_to_crawling\n",
            "긍정동커피: searchIframe 로드 및 프레임 전환 완료\n",
            "긍정동커피: entryIframe이 이미 로드됨. 클릭 없이 바로 진행\n",
            "entryIframe 로드.\n",
            "Error while extracting menu/features for 긍정동커피, div 1:\n",
            "Error while extracting menu/features for 긍정동커피, div 2:\n"
          ]
        },
        {
          "name": "stderr",
          "output_type": "stream",
          "text": [
            " 39%|███▊      | 386/999 [2:21:33<3:25:17, 20.09s/it]"
          ]
        },
        {
          "name": "stdout",
          "output_type": "stream",
          "text": [
            "기대만족 신제주점: searchIframe 로드 및 프레임 전환 완료\n",
            "기대만족 신제주점: entryIframe이 이미 로드됨. 클릭 없이 바로 진행\n",
            "entryIframe 로드.\n",
            "Error while extracting menu/features for 기대만족 신제주점, div 1:\n",
            "Error while extracting menu/features for 기대만족 신제주점, div 2:\n"
          ]
        },
        {
          "name": "stderr",
          "output_type": "stream",
          "text": [
            " 39%|███▊      | 387/999 [2:21:54<3:28:12, 20.41s/it]"
          ]
        },
        {
          "name": "stdout",
          "output_type": "stream",
          "text": [
            "기대만족 제주점: searchIframe 로드 및 프레임 전환 완료\n",
            "기대만족 제주점: entryIframe이 이미 로드됨. 클릭 없이 바로 진행\n",
            "entryIframe 로드.\n",
            "Error while extracting menu/features for 기대만족 제주점, div 1:\n",
            "Error while extracting menu/features for 기대만족 제주점, div 2:\n"
          ]
        },
        {
          "name": "stderr",
          "output_type": "stream",
          "text": [
            " 39%|███▉      | 388/999 [2:22:13<3:23:33, 19.99s/it]"
          ]
        },
        {
          "name": "stdout",
          "output_type": "stream",
          "text": [
            "기똥차네: searchIframe 로드 및 프레임 전환 완료\n",
            "Error while clicking first search result for 기똥차네: Unable to locate list container.\n"
          ]
        },
        {
          "name": "stderr",
          "output_type": "stream",
          "text": [
            " 39%|███▉      | 389/999 [2:22:34<3:26:19, 20.29s/it]"
          ]
        },
        {
          "name": "stdout",
          "output_type": "stream",
          "text": [
            "Failed to load iframe after multiple attempts for 기똥차네.\n",
            "crawling fatil : 기똥차네 to fail_to_crawling\n",
            "기리시마: searchIframe 로드 및 프레임 전환 완료\n",
            "기리시마: entryIframe이 이미 로드됨. 클릭 없이 바로 진행\n",
            "entryIframe 로드.\n",
            "Error while extracting menu/features for 기리시마, div 1:\n",
            "Error while extracting menu/features for 기리시마, div 2:\n"
          ]
        },
        {
          "name": "stderr",
          "output_type": "stream",
          "text": [
            " 39%|███▉      | 390/999 [2:22:56<3:29:36, 20.65s/it]"
          ]
        },
        {
          "name": "stdout",
          "output_type": "stream",
          "text": [
            "기분: searchIframe 로드 및 프레임 전환 완료\n",
            "기분: 첫 번째 가게 클릭 후 전환되지 않음. 다음 가게로 진행\n",
            "entryIframe 로드.\n",
            "Error while extracting menu/features for 기분, div 1:\n",
            "Error while extracting menu/features for 기분, div 2:\n"
          ]
        },
        {
          "name": "stderr",
          "output_type": "stream",
          "text": [
            " 39%|███▉      | 391/999 [2:23:25<3:53:49, 23.07s/it]"
          ]
        },
        {
          "name": "stdout",
          "output_type": "stream",
          "text": [
            "기쁨이네해물탕앤돌솥밥: searchIframe 로드 및 프레임 전환 완료\n",
            "기쁨이네해물탕앤돌솥밥: entryIframe이 이미 로드됨. 클릭 없이 바로 진행\n",
            "entryIframe 로드.\n",
            "Error while extracting menu/features for 기쁨이네해물탕앤돌솥밥, div 1:\n",
            "Error while extracting menu/features for 기쁨이네해물탕앤돌솥밥, div 2:\n"
          ]
        },
        {
          "name": "stderr",
          "output_type": "stream",
          "text": [
            " 39%|███▉      | 392/999 [2:23:46<3:48:43, 22.61s/it]"
          ]
        },
        {
          "name": "stdout",
          "output_type": "stream",
          "text": [
            "기시어멍김밥: searchIframe 로드 및 프레임 전환 완료\n",
            "기시어멍김밥: 링크버튼을 찾을 수 없음. xpath 대신 다른 방법 시도\n"
          ]
        },
        {
          "name": "stderr",
          "output_type": "stream",
          "text": [
            " 39%|███▉      | 393/999 [2:24:04<3:34:10, 21.21s/it]"
          ]
        },
        {
          "name": "stdout",
          "output_type": "stream",
          "text": [
            "Failed to load iframe after multiple attempts for 기시어멍김밥.\n",
            "crawling fatil : 기시어멍김밥 to fail_to_crawling\n",
            "기어서집까지: searchIframe 로드 및 프레임 전환 완료\n",
            "기어서집까지: entryIframe이 이미 로드됨. 클릭 없이 바로 진행\n",
            "entryIframe 로드.\n",
            "Error while extracting menu/features for 기어서집까지, div 1:\n",
            "Error while extracting menu/features for 기어서집까지, div 2:\n"
          ]
        },
        {
          "name": "stderr",
          "output_type": "stream",
          "text": [
            " 39%|███▉      | 394/999 [2:24:25<3:33:16, 21.15s/it]"
          ]
        },
        {
          "name": "stdout",
          "output_type": "stream",
          "text": [
            "기억나는집: searchIframe 로드 및 프레임 전환 완료\n",
            "기억나는집: 첫 번째 가게 클릭 후 전환되지 않음. 다음 가게로 진행\n",
            "entryIframe 로드.\n",
            "Error while extracting menu/features for 기억나는집, div 1:\n",
            "Error while extracting menu/features for 기억나는집, div 2:\n"
          ]
        },
        {
          "name": "stderr",
          "output_type": "stream",
          "text": [
            " 40%|███▉      | 395/999 [2:24:51<3:47:31, 22.60s/it]"
          ]
        },
        {
          "name": "stdout",
          "output_type": "stream",
          "text": [
            "기영이숯불두마리치킨제주이도점: searchIframe 로드 및 프레임 전환 완료\n",
            "Error while clicking first search result for 기영이숯불두마리치킨제주이도점: Unable to locate list container.\n"
          ]
        },
        {
          "name": "stderr",
          "output_type": "stream",
          "text": [
            " 40%|███▉      | 396/999 [2:25:12<3:42:57, 22.19s/it]"
          ]
        },
        {
          "name": "stdout",
          "output_type": "stream",
          "text": [
            "Failed to load iframe after multiple attempts for 기영이숯불두마리치킨제주이도점.\n",
            "crawling fatil : 기영이숯불두마리치킨제주이도점 to fail_to_crawling\n",
            "기완상점: searchIframe 로드 및 프레임 전환 완료\n",
            "기완상점: entryIframe이 이미 로드됨. 클릭 없이 바로 진행\n",
            "entryIframe 로드.\n",
            "Error while extracting datalab information for 기완상점:\n",
            "Error while navigating to reviews for 기완상점:\n"
          ]
        },
        {
          "name": "stderr",
          "output_type": "stream",
          "text": [
            " 40%|███▉      | 397/999 [2:25:33<3:38:29, 21.78s/it]"
          ]
        },
        {
          "name": "stdout",
          "output_type": "stream",
          "text": [
            "기운네흑돼지: searchIframe 로드 및 프레임 전환 완료\n",
            "기운네흑돼지: entryIframe이 이미 로드됨. 클릭 없이 바로 진행\n",
            "entryIframe 로드.\n",
            "Error while extracting menu/features for 기운네흑돼지, div 1:\n"
          ]
        },
        {
          "name": "stderr",
          "output_type": "stream",
          "text": [
            " 40%|███▉      | 398/999 [2:25:52<3:29:55, 20.96s/it]"
          ]
        },
        {
          "name": "stdout",
          "output_type": "stream",
          "text": [
            "Error while extracting menu/features for 기운네흑돼지, div 2:\n",
            " 사진 버튼 없음 : 기운네흑돼지.\n",
            "기원 은갈치: searchIframe 로드 및 프레임 전환 완료\n",
            "기원 은갈치: entryIframe이 이미 로드됨. 클릭 없이 바로 진행\n",
            "entryIframe 로드.\n",
            "Error while extracting menu/features for 기원 은갈치, div 1:\n"
          ]
        },
        {
          "name": "stderr",
          "output_type": "stream",
          "text": [
            " 40%|███▉      | 399/999 [2:26:11<3:23:24, 20.34s/it]"
          ]
        },
        {
          "name": "stdout",
          "output_type": "stream",
          "text": [
            "Error while extracting menu/features for 기원 은갈치, div 2:\n",
            " 사진 버튼 없음 : 기원 은갈치.\n",
            "기원은갈치본점: searchIframe 로드 및 프레임 전환 완료\n",
            "기원은갈치본점: entryIframe이 이미 로드됨. 클릭 없이 바로 진행\n",
            "entryIframe 로드.\n",
            "Error while extracting menu/features for 기원은갈치본점, div 1:\n"
          ]
        },
        {
          "name": "stderr",
          "output_type": "stream",
          "text": [
            " 40%|████      | 400/999 [2:26:30<3:19:12, 19.95s/it]"
          ]
        },
        {
          "name": "stdout",
          "output_type": "stream",
          "text": [
            "Error while extracting menu/features for 기원은갈치본점, div 2:\n",
            " 사진 버튼 없음 : 기원은갈치본점.\n",
            "기찬밥상: searchIframe 로드 및 프레임 전환 완료\n",
            "기찬밥상: 링크버튼을 찾을 수 없음. xpath 대신 다른 방법 시도\n"
          ]
        },
        {
          "name": "stderr",
          "output_type": "stream",
          "text": [
            " 40%|████      | 401/999 [2:26:48<3:13:00, 19.37s/it]"
          ]
        },
        {
          "name": "stdout",
          "output_type": "stream",
          "text": [
            "Failed to load iframe after multiple attempts for 기찬밥상.\n",
            "crawling fatil : 기찬밥상 to fail_to_crawling\n",
            "기회횟집: searchIframe 로드 및 프레임 전환 완료\n",
            "기회횟집: 첫 번째 가게 클릭 후 전환되지 않음. 다음 가게로 진행\n",
            "entryIframe 로드.\n",
            "Error while extracting menu/features for 기회횟집, div 1:\n",
            "Error while extracting menu/features for 기회횟집, div 2:\n"
          ]
        },
        {
          "name": "stderr",
          "output_type": "stream",
          "text": [
            " 40%|████      | 402/999 [2:27:15<3:33:41, 21.48s/it]"
          ]
        },
        {
          "name": "stdout",
          "output_type": "stream",
          "text": [
            "긱스타 앤 빽다방: searchIframe 로드 및 프레임 전환 완료\n",
            "Error while clicking first search result for 긱스타 앤 빽다방: Unable to locate list container.\n"
          ]
        },
        {
          "name": "stderr",
          "output_type": "stream",
          "text": [
            " 40%|████      | 403/999 [2:27:35<3:30:59, 21.24s/it]"
          ]
        },
        {
          "name": "stdout",
          "output_type": "stream",
          "text": [
            "Failed to load iframe after multiple attempts for 긱스타 앤 빽다방.\n",
            "crawling fatil : 긱스타 앤 빽다방 to fail_to_crawling\n",
            "길림성: searchIframe 로드 및 프레임 전환 완료\n",
            "길림성: 첫 번째 가게 클릭 후 전환되지 않음. 다음 가게로 진행\n",
            "entryIframe 로드.\n",
            "Error while extracting menu/features for 길림성, div 1:\n",
            "Error while extracting menu/features for 길림성, div 2:\n"
          ]
        },
        {
          "name": "stderr",
          "output_type": "stream",
          "text": [
            " 40%|████      | 404/999 [2:28:03<3:50:50, 23.28s/it]"
          ]
        },
        {
          "name": "stdout",
          "output_type": "stream",
          "text": [
            "길벗식당: searchIframe 로드 및 프레임 전환 완료\n",
            "길벗식당: 링크버튼을 찾을 수 없음. xpath 대신 다른 방법 시도\n"
          ]
        },
        {
          "name": "stderr",
          "output_type": "stream",
          "text": [
            " 41%|████      | 405/999 [2:28:21<3:34:29, 21.67s/it]"
          ]
        },
        {
          "name": "stdout",
          "output_type": "stream",
          "text": [
            "Failed to load iframe after multiple attempts for 길벗식당.\n",
            "crawling fatil : 길벗식당 to fail_to_crawling\n",
            "길식당: searchIframe 로드 및 프레임 전환 완료\n",
            "길식당: 첫 번째 가게 클릭 후 전환되지 않음. 다음 가게로 진행\n",
            "entryIframe 로드.\n",
            "Error while extracting datalab information for 길식당:\n",
            "Error while navigating to reviews for 길식당:\n"
          ]
        },
        {
          "name": "stderr",
          "output_type": "stream",
          "text": [
            " 41%|████      | 406/999 [2:28:45<3:40:55, 22.35s/it]"
          ]
        },
        {
          "name": "stdout",
          "output_type": "stream",
          "text": [
            "길촌: searchIframe 로드 및 프레임 전환 완료\n",
            "길촌: 첫 번째 가게 클릭 후 전환되지 않음. 다음 가게로 진행\n",
            "entryIframe 로드.\n",
            "Error while extracting menu/features for 길촌, div 1:\n",
            "Error while extracting menu/features for 길촌, div 2:\n"
          ]
        },
        {
          "name": "stderr",
          "output_type": "stream",
          "text": [
            " 41%|████      | 407/999 [2:29:13<3:57:46, 24.10s/it]"
          ]
        },
        {
          "name": "stdout",
          "output_type": "stream",
          "text": [
            "김가네: searchIframe 로드 및 프레임 전환 완료\n",
            "김가네: 첫 번째 가게 클릭 후 전환되지 않음. 다음 가게로 진행\n",
            "entryIframe 로드.\n",
            "Error while extracting menu/features for 김가네, div 1:\n",
            "Error while extracting menu/features for 김가네, div 2:\n"
          ]
        },
        {
          "name": "stderr",
          "output_type": "stream",
          "text": [
            " 41%|████      | 408/999 [2:29:42<4:10:00, 25.38s/it]"
          ]
        },
        {
          "name": "stdout",
          "output_type": "stream",
          "text": [
            "김가네이도점: searchIframe 로드 및 프레임 전환 완료\n",
            "김가네이도점: entryIframe이 이미 로드됨. 클릭 없이 바로 진행\n",
            "entryIframe 로드.\n",
            "Error while extracting menu/features for 김가네이도점, div 1:\n",
            "Error while extracting menu/features for 김가네이도점, div 2:\n"
          ]
        },
        {
          "name": "stderr",
          "output_type": "stream",
          "text": [
            " 41%|████      | 409/999 [2:30:03<3:57:02, 24.11s/it]"
          ]
        },
        {
          "name": "stdout",
          "output_type": "stream",
          "text": [
            "김가네해물뚝배기: searchIframe 로드 및 프레임 전환 완료\n",
            "Error while clicking first search result for 김가네해물뚝배기: Unable to locate list container.\n"
          ]
        },
        {
          "name": "stderr",
          "output_type": "stream",
          "text": [
            " 41%|████      | 410/999 [2:30:23<3:45:32, 22.98s/it]"
          ]
        },
        {
          "name": "stdout",
          "output_type": "stream",
          "text": [
            "Failed to load iframe after multiple attempts for 김가네해물뚝배기.\n",
            "crawling fatil : 김가네해물뚝배기 to fail_to_crawling\n",
            "김가네흑돼지: searchIframe 로드 및 프레임 전환 완료\n",
            "김가네흑돼지: 링크버튼을 찾을 수 없음. xpath 대신 다른 방법 시도\n"
          ]
        },
        {
          "name": "stderr",
          "output_type": "stream",
          "text": [
            " 41%|████      | 411/999 [2:30:41<3:30:37, 21.49s/it]"
          ]
        },
        {
          "name": "stdout",
          "output_type": "stream",
          "text": [
            "Failed to load iframe after multiple attempts for 김가네흑돼지.\n",
            "crawling fatil : 김가네흑돼지 to fail_to_crawling\n",
            "김가네흑돼지 서귀포올레시장점: searchIframe 로드 및 프레임 전환 완료\n",
            "Error while clicking first search result for 김가네흑돼지 서귀포올레시장점: Unable to locate list container.\n"
          ]
        },
        {
          "name": "stderr",
          "output_type": "stream",
          "text": [
            " 41%|████      | 412/999 [2:31:02<3:27:25, 21.20s/it]"
          ]
        },
        {
          "name": "stdout",
          "output_type": "stream",
          "text": [
            "Failed to load iframe after multiple attempts for 김가네흑돼지 서귀포올레시장점.\n",
            "crawling fatil : 김가네흑돼지 서귀포올레시장점 to fail_to_crawling\n",
            "김고기: searchIframe 로드 및 프레임 전환 완료\n",
            "김고기: 첫 번째 가게 클릭 후 전환되지 않음. 다음 가게로 진행\n",
            "entryIframe 로드.\n",
            "Error while extracting menu/features for 김고기, div 1:\n",
            "Error while extracting menu/features for 김고기, div 2:\n"
          ]
        },
        {
          "name": "stderr",
          "output_type": "stream",
          "text": [
            " 41%|████▏     | 413/999 [2:31:30<3:47:17, 23.27s/it]"
          ]
        },
        {
          "name": "stdout",
          "output_type": "stream",
          "text": [
            "김녕가마솥사골국밥: searchIframe 로드 및 프레임 전환 완료\n",
            "Error while clicking first search result for 김녕가마솥사골국밥: Unable to locate list container.\n"
          ]
        },
        {
          "name": "stderr",
          "output_type": "stream",
          "text": [
            " 41%|████▏     | 414/999 [2:31:50<3:38:25, 22.40s/it]"
          ]
        },
        {
          "name": "stdout",
          "output_type": "stream",
          "text": [
            "Failed to load iframe after multiple attempts for 김녕가마솥사골국밥.\n",
            "crawling fatil : 김녕가마솥사골국밥 to fail_to_crawling\n",
            "김녕대성횟집: searchIframe 로드 및 프레임 전환 완료\n",
            "김녕대성횟집: entryIframe이 이미 로드됨. 클릭 없이 바로 진행\n",
            "entryIframe 로드.\n",
            "Error while extracting menu/features for 김녕대성횟집, div 1:\n",
            "Error while extracting menu/features for 김녕대성횟집, div 2:\n"
          ]
        },
        {
          "name": "stderr",
          "output_type": "stream",
          "text": [
            " 42%|████▏     | 415/999 [2:32:11<3:33:24, 21.93s/it]"
          ]
        },
        {
          "name": "stdout",
          "output_type": "stream",
          "text": [
            "김녕미항: searchIframe 로드 및 프레임 전환 완료\n",
            "김녕미항: entryIframe이 이미 로드됨. 클릭 없이 바로 진행\n",
            "entryIframe 로드.\n",
            "Error while extracting menu/features for 김녕미항, div 1:\n",
            "Error while extracting menu/features for 김녕미항, div 2:\n"
          ]
        },
        {
          "name": "stderr",
          "output_type": "stream",
          "text": [
            " 42%|████▏     | 416/999 [2:32:32<3:30:51, 21.70s/it]"
          ]
        },
        {
          "name": "stdout",
          "output_type": "stream",
          "text": [
            "김녕빵집: searchIframe 로드 및 프레임 전환 완료\n",
            "김녕빵집: 첫 번째 가게 클릭 후 전환되지 않음. 다음 가게로 진행\n",
            "entryIframe 로드.\n",
            "Error while extracting menu/features for 김녕빵집, div 1:\n",
            "Error while extracting menu/features for 김녕빵집, div 2:\n"
          ]
        },
        {
          "name": "stderr",
          "output_type": "stream",
          "text": [
            " 42%|████▏     | 417/999 [2:32:58<3:43:25, 23.03s/it]"
          ]
        },
        {
          "name": "stdout",
          "output_type": "stream",
          "text": [
            "김녕식당: searchIframe 로드 및 프레임 전환 완료\n",
            "김녕식당: 첫 번째 가게 클릭 후 전환되지 않음. 다음 가게로 진행\n",
            "entryIframe 로드.\n",
            "Error while extracting menu/features for 김녕식당, div 1:\n"
          ]
        },
        {
          "name": "stderr",
          "output_type": "stream",
          "text": [
            " 42%|████▏     | 418/999 [2:33:23<3:46:54, 23.43s/it]"
          ]
        },
        {
          "name": "stdout",
          "output_type": "stream",
          "text": [
            "Error while extracting menu/features for 김녕식당, div 2:\n",
            " 사진 버튼 없음 : 김녕식당.\n",
            "김녕오라이: searchIframe 로드 및 프레임 전환 완료\n",
            "김녕오라이: 첫 번째 가게 클릭 후 전환되지 않음. 다음 가게로 진행\n",
            "entryIframe 로드.\n",
            "Error while extracting menu/features for 김녕오라이, div 1:\n",
            "Error while extracting menu/features for 김녕오라이, div 2:\n"
          ]
        },
        {
          "name": "stderr",
          "output_type": "stream",
          "text": [
            " 42%|████▏     | 419/999 [2:33:51<4:01:35, 24.99s/it]"
          ]
        },
        {
          "name": "stdout",
          "output_type": "stream",
          "text": [
            "김녕장터국수: searchIframe 로드 및 프레임 전환 완료\n",
            "김녕장터국수: entryIframe이 이미 로드됨. 클릭 없이 바로 진행\n",
            "entryIframe 로드.\n",
            "Error while extracting menu/features for 김녕장터국수, div 1:\n",
            "Error while extracting menu/features for 김녕장터국수, div 2:\n"
          ]
        },
        {
          "name": "stderr",
          "output_type": "stream",
          "text": [
            " 42%|████▏     | 420/999 [2:34:13<3:51:01, 23.94s/it]"
          ]
        },
        {
          "name": "stdout",
          "output_type": "stream",
          "text": [
            "김녕제주흑돼지식당: searchIframe 로드 및 프레임 전환 완료\n",
            "김녕제주흑돼지식당: 첫 번째 가게 클릭 후 전환되지 않음. 다음 가게로 진행\n",
            "entryIframe 로드.\n",
            "Error while extracting menu/features for 김녕제주흑돼지식당, div 1:\n",
            "Error while extracting menu/features for 김녕제주흑돼지식당, div 2:\n"
          ]
        },
        {
          "name": "stderr",
          "output_type": "stream",
          "text": [
            " 42%|████▏     | 421/999 [2:34:39<3:58:43, 24.78s/it]"
          ]
        },
        {
          "name": "stdout",
          "output_type": "stream",
          "text": [
            "김녕제주흑돼지정육점식당: searchIframe 로드 및 프레임 전환 완료\n",
            "김녕제주흑돼지정육점식당: entryIframe이 이미 로드됨. 클릭 없이 바로 진행\n",
            "entryIframe 로드.\n",
            "Error while extracting menu/features for 김녕제주흑돼지정육점식당, div 1:\n",
            "Error while extracting menu/features for 김녕제주흑돼지정육점식당, div 2:\n"
          ]
        },
        {
          "name": "stderr",
          "output_type": "stream",
          "text": [
            " 42%|████▏     | 422/999 [2:35:01<3:47:55, 23.70s/it]"
          ]
        },
        {
          "name": "stdout",
          "output_type": "stream",
          "text": [
            "김녕해녀촌: searchIframe 로드 및 프레임 전환 완료\n",
            "김녕해녀촌: entryIframe이 이미 로드됨. 클릭 없이 바로 진행\n",
            "entryIframe 로드.\n",
            "Error while extracting menu/features for 김녕해녀촌, div 1:\n",
            "Error while extracting menu/features for 김녕해녀촌, div 2:\n"
          ]
        },
        {
          "name": "stderr",
          "output_type": "stream",
          "text": [
            " 42%|████▏     | 423/999 [2:35:20<3:35:27, 22.44s/it]"
          ]
        },
        {
          "name": "stdout",
          "output_type": "stream",
          "text": [
            "김녕회관: searchIframe 로드 및 프레임 전환 완료\n",
            "김녕회관: 첫 번째 가게 클릭 후 전환되지 않음. 다음 가게로 진행\n",
            "entryIframe 로드.\n",
            "Error while extracting menu/features for 김녕회관, div 1:\n",
            "Error while extracting menu/features for 김녕회관, div 2:\n"
          ]
        },
        {
          "name": "stderr",
          "output_type": "stream",
          "text": [
            " 42%|████▏     | 424/999 [2:35:48<3:51:14, 24.13s/it]"
          ]
        },
        {
          "name": "stdout",
          "output_type": "stream",
          "text": [
            "김대감: searchIframe 로드 및 프레임 전환 완료\n",
            "김대감: 첫 번째 가게 클릭 후 전환되지 않음. 다음 가게로 진행\n",
            "entryIframe 로드.\n",
            "Error while extracting menu/features for 김대감, div 1:\n",
            "Error while extracting menu/features for 김대감, div 2:\n"
          ]
        },
        {
          "name": "stderr",
          "output_type": "stream",
          "text": [
            " 43%|████▎     | 425/999 [2:36:16<4:02:20, 25.33s/it]"
          ]
        },
        {
          "name": "stdout",
          "output_type": "stream",
          "text": [
            "김덕규 옛날통닭: searchIframe 로드 및 프레임 전환 완료\n",
            "Error while clicking first search result for 김덕규 옛날통닭: Unable to locate list container.\n"
          ]
        },
        {
          "name": "stderr",
          "output_type": "stream",
          "text": [
            " 43%|████▎     | 426/999 [2:36:37<3:49:40, 24.05s/it]"
          ]
        },
        {
          "name": "stdout",
          "output_type": "stream",
          "text": [
            "Failed to load iframe after multiple attempts for 김덕규 옛날통닭.\n",
            "crawling fatil : 김덕규 옛날통닭 to fail_to_crawling\n",
            "김도희의갈치창고: searchIframe 로드 및 프레임 전환 완료\n",
            "김도희의갈치창고: entryIframe이 이미 로드됨. 클릭 없이 바로 진행\n",
            "entryIframe 로드.\n",
            "Error while extracting menu/features for 김도희의갈치창고, div 1:\n",
            "Error while extracting menu/features for 김도희의갈치창고, div 2:\n"
          ]
        },
        {
          "name": "stderr",
          "output_type": "stream",
          "text": [
            " 43%|████▎     | 427/999 [2:37:01<3:47:17, 23.84s/it]"
          ]
        },
        {
          "name": "stdout",
          "output_type": "stream",
          "text": [
            "김마리: searchIframe 로드 및 프레임 전환 완료\n",
            "김마리: 링크버튼을 찾을 수 없음. xpath 대신 다른 방법 시도\n"
          ]
        },
        {
          "name": "stderr",
          "output_type": "stream",
          "text": [
            " 43%|████▎     | 428/999 [2:37:19<3:30:13, 22.09s/it]"
          ]
        },
        {
          "name": "stdout",
          "output_type": "stream",
          "text": [
            "Failed to load iframe after multiple attempts for 김마리.\n",
            "crawling fatil : 김마리 to fail_to_crawling\n",
            "김만복고기국수: searchIframe 로드 및 프레임 전환 완료\n",
            "김만복고기국수: entryIframe이 이미 로드됨. 클릭 없이 바로 진행\n",
            "entryIframe 로드.\n",
            "Error while extracting menu/features for 김만복고기국수, div 1:\n",
            "Error while extracting menu/features for 김만복고기국수, div 2:\n"
          ]
        },
        {
          "name": "stderr",
          "output_type": "stream",
          "text": [
            " 43%|████▎     | 429/999 [2:37:38<3:21:12, 21.18s/it]"
          ]
        },
        {
          "name": "stdout",
          "output_type": "stream",
          "text": [
            "김명자굴국밥: searchIframe 로드 및 프레임 전환 완료\n",
            "김명자굴국밥: 첫 번째 가게 클릭 후 전환되지 않음. 다음 가게로 진행\n",
            "entryIframe 로드.\n",
            "Error while extracting menu/features for 김명자굴국밥, div 1:\n",
            "Error while extracting menu/features for 김명자굴국밥, div 2:\n"
          ]
        },
        {
          "name": "stderr",
          "output_type": "stream",
          "text": [
            " 43%|████▎     | 430/999 [2:38:06<3:41:34, 23.37s/it]"
          ]
        },
        {
          "name": "stdout",
          "output_type": "stream",
          "text": [
            "김명자굴국밥 화북점: searchIframe 로드 및 프레임 전환 완료\n",
            "김명자굴국밥 화북점: entryIframe이 이미 로드됨. 클릭 없이 바로 진행\n",
            "entryIframe 로드.\n",
            "Error while extracting menu/features for 김명자굴국밥 화북점, div 1:\n",
            "Error while extracting menu/features for 김명자굴국밥 화북점, div 2:\n"
          ]
        },
        {
          "name": "stderr",
          "output_type": "stream",
          "text": [
            " 43%|████▎     | 431/999 [2:38:25<3:28:47, 22.06s/it]"
          ]
        },
        {
          "name": "stdout",
          "output_type": "stream",
          "text": [
            "김명자굴국밥(성산점): searchIframe 로드 및 프레임 전환 완료\n",
            "Error while clicking first search result for 김명자굴국밥(성산점): Unable to locate list container.\n"
          ]
        },
        {
          "name": "stderr",
          "output_type": "stream",
          "text": [
            " 43%|████▎     | 432/999 [2:38:46<3:25:12, 21.72s/it]"
          ]
        },
        {
          "name": "stdout",
          "output_type": "stream",
          "text": [
            "Failed to load iframe after multiple attempts for 김명자굴국밥(성산점).\n",
            "crawling fatil : 김명자굴국밥(성산점) to fail_to_crawling\n",
            "김명자굴국밥(제주본점): searchIframe 로드 및 프레임 전환 완료\n",
            "김명자굴국밥(제주본점): entryIframe이 이미 로드됨. 클릭 없이 바로 진행\n",
            "entryIframe 로드.\n",
            "Error while extracting menu/features for 김명자굴국밥(제주본점), div 1:\n",
            "Error while extracting menu/features for 김명자굴국밥(제주본점), div 2:\n"
          ]
        },
        {
          "name": "stderr",
          "output_type": "stream",
          "text": [
            " 43%|████▎     | 433/999 [2:39:07<3:22:58, 21.52s/it]"
          ]
        },
        {
          "name": "stdout",
          "output_type": "stream",
          "text": [
            "김명자굴국밥성산점: searchIframe 로드 및 프레임 전환 완료\n",
            "Error while clicking first search result for 김명자굴국밥성산점: Unable to locate list container.\n"
          ]
        },
        {
          "name": "stderr",
          "output_type": "stream",
          "text": [
            " 43%|████▎     | 434/999 [2:39:28<3:21:19, 21.38s/it]"
          ]
        },
        {
          "name": "stdout",
          "output_type": "stream",
          "text": [
            "Failed to load iframe after multiple attempts for 김명자굴국밥성산점.\n",
            "crawling fatil : 김명자굴국밥성산점 to fail_to_crawling\n",
            "김명자굴국밥화북점: searchIframe 로드 및 프레임 전환 완료\n",
            "김명자굴국밥화북점: entryIframe이 이미 로드됨. 클릭 없이 바로 진행\n",
            "entryIframe 로드.\n",
            "Error while extracting menu/features for 김명자굴국밥화북점, div 1:\n",
            "Error while extracting menu/features for 김명자굴국밥화북점, div 2:\n"
          ]
        },
        {
          "name": "stderr",
          "output_type": "stream",
          "text": [
            " 44%|████▎     | 435/999 [2:39:50<3:20:34, 21.34s/it]"
          ]
        },
        {
          "name": "stdout",
          "output_type": "stream",
          "text": [
            "김명자낙지마당서귀포점: searchIframe 로드 및 프레임 전환 완료\n",
            "Error while clicking first search result for 김명자낙지마당서귀포점: Unable to locate list container.\n"
          ]
        },
        {
          "name": "stderr",
          "output_type": "stream",
          "text": [
            " 44%|████▎     | 436/999 [2:40:11<3:19:30, 21.26s/it]"
          ]
        },
        {
          "name": "stdout",
          "output_type": "stream",
          "text": [
            "Failed to load iframe after multiple attempts for 김명자낙지마당서귀포점.\n",
            "crawling fatil : 김명자낙지마당서귀포점 to fail_to_crawling\n",
            "김반장: searchIframe 로드 및 프레임 전환 완료\n",
            "김반장: 링크버튼을 찾을 수 없음. xpath 대신 다른 방법 시도\n"
          ]
        },
        {
          "name": "stderr",
          "output_type": "stream",
          "text": [
            " 44%|████▎     | 437/999 [2:40:28<3:09:20, 20.21s/it]"
          ]
        },
        {
          "name": "stdout",
          "output_type": "stream",
          "text": [
            "Failed to load iframe after multiple attempts for 김반장.\n",
            "crawling fatil : 김반장 to fail_to_crawling\n",
            "김밥꼬순내: searchIframe 로드 및 프레임 전환 완료\n",
            "김밥꼬순내: entryIframe이 이미 로드됨. 클릭 없이 바로 진행\n",
            "entryIframe 로드.\n",
            "Error while extracting menu/features for 김밥꼬순내, div 1:\n",
            "Error while extracting menu/features for 김밥꼬순내, div 2:\n"
          ]
        },
        {
          "name": "stderr",
          "output_type": "stream",
          "text": [
            " 44%|████▍     | 438/999 [2:40:50<3:11:47, 20.51s/it]"
          ]
        },
        {
          "name": "stdout",
          "output_type": "stream",
          "text": [
            "김밥노리터: searchIframe 로드 및 프레임 전환 완료\n",
            "김밥노리터: 첫 번째 가게 클릭 후 전환되지 않음. 다음 가게로 진행\n",
            "entryIframe 로드.\n",
            "Error while extracting menu/features for 김밥노리터, div 1:\n",
            "Error while extracting menu/features for 김밥노리터, div 2:\n"
          ]
        },
        {
          "name": "stderr",
          "output_type": "stream",
          "text": [
            " 44%|████▍     | 439/999 [2:41:18<3:33:30, 22.88s/it]"
          ]
        },
        {
          "name": "stdout",
          "output_type": "stream",
          "text": [
            "김밥명가: searchIframe 로드 및 프레임 전환 완료\n",
            "김밥명가: 첫 번째 가게 클릭 후 전환되지 않음. 다음 가게로 진행\n",
            "entryIframe 로드.\n",
            "Error while extracting menu/features for 김밥명가, div 1:\n",
            "Error while extracting menu/features for 김밥명가, div 2:\n"
          ]
        },
        {
          "name": "stderr",
          "output_type": "stream",
          "text": [
            " 44%|████▍     | 440/999 [2:41:47<3:50:02, 24.69s/it]"
          ]
        },
        {
          "name": "stdout",
          "output_type": "stream",
          "text": [
            "김밥명가 서귀포점: searchIframe 로드 및 프레임 전환 완료\n",
            "김밥명가 서귀포점: entryIframe이 이미 로드됨. 클릭 없이 바로 진행\n",
            "entryIframe 로드.\n",
            "Error while extracting menu/features for 김밥명가 서귀포점, div 1:\n",
            "Error while extracting menu/features for 김밥명가 서귀포점, div 2:\n"
          ]
        },
        {
          "name": "stderr",
          "output_type": "stream",
          "text": [
            " 44%|████▍     | 441/999 [2:42:09<3:41:51, 23.86s/it]"
          ]
        },
        {
          "name": "stdout",
          "output_type": "stream",
          "text": [
            "김밥상회: searchIframe 로드 및 프레임 전환 완료\n",
            "김밥상회: 첫 번째 가게 클릭 후 전환되지 않음. 다음 가게로 진행\n",
            "entryIframe 로드.\n",
            "Error while extracting menu/features for 김밥상회, div 1:\n",
            "Error while extracting menu/features for 김밥상회, div 2:\n"
          ]
        },
        {
          "name": "stderr",
          "output_type": "stream",
          "text": [
            " 44%|████▍     | 442/999 [2:42:36<3:50:30, 24.83s/it]"
          ]
        },
        {
          "name": "stdout",
          "output_type": "stream",
          "text": [
            "김밥옆구리: searchIframe 로드 및 프레임 전환 완료\n",
            "김밥옆구리: 첫 번째 가게 클릭 후 전환되지 않음. 다음 가게로 진행\n",
            "entryIframe 로드.\n",
            "Error while extracting menu/features for 김밥옆구리, div 1:\n",
            "Error while extracting menu/features for 김밥옆구리, div 2:\n"
          ]
        },
        {
          "name": "stderr",
          "output_type": "stream",
          "text": [
            " 44%|████▍     | 443/999 [2:43:04<3:59:53, 25.89s/it]"
          ]
        },
        {
          "name": "stdout",
          "output_type": "stream",
          "text": [
            "김밥천국 서귀포점: searchIframe 로드 및 프레임 전환 완료\n",
            "김밥천국 서귀포점: entryIframe이 이미 로드됨. 클릭 없이 바로 진행\n",
            "entryIframe 로드.\n",
            "Error while extracting menu/features for 김밥천국 서귀포점, div 1:\n",
            "Error while extracting menu/features for 김밥천국 서귀포점, div 2:\n"
          ]
        },
        {
          "name": "stderr",
          "output_type": "stream",
          "text": [
            " 44%|████▍     | 444/999 [2:43:26<3:47:14, 24.57s/it]"
          ]
        },
        {
          "name": "stdout",
          "output_type": "stream",
          "text": [
            "김밥천국 시청본점: searchIframe 로드 및 프레임 전환 완료\n",
            "Error while clicking first search result for 김밥천국 시청본점: Unable to locate list container.\n"
          ]
        },
        {
          "name": "stderr",
          "output_type": "stream",
          "text": [
            " 45%|████▍     | 445/999 [2:43:46<3:35:24, 23.33s/it]"
          ]
        },
        {
          "name": "stdout",
          "output_type": "stream",
          "text": [
            "Failed to load iframe after multiple attempts for 김밥천국 시청본점.\n",
            "crawling fatil : 김밥천국 시청본점 to fail_to_crawling\n",
            "김밥천국 연동점: searchIframe 로드 및 프레임 전환 완료\n",
            "김밥천국 연동점: entryIframe이 이미 로드됨. 클릭 없이 바로 진행\n",
            "entryIframe 로드.\n",
            "Error while extracting menu/features for 김밥천국 연동점, div 1:\n",
            "Error while extracting menu/features for 김밥천국 연동점, div 2:\n"
          ]
        },
        {
          "name": "stderr",
          "output_type": "stream",
          "text": [
            " 45%|████▍     | 446/999 [2:44:07<3:28:55, 22.67s/it]"
          ]
        },
        {
          "name": "stdout",
          "output_type": "stream",
          "text": [
            "김밥천국 이도점: searchIframe 로드 및 프레임 전환 완료\n",
            "김밥천국 이도점: entryIframe이 이미 로드됨. 클릭 없이 바로 진행\n",
            "entryIframe 로드.\n",
            "Error while extracting menu/features for 김밥천국 이도점, div 1:\n",
            "Error while extracting menu/features for 김밥천국 이도점, div 2:\n"
          ]
        },
        {
          "name": "stderr",
          "output_type": "stream",
          "text": [
            " 45%|████▍     | 447/999 [2:44:29<3:24:27, 22.22s/it]"
          ]
        },
        {
          "name": "stdout",
          "output_type": "stream",
          "text": [
            "김밥천국 일도점: searchIframe 로드 및 프레임 전환 완료\n",
            "김밥천국 일도점: entryIframe이 이미 로드됨. 클릭 없이 바로 진행\n",
            "entryIframe 로드.\n",
            "Error while extracting menu/features for 김밥천국 일도점, div 1:\n",
            "Error while extracting menu/features for 김밥천국 일도점, div 2:\n"
          ]
        },
        {
          "name": "stderr",
          "output_type": "stream",
          "text": [
            " 45%|████▍     | 448/999 [2:44:50<3:21:54, 21.99s/it]"
          ]
        },
        {
          "name": "stdout",
          "output_type": "stream",
          "text": [
            "김밥천국광양대학로점: searchIframe 로드 및 프레임 전환 완료\n",
            "김밥천국광양대학로점: entryIframe이 이미 로드됨. 클릭 없이 바로 진행\n",
            "entryIframe 로드.\n",
            "Error while extracting menu/features for 김밥천국광양대학로점, div 1:\n",
            "Error while extracting menu/features for 김밥천국광양대학로점, div 2:\n"
          ]
        },
        {
          "name": "stderr",
          "output_type": "stream",
          "text": [
            " 45%|████▍     | 449/999 [2:45:11<3:18:44, 21.68s/it]"
          ]
        },
        {
          "name": "stdout",
          "output_type": "stream",
          "text": [
            "김밥천국구좌세화점: searchIframe 로드 및 프레임 전환 완료\n",
            "김밥천국구좌세화점: entryIframe이 이미 로드됨. 클릭 없이 바로 진행\n",
            "entryIframe 로드.\n",
            "Error while extracting menu/features for 김밥천국구좌세화점, div 1:\n",
            "Error while extracting menu/features for 김밥천국구좌세화점, div 2:\n"
          ]
        },
        {
          "name": "stderr",
          "output_type": "stream",
          "text": [
            " 45%|████▌     | 450/999 [2:45:32<3:16:42, 21.50s/it]"
          ]
        },
        {
          "name": "stdout",
          "output_type": "stream",
          "text": [
            "김밥천국신연동점: searchIframe 로드 및 프레임 전환 완료\n",
            "김밥천국신연동점: entryIframe이 이미 로드됨. 클릭 없이 바로 진행\n",
            "entryIframe 로드.\n",
            "Error while extracting menu/features for 김밥천국신연동점, div 1:\n",
            "Error while extracting menu/features for 김밥천국신연동점, div 2:\n"
          ]
        },
        {
          "name": "stderr",
          "output_type": "stream",
          "text": [
            " 45%|████▌     | 451/999 [2:45:53<3:15:31, 21.41s/it]"
          ]
        },
        {
          "name": "stdout",
          "output_type": "stream",
          "text": [
            "김밥천국앤테그42외도점: searchIframe 로드 및 프레임 전환 완료\n",
            "Error while clicking first search result for 김밥천국앤테그42외도점: Unable to locate list container.\n"
          ]
        },
        {
          "name": "stderr",
          "output_type": "stream",
          "text": [
            " 45%|████▌     | 452/999 [2:46:14<3:13:07, 21.18s/it]"
          ]
        },
        {
          "name": "stdout",
          "output_type": "stream",
          "text": [
            "Failed to load iframe after multiple attempts for 김밥천국앤테그42외도점.\n",
            "crawling fatil : 김밥천국앤테그42외도점 to fail_to_crawling\n",
            "김밥천국외도해운본점: searchIframe 로드 및 프레임 전환 완료\n",
            "Error while clicking first search result for 김밥천국외도해운본점: Unable to locate list container.\n"
          ]
        },
        {
          "name": "stderr",
          "output_type": "stream",
          "text": [
            " 45%|████▌     | 453/999 [2:46:35<3:11:48, 21.08s/it]"
          ]
        },
        {
          "name": "stdout",
          "output_type": "stream",
          "text": [
            "Failed to load iframe after multiple attempts for 김밥천국외도해운본점.\n",
            "crawling fatil : 김밥천국외도해운본점 to fail_to_crawling\n",
            "김밥천국제주대학점: searchIframe 로드 및 프레임 전환 완료\n",
            "Error while clicking first search result for 김밥천국제주대학점: Unable to locate list container.\n"
          ]
        },
        {
          "name": "stderr",
          "output_type": "stream",
          "text": [
            " 45%|████▌     | 454/999 [2:46:55<3:08:44, 20.78s/it]"
          ]
        },
        {
          "name": "stdout",
          "output_type": "stream",
          "text": [
            "Failed to load iframe after multiple attempts for 김밥천국제주대학점.\n",
            "crawling fatil : 김밥천국제주대학점 to fail_to_crawling\n",
            "김밥천국탑동본점: searchIframe 로드 및 프레임 전환 완료\n",
            "Error while clicking first search result for 김밥천국탑동본점: Unable to locate list container.\n"
          ]
        },
        {
          "name": "stderr",
          "output_type": "stream",
          "text": [
            " 46%|████▌     | 455/999 [2:47:15<3:06:30, 20.57s/it]"
          ]
        },
        {
          "name": "stdout",
          "output_type": "stream",
          "text": [
            "Failed to load iframe after multiple attempts for 김밥천국탑동본점.\n",
            "crawling fatil : 김밥천국탑동본점 to fail_to_crawling\n",
            "김밥천국한림점: searchIframe 로드 및 프레임 전환 완료\n",
            "김밥천국한림점: 링크버튼을 찾을 수 없음. xpath 대신 다른 방법 시도\n"
          ]
        },
        {
          "name": "stderr",
          "output_type": "stream",
          "text": [
            " 46%|████▌     | 456/999 [2:47:32<2:57:22, 19.60s/it]"
          ]
        },
        {
          "name": "stdout",
          "output_type": "stream",
          "text": [
            "Failed to load iframe after multiple attempts for 김밥천국한림점.\n",
            "crawling fatil : 김밥천국한림점 to fail_to_crawling\n",
            "김복남맥주 노형점: searchIframe 로드 및 프레임 전환 완료\n",
            "김복남맥주 노형점: entryIframe이 이미 로드됨. 클릭 없이 바로 진행\n",
            "entryIframe 로드.\n",
            "Error while extracting menu/features for 김복남맥주 노형점, div 1:\n",
            "Error while extracting menu/features for 김복남맥주 노형점, div 2:\n"
          ]
        },
        {
          "name": "stderr",
          "output_type": "stream",
          "text": [
            " 46%|████▌     | 457/999 [2:47:54<3:02:20, 20.19s/it]"
          ]
        },
        {
          "name": "stdout",
          "output_type": "stream",
          "text": [
            "김복남맥주1995서귀포혁신도시점: searchIframe 로드 및 프레임 전환 완료\n",
            "Error while clicking first search result for 김복남맥주1995서귀포혁신도시점: Unable to locate list container.\n"
          ]
        },
        {
          "name": "stderr",
          "output_type": "stream",
          "text": [
            " 46%|████▌     | 458/999 [2:48:14<3:03:23, 20.34s/it]"
          ]
        },
        {
          "name": "stdout",
          "output_type": "stream",
          "text": [
            "Failed to load iframe after multiple attempts for 김복남맥주1995서귀포혁신도시점.\n",
            "crawling fatil : 김복남맥주1995서귀포혁신도시점 to fail_to_crawling\n",
            "김복남맥주삼화점: searchIframe 로드 및 프레임 전환 완료\n",
            "Error while clicking first search result for 김복남맥주삼화점: Unable to locate list container.\n"
          ]
        },
        {
          "name": "stderr",
          "output_type": "stream",
          "text": [
            " 46%|████▌     | 459/999 [2:48:36<3:05:30, 20.61s/it]"
          ]
        },
        {
          "name": "stdout",
          "output_type": "stream",
          "text": [
            "Failed to load iframe after multiple attempts for 김복남맥주삼화점.\n",
            "crawling fatil : 김복남맥주삼화점 to fail_to_crawling\n",
            "김복남맥주제주아라점: searchIframe 로드 및 프레임 전환 완료\n",
            "김복남맥주제주아라점: 링크버튼을 찾을 수 없음. xpath 대신 다른 방법 시도\n"
          ]
        },
        {
          "name": "stderr",
          "output_type": "stream",
          "text": [
            " 46%|████▌     | 460/999 [2:48:53<2:57:05, 19.71s/it]"
          ]
        },
        {
          "name": "stdout",
          "output_type": "stream",
          "text": [
            "Failed to load iframe after multiple attempts for 김복남맥주제주아라점.\n",
            "crawling fatil : 김복남맥주제주아라점 to fail_to_crawling\n",
            "김복남맥주제주연동점: searchIframe 로드 및 프레임 전환 완료\n",
            "김복남맥주제주연동점: entryIframe이 이미 로드됨. 클릭 없이 바로 진행\n",
            "entryIframe 로드.\n",
            "Error while extracting menu/features for 김복남맥주제주연동점, div 1:\n"
          ]
        },
        {
          "name": "stderr",
          "output_type": "stream",
          "text": [
            " 46%|████▌     | 461/999 [2:49:10<2:49:42, 18.93s/it]"
          ]
        },
        {
          "name": "stdout",
          "output_type": "stream",
          "text": [
            "Error while extracting menu/features for 김복남맥주제주연동점, div 2:\n",
            " 사진 버튼 없음 : 김복남맥주제주연동점.\n",
            "김북순큰남비집연동1호점: searchIframe 로드 및 프레임 전환 완료\n",
            "김북순큰남비집연동1호점: entryIframe이 이미 로드됨. 클릭 없이 바로 진행\n",
            "entryIframe 로드.\n",
            "Error while extracting menu/features for 김북순큰남비집연동1호점, div 1:\n",
            "Error while extracting menu/features for 김북순큰남비집연동1호점, div 2:\n"
          ]
        },
        {
          "name": "stderr",
          "output_type": "stream",
          "text": [
            " 46%|████▌     | 462/999 [2:49:32<2:55:48, 19.64s/it]"
          ]
        },
        {
          "name": "stdout",
          "output_type": "stream",
          "text": [
            "김사장네명태조림: searchIframe 로드 및 프레임 전환 완료\n",
            "김사장네명태조림: entryIframe이 이미 로드됨. 클릭 없이 바로 진행\n",
            "entryIframe 로드.\n",
            "Error while extracting menu/features for 김사장네명태조림, div 1:\n",
            "Error while extracting menu/features for 김사장네명태조림, div 2:\n"
          ]
        },
        {
          "name": "stderr",
          "output_type": "stream",
          "text": [
            " 46%|████▋     | 463/999 [2:49:53<3:00:09, 20.17s/it]"
          ]
        },
        {
          "name": "stdout",
          "output_type": "stream",
          "text": [
            "김삿갓보쌈족발: searchIframe 로드 및 프레임 전환 완료\n",
            "김삿갓보쌈족발: 링크버튼을 찾을 수 없음. xpath 대신 다른 방법 시도\n"
          ]
        },
        {
          "name": "stderr",
          "output_type": "stream",
          "text": [
            " 46%|████▋     | 464/999 [2:50:11<2:54:03, 19.52s/it]"
          ]
        },
        {
          "name": "stdout",
          "output_type": "stream",
          "text": [
            "Failed to load iframe after multiple attempts for 김삿갓보쌈족발.\n",
            "crawling fatil : 김삿갓보쌈족발 to fail_to_crawling\n",
            "김서방재첩해장국: searchIframe 로드 및 프레임 전환 완료\n",
            "김서방재첩해장국: entryIframe이 이미 로드됨. 클릭 없이 바로 진행\n",
            "entryIframe 로드.\n",
            "Error while extracting menu/features for 김서방재첩해장국, div 1:\n"
          ]
        },
        {
          "name": "stderr",
          "output_type": "stream",
          "text": [
            " 47%|████▋     | 465/999 [2:50:28<2:47:38, 18.84s/it]"
          ]
        },
        {
          "name": "stdout",
          "output_type": "stream",
          "text": [
            "Error while extracting menu/features for 김서방재첩해장국, div 2:\n",
            " 사진 버튼 없음 : 김서방재첩해장국.\n",
            "김수미 식당: searchIframe 로드 및 프레임 전환 완료\n",
            "김수미 식당: entryIframe이 이미 로드됨. 클릭 없이 바로 진행\n",
            "entryIframe 로드.\n",
            "Error while extracting menu/features for 김수미 식당, div 1:\n",
            "Error while extracting menu/features for 김수미 식당, div 2:\n"
          ]
        },
        {
          "name": "stderr",
          "output_type": "stream",
          "text": [
            " 47%|████▋     | 466/999 [2:50:50<2:53:41, 19.55s/it]"
          ]
        },
        {
          "name": "stdout",
          "output_type": "stream",
          "text": [
            "김씨네음식점: searchIframe 로드 및 프레임 전환 완료\n",
            "김씨네음식점: 링크버튼을 찾을 수 없음. xpath 대신 다른 방법 시도\n"
          ]
        },
        {
          "name": "stderr",
          "output_type": "stream",
          "text": [
            " 47%|████▋     | 467/999 [2:51:08<2:50:21, 19.21s/it]"
          ]
        },
        {
          "name": "stdout",
          "output_type": "stream",
          "text": [
            "Failed to load iframe after multiple attempts for 김씨네음식점.\n",
            "crawling fatil : 김씨네음식점 to fail_to_crawling\n",
            "김여사네: searchIframe 로드 및 프레임 전환 완료\n",
            "김여사네: 첫 번째 가게 클릭 후 전환되지 않음. 다음 가게로 진행\n",
            "entryIframe 로드.\n",
            "Error while extracting menu/features for 김여사네, div 1:\n",
            "Error while extracting menu/features for 김여사네, div 2:\n"
          ]
        },
        {
          "name": "stderr",
          "output_type": "stream",
          "text": [
            " 47%|████▋     | 468/999 [2:51:34<3:08:52, 21.34s/it]"
          ]
        },
        {
          "name": "stdout",
          "output_type": "stream",
          "text": [
            "김영미재첩해장국: searchIframe 로드 및 프레임 전환 완료\n",
            "김영미재첩해장국: entryIframe이 이미 로드됨. 클릭 없이 바로 진행\n",
            "entryIframe 로드.\n",
            "Error while extracting menu/features for 김영미재첩해장국, div 1:\n",
            "Error while extracting menu/features for 김영미재첩해장국, div 2:\n"
          ]
        },
        {
          "name": "stderr",
          "output_type": "stream",
          "text": [
            " 47%|████▋     | 469/999 [2:51:56<3:09:38, 21.47s/it]"
          ]
        },
        {
          "name": "stdout",
          "output_type": "stream",
          "text": [
            "김원꼬치점: searchIframe 로드 및 프레임 전환 완료\n",
            "김원꼬치점: entryIframe이 이미 로드됨. 클릭 없이 바로 진행\n",
            "entryIframe 로드.\n",
            "Error while extracting menu/features for 김원꼬치점, div 1:\n",
            "Error while extracting menu/features for 김원꼬치점, div 2:\n"
          ]
        },
        {
          "name": "stderr",
          "output_type": "stream",
          "text": [
            " 47%|████▋     | 470/999 [2:52:18<3:09:32, 21.50s/it]"
          ]
        },
        {
          "name": "stdout",
          "output_type": "stream",
          "text": [
            "김이박: searchIframe 로드 및 프레임 전환 완료\n",
            "김이박: 링크버튼을 찾을 수 없음. xpath 대신 다른 방법 시도\n"
          ]
        },
        {
          "name": "stderr",
          "output_type": "stream",
          "text": [
            " 47%|████▋     | 471/999 [2:52:35<2:58:20, 20.27s/it]"
          ]
        },
        {
          "name": "stdout",
          "output_type": "stream",
          "text": [
            "Failed to load iframe after multiple attempts for 김이박.\n",
            "crawling fatil : 김이박 to fail_to_crawling\n",
            "김자매아구찜: searchIframe 로드 및 프레임 전환 완료\n",
            "김자매아구찜: entryIframe이 이미 로드됨. 클릭 없이 바로 진행\n",
            "entryIframe 로드.\n",
            "Error while extracting menu/features for 김자매아구찜, div 1:\n",
            "Error while extracting menu/features for 김자매아구찜, div 2:\n"
          ]
        },
        {
          "name": "stderr",
          "output_type": "stream",
          "text": [
            " 47%|████▋     | 472/999 [2:52:56<3:00:59, 20.61s/it]"
          ]
        },
        {
          "name": "stdout",
          "output_type": "stream",
          "text": [
            "김재훈고사리육개장: searchIframe 로드 및 프레임 전환 완료\n",
            "김재훈고사리육개장: entryIframe이 이미 로드됨. 클릭 없이 바로 진행\n",
            "entryIframe 로드.\n",
            "Error while extracting menu/features for 김재훈고사리육개장, div 1:\n",
            "Error while extracting menu/features for 김재훈고사리육개장, div 2:\n"
          ]
        },
        {
          "name": "stderr",
          "output_type": "stream",
          "text": [
            " 47%|████▋     | 473/999 [2:53:20<3:08:41, 21.52s/it]"
          ]
        },
        {
          "name": "stdout",
          "output_type": "stream",
          "text": [
            "김준호의대단한갈비 제주노형점: searchIframe 로드 및 프레임 전환 완료\n",
            "김준호의대단한갈비 제주노형점: entryIframe이 이미 로드됨. 클릭 없이 바로 진행\n",
            "entryIframe 로드.\n",
            "Error while extracting menu/features for 김준호의대단한갈비 제주노형점, div 1:\n",
            "Error while extracting menu/features for 김준호의대단한갈비 제주노형점, div 2:\n"
          ]
        },
        {
          "name": "stderr",
          "output_type": "stream",
          "text": [
            " 47%|████▋     | 474/999 [2:53:41<3:07:50, 21.47s/it]"
          ]
        },
        {
          "name": "stdout",
          "output_type": "stream",
          "text": [
            "김준호의대단한갈비 제주도남점: searchIframe 로드 및 프레임 전환 완료\n",
            "김준호의대단한갈비 제주도남점: entryIframe이 이미 로드됨. 클릭 없이 바로 진행\n",
            "entryIframe 로드.\n",
            "Error while extracting datalab information for 김준호의대단한갈비 제주도남점:\n",
            "Error while extracting menu/features for 김준호의대단한갈비 제주도남점, div 1:\n",
            "Error while navigating to reviews for 김준호의대단한갈비 제주도남점:\n"
          ]
        },
        {
          "name": "stderr",
          "output_type": "stream",
          "text": [
            " 48%|████▊     | 475/999 [2:54:02<3:06:08, 21.31s/it]"
          ]
        },
        {
          "name": "stdout",
          "output_type": "stream",
          "text": [
            "김준호의대단한갈비 제주삼화점: searchIframe 로드 및 프레임 전환 완료\n",
            "김준호의대단한갈비 제주삼화점: entryIframe이 이미 로드됨. 클릭 없이 바로 진행\n",
            "entryIframe 로드.\n",
            "Error while extracting menu/features for 김준호의대단한갈비 제주삼화점, div 1:\n",
            "Error while extracting menu/features for 김준호의대단한갈비 제주삼화점, div 2:\n"
          ]
        },
        {
          "name": "stderr",
          "output_type": "stream",
          "text": [
            " 48%|████▊     | 476/999 [2:54:24<3:07:01, 21.46s/it]"
          ]
        },
        {
          "name": "stdout",
          "output_type": "stream",
          "text": [
            "김준호의대단한갈비 제주서귀포점: searchIframe 로드 및 프레임 전환 완료\n",
            "김준호의대단한갈비 제주서귀포점: 첫 번째 가게 클릭 후 전환되지 않음. 다음 가게로 진행\n",
            "entryIframe 로드.\n",
            "Error while extracting menu/features for 김준호의대단한갈비 제주서귀포점, div 1:\n",
            "Error while extracting menu/features for 김준호의대단한갈비 제주서귀포점, div 2:\n"
          ]
        },
        {
          "name": "stderr",
          "output_type": "stream",
          "text": [
            " 48%|████▊     | 477/999 [2:54:53<3:24:58, 23.56s/it]"
          ]
        },
        {
          "name": "stdout",
          "output_type": "stream",
          "text": [
            "김준호의대단한갈비 제주아라점: searchIframe 로드 및 프레임 전환 완료\n",
            "김준호의대단한갈비 제주아라점: 첫 번째 가게 클릭 후 전환되지 않음. 다음 가게로 진행\n",
            "entryIframe 로드.\n",
            "Error while extracting menu/features for 김준호의대단한갈비 제주아라점, div 1:\n",
            "Error while extracting menu/features for 김준호의대단한갈비 제주아라점, div 2:\n"
          ]
        },
        {
          "name": "stderr",
          "output_type": "stream",
          "text": [
            " 48%|████▊     | 478/999 [2:55:20<3:34:40, 24.72s/it]"
          ]
        },
        {
          "name": "stdout",
          "output_type": "stream",
          "text": [
            "김준호의대단한갈비 제주영어교육도시점: searchIframe 로드 및 프레임 전환 완료\n",
            "Error while clicking first search result for 김준호의대단한갈비 제주영어교육도시점: Unable to locate list container.\n"
          ]
        },
        {
          "name": "stderr",
          "output_type": "stream",
          "text": [
            " 48%|████▊     | 479/999 [2:55:41<3:23:26, 23.47s/it]"
          ]
        },
        {
          "name": "stdout",
          "output_type": "stream",
          "text": [
            "Failed to load iframe after multiple attempts for 김준호의대단한갈비 제주영어교육도시점.\n",
            "crawling fatil : 김준호의대단한갈비 제주영어교육도시점 to fail_to_crawling\n",
            "김준호의대단한갈비 제주용담점: searchIframe 로드 및 프레임 전환 완료\n",
            "김준호의대단한갈비 제주용담점: 첫 번째 가게 클릭 후 전환되지 않음. 다음 가게로 진행\n",
            "entryIframe 로드.\n",
            "Error while extracting menu/features for 김준호의대단한갈비 제주용담점, div 1:\n",
            "Error while extracting menu/features for 김준호의대단한갈비 제주용담점, div 2:\n"
          ]
        },
        {
          "name": "stderr",
          "output_type": "stream",
          "text": [
            " 48%|████▊     | 480/999 [2:56:09<3:35:53, 24.96s/it]"
          ]
        },
        {
          "name": "stdout",
          "output_type": "stream",
          "text": [
            "김준호의대단한갈비 제주월랑점: searchIframe 로드 및 프레임 전환 완료\n",
            "김준호의대단한갈비 제주월랑점: entryIframe이 이미 로드됨. 클릭 없이 바로 진행\n",
            "entryIframe 로드.\n",
            "Error while extracting menu/features for 김준호의대단한갈비 제주월랑점, div 1:\n",
            "Error while extracting menu/features for 김준호의대단한갈비 제주월랑점, div 2:\n"
          ]
        },
        {
          "name": "stderr",
          "output_type": "stream",
          "text": [
            " 48%|████▊     | 481/999 [2:56:31<3:28:08, 24.11s/it]"
          ]
        },
        {
          "name": "stdout",
          "output_type": "stream",
          "text": [
            "김준호의대단한갈비 제주중문점: searchIframe 로드 및 프레임 전환 완료\n",
            "Error while clicking first search result for 김준호의대단한갈비 제주중문점: Unable to locate list container.\n"
          ]
        },
        {
          "name": "stderr",
          "output_type": "stream",
          "text": [
            " 48%|████▊     | 482/999 [2:56:52<3:19:36, 23.16s/it]"
          ]
        },
        {
          "name": "stdout",
          "output_type": "stream",
          "text": [
            "Failed to load iframe after multiple attempts for 김준호의대단한갈비 제주중문점.\n",
            "crawling fatil : 김준호의대단한갈비 제주중문점 to fail_to_crawling\n",
            "김준호의대단한갈비 제주첨단점: searchIframe 로드 및 프레임 전환 완료\n",
            "김준호의대단한갈비 제주첨단점: entryIframe이 이미 로드됨. 클릭 없이 바로 진행\n",
            "entryIframe 로드.\n",
            "Error while extracting menu/features for 김준호의대단한갈비 제주첨단점, div 1:\n",
            "Error while extracting menu/features for 김준호의대단한갈비 제주첨단점, div 2:\n"
          ]
        },
        {
          "name": "stderr",
          "output_type": "stream",
          "text": [
            " 48%|████▊     | 483/999 [2:57:14<3:14:43, 22.64s/it]"
          ]
        },
        {
          "name": "stdout",
          "output_type": "stream",
          "text": [
            "김준호의대단한갈비 제주한림점: searchIframe 로드 및 프레임 전환 완료\n",
            "김준호의대단한갈비 제주한림점: entryIframe이 이미 로드됨. 클릭 없이 바로 진행\n",
            "entryIframe 로드.\n",
            "Error while extracting datalab information for 김준호의대단한갈비 제주한림점:\n",
            "Error while extracting menu/features for 김준호의대단한갈비 제주한림점, div 1:\n",
            "Error while extracting menu/features for 김준호의대단한갈비 제주한림점, div 2:\n"
          ]
        },
        {
          "name": "stderr",
          "output_type": "stream",
          "text": [
            " 48%|████▊     | 484/999 [2:57:35<3:10:54, 22.24s/it]"
          ]
        },
        {
          "name": "stdout",
          "output_type": "stream",
          "text": [
            "김준호의대단한갈비일도점: searchIframe 로드 및 프레임 전환 완료\n",
            "김준호의대단한갈비일도점: 첫 번째 가게 클릭 후 전환되지 않음. 다음 가게로 진행\n",
            "entryIframe 로드.\n",
            "Error while extracting menu/features for 김준호의대단한갈비일도점, div 1:\n",
            "Error while extracting menu/features for 김준호의대단한갈비일도점, div 2:\n"
          ]
        },
        {
          "name": "stderr",
          "output_type": "stream",
          "text": [
            " 49%|████▊     | 485/999 [2:58:03<3:26:15, 24.08s/it]"
          ]
        },
        {
          "name": "stdout",
          "output_type": "stream",
          "text": [
            "김지순의 낭푼밥상: searchIframe 로드 및 프레임 전환 완료\n",
            "Error while clicking first search result for 김지순의 낭푼밥상: Unable to locate list container.\n"
          ]
        },
        {
          "name": "stderr",
          "output_type": "stream",
          "text": [
            " 49%|████▊     | 486/999 [2:58:24<3:16:43, 23.01s/it]"
          ]
        },
        {
          "name": "stdout",
          "output_type": "stream",
          "text": [
            "Failed to load iframe after multiple attempts for 김지순의 낭푼밥상.\n",
            "crawling fatil : 김지순의 낭푼밥상 to fail_to_crawling\n",
            "김태연국민동태탕서귀포시동홍점: searchIframe 로드 및 프레임 전환 완료\n",
            "김태연국민동태탕서귀포시동홍점: entryIframe이 이미 로드됨. 클릭 없이 바로 진행\n",
            "entryIframe 로드.\n",
            "Error while extracting menu/features for 김태연국민동태탕서귀포시동홍점, div 1:\n",
            "Error while extracting menu/features for 김태연국민동태탕서귀포시동홍점, div 2:\n"
          ]
        },
        {
          "name": "stderr",
          "output_type": "stream",
          "text": [
            " 49%|████▊     | 487/999 [2:58:45<3:12:06, 22.51s/it]"
          ]
        },
        {
          "name": "stdout",
          "output_type": "stream",
          "text": [
            "iframe을 찾을 수 없음 for 김해\n"
          ]
        },
        {
          "name": "stderr",
          "output_type": "stream",
          "text": [
            " 49%|████▉     | 488/999 [2:59:01<2:54:52, 20.53s/it]"
          ]
        },
        {
          "name": "stdout",
          "output_type": "stream",
          "text": [
            "Failed to load iframe after multiple attempts for 김해.\n",
            "crawling fatil : 김해 to fail_to_crawling\n",
            "김희선몸국: searchIframe 로드 및 프레임 전환 완료\n",
            "김희선몸국: entryIframe이 이미 로드됨. 클릭 없이 바로 진행\n",
            "entryIframe 로드.\n",
            "Error while extracting menu/features for 김희선몸국, div 1:\n",
            "Error while extracting menu/features for 김희선몸국, div 2:\n"
          ]
        },
        {
          "name": "stderr",
          "output_type": "stream",
          "text": [
            " 49%|████▉     | 489/999 [2:59:23<2:58:19, 20.98s/it]"
          ]
        },
        {
          "name": "stdout",
          "output_type": "stream",
          "text": [
            "김희선제주두루치기: searchIframe 로드 및 프레임 전환 완료\n",
            "김희선제주두루치기: entryIframe이 이미 로드됨. 클릭 없이 바로 진행\n",
            "entryIframe 로드.\n",
            "Error while extracting menu/features for 김희선제주두루치기, div 1:\n",
            "Error while extracting menu/features for 김희선제주두루치기, div 2:\n"
          ]
        },
        {
          "name": "stderr",
          "output_type": "stream",
          "text": [
            " 49%|████▉     | 490/999 [2:59:44<2:58:49, 21.08s/it]"
          ]
        },
        {
          "name": "stdout",
          "output_type": "stream",
          "text": [
            "김희선제주몸국: searchIframe 로드 및 프레임 전환 완료\n",
            "김희선제주몸국: entryIframe이 이미 로드됨. 클릭 없이 바로 진행\n",
            "entryIframe 로드.\n",
            "Error while extracting menu/features for 김희선제주몸국, div 1:\n",
            "Error while extracting menu/features for 김희선제주몸국, div 2:\n"
          ]
        },
        {
          "name": "stderr",
          "output_type": "stream",
          "text": [
            " 49%|████▉     | 491/999 [3:00:06<3:00:22, 21.30s/it]"
          ]
        },
        {
          "name": "stdout",
          "output_type": "stream",
          "text": [
            "깃든: searchIframe 로드 및 프레임 전환 완료\n",
            "깃든: 첫 번째 가게 클릭 후 전환되지 않음. 다음 가게로 진행\n",
            "entryIframe 로드.\n"
          ]
        },
        {
          "name": "stderr",
          "output_type": "stream",
          "text": [
            " 49%|████▉     | 492/999 [3:00:26<2:55:52, 20.81s/it]"
          ]
        },
        {
          "name": "stdout",
          "output_type": "stream",
          "text": [
            "Error while navigating to reviews for 깃든:\n",
            " 사진 버튼 없음 : 깃든.\n",
            "깅코: searchIframe 로드 및 프레임 전환 완료\n",
            "깅코: 첫 번째 가게 클릭 후 전환되지 않음. 다음 가게로 진행\n",
            "entryIframe 로드.\n",
            "Error while extracting menu/features for 깅코, div 1:\n",
            "Error while extracting menu/features for 깅코, div 2:\n"
          ]
        },
        {
          "name": "stderr",
          "output_type": "stream",
          "text": [
            " 49%|████▉     | 493/999 [3:00:54<3:13:37, 22.96s/it]"
          ]
        },
        {
          "name": "stdout",
          "output_type": "stream",
          "text": [
            "깊커피: searchIframe 로드 및 프레임 전환 완료\n",
            "Error while clicking first search result for 깊커피: Unable to locate list container.\n"
          ]
        },
        {
          "name": "stderr",
          "output_type": "stream",
          "text": [
            " 49%|████▉     | 494/999 [3:01:15<3:07:57, 22.33s/it]"
          ]
        },
        {
          "name": "stdout",
          "output_type": "stream",
          "text": [
            "Failed to load iframe after multiple attempts for 깊커피.\n",
            "crawling fatil : 깊커피 to fail_to_crawling\n",
            "까떼커피: searchIframe 로드 및 프레임 전환 완료\n",
            "까떼커피: 첫 번째 가게 클릭 후 전환되지 않음. 다음 가게로 진행\n",
            "entryIframe 로드.\n",
            "Error while extracting menu/features for 까떼커피, div 1:\n",
            "Error while extracting menu/features for 까떼커피, div 2:\n"
          ]
        },
        {
          "name": "stderr",
          "output_type": "stream",
          "text": [
            " 50%|████▉     | 495/999 [3:01:43<3:23:32, 24.23s/it]"
          ]
        },
        {
          "name": "stdout",
          "output_type": "stream",
          "text": [
            "까망꼬숑: searchIframe 로드 및 프레임 전환 완료\n",
            "까망꼬숑: entryIframe이 이미 로드됨. 클릭 없이 바로 진행\n",
            "entryIframe 로드.\n",
            "Error while extracting menu/features for 까망꼬숑, div 1:\n",
            "Error while extracting menu/features for 까망꼬숑, div 2:\n"
          ]
        },
        {
          "name": "stderr",
          "output_type": "stream",
          "text": [
            " 50%|████▉     | 496/999 [3:02:07<3:21:18, 24.01s/it]"
          ]
        },
        {
          "name": "stdout",
          "output_type": "stream",
          "text": [
            "까망도그: searchIframe 로드 및 프레임 전환 완료\n",
            "까망도그: entryIframe이 이미 로드됨. 클릭 없이 바로 진행\n",
            "entryIframe 로드.\n",
            "Error while extracting menu/features for 까망도그, div 1:\n",
            "Error while extracting menu/features for 까망도그, div 2:\n"
          ]
        },
        {
          "name": "stderr",
          "output_type": "stream",
          "text": [
            " 50%|████▉     | 497/999 [3:02:28<3:14:39, 23.27s/it]"
          ]
        },
        {
          "name": "stdout",
          "output_type": "stream",
          "text": [
            "까망돼지: searchIframe 로드 및 프레임 전환 완료\n",
            "까망돼지: 첫 번째 가게 클릭 후 전환되지 않음. 다음 가게로 진행\n",
            "entryIframe 로드.\n",
            "Error while extracting menu/features for 까망돼지, div 1:\n",
            "Error while extracting menu/features for 까망돼지, div 2:\n"
          ]
        },
        {
          "name": "stderr",
          "output_type": "stream",
          "text": [
            " 50%|████▉     | 498/999 [3:02:57<3:26:37, 24.75s/it]"
          ]
        },
        {
          "name": "stdout",
          "output_type": "stream",
          "text": [
            "까망돼지서귀포점: searchIframe 로드 및 프레임 전환 완료\n",
            "까망돼지서귀포점: entryIframe이 이미 로드됨. 클릭 없이 바로 진행\n",
            "entryIframe 로드.\n",
            "Error while extracting menu/features for 까망돼지서귀포점, div 1:\n"
          ]
        },
        {
          "name": "stderr",
          "output_type": "stream",
          "text": [
            " 50%|████▉     | 499/999 [3:03:14<3:07:23, 22.49s/it]"
          ]
        },
        {
          "name": "stdout",
          "output_type": "stream",
          "text": [
            "Error while extracting menu/features for 까망돼지서귀포점, div 2:\n",
            " 사진 버튼 없음 : 까망돼지서귀포점.\n",
            "까미노: searchIframe 로드 및 프레임 전환 완료\n",
            "까미노: 첫 번째 가게 클릭 후 전환되지 않음. 다음 가게로 진행\n",
            "entryIframe 로드.\n",
            "Error while extracting menu/features for 까미노, div 1:\n",
            "Error while extracting menu/features for 까미노, div 2:\n"
          ]
        },
        {
          "name": "stderr",
          "output_type": "stream",
          "text": [
            " 50%|█████     | 500/999 [3:03:42<3:20:58, 24.17s/it]"
          ]
        },
        {
          "name": "stdout",
          "output_type": "stream",
          "text": [
            "까브: searchIframe 로드 및 프레임 전환 완료\n",
            "까브: 첫 번째 가게 클릭 후 전환되지 않음. 다음 가게로 진행\n",
            "entryIframe 로드.\n"
          ]
        },
        {
          "name": "stderr",
          "output_type": "stream",
          "text": [
            " 50%|█████     | 501/999 [3:04:08<3:24:05, 24.59s/it]"
          ]
        },
        {
          "name": "stdout",
          "output_type": "stream",
          "text": [
            "까사디노아: searchIframe 로드 및 프레임 전환 완료\n",
            "까사디노아: entryIframe이 이미 로드됨. 클릭 없이 바로 진행\n",
            "entryIframe 로드.\n",
            "Error while extracting menu/features for 까사디노아, div 1:\n",
            "Error while extracting menu/features for 까사디노아, div 2:\n"
          ]
        },
        {
          "name": "stderr",
          "output_type": "stream",
          "text": [
            " 50%|█████     | 502/999 [3:04:29<3:15:05, 23.55s/it]"
          ]
        },
        {
          "name": "stdout",
          "output_type": "stream",
          "text": [
            "까투리올레점: searchIframe 로드 및 프레임 전환 완료\n",
            "까투리올레점: 링크버튼을 찾을 수 없음. xpath 대신 다른 방법 시도\n"
          ]
        },
        {
          "name": "stderr",
          "output_type": "stream",
          "text": [
            " 50%|█████     | 503/999 [3:04:46<3:00:24, 21.82s/it]"
          ]
        },
        {
          "name": "stdout",
          "output_type": "stream",
          "text": [
            "Failed to load iframe after multiple attempts for 까투리올레점.\n",
            "crawling fatil : 까투리올레점 to fail_to_crawling\n",
            "까투리표선점: searchIframe 로드 및 프레임 전환 완료\n",
            "까투리표선점: entryIframe이 이미 로드됨. 클릭 없이 바로 진행\n",
            "entryIframe 로드.\n",
            "Error while extracting menu/features for 까투리표선점, div 1:\n",
            "Error while extracting menu/features for 까투리표선점, div 2:\n"
          ]
        },
        {
          "name": "stderr",
          "output_type": "stream",
          "text": [
            " 50%|█████     | 504/999 [3:05:07<2:57:35, 21.53s/it]"
          ]
        },
        {
          "name": "stdout",
          "output_type": "stream",
          "text": [
            "까페 나모나모: searchIframe 로드 및 프레임 전환 완료\n",
            "까페 나모나모: 첫 번째 가게 클릭 후 전환되지 않음. 다음 가게로 진행\n",
            "entryIframe 로드.\n",
            "Error while extracting menu/features for 까페 나모나모, div 1:\n",
            "Error while extracting menu/features for 까페 나모나모, div 2:\n"
          ]
        },
        {
          "name": "stderr",
          "output_type": "stream",
          "text": [
            " 51%|█████     | 505/999 [3:05:35<3:13:43, 23.53s/it]"
          ]
        },
        {
          "name": "stdout",
          "output_type": "stream",
          "text": [
            "깐깐한족발: searchIframe 로드 및 프레임 전환 완료\n",
            "깐깐한족발: 링크버튼을 찾을 수 없음. xpath 대신 다른 방법 시도\n"
          ]
        },
        {
          "name": "stderr",
          "output_type": "stream",
          "text": [
            " 51%|█████     | 506/999 [3:05:54<3:00:52, 22.01s/it]"
          ]
        },
        {
          "name": "stdout",
          "output_type": "stream",
          "text": [
            "Failed to load iframe after multiple attempts for 깐깐한족발.\n",
            "crawling fatil : 깐깐한족발 to fail_to_crawling\n",
            "깔로: searchIframe 로드 및 프레임 전환 완료\n",
            "깔로: 첫 번째 가게 클릭 후 전환되지 않음. 다음 가게로 진행\n",
            "entryIframe 로드.\n",
            "Error while extracting datalab information for 깔로:\n",
            "Error while navigating to reviews for 깔로:\n"
          ]
        },
        {
          "name": "stderr",
          "output_type": "stream",
          "text": [
            " 51%|█████     | 507/999 [3:06:15<2:58:52, 21.81s/it]"
          ]
        },
        {
          "name": "stdout",
          "output_type": "stream",
          "text": [
            "이미지 추출 오류 2 for 깔로 \n",
            "이미지 추출 오류 3 for 깔로 \n",
            "이미지 추출 오류 4 for 깔로 \n",
            "이미지 추출 오류 5 for 깔로 \n",
            "이미지 추출 오류 6 for 깔로 \n",
            "이미지 추출 오류 7 for 깔로 \n",
            "이미지 추출 오류 8 for 깔로 \n",
            "이미지 추출 오류 9 for 깔로 \n",
            "이미지 추출 오류 10 for 깔로 \n",
            "깔루아: searchIframe 로드 및 프레임 전환 완료\n",
            "깔루아: 첫 번째 가게 클릭 후 전환되지 않음. 다음 가게로 진행\n",
            "entryIframe 로드.\n",
            "Error while extracting menu/features for 깔루아, div 1:\n",
            "Error while extracting menu/features for 깔루아, div 2:\n"
          ]
        },
        {
          "name": "stderr",
          "output_type": "stream",
          "text": [
            " 51%|█████     | 508/999 [3:06:43<3:14:09, 23.73s/it]"
          ]
        },
        {
          "name": "stdout",
          "output_type": "stream",
          "text": [
            "깜돈 흑돼지: searchIframe 로드 및 프레임 전환 완료\n",
            "깜돈 흑돼지: 첫 번째 가게 클릭 후 전환되지 않음. 다음 가게로 진행\n",
            "entryIframe 로드.\n",
            "Error while extracting menu/features for 깜돈 흑돼지, div 1:\n",
            "Error while extracting menu/features for 깜돈 흑돼지, div 2:\n"
          ]
        },
        {
          "name": "stderr",
          "output_type": "stream",
          "text": [
            " 51%|█████     | 509/999 [3:07:11<3:24:03, 24.99s/it]"
          ]
        },
        {
          "name": "stdout",
          "output_type": "stream",
          "text": [
            "깜돈흑돼지: searchIframe 로드 및 프레임 전환 완료\n",
            "깜돈흑돼지: 첫 번째 가게 클릭 후 전환되지 않음. 다음 가게로 진행\n",
            "entryIframe 로드.\n",
            "Error while extracting menu/features for 깜돈흑돼지, div 1:\n",
            "Error while extracting menu/features for 깜돈흑돼지, div 2:\n"
          ]
        },
        {
          "name": "stderr",
          "output_type": "stream",
          "text": [
            " 51%|█████     | 510/999 [3:07:39<3:30:11, 25.79s/it]"
          ]
        },
        {
          "name": "stdout",
          "output_type": "stream",
          "text": [
            "깡촌흑돼지: searchIframe 로드 및 프레임 전환 완료\n",
            "깡촌흑돼지: 첫 번째 가게 클릭 후 전환되지 않음. 다음 가게로 진행\n",
            "entryIframe 로드.\n",
            "Error while extracting menu/features for 깡촌흑돼지, div 1:\n",
            "Error while extracting menu/features for 깡촌흑돼지, div 2:\n"
          ]
        },
        {
          "name": "stderr",
          "output_type": "stream",
          "text": [
            " 51%|█████     | 511/999 [3:08:07<3:35:00, 26.43s/it]"
          ]
        },
        {
          "name": "stdout",
          "output_type": "stream",
          "text": [
            "꺼멍도새기: searchIframe 로드 및 프레임 전환 완료\n",
            "꺼멍도새기: 첫 번째 가게 클릭 후 전환되지 않음. 다음 가게로 진행\n",
            "entryIframe 로드.\n",
            "Error while extracting menu/features for 꺼멍도새기, div 1:\n",
            "Error while extracting menu/features for 꺼멍도새기, div 2:\n"
          ]
        },
        {
          "name": "stderr",
          "output_type": "stream",
          "text": [
            " 51%|█████▏    | 512/999 [3:08:35<3:38:29, 26.92s/it]"
          ]
        },
        {
          "name": "stdout",
          "output_type": "stream",
          "text": [
            "꺼멍때지국수: searchIframe 로드 및 프레임 전환 완료\n",
            "꺼멍때지국수: entryIframe이 이미 로드됨. 클릭 없이 바로 진행\n",
            "entryIframe 로드.\n",
            "Error while extracting menu/features for 꺼멍때지국수, div 1:\n",
            "Error while extracting menu/features for 꺼멍때지국수, div 2:\n"
          ]
        },
        {
          "name": "stderr",
          "output_type": "stream",
          "text": [
            " 51%|█████▏    | 513/999 [3:08:56<3:24:24, 25.24s/it]"
          ]
        },
        {
          "name": "stdout",
          "output_type": "stream",
          "text": [
            "꺼멍목장: searchIframe 로드 및 프레임 전환 완료\n",
            "꺼멍목장: entryIframe이 이미 로드됨. 클릭 없이 바로 진행\n",
            "entryIframe 로드.\n",
            "Error while extracting menu/features for 꺼멍목장, div 1:\n"
          ]
        },
        {
          "name": "stderr",
          "output_type": "stream",
          "text": [
            " 51%|█████▏    | 514/999 [3:09:15<3:08:16, 23.29s/it]"
          ]
        },
        {
          "name": "stdout",
          "output_type": "stream",
          "text": [
            "Error while extracting menu/features for 꺼멍목장, div 2:\n",
            " 사진 버튼 없음 : 꺼멍목장.\n",
            "꺼멍스: searchIframe 로드 및 프레임 전환 완료\n",
            "꺼멍스: entryIframe이 이미 로드됨. 클릭 없이 바로 진행\n",
            "entryIframe 로드.\n",
            "Error while extracting menu/features for 꺼멍스, div 1:\n",
            "Error while extracting menu/features for 꺼멍스, div 2:\n"
          ]
        },
        {
          "name": "stderr",
          "output_type": "stream",
          "text": [
            " 52%|█████▏    | 515/999 [3:09:36<3:01:58, 22.56s/it]"
          ]
        },
        {
          "name": "stdout",
          "output_type": "stream",
          "text": [
            "꺼멍연탄구이: searchIframe 로드 및 프레임 전환 완료\n",
            "꺼멍연탄구이: entryIframe이 이미 로드됨. 클릭 없이 바로 진행\n",
            "entryIframe 로드.\n",
            "Error while extracting menu/features for 꺼멍연탄구이, div 1:\n",
            "Error while extracting menu/features for 꺼멍연탄구이, div 2:\n"
          ]
        },
        {
          "name": "stderr",
          "output_type": "stream",
          "text": [
            " 52%|█████▏    | 516/999 [3:09:57<2:57:59, 22.11s/it]"
          ]
        },
        {
          "name": "stdout",
          "output_type": "stream",
          "text": [
            "꺼멍집: searchIframe 로드 및 프레임 전환 완료\n",
            "꺼멍집: 첫 번째 가게 클릭 후 전환되지 않음. 다음 가게로 진행\n",
            "entryIframe 로드.\n",
            "Error while extracting menu/features for 꺼멍집, div 1:\n",
            "Error while extracting menu/features for 꺼멍집, div 2:\n"
          ]
        },
        {
          "name": "stderr",
          "output_type": "stream",
          "text": [
            " 52%|█████▏    | 517/999 [3:10:25<3:11:50, 23.88s/it]"
          ]
        },
        {
          "name": "stdout",
          "output_type": "stream",
          "text": [
            "꼬까삐: searchIframe 로드 및 프레임 전환 완료\n",
            "꼬까삐: entryIframe이 이미 로드됨. 클릭 없이 바로 진행\n",
            "entryIframe 로드.\n",
            "Error while extracting menu/features for 꼬까삐, div 1:\n",
            "Error while extracting menu/features for 꼬까삐, div 2:\n"
          ]
        },
        {
          "name": "stderr",
          "output_type": "stream",
          "text": [
            " 52%|█████▏    | 518/999 [3:10:46<3:04:33, 23.02s/it]"
          ]
        },
        {
          "name": "stdout",
          "output_type": "stream",
          "text": [
            "꼬꼬닭한마리: searchIframe 로드 및 프레임 전환 완료\n",
            "꼬꼬닭한마리: 첫 번째 가게 클릭 후 전환되지 않음. 다음 가게로 진행\n",
            "entryIframe 로드.\n",
            "Error while extracting menu/features for 꼬꼬닭한마리, div 1:\n",
            "Error while extracting menu/features for 꼬꼬닭한마리, div 2:\n"
          ]
        },
        {
          "name": "stderr",
          "output_type": "stream",
          "text": [
            " 52%|█████▏    | 519/999 [3:11:14<3:16:25, 24.55s/it]"
          ]
        },
        {
          "name": "stdout",
          "output_type": "stream",
          "text": [
            "꼬꼬아찌숯불치킨서귀점: searchIframe 로드 및 프레임 전환 완료\n",
            "꼬꼬아찌숯불치킨서귀점: entryIframe이 이미 로드됨. 클릭 없이 바로 진행\n",
            "entryIframe 로드.\n",
            "Error while extracting menu/features for 꼬꼬아찌숯불치킨서귀점, div 1:\n",
            "Error while extracting menu/features for 꼬꼬아찌숯불치킨서귀점, div 2:\n"
          ]
        },
        {
          "name": "stderr",
          "output_type": "stream",
          "text": [
            " 52%|█████▏    | 520/999 [3:11:36<3:09:18, 23.71s/it]"
          ]
        },
        {
          "name": "stdout",
          "output_type": "stream",
          "text": [
            "이미지 추출 오류 10 for 꼬꼬아찌숯불치킨서귀점 \n",
            "꼬꼬아찌숯불치킨서사라점: searchIframe 로드 및 프레임 전환 완료\n",
            "꼬꼬아찌숯불치킨서사라점: 링크버튼을 찾을 수 없음. xpath 대신 다른 방법 시도\n"
          ]
        },
        {
          "name": "stderr",
          "output_type": "stream",
          "text": [
            " 52%|█████▏    | 521/999 [3:11:54<2:54:17, 21.88s/it]"
          ]
        },
        {
          "name": "stdout",
          "output_type": "stream",
          "text": [
            "Failed to load iframe after multiple attempts for 꼬꼬아찌숯불치킨서사라점.\n",
            "crawling fatil : 꼬꼬아찌숯불치킨서사라점 to fail_to_crawling\n",
            "꼬꼬앤쿡: searchIframe 로드 및 프레임 전환 완료\n",
            "꼬꼬앤쿡: entryIframe이 이미 로드됨. 클릭 없이 바로 진행\n",
            "entryIframe 로드.\n",
            "Error while extracting menu/features for 꼬꼬앤쿡, div 1:\n",
            "Error while extracting menu/features for 꼬꼬앤쿡, div 2:\n"
          ]
        },
        {
          "name": "stderr",
          "output_type": "stream",
          "text": [
            " 52%|█████▏    | 522/999 [3:12:15<2:53:40, 21.84s/it]"
          ]
        },
        {
          "name": "stdout",
          "output_type": "stream",
          "text": [
            "꼬끼오에끌릴레: searchIframe 로드 및 프레임 전환 완료\n",
            "Error while clicking first search result for 꼬끼오에끌릴레: Unable to locate list container.\n"
          ]
        },
        {
          "name": "stderr",
          "output_type": "stream",
          "text": [
            " 52%|█████▏    | 523/999 [3:12:36<2:50:40, 21.51s/it]"
          ]
        },
        {
          "name": "stdout",
          "output_type": "stream",
          "text": [
            "Failed to load iframe after multiple attempts for 꼬끼오에끌릴레.\n",
            "crawling fatil : 꼬끼오에끌릴레 to fail_to_crawling\n",
            "꼬닥꼬닥걸으멍: searchIframe 로드 및 프레임 전환 완료\n",
            "꼬닥꼬닥걸으멍: entryIframe이 이미 로드됨. 클릭 없이 바로 진행\n",
            "entryIframe 로드.\n",
            "Error while extracting menu/features for 꼬닥꼬닥걸으멍, div 1:\n",
            "Error while extracting menu/features for 꼬닥꼬닥걸으멍, div 2:\n"
          ]
        },
        {
          "name": "stderr",
          "output_type": "stream",
          "text": [
            " 52%|█████▏    | 524/999 [3:12:57<2:49:10, 21.37s/it]"
          ]
        },
        {
          "name": "stdout",
          "output_type": "stream",
          "text": [
            "꼬들목살집: searchIframe 로드 및 프레임 전환 완료\n",
            "꼬들목살집: 첫 번째 가게 클릭 후 전환되지 않음. 다음 가게로 진행\n",
            "entryIframe 로드.\n",
            "Error while extracting menu/features for 꼬들목살집, div 1:\n",
            "Error while extracting menu/features for 꼬들목살집, div 2:\n"
          ]
        },
        {
          "name": "stderr",
          "output_type": "stream",
          "text": [
            " 53%|█████▎    | 525/999 [3:13:26<3:06:08, 23.56s/it]"
          ]
        },
        {
          "name": "stdout",
          "output_type": "stream",
          "text": [
            "꼬라지: searchIframe 로드 및 프레임 전환 완료\n",
            "꼬라지: 링크버튼을 찾을 수 없음. xpath 대신 다른 방법 시도\n"
          ]
        },
        {
          "name": "stderr",
          "output_type": "stream",
          "text": [
            " 53%|█████▎    | 526/999 [3:13:44<2:52:46, 21.92s/it]"
          ]
        },
        {
          "name": "stdout",
          "output_type": "stream",
          "text": [
            "Failed to load iframe after multiple attempts for 꼬라지.\n",
            "crawling fatil : 꼬라지 to fail_to_crawling\n",
            "꼬라지오: searchIframe 로드 및 프레임 전환 완료\n",
            "꼬라지오: entryIframe이 이미 로드됨. 클릭 없이 바로 진행\n",
            "entryIframe 로드.\n",
            "Error while extracting menu/features for 꼬라지오, div 1:\n",
            "Error while extracting menu/features for 꼬라지오, div 2:\n"
          ]
        },
        {
          "name": "stderr",
          "output_type": "stream",
          "text": [
            " 53%|█████▎    | 527/999 [3:14:05<2:51:10, 21.76s/it]"
          ]
        },
        {
          "name": "stdout",
          "output_type": "stream",
          "text": [
            "꼬란: searchIframe 로드 및 프레임 전환 완료\n",
            "꼬란: 링크버튼을 찾을 수 없음. xpath 대신 다른 방법 시도\n"
          ]
        },
        {
          "name": "stderr",
          "output_type": "stream",
          "text": [
            " 53%|█████▎    | 528/999 [3:14:23<2:41:23, 20.56s/it]"
          ]
        },
        {
          "name": "stdout",
          "output_type": "stream",
          "text": [
            "Failed to load iframe after multiple attempts for 꼬란.\n",
            "crawling fatil : 꼬란 to fail_to_crawling\n",
            "꼬리에 꼬리를 무는 닭: searchIframe 로드 및 프레임 전환 완료\n",
            "Error while clicking first search result for 꼬리에 꼬리를 무는 닭: Unable to locate list container.\n"
          ]
        },
        {
          "name": "stderr",
          "output_type": "stream",
          "text": [
            " 53%|█████▎    | 529/999 [3:14:43<2:40:33, 20.50s/it]"
          ]
        },
        {
          "name": "stdout",
          "output_type": "stream",
          "text": [
            "Failed to load iframe after multiple attempts for 꼬리에 꼬리를 무는 닭.\n",
            "crawling fatil : 꼬리에 꼬리를 무는 닭 to fail_to_crawling\n",
            "꼬메르치킨: searchIframe 로드 및 프레임 전환 완료\n",
            "꼬메르치킨: 첫 번째 가게 클릭 후 전환되지 않음. 다음 가게로 진행\n",
            "entryIframe 로드.\n",
            "Error while extracting menu/features for 꼬메르치킨, div 1:\n",
            "Error while extracting menu/features for 꼬메르치킨, div 2:\n"
          ]
        },
        {
          "name": "stderr",
          "output_type": "stream",
          "text": [
            " 53%|█████▎    | 530/999 [3:15:11<2:57:55, 22.76s/it]"
          ]
        },
        {
          "name": "stdout",
          "output_type": "stream",
          "text": [
            "꼬방: searchIframe 로드 및 프레임 전환 완료\n",
            "꼬방: 링크버튼을 찾을 수 없음. xpath 대신 다른 방법 시도\n"
          ]
        },
        {
          "name": "stderr",
          "output_type": "stream",
          "text": [
            " 53%|█████▎    | 531/999 [3:15:29<2:46:10, 21.30s/it]"
          ]
        },
        {
          "name": "stdout",
          "output_type": "stream",
          "text": [
            "Failed to load iframe after multiple attempts for 꼬방.\n",
            "crawling fatil : 꼬방 to fail_to_crawling\n",
            "꼬스덴뇨: searchIframe 로드 및 프레임 전환 완료\n",
            "꼬스덴뇨: entryIframe이 이미 로드됨. 클릭 없이 바로 진행\n",
            "entryIframe 로드.\n",
            "Error while extracting menu/features for 꼬스덴뇨, div 1:\n",
            "Error while extracting menu/features for 꼬스덴뇨, div 2:\n"
          ]
        },
        {
          "name": "stderr",
          "output_type": "stream",
          "text": [
            " 53%|█████▎    | 532/999 [3:15:48<2:40:12, 20.58s/it]"
          ]
        },
        {
          "name": "stdout",
          "output_type": "stream",
          "text": [
            "꼬스뗀뇨: searchIframe 로드 및 프레임 전환 완료\n",
            "꼬스뗀뇨: entryIframe이 이미 로드됨. 클릭 없이 바로 진행\n",
            "entryIframe 로드.\n",
            "Error while extracting menu/features for 꼬스뗀뇨, div 1:\n",
            "Error while extracting menu/features for 꼬스뗀뇨, div 2:\n"
          ]
        },
        {
          "name": "stderr",
          "output_type": "stream",
          "text": [
            " 53%|█████▎    | 533/999 [3:16:09<2:40:26, 20.66s/it]"
          ]
        },
        {
          "name": "stdout",
          "output_type": "stream",
          "text": [
            "꼬신김밥 본점: searchIframe 로드 및 프레임 전환 완료\n",
            "꼬신김밥 본점: entryIframe이 이미 로드됨. 클릭 없이 바로 진행\n",
            "entryIframe 로드.\n",
            "Error while extracting menu/features for 꼬신김밥 본점, div 1:\n",
            "Error while extracting menu/features for 꼬신김밥 본점, div 2:\n"
          ]
        },
        {
          "name": "stderr",
          "output_type": "stream",
          "text": [
            " 53%|█████▎    | 534/999 [3:16:30<2:40:19, 20.69s/it]"
          ]
        },
        {
          "name": "stdout",
          "output_type": "stream",
          "text": [
            "꼬신김밥노형점: searchIframe 로드 및 프레임 전환 완료\n",
            "꼬신김밥노형점: entryIframe이 이미 로드됨. 클릭 없이 바로 진행\n",
            "entryIframe 로드.\n",
            "Error while extracting menu/features for 꼬신김밥노형점, div 1:\n",
            "Error while extracting menu/features for 꼬신김밥노형점, div 2:\n"
          ]
        },
        {
          "name": "stderr",
          "output_type": "stream",
          "text": [
            " 54%|█████▎    | 535/999 [3:16:49<2:36:31, 20.24s/it]"
          ]
        },
        {
          "name": "stdout",
          "output_type": "stream",
          "text": [
            "꼬지사께연동점: searchIframe 로드 및 프레임 전환 완료\n",
            "꼬지사께연동점: entryIframe이 이미 로드됨. 클릭 없이 바로 진행\n",
            "entryIframe 로드.\n",
            "Error while extracting menu/features for 꼬지사께연동점, div 1:\n",
            "Error while extracting menu/features for 꼬지사께연동점, div 2:\n"
          ]
        },
        {
          "name": "stderr",
          "output_type": "stream",
          "text": [
            " 54%|█████▎    | 536/999 [3:17:08<2:33:53, 19.94s/it]"
          ]
        },
        {
          "name": "stdout",
          "output_type": "stream",
          "text": [
            "꼭지: searchIframe 로드 및 프레임 전환 완료\n",
            "꼭지: 링크버튼을 찾을 수 없음. xpath 대신 다른 방법 시도\n"
          ]
        },
        {
          "name": "stderr",
          "output_type": "stream",
          "text": [
            " 54%|█████▍    | 537/999 [3:17:26<2:29:09, 19.37s/it]"
          ]
        },
        {
          "name": "stdout",
          "output_type": "stream",
          "text": [
            "Failed to load iframe after multiple attempts for 꼭지.\n",
            "crawling fatil : 꼭지 to fail_to_crawling\n",
            "꼴통집본점: searchIframe 로드 및 프레임 전환 완료\n",
            "꼴통집본점: 첫 번째 가게 클릭 후 전환되지 않음. 다음 가게로 진행\n",
            "entryIframe 로드.\n",
            "Error while extracting menu/features for 꼴통집본점, div 1:\n",
            "Error while extracting menu/features for 꼴통집본점, div 2:\n"
          ]
        },
        {
          "name": "stderr",
          "output_type": "stream",
          "text": [
            " 54%|█████▍    | 538/999 [3:17:54<2:48:22, 21.91s/it]"
          ]
        },
        {
          "name": "stdout",
          "output_type": "stream",
          "text": [
            "꼼닭: searchIframe 로드 및 프레임 전환 완료\n",
            "꼼닭: 첫 번째 가게 클릭 후 전환되지 않음. 다음 가게로 진행\n",
            "entryIframe 로드.\n",
            "Error while extracting menu/features for 꼼닭, div 1:\n",
            "Error while extracting menu/features for 꼼닭, div 2:\n"
          ]
        },
        {
          "name": "stderr",
          "output_type": "stream",
          "text": [
            " 54%|█████▍    | 539/999 [3:18:22<3:01:46, 23.71s/it]"
          ]
        },
        {
          "name": "stdout",
          "output_type": "stream",
          "text": [
            "꼼비노: searchIframe 로드 및 프레임 전환 완료\n",
            "꼼비노: 링크버튼을 찾을 수 없음. xpath 대신 다른 방법 시도\n"
          ]
        },
        {
          "name": "stderr",
          "output_type": "stream",
          "text": [
            " 54%|█████▍    | 540/999 [3:18:40<2:48:38, 22.05s/it]"
          ]
        },
        {
          "name": "stdout",
          "output_type": "stream",
          "text": [
            "Failed to load iframe after multiple attempts for 꼼비노.\n",
            "crawling fatil : 꼼비노 to fail_to_crawling\n",
            "꼼빔: searchIframe 로드 및 프레임 전환 완료\n",
            "Error while clicking first search result for 꼼빔: Unable to locate list container.\n"
          ]
        },
        {
          "name": "stderr",
          "output_type": "stream",
          "text": [
            " 54%|█████▍    | 541/999 [3:19:00<2:44:04, 21.49s/it]"
          ]
        },
        {
          "name": "stdout",
          "output_type": "stream",
          "text": [
            "Failed to load iframe after multiple attempts for 꼼빔.\n",
            "crawling fatil : 꼼빔 to fail_to_crawling\n",
            "꽁순이네: searchIframe 로드 및 프레임 전환 완료\n",
            "꽁순이네: entryIframe이 이미 로드됨. 클릭 없이 바로 진행\n",
            "entryIframe 로드.\n",
            "Error while extracting menu/features for 꽁순이네, div 1:\n",
            "Error while extracting menu/features for 꽁순이네, div 2:\n"
          ]
        },
        {
          "name": "stderr",
          "output_type": "stream",
          "text": [
            " 54%|█████▍    | 542/999 [3:19:22<2:44:05, 21.54s/it]"
          ]
        },
        {
          "name": "stdout",
          "output_type": "stream",
          "text": [
            "꽁양꽁양: searchIframe 로드 및 프레임 전환 완료\n",
            "꽁양꽁양: entryIframe이 이미 로드됨. 클릭 없이 바로 진행\n",
            "entryIframe 로드.\n",
            "Error while extracting menu/features for 꽁양꽁양, div 1:\n",
            "Error while extracting menu/features for 꽁양꽁양, div 2:\n"
          ]
        },
        {
          "name": "stderr",
          "output_type": "stream",
          "text": [
            " 54%|█████▍    | 543/999 [3:19:44<2:44:35, 21.66s/it]"
          ]
        },
        {
          "name": "stdout",
          "output_type": "stream",
          "text": [
            "꽁지식당: searchIframe 로드 및 프레임 전환 완료\n",
            "꽁지식당: 첫 번째 가게 클릭 후 전환되지 않음. 다음 가게로 진행\n",
            "entryIframe 로드.\n",
            "Error while extracting menu/features for 꽁지식당, div 1:\n",
            "Error while extracting menu/features for 꽁지식당, div 2:\n"
          ]
        },
        {
          "name": "stderr",
          "output_type": "stream",
          "text": [
            " 54%|█████▍    | 544/999 [3:20:12<2:59:22, 23.65s/it]"
          ]
        },
        {
          "name": "stdout",
          "output_type": "stream",
          "text": [
            "꽃가람: searchIframe 로드 및 프레임 전환 완료\n",
            "꽃가람: 첫 번째 가게 클릭 후 전환되지 않음. 다음 가게로 진행\n",
            "entryIframe 로드.\n",
            "Error while extracting datalab information for 꽃가람:\n",
            "Error while navigating to reviews for 꽃가람:\n"
          ]
        },
        {
          "name": "stderr",
          "output_type": "stream",
          "text": [
            " 55%|█████▍    | 545/999 [3:20:40<3:07:45, 24.81s/it]"
          ]
        },
        {
          "name": "stdout",
          "output_type": "stream",
          "text": [
            "꽃가람 제주성산일출봉: searchIframe 로드 및 프레임 전환 완료\n",
            "꽃가람 제주성산일출봉: entryIframe이 이미 로드됨. 클릭 없이 바로 진행\n",
            "entryIframe 로드.\n",
            "Error while extracting menu/features for 꽃가람 제주성산일출봉, div 1:\n"
          ]
        },
        {
          "name": "stderr",
          "output_type": "stream",
          "text": [
            " 55%|█████▍    | 546/999 [3:20:59<2:54:51, 23.16s/it]"
          ]
        },
        {
          "name": "stdout",
          "output_type": "stream",
          "text": [
            "Error while extracting menu/features for 꽃가람 제주성산일출봉, div 2:\n",
            " 사진 버튼 없음 : 꽃가람 제주성산일출봉.\n",
            "꽃가마식당: searchIframe 로드 및 프레임 전환 완료\n",
            "꽃가마식당: 첫 번째 가게 클릭 후 전환되지 않음. 다음 가게로 진행\n",
            "entryIframe 로드.\n",
            "Error while extracting menu/features for 꽃가마식당, div 1:\n",
            "Error while extracting menu/features for 꽃가마식당, div 2:\n"
          ]
        },
        {
          "name": "stderr",
          "output_type": "stream",
          "text": [
            " 55%|█████▍    | 547/999 [3:21:27<3:06:16, 24.73s/it]"
          ]
        },
        {
          "name": "stdout",
          "output_type": "stream",
          "text": [
            "꽃길: searchIframe 로드 및 프레임 전환 완료\n",
            "꽃길: 첫 번째 가게 클릭 후 전환되지 않음. 다음 가게로 진행\n",
            "entryIframe 로드.\n",
            "Error while extracting datalab information for 꽃길:\n",
            "Error while navigating to reviews for 꽃길:\n"
          ]
        },
        {
          "name": "stderr",
          "output_type": "stream",
          "text": [
            " 55%|█████▍    | 548/999 [3:21:53<3:07:08, 24.90s/it]"
          ]
        },
        {
          "name": "stdout",
          "output_type": "stream",
          "text": [
            "꽃길국수: searchIframe 로드 및 프레임 전환 완료\n",
            "꽃길국수: 첫 번째 가게 클릭 후 전환되지 않음. 다음 가게로 진행\n",
            "entryIframe 로드.\n",
            "Error while extracting menu/features for 꽃길국수, div 1:\n",
            "Error while extracting menu/features for 꽃길국수, div 2:\n"
          ]
        },
        {
          "name": "stderr",
          "output_type": "stream",
          "text": [
            " 55%|█████▍    | 549/999 [3:22:21<3:14:58, 26.00s/it]"
          ]
        },
        {
          "name": "stdout",
          "output_type": "stream",
          "text": [
            "꽃길식당용담본점: searchIframe 로드 및 프레임 전환 완료\n",
            "꽃길식당용담본점: entryIframe이 이미 로드됨. 클릭 없이 바로 진행\n",
            "entryIframe 로드.\n",
            "Error while extracting menu/features for 꽃길식당용담본점, div 1:\n",
            "Error while extracting menu/features for 꽃길식당용담본점, div 2:\n"
          ]
        },
        {
          "name": "stderr",
          "output_type": "stream",
          "text": [
            " 55%|█████▌    | 550/999 [3:22:41<2:59:24, 23.98s/it]"
          ]
        },
        {
          "name": "stdout",
          "output_type": "stream",
          "text": [
            "꽃다운주점삼화지구점: searchIframe 로드 및 프레임 전환 완료\n",
            "Error while clicking first search result for 꽃다운주점삼화지구점: Unable to locate list container.\n"
          ]
        },
        {
          "name": "stderr",
          "output_type": "stream",
          "text": [
            " 55%|█████▌    | 551/999 [3:23:02<2:52:28, 23.10s/it]"
          ]
        },
        {
          "name": "stdout",
          "output_type": "stream",
          "text": [
            "Failed to load iframe after multiple attempts for 꽃다운주점삼화지구점.\n",
            "crawling fatil : 꽃다운주점삼화지구점 to fail_to_crawling\n",
            "꽃담수제버거: searchIframe 로드 및 프레임 전환 완료\n",
            "꽃담수제버거: entryIframe이 이미 로드됨. 클릭 없이 바로 진행\n",
            "entryIframe 로드.\n",
            "Error while extracting menu/features for 꽃담수제버거, div 1:\n",
            "Error while extracting menu/features for 꽃담수제버거, div 2:\n"
          ]
        },
        {
          "name": "stderr",
          "output_type": "stream",
          "text": [
            " 55%|█████▌    | 552/999 [3:23:23<2:48:44, 22.65s/it]"
          ]
        },
        {
          "name": "stdout",
          "output_type": "stream",
          "text": [
            "꽃담초밥: searchIframe 로드 및 프레임 전환 완료\n",
            "꽃담초밥: entryIframe이 이미 로드됨. 클릭 없이 바로 진행\n",
            "entryIframe 로드.\n",
            "Error while extracting menu/features for 꽃담초밥, div 1:\n"
          ]
        },
        {
          "name": "stderr",
          "output_type": "stream",
          "text": [
            " 55%|█████▌    | 553/999 [3:23:44<2:45:01, 22.20s/it]"
          ]
        },
        {
          "name": "stdout",
          "output_type": "stream",
          "text": [
            "Error while extracting menu/features for 꽃담초밥, div 2:\n",
            " 사진 버튼 없음 : 꽃담초밥.\n",
            "꽃돈92본점: searchIframe 로드 및 프레임 전환 완료\n",
            "Error while clicking first search result for 꽃돈92본점: Unable to locate list container.\n"
          ]
        },
        {
          "name": "stderr",
          "output_type": "stream",
          "text": [
            " 55%|█████▌    | 554/999 [3:24:05<2:41:41, 21.80s/it]"
          ]
        },
        {
          "name": "stdout",
          "output_type": "stream",
          "text": [
            "Failed to load iframe after multiple attempts for 꽃돈92본점.\n",
            "crawling fatil : 꽃돈92본점 to fail_to_crawling\n",
            "꽃돼지: searchIframe 로드 및 프레임 전환 완료\n",
            "꽃돼지: 첫 번째 가게 클릭 후 전환되지 않음. 다음 가게로 진행\n",
            "entryIframe 로드.\n",
            "Error while extracting menu/features for 꽃돼지, div 1:\n",
            "Error while extracting menu/features for 꽃돼지, div 2:\n"
          ]
        },
        {
          "name": "stderr",
          "output_type": "stream",
          "text": [
            " 56%|█████▌    | 555/999 [3:24:34<2:55:44, 23.75s/it]"
          ]
        },
        {
          "name": "stdout",
          "output_type": "stream",
          "text": [
            "꽃마름제주이도점: searchIframe 로드 및 프레임 전환 완료\n",
            "꽃마름제주이도점: entryIframe이 이미 로드됨. 클릭 없이 바로 진행\n",
            "entryIframe 로드.\n",
            "Error while extracting menu/features for 꽃마름제주이도점, div 1:\n",
            "Error while extracting menu/features for 꽃마름제주이도점, div 2:\n"
          ]
        },
        {
          "name": "stderr",
          "output_type": "stream",
          "text": [
            " 56%|█████▌    | 556/999 [3:24:53<2:45:31, 22.42s/it]"
          ]
        },
        {
          "name": "stdout",
          "output_type": "stream",
          "text": [
            "꽃밥: searchIframe 로드 및 프레임 전환 완료\n",
            "꽃밥: 첫 번째 가게 클릭 후 전환되지 않음. 다음 가게로 진행\n",
            "entryIframe 로드.\n",
            "Error while extracting menu/features for 꽃밥, div 1:\n",
            "Error while extracting menu/features for 꽃밥, div 2:\n"
          ]
        },
        {
          "name": "stderr",
          "output_type": "stream",
          "text": [
            " 56%|█████▌    | 557/999 [3:25:21<2:57:30, 24.10s/it]"
          ]
        },
        {
          "name": "stdout",
          "output_type": "stream",
          "text": [
            "꽃밭에서: searchIframe 로드 및 프레임 전환 완료\n",
            "꽃밭에서: 첫 번째 가게 클릭 후 전환되지 않음. 다음 가게로 진행\n",
            "entryIframe 로드.\n",
            "Error while extracting datalab information for 꽃밭에서:\n",
            "Error while navigating to reviews for 꽃밭에서:\n"
          ]
        },
        {
          "name": "stderr",
          "output_type": "stream",
          "text": [
            " 56%|█████▌    | 558/999 [3:25:49<3:05:32, 25.24s/it]"
          ]
        },
        {
          "name": "stdout",
          "output_type": "stream",
          "text": [
            "꽃보다소제주연동점: searchIframe 로드 및 프레임 전환 완료\n",
            "Error while clicking first search result for 꽃보다소제주연동점: Unable to locate list container.\n"
          ]
        },
        {
          "name": "stderr",
          "output_type": "stream",
          "text": [
            " 56%|█████▌    | 559/999 [3:26:10<2:55:10, 23.89s/it]"
          ]
        },
        {
          "name": "stdout",
          "output_type": "stream",
          "text": [
            "Failed to load iframe after multiple attempts for 꽃보다소제주연동점.\n",
            "crawling fatil : 꽃보다소제주연동점 to fail_to_crawling\n",
            "꽃이피다1: searchIframe 로드 및 프레임 전환 완료\n",
            "꽃이피다1: 첫 번째 가게 클릭 후 전환되지 않음. 다음 가게로 진행\n",
            "entryIframe 로드.\n"
          ]
        },
        {
          "name": "stderr",
          "output_type": "stream",
          "text": [
            " 56%|█████▌    | 560/999 [3:26:35<2:58:19, 24.37s/it]"
          ]
        },
        {
          "name": "stdout",
          "output_type": "stream",
          "text": [
            "Error while navigating to reviews for 꽃이피다1:\n",
            " 사진 버튼 없음 : 꽃이피다1.\n",
            "꽃잎대패 제주아라점: searchIframe 로드 및 프레임 전환 완료\n",
            "꽃잎대패 제주아라점: entryIframe이 이미 로드됨. 클릭 없이 바로 진행\n",
            "entryIframe 로드.\n",
            "Error while extracting menu/features for 꽃잎대패 제주아라점, div 1:\n",
            "Error while extracting menu/features for 꽃잎대패 제주아라점, div 2:\n"
          ]
        },
        {
          "name": "stderr",
          "output_type": "stream",
          "text": [
            " 56%|█████▌    | 561/999 [3:26:56<2:50:58, 23.42s/it]"
          ]
        },
        {
          "name": "stdout",
          "output_type": "stream",
          "text": [
            "꽃진미: searchIframe 로드 및 프레임 전환 완료\n",
            "꽃진미: 첫 번째 가게 클릭 후 전환되지 않음. 다음 가게로 진행\n",
            "entryIframe 로드.\n",
            "Error while extracting menu/features for 꽃진미, div 1:\n",
            "Error while extracting menu/features for 꽃진미, div 2:\n"
          ]
        },
        {
          "name": "stderr",
          "output_type": "stream",
          "text": [
            " 56%|█████▋    | 562/999 [3:27:23<2:58:55, 24.57s/it]"
          ]
        },
        {
          "name": "stdout",
          "output_type": "stream",
          "text": [
            "꽃피는산골: searchIframe 로드 및 프레임 전환 완료\n",
            "꽃피는산골: 첫 번째 가게 클릭 후 전환되지 않음. 다음 가게로 진행\n",
            "entryIframe 로드.\n",
            "Error while extracting menu/features for 꽃피는산골, div 1:\n",
            "Error while extracting menu/features for 꽃피는산골, div 2:\n"
          ]
        },
        {
          "name": "stderr",
          "output_type": "stream",
          "text": [
            " 56%|█████▋    | 563/999 [3:27:52<3:06:28, 25.66s/it]"
          ]
        },
        {
          "name": "stdout",
          "output_type": "stream",
          "text": [
            "꽃향유: searchIframe 로드 및 프레임 전환 완료\n",
            "꽃향유: 첫 번째 가게 클릭 후 전환되지 않음. 다음 가게로 진행\n",
            "entryIframe 로드.\n",
            "Error while extracting menu/features for 꽃향유, div 1:\n",
            "Error while extracting menu/features for 꽃향유, div 2:\n"
          ]
        },
        {
          "name": "stderr",
          "output_type": "stream",
          "text": [
            " 56%|█████▋    | 564/999 [3:28:20<3:11:17, 26.39s/it]"
          ]
        },
        {
          "name": "stdout",
          "output_type": "stream",
          "text": [
            "꽈페 제주협재점: searchIframe 로드 및 프레임 전환 완료\n",
            "꽈페 제주협재점: entryIframe이 이미 로드됨. 클릭 없이 바로 진행\n",
            "entryIframe 로드.\n",
            "Error while extracting menu/features for 꽈페 제주협재점, div 1:\n",
            "Error while extracting menu/features for 꽈페 제주협재점, div 2:\n"
          ]
        },
        {
          "name": "stderr",
          "output_type": "stream",
          "text": [
            " 57%|█████▋    | 565/999 [3:28:41<2:59:07, 24.76s/it]"
          ]
        },
        {
          "name": "stdout",
          "output_type": "stream",
          "text": [
            "꾸바꾸바 서귀포1호점: searchIframe 로드 및 프레임 전환 완료\n",
            "꾸바꾸바 서귀포1호점: entryIframe이 이미 로드됨. 클릭 없이 바로 진행\n",
            "entryIframe 로드.\n",
            "Error while extracting menu/features for 꾸바꾸바 서귀포1호점, div 1:\n",
            "Error while navigating to reviews for 꾸바꾸바 서귀포1호점:\n"
          ]
        },
        {
          "name": "stderr",
          "output_type": "stream",
          "text": [
            " 57%|█████▋    | 566/999 [3:29:01<2:49:40, 23.51s/it]"
          ]
        },
        {
          "name": "stdout",
          "output_type": "stream",
          "text": [
            "꾸브라꼬숯불두마리치킨: searchIframe 로드 및 프레임 전환 완료\n",
            "꾸브라꼬숯불두마리치킨: 링크버튼을 찾을 수 없음. xpath 대신 다른 방법 시도\n"
          ]
        },
        {
          "name": "stderr",
          "output_type": "stream",
          "text": [
            " 57%|█████▋    | 567/999 [3:29:20<2:38:48, 22.06s/it]"
          ]
        },
        {
          "name": "stdout",
          "output_type": "stream",
          "text": [
            "Failed to load iframe after multiple attempts for 꾸브라꼬숯불두마리치킨.\n",
            "crawling fatil : 꾸브라꼬숯불두마리치킨 to fail_to_crawling\n",
            "꾸브라꼬숯불두마리치킨(대정서광점): searchIframe 로드 및 프레임 전환 완료\n",
            "꾸브라꼬숯불두마리치킨(대정서광점): 링크버튼을 찾을 수 없음. xpath 대신 다른 방법 시도\n"
          ]
        },
        {
          "name": "stderr",
          "output_type": "stream",
          "text": [
            " 57%|█████▋    | 568/999 [3:29:37<2:28:23, 20.66s/it]"
          ]
        },
        {
          "name": "stdout",
          "output_type": "stream",
          "text": [
            "Failed to load iframe after multiple attempts for 꾸브라꼬숯불두마리치킨(대정서광점).\n",
            "crawling fatil : 꾸브라꼬숯불두마리치킨(대정서광점) to fail_to_crawling\n",
            "꾸브라꼬숯불두마리치킨이도점: searchIframe 로드 및 프레임 전환 완료\n",
            "꾸브라꼬숯불두마리치킨이도점: entryIframe이 이미 로드됨. 클릭 없이 바로 진행\n",
            "entryIframe 로드.\n",
            "Error while extracting menu/features for 꾸브라꼬숯불두마리치킨이도점, div 1:\n",
            "Error while extracting menu/features for 꾸브라꼬숯불두마리치킨이도점, div 2:\n"
          ]
        },
        {
          "name": "stderr",
          "output_type": "stream",
          "text": [
            " 57%|█████▋    | 569/999 [3:29:59<2:29:22, 20.84s/it]"
          ]
        },
        {
          "name": "stdout",
          "output_type": "stream",
          "text": [
            "꾸어삼겹: searchIframe 로드 및 프레임 전환 완료\n",
            "꾸어삼겹: entryIframe이 이미 로드됨. 클릭 없이 바로 진행\n",
            "entryIframe 로드.\n",
            "Error while extracting menu/features for 꾸어삼겹, div 1:\n",
            "Error while extracting menu/features for 꾸어삼겹, div 2:\n"
          ]
        },
        {
          "name": "stderr",
          "output_type": "stream",
          "text": [
            " 57%|█████▋    | 570/999 [3:30:20<2:30:57, 21.11s/it]"
          ]
        },
        {
          "name": "stdout",
          "output_type": "stream",
          "text": [
            "꾼2: searchIframe 로드 및 프레임 전환 완료\n",
            "꾼2: 링크버튼을 찾을 수 없음. xpath 대신 다른 방법 시도\n"
          ]
        },
        {
          "name": "stderr",
          "output_type": "stream",
          "text": [
            " 57%|█████▋    | 571/999 [3:30:38<2:23:40, 20.14s/it]"
          ]
        },
        {
          "name": "stdout",
          "output_type": "stream",
          "text": [
            "Failed to load iframe after multiple attempts for 꾼2.\n",
            "crawling fatil : 꾼2 to fail_to_crawling\n",
            "꿀꿀이식당: searchIframe 로드 및 프레임 전환 완료\n",
            "꿀꿀이식당: 첫 번째 가게 클릭 후 전환되지 않음. 다음 가게로 진행\n",
            "entryIframe 로드.\n"
          ]
        },
        {
          "name": "stderr",
          "output_type": "stream",
          "text": [
            " 57%|█████▋    | 572/999 [3:31:03<2:32:25, 21.42s/it]"
          ]
        },
        {
          "name": "stdout",
          "output_type": "stream",
          "text": [
            "Error while extracting menu/features for 꿀꿀이식당, div 1:\n",
            "Error while extracting menu/features for 꿀꿀이식당, div 2:\n",
            " 사진 버튼 없음 : 꿀꿀이식당.\n",
            "꿀꿀이와꽃게: searchIframe 로드 및 프레임 전환 완료\n",
            "꿀꿀이와꽃게: entryIframe이 이미 로드됨. 클릭 없이 바로 진행\n",
            "entryIframe 로드.\n",
            "Error while extracting menu/features for 꿀꿀이와꽃게, div 1:\n",
            "Error while navigating to reviews for 꿀꿀이와꽃게:\n"
          ]
        },
        {
          "name": "stderr",
          "output_type": "stream",
          "text": [
            " 57%|█████▋    | 573/999 [3:31:24<2:31:08, 21.29s/it]"
          ]
        },
        {
          "name": "stdout",
          "output_type": "stream",
          "text": [
            "이미지 추출 오류 3 for 꿀꿀이와꽃게 \n",
            "이미지 추출 오류 4 for 꿀꿀이와꽃게 \n",
            "이미지 추출 오류 5 for 꿀꿀이와꽃게 \n",
            "이미지 추출 오류 6 for 꿀꿀이와꽃게 \n",
            "이미지 추출 오류 7 for 꿀꿀이와꽃게 \n",
            "이미지 추출 오류 8 for 꿀꿀이와꽃게 \n",
            "이미지 추출 오류 9 for 꿀꿀이와꽃게 \n",
            "이미지 추출 오류 10 for 꿀꿀이와꽃게 \n",
            "꿀돼지: searchIframe 로드 및 프레임 전환 완료\n",
            "꿀돼지: 첫 번째 가게 클릭 후 전환되지 않음. 다음 가게로 진행\n",
            "entryIframe 로드.\n",
            "Error while extracting menu/features for 꿀돼지, div 1:\n",
            "Error while extracting menu/features for 꿀돼지, div 2:\n"
          ]
        },
        {
          "name": "stderr",
          "output_type": "stream",
          "text": [
            " 57%|█████▋    | 574/999 [3:31:52<2:46:10, 23.46s/it]"
          ]
        },
        {
          "name": "stdout",
          "output_type": "stream",
          "text": [
            "꿀돼지세상: searchIframe 로드 및 프레임 전환 완료\n",
            "꿀돼지세상: entryIframe이 이미 로드됨. 클릭 없이 바로 진행\n",
            "entryIframe 로드.\n",
            "Error while extracting menu/features for 꿀돼지세상, div 1:\n",
            "Error while extracting menu/features for 꿀돼지세상, div 2:\n"
          ]
        },
        {
          "name": "stderr",
          "output_type": "stream",
          "text": [
            " 58%|█████▊    | 575/999 [3:32:13<2:40:42, 22.74s/it]"
          ]
        },
        {
          "name": "stdout",
          "output_type": "stream",
          "text": [
            "꿀봉: searchIframe 로드 및 프레임 전환 완료\n",
            "꿀봉: 첫 번째 가게 클릭 후 전환되지 않음. 다음 가게로 진행\n",
            "entryIframe 로드.\n",
            "Error while extracting menu/features for 꿀봉, div 1:\n",
            "Error while extracting menu/features for 꿀봉, div 2:\n"
          ]
        },
        {
          "name": "stderr",
          "output_type": "stream",
          "text": [
            " 58%|█████▊    | 576/999 [3:32:42<2:52:40, 24.49s/it]"
          ]
        },
        {
          "name": "stdout",
          "output_type": "stream",
          "text": [
            "꿀봉동문시장점: searchIframe 로드 및 프레임 전환 완료\n",
            "꿀봉동문시장점: entryIframe이 이미 로드됨. 클릭 없이 바로 진행\n",
            "entryIframe 로드.\n",
            "Error while extracting menu/features for 꿀봉동문시장점, div 1:\n",
            "Error while extracting menu/features for 꿀봉동문시장점, div 2:\n"
          ]
        },
        {
          "name": "stderr",
          "output_type": "stream",
          "text": [
            " 58%|█████▊    | 577/999 [3:33:03<2:46:00, 23.60s/it]"
          ]
        },
        {
          "name": "stdout",
          "output_type": "stream",
          "text": [
            "꿀봉제주한림본점: searchIframe 로드 및 프레임 전환 완료\n",
            "꿀봉제주한림본점: entryIframe이 이미 로드됨. 클릭 없이 바로 진행\n",
            "entryIframe 로드.\n",
            "Error while extracting menu/features for 꿀봉제주한림본점, div 1:\n",
            "Error while extracting menu/features for 꿀봉제주한림본점, div 2:\n"
          ]
        },
        {
          "name": "stderr",
          "output_type": "stream",
          "text": [
            " 58%|█████▊    | 578/999 [3:33:25<2:40:44, 22.91s/it]"
          ]
        },
        {
          "name": "stdout",
          "output_type": "stream",
          "text": [
            "꿈낭: searchIframe 로드 및 프레임 전환 완료\n",
            "꿈낭: 첫 번째 가게 클릭 후 전환되지 않음. 다음 가게로 진행\n",
            "entryIframe 로드.\n",
            "Error while extracting menu/features for 꿈낭, div 1:\n",
            "Error while extracting menu/features for 꿈낭, div 2:\n"
          ]
        },
        {
          "name": "stderr",
          "output_type": "stream",
          "text": [
            " 58%|█████▊    | 579/999 [3:33:53<2:51:26, 24.49s/it]"
          ]
        },
        {
          "name": "stdout",
          "output_type": "stream",
          "text": [
            "꿈낭밥집: searchIframe 로드 및 프레임 전환 완료\n",
            "꿈낭밥집: entryIframe이 이미 로드됨. 클릭 없이 바로 진행\n",
            "entryIframe 로드.\n",
            "Error while extracting menu/features for 꿈낭밥집, div 1:\n",
            "Error while extracting menu/features for 꿈낭밥집, div 2:\n"
          ]
        },
        {
          "name": "stderr",
          "output_type": "stream",
          "text": [
            " 58%|█████▊    | 580/999 [3:34:12<2:40:03, 22.92s/it]"
          ]
        },
        {
          "name": "stdout",
          "output_type": "stream",
          "text": [
            "꿈에본꽃돼지: searchIframe 로드 및 프레임 전환 완료\n",
            "꿈에본꽃돼지: entryIframe이 이미 로드됨. 클릭 없이 바로 진행\n",
            "entryIframe 로드.\n",
            "Error while extracting menu/features for 꿈에본꽃돼지, div 1:\n",
            "Error while extracting menu/features for 꿈에본꽃돼지, div 2:\n"
          ]
        },
        {
          "name": "stderr",
          "output_type": "stream",
          "text": [
            " 58%|█████▊    | 581/999 [3:34:33<2:35:51, 22.37s/it]"
          ]
        },
        {
          "name": "stdout",
          "output_type": "stream",
          "text": [
            "꿈의요리애월: searchIframe 로드 및 프레임 전환 완료\n",
            "꿈의요리애월: entryIframe이 이미 로드됨. 클릭 없이 바로 진행\n",
            "entryIframe 로드.\n",
            "Error while extracting datalab information for 꿈의요리애월:\n",
            "Error while navigating to reviews for 꿈의요리애월:\n"
          ]
        },
        {
          "name": "stderr",
          "output_type": "stream",
          "text": [
            " 58%|█████▊    | 582/999 [3:34:54<2:32:17, 21.91s/it]"
          ]
        },
        {
          "name": "stdout",
          "output_type": "stream",
          "text": [
            "이미지 추출 오류 1 for 꿈의요리애월 \n",
            "이미지 추출 오류 2 for 꿈의요리애월 \n",
            "이미지 추출 오류 3 for 꿈의요리애월 \n",
            "이미지 추출 오류 4 for 꿈의요리애월 \n",
            "이미지 추출 오류 5 for 꿈의요리애월 \n",
            "이미지 추출 오류 6 for 꿈의요리애월 \n",
            "이미지 추출 오류 7 for 꿈의요리애월 \n",
            "이미지 추출 오류 8 for 꿈의요리애월 \n",
            "이미지 추출 오류 9 for 꿈의요리애월 \n",
            "이미지 추출 오류 10 for 꿈의요리애월 \n",
            "꿩마을: searchIframe 로드 및 프레임 전환 완료\n",
            "꿩마을: 첫 번째 가게 클릭 후 전환되지 않음. 다음 가게로 진행\n",
            "entryIframe 로드.\n",
            "Error while extracting menu/features for 꿩마을, div 1:\n",
            "Error while extracting menu/features for 꿩마을, div 2:\n"
          ]
        },
        {
          "name": "stderr",
          "output_type": "stream",
          "text": [
            " 58%|█████▊    | 583/999 [3:35:22<2:44:48, 23.77s/it]"
          ]
        },
        {
          "name": "stdout",
          "output_type": "stream",
          "text": [
            "끄띠탑동: searchIframe 로드 및 프레임 전환 완료\n",
            "끄띠탑동: entryIframe이 이미 로드됨. 클릭 없이 바로 진행\n",
            "entryIframe 로드.\n",
            "Error while extracting datalab information for 끄띠탑동:\n",
            "Error while navigating to reviews for 끄띠탑동:\n"
          ]
        },
        {
          "name": "stderr",
          "output_type": "stream",
          "text": [
            " 58%|█████▊    | 584/999 [3:35:45<2:42:09, 23.44s/it]"
          ]
        },
        {
          "name": "stdout",
          "output_type": "stream",
          "text": [
            "끝자락부제: searchIframe 로드 및 프레임 전환 완료\n",
            "Error while clicking first search result for 끝자락부제: Unable to locate list container.\n"
          ]
        },
        {
          "name": "stderr",
          "output_type": "stream",
          "text": [
            " 59%|█████▊    | 585/999 [3:36:05<2:35:55, 22.60s/it]"
          ]
        },
        {
          "name": "stdout",
          "output_type": "stream",
          "text": [
            "Failed to load iframe after multiple attempts for 끝자락부제.\n",
            "crawling fatil : 끝자락부제 to fail_to_crawling\n",
            "끼니: searchIframe 로드 및 프레임 전환 완료\n",
            "끼니: 링크버튼을 찾을 수 없음. xpath 대신 다른 방법 시도\n"
          ]
        },
        {
          "name": "stderr",
          "output_type": "stream",
          "text": [
            " 59%|█████▊    | 586/999 [3:36:23<2:25:53, 21.20s/it]"
          ]
        },
        {
          "name": "stdout",
          "output_type": "stream",
          "text": [
            "Failed to load iframe after multiple attempts for 끼니.\n",
            "crawling fatil : 끼니 to fail_to_crawling\n",
            "나고야일식: searchIframe 로드 및 프레임 전환 완료\n",
            "나고야일식: 첫 번째 가게 클릭 후 전환되지 않음. 다음 가게로 진행\n",
            "entryIframe 로드.\n",
            "Error while extracting menu/features for 나고야일식, div 1:\n"
          ]
        },
        {
          "name": "stderr",
          "output_type": "stream",
          "text": [
            " 59%|█████▉    | 587/999 [3:36:47<2:30:40, 21.94s/it]"
          ]
        },
        {
          "name": "stdout",
          "output_type": "stream",
          "text": [
            "Error while extracting menu/features for 나고야일식, div 2:\n",
            " 사진 버튼 없음 : 나고야일식.\n",
            "나그네식당: searchIframe 로드 및 프레임 전환 완료\n",
            "나그네식당: 첫 번째 가게 클릭 후 전환되지 않음. 다음 가게로 진행\n",
            "entryIframe 로드.\n",
            "Error while extracting menu/features for 나그네식당, div 1:\n",
            "Error while extracting menu/features for 나그네식당, div 2:\n"
          ]
        },
        {
          "name": "stderr",
          "output_type": "stream",
          "text": [
            " 59%|█████▉    | 588/999 [3:37:15<2:43:08, 23.82s/it]"
          ]
        },
        {
          "name": "stdout",
          "output_type": "stream",
          "text": [
            "나까무라: searchIframe 로드 및 프레임 전환 완료\n",
            "나까무라: 첫 번째 가게 클릭 후 전환되지 않음. 다음 가게로 진행\n",
            "entryIframe 로드.\n",
            "Error while extracting datalab information for 나까무라:\n",
            "Error while navigating to reviews for 나까무라:\n"
          ]
        },
        {
          "name": "stderr",
          "output_type": "stream",
          "text": [
            " 59%|█████▉    | 589/999 [3:37:41<2:45:56, 24.28s/it]"
          ]
        },
        {
          "name": "stdout",
          "output_type": "stream",
          "text": [
            "나나식당: searchIframe 로드 및 프레임 전환 완료\n",
            "나나식당: 첫 번째 가게 클릭 후 전환되지 않음. 다음 가게로 진행\n"
          ]
        },
        {
          "name": "stderr",
          "output_type": "stream",
          "text": [
            " 59%|█████▉    | 590/999 [3:38:02<2:39:53, 23.46s/it]"
          ]
        },
        {
          "name": "stdout",
          "output_type": "stream",
          "text": [
            "Failed to load iframe after multiple attempts for 나나식당.\n",
            "crawling fatil : 나나식당 to fail_to_crawling\n",
            "나나이로 아코제주: searchIframe 로드 및 프레임 전환 완료\n",
            "나나이로 아코제주: entryIframe이 이미 로드됨. 클릭 없이 바로 진행\n",
            "entryIframe 로드.\n",
            "Error while extracting datalab information for 나나이로 아코제주:\n",
            "Error while navigating to reviews for 나나이로 아코제주:\n"
          ]
        },
        {
          "name": "stderr",
          "output_type": "stream",
          "text": [
            " 59%|█████▉    | 591/999 [3:38:23<2:33:29, 22.57s/it]"
          ]
        },
        {
          "name": "stdout",
          "output_type": "stream",
          "text": [
            "나누리푸드: searchIframe 로드 및 프레임 전환 완료\n",
            "나누리푸드: 첫 번째 가게 클릭 후 전환되지 않음. 다음 가게로 진행\n",
            "entryIframe 로드.\n",
            "Error while extracting datalab information for 나누리푸드:\n",
            "Error while navigating to reviews for 나누리푸드:\n"
          ]
        },
        {
          "name": "stderr",
          "output_type": "stream",
          "text": [
            " 59%|█████▉    | 592/999 [3:38:50<2:42:39, 23.98s/it]"
          ]
        },
        {
          "name": "stdout",
          "output_type": "stream",
          "text": [
            "이미지 추출 오류 6 for 나누리푸드 \n",
            "이미지 추출 오류 7 for 나누리푸드 \n",
            "이미지 추출 오류 8 for 나누리푸드 \n",
            "이미지 추출 오류 9 for 나누리푸드 \n",
            "이미지 추출 오류 10 for 나누리푸드 \n",
            "나눔김밥: searchIframe 로드 및 프레임 전환 완료\n",
            "나눔김밥: 첫 번째 가게 클릭 후 전환되지 않음. 다음 가게로 진행\n",
            "entryIframe 로드.\n",
            "Error while extracting menu/features for 나눔김밥, div 1:\n",
            "Error while extracting menu/features for 나눔김밥, div 2:\n"
          ]
        },
        {
          "name": "stderr",
          "output_type": "stream",
          "text": [
            " 59%|█████▉    | 593/999 [3:39:18<2:51:15, 25.31s/it]"
          ]
        },
        {
          "name": "stdout",
          "output_type": "stream",
          "text": [
            "나니와: searchIframe 로드 및 프레임 전환 완료\n",
            "나니와: 첫 번째 가게 클릭 후 전환되지 않음. 다음 가게로 진행\n",
            "entryIframe 로드.\n",
            "Error while extracting datalab information for 나니와:\n",
            "Error while navigating to reviews for 나니와:\n"
          ]
        },
        {
          "name": "stderr",
          "output_type": "stream",
          "text": [
            " 59%|█████▉    | 594/999 [3:39:39<2:42:18, 24.05s/it]"
          ]
        },
        {
          "name": "stdout",
          "output_type": "stream",
          "text": [
            "이미지 추출 오류 2 for 나니와 \n",
            "이미지 추출 오류 3 for 나니와 \n",
            "이미지 추출 오류 4 for 나니와 \n",
            "이미지 추출 오류 5 for 나니와 \n",
            "이미지 추출 오류 6 for 나니와 \n",
            "이미지 추출 오류 7 for 나니와 \n",
            "이미지 추출 오류 8 for 나니와 \n",
            "이미지 추출 오류 9 for 나니와 \n",
            "이미지 추출 오류 10 for 나니와 \n",
            "나드리빵집: searchIframe 로드 및 프레임 전환 완료\n",
            "나드리빵집: 첫 번째 가게 클릭 후 전환되지 않음. 다음 가게로 진행\n",
            "entryIframe 로드.\n",
            "Error while extracting menu/features for 나드리빵집, div 1:\n",
            "Error while extracting menu/features for 나드리빵집, div 2:\n"
          ]
        },
        {
          "name": "stderr",
          "output_type": "stream",
          "text": [
            " 60%|█████▉    | 595/999 [3:40:05<2:45:47, 24.62s/it]"
          ]
        },
        {
          "name": "stdout",
          "output_type": "stream",
          "text": [
            "나뚜루제주일도점: searchIframe 로드 및 프레임 전환 완료\n",
            "나뚜루제주일도점: 링크버튼을 찾을 수 없음. xpath 대신 다른 방법 시도\n"
          ]
        },
        {
          "name": "stderr",
          "output_type": "stream",
          "text": [
            " 60%|█████▉    | 596/999 [3:40:23<2:31:13, 22.51s/it]"
          ]
        },
        {
          "name": "stdout",
          "output_type": "stream",
          "text": [
            "Failed to load iframe after multiple attempts for 나뚜루제주일도점.\n",
            "crawling fatil : 나뚜루제주일도점 to fail_to_crawling\n",
            "나라국밥: searchIframe 로드 및 프레임 전환 완료\n",
            "나라국밥: 첫 번째 가게 클릭 후 전환되지 않음. 다음 가게로 진행\n",
            "entryIframe 로드.\n",
            "Error while extracting menu/features for 나라국밥, div 1:\n",
            "Error while extracting menu/features for 나라국밥, div 2:\n"
          ]
        },
        {
          "name": "stderr",
          "output_type": "stream",
          "text": [
            " 60%|█████▉    | 597/999 [3:40:51<2:41:21, 24.08s/it]"
          ]
        },
        {
          "name": "stdout",
          "output_type": "stream",
          "text": [
            "나라돈까스: searchIframe 로드 및 프레임 전환 완료\n",
            "나라돈까스: 첫 번째 가게 클릭 후 전환되지 않음. 다음 가게로 진행\n",
            "entryIframe 로드.\n",
            "Error while extracting menu/features for 나라돈까스, div 1:\n",
            "Error while extracting menu/features for 나라돈까스, div 2:\n"
          ]
        },
        {
          "name": "stderr",
          "output_type": "stream",
          "text": [
            " 60%|█████▉    | 598/999 [3:41:19<2:49:06, 25.30s/it]"
          ]
        },
        {
          "name": "stdout",
          "output_type": "stream",
          "text": [
            "나루터: searchIframe 로드 및 프레임 전환 완료\n",
            "나루터: 첫 번째 가게 클릭 후 전환되지 않음. 다음 가게로 진행\n",
            "entryIframe 로드.\n",
            "Error while extracting menu/features for 나루터, div 1:\n",
            "Error while extracting menu/features for 나루터, div 2:\n"
          ]
        },
        {
          "name": "stderr",
          "output_type": "stream",
          "text": [
            " 60%|█████▉    | 599/999 [3:41:47<2:54:09, 26.12s/it]"
          ]
        },
        {
          "name": "stdout",
          "output_type": "stream",
          "text": [
            "나리꼬모 제주점: searchIframe 로드 및 프레임 전환 완료\n",
            "나리꼬모 제주점: entryIframe이 이미 로드됨. 클릭 없이 바로 진행\n",
            "entryIframe 로드.\n",
            "Error while extracting menu/features for 나리꼬모 제주점, div 1:\n",
            "Error while extracting menu/features for 나리꼬모 제주점, div 2:\n"
          ]
        },
        {
          "name": "stderr",
          "output_type": "stream",
          "text": [
            " 60%|██████    | 600/999 [3:42:08<2:44:18, 24.71s/it]"
          ]
        },
        {
          "name": "stdout",
          "output_type": "stream",
          "text": [
            "나목도식당: searchIframe 로드 및 프레임 전환 완료\n",
            "나목도식당: entryIframe이 이미 로드됨. 클릭 없이 바로 진행\n",
            "entryIframe 로드.\n",
            "Error while extracting menu/features for 나목도식당, div 1:\n",
            "Error while extracting menu/features for 나목도식당, div 2:\n"
          ]
        },
        {
          "name": "stderr",
          "output_type": "stream",
          "text": [
            " 60%|██████    | 601/999 [3:42:30<2:36:52, 23.65s/it]"
          ]
        },
        {
          "name": "stdout",
          "output_type": "stream",
          "text": [
            "나무꽃: searchIframe 로드 및 프레임 전환 완료\n",
            "나무꽃: 링크버튼을 찾을 수 없음. xpath 대신 다른 방법 시도\n"
          ]
        },
        {
          "name": "stderr",
          "output_type": "stream",
          "text": [
            " 60%|██████    | 602/999 [3:42:48<2:25:35, 22.00s/it]"
          ]
        },
        {
          "name": "stdout",
          "output_type": "stream",
          "text": [
            "Failed to load iframe after multiple attempts for 나무꽃.\n",
            "crawling fatil : 나무꽃 to fail_to_crawling\n",
            "나무식탁: searchIframe 로드 및 프레임 전환 완료\n",
            "나무식탁: 첫 번째 가게 클릭 후 전환되지 않음. 다음 가게로 진행\n",
            "entryIframe 로드.\n",
            "Error while extracting menu/features for 나무식탁, div 1:\n",
            "Error while extracting menu/features for 나무식탁, div 2:\n"
          ]
        },
        {
          "name": "stderr",
          "output_type": "stream",
          "text": [
            " 60%|██████    | 603/999 [3:43:16<2:37:20, 23.84s/it]"
          ]
        },
        {
          "name": "stdout",
          "output_type": "stream",
          "text": [
            "나무카페: searchIframe 로드 및 프레임 전환 완료\n",
            "나무카페: 링크버튼을 찾을 수 없음. xpath 대신 다른 방법 시도\n"
          ]
        },
        {
          "name": "stderr",
          "output_type": "stream",
          "text": [
            " 60%|██████    | 604/999 [3:43:34<2:25:10, 22.05s/it]"
          ]
        },
        {
          "name": "stdout",
          "output_type": "stream",
          "text": [
            "Failed to load iframe after multiple attempts for 나무카페.\n",
            "crawling fatil : 나무카페 to fail_to_crawling\n",
            "나성갈비 제주노형점: searchIframe 로드 및 프레임 전환 완료\n",
            "Error while clicking first search result for 나성갈비 제주노형점: Unable to locate list container.\n"
          ]
        },
        {
          "name": "stderr",
          "output_type": "stream",
          "text": [
            " 61%|██████    | 605/999 [3:43:55<2:22:33, 21.71s/it]"
          ]
        },
        {
          "name": "stdout",
          "output_type": "stream",
          "text": [
            "Failed to load iframe after multiple attempts for 나성갈비 제주노형점.\n",
            "crawling fatil : 나성갈비 제주노형점 to fail_to_crawling\n",
            "나성수두리보말톳칼국수: searchIframe 로드 및 프레임 전환 완료\n",
            "나성수두리보말톳칼국수: entryIframe이 이미 로드됨. 클릭 없이 바로 진행\n",
            "entryIframe 로드.\n",
            "Error while extracting menu/features for 나성수두리보말톳칼국수, div 1:\n",
            "Error while extracting menu/features for 나성수두리보말톳칼국수, div 2:\n"
          ]
        },
        {
          "name": "stderr",
          "output_type": "stream",
          "text": [
            " 61%|██████    | 606/999 [3:44:16<2:21:52, 21.66s/it]"
          ]
        },
        {
          "name": "stdout",
          "output_type": "stream",
          "text": [
            "나성칼국수: searchIframe 로드 및 프레임 전환 완료\n",
            "나성칼국수: 링크버튼을 찾을 수 없음. xpath 대신 다른 방법 시도\n"
          ]
        },
        {
          "name": "stderr",
          "output_type": "stream",
          "text": [
            " 61%|██████    | 607/999 [3:44:34<2:14:58, 20.66s/it]"
          ]
        },
        {
          "name": "stdout",
          "output_type": "stream",
          "text": [
            "Failed to load iframe after multiple attempts for 나성칼국수.\n",
            "crawling fatil : 나성칼국수 to fail_to_crawling\n",
            "나영이네 해장국: searchIframe 로드 및 프레임 전환 완료\n",
            "나영이네 해장국: entryIframe이 이미 로드됨. 클릭 없이 바로 진행\n",
            "entryIframe 로드.\n",
            "Error while extracting menu/features for 나영이네 해장국, div 1:\n",
            "Error while navigating to reviews for 나영이네 해장국:\n"
          ]
        },
        {
          "name": "stderr",
          "output_type": "stream",
          "text": [
            " 61%|██████    | 608/999 [3:44:55<2:15:09, 20.74s/it]"
          ]
        },
        {
          "name": "stdout",
          "output_type": "stream",
          "text": [
            "나우커피 제주광양점: searchIframe 로드 및 프레임 전환 완료\n",
            "나우커피 제주광양점: entryIframe이 이미 로드됨. 클릭 없이 바로 진행\n",
            "entryIframe 로드.\n",
            "Error while extracting datalab information for 나우커피 제주광양점:\n",
            "Error while navigating to reviews for 나우커피 제주광양점:\n"
          ]
        },
        {
          "name": "stderr",
          "output_type": "stream",
          "text": [
            " 61%|██████    | 609/999 [3:45:16<2:14:40, 20.72s/it]"
          ]
        },
        {
          "name": "stdout",
          "output_type": "stream",
          "text": [
            "나우커피제주노형점: searchIframe 로드 및 프레임 전환 완료\n",
            "나우커피제주노형점: entryIframe이 이미 로드됨. 클릭 없이 바로 진행\n",
            "entryIframe 로드.\n",
            "Error while extracting menu/features for 나우커피제주노형점, div 1:\n",
            "Error while navigating to reviews for 나우커피제주노형점:\n"
          ]
        },
        {
          "name": "stderr",
          "output_type": "stream",
          "text": [
            " 61%|██████    | 610/999 [3:45:37<2:14:40, 20.77s/it]"
          ]
        },
        {
          "name": "stdout",
          "output_type": "stream",
          "text": [
            "나우커피제주도남점: searchIframe 로드 및 프레임 전환 완료\n",
            "나우커피제주도남점: entryIframe이 이미 로드됨. 클릭 없이 바로 진행\n",
            "entryIframe 로드.\n",
            "Error while extracting datalab information for 나우커피제주도남점:\n",
            "Error while extracting menu/features for 나우커피제주도남점, div 1:\n",
            "Error while navigating to reviews for 나우커피제주도남점:\n"
          ]
        },
        {
          "name": "stderr",
          "output_type": "stream",
          "text": [
            " 61%|██████    | 611/999 [3:45:58<2:14:32, 20.81s/it]"
          ]
        },
        {
          "name": "stdout",
          "output_type": "stream",
          "text": [
            "나우커피제주삼도점: searchIframe 로드 및 프레임 전환 완료\n",
            "나우커피제주삼도점: entryIframe이 이미 로드됨. 클릭 없이 바로 진행\n",
            "entryIframe 로드.\n",
            "Error while extracting datalab information for 나우커피제주삼도점:\n",
            "Error while extracting menu/features for 나우커피제주삼도점, div 1:\n",
            "Error while navigating to reviews for 나우커피제주삼도점:\n"
          ]
        },
        {
          "name": "stderr",
          "output_type": "stream",
          "text": [
            " 61%|██████▏   | 612/999 [3:46:18<2:13:51, 20.75s/it]"
          ]
        },
        {
          "name": "stdout",
          "output_type": "stream",
          "text": [
            "나운터횟집: searchIframe 로드 및 프레임 전환 완료\n",
            "나운터횟집: entryIframe이 이미 로드됨. 클릭 없이 바로 진행\n",
            "entryIframe 로드.\n",
            "Error while extracting menu/features for 나운터횟집, div 1:\n",
            "Error while extracting menu/features for 나운터횟집, div 2:\n"
          ]
        },
        {
          "name": "stderr",
          "output_type": "stream",
          "text": [
            " 61%|██████▏   | 613/999 [3:46:38<2:10:22, 20.27s/it]"
          ]
        },
        {
          "name": "stdout",
          "output_type": "stream",
          "text": [
            "나원회포차: searchIframe 로드 및 프레임 전환 완료\n",
            "나원회포차: entryIframe이 이미 로드됨. 클릭 없이 바로 진행\n",
            "entryIframe 로드.\n",
            "Error while extracting menu/features for 나원회포차, div 1:\n",
            "Error while extracting menu/features for 나원회포차, div 2:\n"
          ]
        },
        {
          "name": "stderr",
          "output_type": "stream",
          "text": [
            " 61%|██████▏   | 614/999 [3:46:57<2:07:53, 19.93s/it]"
          ]
        },
        {
          "name": "stdout",
          "output_type": "stream",
          "text": [
            "나은이네막창: searchIframe 로드 및 프레임 전환 완료\n",
            "나은이네막창: entryIframe이 이미 로드됨. 클릭 없이 바로 진행\n",
            "entryIframe 로드.\n",
            "Error while extracting menu/features for 나은이네막창, div 1:\n",
            "Error while extracting menu/features for 나은이네막창, div 2:\n"
          ]
        },
        {
          "name": "stderr",
          "output_type": "stream",
          "text": [
            " 62%|██████▏   | 615/999 [3:47:18<2:09:45, 20.27s/it]"
          ]
        },
        {
          "name": "stdout",
          "output_type": "stream",
          "text": [
            "나이스데이밀: searchIframe 로드 및 프레임 전환 완료\n",
            "Error while clicking first search result for 나이스데이밀: Unable to locate list container.\n"
          ]
        },
        {
          "name": "stderr",
          "output_type": "stream",
          "text": [
            " 62%|██████▏   | 616/999 [3:47:39<2:10:14, 20.40s/it]"
          ]
        },
        {
          "name": "stdout",
          "output_type": "stream",
          "text": [
            "Failed to load iframe after multiple attempts for 나이스데이밀.\n",
            "crawling fatil : 나이스데이밀 to fail_to_crawling\n",
            "나이체: searchIframe 로드 및 프레임 전환 완료\n",
            "나이체: entryIframe이 이미 로드됨. 클릭 없이 바로 진행\n",
            "entryIframe 로드.\n",
            "Error while extracting menu/features for 나이체, div 1:\n",
            "Error while extracting menu/features for 나이체, div 2:\n"
          ]
        },
        {
          "name": "stderr",
          "output_type": "stream",
          "text": [
            " 62%|██████▏   | 617/999 [3:48:00<2:11:47, 20.70s/it]"
          ]
        },
        {
          "name": "stdout",
          "output_type": "stream",
          "text": [
            "나인브로스커피: searchIframe 로드 및 프레임 전환 완료\n",
            "나인브로스커피: entryIframe이 이미 로드됨. 클릭 없이 바로 진행\n",
            "entryIframe 로드.\n",
            "Error while extracting menu/features for 나인브로스커피, div 1:\n",
            "Error while extracting menu/features for 나인브로스커피, div 2:\n"
          ]
        },
        {
          "name": "stderr",
          "output_type": "stream",
          "text": [
            " 62%|██████▏   | 618/999 [3:48:21<2:12:10, 20.81s/it]"
          ]
        },
        {
          "name": "stdout",
          "output_type": "stream",
          "text": [
            "나주닭집: searchIframe 로드 및 프레임 전환 완료\n",
            "나주닭집: 첫 번째 가게 클릭 후 전환되지 않음. 다음 가게로 진행\n",
            "entryIframe 로드.\n",
            "Error while extracting menu/features for 나주닭집, div 1:\n",
            "Error while extracting menu/features for 나주닭집, div 2:\n"
          ]
        },
        {
          "name": "stderr",
          "output_type": "stream",
          "text": [
            " 62%|██████▏   | 619/999 [3:48:48<2:24:26, 22.81s/it]"
          ]
        },
        {
          "name": "stdout",
          "output_type": "stream",
          "text": [
            "나트랑: searchIframe 로드 및 프레임 전환 완료\n",
            "나트랑: 첫 번째 가게 클릭 후 전환되지 않음. 다음 가게로 진행\n",
            "entryIframe 로드.\n",
            "Error while extracting datalab information for 나트랑:\n",
            "Error while navigating to reviews for 나트랑:\n"
          ]
        },
        {
          "name": "stderr",
          "output_type": "stream",
          "text": [
            " 62%|██████▏   | 620/999 [3:49:14<2:29:13, 23.62s/it]"
          ]
        },
        {
          "name": "stdout",
          "output_type": "stream",
          "text": [
            "이미지 추출 오류 10 for 나트랑 \n",
            "나폴리피자: searchIframe 로드 및 프레임 전환 완료\n",
            "나폴리피자: 링크버튼을 찾을 수 없음. xpath 대신 다른 방법 시도\n"
          ]
        },
        {
          "name": "stderr",
          "output_type": "stream",
          "text": [
            " 62%|██████▏   | 621/999 [3:49:33<2:20:43, 22.34s/it]"
          ]
        },
        {
          "name": "stdout",
          "output_type": "stream",
          "text": [
            "Failed to load iframe after multiple attempts for 나폴리피자.\n",
            "crawling fatil : 나폴리피자 to fail_to_crawling\n",
            "나홀로횟집: searchIframe 로드 및 프레임 전환 완료\n",
            "나홀로횟집: 첫 번째 가게 클릭 후 전환되지 않음. 다음 가게로 진행\n",
            "entryIframe 로드.\n",
            "Error while extracting menu/features for 나홀로횟집, div 1:\n",
            "Error while extracting menu/features for 나홀로횟집, div 2:\n"
          ]
        },
        {
          "name": "stderr",
          "output_type": "stream",
          "text": [
            " 62%|██████▏   | 622/999 [3:50:01<2:31:12, 24.06s/it]"
          ]
        },
        {
          "name": "stdout",
          "output_type": "stream",
          "text": [
            "낙낭회센타: searchIframe 로드 및 프레임 전환 완료\n",
            "낙낭회센타: entryIframe이 이미 로드됨. 클릭 없이 바로 진행\n",
            "entryIframe 로드.\n",
            "Error while extracting menu/features for 낙낭회센타, div 1:\n",
            "Error while extracting menu/features for 낙낭회센타, div 2:\n"
          ]
        },
        {
          "name": "stderr",
          "output_type": "stream",
          "text": [
            " 62%|██████▏   | 623/999 [3:50:22<2:25:10, 23.17s/it]"
          ]
        },
        {
          "name": "stdout",
          "output_type": "stream",
          "text": [
            "낙동생오리: searchIframe 로드 및 프레임 전환 완료\n",
            "낙동생오리: 첫 번째 가게 클릭 후 전환되지 않음. 다음 가게로 진행\n",
            "entryIframe 로드.\n",
            "Error while extracting menu/features for 낙동생오리, div 1:\n",
            "Error while extracting menu/features for 낙동생오리, div 2:\n"
          ]
        },
        {
          "name": "stderr",
          "output_type": "stream",
          "text": [
            " 62%|██████▏   | 624/999 [3:50:51<2:34:50, 24.77s/it]"
          ]
        },
        {
          "name": "stdout",
          "output_type": "stream",
          "text": [
            "낙원93: searchIframe 로드 및 프레임 전환 완료\n",
            "낙원93: 첫 번째 가게 클릭 후 전환되지 않음. 다음 가게로 진행\n",
            "entryIframe 로드.\n",
            "Error while extracting menu/features for 낙원93, div 1:\n",
            "Error while extracting menu/features for 낙원93, div 2:\n"
          ]
        },
        {
          "name": "stderr",
          "output_type": "stream",
          "text": [
            " 63%|██████▎   | 625/999 [3:51:13<2:28:39, 23.85s/it]"
          ]
        },
        {
          "name": "stdout",
          "output_type": "stream",
          "text": [
            " 사진 버튼 없음 : 낙원93.\n",
            "낙원돈대패: searchIframe 로드 및 프레임 전환 완료\n",
            "낙원돈대패: entryIframe이 이미 로드됨. 클릭 없이 바로 진행\n",
            "entryIframe 로드.\n",
            "Error while extracting menu/features for 낙원돈대패, div 1:\n",
            "Error while extracting menu/features for 낙원돈대패, div 2:\n"
          ]
        },
        {
          "name": "stderr",
          "output_type": "stream",
          "text": [
            " 63%|██████▎   | 626/999 [3:51:32<2:19:15, 22.40s/it]"
          ]
        },
        {
          "name": "stdout",
          "output_type": "stream",
          "text": [
            "낙지로: searchIframe 로드 및 프레임 전환 완료\n",
            "낙지로: 첫 번째 가게 클릭 후 전환되지 않음. 다음 가게로 진행\n",
            "entryIframe 로드.\n",
            "Error while extracting menu/features for 낙지로, div 1:\n",
            "Error while extracting menu/features for 낙지로, div 2:\n"
          ]
        },
        {
          "name": "stderr",
          "output_type": "stream",
          "text": [
            " 63%|██████▎   | 627/999 [3:52:00<2:29:29, 24.11s/it]"
          ]
        },
        {
          "name": "stdout",
          "output_type": "stream",
          "text": [
            "낙지친구: searchIframe 로드 및 프레임 전환 완료\n",
            "낙지친구: 첫 번째 가게 클릭 후 전환되지 않음. 다음 가게로 진행\n",
            "entryIframe 로드.\n",
            "Error while extracting menu/features for 낙지친구, div 1:\n",
            "Error while extracting menu/features for 낙지친구, div 2:\n"
          ]
        },
        {
          "name": "stderr",
          "output_type": "stream",
          "text": [
            " 63%|██████▎   | 628/999 [3:52:28<2:36:56, 25.38s/it]"
          ]
        },
        {
          "name": "stdout",
          "output_type": "stream",
          "text": [
            "난달카페: searchIframe 로드 및 프레임 전환 완료\n",
            "난달카페: entryIframe이 이미 로드됨. 클릭 없이 바로 진행\n",
            "entryIframe 로드.\n",
            "Error while extracting menu/features for 난달카페, div 1:\n",
            "Error while extracting menu/features for 난달카페, div 2:\n"
          ]
        },
        {
          "name": "stderr",
          "output_type": "stream",
          "text": [
            " 63%|██████▎   | 629/999 [3:52:50<2:29:19, 24.22s/it]"
          ]
        },
        {
          "name": "stdout",
          "output_type": "stream",
          "text": [
            "난드르 깡통구이: searchIframe 로드 및 프레임 전환 완료\n",
            "난드르 깡통구이: entryIframe이 이미 로드됨. 클릭 없이 바로 진행\n",
            "entryIframe 로드.\n",
            "Error while extracting menu/features for 난드르 깡통구이, div 1:\n",
            "Error while extracting menu/features for 난드르 깡통구이, div 2:\n"
          ]
        },
        {
          "name": "stderr",
          "output_type": "stream",
          "text": [
            " 63%|██████▎   | 630/999 [3:53:11<2:23:49, 23.39s/it]"
          ]
        },
        {
          "name": "stdout",
          "output_type": "stream",
          "text": [
            "난드르깡통구이: searchIframe 로드 및 프레임 전환 완료\n",
            "난드르깡통구이: entryIframe이 이미 로드됨. 클릭 없이 바로 진행\n",
            "entryIframe 로드.\n",
            "Error while extracting menu/features for 난드르깡통구이, div 1:\n",
            "Error while extracting menu/features for 난드르깡통구이, div 2:\n"
          ]
        },
        {
          "name": "stderr",
          "output_type": "stream",
          "text": [
            " 63%|██████▎   | 631/999 [3:53:33<2:20:12, 22.86s/it]"
          ]
        },
        {
          "name": "stdout",
          "output_type": "stream",
          "text": [
            "난드르바당: searchIframe 로드 및 프레임 전환 완료\n",
            "난드르바당: entryIframe이 이미 로드됨. 클릭 없이 바로 진행\n",
            "entryIframe 로드.\n",
            "Error while extracting menu/features for 난드르바당, div 1:\n",
            "Error while extracting menu/features for 난드르바당, div 2:\n"
          ]
        },
        {
          "name": "stderr",
          "output_type": "stream",
          "text": [
            " 63%|██████▎   | 632/999 [3:53:54<2:17:26, 22.47s/it]"
          ]
        },
        {
          "name": "stdout",
          "output_type": "stream",
          "text": [
            "난드르포구: searchIframe 로드 및 프레임 전환 완료\n",
            "난드르포구: entryIframe이 이미 로드됨. 클릭 없이 바로 진행\n",
            "entryIframe 로드.\n",
            "Error while extracting menu/features for 난드르포구, div 1:\n",
            "Error while extracting menu/features for 난드르포구, div 2:\n"
          ]
        },
        {
          "name": "stderr",
          "output_type": "stream",
          "text": [
            " 63%|██████▎   | 633/999 [3:54:14<2:11:25, 21.55s/it]"
          ]
        },
        {
          "name": "stdout",
          "output_type": "stream",
          "text": [
            "난드르해장국: searchIframe 로드 및 프레임 전환 완료\n",
            "난드르해장국: entryIframe이 이미 로드됨. 클릭 없이 바로 진행\n",
            "entryIframe 로드.\n",
            "Error while extracting menu/features for 난드르해장국, div 1:\n",
            "Error while extracting menu/features for 난드르해장국, div 2:\n"
          ]
        },
        {
          "name": "stderr",
          "output_type": "stream",
          "text": [
            " 63%|██████▎   | 634/999 [3:54:35<2:10:24, 21.44s/it]"
          ]
        },
        {
          "name": "stdout",
          "output_type": "stream",
          "text": [
            "난드르흑돼지: searchIframe 로드 및 프레임 전환 완료\n",
            "난드르흑돼지: 첫 번째 가게 클릭 후 전환되지 않음. 다음 가게로 진행\n",
            "entryIframe 로드.\n",
            "Error while extracting menu/features for 난드르흑돼지, div 1:\n",
            "Error while extracting menu/features for 난드르흑돼지, div 2:\n"
          ]
        },
        {
          "name": "stderr",
          "output_type": "stream",
          "text": [
            " 64%|██████▎   | 635/999 [3:55:03<2:22:11, 23.44s/it]"
          ]
        },
        {
          "name": "stdout",
          "output_type": "stream",
          "text": [
            "난산리다방: searchIframe 로드 및 프레임 전환 완료\n",
            "난산리다방: entryIframe이 이미 로드됨. 클릭 없이 바로 진행\n",
            "entryIframe 로드.\n",
            "Error while extracting menu/features for 난산리다방, div 1:\n"
          ]
        },
        {
          "name": "stderr",
          "output_type": "stream",
          "text": [
            " 64%|██████▎   | 636/999 [3:55:20<2:10:30, 21.57s/it]"
          ]
        },
        {
          "name": "stdout",
          "output_type": "stream",
          "text": [
            "Error while extracting menu/features for 난산리다방, div 2:\n",
            " 사진 버튼 없음 : 난산리다방.\n",
            "난산리식당: searchIframe 로드 및 프레임 전환 완료\n",
            "난산리식당: 첫 번째 가게 클릭 후 전환되지 않음. 다음 가게로 진행\n",
            "entryIframe 로드.\n",
            "Error while extracting menu/features for 난산리식당, div 1:\n"
          ]
        },
        {
          "name": "stderr",
          "output_type": "stream",
          "text": [
            " 64%|██████▍   | 637/999 [3:55:44<2:14:34, 22.31s/it]"
          ]
        },
        {
          "name": "stdout",
          "output_type": "stream",
          "text": [
            "Error while extracting menu/features for 난산리식당, div 2:\n",
            " 사진 버튼 없음 : 난산리식당.\n",
            "난타50000 표선점: searchIframe 로드 및 프레임 전환 완료\n",
            "Error while clicking first search result for 난타50000 표선점: Unable to locate list container.\n"
          ]
        },
        {
          "name": "stderr",
          "output_type": "stream",
          "text": [
            " 64%|██████▍   | 638/999 [3:56:05<2:10:43, 21.73s/it]"
          ]
        },
        {
          "name": "stdout",
          "output_type": "stream",
          "text": [
            "Failed to load iframe after multiple attempts for 난타50000 표선점.\n",
            "crawling fatil : 난타50000 표선점 to fail_to_crawling\n",
            "난타5000모슬포점: searchIframe 로드 및 프레임 전환 완료\n",
            "난타5000모슬포점: entryIframe이 이미 로드됨. 클릭 없이 바로 진행\n",
            "entryIframe 로드.\n",
            "Error while extracting menu/features for 난타5000모슬포점, div 1:\n",
            "Error while extracting menu/features for 난타5000모슬포점, div 2:\n"
          ]
        },
        {
          "name": "stderr",
          "output_type": "stream",
          "text": [
            " 64%|██████▍   | 639/999 [3:56:25<2:08:52, 21.48s/it]"
          ]
        },
        {
          "name": "stdout",
          "output_type": "stream",
          "text": [
            "난타5000연동신광점: searchIframe 로드 및 프레임 전환 완료\n",
            "난타5000연동신광점: entryIframe이 이미 로드됨. 클릭 없이 바로 진행\n",
            "entryIframe 로드.\n",
            "Error while extracting menu/features for 난타5000연동신광점, div 1:\n",
            "Error while extracting menu/features for 난타5000연동신광점, div 2:\n"
          ]
        },
        {
          "name": "stderr",
          "output_type": "stream",
          "text": [
            " 64%|██████▍   | 640/999 [3:56:46<2:07:27, 21.30s/it]"
          ]
        },
        {
          "name": "stdout",
          "output_type": "stream",
          "text": [
            "난타5000일호광장점: searchIframe 로드 및 프레임 전환 완료\n",
            "Error while clicking first search result for 난타5000일호광장점: Unable to locate list container.\n"
          ]
        },
        {
          "name": "stderr",
          "output_type": "stream",
          "text": [
            " 64%|██████▍   | 641/999 [3:57:07<2:05:58, 21.11s/it]"
          ]
        },
        {
          "name": "stdout",
          "output_type": "stream",
          "text": [
            "Failed to load iframe after multiple attempts for 난타5000일호광장점.\n",
            "crawling fatil : 난타5000일호광장점 to fail_to_crawling\n",
            "난타오천 뜨란채점: searchIframe 로드 및 프레임 전환 완료\n",
            "난타오천 뜨란채점: 링크버튼을 찾을 수 없음. xpath 대신 다른 방법 시도\n"
          ]
        },
        {
          "name": "stderr",
          "output_type": "stream",
          "text": [
            " 64%|██████▍   | 642/999 [3:57:25<2:00:16, 20.21s/it]"
          ]
        },
        {
          "name": "stdout",
          "output_type": "stream",
          "text": [
            "Failed to load iframe after multiple attempts for 난타오천 뜨란채점.\n",
            "crawling fatil : 난타오천 뜨란채점 to fail_to_crawling\n",
            "난타오천도남점: searchIframe 로드 및 프레임 전환 완료\n",
            "난타오천도남점: entryIframe이 이미 로드됨. 클릭 없이 바로 진행\n",
            "entryIframe 로드.\n",
            "Error while extracting menu/features for 난타오천도남점, div 1:\n",
            "Error while extracting menu/features for 난타오천도남점, div 2:\n"
          ]
        },
        {
          "name": "stderr",
          "output_type": "stream",
          "text": [
            " 64%|██████▍   | 643/999 [3:57:46<2:00:52, 20.37s/it]"
          ]
        },
        {
          "name": "stdout",
          "output_type": "stream",
          "text": [
            "이미지 추출 오류 9 for 난타오천도남점 \n",
            "이미지 추출 오류 10 for 난타오천도남점 \n",
            "난타오천서사로점: searchIframe 로드 및 프레임 전환 완료\n",
            "Error while clicking first search result for 난타오천서사로점: Unable to locate list container.\n"
          ]
        },
        {
          "name": "stderr",
          "output_type": "stream",
          "text": [
            " 64%|██████▍   | 644/999 [3:58:07<2:01:15, 20.50s/it]"
          ]
        },
        {
          "name": "stdout",
          "output_type": "stream",
          "text": [
            "Failed to load iframe after multiple attempts for 난타오천서사로점.\n",
            "crawling fatil : 난타오천서사로점 to fail_to_crawling\n",
            "날로먹고볶음먹고: searchIframe 로드 및 프레임 전환 완료\n",
            "Error while clicking first search result for 날로먹고볶음먹고: Unable to locate list container.\n"
          ]
        },
        {
          "name": "stderr",
          "output_type": "stream",
          "text": [
            " 65%|██████▍   | 645/999 [3:58:27<2:00:16, 20.38s/it]"
          ]
        },
        {
          "name": "stdout",
          "output_type": "stream",
          "text": [
            "Failed to load iframe after multiple attempts for 날로먹고볶음먹고.\n",
            "crawling fatil : 날로먹고볶음먹고 to fail_to_crawling\n",
            "날씬흑돼지: searchIframe 로드 및 프레임 전환 완료\n",
            "날씬흑돼지: entryIframe이 이미 로드됨. 클릭 없이 바로 진행\n",
            "entryIframe 로드.\n",
            "Error while extracting datalab information for 날씬흑돼지:\n",
            "Error while navigating to reviews for 날씬흑돼지:\n"
          ]
        },
        {
          "name": "stderr",
          "output_type": "stream",
          "text": [
            " 65%|██████▍   | 646/999 [3:58:44<1:54:02, 19.38s/it]"
          ]
        },
        {
          "name": "stdout",
          "output_type": "stream",
          "text": [
            "남가네설악추어탕도남점: searchIframe 로드 및 프레임 전환 완료\n",
            "남가네설악추어탕도남점: entryIframe이 이미 로드됨. 클릭 없이 바로 진행\n",
            "entryIframe 로드.\n",
            "Error while extracting menu/features for 남가네설악추어탕도남점, div 1:\n",
            "Error while extracting menu/features for 남가네설악추어탕도남점, div 2:\n"
          ]
        },
        {
          "name": "stderr",
          "output_type": "stream",
          "text": [
            " 65%|██████▍   | 647/999 [3:59:05<1:56:50, 19.91s/it]"
          ]
        },
        {
          "name": "stdout",
          "output_type": "stream",
          "text": [
            "남가네설악추어탕도련점: searchIframe 로드 및 프레임 전환 완료\n",
            "남가네설악추어탕도련점: entryIframe이 이미 로드됨. 클릭 없이 바로 진행\n",
            "entryIframe 로드.\n",
            "Error while extracting menu/features for 남가네설악추어탕도련점, div 1:\n",
            "Error while extracting menu/features for 남가네설악추어탕도련점, div 2:\n"
          ]
        },
        {
          "name": "stderr",
          "output_type": "stream",
          "text": [
            " 65%|██████▍   | 648/999 [3:59:24<1:54:32, 19.58s/it]"
          ]
        },
        {
          "name": "stdout",
          "output_type": "stream",
          "text": [
            "남가네설악추어탕신제주점: searchIframe 로드 및 프레임 전환 완료\n",
            "Error while clicking first search result for 남가네설악추어탕신제주점: Unable to locate list container.\n"
          ]
        },
        {
          "name": "stderr",
          "output_type": "stream",
          "text": [
            " 65%|██████▍   | 649/999 [3:59:45<1:56:51, 20.03s/it]"
          ]
        },
        {
          "name": "stdout",
          "output_type": "stream",
          "text": [
            "Failed to load iframe after multiple attempts for 남가네설악추어탕신제주점.\n",
            "crawling fatil : 남가네설악추어탕신제주점 to fail_to_crawling\n",
            "남가네설악추어탕아라점: searchIframe 로드 및 프레임 전환 완료\n",
            "남가네설악추어탕아라점: entryIframe이 이미 로드됨. 클릭 없이 바로 진행\n",
            "entryIframe 로드.\n",
            "Error while extracting menu/features for 남가네설악추어탕아라점, div 1:\n",
            "Error while extracting menu/features for 남가네설악추어탕아라점, div 2:\n"
          ]
        },
        {
          "name": "stderr",
          "output_type": "stream",
          "text": [
            " 65%|██████▌   | 650/999 [4:00:07<1:59:38, 20.57s/it]"
          ]
        },
        {
          "name": "stdout",
          "output_type": "stream",
          "text": [
            "남경미락: searchIframe 로드 및 프레임 전환 완료\n",
            "남경미락: entryIframe이 이미 로드됨. 클릭 없이 바로 진행\n",
            "entryIframe 로드.\n",
            "Error while extracting menu/features for 남경미락, div 1:\n",
            "Error while extracting menu/features for 남경미락, div 2:\n"
          ]
        },
        {
          "name": "stderr",
          "output_type": "stream",
          "text": [
            " 65%|██████▌   | 651/999 [4:00:28<1:59:59, 20.69s/it]"
          ]
        },
        {
          "name": "stdout",
          "output_type": "stream",
          "text": [
            "iframe을 찾을 수 없음 for 남광로127\n"
          ]
        },
        {
          "name": "stderr",
          "output_type": "stream",
          "text": [
            " 65%|██████▌   | 652/999 [4:00:43<1:51:05, 19.21s/it]"
          ]
        },
        {
          "name": "stdout",
          "output_type": "stream",
          "text": [
            "Failed to load iframe after multiple attempts for 남광로127.\n",
            "crawling fatil : 남광로127 to fail_to_crawling\n",
            "남녕국수: searchIframe 로드 및 프레임 전환 완료\n",
            "남녕국수: entryIframe이 이미 로드됨. 클릭 없이 바로 진행\n",
            "entryIframe 로드.\n",
            "Error while extracting menu/features for 남녕국수, div 1:\n",
            "Error while navigating to reviews for 남녕국수:\n"
          ]
        },
        {
          "name": "stderr",
          "output_type": "stream",
          "text": [
            " 65%|██████▌   | 653/999 [4:01:04<1:53:11, 19.63s/it]"
          ]
        },
        {
          "name": "stdout",
          "output_type": "stream",
          "text": [
            "남다른감자탕: searchIframe 로드 및 프레임 전환 완료\n",
            "남다른감자탕: 링크버튼을 찾을 수 없음. xpath 대신 다른 방법 시도\n"
          ]
        },
        {
          "name": "stderr",
          "output_type": "stream",
          "text": [
            " 65%|██████▌   | 654/999 [4:01:23<1:50:50, 19.28s/it]"
          ]
        },
        {
          "name": "stdout",
          "output_type": "stream",
          "text": [
            "Failed to load iframe after multiple attempts for 남다른감자탕.\n",
            "crawling fatil : 남다른감자탕 to fail_to_crawling\n",
            "남다른대구막창: searchIframe 로드 및 프레임 전환 완료\n",
            "남다른대구막창: 링크버튼을 찾을 수 없음. xpath 대신 다른 방법 시도\n"
          ]
        },
        {
          "name": "stderr",
          "output_type": "stream",
          "text": [
            " 66%|██████▌   | 655/999 [4:01:40<1:48:17, 18.89s/it]"
          ]
        },
        {
          "name": "stdout",
          "output_type": "stream",
          "text": [
            "Failed to load iframe after multiple attempts for 남다른대구막창.\n",
            "crawling fatil : 남다른대구막창 to fail_to_crawling\n",
            "남다른대구막창(신시가지점): searchIframe 로드 및 프레임 전환 완료\n",
            "남다른대구막창(신시가지점): 링크버튼을 찾을 수 없음. xpath 대신 다른 방법 시도\n"
          ]
        },
        {
          "name": "stderr",
          "output_type": "stream",
          "text": [
            " 66%|██████▌   | 656/999 [4:01:58<1:46:11, 18.58s/it]"
          ]
        },
        {
          "name": "stdout",
          "output_type": "stream",
          "text": [
            "Failed to load iframe after multiple attempts for 남다른대구막창(신시가지점).\n",
            "crawling fatil : 남다른대구막창(신시가지점) to fail_to_crawling\n",
            "남다른대구막창연동점: searchIframe 로드 및 프레임 전환 완료\n",
            "남다른대구막창연동점: 링크버튼을 찾을 수 없음. xpath 대신 다른 방법 시도\n"
          ]
        },
        {
          "name": "stderr",
          "output_type": "stream",
          "text": [
            " 66%|██████▌   | 657/999 [4:02:16<1:43:56, 18.23s/it]"
          ]
        },
        {
          "name": "stdout",
          "output_type": "stream",
          "text": [
            "Failed to load iframe after multiple attempts for 남다른대구막창연동점.\n",
            "crawling fatil : 남다른대구막창연동점 to fail_to_crawling\n",
            "남도밥상: searchIframe 로드 및 프레임 전환 완료\n",
            "남도밥상: 첫 번째 가게 클릭 후 전환되지 않음. 다음 가게로 진행\n",
            "entryIframe 로드.\n",
            "Error while extracting menu/features for 남도밥상, div 1:\n",
            "Error while extracting menu/features for 남도밥상, div 2:\n"
          ]
        },
        {
          "name": "stderr",
          "output_type": "stream",
          "text": [
            " 66%|██████▌   | 658/999 [4:02:44<2:00:26, 21.19s/it]"
          ]
        },
        {
          "name": "stdout",
          "output_type": "stream",
          "text": [
            "남또리: searchIframe 로드 및 프레임 전환 완료\n",
            "남또리: 첫 번째 가게 클릭 후 전환되지 않음. 다음 가게로 진행\n",
            "entryIframe 로드.\n",
            "Error while extracting menu/features for 남또리, div 1:\n",
            "Error while extracting menu/features for 남또리, div 2:\n"
          ]
        },
        {
          "name": "stderr",
          "output_type": "stream",
          "text": [
            " 66%|██████▌   | 659/999 [4:03:10<2:07:51, 22.56s/it]"
          ]
        },
        {
          "name": "stdout",
          "output_type": "stream",
          "text": [
            "남매네흑돼지: searchIframe 로드 및 프레임 전환 완료\n",
            "남매네흑돼지: 첫 번째 가게 클릭 후 전환되지 않음. 다음 가게로 진행\n",
            "entryIframe 로드.\n",
            "Error while extracting menu/features for 남매네흑돼지, div 1:\n",
            "Error while extracting menu/features for 남매네흑돼지, div 2:\n"
          ]
        },
        {
          "name": "stderr",
          "output_type": "stream",
          "text": [
            " 66%|██████▌   | 660/999 [4:03:31<2:05:45, 22.26s/it]"
          ]
        },
        {
          "name": "stdout",
          "output_type": "stream",
          "text": [
            " 사진 버튼 없음 : 남매네흑돼지.\n",
            "남매네흑돼지 신서귀포점: searchIframe 로드 및 프레임 전환 완료\n",
            "남매네흑돼지 신서귀포점: entryIframe이 이미 로드됨. 클릭 없이 바로 진행\n",
            "entryIframe 로드.\n",
            "Error while extracting menu/features for 남매네흑돼지 신서귀포점, div 1:\n"
          ]
        },
        {
          "name": "stderr",
          "output_type": "stream",
          "text": [
            " 66%|██████▌   | 661/999 [4:03:50<2:00:04, 21.32s/it]"
          ]
        },
        {
          "name": "stdout",
          "output_type": "stream",
          "text": [
            "Error while extracting menu/features for 남매네흑돼지 신서귀포점, div 2:\n",
            " 사진 버튼 없음 : 남매네흑돼지 신서귀포점.\n",
            "남문숯불바베큐 성산점: searchIframe 로드 및 프레임 전환 완료\n",
            "남문숯불바베큐 성산점: entryIframe이 이미 로드됨. 클릭 없이 바로 진행\n",
            "entryIframe 로드.\n",
            "Error while extracting menu/features for 남문숯불바베큐 성산점, div 1:\n",
            "Error while extracting menu/features for 남문숯불바베큐 성산점, div 2:\n"
          ]
        },
        {
          "name": "stderr",
          "output_type": "stream",
          "text": [
            " 66%|██████▋   | 662/999 [4:04:09<1:55:39, 20.59s/it]"
          ]
        },
        {
          "name": "stdout",
          "output_type": "stream",
          "text": [
            "남문숯불바베큐도두점: searchIframe 로드 및 프레임 전환 완료\n",
            "남문숯불바베큐도두점: entryIframe이 이미 로드됨. 클릭 없이 바로 진행\n",
            "entryIframe 로드.\n",
            "Error while extracting menu/features for 남문숯불바베큐도두점, div 1:\n",
            "Error while extracting menu/features for 남문숯불바베큐도두점, div 2:\n"
          ]
        },
        {
          "name": "stderr",
          "output_type": "stream",
          "text": [
            " 66%|██████▋   | 663/999 [4:04:28<1:52:44, 20.13s/it]"
          ]
        },
        {
          "name": "stdout",
          "output_type": "stream",
          "text": [
            "남문숯불바베큐앤치킨노형점: searchIframe 로드 및 프레임 전환 완료\n",
            "남문숯불바베큐앤치킨노형점: entryIframe이 이미 로드됨. 클릭 없이 바로 진행\n",
            "entryIframe 로드.\n",
            "Error while extracting menu/features for 남문숯불바베큐앤치킨노형점, div 1:\n",
            "Error while extracting menu/features for 남문숯불바베큐앤치킨노형점, div 2:\n"
          ]
        },
        {
          "name": "stderr",
          "output_type": "stream",
          "text": [
            " 66%|██████▋   | 664/999 [4:04:49<1:53:47, 20.38s/it]"
          ]
        },
        {
          "name": "stdout",
          "output_type": "stream",
          "text": [
            "남문숯불바베큐앤치킨본점: searchIframe 로드 및 프레임 전환 완료\n",
            "남문숯불바베큐앤치킨본점: entryIframe이 이미 로드됨. 클릭 없이 바로 진행\n",
            "entryIframe 로드.\n",
            "Error while extracting menu/features for 남문숯불바베큐앤치킨본점, div 1:\n",
            "Error while extracting menu/features for 남문숯불바베큐앤치킨본점, div 2:\n"
          ]
        },
        {
          "name": "stderr",
          "output_type": "stream",
          "text": [
            " 67%|██████▋   | 665/999 [4:05:13<1:58:39, 21.32s/it]"
          ]
        },
        {
          "name": "stdout",
          "output_type": "stream",
          "text": [
            "남문숯불바베큐앤치킨서귀포점: searchIframe 로드 및 프레임 전환 완료\n",
            "남문숯불바베큐앤치킨서귀포점: entryIframe이 이미 로드됨. 클릭 없이 바로 진행\n",
            "entryIframe 로드.\n",
            "Error while extracting datalab information for 남문숯불바베큐앤치킨서귀포점:\n",
            "Error while navigating to reviews for 남문숯불바베큐앤치킨서귀포점:\n"
          ]
        },
        {
          "name": "stderr",
          "output_type": "stream",
          "text": [
            " 67%|██████▋   | 666/999 [4:05:27<1:46:31, 19.19s/it]"
          ]
        },
        {
          "name": "stdout",
          "output_type": "stream",
          "text": [
            "이미지 추출 오류 1 for 남문숯불바베큐앤치킨서귀포점 \n",
            "이미지 추출 오류 2 for 남문숯불바베큐앤치킨서귀포점 \n",
            "이미지 추출 오류 3 for 남문숯불바베큐앤치킨서귀포점 \n",
            "이미지 추출 오류 4 for 남문숯불바베큐앤치킨서귀포점 \n",
            "이미지 추출 오류 5 for 남문숯불바베큐앤치킨서귀포점 \n",
            "이미지 추출 오류 6 for 남문숯불바베큐앤치킨서귀포점 \n",
            "이미지 추출 오류 7 for 남문숯불바베큐앤치킨서귀포점 \n",
            "이미지 추출 오류 8 for 남문숯불바베큐앤치킨서귀포점 \n",
            "이미지 추출 오류 9 for 남문숯불바베큐앤치킨서귀포점 \n",
            "이미지 추출 오류 10 for 남문숯불바베큐앤치킨서귀포점 \n",
            "남문숯불바베큐앤치킨신서귀포점: searchIframe 로드 및 프레임 전환 완료\n",
            "Error while clicking first search result for 남문숯불바베큐앤치킨신서귀포점: Unable to locate list container.\n"
          ]
        },
        {
          "name": "stderr",
          "output_type": "stream",
          "text": [
            " 67%|██████▋   | 667/999 [4:05:47<1:47:52, 19.50s/it]"
          ]
        },
        {
          "name": "stdout",
          "output_type": "stream",
          "text": [
            "Failed to load iframe after multiple attempts for 남문숯불바베큐앤치킨신서귀포점.\n",
            "crawling fatil : 남문숯불바베큐앤치킨신서귀포점 to fail_to_crawling\n",
            "남문숯불바베큐앤치킨신제주점: searchIframe 로드 및 프레임 전환 완료\n",
            "남문숯불바베큐앤치킨신제주점: entryIframe이 이미 로드됨. 클릭 없이 바로 진행\n",
            "entryIframe 로드.\n",
            "Error while extracting menu/features for 남문숯불바베큐앤치킨신제주점, div 1:\n",
            "Error while extracting menu/features for 남문숯불바베큐앤치킨신제주점, div 2:\n"
          ]
        },
        {
          "name": "stderr",
          "output_type": "stream",
          "text": [
            " 67%|██████▋   | 668/999 [4:06:08<1:50:11, 19.97s/it]"
          ]
        },
        {
          "name": "stdout",
          "output_type": "stream",
          "text": [
            "남문숯불바베큐앤치킨신촌점: searchIframe 로드 및 프레임 전환 완료\n",
            "남문숯불바베큐앤치킨신촌점: entryIframe이 이미 로드됨. 클릭 없이 바로 진행\n",
            "entryIframe 로드.\n",
            "Error while extracting menu/features for 남문숯불바베큐앤치킨신촌점, div 1:\n",
            "Error while extracting menu/features for 남문숯불바베큐앤치킨신촌점, div 2:\n"
          ]
        },
        {
          "name": "stderr",
          "output_type": "stream",
          "text": [
            " 67%|██████▋   | 669/999 [4:06:27<1:48:11, 19.67s/it]"
          ]
        },
        {
          "name": "stdout",
          "output_type": "stream",
          "text": [
            "남문숯불바베큐앤치킨외도점: searchIframe 로드 및 프레임 전환 완료\n",
            "남문숯불바베큐앤치킨외도점: entryIframe이 이미 로드됨. 클릭 없이 바로 진행\n",
            "entryIframe 로드.\n",
            "Error while extracting menu/features for 남문숯불바베큐앤치킨외도점, div 1:\n",
            "Error while extracting menu/features for 남문숯불바베큐앤치킨외도점, div 2:\n"
          ]
        },
        {
          "name": "stderr",
          "output_type": "stream",
          "text": [
            " 67%|██████▋   | 670/999 [4:06:48<1:50:13, 20.10s/it]"
          ]
        },
        {
          "name": "stdout",
          "output_type": "stream",
          "text": [
            "남문숯불바베큐앤치킨월랑점: searchIframe 로드 및 프레임 전환 완료\n",
            "남문숯불바베큐앤치킨월랑점: entryIframe이 이미 로드됨. 클릭 없이 바로 진행\n",
            "entryIframe 로드.\n",
            "Error while extracting menu/features for 남문숯불바베큐앤치킨월랑점, div 1:\n",
            "Error while extracting menu/features for 남문숯불바베큐앤치킨월랑점, div 2:\n"
          ]
        },
        {
          "name": "stderr",
          "output_type": "stream",
          "text": [
            " 67%|██████▋   | 671/999 [4:07:07<1:48:06, 19.78s/it]"
          ]
        },
        {
          "name": "stdout",
          "output_type": "stream",
          "text": [
            "남문숯불바베큐앤치킨정실점: searchIframe 로드 및 프레임 전환 완료\n",
            "남문숯불바베큐앤치킨정실점: entryIframe이 이미 로드됨. 클릭 없이 바로 진행\n",
            "entryIframe 로드.\n",
            "Error while extracting menu/features for 남문숯불바베큐앤치킨정실점, div 1:\n",
            "Error while extracting menu/features for 남문숯불바베큐앤치킨정실점, div 2:\n"
          ]
        },
        {
          "name": "stderr",
          "output_type": "stream",
          "text": [
            " 67%|██████▋   | 672/999 [4:07:28<1:49:18, 20.06s/it]"
          ]
        },
        {
          "name": "stdout",
          "output_type": "stream",
          "text": [
            "남문숯불바베큐앤치킨한림점: searchIframe 로드 및 프레임 전환 완료\n",
            "남문숯불바베큐앤치킨한림점: entryIframe이 이미 로드됨. 클릭 없이 바로 진행\n",
            "entryIframe 로드.\n",
            "Error while extracting menu/features for 남문숯불바베큐앤치킨한림점, div 1:\n",
            "Error while extracting menu/features for 남문숯불바베큐앤치킨한림점, div 2:\n"
          ]
        },
        {
          "name": "stderr",
          "output_type": "stream",
          "text": [
            " 67%|██████▋   | 673/999 [4:07:47<1:46:57, 19.68s/it]"
          ]
        },
        {
          "name": "stdout",
          "output_type": "stream",
          "text": [
            "남문숯불바베큐엔치킨도남점: searchIframe 로드 및 프레임 전환 완료\n",
            "남문숯불바베큐엔치킨도남점: entryIframe이 이미 로드됨. 클릭 없이 바로 진행\n",
            "entryIframe 로드.\n",
            "Error while extracting menu/features for 남문숯불바베큐엔치킨도남점, div 1:\n",
            "Error while extracting menu/features for 남문숯불바베큐엔치킨도남점, div 2:\n"
          ]
        },
        {
          "name": "stderr",
          "output_type": "stream",
          "text": [
            " 67%|██████▋   | 674/999 [4:08:08<1:48:16, 19.99s/it]"
          ]
        },
        {
          "name": "stdout",
          "output_type": "stream",
          "text": [
            "남문숯불바베큐엔치킨일도직영점: searchIframe 로드 및 프레임 전환 완료\n",
            "Error while clicking first search result for 남문숯불바베큐엔치킨일도직영점: Unable to locate list container.\n"
          ]
        },
        {
          "name": "stderr",
          "output_type": "stream",
          "text": [
            " 68%|██████▊   | 675/999 [4:08:28<1:49:02, 20.19s/it]"
          ]
        },
        {
          "name": "stdout",
          "output_type": "stream",
          "text": [
            "Failed to load iframe after multiple attempts for 남문숯불바베큐엔치킨일도직영점.\n",
            "crawling fatil : 남문숯불바베큐엔치킨일도직영점 to fail_to_crawling\n",
            "남문숯불바베큐중문점: searchIframe 로드 및 프레임 전환 완료\n",
            "남문숯불바베큐중문점: entryIframe이 이미 로드됨. 클릭 없이 바로 진행\n",
            "entryIframe 로드.\n",
            "Error while extracting menu/features for 남문숯불바베큐중문점, div 1:\n",
            "Error while extracting menu/features for 남문숯불바베큐중문점, div 2:\n"
          ]
        },
        {
          "name": "stderr",
          "output_type": "stream",
          "text": [
            " 68%|██████▊   | 676/999 [4:08:47<1:46:36, 19.80s/it]"
          ]
        },
        {
          "name": "stdout",
          "output_type": "stream",
          "text": [
            "남문숯불바베큐치킨: searchIframe 로드 및 프레임 전환 완료\n",
            "남문숯불바베큐치킨: 첫 번째 가게 클릭 후 전환되지 않음. 다음 가게로 진행\n",
            "entryIframe 로드.\n",
            "Error while extracting menu/features for 남문숯불바베큐치킨, div 1:\n",
            "Error while extracting menu/features for 남문숯불바베큐치킨, div 2:\n"
          ]
        },
        {
          "name": "stderr",
          "output_type": "stream",
          "text": [
            " 68%|██████▊   | 677/999 [4:09:13<1:55:59, 21.61s/it]"
          ]
        },
        {
          "name": "stdout",
          "output_type": "stream",
          "text": [
            "남문숯불바베큐치킨 삼화점: searchIframe 로드 및 프레임 전환 완료\n",
            "Error while clicking first search result for 남문숯불바베큐치킨 삼화점: Unable to locate list container.\n"
          ]
        },
        {
          "name": "stderr",
          "output_type": "stream",
          "text": [
            " 68%|██████▊   | 678/999 [4:09:34<1:54:17, 21.36s/it]"
          ]
        },
        {
          "name": "stdout",
          "output_type": "stream",
          "text": [
            "Failed to load iframe after multiple attempts for 남문숯불바베큐치킨 삼화점.\n",
            "crawling fatil : 남문숯불바베큐치킨 삼화점 to fail_to_crawling\n",
            "남문숯불바베큐치킨조수점: searchIframe 로드 및 프레임 전환 완료\n",
            "Error while clicking first search result for 남문숯불바베큐치킨조수점: Unable to locate list container.\n"
          ]
        },
        {
          "name": "stderr",
          "output_type": "stream",
          "text": [
            " 68%|██████▊   | 679/999 [4:09:54<1:51:52, 20.98s/it]"
          ]
        },
        {
          "name": "stdout",
          "output_type": "stream",
          "text": [
            "Failed to load iframe after multiple attempts for 남문숯불바베큐치킨조수점.\n",
            "crawling fatil : 남문숯불바베큐치킨조수점 to fail_to_crawling\n",
            "남북통일: searchIframe 로드 및 프레임 전환 완료\n",
            "남북통일: 첫 번째 가게 클릭 후 전환되지 않음. 다음 가게로 진행\n",
            "entryIframe 로드.\n",
            "Error while extracting menu/features for 남북통일, div 1:\n",
            "Error while extracting menu/features for 남북통일, div 2:\n"
          ]
        },
        {
          "name": "stderr",
          "output_type": "stream",
          "text": [
            " 68%|██████▊   | 680/999 [4:10:22<2:02:40, 23.08s/it]"
          ]
        },
        {
          "name": "stdout",
          "output_type": "stream",
          "text": [
            "남성로치킨하우스: searchIframe 로드 및 프레임 전환 완료\n",
            "남성로치킨하우스: entryIframe이 이미 로드됨. 클릭 없이 바로 진행\n",
            "entryIframe 로드.\n",
            "Error while extracting menu/features for 남성로치킨하우스, div 1:\n",
            "Error while extracting menu/features for 남성로치킨하우스, div 2:\n"
          ]
        },
        {
          "name": "stderr",
          "output_type": "stream",
          "text": [
            " 68%|██████▊   | 681/999 [4:10:43<1:59:09, 22.48s/it]"
          ]
        },
        {
          "name": "stdout",
          "output_type": "stream",
          "text": [
            "남성해장국: searchIframe 로드 및 프레임 전환 완료\n",
            "남성해장국: 첫 번째 가게 클릭 후 전환되지 않음. 다음 가게로 진행\n",
            "entryIframe 로드.\n",
            "Error while extracting menu/features for 남성해장국, div 1:\n",
            "Error while extracting menu/features for 남성해장국, div 2:\n"
          ]
        },
        {
          "name": "stderr",
          "output_type": "stream",
          "text": [
            " 68%|██████▊   | 682/999 [4:11:11<2:07:47, 24.19s/it]"
          ]
        },
        {
          "name": "stdout",
          "output_type": "stream",
          "text": [
            "남순이네국수: searchIframe 로드 및 프레임 전환 완료\n",
            "남순이네국수: entryIframe이 이미 로드됨. 클릭 없이 바로 진행\n",
            "entryIframe 로드.\n",
            "Error while extracting menu/features for 남순이네국수, div 1:\n",
            "Error while extracting menu/features for 남순이네국수, div 2:\n"
          ]
        },
        {
          "name": "stderr",
          "output_type": "stream",
          "text": [
            " 68%|██████▊   | 683/999 [4:11:33<2:03:09, 23.38s/it]"
          ]
        },
        {
          "name": "stdout",
          "output_type": "stream",
          "text": [
            "남양수산: searchIframe 로드 및 프레임 전환 완료\n",
            "남양수산: 첫 번째 가게 클릭 후 전환되지 않음. 다음 가게로 진행\n",
            "entryIframe 로드.\n",
            "Error while extracting datalab information for 남양수산:\n",
            "Error while navigating to reviews for 남양수산:\n"
          ]
        },
        {
          "name": "stderr",
          "output_type": "stream",
          "text": [
            " 68%|██████▊   | 684/999 [4:11:58<2:06:11, 24.04s/it]"
          ]
        },
        {
          "name": "stdout",
          "output_type": "stream",
          "text": [
            "이미지 추출 오류 2 for 남양수산 \n",
            "이미지 추출 오류 3 for 남양수산 \n",
            "이미지 추출 오류 4 for 남양수산 \n",
            "이미지 추출 오류 5 for 남양수산 \n",
            "이미지 추출 오류 6 for 남양수산 \n",
            "이미지 추출 오류 7 for 남양수산 \n",
            "이미지 추출 오류 8 for 남양수산 \n",
            "이미지 추출 오류 9 for 남양수산 \n",
            "이미지 추출 오류 10 for 남양수산 \n",
            "남양통: searchIframe 로드 및 프레임 전환 완료\n",
            "남양통: 링크버튼을 찾을 수 없음. xpath 대신 다른 방법 시도\n"
          ]
        },
        {
          "name": "stderr",
          "output_type": "stream",
          "text": [
            " 69%|██████▊   | 685/999 [4:12:16<1:55:40, 22.10s/it]"
          ]
        },
        {
          "name": "stdout",
          "output_type": "stream",
          "text": [
            "Failed to load iframe after multiple attempts for 남양통.\n",
            "crawling fatil : 남양통 to fail_to_crawling\n",
            "남양통닭 인화점: searchIframe 로드 및 프레임 전환 완료\n",
            "남양통닭 인화점: entryIframe이 이미 로드됨. 클릭 없이 바로 진행\n",
            "entryIframe 로드.\n",
            "Error while extracting menu/features for 남양통닭 인화점, div 1:\n",
            "Error while extracting menu/features for 남양통닭 인화점, div 2:\n"
          ]
        },
        {
          "name": "stderr",
          "output_type": "stream",
          "text": [
            " 69%|██████▊   | 686/999 [4:12:37<1:53:47, 21.81s/it]"
          ]
        },
        {
          "name": "stdout",
          "output_type": "stream",
          "text": [
            "남원가: searchIframe 로드 및 프레임 전환 완료\n",
            "남원가: entryIframe이 이미 로드됨. 클릭 없이 바로 진행\n",
            "entryIframe 로드.\n",
            "Error while extracting menu/features for 남원가, div 1:\n",
            "Error while extracting menu/features for 남원가, div 2:\n"
          ]
        },
        {
          "name": "stderr",
          "output_type": "stream",
          "text": [
            " 69%|██████▉   | 687/999 [4:12:58<1:52:22, 21.61s/it]"
          ]
        },
        {
          "name": "stdout",
          "output_type": "stream",
          "text": [
            "남원골감나무집: searchIframe 로드 및 프레임 전환 완료\n",
            "남원골감나무집: entryIframe이 이미 로드됨. 클릭 없이 바로 진행\n",
            "entryIframe 로드.\n",
            "Error while extracting menu/features for 남원골감나무집, div 1:\n",
            "Error while extracting menu/features for 남원골감나무집, div 2:\n"
          ]
        },
        {
          "name": "stderr",
          "output_type": "stream",
          "text": [
            " 69%|██████▉   | 688/999 [4:13:19<1:51:05, 21.43s/it]"
          ]
        },
        {
          "name": "stdout",
          "output_type": "stream",
          "text": [
            "남원바당: searchIframe 로드 및 프레임 전환 완료\n",
            "남원바당: 첫 번째 가게 클릭 후 전환되지 않음. 다음 가게로 진행\n",
            "entryIframe 로드.\n",
            "Error while extracting menu/features for 남원바당, div 1:\n",
            "Error while extracting menu/features for 남원바당, div 2:\n"
          ]
        },
        {
          "name": "stderr",
          "output_type": "stream",
          "text": [
            " 69%|██████▉   | 689/999 [4:13:45<1:57:26, 22.73s/it]"
          ]
        },
        {
          "name": "stdout",
          "output_type": "stream",
          "text": [
            "남원생오리: searchIframe 로드 및 프레임 전환 완료\n",
            "남원생오리: 링크버튼을 찾을 수 없음. xpath 대신 다른 방법 시도\n"
          ]
        },
        {
          "name": "stderr",
          "output_type": "stream",
          "text": [
            " 69%|██████▉   | 690/999 [4:14:03<1:49:49, 21.33s/it]"
          ]
        },
        {
          "name": "stdout",
          "output_type": "stream",
          "text": [
            "Failed to load iframe after multiple attempts for 남원생오리.\n",
            "crawling fatil : 남원생오리 to fail_to_crawling\n",
            "남원수제돈까스: searchIframe 로드 및 프레임 전환 완료\n",
            "남원수제돈까스: 링크버튼을 찾을 수 없음. xpath 대신 다른 방법 시도\n"
          ]
        },
        {
          "name": "stderr",
          "output_type": "stream",
          "text": [
            " 69%|██████▉   | 691/999 [4:14:22<1:45:45, 20.60s/it]"
          ]
        },
        {
          "name": "stdout",
          "output_type": "stream",
          "text": [
            "Failed to load iframe after multiple attempts for 남원수제돈까스.\n",
            "crawling fatil : 남원수제돈까스 to fail_to_crawling\n",
            "남원양꼬치: searchIframe 로드 및 프레임 전환 완료\n",
            "남원양꼬치: 링크버튼을 찾을 수 없음. xpath 대신 다른 방법 시도\n"
          ]
        },
        {
          "name": "stderr",
          "output_type": "stream",
          "text": [
            " 69%|██████▉   | 692/999 [4:14:41<1:42:37, 20.06s/it]"
          ]
        },
        {
          "name": "stdout",
          "output_type": "stream",
          "text": [
            "Failed to load iframe after multiple attempts for 남원양꼬치.\n",
            "crawling fatil : 남원양꼬치 to fail_to_crawling\n",
            "남원콩나물국밥: searchIframe 로드 및 프레임 전환 완료\n",
            "남원콩나물국밥: 링크버튼을 찾을 수 없음. xpath 대신 다른 방법 시도\n"
          ]
        },
        {
          "name": "stderr",
          "output_type": "stream",
          "text": [
            " 69%|██████▉   | 693/999 [4:14:59<1:39:49, 19.57s/it]"
          ]
        },
        {
          "name": "stdout",
          "output_type": "stream",
          "text": [
            "Failed to load iframe after multiple attempts for 남원콩나물국밥.\n",
            "crawling fatil : 남원콩나물국밥 to fail_to_crawling\n",
            "남원흑돼지연탄골목: searchIframe 로드 및 프레임 전환 완료\n",
            "남원흑돼지연탄골목: entryIframe이 이미 로드됨. 클릭 없이 바로 진행\n",
            "entryIframe 로드.\n",
            "Error while extracting menu/features for 남원흑돼지연탄골목, div 1:\n",
            "Error while extracting menu/features for 남원흑돼지연탄골목, div 2:\n"
          ]
        },
        {
          "name": "stderr",
          "output_type": "stream",
          "text": [
            " 69%|██████▉   | 694/999 [4:15:20<1:41:55, 20.05s/it]"
          ]
        },
        {
          "name": "stdout",
          "output_type": "stream",
          "text": [
            "남정네들포장마차: searchIframe 로드 및 프레임 전환 완료\n",
            "남정네들포장마차: entryIframe이 이미 로드됨. 클릭 없이 바로 진행\n",
            "entryIframe 로드.\n",
            "Error while extracting menu/features for 남정네들포장마차, div 1:\n",
            "Error while extracting menu/features for 남정네들포장마차, div 2:\n"
          ]
        },
        {
          "name": "stderr",
          "output_type": "stream",
          "text": [
            " 70%|██████▉   | 695/999 [4:15:39<1:39:52, 19.71s/it]"
          ]
        },
        {
          "name": "stdout",
          "output_type": "stream",
          "text": [
            "남쪽: searchIframe 로드 및 프레임 전환 완료\n",
            "남쪽: 링크버튼을 찾을 수 없음. xpath 대신 다른 방법 시도\n"
          ]
        },
        {
          "name": "stderr",
          "output_type": "stream",
          "text": [
            " 70%|██████▉   | 696/999 [4:15:57<1:36:53, 19.19s/it]"
          ]
        },
        {
          "name": "stdout",
          "output_type": "stream",
          "text": [
            "Failed to load iframe after multiple attempts for 남쪽.\n",
            "crawling fatil : 남쪽 to fail_to_crawling\n",
            "남쪽으로튀어브로잉컴퍼니: searchIframe 로드 및 프레임 전환 완료\n",
            "Error while clicking first search result for 남쪽으로튀어브로잉컴퍼니: Unable to locate list container.\n"
          ]
        },
        {
          "name": "stderr",
          "output_type": "stream",
          "text": [
            " 70%|██████▉   | 697/999 [4:16:17<1:38:06, 19.49s/it]"
          ]
        },
        {
          "name": "stdout",
          "output_type": "stream",
          "text": [
            "Failed to load iframe after multiple attempts for 남쪽으로튀어브로잉컴퍼니.\n",
            "crawling fatil : 남쪽으로튀어브로잉컴퍼니 to fail_to_crawling\n",
            "남춘: searchIframe 로드 및 프레임 전환 완료\n",
            "남춘: 첫 번째 가게 클릭 후 전환되지 않음. 다음 가게로 진행\n",
            "entryIframe 로드.\n",
            "Error while extracting menu/features for 남춘, div 1:\n",
            "Error while extracting menu/features for 남춘, div 2:\n"
          ]
        },
        {
          "name": "stderr",
          "output_type": "stream",
          "text": [
            " 70%|██████▉   | 698/999 [4:16:43<1:47:59, 21.52s/it]"
          ]
        },
        {
          "name": "stdout",
          "output_type": "stream",
          "text": [
            "남춘식당: searchIframe 로드 및 프레임 전환 완료\n",
            "남춘식당: 첫 번째 가게 클릭 후 전환되지 않음. 다음 가게로 진행\n",
            "entryIframe 로드.\n",
            "Error while extracting menu/features for 남춘식당, div 1:\n",
            "Error while extracting menu/features for 남춘식당, div 2:\n"
          ]
        },
        {
          "name": "stderr",
          "output_type": "stream",
          "text": [
            " 70%|██████▉   | 699/999 [4:17:10<1:54:37, 22.93s/it]"
          ]
        },
        {
          "name": "stdout",
          "output_type": "stream",
          "text": [
            "남해횟집: searchIframe 로드 및 프레임 전환 완료\n",
            "남해횟집: 링크버튼을 찾을 수 없음. xpath 대신 다른 방법 시도\n"
          ]
        },
        {
          "name": "stderr",
          "output_type": "stream",
          "text": [
            " 70%|███████   | 700/999 [4:17:29<1:49:06, 21.90s/it]"
          ]
        },
        {
          "name": "stdout",
          "output_type": "stream",
          "text": [
            "Failed to load iframe after multiple attempts for 남해횟집.\n",
            "crawling fatil : 남해횟집 to fail_to_crawling\n",
            "남호식당: searchIframe 로드 및 프레임 전환 완료\n",
            "남호식당: 첫 번째 가게 클릭 후 전환되지 않음. 다음 가게로 진행\n",
            "entryIframe 로드.\n",
            "Error while extracting menu/features for 남호식당, div 1:\n",
            "Error while extracting menu/features for 남호식당, div 2:\n"
          ]
        },
        {
          "name": "stderr",
          "output_type": "stream",
          "text": [
            " 70%|███████   | 701/999 [4:17:57<1:57:13, 23.60s/it]"
          ]
        },
        {
          "name": "stdout",
          "output_type": "stream",
          "text": [
            "납읍반점: searchIframe 로드 및 프레임 전환 완료\n",
            "납읍반점: entryIframe이 이미 로드됨. 클릭 없이 바로 진행\n",
            "entryIframe 로드.\n",
            "Error while extracting menu/features for 납읍반점, div 1:\n",
            "Error while extracting menu/features for 납읍반점, div 2:\n"
          ]
        },
        {
          "name": "stderr",
          "output_type": "stream",
          "text": [
            " 70%|███████   | 702/999 [4:18:18<1:52:49, 22.79s/it]"
          ]
        },
        {
          "name": "stdout",
          "output_type": "stream",
          "text": [
            "낭 커피: searchIframe 로드 및 프레임 전환 완료\n",
            "낭 커피: entryIframe이 이미 로드됨. 클릭 없이 바로 진행\n",
            "entryIframe 로드.\n",
            "Error while extracting menu/features for 낭 커피, div 1:\n",
            "Error while extracting menu/features for 낭 커피, div 2:\n"
          ]
        },
        {
          "name": "stderr",
          "output_type": "stream",
          "text": [
            " 70%|███████   | 703/999 [4:18:37<1:47:07, 21.72s/it]"
          ]
        },
        {
          "name": "stdout",
          "output_type": "stream",
          "text": [
            "낭구지횟집: searchIframe 로드 및 프레임 전환 완료\n",
            "낭구지횟집: entryIframe이 이미 로드됨. 클릭 없이 바로 진행\n",
            "entryIframe 로드.\n",
            "Error while extracting menu/features for 낭구지횟집, div 1:\n",
            "Error while extracting menu/features for 낭구지횟집, div 2:\n"
          ]
        },
        {
          "name": "stderr",
          "output_type": "stream",
          "text": [
            " 70%|███████   | 704/999 [4:18:56<1:43:08, 20.98s/it]"
          ]
        },
        {
          "name": "stdout",
          "output_type": "stream",
          "text": [
            "낭뜰에쉼팡: searchIframe 로드 및 프레임 전환 완료\n",
            "낭뜰에쉼팡: entryIframe이 이미 로드됨. 클릭 없이 바로 진행\n",
            "entryIframe 로드.\n",
            "Error while extracting menu/features for 낭뜰에쉼팡, div 1:\n",
            "Error while extracting menu/features for 낭뜰에쉼팡, div 2:\n"
          ]
        },
        {
          "name": "stderr",
          "output_type": "stream",
          "text": [
            " 71%|███████   | 705/999 [4:19:15<1:39:58, 20.40s/it]"
          ]
        },
        {
          "name": "stdout",
          "output_type": "stream",
          "text": [
            "낭만시대: searchIframe 로드 및 프레임 전환 완료\n",
            "낭만시대: 링크버튼을 찾을 수 없음. xpath 대신 다른 방법 시도\n"
          ]
        },
        {
          "name": "stderr",
          "output_type": "stream",
          "text": [
            " 71%|███████   | 706/999 [4:19:33<1:35:48, 19.62s/it]"
          ]
        },
        {
          "name": "stdout",
          "output_type": "stream",
          "text": [
            "Failed to load iframe after multiple attempts for 낭만시대.\n",
            "crawling fatil : 낭만시대 to fail_to_crawling\n",
            "낭만오름: searchIframe 로드 및 프레임 전환 완료\n",
            "낭만오름: entryIframe이 이미 로드됨. 클릭 없이 바로 진행\n",
            "entryIframe 로드.\n",
            "Error while extracting menu/features for 낭만오름, div 1:\n",
            "Error while extracting menu/features for 낭만오름, div 2:\n"
          ]
        },
        {
          "name": "stderr",
          "output_type": "stream",
          "text": [
            " 71%|███████   | 707/999 [4:19:54<1:37:21, 20.00s/it]"
          ]
        },
        {
          "name": "stdout",
          "output_type": "stream",
          "text": [
            "낭만주의: searchIframe 로드 및 프레임 전환 완료\n",
            "낭만주의: 첫 번째 가게 클릭 후 전환되지 않음. 다음 가게로 진행\n",
            "entryIframe 로드.\n"
          ]
        },
        {
          "name": "stderr",
          "output_type": "stream",
          "text": [
            " 71%|███████   | 708/999 [4:20:22<1:48:19, 22.34s/it]"
          ]
        },
        {
          "name": "stdout",
          "output_type": "stream",
          "text": [
            "낭만화로구이: searchIframe 로드 및 프레임 전환 완료\n",
            "낭만화로구이: 첫 번째 가게 클릭 후 전환되지 않음. 다음 가게로 진행\n",
            "entryIframe 로드.\n",
            "Error while extracting menu/features for 낭만화로구이, div 1:\n",
            "Error while extracting menu/features for 낭만화로구이, div 2:\n"
          ]
        },
        {
          "name": "stderr",
          "output_type": "stream",
          "text": [
            " 71%|███████   | 709/999 [4:20:49<1:55:36, 23.92s/it]"
          ]
        },
        {
          "name": "stdout",
          "output_type": "stream",
          "text": [
            "낭불화로구이 제주신화월드점: searchIframe 로드 및 프레임 전환 완료\n",
            "낭불화로구이 제주신화월드점: entryIframe이 이미 로드됨. 클릭 없이 바로 진행\n",
            "entryIframe 로드.\n",
            "Error while extracting menu/features for 낭불화로구이 제주신화월드점, div 1:\n"
          ]
        },
        {
          "name": "stderr",
          "output_type": "stream",
          "text": [
            " 71%|███████   | 710/999 [4:21:08<1:48:01, 22.43s/it]"
          ]
        },
        {
          "name": "stdout",
          "output_type": "stream",
          "text": [
            "Error while extracting menu/features for 낭불화로구이 제주신화월드점, div 2:\n",
            " 사진 버튼 없음 : 낭불화로구이 제주신화월드점.\n",
            "낭뿌리식당: searchIframe 로드 및 프레임 전환 완료\n",
            "낭뿌리식당: entryIframe이 이미 로드됨. 클릭 없이 바로 진행\n",
            "entryIframe 로드.\n",
            "Error while extracting menu/features for 낭뿌리식당, div 1:\n",
            "Error while extracting menu/features for 낭뿌리식당, div 2:\n"
          ]
        },
        {
          "name": "stderr",
          "output_type": "stream",
          "text": [
            " 71%|███████   | 711/999 [4:21:29<1:45:22, 21.95s/it]"
          ]
        },
        {
          "name": "stdout",
          "output_type": "stream",
          "text": [
            "낭쿰낭쿰: searchIframe 로드 및 프레임 전환 완료\n",
            "낭쿰낭쿰: 첫 번째 가게 클릭 후 전환되지 않음. 다음 가게로 진행\n",
            "entryIframe 로드.\n",
            "Error while extracting menu/features for 낭쿰낭쿰, div 1:\n"
          ]
        },
        {
          "name": "stderr",
          "output_type": "stream",
          "text": [
            " 71%|███████▏  | 712/999 [4:21:51<1:44:46, 21.90s/it]"
          ]
        },
        {
          "name": "stdout",
          "output_type": "stream",
          "text": [
            "Error while extracting menu/features for 낭쿰낭쿰, div 2:\n",
            " 사진 버튼 없음 : 낭쿰낭쿰.\n",
            "낭쿰낭쿰 올레시장본점: searchIframe 로드 및 프레임 전환 완료\n",
            "낭쿰낭쿰 올레시장본점: entryIframe이 이미 로드됨. 클릭 없이 바로 진행\n",
            "entryIframe 로드.\n",
            "Error while extracting menu/features for 낭쿰낭쿰 올레시장본점, div 1:\n"
          ]
        },
        {
          "name": "stderr",
          "output_type": "stream",
          "text": [
            " 71%|███████▏  | 713/999 [4:22:06<1:34:34, 19.84s/it]"
          ]
        },
        {
          "name": "stdout",
          "output_type": "stream",
          "text": [
            "Error while extracting menu/features for 낭쿰낭쿰 올레시장본점, div 2:\n",
            " 사진 버튼 없음 : 낭쿰낭쿰 올레시장본점.\n",
            "낭쿰낭쿰흑돼지해물갈비전골산방산점: searchIframe 로드 및 프레임 전환 완료\n",
            "Error while clicking first search result for 낭쿰낭쿰흑돼지해물갈비전골산방산점: Unable to locate list container.\n"
          ]
        },
        {
          "name": "stderr",
          "output_type": "stream",
          "text": [
            " 71%|███████▏  | 714/999 [4:22:27<1:35:25, 20.09s/it]"
          ]
        },
        {
          "name": "stdout",
          "output_type": "stream",
          "text": [
            "Failed to load iframe after multiple attempts for 낭쿰낭쿰흑돼지해물갈비전골산방산점.\n",
            "crawling fatil : 낭쿰낭쿰흑돼지해물갈비전골산방산점 to fail_to_crawling\n",
            "낭푼이 닭한마리: searchIframe 로드 및 프레임 전환 완료\n",
            "낭푼이 닭한마리: entryIframe이 이미 로드됨. 클릭 없이 바로 진행\n",
            "entryIframe 로드.\n",
            "Error while extracting menu/features for 낭푼이 닭한마리, div 1:\n",
            "Error while extracting menu/features for 낭푼이 닭한마리, div 2:\n"
          ]
        },
        {
          "name": "stderr",
          "output_type": "stream",
          "text": [
            " 72%|███████▏  | 715/999 [4:22:48<1:37:04, 20.51s/it]"
          ]
        },
        {
          "name": "stdout",
          "output_type": "stream",
          "text": [
            "낮갈치밤돼지: searchIframe 로드 및 프레임 전환 완료\n",
            "Error while clicking first search result for 낮갈치밤돼지: Unable to locate list container.\n"
          ]
        },
        {
          "name": "stderr",
          "output_type": "stream",
          "text": [
            " 72%|███████▏  | 716/999 [4:23:09<1:37:05, 20.59s/it]"
          ]
        },
        {
          "name": "stdout",
          "output_type": "stream",
          "text": [
            "Failed to load iframe after multiple attempts for 낮갈치밤돼지.\n",
            "crawling fatil : 낮갈치밤돼지 to fail_to_crawling\n",
            "낮에정식밤에갈비: searchIframe 로드 및 프레임 전환 완료\n",
            "낮에정식밤에갈비: entryIframe이 이미 로드됨. 클릭 없이 바로 진행\n",
            "entryIframe 로드.\n",
            "Error while extracting menu/features for 낮에정식밤에갈비, div 1:\n",
            "Error while extracting menu/features for 낮에정식밤에갈비, div 2:\n"
          ]
        },
        {
          "name": "stderr",
          "output_type": "stream",
          "text": [
            " 72%|███████▏  | 717/999 [4:23:30<1:37:18, 20.70s/it]"
          ]
        },
        {
          "name": "stdout",
          "output_type": "stream",
          "text": [
            "내가 찾은 맛고을: searchIframe 로드 및 프레임 전환 완료\n",
            "내가 찾은 맛고을: entryIframe이 이미 로드됨. 클릭 없이 바로 진행\n",
            "entryIframe 로드.\n",
            "Error while extracting datalab information for 내가 찾은 맛고을:\n",
            "Error while extracting menu/features for 내가 찾은 맛고을, div 1:\n",
            "Error while navigating to reviews for 내가 찾은 맛고을:\n"
          ]
        },
        {
          "name": "stderr",
          "output_type": "stream",
          "text": [
            " 72%|███████▏  | 718/999 [4:23:50<1:36:53, 20.69s/it]"
          ]
        },
        {
          "name": "stdout",
          "output_type": "stream",
          "text": [
            "이미지 추출 오류 1 for 내가 찾은 맛고을 \n",
            "이미지 추출 오류 2 for 내가 찾은 맛고을 \n",
            "이미지 추출 오류 3 for 내가 찾은 맛고을 \n",
            "이미지 추출 오류 4 for 내가 찾은 맛고을 \n",
            "이미지 추출 오류 5 for 내가 찾은 맛고을 \n",
            "이미지 추출 오류 6 for 내가 찾은 맛고을 \n",
            "이미지 추출 오류 7 for 내가 찾은 맛고을 \n",
            "이미지 추출 오류 8 for 내가 찾은 맛고을 \n",
            "이미지 추출 오류 9 for 내가 찾은 맛고을 \n",
            "이미지 추출 오류 10 for 내가 찾은 맛고을 \n",
            "내가찾은맛고을: searchIframe 로드 및 프레임 전환 완료\n",
            "내가찾은맛고을: entryIframe이 이미 로드됨. 클릭 없이 바로 진행\n",
            "entryIframe 로드.\n",
            "Error while extracting datalab information for 내가찾은맛고을:\n",
            "Error while extracting menu/features for 내가찾은맛고을, div 1:\n",
            "Error while navigating to reviews for 내가찾은맛고을:\n"
          ]
        },
        {
          "name": "stderr",
          "output_type": "stream",
          "text": [
            " 72%|███████▏  | 719/999 [4:24:11<1:36:14, 20.62s/it]"
          ]
        },
        {
          "name": "stdout",
          "output_type": "stream",
          "text": [
            "이미지 추출 오류 1 for 내가찾은맛고을 \n",
            "이미지 추출 오류 2 for 내가찾은맛고을 \n",
            "이미지 추출 오류 3 for 내가찾은맛고을 \n",
            "이미지 추출 오류 4 for 내가찾은맛고을 \n",
            "이미지 추출 오류 5 for 내가찾은맛고을 \n",
            "이미지 추출 오류 6 for 내가찾은맛고을 \n",
            "이미지 추출 오류 7 for 내가찾은맛고을 \n",
            "이미지 추출 오류 8 for 내가찾은맛고을 \n",
            "이미지 추출 오류 9 for 내가찾은맛고을 \n",
            "이미지 추출 오류 10 for 내가찾은맛고을 \n",
            "내고향해장국: searchIframe 로드 및 프레임 전환 완료\n",
            "내고향해장국: 첫 번째 가게 클릭 후 전환되지 않음. 다음 가게로 진행\n",
            "entryIframe 로드.\n",
            "Error while extracting menu/features for 내고향해장국, div 1:\n",
            "Error while extracting menu/features for 내고향해장국, div 2:\n"
          ]
        },
        {
          "name": "stderr",
          "output_type": "stream",
          "text": [
            " 72%|███████▏  | 720/999 [4:24:39<1:46:08, 22.83s/it]"
          ]
        },
        {
          "name": "stdout",
          "output_type": "stream",
          "text": [
            "내담: searchIframe 로드 및 프레임 전환 완료\n",
            "내담: 첫 번째 가게 클릭 후 전환되지 않음. 다음 가게로 진행\n",
            "entryIframe 로드.\n",
            "Error while extracting datalab information for 내담:\n",
            "Error while navigating to reviews for 내담:\n"
          ]
        },
        {
          "name": "stderr",
          "output_type": "stream",
          "text": [
            " 72%|███████▏  | 721/999 [4:25:01<1:44:10, 22.48s/it]"
          ]
        },
        {
          "name": "stdout",
          "output_type": "stream",
          "text": [
            "내도바당: searchIframe 로드 및 프레임 전환 완료\n",
            "내도바당: 첫 번째 가게 클릭 후 전환되지 않음. 다음 가게로 진행\n",
            "entryIframe 로드.\n",
            "Error while extracting menu/features for 내도바당, div 1:\n",
            "Error while extracting menu/features for 내도바당, div 2:\n"
          ]
        },
        {
          "name": "stderr",
          "output_type": "stream",
          "text": [
            " 72%|███████▏  | 722/999 [4:25:26<1:48:35, 23.52s/it]"
          ]
        },
        {
          "name": "stdout",
          "output_type": "stream",
          "text": [
            "내도음악상가: searchIframe 로드 및 프레임 전환 완료\n",
            "내도음악상가: entryIframe이 이미 로드됨. 클릭 없이 바로 진행\n",
            "entryIframe 로드.\n",
            "Error while extracting menu/features for 내도음악상가, div 1:\n",
            "Error while extracting menu/features for 내도음악상가, div 2:\n"
          ]
        },
        {
          "name": "stderr",
          "output_type": "stream",
          "text": [
            " 72%|███████▏  | 723/999 [4:25:46<1:42:32, 22.29s/it]"
          ]
        },
        {
          "name": "stdout",
          "output_type": "stream",
          "text": [
            "내돈니돈: searchIframe 로드 및 프레임 전환 완료\n",
            "내돈니돈: entryIframe이 이미 로드됨. 클릭 없이 바로 진행\n",
            "entryIframe 로드.\n",
            "Error while extracting menu/features for 내돈니돈, div 1:\n",
            "Error while extracting menu/features for 내돈니돈, div 2:\n"
          ]
        },
        {
          "name": "stderr",
          "output_type": "stream",
          "text": [
            " 72%|███████▏  | 724/999 [4:26:07<1:40:19, 21.89s/it]"
          ]
        },
        {
          "name": "stdout",
          "output_type": "stream",
          "text": [
            "내리막: searchIframe 로드 및 프레임 전환 완료\n",
            "내리막: entryIframe이 이미 로드됨. 클릭 없이 바로 진행\n",
            "entryIframe 로드.\n",
            "Error while extracting menu/features for 내리막, div 1:\n",
            "Error while extracting menu/features for 내리막, div 2:\n"
          ]
        },
        {
          "name": "stderr",
          "output_type": "stream",
          "text": [
            " 73%|███████▎  | 725/999 [4:26:28<1:39:24, 21.77s/it]"
          ]
        },
        {
          "name": "stdout",
          "output_type": "stream",
          "text": [
            "내손에쏙물회제주: searchIframe 로드 및 프레임 전환 완료\n",
            "Error while clicking first search result for 내손에쏙물회제주: Unable to locate list container.\n"
          ]
        },
        {
          "name": "stderr",
          "output_type": "stream",
          "text": [
            " 73%|███████▎  | 726/999 [4:26:49<1:37:38, 21.46s/it]"
          ]
        },
        {
          "name": "stdout",
          "output_type": "stream",
          "text": [
            "Failed to load iframe after multiple attempts for 내손에쏙물회제주.\n",
            "crawling fatil : 내손에쏙물회제주 to fail_to_crawling\n",
            "내음커피바: searchIframe 로드 및 프레임 전환 완료\n",
            "내음커피바: entryIframe이 이미 로드됨. 클릭 없이 바로 진행\n",
            "entryIframe 로드.\n",
            "Error while extracting menu/features for 내음커피바, div 1:\n",
            "Error while extracting menu/features for 내음커피바, div 2:\n"
          ]
        },
        {
          "name": "stderr",
          "output_type": "stream",
          "text": [
            " 73%|███████▎  | 727/999 [4:27:11<1:37:14, 21.45s/it]"
          ]
        },
        {
          "name": "stdout",
          "output_type": "stream",
          "text": [
            "내일또순대국: searchIframe 로드 및 프레임 전환 완료\n",
            "내일또순대국: entryIframe이 이미 로드됨. 클릭 없이 바로 진행\n",
            "entryIframe 로드.\n",
            "Error while extracting menu/features for 내일또순대국, div 1:\n",
            "Error while extracting menu/features for 내일또순대국, div 2:\n"
          ]
        },
        {
          "name": "stderr",
          "output_type": "stream",
          "text": [
            " 73%|███████▎  | 728/999 [4:27:32<1:36:28, 21.36s/it]"
          ]
        },
        {
          "name": "stdout",
          "output_type": "stream",
          "text": [
            "내창생태카페: searchIframe 로드 및 프레임 전환 완료\n",
            "Error while clicking first search result for 내창생태카페: Unable to locate list container.\n"
          ]
        },
        {
          "name": "stderr",
          "output_type": "stream",
          "text": [
            " 73%|███████▎  | 729/999 [4:27:52<1:34:42, 21.05s/it]"
          ]
        },
        {
          "name": "stdout",
          "output_type": "stream",
          "text": [
            "Failed to load iframe after multiple attempts for 내창생태카페.\n",
            "crawling fatil : 내창생태카페 to fail_to_crawling\n",
            "냄비에퐁닭: searchIframe 로드 및 프레임 전환 완료\n",
            "냄비에퐁닭: entryIframe이 이미 로드됨. 클릭 없이 바로 진행\n",
            "entryIframe 로드.\n",
            "Error while extracting menu/features for 냄비에퐁닭, div 1:\n",
            "Error while extracting menu/features for 냄비에퐁닭, div 2:\n"
          ]
        },
        {
          "name": "stderr",
          "output_type": "stream",
          "text": [
            " 73%|███████▎  | 730/999 [4:28:13<1:34:12, 21.01s/it]"
          ]
        },
        {
          "name": "stdout",
          "output_type": "stream",
          "text": [
            "냉동고: searchIframe 로드 및 프레임 전환 완료\n",
            "냉동고: 첫 번째 가게 클릭 후 전환되지 않음. 다음 가게로 진행\n",
            "entryIframe 로드.\n",
            "Error while extracting menu/features for 냉동고, div 1:\n"
          ]
        },
        {
          "name": "stderr",
          "output_type": "stream",
          "text": [
            " 73%|███████▎  | 731/999 [4:28:37<1:38:13, 21.99s/it]"
          ]
        },
        {
          "name": "stdout",
          "output_type": "stream",
          "text": [
            "Error while extracting menu/features for 냉동고, div 2:\n",
            " 사진 버튼 없음 : 냉동고.\n",
            "냉동고 일도점: searchIframe 로드 및 프레임 전환 완료\n",
            "냉동고 일도점: 첫 번째 가게 클릭 후 전환되지 않음. 다음 가게로 진행\n",
            "entryIframe 로드.\n",
            "Error while extracting datalab information for 냉동고 일도점:\n",
            "Error while navigating to reviews for 냉동고 일도점:\n"
          ]
        },
        {
          "name": "stderr",
          "output_type": "stream",
          "text": [
            " 73%|███████▎  | 732/999 [4:29:05<1:45:19, 23.67s/it]"
          ]
        },
        {
          "name": "stdout",
          "output_type": "stream",
          "text": [
            "냉면아방갈비갈비탕: searchIframe 로드 및 프레임 전환 완료\n",
            "Error while clicking first search result for 냉면아방갈비갈비탕: Unable to locate list container.\n"
          ]
        },
        {
          "name": "stderr",
          "output_type": "stream",
          "text": [
            " 73%|███████▎  | 733/999 [4:29:25<1:40:14, 22.61s/it]"
          ]
        },
        {
          "name": "stdout",
          "output_type": "stream",
          "text": [
            "Failed to load iframe after multiple attempts for 냉면아방갈비갈비탕.\n",
            "crawling fatil : 냉면아방갈비갈비탕 to fail_to_crawling\n",
            "냉삼집시청점본점: searchIframe 로드 및 프레임 전환 완료\n",
            "Error while clicking first search result for 냉삼집시청점본점: Unable to locate list container.\n"
          ]
        },
        {
          "name": "stderr",
          "output_type": "stream",
          "text": [
            " 73%|███████▎  | 734/999 [4:29:45<1:36:54, 21.94s/it]"
          ]
        },
        {
          "name": "stdout",
          "output_type": "stream",
          "text": [
            "Failed to load iframe after multiple attempts for 냉삼집시청점본점.\n",
            "crawling fatil : 냉삼집시청점본점 to fail_to_crawling\n",
            "냉삼집연동점: searchIframe 로드 및 프레임 전환 완료\n",
            "냉삼집연동점: entryIframe이 이미 로드됨. 클릭 없이 바로 진행\n",
            "entryIframe 로드.\n",
            "Error while extracting menu/features for 냉삼집연동점, div 1:\n",
            "Error while extracting menu/features for 냉삼집연동점, div 2:\n"
          ]
        },
        {
          "name": "stderr",
          "output_type": "stream",
          "text": [
            " 74%|███████▎  | 735/999 [4:30:06<1:35:28, 21.70s/it]"
          ]
        },
        {
          "name": "stdout",
          "output_type": "stream",
          "text": [
            "냠냠제주: searchIframe 로드 및 프레임 전환 완료\n",
            "냠냠제주: 첫 번째 가게 클릭 후 전환되지 않음. 다음 가게로 진행\n",
            "entryIframe 로드.\n",
            "Error while navigating to reviews for 냠냠제주:\n"
          ]
        },
        {
          "name": "stderr",
          "output_type": "stream",
          "text": [
            " 74%|███████▎  | 736/999 [4:30:36<1:45:11, 24.00s/it]"
          ]
        },
        {
          "name": "stdout",
          "output_type": "stream",
          "text": [
            "너나들이민속주점: searchIframe 로드 및 프레임 전환 완료\n",
            "너나들이민속주점: entryIframe이 이미 로드됨. 클릭 없이 바로 진행\n",
            "entryIframe 로드.\n",
            "Error while extracting datalab information for 너나들이민속주점:\n",
            "Error while navigating to reviews for 너나들이민속주점:\n"
          ]
        },
        {
          "name": "stderr",
          "output_type": "stream",
          "text": [
            " 74%|███████▍  | 737/999 [4:30:56<1:39:51, 22.87s/it]"
          ]
        },
        {
          "name": "stdout",
          "output_type": "stream",
          "text": [
            "이미지 추출 오류 2 for 너나들이민속주점 \n",
            "이미지 추출 오류 3 for 너나들이민속주점 \n",
            "이미지 추출 오류 4 for 너나들이민속주점 \n",
            "이미지 추출 오류 5 for 너나들이민속주점 \n",
            "이미지 추출 오류 6 for 너나들이민속주점 \n",
            "이미지 추출 오류 7 for 너나들이민속주점 \n",
            "이미지 추출 오류 8 for 너나들이민속주점 \n",
            "이미지 추출 오류 9 for 너나들이민속주점 \n",
            "이미지 추출 오류 10 for 너나들이민속주점 \n",
            "너는파라다이스길리: searchIframe 로드 및 프레임 전환 완료\n",
            "너는파라다이스길리: entryIframe이 이미 로드됨. 클릭 없이 바로 진행\n",
            "entryIframe 로드.\n",
            "Error while extracting menu/features for 너는파라다이스길리, div 1:\n",
            "Error while extracting menu/features for 너는파라다이스길리, div 2:\n"
          ]
        },
        {
          "name": "stderr",
          "output_type": "stream",
          "text": [
            " 74%|███████▍  | 738/999 [4:31:17<1:37:33, 22.43s/it]"
          ]
        },
        {
          "name": "stdout",
          "output_type": "stream",
          "text": [
            "너럭: searchIframe 로드 및 프레임 전환 완료\n",
            "너럭: 링크버튼을 찾을 수 없음. xpath 대신 다른 방법 시도\n"
          ]
        },
        {
          "name": "stderr",
          "output_type": "stream",
          "text": [
            " 74%|███████▍  | 739/999 [4:31:35<1:31:13, 21.05s/it]"
          ]
        },
        {
          "name": "stdout",
          "output_type": "stream",
          "text": [
            "Failed to load iframe after multiple attempts for 너럭.\n",
            "crawling fatil : 너럭 to fail_to_crawling\n",
            "너븐: searchIframe 로드 및 프레임 전환 완료\n",
            "너븐: 첫 번째 가게 클릭 후 전환되지 않음. 다음 가게로 진행\n",
            "entryIframe 로드.\n",
            "Error while extracting menu/features for 너븐, div 1:\n"
          ]
        },
        {
          "name": "stderr",
          "output_type": "stream",
          "text": [
            " 74%|███████▍  | 740/999 [4:31:57<1:31:31, 21.20s/it]"
          ]
        },
        {
          "name": "stdout",
          "output_type": "stream",
          "text": [
            "Error while extracting menu/features for 너븐, div 2:\n",
            " 사진 버튼 없음 : 너븐.\n",
            "너븐드르 우리어멍빙떡: searchIframe 로드 및 프레임 전환 완료\n",
            "Error while clicking first search result for 너븐드르 우리어멍빙떡: Unable to locate list container.\n"
          ]
        },
        {
          "name": "stderr",
          "output_type": "stream",
          "text": [
            " 74%|███████▍  | 741/999 [4:32:17<1:30:11, 20.98s/it]"
          ]
        },
        {
          "name": "stdout",
          "output_type": "stream",
          "text": [
            "Failed to load iframe after multiple attempts for 너븐드르 우리어멍빙떡.\n",
            "crawling fatil : 너븐드르 우리어멍빙떡 to fail_to_crawling\n",
            "너야말로진정회: searchIframe 로드 및 프레임 전환 완료\n",
            "너야말로진정회: 첫 번째 가게 클릭 후 전환되지 않음. 다음 가게로 진행\n",
            "entryIframe 로드.\n",
            "Error while extracting menu/features for 너야말로진정회, div 1:\n"
          ]
        },
        {
          "name": "stderr",
          "output_type": "stream",
          "text": [
            " 74%|███████▍  | 742/999 [4:32:41<1:33:43, 21.88s/it]"
          ]
        },
        {
          "name": "stdout",
          "output_type": "stream",
          "text": [
            "Error while extracting menu/features for 너야말로진정회, div 2:\n",
            " 사진 버튼 없음 : 너야말로진정회.\n",
            "너와의 첫여행: searchIframe 로드 및 프레임 전환 완료\n",
            "너와의 첫여행: entryIframe이 이미 로드됨. 클릭 없이 바로 진행\n",
            "entryIframe 로드.\n",
            "Error while extracting menu/features for 너와의 첫여행, div 1:\n",
            "Error while extracting menu/features for 너와의 첫여행, div 2:\n"
          ]
        },
        {
          "name": "stderr",
          "output_type": "stream",
          "text": [
            " 74%|███████▍  | 743/999 [4:33:02<1:32:26, 21.67s/it]"
          ]
        },
        {
          "name": "stdout",
          "output_type": "stream",
          "text": [
            "넉둥베기 고사리육개장: searchIframe 로드 및 프레임 전환 완료\n",
            "넉둥베기 고사리육개장: entryIframe이 이미 로드됨. 클릭 없이 바로 진행\n",
            "entryIframe 로드.\n",
            "Error while extracting menu/features for 넉둥베기 고사리육개장, div 1:\n",
            "Error while extracting menu/features for 넉둥베기 고사리육개장, div 2:\n"
          ]
        },
        {
          "name": "stderr",
          "output_type": "stream",
          "text": [
            " 74%|███████▍  | 744/999 [4:33:24<1:31:31, 21.53s/it]"
          ]
        },
        {
          "name": "stdout",
          "output_type": "stream",
          "text": [
            "넉둥베기고사리육개장: searchIframe 로드 및 프레임 전환 완료\n",
            "넉둥베기고사리육개장: entryIframe이 이미 로드됨. 클릭 없이 바로 진행\n",
            "entryIframe 로드.\n",
            "Error while extracting menu/features for 넉둥베기고사리육개장, div 1:\n",
            "Error while extracting menu/features for 넉둥베기고사리육개장, div 2:\n"
          ]
        },
        {
          "name": "stderr",
          "output_type": "stream",
          "text": [
            " 75%|███████▍  | 745/999 [4:33:43<1:27:56, 20.77s/it]"
          ]
        },
        {
          "name": "stdout",
          "output_type": "stream",
          "text": [
            "넘버 138: searchIframe 로드 및 프레임 전환 완료\n",
            "넘버 138: 첫 번째 가게 클릭 후 전환되지 않음. 다음 가게로 진행\n",
            "entryIframe 로드.\n",
            "Error while extracting menu/features for 넘버 138, div 1:\n",
            "Error while extracting menu/features for 넘버 138, div 2:\n"
          ]
        },
        {
          "name": "stderr",
          "output_type": "stream",
          "text": [
            " 75%|███████▍  | 746/999 [4:34:09<1:34:11, 22.34s/it]"
          ]
        },
        {
          "name": "stdout",
          "output_type": "stream",
          "text": [
            "넘은 봄: searchIframe 로드 및 프레임 전환 완료\n",
            "넘은 봄: entryIframe이 이미 로드됨. 클릭 없이 바로 진행\n",
            "entryIframe 로드.\n",
            "Error while extracting menu/features for 넘은 봄, div 1:\n",
            "Error while extracting menu/features for 넘은 봄, div 2:\n"
          ]
        },
        {
          "name": "stderr",
          "output_type": "stream",
          "text": [
            " 75%|███████▍  | 747/999 [4:34:30<1:32:45, 22.08s/it]"
          ]
        },
        {
          "name": "stdout",
          "output_type": "stream",
          "text": [
            "넘은봄: searchIframe 로드 및 프레임 전환 완료\n",
            "넘은봄: entryIframe이 이미 로드됨. 클릭 없이 바로 진행\n",
            "entryIframe 로드.\n",
            "Error while extracting menu/features for 넘은봄, div 1:\n",
            "Error while extracting menu/features for 넘은봄, div 2:\n"
          ]
        },
        {
          "name": "stderr",
          "output_type": "stream",
          "text": [
            " 75%|███████▍  | 748/999 [4:34:51<1:31:21, 21.84s/it]"
          ]
        },
        {
          "name": "stdout",
          "output_type": "stream",
          "text": [
            "넝쿨하눌가든: searchIframe 로드 및 프레임 전환 완료\n",
            "넝쿨하눌가든: entryIframe이 이미 로드됨. 클릭 없이 바로 진행\n",
            "entryIframe 로드.\n",
            "Error while extracting menu/features for 넝쿨하눌가든, div 1:\n",
            "Error while extracting menu/features for 넝쿨하눌가든, div 2:\n"
          ]
        },
        {
          "name": "stderr",
          "output_type": "stream",
          "text": [
            " 75%|███████▍  | 749/999 [4:35:11<1:27:48, 21.07s/it]"
          ]
        },
        {
          "name": "stdout",
          "output_type": "stream",
          "text": [
            "넝쿨하눌연동: searchIframe 로드 및 프레임 전환 완료\n",
            "넝쿨하눌연동: entryIframe이 이미 로드됨. 클릭 없이 바로 진행\n",
            "entryIframe 로드.\n",
            "Error while extracting menu/features for 넝쿨하눌연동, div 1:\n",
            "Error while extracting menu/features for 넝쿨하눌연동, div 2:\n"
          ]
        },
        {
          "name": "stderr",
          "output_type": "stream",
          "text": [
            " 75%|███████▌  | 750/999 [4:35:32<1:27:50, 21.17s/it]"
          ]
        },
        {
          "name": "stdout",
          "output_type": "stream",
          "text": [
            "네거리식당: searchIframe 로드 및 프레임 전환 완료\n",
            "네거리식당: 첫 번째 가게 클릭 후 전환되지 않음. 다음 가게로 진행\n",
            "entryIframe 로드.\n",
            "Error while extracting menu/features for 네거리식당, div 1:\n",
            "Error while extracting menu/features for 네거리식당, div 2:\n"
          ]
        },
        {
          "name": "stderr",
          "output_type": "stream",
          "text": [
            " 75%|███████▌  | 751/999 [4:36:00<1:36:08, 23.26s/it]"
          ]
        },
        {
          "name": "stdout",
          "output_type": "stream",
          "text": [
            "네거리올레: searchIframe 로드 및 프레임 전환 완료\n",
            "네거리올레: 첫 번째 가게 클릭 후 전환되지 않음. 다음 가게로 진행\n",
            "entryIframe 로드.\n",
            "Error while extracting menu/features for 네거리올레, div 1:\n",
            "Error while extracting menu/features for 네거리올레, div 2:\n"
          ]
        },
        {
          "name": "stderr",
          "output_type": "stream",
          "text": [
            " 75%|███████▌  | 752/999 [4:36:28<1:41:57, 24.77s/it]"
          ]
        },
        {
          "name": "stdout",
          "output_type": "stream",
          "text": [
            "네꼬야티하우스: searchIframe 로드 및 프레임 전환 완료\n",
            "네꼬야티하우스: entryIframe이 이미 로드됨. 클릭 없이 바로 진행\n",
            "entryIframe 로드.\n",
            "Error while extracting menu/features for 네꼬야티하우스, div 1:\n",
            "Error while extracting menu/features for 네꼬야티하우스, div 2:\n"
          ]
        },
        {
          "name": "stderr",
          "output_type": "stream",
          "text": [
            " 75%|███████▌  | 753/999 [4:36:50<1:38:03, 23.92s/it]"
          ]
        },
        {
          "name": "stdout",
          "output_type": "stream",
          "text": [
            "네꼬짱: searchIframe 로드 및 프레임 전환 완료\n",
            "네꼬짱: 첫 번째 가게 클릭 후 전환되지 않음. 다음 가게로 진행\n",
            "entryIframe 로드.\n",
            "Error while extracting menu/features for 네꼬짱, div 1:\n",
            "Error while extracting menu/features for 네꼬짱, div 2:\n"
          ]
        },
        {
          "name": "stderr",
          "output_type": "stream",
          "text": [
            " 75%|███████▌  | 754/999 [4:37:19<1:43:14, 25.29s/it]"
          ]
        },
        {
          "name": "stdout",
          "output_type": "stream",
          "text": [
            "네네치킨 조천함덕점: searchIframe 로드 및 프레임 전환 완료\n",
            "네네치킨 조천함덕점: entryIframe이 이미 로드됨. 클릭 없이 바로 진행\n",
            "entryIframe 로드.\n",
            "Error while extracting menu/features for 네네치킨 조천함덕점, div 1:\n",
            "Error while extracting menu/features for 네네치킨 조천함덕점, div 2:\n"
          ]
        },
        {
          "name": "stderr",
          "output_type": "stream",
          "text": [
            " 76%|███████▌  | 755/999 [4:37:36<1:32:40, 22.79s/it]"
          ]
        },
        {
          "name": "stdout",
          "output_type": "stream",
          "text": [
            " 사진 버튼 없음 : 네네치킨 조천함덕점.\n",
            "네네치킨 효돈점: searchIframe 로드 및 프레임 전환 완료\n",
            "네네치킨 효돈점: entryIframe이 이미 로드됨. 클릭 없이 바로 진행\n",
            "entryIframe 로드.\n",
            "Error while extracting menu/features for 네네치킨 효돈점, div 1:\n",
            "Error while extracting menu/features for 네네치킨 효돈점, div 2:\n"
          ]
        },
        {
          "name": "stderr",
          "output_type": "stream",
          "text": [
            " 76%|███████▌  | 756/999 [4:37:54<1:26:21, 21.32s/it]"
          ]
        },
        {
          "name": "stdout",
          "output_type": "stream",
          "text": [
            "Error while navigating to photos for 네네치킨 효돈점:\n",
            "네네치킨남원점: searchIframe 로드 및 프레임 전환 완료\n",
            "네네치킨남원점: 링크버튼을 찾을 수 없음. xpath 대신 다른 방법 시도\n"
          ]
        },
        {
          "name": "stderr",
          "output_type": "stream",
          "text": [
            " 76%|███████▌  | 757/999 [4:38:12<1:22:32, 20.46s/it]"
          ]
        },
        {
          "name": "stdout",
          "output_type": "stream",
          "text": [
            "Failed to load iframe after multiple attempts for 네네치킨남원점.\n",
            "crawling fatil : 네네치킨남원점 to fail_to_crawling\n",
            "네네치킨노형점: searchIframe 로드 및 프레임 전환 완료\n",
            "네네치킨노형점: entryIframe이 이미 로드됨. 클릭 없이 바로 진행\n",
            "entryIframe 로드.\n",
            "Error while extracting menu/features for 네네치킨노형점, div 1:\n",
            "Error while navigating to reviews for 네네치킨노형점:\n"
          ]
        },
        {
          "name": "stderr",
          "output_type": "stream",
          "text": [
            " 76%|███████▌  | 758/999 [4:38:34<1:23:17, 20.74s/it]"
          ]
        },
        {
          "name": "stdout",
          "output_type": "stream",
          "text": [
            "이미지 추출 오류 8 for 네네치킨노형점 \n",
            "이미지 추출 오류 9 for 네네치킨노형점 \n",
            "이미지 추출 오류 10 for 네네치킨노형점 \n",
            "네네치킨대정점: searchIframe 로드 및 프레임 전환 완료\n",
            "네네치킨대정점: entryIframe이 이미 로드됨. 클릭 없이 바로 진행\n",
            "entryIframe 로드.\n"
          ]
        },
        {
          "name": "stderr",
          "output_type": "stream",
          "text": [
            " 76%|███████▌  | 759/999 [4:38:50<1:18:18, 19.58s/it]"
          ]
        },
        {
          "name": "stdout",
          "output_type": "stream",
          "text": [
            "Error while extracting menu/features for 네네치킨대정점, div 1:\n",
            "Error while extracting menu/features for 네네치킨대정점, div 2:\n",
            " 사진 버튼 없음 : 네네치킨대정점.\n",
            "네네치킨안덕점: searchIframe 로드 및 프레임 전환 완료\n",
            "네네치킨안덕점: entryIframe이 이미 로드됨. 클릭 없이 바로 진행\n",
            "entryIframe 로드.\n",
            "Error while extracting datalab information for 네네치킨안덕점:\n",
            "Error while navigating to reviews for 네네치킨안덕점:\n"
          ]
        },
        {
          "name": "stderr",
          "output_type": "stream",
          "text": [
            " 76%|███████▌  | 760/999 [4:39:12<1:20:22, 20.18s/it]"
          ]
        },
        {
          "name": "stdout",
          "output_type": "stream",
          "text": [
            "이미지 추출 오류 2 for 네네치킨안덕점 \n",
            "이미지 추출 오류 3 for 네네치킨안덕점 \n",
            "이미지 추출 오류 4 for 네네치킨안덕점 \n",
            "이미지 추출 오류 5 for 네네치킨안덕점 \n",
            "이미지 추출 오류 6 for 네네치킨안덕점 \n",
            "이미지 추출 오류 7 for 네네치킨안덕점 \n",
            "이미지 추출 오류 8 for 네네치킨안덕점 \n",
            "이미지 추출 오류 9 for 네네치킨안덕점 \n",
            "이미지 추출 오류 10 for 네네치킨안덕점 \n",
            "네네치킨연동점: searchIframe 로드 및 프레임 전환 완료\n",
            "네네치킨연동점: entryIframe이 이미 로드됨. 클릭 없이 바로 진행\n",
            "entryIframe 로드.\n",
            "Error while extracting menu/features for 네네치킨연동점, div 1:\n",
            "Error while extracting menu/features for 네네치킨연동점, div 2:\n"
          ]
        },
        {
          "name": "stderr",
          "output_type": "stream",
          "text": [
            " 76%|███████▌  | 761/999 [4:39:33<1:21:15, 20.49s/it]"
          ]
        },
        {
          "name": "stdout",
          "output_type": "stream",
          "text": [
            "네네치킨일도점: searchIframe 로드 및 프레임 전환 완료\n",
            "네네치킨일도점: entryIframe이 이미 로드됨. 클릭 없이 바로 진행\n",
            "entryIframe 로드.\n",
            "Error while extracting menu/features for 네네치킨일도점, div 1:\n",
            "Error while extracting menu/features for 네네치킨일도점, div 2:\n"
          ]
        },
        {
          "name": "stderr",
          "output_type": "stream",
          "text": [
            " 76%|███████▋  | 762/999 [4:39:54<1:21:42, 20.69s/it]"
          ]
        },
        {
          "name": "stdout",
          "output_type": "stream",
          "text": [
            "네네치킨피자봉개점: searchIframe 로드 및 프레임 전환 완료\n",
            "Error while clicking first search result for 네네치킨피자봉개점: Unable to locate list container.\n"
          ]
        },
        {
          "name": "stderr",
          "output_type": "stream",
          "text": [
            " 76%|███████▋  | 763/999 [4:40:15<1:21:40, 20.76s/it]"
          ]
        },
        {
          "name": "stdout",
          "output_type": "stream",
          "text": [
            "Failed to load iframe after multiple attempts for 네네치킨피자봉개점.\n",
            "crawling fatil : 네네치킨피자봉개점 to fail_to_crawling\n",
            "네오치킨중문점: searchIframe 로드 및 프레임 전환 완료\n",
            "네오치킨중문점: entryIframe이 이미 로드됨. 클릭 없이 바로 진행\n",
            "entryIframe 로드.\n",
            "Error while extracting datalab information for 네오치킨중문점:\n",
            "Error while extracting menu/features for 네오치킨중문점, div 1:\n",
            "Error while extracting menu/features for 네오치킨중문점, div 2:\n"
          ]
        },
        {
          "name": "stderr",
          "output_type": "stream",
          "text": [
            " 76%|███████▋  | 764/999 [4:40:36<1:21:39, 20.85s/it]"
          ]
        },
        {
          "name": "stdout",
          "output_type": "stream",
          "text": [
            "네이처캔버스: searchIframe 로드 및 프레임 전환 완료\n",
            "Error while clicking first search result for 네이처캔버스: Unable to locate list container.\n"
          ]
        },
        {
          "name": "stderr",
          "output_type": "stream",
          "text": [
            " 77%|███████▋  | 765/999 [4:40:57<1:21:16, 20.84s/it]"
          ]
        },
        {
          "name": "stdout",
          "output_type": "stream",
          "text": [
            "Failed to load iframe after multiple attempts for 네이처캔버스.\n",
            "crawling fatil : 네이처캔버스 to fail_to_crawling\n",
            "네이쳐캔바스: searchIframe 로드 및 프레임 전환 완료\n",
            "Error while clicking first search result for 네이쳐캔바스: Unable to locate list container.\n"
          ]
        },
        {
          "name": "stderr",
          "output_type": "stream",
          "text": [
            " 77%|███████▋  | 766/999 [4:41:18<1:20:49, 20.81s/it]"
          ]
        },
        {
          "name": "stdout",
          "output_type": "stream",
          "text": [
            "Failed to load iframe after multiple attempts for 네이쳐캔바스.\n",
            "crawling fatil : 네이쳐캔바스 to fail_to_crawling\n",
            "네코샌드: searchIframe 로드 및 프레임 전환 완료\n",
            "네코샌드: entryIframe이 이미 로드됨. 클릭 없이 바로 진행\n",
            "entryIframe 로드.\n",
            "Error while extracting datalab information for 네코샌드:\n",
            "Error while navigating to reviews for 네코샌드:\n"
          ]
        },
        {
          "name": "stderr",
          "output_type": "stream",
          "text": [
            " 77%|███████▋  | 767/999 [4:41:37<1:18:36, 20.33s/it]"
          ]
        },
        {
          "name": "stdout",
          "output_type": "stream",
          "text": [
            "이미지 추출 오류 5 for 네코샌드 \n",
            "이미지 추출 오류 6 for 네코샌드 \n",
            "이미지 추출 오류 7 for 네코샌드 \n",
            "이미지 추출 오류 8 for 네코샌드 \n",
            "이미지 추출 오류 9 for 네코샌드 \n",
            "이미지 추출 오류 10 for 네코샌드 \n",
            "넥스트: searchIframe 로드 및 프레임 전환 완료\n",
            "넥스트: 링크버튼을 찾을 수 없음. xpath 대신 다른 방법 시도\n"
          ]
        },
        {
          "name": "stderr",
          "output_type": "stream",
          "text": [
            " 77%|███████▋  | 768/999 [4:41:55<1:15:36, 19.64s/it]"
          ]
        },
        {
          "name": "stdout",
          "output_type": "stream",
          "text": [
            "Failed to load iframe after multiple attempts for 넥스트.\n",
            "crawling fatil : 넥스트 to fail_to_crawling\n",
            "넥스트도어: searchIframe 로드 및 프레임 전환 완료\n",
            "넥스트도어: 첫 번째 가게 클릭 후 전환되지 않음. 다음 가게로 진행\n",
            "entryIframe 로드.\n",
            "Error while extracting menu/features for 넥스트도어, div 1:\n"
          ]
        },
        {
          "name": "stderr",
          "output_type": "stream",
          "text": [
            " 77%|███████▋  | 769/999 [4:42:21<1:22:56, 21.64s/it]"
          ]
        },
        {
          "name": "stdout",
          "output_type": "stream",
          "text": [
            "Error while extracting menu/features for 넥스트도어, div 2:\n",
            " 사진 버튼 없음 : 넥스트도어.\n",
            "노가리 앤 비어: searchIframe 로드 및 프레임 전환 완료\n",
            "노가리 앤 비어: 링크버튼을 찾을 수 없음. xpath 대신 다른 방법 시도\n"
          ]
        },
        {
          "name": "stderr",
          "output_type": "stream",
          "text": [
            " 77%|███████▋  | 770/999 [4:42:40<1:18:53, 20.67s/it]"
          ]
        },
        {
          "name": "stdout",
          "output_type": "stream",
          "text": [
            "Failed to load iframe after multiple attempts for 노가리 앤 비어.\n",
            "crawling fatil : 노가리 앤 비어 to fail_to_crawling\n",
            "노가리앤비어  삼화지구점: searchIframe 로드 및 프레임 전환 완료\n",
            "노가리앤비어  삼화지구점: 링크버튼을 찾을 수 없음. xpath 대신 다른 방법 시도\n"
          ]
        },
        {
          "name": "stderr",
          "output_type": "stream",
          "text": [
            " 77%|███████▋  | 771/999 [4:42:58<1:16:03, 20.02s/it]"
          ]
        },
        {
          "name": "stdout",
          "output_type": "stream",
          "text": [
            "Failed to load iframe after multiple attempts for 노가리앤비어  삼화지구점.\n",
            "crawling fatil : 노가리앤비어  삼화지구점 to fail_to_crawling\n",
            "노가리앤비어  서귀포동홍점: searchIframe 로드 및 프레임 전환 완료\n",
            "Error while clicking first search result for 노가리앤비어  서귀포동홍점: Unable to locate list container.\n"
          ]
        },
        {
          "name": "stderr",
          "output_type": "stream",
          "text": [
            " 77%|███████▋  | 772/999 [4:43:20<1:18:03, 20.63s/it]"
          ]
        },
        {
          "name": "stdout",
          "output_type": "stream",
          "text": [
            "Failed to load iframe after multiple attempts for 노가리앤비어  서귀포동홍점.\n",
            "crawling fatil : 노가리앤비어  서귀포동홍점 to fail_to_crawling\n",
            "노가리앤비어  이도일동점: searchIframe 로드 및 프레임 전환 완료\n",
            "노가리앤비어  이도일동점: 링크버튼을 찾을 수 없음. xpath 대신 다른 방법 시도\n"
          ]
        },
        {
          "name": "stderr",
          "output_type": "stream",
          "text": [
            " 77%|███████▋  | 773/999 [4:43:38<1:14:31, 19.79s/it]"
          ]
        },
        {
          "name": "stdout",
          "output_type": "stream",
          "text": [
            "Failed to load iframe after multiple attempts for 노가리앤비어  이도일동점.\n",
            "crawling fatil : 노가리앤비어  이도일동점 to fail_to_crawling\n",
            "노가리앤비어 (도남점): searchIframe 로드 및 프레임 전환 완료\n",
            "노가리앤비어 (도남점): entryIframe이 이미 로드됨. 클릭 없이 바로 진행\n",
            "entryIframe 로드.\n",
            "Error while extracting menu/features for 노가리앤비어 (도남점), div 1:\n",
            "Error while extracting menu/features for 노가리앤비어 (도남점), div 2:\n"
          ]
        },
        {
          "name": "stderr",
          "output_type": "stream",
          "text": [
            " 77%|███████▋  | 774/999 [4:43:59<1:15:18, 20.08s/it]"
          ]
        },
        {
          "name": "stdout",
          "output_type": "stream",
          "text": [
            "노가리앤비어 구남점: searchIframe 로드 및 프레임 전환 완료\n",
            "노가리앤비어 구남점: entryIframe이 이미 로드됨. 클릭 없이 바로 진행\n",
            "entryIframe 로드.\n",
            "Error while extracting menu/features for 노가리앤비어 구남점, div 1:\n",
            "Error while navigating to reviews for 노가리앤비어 구남점:\n"
          ]
        },
        {
          "name": "stderr",
          "output_type": "stream",
          "text": [
            " 78%|███████▊  | 775/999 [4:44:20<1:15:59, 20.35s/it]"
          ]
        },
        {
          "name": "stdout",
          "output_type": "stream",
          "text": [
            "노가리앤비어(성산점): searchIframe 로드 및 프레임 전환 완료\n",
            "노가리앤비어(성산점): 링크버튼을 찾을 수 없음. xpath 대신 다른 방법 시도\n"
          ]
        },
        {
          "name": "stderr",
          "output_type": "stream",
          "text": [
            " 78%|███████▊  | 776/999 [4:44:38<1:13:25, 19.75s/it]"
          ]
        },
        {
          "name": "stdout",
          "output_type": "stream",
          "text": [
            "Failed to load iframe after multiple attempts for 노가리앤비어(성산점).\n",
            "crawling fatil : 노가리앤비어(성산점) to fail_to_crawling\n",
            "노가리앤비어대정모슬포점: searchIframe 로드 및 프레임 전환 완료\n",
            "노가리앤비어대정모슬포점: 링크버튼을 찾을 수 없음. xpath 대신 다른 방법 시도\n"
          ]
        },
        {
          "name": "stderr",
          "output_type": "stream",
          "text": [
            " 78%|███████▊  | 777/999 [4:44:56<1:10:37, 19.09s/it]"
          ]
        },
        {
          "name": "stdout",
          "output_type": "stream",
          "text": [
            "Failed to load iframe after multiple attempts for 노가리앤비어대정모슬포점.\n",
            "crawling fatil : 노가리앤비어대정모슬포점 to fail_to_crawling\n",
            "노가리앤비어삼도점: searchIframe 로드 및 프레임 전환 완료\n",
            "노가리앤비어삼도점: entryIframe이 이미 로드됨. 클릭 없이 바로 진행\n",
            "entryIframe 로드.\n",
            "Error while extracting datalab information for 노가리앤비어삼도점:\n",
            "Error while extracting menu/features for 노가리앤비어삼도점, div 1:\n",
            "Error while navigating to reviews for 노가리앤비어삼도점:\n"
          ]
        },
        {
          "name": "stderr",
          "output_type": "stream",
          "text": [
            " 78%|███████▊  | 778/999 [4:45:19<1:15:11, 20.41s/it]"
          ]
        },
        {
          "name": "stdout",
          "output_type": "stream",
          "text": [
            "이미지 추출 오류 7 for 노가리앤비어삼도점 \n",
            "이미지 추출 오류 8 for 노가리앤비어삼도점 \n",
            "이미지 추출 오류 9 for 노가리앤비어삼도점 \n",
            "이미지 추출 오류 10 for 노가리앤비어삼도점 \n",
            "노가리앤비어서귀포중문점: searchIframe 로드 및 프레임 전환 완료\n",
            "Error while clicking first search result for 노가리앤비어서귀포중문점: Unable to locate list container.\n"
          ]
        },
        {
          "name": "stderr",
          "output_type": "stream",
          "text": [
            " 78%|███████▊  | 779/999 [4:45:40<1:15:16, 20.53s/it]"
          ]
        },
        {
          "name": "stdout",
          "output_type": "stream",
          "text": [
            "Failed to load iframe after multiple attempts for 노가리앤비어서귀포중문점.\n",
            "crawling fatil : 노가리앤비어서귀포중문점 to fail_to_crawling\n",
            "노가리앤비어연동3호점: searchIframe 로드 및 프레임 전환 완료\n",
            "노가리앤비어연동3호점: entryIframe이 이미 로드됨. 클릭 없이 바로 진행\n",
            "entryIframe 로드.\n",
            "Error while extracting menu/features for 노가리앤비어연동3호점, div 1:\n",
            "Error while extracting menu/features for 노가리앤비어연동3호점, div 2:\n"
          ]
        },
        {
          "name": "stderr",
          "output_type": "stream",
          "text": [
            " 78%|███████▊  | 780/999 [4:46:01<1:15:41, 20.74s/it]"
          ]
        },
        {
          "name": "stdout",
          "output_type": "stream",
          "text": [
            "노가리앤비어연동점: searchIframe 로드 및 프레임 전환 완료\n",
            "노가리앤비어연동점: 링크버튼을 찾을 수 없음. xpath 대신 다른 방법 시도\n"
          ]
        },
        {
          "name": "stderr",
          "output_type": "stream",
          "text": [
            " 78%|███████▊  | 781/999 [4:46:19<1:12:16, 19.89s/it]"
          ]
        },
        {
          "name": "stdout",
          "output_type": "stream",
          "text": [
            "Failed to load iframe after multiple attempts for 노가리앤비어연동점.\n",
            "crawling fatil : 노가리앤비어연동점 to fail_to_crawling\n",
            "노가리앤비어용담점: searchIframe 로드 및 프레임 전환 완료\n",
            "노가리앤비어용담점: entryIframe이 이미 로드됨. 클릭 없이 바로 진행\n",
            "entryIframe 로드.\n"
          ]
        },
        {
          "name": "stderr",
          "output_type": "stream",
          "text": [
            " 78%|███████▊  | 782/999 [4:46:40<1:12:56, 20.17s/it]"
          ]
        },
        {
          "name": "stdout",
          "output_type": "stream",
          "text": [
            "노가리앤비어제주시청점: searchIframe 로드 및 프레임 전환 완료\n",
            "노가리앤비어제주시청점: entryIframe이 이미 로드됨. 클릭 없이 바로 진행\n",
            "entryIframe 로드.\n",
            "Error while extracting menu/features for 노가리앤비어제주시청점, div 1:\n",
            "Error while extracting menu/features for 노가리앤비어제주시청점, div 2:\n"
          ]
        },
        {
          "name": "stderr",
          "output_type": "stream",
          "text": [
            " 78%|███████▊  | 783/999 [4:47:02<1:13:51, 20.52s/it]"
          ]
        },
        {
          "name": "stdout",
          "output_type": "stream",
          "text": [
            "이미지 추출 오류 8 for 노가리앤비어제주시청점 \n",
            "이미지 추출 오류 9 for 노가리앤비어제주시청점 \n",
            "이미지 추출 오류 10 for 노가리앤비어제주시청점 \n",
            "노가리앤비어한라대점: searchIframe 로드 및 프레임 전환 완료\n",
            "노가리앤비어한라대점: entryIframe이 이미 로드됨. 클릭 없이 바로 진행\n",
            "entryIframe 로드.\n",
            "Error while extracting menu/features for 노가리앤비어한라대점, div 1:\n",
            "Error while extracting menu/features for 노가리앤비어한라대점, div 2:\n"
          ]
        },
        {
          "name": "stderr",
          "output_type": "stream",
          "text": [
            " 78%|███████▊  | 784/999 [4:47:23<1:14:03, 20.67s/it]"
          ]
        },
        {
          "name": "stdout",
          "output_type": "stream",
          "text": [
            "노군꼬치 함덕점: searchIframe 로드 및 프레임 전환 완료\n",
            "Error while clicking first search result for 노군꼬치 함덕점: Unable to locate list container.\n"
          ]
        },
        {
          "name": "stderr",
          "output_type": "stream",
          "text": [
            " 79%|███████▊  | 785/999 [4:47:43<1:13:58, 20.74s/it]"
          ]
        },
        {
          "name": "stdout",
          "output_type": "stream",
          "text": [
            "Failed to load iframe after multiple attempts for 노군꼬치 함덕점.\n",
            "crawling fatil : 노군꼬치 함덕점 to fail_to_crawling\n",
            "노다지해장국: searchIframe 로드 및 프레임 전환 완료\n",
            "노다지해장국: 링크버튼을 찾을 수 없음. xpath 대신 다른 방법 시도\n"
          ]
        },
        {
          "name": "stderr",
          "output_type": "stream",
          "text": [
            " 79%|███████▊  | 786/999 [4:48:01<1:10:41, 19.91s/it]"
          ]
        },
        {
          "name": "stdout",
          "output_type": "stream",
          "text": [
            "Failed to load iframe after multiple attempts for 노다지해장국.\n",
            "crawling fatil : 노다지해장국 to fail_to_crawling\n",
            "노도고등어회: searchIframe 로드 및 프레임 전환 완료\n",
            "노도고등어회: entryIframe이 이미 로드됨. 클릭 없이 바로 진행\n",
            "entryIframe 로드.\n",
            "Error while extracting menu/features for 노도고등어회, div 1:\n"
          ]
        },
        {
          "name": "stderr",
          "output_type": "stream",
          "text": [
            " 79%|███████▉  | 787/999 [4:48:23<1:11:50, 20.33s/it]"
          ]
        },
        {
          "name": "stdout",
          "output_type": "stream",
          "text": [
            "Error while extracting menu/features for 노도고등어회, div 2:\n",
            " 사진 버튼 없음 : 노도고등어회.\n",
            "노라바: searchIframe 로드 및 프레임 전환 완료\n",
            "노라바: 첫 번째 가게 클릭 후 전환되지 않음. 다음 가게로 진행\n",
            "entryIframe 로드.\n",
            "Error while extracting menu/features for 노라바, div 1:\n",
            "Error while extracting menu/features for 노라바, div 2:\n"
          ]
        },
        {
          "name": "stderr",
          "output_type": "stream",
          "text": [
            " 79%|███████▉  | 788/999 [4:48:49<1:17:32, 22.05s/it]"
          ]
        },
        {
          "name": "stdout",
          "output_type": "stream",
          "text": [
            "노랑꼬리: searchIframe 로드 및 프레임 전환 완료\n",
            "노랑꼬리: 첫 번째 가게 클릭 후 전환되지 않음. 다음 가게로 진행\n",
            "entryIframe 로드.\n",
            "Error while extracting datalab information for 노랑꼬리:\n",
            "Error while extracting menu/features for 노랑꼬리, div 1:\n",
            "Error while extracting menu/features for 노랑꼬리, div 2:\n"
          ]
        },
        {
          "name": "stderr",
          "output_type": "stream",
          "text": [
            " 79%|███████▉  | 789/999 [4:49:17<1:23:39, 23.90s/it]"
          ]
        },
        {
          "name": "stdout",
          "output_type": "stream",
          "text": [
            "노랑통닭: searchIframe 로드 및 프레임 전환 완료\n",
            "노랑통닭: 링크버튼을 찾을 수 없음. xpath 대신 다른 방법 시도\n"
          ]
        },
        {
          "name": "stderr",
          "output_type": "stream",
          "text": [
            " 79%|███████▉  | 790/999 [4:49:36<1:18:02, 22.41s/it]"
          ]
        },
        {
          "name": "stdout",
          "output_type": "stream",
          "text": [
            "Failed to load iframe after multiple attempts for 노랑통닭.\n",
            "crawling fatil : 노랑통닭 to fail_to_crawling\n",
            "노랑통닭 남원읍점: searchIframe 로드 및 프레임 전환 완료\n",
            "노랑통닭 남원읍점: entryIframe이 이미 로드됨. 클릭 없이 바로 진행\n",
            "entryIframe 로드.\n",
            "Error while extracting menu/features for 노랑통닭 남원읍점, div 1:\n",
            "Error while extracting menu/features for 노랑통닭 남원읍점, div 2:\n"
          ]
        },
        {
          "name": "stderr",
          "output_type": "stream",
          "text": [
            " 79%|███████▉  | 791/999 [4:49:57<1:16:14, 22.00s/it]"
          ]
        },
        {
          "name": "stdout",
          "output_type": "stream",
          "text": [
            "노랑통닭 동홍점: searchIframe 로드 및 프레임 전환 완료\n",
            "노랑통닭 동홍점: entryIframe이 이미 로드됨. 클릭 없이 바로 진행\n",
            "entryIframe 로드.\n",
            "Error while extracting datalab information for 노랑통닭 동홍점:\n",
            "Error while extracting menu/features for 노랑통닭 동홍점, div 1:\n",
            "Error while extracting menu/features for 노랑통닭 동홍점, div 2:\n"
          ]
        },
        {
          "name": "stderr",
          "output_type": "stream",
          "text": [
            " 79%|███████▉  | 792/999 [4:50:21<1:17:45, 22.54s/it]"
          ]
        },
        {
          "name": "stdout",
          "output_type": "stream",
          "text": [
            "노랑통닭 서귀포혁신도시점: searchIframe 로드 및 프레임 전환 완료\n",
            "노랑통닭 서귀포혁신도시점: entryIframe이 이미 로드됨. 클릭 없이 바로 진행\n",
            "entryIframe 로드.\n",
            "Error while extracting menu/features for 노랑통닭 서귀포혁신도시점, div 1:\n",
            "Error while extracting menu/features for 노랑통닭 서귀포혁신도시점, div 2:\n"
          ]
        },
        {
          "name": "stderr",
          "output_type": "stream",
          "text": [
            " 79%|███████▉  | 793/999 [4:50:42<1:15:52, 22.10s/it]"
          ]
        },
        {
          "name": "stdout",
          "output_type": "stream",
          "text": [
            "노랑통닭 아라점: searchIframe 로드 및 프레임 전환 완료\n",
            "노랑통닭 아라점: 첫 번째 가게 클릭 후 전환되지 않음. 다음 가게로 진행\n",
            "entryIframe 로드.\n",
            "Error while extracting datalab information for 노랑통닭 아라점:\n",
            "Error while extracting menu/features for 노랑통닭 아라점, div 1:\n",
            "Error while extracting menu/features for 노랑통닭 아라점, div 2:\n"
          ]
        },
        {
          "name": "stderr",
          "output_type": "stream",
          "text": [
            " 79%|███████▉  | 794/999 [4:51:10<1:21:13, 23.77s/it]"
          ]
        },
        {
          "name": "stdout",
          "output_type": "stream",
          "text": [
            "노랑통닭 중문점: searchIframe 로드 및 프레임 전환 완료\n",
            "Error while clicking first search result for 노랑통닭 중문점: Unable to locate list container.\n"
          ]
        },
        {
          "name": "stderr",
          "output_type": "stream",
          "text": [
            " 80%|███████▉  | 795/999 [4:51:30<1:17:55, 22.92s/it]"
          ]
        },
        {
          "name": "stdout",
          "output_type": "stream",
          "text": [
            "Failed to load iframe after multiple attempts for 노랑통닭 중문점.\n",
            "crawling fatil : 노랑통닭 중문점 to fail_to_crawling\n",
            "노랑통닭 표선점: searchIframe 로드 및 프레임 전환 완료\n",
            "노랑통닭 표선점: entryIframe이 이미 로드됨. 클릭 없이 바로 진행\n",
            "entryIframe 로드.\n",
            "Error while extracting menu/features for 노랑통닭 표선점, div 1:\n",
            "Error while extracting menu/features for 노랑통닭 표선점, div 2:\n"
          ]
        },
        {
          "name": "stderr",
          "output_type": "stream",
          "text": [
            " 80%|███████▉  | 796/999 [4:51:52<1:15:39, 22.36s/it]"
          ]
        },
        {
          "name": "stdout",
          "output_type": "stream",
          "text": [
            "노랑통닭강정점: searchIframe 로드 및 프레임 전환 완료\n",
            "노랑통닭강정점: entryIframe이 이미 로드됨. 클릭 없이 바로 진행\n",
            "entryIframe 로드.\n",
            "Error while extracting datalab information for 노랑통닭강정점:\n",
            "Error while extracting menu/features for 노랑통닭강정점, div 1:\n",
            "Error while extracting menu/features for 노랑통닭강정점, div 2:\n"
          ]
        },
        {
          "name": "stderr",
          "output_type": "stream",
          "text": [
            " 80%|███████▉  | 797/999 [4:52:13<1:14:22, 22.09s/it]"
          ]
        },
        {
          "name": "stdout",
          "output_type": "stream",
          "text": [
            "노랑통닭노형점: searchIframe 로드 및 프레임 전환 완료\n",
            "노랑통닭노형점: 링크버튼을 찾을 수 없음. xpath 대신 다른 방법 시도\n"
          ]
        },
        {
          "name": "stderr",
          "output_type": "stream",
          "text": [
            " 80%|███████▉  | 798/999 [4:52:31<1:09:51, 20.86s/it]"
          ]
        },
        {
          "name": "stdout",
          "output_type": "stream",
          "text": [
            "Failed to load iframe after multiple attempts for 노랑통닭노형점.\n",
            "crawling fatil : 노랑통닭노형점 to fail_to_crawling\n",
            "노랑통닭삼화점: searchIframe 로드 및 프레임 전환 완료\n",
            "노랑통닭삼화점: entryIframe이 이미 로드됨. 클릭 없이 바로 진행\n",
            "entryIframe 로드.\n",
            "Error while extracting menu/features for 노랑통닭삼화점, div 1:\n",
            "Error while extracting menu/features for 노랑통닭삼화점, div 2:\n"
          ]
        },
        {
          "name": "stderr",
          "output_type": "stream",
          "text": [
            " 80%|███████▉  | 799/999 [4:52:53<1:10:39, 21.20s/it]"
          ]
        },
        {
          "name": "stdout",
          "output_type": "stream",
          "text": [
            "노랑통닭시청점: searchIframe 로드 및 프레임 전환 완료\n",
            "노랑통닭시청점: 링크버튼을 찾을 수 없음. xpath 대신 다른 방법 시도\n"
          ]
        },
        {
          "name": "stderr",
          "output_type": "stream",
          "text": [
            " 80%|████████  | 800/999 [4:53:11<1:06:47, 20.14s/it]"
          ]
        },
        {
          "name": "stdout",
          "output_type": "stream",
          "text": [
            "Failed to load iframe after multiple attempts for 노랑통닭시청점.\n",
            "crawling fatil : 노랑통닭시청점 to fail_to_crawling\n",
            "노랑통닭외도점: searchIframe 로드 및 프레임 전환 완료\n",
            "노랑통닭외도점: 링크버튼을 찾을 수 없음. xpath 대신 다른 방법 시도\n"
          ]
        },
        {
          "name": "stderr",
          "output_type": "stream",
          "text": [
            " 80%|████████  | 801/999 [4:53:29<1:04:16, 19.48s/it]"
          ]
        },
        {
          "name": "stdout",
          "output_type": "stream",
          "text": [
            "Failed to load iframe after multiple attempts for 노랑통닭외도점.\n",
            "crawling fatil : 노랑통닭외도점 to fail_to_crawling\n",
            "노랑통닭일도점: searchIframe 로드 및 프레임 전환 완료\n",
            "노랑통닭일도점: entryIframe이 이미 로드됨. 클릭 없이 바로 진행\n",
            "entryIframe 로드.\n",
            "Error while extracting menu/features for 노랑통닭일도점, div 1:\n",
            "Error while extracting menu/features for 노랑통닭일도점, div 2:\n"
          ]
        },
        {
          "name": "stderr",
          "output_type": "stream",
          "text": [
            " 80%|████████  | 802/999 [4:53:50<1:05:41, 20.01s/it]"
          ]
        },
        {
          "name": "stdout",
          "output_type": "stream",
          "text": [
            "노랑해바라기김밥: searchIframe 로드 및 프레임 전환 완료\n",
            "노랑해바라기김밥: entryIframe이 이미 로드됨. 클릭 없이 바로 진행\n",
            "entryIframe 로드.\n",
            "Error while extracting menu/features for 노랑해바라기김밥, div 1:\n",
            "Error while extracting menu/features for 노랑해바라기김밥, div 2:\n"
          ]
        },
        {
          "name": "stderr",
          "output_type": "stream",
          "text": [
            " 80%|████████  | 803/999 [4:54:09<1:04:24, 19.72s/it]"
          ]
        },
        {
          "name": "stdout",
          "output_type": "stream",
          "text": [
            "노러브노라이프: searchIframe 로드 및 프레임 전환 완료\n",
            "노러브노라이프: entryIframe이 이미 로드됨. 클릭 없이 바로 진행\n",
            "entryIframe 로드.\n",
            "Error while extracting menu/features for 노러브노라이프, div 1:\n",
            "Error while extracting menu/features for 노러브노라이프, div 2:\n"
          ]
        },
        {
          "name": "stderr",
          "output_type": "stream",
          "text": [
            " 80%|████████  | 804/999 [4:54:30<1:05:26, 20.14s/it]"
          ]
        },
        {
          "name": "stdout",
          "output_type": "stream",
          "text": [
            "노른자: searchIframe 로드 및 프레임 전환 완료\n",
            "노른자: 첫 번째 가게 클릭 후 전환되지 않음. 다음 가게로 진행\n",
            "entryIframe 로드.\n",
            "Error while extracting menu/features for 노른자, div 1:\n",
            "Error while extracting menu/features for 노른자, div 2:\n"
          ]
        },
        {
          "name": "stderr",
          "output_type": "stream",
          "text": [
            " 81%|████████  | 805/999 [4:54:56<1:10:38, 21.85s/it]"
          ]
        },
        {
          "name": "stdout",
          "output_type": "stream",
          "text": [
            "노른존: searchIframe 로드 및 프레임 전환 완료\n",
            "노른존: entryIframe이 이미 로드됨. 클릭 없이 바로 진행\n",
            "entryIframe 로드.\n",
            "Error while extracting menu/features for 노른존, div 1:\n",
            "Error while extracting menu/features for 노른존, div 2:\n"
          ]
        },
        {
          "name": "stderr",
          "output_type": "stream",
          "text": [
            " 81%|████████  | 806/999 [4:55:17<1:09:42, 21.67s/it]"
          ]
        },
        {
          "name": "stdout",
          "output_type": "stream",
          "text": [
            "노리매: searchIframe 로드 및 프레임 전환 완료\n",
            "노리매: 첫 번째 가게 클릭 후 전환되지 않음. 다음 가게로 진행\n",
            "entryIframe 로드.\n",
            "Error while navigating to reviews for 노리매:\n"
          ]
        },
        {
          "name": "stderr",
          "output_type": "stream",
          "text": [
            " 81%|████████  | 807/999 [4:55:43<1:13:35, 23.00s/it]"
          ]
        },
        {
          "name": "stdout",
          "output_type": "stream",
          "text": [
            "노리터스낵: searchIframe 로드 및 프레임 전환 완료\n",
            "노리터스낵: entryIframe이 이미 로드됨. 클릭 없이 바로 진행\n",
            "entryIframe 로드.\n",
            "Error while extracting menu/features for 노리터스낵, div 1:\n",
            "Error while extracting menu/features for 노리터스낵, div 2:\n"
          ]
        },
        {
          "name": "stderr",
          "output_type": "stream",
          "text": [
            " 81%|████████  | 808/999 [4:56:05<1:11:40, 22.51s/it]"
          ]
        },
        {
          "name": "stdout",
          "output_type": "stream",
          "text": [
            "이미지 추출 오류 4 for 노리터스낵 \n",
            "이미지 추출 오류 5 for 노리터스낵 \n",
            "이미지 추출 오류 6 for 노리터스낵 \n",
            "이미지 추출 오류 7 for 노리터스낵 \n",
            "이미지 추출 오류 8 for 노리터스낵 \n",
            "이미지 추출 오류 9 for 노리터스낵 \n",
            "이미지 추출 오류 10 for 노리터스낵 \n",
            "노마스: searchIframe 로드 및 프레임 전환 완료\n",
            "노마스: 첫 번째 가게 클릭 후 전환되지 않음. 다음 가게로 진행\n",
            "entryIframe 로드.\n",
            "Error while extracting menu/features for 노마스, div 1:\n",
            "Error while extracting menu/features for 노마스, div 2:\n"
          ]
        },
        {
          "name": "stderr",
          "output_type": "stream",
          "text": [
            " 81%|████████  | 809/999 [4:56:32<1:16:24, 24.13s/it]"
          ]
        },
        {
          "name": "stdout",
          "output_type": "stream",
          "text": [
            "노모어블루스: searchIframe 로드 및 프레임 전환 완료\n",
            "노모어블루스: 첫 번째 가게 클릭 후 전환되지 않음. 다음 가게로 진행\n",
            "entryIframe 로드.\n",
            "Error while extracting menu/features for 노모어블루스, div 1:\n"
          ]
        },
        {
          "name": "stderr",
          "output_type": "stream",
          "text": [
            " 81%|████████  | 810/999 [4:56:57<1:15:59, 24.12s/it]"
          ]
        },
        {
          "name": "stdout",
          "output_type": "stream",
          "text": [
            "Error while extracting menu/features for 노모어블루스, div 2:\n",
            " 사진 버튼 없음 : 노모어블루스.\n",
            "노바운더리: searchIframe 로드 및 프레임 전환 완료\n",
            "노바운더리: 첫 번째 가게 클릭 후 전환되지 않음. 다음 가게로 진행\n",
            "entryIframe 로드.\n",
            "Error while extracting datalab information for 노바운더리:\n",
            "Error while navigating to reviews for 노바운더리:\n"
          ]
        },
        {
          "name": "stderr",
          "output_type": "stream",
          "text": [
            " 81%|████████  | 811/999 [4:57:18<1:13:10, 23.35s/it]"
          ]
        },
        {
          "name": "stdout",
          "output_type": "stream",
          "text": [
            "노바운더리카페: searchIframe 로드 및 프레임 전환 완료\n",
            "노바운더리카페: entryIframe이 이미 로드됨. 클릭 없이 바로 진행\n",
            "entryIframe 로드.\n",
            "Error while extracting menu/features for 노바운더리카페, div 1:\n",
            "Error while extracting menu/features for 노바운더리카페, div 2:\n"
          ]
        },
        {
          "name": "stderr",
          "output_type": "stream",
          "text": [
            " 81%|████████▏ | 812/999 [4:57:39<1:10:36, 22.65s/it]"
          ]
        },
        {
          "name": "stdout",
          "output_type": "stream",
          "text": [
            "노을과 어울림 카페: searchIframe 로드 및 프레임 전환 완료\n",
            "노을과 어울림 카페: entryIframe이 이미 로드됨. 클릭 없이 바로 진행\n",
            "entryIframe 로드.\n",
            "Error while navigating to reviews for 노을과 어울림 카페:\n"
          ]
        },
        {
          "name": "stderr",
          "output_type": "stream",
          "text": [
            " 81%|████████▏ | 813/999 [4:57:58<1:06:48, 21.55s/it]"
          ]
        },
        {
          "name": "stdout",
          "output_type": "stream",
          "text": [
            "노을리: searchIframe 로드 및 프레임 전환 완료\n",
            "노을리: 첫 번째 가게 클릭 후 전환되지 않음. 다음 가게로 진행\n",
            "entryIframe 로드.\n",
            "Error while extracting menu/features for 노을리, div 1:\n",
            "Error while extracting menu/features for 노을리, div 2:\n"
          ]
        },
        {
          "name": "stderr",
          "output_type": "stream",
          "text": [
            " 81%|████████▏ | 814/999 [4:58:24<1:10:35, 22.89s/it]"
          ]
        },
        {
          "name": "stdout",
          "output_type": "stream",
          "text": [
            "노을안에풍차: searchIframe 로드 및 프레임 전환 완료\n",
            "노을안에풍차: entryIframe이 이미 로드됨. 클릭 없이 바로 진행\n",
            "entryIframe 로드.\n",
            "Error while extracting menu/features for 노을안에풍차, div 1:\n",
            "Error while extracting menu/features for 노을안에풍차, div 2:\n"
          ]
        },
        {
          "name": "stderr",
          "output_type": "stream",
          "text": [
            " 82%|████████▏ | 815/999 [4:58:44<1:07:03, 21.87s/it]"
          ]
        },
        {
          "name": "stdout",
          "output_type": "stream",
          "text": [
            "노을언덕: searchIframe 로드 및 프레임 전환 완료\n",
            "노을언덕: 첫 번째 가게 클릭 후 전환되지 않음. 다음 가게로 진행\n",
            "entryIframe 로드.\n",
            "Error while extracting menu/features for 노을언덕, div 1:\n",
            "Error while navigating to reviews for 노을언덕:\n"
          ]
        },
        {
          "name": "stderr",
          "output_type": "stream",
          "text": [
            " 82%|████████▏ | 816/999 [4:59:14<1:14:04, 24.29s/it]"
          ]
        },
        {
          "name": "stdout",
          "output_type": "stream",
          "text": [
            "노을코지: searchIframe 로드 및 프레임 전환 완료\n",
            "노을코지: entryIframe이 이미 로드됨. 클릭 없이 바로 진행\n",
            "entryIframe 로드.\n",
            "Error while extracting menu/features for 노을코지, div 1:\n",
            "Error while extracting menu/features for 노을코지, div 2:\n"
          ]
        },
        {
          "name": "stderr",
          "output_type": "stream",
          "text": [
            " 82%|████████▏ | 817/999 [4:59:37<1:13:17, 24.16s/it]"
          ]
        },
        {
          "name": "stdout",
          "output_type": "stream",
          "text": [
            "노을해안1014: searchIframe 로드 및 프레임 전환 완료\n",
            "노을해안1014: entryIframe이 이미 로드됨. 클릭 없이 바로 진행\n",
            "entryIframe 로드.\n",
            "Error while extracting datalab information for 노을해안1014:\n",
            "Error while navigating to reviews for 노을해안1014:\n"
          ]
        },
        {
          "name": "stderr",
          "output_type": "stream",
          "text": [
            " 82%|████████▏ | 818/999 [5:00:00<1:11:55, 23.84s/it]"
          ]
        },
        {
          "name": "stdout",
          "output_type": "stream",
          "text": [
            "노조미: searchIframe 로드 및 프레임 전환 완료\n",
            "노조미: 첫 번째 가게 클릭 후 전환되지 않음. 다음 가게로 진행\n",
            "entryIframe 로드.\n",
            "Error while extracting menu/features for 노조미, div 1:\n"
          ]
        },
        {
          "name": "stderr",
          "output_type": "stream",
          "text": [
            " 82%|████████▏ | 819/999 [5:00:27<1:13:28, 24.49s/it]"
          ]
        },
        {
          "name": "stdout",
          "output_type": "stream",
          "text": [
            "Error while extracting menu/features for 노조미, div 2:\n",
            " 사진 버튼 없음 : 노조미.\n",
            "노팅힐회정식: searchIframe 로드 및 프레임 전환 완료\n",
            "Error while clicking first search result for 노팅힐회정식: Unable to locate list container.\n"
          ]
        },
        {
          "name": "stderr",
          "output_type": "stream",
          "text": [
            " 82%|████████▏ | 820/999 [5:00:47<1:09:25, 23.27s/it]"
          ]
        },
        {
          "name": "stdout",
          "output_type": "stream",
          "text": [
            "Failed to load iframe after multiple attempts for 노팅힐회정식.\n",
            "crawling fatil : 노팅힐회정식 to fail_to_crawling\n",
            "노포갈비: searchIframe 로드 및 프레임 전환 완료\n",
            "노포갈비: 링크버튼을 찾을 수 없음. xpath 대신 다른 방법 시도\n"
          ]
        },
        {
          "name": "stderr",
          "output_type": "stream",
          "text": [
            " 82%|████████▏ | 821/999 [5:01:06<1:05:24, 22.05s/it]"
          ]
        },
        {
          "name": "stdout",
          "output_type": "stream",
          "text": [
            "Failed to load iframe after multiple attempts for 노포갈비.\n",
            "crawling fatil : 노포갈비 to fail_to_crawling\n",
            "노형 봉개족탕 순대: searchIframe 로드 및 프레임 전환 완료\n",
            "노형 봉개족탕 순대: entryIframe이 이미 로드됨. 클릭 없이 바로 진행\n",
            "entryIframe 로드.\n",
            "Error while extracting menu/features for 노형 봉개족탕 순대, div 1:\n",
            "Error while extracting menu/features for 노형 봉개족탕 순대, div 2:\n"
          ]
        },
        {
          "name": "stderr",
          "output_type": "stream",
          "text": [
            " 82%|████████▏ | 822/999 [5:01:28<1:04:39, 21.92s/it]"
          ]
        },
        {
          "name": "stdout",
          "output_type": "stream",
          "text": [
            "노형가맥: searchIframe 로드 및 프레임 전환 완료\n",
            "노형가맥: entryIframe이 이미 로드됨. 클릭 없이 바로 진행\n",
            "entryIframe 로드.\n",
            "Error while extracting menu/features for 노형가맥, div 1:\n",
            "Error while extracting menu/features for 노형가맥, div 2:\n"
          ]
        },
        {
          "name": "stderr",
          "output_type": "stream",
          "text": [
            " 82%|████████▏ | 823/999 [5:01:49<1:03:31, 21.66s/it]"
          ]
        },
        {
          "name": "stdout",
          "output_type": "stream",
          "text": [
            "노형궁전: searchIframe 로드 및 프레임 전환 완료\n",
            "노형궁전: entryIframe이 이미 로드됨. 클릭 없이 바로 진행\n",
            "entryIframe 로드.\n",
            "Error while extracting menu/features for 노형궁전, div 1:\n",
            "Error while extracting menu/features for 노형궁전, div 2:\n"
          ]
        },
        {
          "name": "stderr",
          "output_type": "stream",
          "text": [
            " 82%|████████▏ | 824/999 [5:02:10<1:02:38, 21.48s/it]"
          ]
        },
        {
          "name": "stdout",
          "output_type": "stream",
          "text": [
            "노형그때그집: searchIframe 로드 및 프레임 전환 완료\n",
            "노형그때그집: 첫 번째 가게 클릭 후 전환되지 않음. 다음 가게로 진행\n",
            "entryIframe 로드.\n",
            "Error while extracting menu/features for 노형그때그집, div 1:\n"
          ]
        },
        {
          "name": "stderr",
          "output_type": "stream",
          "text": [
            " 83%|████████▎ | 825/999 [5:02:34<1:04:39, 22.30s/it]"
          ]
        },
        {
          "name": "stdout",
          "output_type": "stream",
          "text": [
            "Error while extracting menu/features for 노형그때그집, div 2:\n",
            " 사진 버튼 없음 : 노형그때그집.\n",
            "노형근고기: searchIframe 로드 및 프레임 전환 완료\n",
            "노형근고기: 링크버튼을 찾을 수 없음. xpath 대신 다른 방법 시도\n"
          ]
        },
        {
          "name": "stderr",
          "output_type": "stream",
          "text": [
            " 83%|████████▎ | 826/999 [5:02:53<1:01:42, 21.40s/it]"
          ]
        },
        {
          "name": "stdout",
          "output_type": "stream",
          "text": [
            "Failed to load iframe after multiple attempts for 노형근고기.\n",
            "crawling fatil : 노형근고기 to fail_to_crawling\n",
            "노형농원: searchIframe 로드 및 프레임 전환 완료\n",
            "노형농원: 첫 번째 가게 클릭 후 전환되지 않음. 다음 가게로 진행\n",
            "entryIframe 로드.\n",
            "Error while extracting menu/features for 노형농원, div 1:\n"
          ]
        },
        {
          "name": "stderr",
          "output_type": "stream",
          "text": [
            " 83%|████████▎ | 827/999 [5:03:17<1:03:18, 22.08s/it]"
          ]
        },
        {
          "name": "stdout",
          "output_type": "stream",
          "text": [
            "Error while extracting menu/features for 노형농원, div 2:\n",
            " 사진 버튼 없음 : 노형농원.\n",
            "노형돈뚜껑: searchIframe 로드 및 프레임 전환 완료\n",
            "노형돈뚜껑: entryIframe이 이미 로드됨. 클릭 없이 바로 진행\n",
            "entryIframe 로드.\n",
            "Error while extracting menu/features for 노형돈뚜껑, div 1:\n",
            "Error while extracting menu/features for 노형돈뚜껑, div 2:\n"
          ]
        },
        {
          "name": "stderr",
          "output_type": "stream",
          "text": [
            " 83%|████████▎ | 828/999 [5:03:38<1:02:23, 21.89s/it]"
          ]
        },
        {
          "name": "stdout",
          "output_type": "stream",
          "text": [
            "노형둘레국수: searchIframe 로드 및 프레임 전환 완료\n",
            "노형둘레국수: entryIframe이 이미 로드됨. 클릭 없이 바로 진행\n",
            "entryIframe 로드.\n",
            "Error while extracting menu/features for 노형둘레국수, div 1:\n",
            "Error while extracting menu/features for 노형둘레국수, div 2:\n"
          ]
        },
        {
          "name": "stderr",
          "output_type": "stream",
          "text": [
            " 83%|████████▎ | 829/999 [5:04:00<1:01:40, 21.77s/it]"
          ]
        },
        {
          "name": "stdout",
          "output_type": "stream",
          "text": [
            "노형막창고을: searchIframe 로드 및 프레임 전환 완료\n",
            "노형막창고을: entryIframe이 이미 로드됨. 클릭 없이 바로 진행\n",
            "entryIframe 로드.\n",
            "Error while extracting menu/features for 노형막창고을, div 1:\n",
            "Error while extracting menu/features for 노형막창고을, div 2:\n"
          ]
        },
        {
          "name": "stderr",
          "output_type": "stream",
          "text": [
            " 83%|████████▎ | 830/999 [5:04:21<1:00:43, 21.56s/it]"
          ]
        },
        {
          "name": "stdout",
          "output_type": "stream",
          "text": [
            "노형바다장어: searchIframe 로드 및 프레임 전환 완료\n",
            "노형바다장어: 첫 번째 가게 클릭 후 전환되지 않음. 다음 가게로 진행\n",
            "entryIframe 로드.\n",
            "Error while extracting menu/features for 노형바다장어, div 1:\n",
            "Error while extracting menu/features for 노형바다장어, div 2:\n"
          ]
        },
        {
          "name": "stderr",
          "output_type": "stream",
          "text": [
            " 83%|████████▎ | 831/999 [5:04:49<1:05:48, 23.50s/it]"
          ]
        },
        {
          "name": "stdout",
          "output_type": "stream",
          "text": [
            "노형분식: searchIframe 로드 및 프레임 전환 완료\n",
            "노형분식: 링크버튼을 찾을 수 없음. xpath 대신 다른 방법 시도\n"
          ]
        },
        {
          "name": "stderr",
          "output_type": "stream",
          "text": [
            " 83%|████████▎ | 832/999 [5:05:08<1:01:51, 22.23s/it]"
          ]
        },
        {
          "name": "stdout",
          "output_type": "stream",
          "text": [
            "Failed to load iframe after multiple attempts for 노형분식.\n",
            "crawling fatil : 노형분식 to fail_to_crawling\n",
            "노형삼다오리: searchIframe 로드 및 프레임 전환 완료\n",
            "노형삼다오리: entryIframe이 이미 로드됨. 클릭 없이 바로 진행\n",
            "entryIframe 로드.\n",
            "Error while extracting menu/features for 노형삼다오리, div 1:\n",
            "Error while extracting menu/features for 노형삼다오리, div 2:\n"
          ]
        },
        {
          "name": "stderr",
          "output_type": "stream",
          "text": [
            " 83%|████████▎ | 833/999 [5:05:27<58:34, 21.17s/it]  "
          ]
        },
        {
          "name": "stdout",
          "output_type": "stream",
          "text": [
            "노형삼조삼계탕: searchIframe 로드 및 프레임 전환 완료\n",
            "노형삼조삼계탕: entryIframe이 이미 로드됨. 클릭 없이 바로 진행\n",
            "entryIframe 로드.\n",
            "Error while extracting menu/features for 노형삼조삼계탕, div 1:\n",
            "Error while navigating to reviews for 노형삼조삼계탕:\n"
          ]
        },
        {
          "name": "stderr",
          "output_type": "stream",
          "text": [
            " 83%|████████▎ | 834/999 [5:05:46<56:27, 20.53s/it]"
          ]
        },
        {
          "name": "stdout",
          "output_type": "stream",
          "text": [
            "노형수산시장: searchIframe 로드 및 프레임 전환 완료\n",
            "노형수산시장: entryIframe이 이미 로드됨. 클릭 없이 바로 진행\n",
            "entryIframe 로드.\n",
            "Error while extracting menu/features for 노형수산시장, div 1:\n",
            "Error while extracting menu/features for 노형수산시장, div 2:\n"
          ]
        },
        {
          "name": "stderr",
          "output_type": "stream",
          "text": [
            " 84%|████████▎ | 835/999 [5:06:07<56:44, 20.76s/it]"
          ]
        },
        {
          "name": "stdout",
          "output_type": "stream",
          "text": [
            "노형순창: searchIframe 로드 및 프레임 전환 완료\n",
            "노형순창: 링크버튼을 찾을 수 없음. xpath 대신 다른 방법 시도\n"
          ]
        },
        {
          "name": "stderr",
          "output_type": "stream",
          "text": [
            " 84%|████████▎ | 836/999 [5:06:25<53:57, 19.86s/it]"
          ]
        },
        {
          "name": "stdout",
          "output_type": "stream",
          "text": [
            "Failed to load iframe after multiple attempts for 노형순창.\n",
            "crawling fatil : 노형순창 to fail_to_crawling\n",
            "노형엔횟집: searchIframe 로드 및 프레임 전환 완료\n",
            "노형엔횟집: entryIframe이 이미 로드됨. 클릭 없이 바로 진행\n",
            "entryIframe 로드.\n",
            "Error while extracting menu/features for 노형엔횟집, div 1:\n",
            "Error while extracting menu/features for 노형엔횟집, div 2:\n"
          ]
        },
        {
          "name": "stderr",
          "output_type": "stream",
          "text": [
            " 84%|████████▍ | 837/999 [5:06:46<54:39, 20.25s/it]"
          ]
        },
        {
          "name": "stdout",
          "output_type": "stream",
          "text": [
            "노형자연산: searchIframe 로드 및 프레임 전환 완료\n",
            "노형자연산: 첫 번째 가게 클릭 후 전환되지 않음. 다음 가게로 진행\n",
            "entryIframe 로드.\n",
            "Error while extracting menu/features for 노형자연산, div 1:\n",
            "Error while extracting menu/features for 노형자연산, div 2:\n"
          ]
        },
        {
          "name": "stderr",
          "output_type": "stream",
          "text": [
            " 84%|████████▍ | 838/999 [5:07:14<1:00:08, 22.42s/it]"
          ]
        },
        {
          "name": "stdout",
          "output_type": "stream",
          "text": [
            "노형집밥: searchIframe 로드 및 프레임 전환 완료\n",
            "노형집밥: 첫 번째 가게 클릭 후 전환되지 않음. 다음 가게로 진행\n",
            "entryIframe 로드.\n",
            "Error while extracting menu/features for 노형집밥, div 1:\n",
            "Error while extracting menu/features for 노형집밥, div 2:\n"
          ]
        },
        {
          "name": "stderr",
          "output_type": "stream",
          "text": [
            " 84%|████████▍ | 839/999 [5:07:40<1:02:47, 23.55s/it]"
          ]
        },
        {
          "name": "stdout",
          "output_type": "stream",
          "text": [
            "노형짚불도: searchIframe 로드 및 프레임 전환 완료\n",
            "Error while clicking first search result for 노형짚불도: Unable to locate list container.\n"
          ]
        },
        {
          "name": "stderr",
          "output_type": "stream",
          "text": [
            " 84%|████████▍ | 840/999 [5:08:00<59:42, 22.53s/it]  "
          ]
        },
        {
          "name": "stdout",
          "output_type": "stream",
          "text": [
            "Failed to load iframe after multiple attempts for 노형짚불도.\n",
            "crawling fatil : 노형짚불도 to fail_to_crawling\n",
            "노형토종닭: searchIframe 로드 및 프레임 전환 완료\n",
            "노형토종닭: 링크버튼을 찾을 수 없음. xpath 대신 다른 방법 시도\n"
          ]
        },
        {
          "name": "stderr",
          "output_type": "stream",
          "text": [
            " 84%|████████▍ | 841/999 [5:08:18<55:46, 21.18s/it]"
          ]
        },
        {
          "name": "stdout",
          "output_type": "stream",
          "text": [
            "Failed to load iframe after multiple attempts for 노형토종닭.\n",
            "crawling fatil : 노형토종닭 to fail_to_crawling\n",
            "노형토종닭미리내: searchIframe 로드 및 프레임 전환 완료\n",
            "노형토종닭미리내: entryIframe이 이미 로드됨. 클릭 없이 바로 진행\n",
            "entryIframe 로드.\n",
            "Error while extracting datalab information for 노형토종닭미리내:\n",
            "Error while extracting menu/features for 노형토종닭미리내, div 1:\n",
            "Error while extracting menu/features for 노형토종닭미리내, div 2:\n"
          ]
        },
        {
          "name": "stderr",
          "output_type": "stream",
          "text": [
            " 84%|████████▍ | 842/999 [5:08:39<55:17, 21.13s/it]"
          ]
        },
        {
          "name": "stdout",
          "output_type": "stream",
          "text": [
            "노형포차: searchIframe 로드 및 프레임 전환 완료\n",
            "노형포차: 링크버튼을 찾을 수 없음. xpath 대신 다른 방법 시도\n"
          ]
        },
        {
          "name": "stderr",
          "output_type": "stream",
          "text": [
            " 84%|████████▍ | 843/999 [5:08:58<53:16, 20.49s/it]"
          ]
        },
        {
          "name": "stdout",
          "output_type": "stream",
          "text": [
            "Failed to load iframe after multiple attempts for 노형포차.\n",
            "crawling fatil : 노형포차 to fail_to_crawling\n",
            "노형한빛식당: searchIframe 로드 및 프레임 전환 완료\n",
            "노형한빛식당: entryIframe이 이미 로드됨. 클릭 없이 바로 진행\n",
            "entryIframe 로드.\n",
            "Error while extracting menu/features for 노형한빛식당, div 1:\n",
            "Error while extracting menu/features for 노형한빛식당, div 2:\n"
          ]
        },
        {
          "name": "stderr",
          "output_type": "stream",
          "text": [
            " 84%|████████▍ | 844/999 [5:09:19<53:23, 20.67s/it]"
          ]
        },
        {
          "name": "stdout",
          "output_type": "stream",
          "text": [
            "노형호수: searchIframe 로드 및 프레임 전환 완료\n",
            "노형호수: 링크버튼을 찾을 수 없음. xpath 대신 다른 방법 시도\n"
          ]
        },
        {
          "name": "stderr",
          "output_type": "stream",
          "text": [
            " 85%|████████▍ | 845/999 [5:09:37<50:54, 19.83s/it]"
          ]
        },
        {
          "name": "stdout",
          "output_type": "stream",
          "text": [
            "Failed to load iframe after multiple attempts for 노형호수.\n",
            "crawling fatil : 노형호수 to fail_to_crawling\n",
            "iframe을 찾을 수 없음 for 녹근로33\n"
          ]
        },
        {
          "name": "stderr",
          "output_type": "stream",
          "text": [
            " 85%|████████▍ | 846/999 [5:09:53<47:43, 18.72s/it]"
          ]
        },
        {
          "name": "stdout",
          "output_type": "stream",
          "text": [
            "Failed to load iframe after multiple attempts for 녹근로33.\n",
            "crawling fatil : 녹근로33 to fail_to_crawling\n",
            "녹나무: searchIframe 로드 및 프레임 전환 완료\n",
            "녹나무: 첫 번째 가게 클릭 후 전환되지 않음. 다음 가게로 진행\n",
            "entryIframe 로드.\n",
            "Error while extracting menu/features for 녹나무, div 1:\n",
            "Error while extracting menu/features for 녹나무, div 2:\n"
          ]
        },
        {
          "name": "stderr",
          "output_type": "stream",
          "text": [
            " 85%|████████▍ | 847/999 [5:10:19<52:59, 20.91s/it]"
          ]
        },
        {
          "name": "stdout",
          "output_type": "stream",
          "text": [
            "녹두네: searchIframe 로드 및 프레임 전환 완료\n",
            "녹두네: 링크버튼을 찾을 수 없음. xpath 대신 다른 방법 시도\n"
          ]
        },
        {
          "name": "stderr",
          "output_type": "stream",
          "text": [
            " 85%|████████▍ | 848/999 [5:10:37<50:16, 19.98s/it]"
          ]
        },
        {
          "name": "stdout",
          "output_type": "stream",
          "text": [
            "Failed to load iframe after multiple attempts for 녹두네.\n",
            "crawling fatil : 녹두네 to fail_to_crawling\n",
            "녹색식당 원동점: searchIframe 로드 및 프레임 전환 완료\n",
            "Error while clicking first search result for 녹색식당 원동점: Unable to locate list container.\n"
          ]
        },
        {
          "name": "stderr",
          "output_type": "stream",
          "text": [
            " 85%|████████▍ | 849/999 [5:10:58<50:29, 20.20s/it]"
          ]
        },
        {
          "name": "stdout",
          "output_type": "stream",
          "text": [
            "Failed to load iframe after multiple attempts for 녹색식당 원동점.\n",
            "crawling fatil : 녹색식당 원동점 to fail_to_crawling\n",
            "녹색집: searchIframe 로드 및 프레임 전환 완료\n",
            "녹색집: 첫 번째 가게 클릭 후 전환되지 않음. 다음 가게로 진행\n",
            "entryIframe 로드.\n",
            "Error while extracting menu/features for 녹색집, div 1:\n",
            "Error while extracting menu/features for 녹색집, div 2:\n"
          ]
        },
        {
          "name": "stderr",
          "output_type": "stream",
          "text": [
            " 85%|████████▌ | 850/999 [5:11:26<56:25, 22.72s/it]"
          ]
        },
        {
          "name": "stdout",
          "output_type": "stream",
          "text": [
            "녹원전통찻집: searchIframe 로드 및 프레임 전환 완료\n",
            "녹원전통찻집: 첫 번째 가게 클릭 후 전환되지 않음. 다음 가게로 진행\n",
            "entryIframe 로드.\n",
            "Error while extracting menu/features for 녹원전통찻집, div 1:\n",
            "Error while extracting menu/features for 녹원전통찻집, div 2:\n"
          ]
        },
        {
          "name": "stderr",
          "output_type": "stream",
          "text": [
            " 85%|████████▌ | 851/999 [5:11:54<59:49, 24.25s/it]"
          ]
        },
        {
          "name": "stdout",
          "output_type": "stream",
          "text": [
            "녹차골정식: searchIframe 로드 및 프레임 전환 완료\n",
            "녹차골정식: entryIframe이 이미 로드됨. 클릭 없이 바로 진행\n",
            "entryIframe 로드.\n",
            "Error while extracting menu/features for 녹차골정식, div 1:\n",
            "Error while extracting menu/features for 녹차골정식, div 2:\n"
          ]
        },
        {
          "name": "stderr",
          "output_type": "stream",
          "text": [
            " 85%|████████▌ | 852/999 [5:12:15<57:03, 23.29s/it]"
          ]
        },
        {
          "name": "stdout",
          "output_type": "stream",
          "text": [
            "논지물횟집: searchIframe 로드 및 프레임 전환 완료\n",
            "논지물횟집: entryIframe이 이미 로드됨. 클릭 없이 바로 진행\n",
            "entryIframe 로드.\n",
            "Error while extracting menu/features for 논지물횟집, div 1:\n",
            "Error while extracting menu/features for 논지물횟집, div 2:\n"
          ]
        },
        {
          "name": "stderr",
          "output_type": "stream",
          "text": [
            " 85%|████████▌ | 853/999 [5:12:34<53:41, 22.06s/it]"
          ]
        },
        {
          "name": "stdout",
          "output_type": "stream",
          "text": [
            "논짓물: searchIframe 로드 및 프레임 전환 완료\n",
            "논짓물: 첫 번째 가게 클릭 후 전환되지 않음. 다음 가게로 진행\n",
            "entryIframe 로드.\n",
            "Error while navigating to reviews for 논짓물:\n"
          ]
        },
        {
          "name": "stderr",
          "output_type": "stream",
          "text": [
            " 85%|████████▌ | 854/999 [5:13:02<57:20, 23.73s/it]"
          ]
        },
        {
          "name": "stdout",
          "output_type": "stream",
          "text": [
            "논짓물계절음식점: searchIframe 로드 및 프레임 전환 완료\n",
            "Error while clicking first search result for 논짓물계절음식점: Unable to locate list container.\n"
          ]
        },
        {
          "name": "stderr",
          "output_type": "stream",
          "text": [
            " 86%|████████▌ | 855/999 [5:13:23<54:58, 22.91s/it]"
          ]
        },
        {
          "name": "stdout",
          "output_type": "stream",
          "text": [
            "Failed to load iframe after multiple attempts for 논짓물계절음식점.\n",
            "crawling fatil : 논짓물계절음식점 to fail_to_crawling\n",
            "논짓물식당: searchIframe 로드 및 프레임 전환 완료\n",
            "논짓물식당: 링크버튼을 찾을 수 없음. xpath 대신 다른 방법 시도\n"
          ]
        },
        {
          "name": "stderr",
          "output_type": "stream",
          "text": [
            " 86%|████████▌ | 856/999 [5:13:41<51:08, 21.46s/it]"
          ]
        },
        {
          "name": "stdout",
          "output_type": "stream",
          "text": [
            "Failed to load iframe after multiple attempts for 논짓물식당.\n",
            "crawling fatil : 논짓물식당 to fail_to_crawling\n",
            "논짓물힐링카페: searchIframe 로드 및 프레임 전환 완료\n",
            "논짓물힐링카페: entryIframe이 이미 로드됨. 클릭 없이 바로 진행\n",
            "entryIframe 로드.\n"
          ]
        },
        {
          "name": "stderr",
          "output_type": "stream",
          "text": [
            " 86%|████████▌ | 857/999 [5:13:58<47:36, 20.12s/it]"
          ]
        },
        {
          "name": "stdout",
          "output_type": "stream",
          "text": [
            "Error while navigating to reviews for 논짓물힐링카페:\n",
            " 사진 버튼 없음 : 논짓물힐링카페.\n",
            "놀놀카페: searchIframe 로드 및 프레임 전환 완료\n",
            "놀놀카페: entryIframe이 이미 로드됨. 클릭 없이 바로 진행\n",
            "entryIframe 로드.\n",
            "Error while extracting menu/features for 놀놀카페, div 1:\n",
            "Error while extracting menu/features for 놀놀카페, div 2:\n"
          ]
        },
        {
          "name": "stderr",
          "output_type": "stream",
          "text": [
            " 86%|████████▌ | 858/999 [5:14:20<48:15, 20.53s/it]"
          ]
        },
        {
          "name": "stdout",
          "output_type": "stream",
          "text": [
            "놀놀플레이그라운드카페: searchIframe 로드 및 프레임 전환 완료\n",
            "놀놀플레이그라운드카페: entryIframe이 이미 로드됨. 클릭 없이 바로 진행\n",
            "entryIframe 로드.\n",
            "Error while extracting menu/features for 놀놀플레이그라운드카페, div 1:\n",
            "Error while extracting menu/features for 놀놀플레이그라운드카페, div 2:\n"
          ]
        },
        {
          "name": "stderr",
          "output_type": "stream",
          "text": [
            " 86%|████████▌ | 859/999 [5:14:41<48:30, 20.79s/it]"
          ]
        },
        {
          "name": "stdout",
          "output_type": "stream",
          "text": [
            "놀맨: searchIframe 로드 및 프레임 전환 완료\n",
            "놀맨: 첫 번째 가게 클릭 후 전환되지 않음. 다음 가게로 진행\n",
            "entryIframe 로드.\n",
            "Error while extracting menu/features for 놀맨, div 1:\n",
            "Error while extracting menu/features for 놀맨, div 2:\n"
          ]
        },
        {
          "name": "stderr",
          "output_type": "stream",
          "text": [
            " 86%|████████▌ | 860/999 [5:15:07<52:02, 22.47s/it]"
          ]
        },
        {
          "name": "stdout",
          "output_type": "stream",
          "text": [
            "놀부네: searchIframe 로드 및 프레임 전환 완료\n",
            "놀부네: 첫 번째 가게 클릭 후 전환되지 않음. 다음 가게로 진행\n",
            "entryIframe 로드.\n",
            "Error while extracting menu/features for 놀부네, div 1:\n",
            "Error while extracting menu/features for 놀부네, div 2:\n"
          ]
        },
        {
          "name": "stderr",
          "output_type": "stream",
          "text": [
            " 86%|████████▌ | 861/999 [5:15:35<55:30, 24.14s/it]"
          ]
        },
        {
          "name": "stdout",
          "output_type": "stream",
          "text": [
            "놀이터식당: searchIframe 로드 및 프레임 전환 완료\n",
            "놀이터식당: 링크버튼을 찾을 수 없음. xpath 대신 다른 방법 시도\n"
          ]
        },
        {
          "name": "stderr",
          "output_type": "stream",
          "text": [
            " 86%|████████▋ | 862/999 [5:15:53<50:39, 22.19s/it]"
          ]
        },
        {
          "name": "stdout",
          "output_type": "stream",
          "text": [
            "Failed to load iframe after multiple attempts for 놀이터식당.\n",
            "crawling fatil : 놀이터식당 to fail_to_crawling\n",
            "놈놈놈막창과17청춘: searchIframe 로드 및 프레임 전환 완료\n",
            "Error while clicking first search result for 놈놈놈막창과17청춘: Unable to locate list container.\n"
          ]
        },
        {
          "name": "stderr",
          "output_type": "stream",
          "text": [
            " 86%|████████▋ | 863/999 [5:16:14<49:09, 21.69s/it]"
          ]
        },
        {
          "name": "stdout",
          "output_type": "stream",
          "text": [
            "Failed to load iframe after multiple attempts for 놈놈놈막창과17청춘.\n",
            "crawling fatil : 놈놈놈막창과17청춘 to fail_to_crawling\n",
            "놈놈놈막창표선점: searchIframe 로드 및 프레임 전환 완료\n",
            "놈놈놈막창표선점: entryIframe이 이미 로드됨. 클릭 없이 바로 진행\n",
            "entryIframe 로드.\n",
            "Error while extracting menu/features for 놈놈놈막창표선점, div 1:\n",
            "Error while navigating to reviews for 놈놈놈막창표선점:\n"
          ]
        },
        {
          "name": "stderr",
          "output_type": "stream",
          "text": [
            " 86%|████████▋ | 864/999 [5:16:35<48:33, 21.58s/it]"
          ]
        },
        {
          "name": "stdout",
          "output_type": "stream",
          "text": [
            "놈삐뼈국: searchIframe 로드 및 프레임 전환 완료\n",
            "놈삐뼈국: entryIframe이 이미 로드됨. 클릭 없이 바로 진행\n",
            "entryIframe 로드.\n",
            "Error while extracting menu/features for 놈삐뼈국, div 1:\n",
            "Error while extracting menu/features for 놈삐뼈국, div 2:\n"
          ]
        },
        {
          "name": "stderr",
          "output_type": "stream",
          "text": [
            " 87%|████████▋ | 865/999 [5:16:56<48:05, 21.53s/it]"
          ]
        },
        {
          "name": "stdout",
          "output_type": "stream",
          "text": [
            "농공단지올레식당: searchIframe 로드 및 프레임 전환 완료\n",
            "농공단지올레식당: entryIframe이 이미 로드됨. 클릭 없이 바로 진행\n",
            "entryIframe 로드.\n",
            "Error while extracting datalab information for 농공단지올레식당:\n",
            "Error while navigating to reviews for 농공단지올레식당:\n"
          ]
        },
        {
          "name": "stderr",
          "output_type": "stream",
          "text": [
            " 87%|████████▋ | 866/999 [5:17:17<47:19, 21.35s/it]"
          ]
        },
        {
          "name": "stdout",
          "output_type": "stream",
          "text": [
            "농부밥상: searchIframe 로드 및 프레임 전환 완료\n",
            "농부밥상: 링크버튼을 찾을 수 없음. xpath 대신 다른 방법 시도\n"
          ]
        },
        {
          "name": "stderr",
          "output_type": "stream",
          "text": [
            " 87%|████████▋ | 867/999 [5:17:36<45:02, 20.48s/it]"
          ]
        },
        {
          "name": "stdout",
          "output_type": "stream",
          "text": [
            "Failed to load iframe after multiple attempts for 농부밥상.\n",
            "crawling fatil : 농부밥상 to fail_to_crawling\n",
            "농부와꽃돼지: searchIframe 로드 및 프레임 전환 완료\n",
            "농부와꽃돼지: entryIframe이 이미 로드됨. 클릭 없이 바로 진행\n",
            "entryIframe 로드.\n",
            "Error while extracting datalab information for 농부와꽃돼지:\n",
            "Error while extracting menu/features for 농부와꽃돼지, div 1:\n",
            "Error while extracting menu/features for 농부와꽃돼지, div 2:\n"
          ]
        },
        {
          "name": "stderr",
          "output_type": "stream",
          "text": [
            " 87%|████████▋ | 868/999 [5:17:57<45:11, 20.70s/it]"
          ]
        },
        {
          "name": "stdout",
          "output_type": "stream",
          "text": [
            "농부와돌집: searchIframe 로드 및 프레임 전환 완료\n",
            "농부와돌집: 첫 번째 가게 클릭 후 전환되지 않음. 다음 가게로 진행\n",
            "entryIframe 로드.\n",
            "Error while extracting menu/features for 농부와돌집, div 1:\n",
            "Error while extracting menu/features for 농부와돌집, div 2:\n"
          ]
        },
        {
          "name": "stderr",
          "output_type": "stream",
          "text": [
            " 87%|████████▋ | 869/999 [5:18:23<48:18, 22.29s/it]"
          ]
        },
        {
          "name": "stdout",
          "output_type": "stream",
          "text": [
            "농부파스타집: searchIframe 로드 및 프레임 전환 완료\n",
            "농부파스타집: 첫 번째 가게 클릭 후 전환되지 않음. 다음 가게로 진행\n",
            "entryIframe 로드.\n",
            "Error while extracting menu/features for 농부파스타집, div 1:\n"
          ]
        },
        {
          "name": "stderr",
          "output_type": "stream",
          "text": [
            " 87%|████████▋ | 870/999 [5:18:45<47:51, 22.26s/it]"
          ]
        },
        {
          "name": "stdout",
          "output_type": "stream",
          "text": [
            "Error while extracting menu/features for 농부파스타집, div 2:\n",
            " 사진 버튼 없음 : 농부파스타집.\n",
            "iframe을 찾을 수 없음 for 농업회사 법인 주식회사 백록 /백록횟집\n"
          ]
        },
        {
          "name": "stderr",
          "output_type": "stream",
          "text": [
            " 87%|████████▋ | 871/999 [5:19:01<43:33, 20.41s/it]"
          ]
        },
        {
          "name": "stdout",
          "output_type": "stream",
          "text": [
            "Failed to load iframe after multiple attempts for 농업회사 법인 주식회사 백록 /백록횟집.\n",
            "crawling fatil : 농업회사 법인 주식회사 백록 /백록횟집 to fail_to_crawling\n",
            "농업회사법인 유한회사 순대고을: searchIframe 로드 및 프레임 전환 완료\n",
            "Error while clicking first search result for 농업회사법인 유한회사 순대고을: Unable to locate list container.\n"
          ]
        },
        {
          "name": "stderr",
          "output_type": "stream",
          "text": [
            " 87%|████████▋ | 872/999 [5:19:22<43:20, 20.48s/it]"
          ]
        },
        {
          "name": "stdout",
          "output_type": "stream",
          "text": [
            "Failed to load iframe after multiple attempts for 농업회사법인 유한회사 순대고을.\n",
            "crawling fatil : 농업회사법인 유한회사 순대고을 to fail_to_crawling\n",
            "높은물정식: searchIframe 로드 및 프레임 전환 완료\n",
            "Error while clicking first search result for 높은물정식: Unable to locate list container.\n"
          ]
        },
        {
          "name": "stderr",
          "output_type": "stream",
          "text": [
            " 87%|████████▋ | 873/999 [5:19:43<43:13, 20.58s/it]"
          ]
        },
        {
          "name": "stdout",
          "output_type": "stream",
          "text": [
            "Failed to load iframe after multiple attempts for 높은물정식.\n",
            "crawling fatil : 높은물정식 to fail_to_crawling\n",
            "누구나 홀딱 반한닭 강정점: searchIframe 로드 및 프레임 전환 완료\n",
            "누구나 홀딱 반한닭 강정점: entryIframe이 이미 로드됨. 클릭 없이 바로 진행\n",
            "entryIframe 로드.\n"
          ]
        },
        {
          "name": "stderr",
          "output_type": "stream",
          "text": [
            " 87%|████████▋ | 874/999 [5:19:53<36:24, 17.48s/it]"
          ]
        },
        {
          "name": "stdout",
          "output_type": "stream",
          "text": [
            "Error while navigating to reviews for 누구나 홀딱 반한닭 강정점:\n",
            " 사진 버튼 없음 : 누구나 홀딱 반한닭 강정점.\n",
            "누구나홀딱반한닭: searchIframe 로드 및 프레임 전환 완료\n",
            "누구나홀딱반한닭: 링크버튼을 찾을 수 없음. xpath 대신 다른 방법 시도\n"
          ]
        },
        {
          "name": "stderr",
          "output_type": "stream",
          "text": [
            " 88%|████████▊ | 875/999 [5:20:12<37:16, 18.04s/it]"
          ]
        },
        {
          "name": "stdout",
          "output_type": "stream",
          "text": [
            "Failed to load iframe after multiple attempts for 누구나홀딱반한닭.\n",
            "crawling fatil : 누구나홀딱반한닭 to fail_to_crawling\n",
            "누구나홀딱반한닭 아라점: searchIframe 로드 및 프레임 전환 완료\n",
            "Error while clicking first search result for 누구나홀딱반한닭 아라점: Unable to locate list container.\n"
          ]
        },
        {
          "name": "stderr",
          "output_type": "stream",
          "text": [
            " 88%|████████▊ | 876/999 [5:20:33<38:54, 18.98s/it]"
          ]
        },
        {
          "name": "stdout",
          "output_type": "stream",
          "text": [
            "Failed to load iframe after multiple attempts for 누구나홀딱반한닭 아라점.\n",
            "crawling fatil : 누구나홀딱반한닭 아라점 to fail_to_crawling\n",
            "누구나홀딱반한닭 제주남원점: searchIframe 로드 및 프레임 전환 완료\n",
            "누구나홀딱반한닭 제주남원점: entryIframe이 이미 로드됨. 클릭 없이 바로 진행\n",
            "entryIframe 로드.\n",
            "Error while extracting datalab information for 누구나홀딱반한닭 제주남원점:\n",
            "Error while extracting menu/features for 누구나홀딱반한닭 제주남원점, div 1:\n",
            "Error while extracting menu/features for 누구나홀딱반한닭 제주남원점, div 2:\n"
          ]
        },
        {
          "name": "stderr",
          "output_type": "stream",
          "text": [
            " 88%|████████▊ | 877/999 [5:20:57<41:08, 20.23s/it]"
          ]
        },
        {
          "name": "stdout",
          "output_type": "stream",
          "text": [
            "누구나홀딱반한닭강정점: searchIframe 로드 및 프레임 전환 완료\n",
            "누구나홀딱반한닭강정점: entryIframe이 이미 로드됨. 클릭 없이 바로 진행\n",
            "entryIframe 로드.\n"
          ]
        },
        {
          "name": "stderr",
          "output_type": "stream",
          "text": [
            " 88%|████████▊ | 878/999 [5:21:07<34:47, 17.25s/it]"
          ]
        },
        {
          "name": "stdout",
          "output_type": "stream",
          "text": [
            "Error while navigating to reviews for 누구나홀딱반한닭강정점:\n",
            " 사진 버튼 없음 : 누구나홀딱반한닭강정점.\n",
            "누구나홀딱반한닭동홍점: searchIframe 로드 및 프레임 전환 완료\n",
            "누구나홀딱반한닭동홍점: entryIframe이 이미 로드됨. 클릭 없이 바로 진행\n",
            "entryIframe 로드.\n",
            "Error while extracting menu/features for 누구나홀딱반한닭동홍점, div 1:\n",
            "Error while extracting menu/features for 누구나홀딱반한닭동홍점, div 2:\n"
          ]
        },
        {
          "name": "stderr",
          "output_type": "stream",
          "text": [
            " 88%|████████▊ | 879/999 [5:21:30<37:56, 18.97s/it]"
          ]
        },
        {
          "name": "stdout",
          "output_type": "stream",
          "text": [
            "누구나홀딱반한닭제주성산점: searchIframe 로드 및 프레임 전환 완료\n",
            "누구나홀딱반한닭제주성산점: entryIframe이 이미 로드됨. 클릭 없이 바로 진행\n",
            "entryIframe 로드.\n",
            "Error while extracting menu/features for 누구나홀딱반한닭제주성산점, div 1:\n",
            "Error while extracting menu/features for 누구나홀딱반한닭제주성산점, div 2:\n"
          ]
        },
        {
          "name": "stderr",
          "output_type": "stream",
          "text": [
            " 88%|████████▊ | 880/999 [5:21:53<40:09, 20.25s/it]"
          ]
        },
        {
          "name": "stdout",
          "output_type": "stream",
          "text": [
            "누구나홀딱반한닭제주외도점: searchIframe 로드 및 프레임 전환 완료\n",
            "누구나홀딱반한닭제주외도점: entryIframe이 이미 로드됨. 클릭 없이 바로 진행\n",
            "entryIframe 로드.\n",
            "Error while extracting menu/features for 누구나홀딱반한닭제주외도점, div 1:\n",
            "Error while extracting menu/features for 누구나홀딱반한닭제주외도점, div 2:\n"
          ]
        },
        {
          "name": "stderr",
          "output_type": "stream",
          "text": [
            " 88%|████████▊ | 881/999 [5:22:16<41:37, 21.16s/it]"
          ]
        },
        {
          "name": "stdout",
          "output_type": "stream",
          "text": [
            "누나네: searchIframe 로드 및 프레임 전환 완료\n",
            "누나네: 링크버튼을 찾을 수 없음. xpath 대신 다른 방법 시도\n"
          ]
        },
        {
          "name": "stderr",
          "output_type": "stream",
          "text": [
            " 88%|████████▊ | 882/999 [5:22:34<39:27, 20.24s/it]"
          ]
        },
        {
          "name": "stdout",
          "output_type": "stream",
          "text": [
            "Failed to load iframe after multiple attempts for 누나네.\n",
            "crawling fatil : 누나네 to fail_to_crawling\n",
            "누나홀닭함덕점: searchIframe 로드 및 프레임 전환 완료\n",
            "누나홀닭함덕점: 링크버튼을 찾을 수 없음. xpath 대신 다른 방법 시도\n"
          ]
        },
        {
          "name": "stderr",
          "output_type": "stream",
          "text": [
            " 88%|████████▊ | 883/999 [5:22:52<37:39, 19.48s/it]"
          ]
        },
        {
          "name": "stdout",
          "output_type": "stream",
          "text": [
            "Failed to load iframe after multiple attempts for 누나홀닭함덕점.\n",
            "crawling fatil : 누나홀닭함덕점 to fail_to_crawling\n",
            "누룩대통령: searchIframe 로드 및 프레임 전환 완료\n",
            "누룩대통령: entryIframe이 이미 로드됨. 클릭 없이 바로 진행\n",
            "entryIframe 로드.\n",
            "Error while extracting menu/features for 누룩대통령, div 1:\n",
            "Error while extracting menu/features for 누룩대통령, div 2:\n"
          ]
        },
        {
          "name": "stderr",
          "output_type": "stream",
          "text": [
            " 88%|████████▊ | 884/999 [5:23:14<38:30, 20.09s/it]"
          ]
        },
        {
          "name": "stdout",
          "output_type": "stream",
          "text": [
            "누룽도원: searchIframe 로드 및 프레임 전환 완료\n",
            "누룽도원: 첫 번째 가게 클릭 후 전환되지 않음. 다음 가게로 진행\n",
            "entryIframe 로드.\n",
            "Error while extracting menu/features for 누룽도원, div 1:\n",
            "Error while extracting menu/features for 누룽도원, div 2:\n"
          ]
        },
        {
          "name": "stderr",
          "output_type": "stream",
          "text": [
            " 89%|████████▊ | 885/999 [5:23:40<41:35, 21.89s/it]"
          ]
        },
        {
          "name": "stdout",
          "output_type": "stream",
          "text": [
            "누룽지: searchIframe 로드 및 프레임 전환 완료\n",
            "누룽지: 링크버튼을 찾을 수 없음. xpath 대신 다른 방법 시도\n"
          ]
        },
        {
          "name": "stderr",
          "output_type": "stream",
          "text": [
            " 89%|████████▊ | 886/999 [5:23:58<39:20, 20.89s/it]"
          ]
        },
        {
          "name": "stdout",
          "output_type": "stream",
          "text": [
            "Failed to load iframe after multiple attempts for 누룽지.\n",
            "crawling fatil : 누룽지 to fail_to_crawling\n",
            "누룽지식당: searchIframe 로드 및 프레임 전환 완료\n",
            "누룽지식당: 첫 번째 가게 클릭 후 전환되지 않음. 다음 가게로 진행\n",
            "entryIframe 로드.\n",
            "Error while extracting menu/features for 누룽지식당, div 1:\n"
          ]
        },
        {
          "name": "stderr",
          "output_type": "stream",
          "text": [
            " 89%|████████▉ | 887/999 [5:24:22<40:49, 21.87s/it]"
          ]
        },
        {
          "name": "stdout",
          "output_type": "stream",
          "text": [
            "Error while extracting menu/features for 누룽지식당, div 2:\n",
            " 사진 버튼 없음 : 누룽지식당.\n",
            "누리마씸: searchIframe 로드 및 프레임 전환 완료\n",
            "누리마씸: entryIframe이 이미 로드됨. 클릭 없이 바로 진행\n",
            "entryIframe 로드.\n",
            "Error while extracting datalab information for 누리마씸:\n",
            "Error while navigating to reviews for 누리마씸:\n"
          ]
        },
        {
          "name": "stderr",
          "output_type": "stream",
          "text": [
            " 89%|████████▉ | 888/999 [5:24:44<40:00, 21.63s/it]"
          ]
        },
        {
          "name": "stdout",
          "output_type": "stream",
          "text": [
            "이미지 추출 오류 5 for 누리마씸 \n",
            "이미지 추출 오류 6 for 누리마씸 \n",
            "이미지 추출 오류 7 for 누리마씸 \n",
            "이미지 추출 오류 8 for 누리마씸 \n",
            "이미지 추출 오류 9 for 누리마씸 \n",
            "이미지 추출 오류 10 for 누리마씸 \n",
            "누리해장국: searchIframe 로드 및 프레임 전환 완료\n",
            "누리해장국: 첫 번째 가게 클릭 후 전환되지 않음. 다음 가게로 진행\n",
            "entryIframe 로드.\n",
            "Error while extracting menu/features for 누리해장국, div 1:\n",
            "Error while extracting menu/features for 누리해장국, div 2:\n"
          ]
        },
        {
          "name": "stderr",
          "output_type": "stream",
          "text": [
            " 89%|████████▉ | 889/999 [5:25:14<44:22, 24.21s/it]"
          ]
        },
        {
          "name": "stdout",
          "output_type": "stream",
          "text": [
            "누바비치: searchIframe 로드 및 프레임 전환 완료\n",
            "누바비치: entryIframe이 이미 로드됨. 클릭 없이 바로 진행\n",
            "entryIframe 로드.\n",
            "Error while extracting menu/features for 누바비치, div 1:\n",
            "Error while extracting menu/features for 누바비치, div 2:\n"
          ]
        },
        {
          "name": "stderr",
          "output_type": "stream",
          "text": [
            " 89%|████████▉ | 890/999 [5:25:35<42:37, 23.46s/it]"
          ]
        },
        {
          "name": "stdout",
          "output_type": "stream",
          "text": [
            "누베커피(nube coffee): searchIframe 로드 및 프레임 전환 완료\n",
            "누베커피(nube coffee): entryIframe이 이미 로드됨. 클릭 없이 바로 진행\n",
            "entryIframe 로드.\n",
            "Error while extracting menu/features for 누베커피(nube coffee), div 1:\n",
            "Error while extracting menu/features for 누베커피(nube coffee), div 2:\n"
          ]
        },
        {
          "name": "stderr",
          "output_type": "stream",
          "text": [
            " 89%|████████▉ | 891/999 [5:25:57<41:13, 22.90s/it]"
          ]
        },
        {
          "name": "stdout",
          "output_type": "stream",
          "text": [
            "누옥: searchIframe 로드 및 프레임 전환 완료\n",
            "누옥: entryIframe이 이미 로드됨. 클릭 없이 바로 진행\n",
            "entryIframe 로드.\n",
            "Error while extracting menu/features for 누옥, div 1:\n"
          ]
        },
        {
          "name": "stderr",
          "output_type": "stream",
          "text": [
            " 89%|████████▉ | 892/999 [5:26:16<38:53, 21.81s/it]"
          ]
        },
        {
          "name": "stdout",
          "output_type": "stream",
          "text": [
            "Error while extracting menu/features for 누옥, div 2:\n",
            " 사진 버튼 없음 : 누옥.\n",
            "누이밥집: searchIframe 로드 및 프레임 전환 완료\n",
            "누이밥집: 첫 번째 가게 클릭 후 전환되지 않음. 다음 가게로 진행\n",
            "entryIframe 로드.\n",
            "Error while extracting menu/features for 누이밥집, div 1:\n",
            "Error while extracting menu/features for 누이밥집, div 2:\n"
          ]
        },
        {
          "name": "stderr",
          "output_type": "stream",
          "text": [
            " 89%|████████▉ | 893/999 [5:26:42<40:40, 23.02s/it]"
          ]
        },
        {
          "name": "stdout",
          "output_type": "stream",
          "text": [
            "눅애월: searchIframe 로드 및 프레임 전환 완료\n",
            "눅애월: entryIframe이 이미 로드됨. 클릭 없이 바로 진행\n",
            "entryIframe 로드.\n",
            "Error while extracting menu/features for 눅애월, div 1:\n",
            "Error while extracting menu/features for 눅애월, div 2:\n"
          ]
        },
        {
          "name": "stderr",
          "output_type": "stream",
          "text": [
            " 89%|████████▉ | 894/999 [5:27:03<39:00, 22.29s/it]"
          ]
        },
        {
          "name": "stdout",
          "output_type": "stream",
          "text": [
            "뉴남원분식: searchIframe 로드 및 프레임 전환 완료\n",
            "뉴남원분식: entryIframe이 이미 로드됨. 클릭 없이 바로 진행\n",
            "entryIframe 로드.\n",
            "Error while extracting menu/features for 뉴남원분식, div 1:\n",
            "Error while extracting menu/features for 뉴남원분식, div 2:\n"
          ]
        },
        {
          "name": "stderr",
          "output_type": "stream",
          "text": [
            " 90%|████████▉ | 895/999 [5:27:22<37:00, 21.35s/it]"
          ]
        },
        {
          "name": "stdout",
          "output_type": "stream",
          "text": [
            "뉴욕뉴욕: searchIframe 로드 및 프레임 전환 완료\n",
            "뉴욕뉴욕: 첫 번째 가게 클릭 후 전환되지 않음. 다음 가게로 진행\n",
            "entryIframe 로드.\n",
            "Error while extracting menu/features for 뉴욕뉴욕, div 1:\n",
            "Error while extracting menu/features for 뉴욕뉴욕, div 2:\n"
          ]
        },
        {
          "name": "stderr",
          "output_type": "stream",
          "text": [
            " 90%|████████▉ | 896/999 [5:27:50<40:14, 23.44s/it]"
          ]
        },
        {
          "name": "stdout",
          "output_type": "stream",
          "text": [
            "뉴저지김밥천국: searchIframe 로드 및 프레임 전환 완료\n",
            "뉴저지김밥천국: entryIframe이 이미 로드됨. 클릭 없이 바로 진행\n",
            "entryIframe 로드.\n",
            "Error while extracting menu/features for 뉴저지김밥천국, div 1:\n",
            "Error while extracting menu/features for 뉴저지김밥천국, div 2:\n"
          ]
        },
        {
          "name": "stderr",
          "output_type": "stream",
          "text": [
            " 90%|████████▉ | 897/999 [5:28:11<38:40, 22.75s/it]"
          ]
        },
        {
          "name": "stdout",
          "output_type": "stream",
          "text": [
            "뉴저지카페: searchIframe 로드 및 프레임 전환 완료\n",
            "Error while clicking first search result for 뉴저지카페: Unable to locate list container.\n"
          ]
        },
        {
          "name": "stderr",
          "output_type": "stream",
          "text": [
            " 90%|████████▉ | 898/999 [5:28:32<37:25, 22.23s/it]"
          ]
        },
        {
          "name": "stdout",
          "output_type": "stream",
          "text": [
            "Failed to load iframe after multiple attempts for 뉴저지카페.\n",
            "crawling fatil : 뉴저지카페 to fail_to_crawling\n",
            "느랑: searchIframe 로드 및 프레임 전환 완료\n",
            "느랑: 첫 번째 가게 클릭 후 전환되지 않음. 다음 가게로 진행\n",
            "entryIframe 로드.\n",
            "Error while extracting datalab information for 느랑:\n",
            "Error while navigating to reviews for 느랑:\n"
          ]
        },
        {
          "name": "stderr",
          "output_type": "stream",
          "text": [
            " 90%|████████▉ | 899/999 [5:28:58<38:37, 23.18s/it]"
          ]
        },
        {
          "name": "stdout",
          "output_type": "stream",
          "text": [
            "느루온: searchIframe 로드 및 프레임 전환 완료\n",
            "느루온: 첫 번째 가게 클릭 후 전환되지 않음. 다음 가게로 진행\n",
            "entryIframe 로드.\n",
            "Error while extracting menu/features for 느루온, div 1:\n",
            "Error while extracting menu/features for 느루온, div 2:\n"
          ]
        },
        {
          "name": "stderr",
          "output_type": "stream",
          "text": [
            " 90%|█████████ | 900/999 [5:29:24<39:44, 24.09s/it]"
          ]
        },
        {
          "name": "stdout",
          "output_type": "stream",
          "text": [
            "느린마을양조장 제주시청점: searchIframe 로드 및 프레임 전환 완료\n",
            "느린마을양조장 제주시청점: 링크버튼을 찾을 수 없음. xpath 대신 다른 방법 시도\n"
          ]
        },
        {
          "name": "stderr",
          "output_type": "stream",
          "text": [
            " 90%|█████████ | 901/999 [5:29:41<36:04, 22.09s/it]"
          ]
        },
        {
          "name": "stdout",
          "output_type": "stream",
          "text": [
            "Failed to load iframe after multiple attempts for 느린마을양조장 제주시청점.\n",
            "crawling fatil : 느린마을양조장 제주시청점 to fail_to_crawling\n",
            "느영나영 혼듸모영: searchIframe 로드 및 프레임 전환 완료\n",
            "느영나영 혼듸모영: entryIframe이 이미 로드됨. 클릭 없이 바로 진행\n",
            "entryIframe 로드.\n",
            "Error while extracting datalab information for 느영나영 혼듸모영:\n",
            "Error while extracting menu/features for 느영나영 혼듸모영, div 1:\n",
            "Error while extracting menu/features for 느영나영 혼듸모영, div 2:\n"
          ]
        },
        {
          "name": "stderr",
          "output_type": "stream",
          "text": [
            " 90%|█████████ | 902/999 [5:30:02<35:08, 21.74s/it]"
          ]
        },
        {
          "name": "stdout",
          "output_type": "stream",
          "text": [
            "느영나영혼듸모영: searchIframe 로드 및 프레임 전환 완료\n",
            "느영나영혼듸모영: entryIframe이 이미 로드됨. 클릭 없이 바로 진행\n",
            "entryIframe 로드.\n",
            "Error while extracting datalab information for 느영나영혼듸모영:\n",
            "Error while extracting menu/features for 느영나영혼듸모영, div 1:\n",
            "Error while extracting menu/features for 느영나영혼듸모영, div 2:\n"
          ]
        },
        {
          "name": "stderr",
          "output_type": "stream",
          "text": [
            " 90%|█████████ | 903/999 [5:30:24<34:30, 21.57s/it]"
          ]
        },
        {
          "name": "stdout",
          "output_type": "stream",
          "text": [
            "느지리식식당: searchIframe 로드 및 프레임 전환 완료\n",
            "Error while clicking first search result for 느지리식식당: Unable to locate list container.\n"
          ]
        },
        {
          "name": "stderr",
          "output_type": "stream",
          "text": [
            " 90%|█████████ | 904/999 [5:30:44<33:51, 21.39s/it]"
          ]
        },
        {
          "name": "stdout",
          "output_type": "stream",
          "text": [
            "Failed to load iframe after multiple attempts for 느지리식식당.\n",
            "crawling fatil : 느지리식식당 to fail_to_crawling\n",
            "늘고팡: searchIframe 로드 및 프레임 전환 완료\n",
            "Error while clicking first search result for 늘고팡: Unable to locate list container.\n"
          ]
        },
        {
          "name": "stderr",
          "output_type": "stream",
          "text": [
            " 91%|█████████ | 905/999 [5:31:05<33:16, 21.24s/it]"
          ]
        },
        {
          "name": "stdout",
          "output_type": "stream",
          "text": [
            "Failed to load iframe after multiple attempts for 늘고팡.\n",
            "crawling fatil : 늘고팡 to fail_to_crawling\n",
            "늘보의작업실: searchIframe 로드 및 프레임 전환 완료\n",
            "늘보의작업실: entryIframe이 이미 로드됨. 클릭 없이 바로 진행\n",
            "entryIframe 로드.\n",
            "Error while extracting menu/features for 늘보의작업실, div 1:\n",
            "Error while extracting menu/features for 늘보의작업실, div 2:\n"
          ]
        },
        {
          "name": "stderr",
          "output_type": "stream",
          "text": [
            " 91%|█████████ | 906/999 [5:31:27<32:52, 21.21s/it]"
          ]
        },
        {
          "name": "stdout",
          "output_type": "stream",
          "text": [
            "늘봄흑돼지: searchIframe 로드 및 프레임 전환 완료\n",
            "늘봄흑돼지: entryIframe이 이미 로드됨. 클릭 없이 바로 진행\n",
            "entryIframe 로드.\n",
            "Error while extracting menu/features for 늘봄흑돼지, div 1:\n",
            "Error while extracting menu/features for 늘봄흑돼지, div 2:\n"
          ]
        },
        {
          "name": "stderr",
          "output_type": "stream",
          "text": [
            " 91%|█████████ | 907/999 [5:31:46<31:41, 20.67s/it]"
          ]
        },
        {
          "name": "stdout",
          "output_type": "stream",
          "text": [
            "늘소담: searchIframe 로드 및 프레임 전환 완료\n",
            "늘소담: 첫 번째 가게 클릭 후 전환되지 않음. 다음 가게로 진행\n",
            "entryIframe 로드.\n",
            "Error while extracting datalab information for 늘소담:\n",
            "Error while navigating to reviews for 늘소담:\n"
          ]
        },
        {
          "name": "stderr",
          "output_type": "stream",
          "text": [
            " 91%|█████████ | 908/999 [5:32:14<34:43, 22.90s/it]"
          ]
        },
        {
          "name": "stdout",
          "output_type": "stream",
          "text": [
            "늘여름: searchIframe 로드 및 프레임 전환 완료\n",
            "늘여름: 첫 번째 가게 클릭 후 전환되지 않음. 다음 가게로 진행\n",
            "entryIframe 로드.\n",
            "Error while extracting datalab information for 늘여름:\n",
            "Error while navigating to reviews for 늘여름:\n"
          ]
        },
        {
          "name": "stderr",
          "output_type": "stream",
          "text": [
            " 91%|█████████ | 909/999 [5:32:40<35:43, 23.81s/it]"
          ]
        },
        {
          "name": "stdout",
          "output_type": "stream",
          "text": [
            "늘예솔: searchIframe 로드 및 프레임 전환 완료\n",
            "늘예솔: 첫 번째 가게 클릭 후 전환되지 않음. 다음 가게로 진행\n",
            "entryIframe 로드.\n",
            "Error while extracting datalab information for 늘예솔:\n",
            "Error while navigating to reviews for 늘예솔:\n"
          ]
        },
        {
          "name": "stderr",
          "output_type": "stream",
          "text": [
            " 91%|█████████ | 910/999 [5:33:06<36:09, 24.37s/it]"
          ]
        },
        {
          "name": "stdout",
          "output_type": "stream",
          "text": [
            "늘장터식당: searchIframe 로드 및 프레임 전환 완료\n",
            "늘장터식당: entryIframe이 이미 로드됨. 클릭 없이 바로 진행\n",
            "entryIframe 로드.\n",
            "Error while extracting datalab information for 늘장터식당:\n",
            "Error while extracting menu/features for 늘장터식당, div 1:\n",
            "Error while extracting menu/features for 늘장터식당, div 2:\n"
          ]
        },
        {
          "name": "stderr",
          "output_type": "stream",
          "text": [
            " 91%|█████████ | 911/999 [5:33:27<34:17, 23.38s/it]"
          ]
        },
        {
          "name": "stdout",
          "output_type": "stream",
          "text": [
            "늘조은명품흑돼지: searchIframe 로드 및 프레임 전환 완료\n",
            "늘조은명품흑돼지: entryIframe이 이미 로드됨. 클릭 없이 바로 진행\n",
            "entryIframe 로드.\n",
            "Error while extracting menu/features for 늘조은명품흑돼지, div 1:\n",
            "Error while extracting menu/features for 늘조은명품흑돼지, div 2:\n"
          ]
        },
        {
          "name": "stderr",
          "output_type": "stream",
          "text": [
            " 91%|█████████▏| 912/999 [5:33:50<33:48, 23.32s/it]"
          ]
        },
        {
          "name": "stdout",
          "output_type": "stream",
          "text": [
            "늘푸른농원 연리지가든: searchIframe 로드 및 프레임 전환 완료\n",
            "Error while clicking first search result for 늘푸른농원 연리지가든: Unable to locate list container.\n"
          ]
        },
        {
          "name": "stderr",
          "output_type": "stream",
          "text": [
            " 91%|█████████▏| 913/999 [5:34:10<32:09, 22.44s/it]"
          ]
        },
        {
          "name": "stdout",
          "output_type": "stream",
          "text": [
            "Failed to load iframe after multiple attempts for 늘푸른농원 연리지가든.\n",
            "crawling fatil : 늘푸른농원 연리지가든 to fail_to_crawling\n",
            "능가: searchIframe 로드 및 프레임 전환 완료\n",
            "능가: 첫 번째 가게 클릭 후 전환되지 않음. 다음 가게로 진행\n",
            "entryIframe 로드.\n",
            "Error while extracting datalab information for 능가:\n",
            "Error while navigating to reviews for 능가:\n"
          ]
        },
        {
          "name": "stderr",
          "output_type": "stream",
          "text": [
            " 91%|█████████▏| 914/999 [5:34:32<31:27, 22.20s/it]"
          ]
        },
        {
          "name": "stdout",
          "output_type": "stream",
          "text": [
            "이미지 추출 오류 2 for 능가 \n",
            "이미지 추출 오류 3 for 능가 \n",
            "이미지 추출 오류 4 for 능가 \n",
            "이미지 추출 오류 5 for 능가 \n",
            "이미지 추출 오류 6 for 능가 \n",
            "이미지 추출 오류 7 for 능가 \n",
            "이미지 추출 오류 8 for 능가 \n",
            "이미지 추출 오류 9 for 능가 \n",
            "이미지 추출 오류 10 for 능가 \n",
            "능소비빔국수제주점: searchIframe 로드 및 프레임 전환 완료\n",
            "능소비빔국수제주점: entryIframe이 이미 로드됨. 클릭 없이 바로 진행\n",
            "entryIframe 로드.\n",
            "Error while extracting menu/features for 능소비빔국수제주점, div 1:\n"
          ]
        },
        {
          "name": "stderr",
          "output_type": "stream",
          "text": [
            " 92%|█████████▏| 915/999 [5:34:49<28:57, 20.69s/it]"
          ]
        },
        {
          "name": "stdout",
          "output_type": "stream",
          "text": [
            "Error while extracting menu/features for 능소비빔국수제주점, div 2:\n",
            " 사진 버튼 없음 : 능소비빔국수제주점.\n",
            "니모메: searchIframe 로드 및 프레임 전환 완료\n",
            "니모메: 첫 번째 가게 클릭 후 전환되지 않음. 다음 가게로 진행\n",
            "entryIframe 로드.\n",
            "Error while extracting menu/features for 니모메, div 1:\n",
            "Error while extracting menu/features for 니모메, div 2:\n"
          ]
        },
        {
          "name": "stderr",
          "output_type": "stream",
          "text": [
            " 92%|█████████▏| 916/999 [5:35:15<30:48, 22.27s/it]"
          ]
        },
        {
          "name": "stdout",
          "output_type": "stream",
          "text": [
            "니모메빈티지라운지: searchIframe 로드 및 프레임 전환 완료\n",
            "니모메빈티지라운지: entryIframe이 이미 로드됨. 클릭 없이 바로 진행\n",
            "entryIframe 로드.\n",
            "Error while extracting menu/features for 니모메빈티지라운지, div 1:\n",
            "Error while extracting menu/features for 니모메빈티지라운지, div 2:\n"
          ]
        },
        {
          "name": "stderr",
          "output_type": "stream",
          "text": [
            " 92%|█████████▏| 917/999 [5:35:36<30:03, 21.99s/it]"
          ]
        },
        {
          "name": "stdout",
          "output_type": "stream",
          "text": [
            "닐모리동동: searchIframe 로드 및 프레임 전환 완료\n",
            "닐모리동동: entryIframe이 이미 로드됨. 클릭 없이 바로 진행\n",
            "entryIframe 로드.\n",
            "Error while extracting datalab information for 닐모리동동:\n",
            "Error while navigating to reviews for 닐모리동동:\n"
          ]
        },
        {
          "name": "stderr",
          "output_type": "stream",
          "text": [
            " 92%|█████████▏| 918/999 [5:36:00<30:08, 22.32s/it]"
          ]
        },
        {
          "name": "stdout",
          "output_type": "stream",
          "text": [
            "다 카포: searchIframe 로드 및 프레임 전환 완료\n",
            "다 카포: 첫 번째 가게 클릭 후 전환되지 않음. 다음 가게로 진행\n",
            "entryIframe 로드.\n",
            "Error while extracting datalab information for 다 카포:\n",
            "Error while navigating to reviews for 다 카포:\n"
          ]
        },
        {
          "name": "stderr",
          "output_type": "stream",
          "text": [
            " 92%|█████████▏| 919/999 [5:36:21<29:22, 22.03s/it]"
          ]
        },
        {
          "name": "stdout",
          "output_type": "stream",
          "text": [
            "이미지 추출 오류 2 for 다 카포 \n",
            "이미지 추출 오류 3 for 다 카포 \n",
            "이미지 추출 오류 4 for 다 카포 \n",
            "이미지 추출 오류 5 for 다 카포 \n",
            "이미지 추출 오류 6 for 다 카포 \n",
            "이미지 추출 오류 7 for 다 카포 \n",
            "이미지 추출 오류 8 for 다 카포 \n",
            "이미지 추출 오류 9 for 다 카포 \n",
            "이미지 추출 오류 10 for 다 카포 \n",
            "다가미: searchIframe 로드 및 프레임 전환 완료\n",
            "다가미: 첫 번째 가게 클릭 후 전환되지 않음. 다음 가게로 진행\n",
            "entryIframe 로드.\n",
            "Error while extracting menu/features for 다가미, div 1:\n",
            "Error while extracting menu/features for 다가미, div 2:\n"
          ]
        },
        {
          "name": "stderr",
          "output_type": "stream",
          "text": [
            " 92%|█████████▏| 920/999 [5:36:49<31:22, 23.83s/it]"
          ]
        },
        {
          "name": "stdout",
          "output_type": "stream",
          "text": [
            "다가미 애월점: searchIframe 로드 및 프레임 전환 완료\n",
            "다가미 애월점: entryIframe이 이미 로드됨. 클릭 없이 바로 진행\n",
            "entryIframe 로드.\n",
            "Error while extracting menu/features for 다가미 애월점, div 1:\n",
            "Error while extracting menu/features for 다가미 애월점, div 2:\n"
          ]
        },
        {
          "name": "stderr",
          "output_type": "stream",
          "text": [
            " 92%|█████████▏| 921/999 [5:37:10<29:55, 23.02s/it]"
          ]
        },
        {
          "name": "stdout",
          "output_type": "stream",
          "text": [
            "다가미(도남): searchIframe 로드 및 프레임 전환 완료\n",
            "다가미(도남): entryIframe이 이미 로드됨. 클릭 없이 바로 진행\n",
            "entryIframe 로드.\n",
            "Error while extracting menu/features for 다가미(도남), div 1:\n",
            "Error while extracting menu/features for 다가미(도남), div 2:\n"
          ]
        },
        {
          "name": "stderr",
          "output_type": "stream",
          "text": [
            " 92%|█████████▏| 922/999 [5:37:31<28:51, 22.49s/it]"
          ]
        },
        {
          "name": "stdout",
          "output_type": "stream",
          "text": [
            "다가미아라점: searchIframe 로드 및 프레임 전환 완료\n",
            "다가미아라점: entryIframe이 이미 로드됨. 클릭 없이 바로 진행\n",
            "entryIframe 로드.\n",
            "Error while extracting menu/features for 다가미아라점, div 1:\n",
            "Error while extracting menu/features for 다가미아라점, div 2:\n"
          ]
        },
        {
          "name": "stderr",
          "output_type": "stream",
          "text": [
            " 92%|█████████▏| 923/999 [5:37:51<27:20, 21.59s/it]"
          ]
        },
        {
          "name": "stdout",
          "output_type": "stream",
          "text": [
            "다가미중문점: searchIframe 로드 및 프레임 전환 완료\n",
            "다가미중문점: entryIframe이 이미 로드됨. 클릭 없이 바로 진행\n",
            "entryIframe 로드.\n",
            "Error while extracting menu/features for 다가미중문점, div 1:\n",
            "Error while extracting menu/features for 다가미중문점, div 2:\n"
          ]
        },
        {
          "name": "stderr",
          "output_type": "stream",
          "text": [
            " 92%|█████████▏| 924/999 [5:38:10<26:03, 20.85s/it]"
          ]
        },
        {
          "name": "stdout",
          "output_type": "stream",
          "text": [
            "다가온 추어탕: searchIframe 로드 및 프레임 전환 완료\n",
            "Error while clicking first search result for 다가온 추어탕: Unable to locate list container.\n"
          ]
        },
        {
          "name": "stderr",
          "output_type": "stream",
          "text": [
            " 93%|█████████▎| 925/999 [5:38:30<25:33, 20.72s/it]"
          ]
        },
        {
          "name": "stdout",
          "output_type": "stream",
          "text": [
            "Failed to load iframe after multiple attempts for 다가온 추어탕.\n",
            "crawling fatil : 다가온 추어탕 to fail_to_crawling\n",
            "다니쉬: searchIframe 로드 및 프레임 전환 완료\n",
            "다니쉬: 첫 번째 가게 클릭 후 전환되지 않음. 다음 가게로 진행\n",
            "entryIframe 로드.\n",
            "Error while extracting menu/features for 다니쉬, div 1:\n",
            "Error while extracting menu/features for 다니쉬, div 2:\n"
          ]
        },
        {
          "name": "stderr",
          "output_type": "stream",
          "text": [
            " 93%|█████████▎| 926/999 [5:38:56<27:04, 22.25s/it]"
          ]
        },
        {
          "name": "stdout",
          "output_type": "stream",
          "text": [
            "다니엘스 키친 동문시장점: searchIframe 로드 및 프레임 전환 완료\n",
            "다니엘스 키친 동문시장점: entryIframe이 이미 로드됨. 클릭 없이 바로 진행\n",
            "entryIframe 로드.\n",
            "Error while extracting menu/features for 다니엘스 키친 동문시장점, div 1:\n",
            "Error while extracting menu/features for 다니엘스 키친 동문시장점, div 2:\n"
          ]
        },
        {
          "name": "stderr",
          "output_type": "stream",
          "text": [
            " 93%|█████████▎| 927/999 [5:39:17<26:21, 21.96s/it]"
          ]
        },
        {
          "name": "stdout",
          "output_type": "stream",
          "text": [
            "다님길: searchIframe 로드 및 프레임 전환 완료\n",
            "다님길: 첫 번째 가게 클릭 후 전환되지 않음. 다음 가게로 진행\n",
            "entryIframe 로드.\n",
            "Error while extracting menu/features for 다님길, div 1:\n"
          ]
        },
        {
          "name": "stderr",
          "output_type": "stream",
          "text": [
            " 93%|█████████▎| 928/999 [5:39:42<26:47, 22.63s/it]"
          ]
        },
        {
          "name": "stdout",
          "output_type": "stream",
          "text": [
            "Error while extracting menu/features for 다님길, div 2:\n",
            " 사진 버튼 없음 : 다님길.\n",
            "다다미: searchIframe 로드 및 프레임 전환 완료\n",
            "다다미: 첫 번째 가게 클릭 후 전환되지 않음. 다음 가게로 진행\n",
            "entryIframe 로드.\n",
            "Error while extracting menu/features for 다다미, div 1:\n",
            "Error while extracting menu/features for 다다미, div 2:\n"
          ]
        },
        {
          "name": "stderr",
          "output_type": "stream",
          "text": [
            " 93%|█████████▎| 929/999 [5:40:10<28:17, 24.25s/it]"
          ]
        },
        {
          "name": "stdout",
          "output_type": "stream",
          "text": [
            "다다익고 정육식당: searchIframe 로드 및 프레임 전환 완료\n",
            "다다익고 정육식당: 첫 번째 가게 클릭 후 전환되지 않음. 다음 가게로 진행\n",
            "entryIframe 로드.\n",
            "Error while extracting menu/features for 다다익고 정육식당, div 1:\n",
            "Error while extracting menu/features for 다다익고 정육식당, div 2:\n"
          ]
        },
        {
          "name": "stderr",
          "output_type": "stream",
          "text": [
            " 93%|█████████▎| 930/999 [5:40:36<28:46, 25.02s/it]"
          ]
        },
        {
          "name": "stdout",
          "output_type": "stream",
          "text": [
            "다다익고 정육점식당 호텔더본점: searchIframe 로드 및 프레임 전환 완료\n",
            "다다익고 정육점식당 호텔더본점: 첫 번째 가게 클릭 후 전환되지 않음. 다음 가게로 진행\n",
            "entryIframe 로드.\n",
            "Error while extracting menu/features for 다다익고 정육점식당 호텔더본점, div 1:\n",
            "Error while extracting menu/features for 다다익고 정육점식당 호텔더본점, div 2:\n"
          ]
        },
        {
          "name": "stderr",
          "output_type": "stream",
          "text": [
            " 93%|█████████▎| 931/999 [5:41:02<28:37, 25.25s/it]"
          ]
        },
        {
          "name": "stdout",
          "output_type": "stream",
          "text": [
            "다다익고정육식당 신서귀포점: searchIframe 로드 및 프레임 전환 완료\n",
            "다다익고정육식당 신서귀포점: entryIframe이 이미 로드됨. 클릭 없이 바로 진행\n",
            "entryIframe 로드.\n",
            "Error while extracting menu/features for 다다익고정육식당 신서귀포점, div 1:\n"
          ]
        },
        {
          "name": "stderr",
          "output_type": "stream",
          "text": [
            " 93%|█████████▎| 932/999 [5:41:21<26:11, 23.46s/it]"
          ]
        },
        {
          "name": "stdout",
          "output_type": "stream",
          "text": [
            "Error while extracting menu/features for 다다익고정육식당 신서귀포점, div 2:\n",
            " 사진 버튼 없음 : 다다익고정육식당 신서귀포점.\n",
            "다다익고정육식당 제주사수점: searchIframe 로드 및 프레임 전환 완료\n",
            "다다익고정육식당 제주사수점: entryIframe이 이미 로드됨. 클릭 없이 바로 진행\n",
            "entryIframe 로드.\n",
            "Error while extracting menu/features for 다다익고정육식당 제주사수점, div 1:\n",
            "Error while extracting menu/features for 다다익고정육식당 제주사수점, div 2:\n"
          ]
        },
        {
          "name": "stderr",
          "output_type": "stream",
          "text": [
            " 93%|█████████▎| 933/999 [5:41:43<25:14, 22.95s/it]"
          ]
        },
        {
          "name": "stdout",
          "output_type": "stream",
          "text": [
            "다담: searchIframe 로드 및 프레임 전환 완료\n",
            "다담: 첫 번째 가게 클릭 후 전환되지 않음. 다음 가게로 진행\n",
            "entryIframe 로드.\n",
            "Error while extracting menu/features for 다담, div 1:\n",
            "Error while extracting menu/features for 다담, div 2:\n"
          ]
        },
        {
          "name": "stderr",
          "output_type": "stream",
          "text": [
            " 93%|█████████▎| 934/999 [5:42:12<26:47, 24.74s/it]"
          ]
        },
        {
          "name": "stdout",
          "output_type": "stream",
          "text": [
            "다담은: searchIframe 로드 및 프레임 전환 완료\n",
            "다담은: 링크버튼을 찾을 수 없음. xpath 대신 다른 방법 시도\n"
          ]
        },
        {
          "name": "stderr",
          "output_type": "stream",
          "text": [
            " 94%|█████████▎| 935/999 [5:42:30<24:04, 22.58s/it]"
          ]
        },
        {
          "name": "stdout",
          "output_type": "stream",
          "text": [
            "Failed to load iframe after multiple attempts for 다담은.\n",
            "crawling fatil : 다담은 to fail_to_crawling\n",
            "다담주: searchIframe 로드 및 프레임 전환 완료\n",
            "다담주: entryIframe이 이미 로드됨. 클릭 없이 바로 진행\n",
            "entryIframe 로드.\n",
            "Error while extracting datalab information for 다담주:\n",
            "Error while navigating to reviews for 다담주:\n"
          ]
        },
        {
          "name": "stderr",
          "output_type": "stream",
          "text": [
            " 94%|█████████▎| 936/999 [5:42:49<22:35, 21.51s/it]"
          ]
        },
        {
          "name": "stdout",
          "output_type": "stream",
          "text": [
            "이미지 추출 오류 8 for 다담주 \n",
            "이미지 추출 오류 9 for 다담주 \n",
            "이미지 추출 오류 10 for 다담주 \n",
            "다담찌개: searchIframe 로드 및 프레임 전환 완료\n",
            "다담찌개: 링크버튼을 찾을 수 없음. xpath 대신 다른 방법 시도\n"
          ]
        },
        {
          "name": "stderr",
          "output_type": "stream",
          "text": [
            " 94%|█████████▍| 937/999 [5:43:07<21:10, 20.49s/it]"
          ]
        },
        {
          "name": "stdout",
          "output_type": "stream",
          "text": [
            "Failed to load iframe after multiple attempts for 다담찌개.\n",
            "crawling fatil : 다담찌개 to fail_to_crawling\n",
            "다도: searchIframe 로드 및 프레임 전환 완료\n",
            "다도: 첫 번째 가게 클릭 후 전환되지 않음. 다음 가게로 진행\n",
            "entryIframe 로드.\n",
            "Error while extracting menu/features for 다도, div 1:\n",
            "Error while extracting menu/features for 다도, div 2:\n"
          ]
        },
        {
          "name": "stderr",
          "output_type": "stream",
          "text": [
            " 94%|█████████▍| 938/999 [5:43:35<23:15, 22.88s/it]"
          ]
        },
        {
          "name": "stdout",
          "output_type": "stream",
          "text": [
            "다동뼈감탕: searchIframe 로드 및 프레임 전환 완료\n",
            "다동뼈감탕: entryIframe이 이미 로드됨. 클릭 없이 바로 진행\n",
            "entryIframe 로드.\n",
            "Error while extracting menu/features for 다동뼈감탕, div 1:\n",
            "Error while extracting menu/features for 다동뼈감탕, div 2:\n"
          ]
        },
        {
          "name": "stderr",
          "output_type": "stream",
          "text": [
            " 94%|█████████▍| 939/999 [5:43:57<22:22, 22.38s/it]"
          ]
        },
        {
          "name": "stdout",
          "output_type": "stream",
          "text": [
            "다락방소주방: searchIframe 로드 및 프레임 전환 완료\n",
            "다락방소주방: entryIframe이 이미 로드됨. 클릭 없이 바로 진행\n",
            "entryIframe 로드.\n",
            "Error while extracting datalab information for 다락방소주방:\n",
            "Error while navigating to reviews for 다락방소주방:\n"
          ]
        },
        {
          "name": "stderr",
          "output_type": "stream",
          "text": [
            " 94%|█████████▍| 940/999 [5:44:13<20:20, 20.68s/it]"
          ]
        },
        {
          "name": "stdout",
          "output_type": "stream",
          "text": [
            "이미지 추출 오류 10 for 다락방소주방 \n",
            "다람쥐 식탁: searchIframe 로드 및 프레임 전환 완료\n",
            "다람쥐 식탁: 첫 번째 가게 클릭 후 전환되지 않음. 다음 가게로 진행\n",
            "entryIframe 로드.\n",
            "Error while extracting menu/features for 다람쥐 식탁, div 1:\n",
            "Error while extracting menu/features for 다람쥐 식탁, div 2:\n"
          ]
        },
        {
          "name": "stderr",
          "output_type": "stream",
          "text": [
            " 94%|█████████▍| 941/999 [5:44:41<22:08, 22.91s/it]"
          ]
        },
        {
          "name": "stdout",
          "output_type": "stream",
          "text": [
            "다람쥐식탁: searchIframe 로드 및 프레임 전환 완료\n",
            "다람쥐식탁: 첫 번째 가게 클릭 후 전환되지 않음. 다음 가게로 진행\n",
            "entryIframe 로드.\n",
            "Error while extracting menu/features for 다람쥐식탁, div 1:\n",
            "Error while extracting menu/features for 다람쥐식탁, div 2:\n"
          ]
        },
        {
          "name": "stderr",
          "output_type": "stream",
          "text": [
            " 94%|█████████▍| 942/999 [5:45:09<23:15, 24.48s/it]"
          ]
        },
        {
          "name": "stdout",
          "output_type": "stream",
          "text": [
            "다람쥐와도토리: searchIframe 로드 및 프레임 전환 완료\n",
            "다람쥐와도토리: 첫 번째 가게 클릭 후 전환되지 않음. 다음 가게로 진행\n",
            "entryIframe 로드.\n",
            "Error while extracting datalab information for 다람쥐와도토리:\n",
            "Error while navigating to reviews for 다람쥐와도토리:\n"
          ]
        },
        {
          "name": "stderr",
          "output_type": "stream",
          "text": [
            " 94%|█████████▍| 943/999 [5:45:31<22:03, 23.64s/it]"
          ]
        },
        {
          "name": "stdout",
          "output_type": "stream",
          "text": [
            "다랑시: searchIframe 로드 및 프레임 전환 완료\n",
            "다랑시: 링크버튼을 찾을 수 없음. xpath 대신 다른 방법 시도\n"
          ]
        },
        {
          "name": "stderr",
          "output_type": "stream",
          "text": [
            " 94%|█████████▍| 944/999 [5:45:49<20:08, 21.97s/it]"
          ]
        },
        {
          "name": "stdout",
          "output_type": "stream",
          "text": [
            "Failed to load iframe after multiple attempts for 다랑시.\n",
            "crawling fatil : 다랑시 to fail_to_crawling\n",
            "다래: searchIframe 로드 및 프레임 전환 완료\n",
            "다래: 첫 번째 가게 클릭 후 전환되지 않음. 다음 가게로 진행\n",
            "entryIframe 로드.\n",
            "Error while extracting menu/features for 다래, div 1:\n",
            "Error while extracting menu/features for 다래, div 2:\n"
          ]
        },
        {
          "name": "stderr",
          "output_type": "stream",
          "text": [
            " 95%|█████████▍| 945/999 [5:46:16<20:57, 23.28s/it]"
          ]
        },
        {
          "name": "stdout",
          "output_type": "stream",
          "text": [
            "다래가든: searchIframe 로드 및 프레임 전환 완료\n",
            "다래가든: 첫 번째 가게 클릭 후 전환되지 않음. 다음 가게로 진행\n",
            "entryIframe 로드.\n",
            "Error while extracting datalab information for 다래가든:\n",
            "Error while extracting menu/features for 다래가든, div 1:\n",
            "Error while extracting menu/features for 다래가든, div 2:\n"
          ]
        },
        {
          "name": "stderr",
          "output_type": "stream",
          "text": [
            " 95%|█████████▍| 946/999 [5:46:44<21:51, 24.75s/it]"
          ]
        },
        {
          "name": "stdout",
          "output_type": "stream",
          "text": [
            "다래향: searchIframe 로드 및 프레임 전환 완료\n",
            "다래향: 첫 번째 가게 클릭 후 전환되지 않음. 다음 가게로 진행\n",
            "entryIframe 로드.\n",
            "Error while extracting menu/features for 다래향, div 1:\n",
            "Error while extracting menu/features for 다래향, div 2:\n"
          ]
        },
        {
          "name": "stderr",
          "output_type": "stream",
          "text": [
            " 95%|█████████▍| 947/999 [5:47:12<22:15, 25.69s/it]"
          ]
        },
        {
          "name": "stdout",
          "output_type": "stream",
          "text": [
            "다래향 2호점: searchIframe 로드 및 프레임 전환 완료\n",
            "다래향 2호점: entryIframe이 이미 로드됨. 클릭 없이 바로 진행\n",
            "entryIframe 로드.\n",
            "Error while extracting menu/features for 다래향 2호점, div 1:\n",
            "Error while extracting menu/features for 다래향 2호점, div 2:\n"
          ]
        },
        {
          "name": "stderr",
          "output_type": "stream",
          "text": [
            " 95%|█████████▍| 948/999 [5:47:31<20:19, 23.92s/it]"
          ]
        },
        {
          "name": "stdout",
          "output_type": "stream",
          "text": [
            "다래향 세화점: searchIframe 로드 및 프레임 전환 완료\n",
            "다래향 세화점: entryIframe이 이미 로드됨. 클릭 없이 바로 진행\n",
            "entryIframe 로드.\n",
            "Error while extracting menu/features for 다래향 세화점, div 1:\n",
            "Error while extracting menu/features for 다래향 세화점, div 2:\n"
          ]
        },
        {
          "name": "stderr",
          "output_type": "stream",
          "text": [
            " 95%|█████████▍| 949/999 [5:47:53<19:18, 23.17s/it]"
          ]
        },
        {
          "name": "stdout",
          "output_type": "stream",
          "text": [
            "다래향2호점: searchIframe 로드 및 프레임 전환 완료\n",
            "다래향2호점: entryIframe이 이미 로드됨. 클릭 없이 바로 진행\n",
            "entryIframe 로드.\n",
            "Error while extracting menu/features for 다래향2호점, div 1:\n",
            "Error while extracting menu/features for 다래향2호점, div 2:\n"
          ]
        },
        {
          "name": "stderr",
          "output_type": "stream",
          "text": [
            " 95%|█████████▌| 950/999 [5:48:14<18:27, 22.61s/it]"
          ]
        },
        {
          "name": "stdout",
          "output_type": "stream",
          "text": [
            "다려도횟집: searchIframe 로드 및 프레임 전환 완료\n",
            "다려도횟집: entryIframe이 이미 로드됨. 클릭 없이 바로 진행\n",
            "entryIframe 로드.\n",
            "Error while extracting menu/features for 다려도횟집, div 1:\n",
            "Error while extracting menu/features for 다려도횟집, div 2:\n"
          ]
        },
        {
          "name": "stderr",
          "output_type": "stream",
          "text": [
            " 95%|█████████▌| 951/999 [5:48:35<17:45, 22.20s/it]"
          ]
        },
        {
          "name": "stdout",
          "output_type": "stream",
          "text": [
            "다름: searchIframe 로드 및 프레임 전환 완료\n",
            "다름: 첫 번째 가게 클릭 후 전환되지 않음. 다음 가게로 진행\n",
            "entryIframe 로드.\n",
            "Error while extracting menu/features for 다름, div 1:\n",
            "Error while extracting menu/features for 다름, div 2:\n"
          ]
        },
        {
          "name": "stderr",
          "output_type": "stream",
          "text": [
            " 95%|█████████▌| 952/999 [5:49:01<18:16, 23.33s/it]"
          ]
        },
        {
          "name": "stdout",
          "output_type": "stream",
          "text": [
            "다린: searchIframe 로드 및 프레임 전환 완료\n",
            "다린: 첫 번째 가게 클릭 후 전환되지 않음. 다음 가게로 진행\n",
            "entryIframe 로드.\n",
            "Error while extracting menu/features for 다린, div 1:\n",
            "Error while extracting menu/features for 다린, div 2:\n"
          ]
        },
        {
          "name": "stderr",
          "output_type": "stream",
          "text": [
            " 95%|█████████▌| 953/999 [5:49:30<19:05, 24.91s/it]"
          ]
        },
        {
          "name": "stdout",
          "output_type": "stream",
          "text": [
            "다맛: searchIframe 로드 및 프레임 전환 완료\n",
            "다맛: 링크버튼을 찾을 수 없음. xpath 대신 다른 방법 시도\n"
          ]
        },
        {
          "name": "stderr",
          "output_type": "stream",
          "text": [
            " 95%|█████████▌| 954/999 [5:49:48<17:06, 22.82s/it]"
          ]
        },
        {
          "name": "stdout",
          "output_type": "stream",
          "text": [
            "Failed to load iframe after multiple attempts for 다맛.\n",
            "crawling fatil : 다맛 to fail_to_crawling\n",
            "다모인식당: searchIframe 로드 및 프레임 전환 완료\n",
            "다모인식당: entryIframe이 이미 로드됨. 클릭 없이 바로 진행\n",
            "entryIframe 로드.\n",
            "Error while extracting menu/features for 다모인식당, div 1:\n",
            "Error while navigating to reviews for 다모인식당:\n"
          ]
        },
        {
          "name": "stderr",
          "output_type": "stream",
          "text": [
            " 96%|█████████▌| 955/999 [5:50:09<16:20, 22.28s/it]"
          ]
        },
        {
          "name": "stdout",
          "output_type": "stream",
          "text": [
            "다미안: searchIframe 로드 및 프레임 전환 완료\n",
            "다미안: 링크버튼을 찾을 수 없음. xpath 대신 다른 방법 시도\n"
          ]
        },
        {
          "name": "stderr",
          "output_type": "stream",
          "text": [
            " 96%|█████████▌| 956/999 [5:50:27<15:01, 20.96s/it]"
          ]
        },
        {
          "name": "stdout",
          "output_type": "stream",
          "text": [
            "Failed to load iframe after multiple attempts for 다미안.\n",
            "crawling fatil : 다미안 to fail_to_crawling\n",
            "다미야: searchIframe 로드 및 프레임 전환 완료\n",
            "다미야: 첫 번째 가게 클릭 후 전환되지 않음. 다음 가게로 진행\n",
            "entryIframe 로드.\n",
            "Error while extracting menu/features for 다미야, div 1:\n",
            "Error while extracting menu/features for 다미야, div 2:\n"
          ]
        },
        {
          "name": "stderr",
          "output_type": "stream",
          "text": [
            " 96%|█████████▌| 957/999 [5:50:55<16:13, 23.17s/it]"
          ]
        },
        {
          "name": "stdout",
          "output_type": "stream",
          "text": [
            "다미야 서귀포점: searchIframe 로드 및 프레임 전환 완료\n",
            "다미야 서귀포점: entryIframe이 이미 로드됨. 클릭 없이 바로 진행\n",
            "entryIframe 로드.\n",
            "Error while extracting menu/features for 다미야 서귀포점, div 1:\n",
            "Error while navigating to reviews for 다미야 서귀포점:\n"
          ]
        },
        {
          "name": "stderr",
          "output_type": "stream",
          "text": [
            " 96%|█████████▌| 958/999 [5:51:16<15:26, 22.59s/it]"
          ]
        },
        {
          "name": "stdout",
          "output_type": "stream",
          "text": [
            "다미진: searchIframe 로드 및 프레임 전환 완료\n",
            "다미진: 첫 번째 가게 클릭 후 전환되지 않음. 다음 가게로 진행\n",
            "entryIframe 로드.\n",
            "Error while extracting datalab information for 다미진:\n",
            "Error while extracting menu/features for 다미진, div 1:\n",
            "Error while navigating to reviews for 다미진:\n"
          ]
        },
        {
          "name": "stderr",
          "output_type": "stream",
          "text": [
            " 96%|█████████▌| 959/999 [5:51:43<15:57, 23.94s/it]"
          ]
        },
        {
          "name": "stdout",
          "output_type": "stream",
          "text": [
            "다미회: searchIframe 로드 및 프레임 전환 완료\n",
            "다미회: 첫 번째 가게 클릭 후 전환되지 않음. 다음 가게로 진행\n",
            "entryIframe 로드.\n",
            "Error while extracting menu/features for 다미회, div 1:\n",
            "Error while extracting menu/features for 다미회, div 2:\n"
          ]
        },
        {
          "name": "stderr",
          "output_type": "stream",
          "text": [
            " 96%|█████████▌| 960/999 [5:52:10<16:02, 24.69s/it]"
          ]
        },
        {
          "name": "stdout",
          "output_type": "stream",
          "text": [
            "다복식당: searchIframe 로드 및 프레임 전환 완료\n",
            "다복식당: 첫 번째 가게 클릭 후 전환되지 않음. 다음 가게로 진행\n",
            "entryIframe 로드.\n",
            "Error while extracting menu/features for 다복식당, div 1:\n",
            "Error while extracting menu/features for 다복식당, div 2:\n"
          ]
        },
        {
          "name": "stderr",
          "output_type": "stream",
          "text": [
            " 96%|█████████▌| 961/999 [5:52:36<15:56, 25.18s/it]"
          ]
        },
        {
          "name": "stdout",
          "output_type": "stream",
          "text": [
            "다빈장: searchIframe 로드 및 프레임 전환 완료\n",
            "다빈장: entryIframe이 이미 로드됨. 클릭 없이 바로 진행\n",
            "entryIframe 로드.\n",
            "Error while extracting menu/features for 다빈장, div 1:\n",
            "Error while extracting menu/features for 다빈장, div 2:\n"
          ]
        },
        {
          "name": "stderr",
          "output_type": "stream",
          "text": [
            " 96%|█████████▋| 962/999 [5:52:58<14:49, 24.05s/it]"
          ]
        },
        {
          "name": "stdout",
          "output_type": "stream",
          "text": [
            "다섯번째이야기: searchIframe 로드 및 프레임 전환 완료\n",
            "다섯번째이야기: 첫 번째 가게 클릭 후 전환되지 않음. 다음 가게로 진행\n",
            "entryIframe 로드.\n",
            "Error while extracting menu/features for 다섯번째이야기, div 1:\n",
            "Error while extracting menu/features for 다섯번째이야기, div 2:\n"
          ]
        },
        {
          "name": "stderr",
          "output_type": "stream",
          "text": [
            " 96%|█████████▋| 963/999 [5:53:23<14:43, 24.53s/it]"
          ]
        },
        {
          "name": "stdout",
          "output_type": "stream",
          "text": [
            "다섯시갈비: searchIframe 로드 및 프레임 전환 완료\n",
            "다섯시갈비: entryIframe이 이미 로드됨. 클릭 없이 바로 진행\n",
            "entryIframe 로드.\n",
            "Error while extracting menu/features for 다섯시갈비, div 1:\n",
            "Error while extracting menu/features for 다섯시갈비, div 2:\n"
          ]
        },
        {
          "name": "stderr",
          "output_type": "stream",
          "text": [
            " 96%|█████████▋| 964/999 [5:53:44<13:41, 23.47s/it]"
          ]
        },
        {
          "name": "stdout",
          "output_type": "stream",
          "text": [
            "다소니: searchIframe 로드 및 프레임 전환 완료\n",
            "다소니: 첫 번째 가게 클릭 후 전환되지 않음. 다음 가게로 진행\n",
            "entryIframe 로드.\n",
            "Error while extracting menu/features for 다소니, div 1:\n",
            "Error while extracting menu/features for 다소니, div 2:\n"
          ]
        },
        {
          "name": "stderr",
          "output_type": "stream",
          "text": [
            " 97%|█████████▋| 965/999 [5:54:11<13:46, 24.32s/it]"
          ]
        },
        {
          "name": "stdout",
          "output_type": "stream",
          "text": [
            "다소니전집: searchIframe 로드 및 프레임 전환 완료\n",
            "Error while clicking first search result for 다소니전집: Unable to locate list container.\n"
          ]
        },
        {
          "name": "stderr",
          "output_type": "stream",
          "text": [
            " 97%|█████████▋| 966/999 [5:54:32<12:49, 23.31s/it]"
          ]
        },
        {
          "name": "stdout",
          "output_type": "stream",
          "text": [
            "Failed to load iframe after multiple attempts for 다소니전집.\n",
            "crawling fatil : 다소니전집 to fail_to_crawling\n",
            "다시또오리: searchIframe 로드 및 프레임 전환 완료\n",
            "다시또오리: 첫 번째 가게 클릭 후 전환되지 않음. 다음 가게로 진행\n",
            "entryIframe 로드.\n",
            "Error while extracting menu/features for 다시또오리, div 1:\n",
            "Error while extracting menu/features for 다시또오리, div 2:\n"
          ]
        },
        {
          "name": "stderr",
          "output_type": "stream",
          "text": [
            " 97%|█████████▋| 967/999 [5:54:57<12:50, 24.07s/it]"
          ]
        },
        {
          "name": "stdout",
          "output_type": "stream",
          "text": [
            "다시버시: searchIframe 로드 및 프레임 전환 완료\n",
            "다시버시: entryIframe이 이미 로드됨. 클릭 없이 바로 진행\n",
            "entryIframe 로드.\n",
            "Error while extracting menu/features for 다시버시, div 1:\n",
            "Error while extracting menu/features for 다시버시, div 2:\n"
          ]
        },
        {
          "name": "stderr",
          "output_type": "stream",
          "text": [
            " 97%|█████████▋| 968/999 [5:55:17<11:42, 22.66s/it]"
          ]
        },
        {
          "name": "stdout",
          "output_type": "stream",
          "text": [
            "다시정식당: searchIframe 로드 및 프레임 전환 완료\n",
            "다시정식당: 첫 번째 가게 클릭 후 전환되지 않음. 다음 가게로 진행\n",
            "entryIframe 로드.\n",
            "Error while extracting menu/features for 다시정식당, div 1:\n",
            "Error while extracting menu/features for 다시정식당, div 2:\n"
          ]
        },
        {
          "name": "stderr",
          "output_type": "stream",
          "text": [
            " 97%|█████████▋| 969/999 [5:55:43<11:51, 23.73s/it]"
          ]
        },
        {
          "name": "stdout",
          "output_type": "stream",
          "text": [
            "다쏘니: searchIframe 로드 및 프레임 전환 완료\n",
            "다쏘니: 링크버튼을 찾을 수 없음. xpath 대신 다른 방법 시도\n"
          ]
        },
        {
          "name": "stderr",
          "output_type": "stream",
          "text": [
            " 97%|█████████▋| 970/999 [5:56:01<10:35, 21.90s/it]"
          ]
        },
        {
          "name": "stdout",
          "output_type": "stream",
          "text": [
            "Failed to load iframe after multiple attempts for 다쏘니.\n",
            "crawling fatil : 다쏘니 to fail_to_crawling\n",
            "다오라민포: searchIframe 로드 및 프레임 전환 완료\n",
            "다오라민포: entryIframe이 이미 로드됨. 클릭 없이 바로 진행\n",
            "entryIframe 로드.\n",
            "Error while extracting menu/features for 다오라민포, div 1:\n",
            "Error while extracting menu/features for 다오라민포, div 2:\n"
          ]
        },
        {
          "name": "stderr",
          "output_type": "stream",
          "text": [
            " 97%|█████████▋| 971/999 [5:56:22<10:08, 21.75s/it]"
          ]
        },
        {
          "name": "stdout",
          "output_type": "stream",
          "text": [
            "다온까페: searchIframe 로드 및 프레임 전환 완료\n",
            "다온까페: 첫 번째 가게 클릭 후 전환되지 않음. 다음 가게로 진행\n",
            "entryIframe 로드.\n",
            "Error while extracting menu/features for 다온까페, div 1:\n",
            "Error while extracting menu/features for 다온까페, div 2:\n"
          ]
        },
        {
          "name": "stderr",
          "output_type": "stream",
          "text": [
            " 97%|█████████▋| 972/999 [5:56:51<10:46, 23.95s/it]"
          ]
        },
        {
          "name": "stdout",
          "output_type": "stream",
          "text": [
            "다올국수: searchIframe 로드 및 프레임 전환 완료\n",
            "다올국수: 첫 번째 가게 클릭 후 전환되지 않음. 다음 가게로 진행\n",
            "entryIframe 로드.\n",
            "Error while extracting menu/features for 다올국수, div 1:\n",
            "Error while extracting menu/features for 다올국수, div 2:\n"
          ]
        },
        {
          "name": "stderr",
          "output_type": "stream",
          "text": [
            " 97%|█████████▋| 973/999 [5:57:17<10:41, 24.67s/it]"
          ]
        },
        {
          "name": "stdout",
          "output_type": "stream",
          "text": [
            "다올김밥분식: searchIframe 로드 및 프레임 전환 완료\n",
            "다올김밥분식: 첫 번째 가게 클릭 후 전환되지 않음. 다음 가게로 진행\n",
            "entryIframe 로드.\n",
            "Error while extracting menu/features for 다올김밥분식, div 1:\n",
            "Error while extracting menu/features for 다올김밥분식, div 2:\n"
          ]
        },
        {
          "name": "stderr",
          "output_type": "stream",
          "text": [
            " 97%|█████████▋| 974/999 [5:57:44<10:28, 25.13s/it]"
          ]
        },
        {
          "name": "stdout",
          "output_type": "stream",
          "text": [
            "다올레: searchIframe 로드 및 프레임 전환 완료\n",
            "다올레: 링크버튼을 찾을 수 없음. xpath 대신 다른 방법 시도\n"
          ]
        },
        {
          "name": "stderr",
          "output_type": "stream",
          "text": [
            " 98%|█████████▊| 975/999 [5:58:02<09:11, 22.97s/it]"
          ]
        },
        {
          "name": "stdout",
          "output_type": "stream",
          "text": [
            "Failed to load iframe after multiple attempts for 다올레.\n",
            "crawling fatil : 다올레 to fail_to_crawling\n",
            "다올밥상: searchIframe 로드 및 프레임 전환 완료\n",
            "다올밥상: 링크버튼을 찾을 수 없음. xpath 대신 다른 방법 시도\n"
          ]
        },
        {
          "name": "stderr",
          "output_type": "stream",
          "text": [
            " 98%|█████████▊| 976/999 [5:58:19<08:12, 21.41s/it]"
          ]
        },
        {
          "name": "stdout",
          "output_type": "stream",
          "text": [
            "Failed to load iframe after multiple attempts for 다올밥상.\n",
            "crawling fatil : 다올밥상 to fail_to_crawling\n",
            "다올정: searchIframe 로드 및 프레임 전환 완료\n",
            "다올정: 첫 번째 가게 클릭 후 전환되지 않음. 다음 가게로 진행\n",
            "entryIframe 로드.\n",
            "Error while extracting datalab information for 다올정:\n",
            "Error while navigating to reviews for 다올정:\n"
          ]
        },
        {
          "name": "stderr",
          "output_type": "stream",
          "text": [
            " 98%|█████████▊| 977/999 [5:58:45<08:16, 22.57s/it]"
          ]
        },
        {
          "name": "stdout",
          "output_type": "stream",
          "text": [
            "이미지 추출 오류 2 for 다올정 \n",
            "이미지 추출 오류 3 for 다올정 \n",
            "이미지 추출 오류 4 for 다올정 \n",
            "이미지 추출 오류 5 for 다올정 \n",
            "이미지 추출 오류 6 for 다올정 \n",
            "이미지 추출 오류 7 for 다올정 \n",
            "이미지 추출 오류 8 for 다올정 \n",
            "이미지 추출 오류 9 for 다올정 \n",
            "이미지 추출 오류 10 for 다올정 \n",
            "다올키친: searchIframe 로드 및 프레임 전환 완료\n",
            "다올키친: 첫 번째 가게 클릭 후 전환되지 않음. 다음 가게로 진행\n",
            "entryIframe 로드.\n",
            "Error while extracting datalab information for 다올키친:\n",
            "Error while navigating to reviews for 다올키친:\n"
          ]
        },
        {
          "name": "stderr",
          "output_type": "stream",
          "text": [
            " 98%|█████████▊| 978/999 [5:59:08<08:01, 22.93s/it]"
          ]
        },
        {
          "name": "stdout",
          "output_type": "stream",
          "text": [
            "다옴: searchIframe 로드 및 프레임 전환 완료\n",
            "다옴: 첫 번째 가게 클릭 후 전환되지 않음. 다음 가게로 진행\n",
            "entryIframe 로드.\n",
            "Error while extracting menu/features for 다옴, div 1:\n",
            "Error while extracting menu/features for 다옴, div 2:\n"
          ]
        },
        {
          "name": "stderr",
          "output_type": "stream",
          "text": [
            " 98%|█████████▊| 979/999 [5:59:37<08:12, 24.64s/it]"
          ]
        },
        {
          "name": "stdout",
          "output_type": "stream",
          "text": [
            "다운타우너 제주애월: searchIframe 로드 및 프레임 전환 완료\n",
            "Error while clicking first search result for 다운타우너 제주애월: Unable to locate list container.\n"
          ]
        },
        {
          "name": "stderr",
          "output_type": "stream",
          "text": [
            " 98%|█████████▊| 980/999 [6:00:00<07:40, 24.24s/it]"
          ]
        },
        {
          "name": "stdout",
          "output_type": "stream",
          "text": [
            "Failed to load iframe after multiple attempts for 다운타우너 제주애월.\n",
            "crawling fatil : 다운타우너 제주애월 to fail_to_crawling\n",
            "다원우: searchIframe 로드 및 프레임 전환 완료\n",
            "다원우: entryIframe이 이미 로드됨. 클릭 없이 바로 진행\n",
            "entryIframe 로드.\n",
            "Error while extracting menu/features for 다원우, div 1:\n",
            "Error while extracting menu/features for 다원우, div 2:\n"
          ]
        },
        {
          "name": "stderr",
          "output_type": "stream",
          "text": [
            " 98%|█████████▊| 981/999 [6:00:22<07:03, 23.50s/it]"
          ]
        },
        {
          "name": "stdout",
          "output_type": "stream",
          "text": [
            "다육이풍경: searchIframe 로드 및 프레임 전환 완료\n",
            "다육이풍경: 첫 번째 가게 클릭 후 전환되지 않음. 다음 가게로 진행\n",
            "entryIframe 로드.\n",
            "Error while extracting menu/features for 다육이풍경, div 1:\n",
            "Error while extracting menu/features for 다육이풍경, div 2:\n"
          ]
        },
        {
          "name": "stderr",
          "output_type": "stream",
          "text": [
            " 98%|█████████▊| 982/999 [6:00:48<06:53, 24.32s/it]"
          ]
        },
        {
          "name": "stdout",
          "output_type": "stream",
          "text": [
            "다윤이네: searchIframe 로드 및 프레임 전환 완료\n",
            "다윤이네: entryIframe이 이미 로드됨. 클릭 없이 바로 진행\n",
            "entryIframe 로드.\n",
            "Error while extracting menu/features for 다윤이네, div 1:\n",
            "Error while extracting menu/features for 다윤이네, div 2:\n"
          ]
        },
        {
          "name": "stderr",
          "output_type": "stream",
          "text": [
            " 98%|█████████▊| 983/999 [6:01:10<06:15, 23.45s/it]"
          ]
        },
        {
          "name": "stdout",
          "output_type": "stream",
          "text": [
            "다은식당: searchIframe 로드 및 프레임 전환 완료\n",
            "다은식당: 첫 번째 가게 클릭 후 전환되지 않음. 다음 가게로 진행\n",
            "entryIframe 로드.\n",
            "Error while extracting menu/features for 다은식당, div 1:\n",
            "Error while extracting menu/features for 다은식당, div 2:\n"
          ]
        },
        {
          "name": "stderr",
          "output_type": "stream",
          "text": [
            " 98%|█████████▊| 984/999 [6:01:38<06:12, 24.84s/it]"
          ]
        },
        {
          "name": "stdout",
          "output_type": "stream",
          "text": [
            "다이노바이트 샌드위치: searchIframe 로드 및 프레임 전환 완료\n",
            "다이노바이트 샌드위치: entryIframe이 이미 로드됨. 클릭 없이 바로 진행\n",
            "entryIframe 로드.\n",
            "Error while extracting menu/features for 다이노바이트 샌드위치, div 1:\n",
            "Error while extracting menu/features for 다이노바이트 샌드위치, div 2:\n"
          ]
        },
        {
          "name": "stderr",
          "output_type": "stream",
          "text": [
            " 99%|█████████▊| 985/999 [6:01:59<05:33, 23.80s/it]"
          ]
        },
        {
          "name": "stdout",
          "output_type": "stream",
          "text": [
            "다이아: searchIframe 로드 및 프레임 전환 완료\n",
            "다이아: 링크버튼을 찾을 수 없음. xpath 대신 다른 방법 시도\n"
          ]
        },
        {
          "name": "stderr",
          "output_type": "stream",
          "text": [
            " 99%|█████████▊| 986/999 [6:02:17<04:47, 22.09s/it]"
          ]
        },
        {
          "name": "stdout",
          "output_type": "stream",
          "text": [
            "Failed to load iframe after multiple attempts for 다이아.\n",
            "crawling fatil : 다이아 to fail_to_crawling\n",
            "다인가든: searchIframe 로드 및 프레임 전환 완료\n",
            "다인가든: 링크버튼을 찾을 수 없음. xpath 대신 다른 방법 시도\n"
          ]
        },
        {
          "name": "stderr",
          "output_type": "stream",
          "text": [
            " 99%|█████████▉| 987/999 [6:02:35<04:08, 20.73s/it]"
          ]
        },
        {
          "name": "stdout",
          "output_type": "stream",
          "text": [
            "Failed to load iframe after multiple attempts for 다인가든.\n",
            "crawling fatil : 다인가든 to fail_to_crawling\n",
            "다정이네: searchIframe 로드 및 프레임 전환 완료\n",
            "다정이네: 링크버튼을 찾을 수 없음. xpath 대신 다른 방법 시도\n"
          ]
        },
        {
          "name": "stderr",
          "output_type": "stream",
          "text": [
            " 99%|█████████▉| 988/999 [6:02:53<03:38, 19.90s/it]"
          ]
        },
        {
          "name": "stdout",
          "output_type": "stream",
          "text": [
            "Failed to load iframe after multiple attempts for 다정이네.\n",
            "crawling fatil : 다정이네 to fail_to_crawling\n",
            "다정이네김밥 서귀포신시가지점: searchIframe 로드 및 프레임 전환 완료\n",
            "다정이네김밥 서귀포신시가지점: entryIframe이 이미 로드됨. 클릭 없이 바로 진행\n",
            "entryIframe 로드.\n",
            "Error while extracting menu/features for 다정이네김밥 서귀포신시가지점, div 1:\n",
            "Error while extracting menu/features for 다정이네김밥 서귀포신시가지점, div 2:\n"
          ]
        },
        {
          "name": "stderr",
          "output_type": "stream",
          "text": [
            " 99%|█████████▉| 989/999 [6:03:15<03:24, 20.45s/it]"
          ]
        },
        {
          "name": "stdout",
          "output_type": "stream",
          "text": [
            "다정이네김밥서귀포신시가지점: searchIframe 로드 및 프레임 전환 완료\n",
            "다정이네김밥서귀포신시가지점: entryIframe이 이미 로드됨. 클릭 없이 바로 진행\n",
            "entryIframe 로드.\n",
            "Error while extracting menu/features for 다정이네김밥서귀포신시가지점, div 1:\n",
            "Error while extracting menu/features for 다정이네김밥서귀포신시가지점, div 2:\n"
          ]
        },
        {
          "name": "stderr",
          "output_type": "stream",
          "text": [
            " 99%|█████████▉| 990/999 [6:03:34<03:00, 20.11s/it]"
          ]
        },
        {
          "name": "stdout",
          "output_type": "stream",
          "text": [
            "다정하다: searchIframe 로드 및 프레임 전환 완료\n",
            "다정하다: entryIframe이 이미 로드됨. 클릭 없이 바로 진행\n",
            "entryIframe 로드.\n",
            "Error while extracting menu/features for 다정하다, div 1:\n",
            "Error while extracting menu/features for 다정하다, div 2:\n"
          ]
        },
        {
          "name": "stderr",
          "output_type": "stream",
          "text": [
            " 99%|█████████▉| 991/999 [6:03:53<02:39, 19.90s/it]"
          ]
        },
        {
          "name": "stdout",
          "output_type": "stream",
          "text": [
            "다정한식탁: searchIframe 로드 및 프레임 전환 완료\n",
            "다정한식탁: entryIframe이 이미 로드됨. 클릭 없이 바로 진행\n",
            "entryIframe 로드.\n",
            "Error while extracting menu/features for 다정한식탁, div 1:\n",
            "Error while extracting menu/features for 다정한식탁, div 2:\n"
          ]
        },
        {
          "name": "stderr",
          "output_type": "stream",
          "text": [
            " 99%|█████████▉| 992/999 [6:04:14<02:21, 20.23s/it]"
          ]
        },
        {
          "name": "stdout",
          "output_type": "stream",
          "text": [
            "다찜: searchIframe 로드 및 프레임 전환 완료\n",
            "다찜: 첫 번째 가게 클릭 후 전환되지 않음. 다음 가게로 진행\n",
            "entryIframe 로드.\n",
            "Error while extracting menu/features for 다찜, div 1:\n",
            "Error while extracting menu/features for 다찜, div 2:\n"
          ]
        },
        {
          "name": "stderr",
          "output_type": "stream",
          "text": [
            " 99%|█████████▉| 993/999 [6:04:43<02:15, 22.66s/it]"
          ]
        },
        {
          "name": "stdout",
          "output_type": "stream",
          "text": [
            "다채움: searchIframe 로드 및 프레임 전환 완료\n",
            "다채움: 링크버튼을 찾을 수 없음. xpath 대신 다른 방법 시도\n"
          ]
        },
        {
          "name": "stderr",
          "output_type": "stream",
          "text": [
            " 99%|█████████▉| 994/999 [6:05:01<01:46, 21.30s/it]"
          ]
        },
        {
          "name": "stdout",
          "output_type": "stream",
          "text": [
            "Failed to load iframe after multiple attempts for 다채움.\n",
            "crawling fatil : 다채움 to fail_to_crawling\n",
            "다트바 불스: searchIframe 로드 및 프레임 전환 완료\n",
            "다트바 불스: entryIframe이 이미 로드됨. 클릭 없이 바로 진행\n",
            "entryIframe 로드.\n",
            "Error while navigating to reviews for 다트바 불스:\n"
          ]
        },
        {
          "name": "stderr",
          "output_type": "stream",
          "text": [
            "100%|█████████▉| 995/999 [6:05:22<01:24, 21.15s/it]"
          ]
        },
        {
          "name": "stdout",
          "output_type": "stream",
          "text": [
            "다판다&아이스크림스토리제주연동점: searchIframe 로드 및 프레임 전환 완료\n",
            "Error while clicking first search result for 다판다&아이스크림스토리제주연동점: Unable to locate list container.\n"
          ]
        },
        {
          "name": "stderr",
          "output_type": "stream",
          "text": [
            "100%|█████████▉| 996/999 [6:05:42<01:02, 20.90s/it]"
          ]
        },
        {
          "name": "stdout",
          "output_type": "stream",
          "text": [
            "Failed to load iframe after multiple attempts for 다판다&아이스크림스토리제주연동점.\n",
            "crawling fatil : 다판다&아이스크림스토리제주연동점 to fail_to_crawling\n",
            "다해복국: searchIframe 로드 및 프레임 전환 완료\n",
            "다해복국: entryIframe이 이미 로드됨. 클릭 없이 바로 진행\n",
            "entryIframe 로드.\n",
            "Error while extracting menu/features for 다해복국, div 1:\n",
            "Error while navigating to reviews for 다해복국:\n"
          ]
        },
        {
          "name": "stderr",
          "output_type": "stream",
          "text": [
            "100%|█████████▉| 997/999 [6:06:05<00:42, 21.47s/it]"
          ]
        },
        {
          "name": "stdout",
          "output_type": "stream",
          "text": [
            "다희네민물장어: searchIframe 로드 및 프레임 전환 완료\n",
            "Error while clicking first search result for 다희네민물장어: Unable to locate list container.\n"
          ]
        },
        {
          "name": "stderr",
          "output_type": "stream",
          "text": [
            "100%|█████████▉| 998/999 [6:06:25<00:21, 21.21s/it]"
          ]
        },
        {
          "name": "stdout",
          "output_type": "stream",
          "text": [
            "Failed to load iframe after multiple attempts for 다희네민물장어.\n",
            "crawling fatil : 다희네민물장어 to fail_to_crawling\n",
            "닥그네할망: searchIframe 로드 및 프레임 전환 완료\n",
            "닥그네할망: entryIframe이 이미 로드됨. 클릭 없이 바로 진행\n",
            "entryIframe 로드.\n",
            "Error while extracting menu/features for 닥그네할망, div 1:\n",
            "Error while extracting menu/features for 닥그네할망, div 2:\n"
          ]
        },
        {
          "name": "stderr",
          "output_type": "stream",
          "text": [
            "100%|██████████| 999/999 [6:06:47<00:00, 22.03s/it]\n"
          ]
        }
      ],
      "source": [
        "from selenium import webdriver\n",
        "from selenium.webdriver.common.by import By\n",
        "from selenium.webdriver.common.keys import Keys\n",
        "from selenium.webdriver.support.ui import WebDriverWait\n",
        "from selenium.webdriver.support import expected_conditions as EC\n",
        "from selenium.common.exceptions import TimeoutException, NoSuchElementException\n",
        "import time\n",
        "import pandas as pd\n",
        "from selenium.webdriver import ActionChains\n",
        "from tqdm import tqdm\n",
        "\n",
        "# Define the list of stores to be scraped\n",
        "stores = search_cols_1\n",
        "# stores = ['협재해녀의집']\n",
        "# Initialize webdriver options and webdriver\n",
        "options = webdriver.ChromeOptions()\n",
        "options.add_argument(\"--start-maximized\")\n",
        "driver = webdriver.Chrome(options=options)\n",
        "\n",
        "action = ActionChains(driver)\n",
        "fail_to_crawling = []\n",
        "\n",
        "\n",
        "###################### 검색 키워드를 바탕으로 시작\n",
        "results = []\n",
        "for store in tqdm(stores):\n",
        "    not_loading=False\n",
        "    ######################### 기본세팅\n",
        "    # URL 입력\n",
        "    keyword = store\n",
        "    url = f'https://map.naver.com/p/search/{keyword}'\n",
        "    driver.get(url)\n",
        "    \n",
        "    # 페이지 로드 \n",
        "    try:\n",
        "        WebDriverWait(driver, 3).until(\n",
        "            lambda d: d.execute_script('return document.readyState') == 'complete'\n",
        "        )\n",
        "        # print(f\"{store}: 페이지 로드 완료\")\n",
        "    except TimeoutException:\n",
        "        print(f\"타임아웃 for {store}!\")\n",
        "        continue\n",
        "\n",
        "    # iframe을 찾고, 해당 iframe이 searchIframe인지 entryIframe인지 구분\n",
        "    while True:\n",
        "        try:\n",
        "            iframe = WebDriverWait(driver, 3).until(\n",
        "                EC.presence_of_element_located((By.XPATH, '//*[@id=\"searchIframe\" or @id=\"entryIframe\"]'))\n",
        "            )\n",
        "            iframe_id = iframe.get_attribute(\"id\")\n",
        "            driver.switch_to.frame(iframe)\n",
        "            print(f\"{store}: {iframe_id} 로드 및 프레임 전환 완료\")\n",
        "\n",
        "            if iframe_id == \"searchIframe\":\n",
        "                # searchIframe일 경우 entryIframe이 있는지 먼저 확인\n",
        "                driver.switch_to.default_content()\n",
        "                try:\n",
        "                    entry_iframe = WebDriverWait(driver, 3).until(\n",
        "                        EC.presence_of_element_located((By.ID, 'entryIframe'))\n",
        "                    )\n",
        "                    # entryIframe이 이미 로드된 경우: 클릭하지 않고 바로 entryIframe 처리로 넘어감\n",
        "                    print(f\"{store}: entryIframe이 이미 로드됨. 클릭 없이 바로 진행\")\n",
        "                    driver.switch_to.frame(entry_iframe)\n",
        "                    break\n",
        "                except TimeoutException:\n",
        "                    # entryIframe이 없는 경우: searchIframe 내에서 클릭 진행\n",
        "                    driver.switch_to.frame(iframe)\n",
        "                    time.sleep(1)\n",
        "                    try:\n",
        "                        list_scroll_container = WebDriverWait(driver, 3).until(\n",
        "                            EC.presence_of_element_located((By.XPATH, '//*[@id=\"app-root\"]/div[@class=\"mFg6p\"]/div[@class=\"XUrfU\"]/div[@class=\"Ryr1F\"]'))\n",
        "                        )\n",
        "                        # print(f\"{store}: 검색 결과 로드 완료\")\n",
        "                        # 첫번째 가게항목 찾기\n",
        "                        try:\n",
        "                            first_result = list_scroll_container.find_element(By.XPATH, './ul/li[1]')\n",
        "                        except NoSuchElementException:\n",
        "                            print(f\"{store}: 첫 번째 가게 항목을 찾을 수 없음\")\n",
        "                            break\n",
        "\n",
        "                        # Try clicking using XPath first with different methods\n",
        "                        try:\n",
        "                            link_button = first_result.find_element(By.XPATH, './div[1]/div[2]/a[1]/div/div/span')\n",
        "                            # print(f\"{store}: 링크 버튼 찾기 성공, 클릭 시도 중\")\n",
        "                            \n",
        "                            # Method 1: Use ActionChains\n",
        "                            try:\n",
        "                                action.move_to_element(link_button).click().perform()\n",
        "                                # print(f\"{store}: 첫 번째 가게 클릭 성공 (ActionChains)\")\n",
        "                            except Exception as e:\n",
        "                                print(f\"{store}: ActionChains 클릭 실패 - {e}, 자바스크립트를 이용해 클릭 시도 중\")\n",
        "                                # Method 2: Use JavaScript click\n",
        "                                driver.execute_script(\"arguments[0].click();\", link_button)\n",
        "                                # print(f\"{store}: 첫 번째 가게 클릭 성공 (JavaScript)\")\n",
        "\n",
        "                            time.sleep(1)\n",
        "                            driver.switch_to.default_content()\n",
        "\n",
        "                            # searchIframe이 사라질 때까지 대기 (entryIframe으로 전환 준비)\n",
        "                            WebDriverWait(driver, 2).until_not(\n",
        "                                EC.presence_of_element_located((By.ID, \"searchIframe\"))\n",
        "                            )\n",
        "                            # print(f\"{store}: searchIframe이 사라지고 entryIframe 로드를 기다림\")\n",
        "                        except NoSuchElementException:\n",
        "                            print(f\"{store}: 링크버튼을 찾을 수 없음. xpath 대신 다른 방법 시도\")\n",
        "                            break\n",
        "                        except TimeoutException:\n",
        "                            print(f\"{store}: 첫 번째 가게 클릭 후 전환되지 않음. 다음 가게로 진행\")\n",
        "                            break\n",
        "                    except TimeoutException:\n",
        "                        print(f\"Error while clicking first search result for {store}: Unable to locate list container.\")\n",
        "                        break\n",
        "            elif iframe_id == \"entryIframe\":\n",
        "                # entryIframe일 경우 바로 진행\n",
        "                print(f\"{store}: entryIframe 로드됨. 데이터 로딩 확인 진행 중\")\n",
        "                break\n",
        "        except TimeoutException:\n",
        "            print(f\"iframe을 찾을 수 없음 for {store}\")\n",
        "            fail_to_crawling.append(store)\n",
        "            break\n",
        "\n",
        "    # 2. entryIframe일 경우 밑의 코드 진행 \n",
        "    # iframe 세팅\n",
        "    attempts = 0\n",
        "    max_attempts = 2\n",
        "    while attempts < max_attempts:\n",
        "        try:\n",
        "            driver.switch_to.default_content()\n",
        "            iframe = WebDriverWait(driver, 5).until(\n",
        "                EC.presence_of_element_located((By.XPATH, '//*[@id=\"entryIframe\"]'))\n",
        "            )\n",
        "            print(f\"entryIframe 로드.\")\n",
        "            driver.switch_to.frame(iframe)\n",
        "            break\n",
        "        except TimeoutException:\n",
        "            attempts += 1\n",
        "            time.sleep(1)  \n",
        "            if attempts == max_attempts:\n",
        "                print(f\"Failed to load iframe after multiple attempts for {store}.\")\n",
        "                # 크롤링 실패한 부분은 리스트에 저장해서 다시 돌릴 수 있도록 지정\n",
        "                \n",
        "                not_loading=True\n",
        "                break\n",
        "    if not_loading :\n",
        "        print(f\"crawling fatil : {store} to fail_to_crawling\")\n",
        "        fail_to_crawling.append(store)\n",
        "        continue\n",
        "    # 로딩을 위해 스크롤링 진행\n",
        "    SCROLL_PAUSE_TIME = 2\n",
        "    last_height = driver.execute_script(\"return document.body.scrollHeight\")\n",
        "    while True:\n",
        "        driver.execute_script(\"window.scrollTo(0, document.body.scrollHeight);\")\n",
        "        time.sleep(SCROLL_PAUSE_TIME)\n",
        "        new_height = driver.execute_script(\"return document.body.scrollHeight\")\n",
        "        if new_height == last_height:\n",
        "            break\n",
        "        last_height = new_height\n",
        "    \n",
        "    \n",
        "    time.sleep(1)\n",
        "    ## 주소 가져오기\n",
        "    try:\n",
        "        app_root = driver.find_element(By.XPATH, '//*[@id=\"app-root\"]')\n",
        "        main_div = app_root.find_element(By.XPATH, './div/div/div[@role=\"main\"]')\n",
        "        target_div = main_div.find_element(By.XPATH, './div[contains(@style, \"min-height\")]')\n",
        "        address_section = target_div.find_element(By.XPATH, './div/div[2]')\n",
        "        address_keyword = address_section.find_element(By.CLASS_NAME, 'place_section_content')\n",
        "        \n",
        "        # entryIframe에서 로드가 끝난 후 스크롤이 완료된 뒤 실행\n",
        "        target_element = address_keyword.find_element(By.XPATH, './/a/span[1]')\n",
        "\n",
        "        ldgih_text = target_element.text\n",
        "        # print(f\"LDgIH 클래스 내용: {ldgih_text}\")\n",
        "        # result[\"주소\"] = ldgih_text\n",
        "    except NoSuchElementException:\n",
        "        ldgih_text = None\n",
        "    except Exception as e:\n",
        "        ldgih_text = None\n",
        "    ###################### datalab 크롤링\n",
        "    try:\n",
        "        app_root = driver.find_element(By.XPATH, '//*[@id=\"app-root\"]')\n",
        "        main_div = app_root.find_element(By.XPATH, './div/div/div[@role=\"main\"]')\n",
        "        target_div = main_div.find_element(By.XPATH, './div[contains(@style, \"min-height\")]')\n",
        "        datalab_section = target_div.find_element(By.XPATH, './div/div[9]')\n",
        "        theme_keywords = datalab_section.find_element(By.CLASS_NAME, 'place_section_content')\n",
        "\n",
        "        atmosphere_elements = theme_keywords.find_elements(By.XPATH, \".//ul/li[span[contains(text(), '분위기')]]/span[@class='sJgQj']/span\")\n",
        "        popular_elements = theme_keywords.find_elements(By.XPATH, \".//ul/li[span[contains(text(), '인기토픽')]]/span[@class='sJgQj']/span\")\n",
        "        purpose_elements = theme_keywords.find_elements(By.XPATH, \".//ul/li[span[contains(text(), '찾는목적')]]/span[@class='sJgQj']/span\")\n",
        "\n",
        "        atmosphere = [elem.text for elem in atmosphere_elements]\n",
        "        popular_topics = [elem.text for elem in popular_elements]\n",
        "        purpose = [elem.text for elem in purpose_elements]\n",
        "\n",
        "    except Exception as e:\n",
        "        print(f\"Error while extracting datalab information for {store}:\")\n",
        "    result = {\n",
        "            \"가게\": store,\n",
        "            '주소' : ldgih_text,\n",
        "            \"테마_분위기\": atmosphere,\n",
        "            \"테마_인기토픽\": popular_topics,\n",
        "            \"테마_찾는목적\": purpose\n",
        "        }\n",
        "    results.append(result)\n",
        "    time.sleep(3)\n",
        "\n",
        "    ############################## 리뷰로 넘어가서 진행하기\n",
        "    try:\n",
        "        # 리뷰버튼 클릭\n",
        "        for k in range(1, 6) : \n",
        "            try: \n",
        "                tab_button = driver.find_element(By.XPATH, f'//*[@id=\"app-root\"]/div/div/div/div[4]/div/div/div/div/a[{k}]')\n",
        "                span_text = tab_button.find_element(By.XPATH, './span').text\n",
        "                if span_text == '리뷰':\n",
        "                    review_button = tab_button\n",
        "                    break \n",
        "            except Exception as e:\n",
        "                continue \n",
        "        if review_button: \n",
        "            review_button.click() \n",
        "            # 리뷰 탭 로딩 확인\n",
        "            try:\n",
        "                WebDriverWait(driver, 5).until(\n",
        "                    EC.presence_of_element_located((By.XPATH, '//*[@id=\"app-root\"]/div/div/div/div[6]'))\n",
        "                )\n",
        "                # print(f\"{store}: 리뷰 페이지 로드 성공\")\n",
        "            except TimeoutException:\n",
        "                print(f\"{store}: 리뷰 페이지 로드 실패, 사진 수집으로 넘어가지 않음\")\n",
        "                continue\n",
        "\n",
        "        # iframe 로딩을 위해 스크롤링 진행\n",
        "        last_height = driver.execute_script(\"return document.body.scrollHeight\")\n",
        "        while True:\n",
        "            driver.execute_script(\"window.scrollTo(0, document.body.scrollHeight);\")\n",
        "            time.sleep(SCROLL_PAUSE_TIME)\n",
        "            new_height = driver.execute_script(\"return document.body.scrollHeight\")\n",
        "            if new_height == last_height:\n",
        "                break\n",
        "            last_height = new_height\n",
        "        # time.sleep(2)\n",
        "\n",
        "        # 리뷰 정보를 수집할 준비\n",
        "        \n",
        "        ############################## 리뷰 정보 수집\n",
        "        try:\n",
        "            review_box = driver.find_element(By.XPATH, '//*[@id=\"app-root\"]/div/div/div/div[6]/div[3]/div[3]/div[1]')\n",
        "        except:\n",
        "            review_box = driver.find_element(By.CLASS_NAME, 'place_section_content')\n",
        "\n",
        "        try:\n",
        "            tag_filters = review_box.find_element(By.XPATH, '//*[@id=\"_tag_filters\"]/div/div')\n",
        "        except:\n",
        "            tag_filters = review_box.find_element(By.CLASS_NAME, 'mWnvl')\n",
        "\n",
        "        menu_features = {}\n",
        "        feature_items = {}\n",
        "        for n in range(1, 3):\n",
        "            try:\n",
        "                div_element = tag_filters.find_element(By.XPATH, f'//*[@id=\"_tag_filters\"]/div/div[{n}]')\n",
        "            except:\n",
        "                div_element = tag_filters.find_element(By.XPATH, f'.//div[{n}]')\n",
        "\n",
        "            if n == 1:\n",
        "                div_class = \"JWiV0 eZMAS xcTvu\"  # 메뉴\n",
        "            elif n == 2:\n",
        "                div_class = \"JWiV0 khWUF eZMAS xcTvu\"  # 특징\n",
        "\n",
        "            try:\n",
        "                menu_items = div_element.find_elements(By.XPATH, './/a')\n",
        "                for item in menu_items:\n",
        "                    span_1 = item.find_element(By.XPATH, './span[1]').text\n",
        "                    span_2 = item.find_element(By.XPATH, './span[2]').text\n",
        "                    if n == 1:\n",
        "                        menu_features[span_1] = span_2\n",
        "                    elif n == 2:\n",
        "                        feature_items[span_1] = span_2\n",
        "            except Exception as e:\n",
        "                print(f\"Error while extracting menu/features for {store}, div {n}:\")\n",
        "\n",
        "        # Add the menu and features data to the result\n",
        "        result[\"메뉴\"] = menu_features\n",
        "        result[\"특징\"] = feature_items\n",
        "    except Exception as e:\n",
        "        print(f\"Error while navigating to reviews for {store}:\")\n",
        "    \n",
        "    ############################## 사진으로 넘어가서 진행하기\n",
        "    try:\n",
        "        # 사진 버튼 클릭\n",
        "        photo_button = None\n",
        "        for k in range(1, 6):\n",
        "            try:\n",
        "                tab_button = driver.find_element(By.XPATH, f'//*[@id=\"app-root\"]/div/div/div/div[4]/div/div/div/div/a[{k}]')\n",
        "                span_text = tab_button.find_element(By.XPATH, './span').text\n",
        "                if span_text == '사진':\n",
        "                    photo_button = tab_button\n",
        "                    \n",
        "                    break\n",
        "            except Exception as e:\n",
        "                continue\n",
        "        \n",
        "        if photo_button:\n",
        "            photo_button.click()\n",
        "            time.sleep(3)\n",
        "            WebDriverWait(driver, 5).until(\n",
        "                    EC.presence_of_element_located((By.XPATH, '//*[@id=\"app-root\"]/div/div/div/div[2]'))\n",
        "                )\n",
        "        else:\n",
        "            print(f\" 사진 버튼 없음 : {store}.\")\n",
        "            continue\n",
        "        \n",
        "        # 스크롤 세 번 진행\n",
        "        for _ in range(3):\n",
        "            driver.execute_script(\"window.scrollTo(0, document.body.scrollHeight);\")\n",
        "        time.sleep(1)\n",
        "        \n",
        "        # 사진 정보 수집\n",
        "        pic_tmp = []\n",
        "        try:\n",
        "            app_root = driver.find_element(By.XPATH, '//*[@id=\"app-root\"]')\n",
        "            main_div = app_root.find_element(By.XPATH, './div/div')\n",
        "            role_main_div = main_div.find_element(By.XPATH, './div[@role=\"main\"]')\n",
        "            target_div = role_main_div.find_element(By.XPATH, './div[contains(@style, \"min-height\")]')\n",
        "        except Exception as e:\n",
        "            print(f\"위치 못찾음 : {store}:\")\n",
        "            continue\n",
        "\n",
        "        try:\n",
        "            photo_section = target_div.find_element(By.XPATH, './div[contains(@class, \"place_section\")]')\n",
        "            # print(f'photo_section found: {photo_section}')\n",
        "        except:\n",
        "            try:\n",
        "                photo_section = target_div.find_element(By.CLASS_NAME, 'place_section no_margin')\n",
        "                # print(f'photo_section (alternative) found: {photo_section}')\n",
        "            except Exception as e:\n",
        "                print(f\"photo section 못찾음 {store}\")\n",
        "                continue\n",
        "        try:\n",
        "            photo_content = WebDriverWait(driver, 1).until(\n",
        "                EC.presence_of_element_located((By.CLASS_NAME, 'place_section_content'))\n",
        "            )\n",
        "            # print(f'photo_content found: {photo_content}')\n",
        "        except Exception as e:\n",
        "            print(f'photo_content 못찾음 {store}')\n",
        "            continue\n",
        "\n",
        "        # print(f\"photo_content : {photo_content}\")\n",
        "        for n in range(1, 11):\n",
        "            try:\n",
        "                photo_div = photo_content.find_element(By.XPATH, f'./div/div/div[{n}]/a')\n",
        "                img_element = photo_div.find_element(By.XPATH, './img')\n",
        "                img_src = img_element.get_attribute('src')\n",
        "                pic_tmp.append(img_src)\n",
        "            except Exception as e:\n",
        "                print(f\"이미지 추출 오류 {n} for {store} \")\n",
        "\n",
        "        result[\"사진\"] = pic_tmp\n",
        "    except Exception as e:\n",
        "        print(f\"Error while navigating to photos for {store}:\")\n",
        "\n",
        "    # Append the result for each store\n",
        "    results.append(result)\n",
        "\n",
        "################ Close the browser\n",
        "driver.quit()\n",
        "\n",
        "################### 크롤링 최종결과를 df에 저장\n",
        "df = pd.DataFrame(results)\n",
        "################## 원본데이터에 입력\n",
        "# df = pd.merge(df, shinhan, on='가게명', how='outer')\n",
        "\n",
        "################### 통합된 데이터 저장\n",
        "# df.to_csv('./crawling_shinhan.csv', index=False)\n"
      ]
    },
    {
      "cell_type": "markdown",
      "metadata": {},
      "source": [
        "# 테스트"
      ]
    },
    {
      "cell_type": "markdown",
      "metadata": {},
      "source": [
        "크롤링 실패한 부분 정리하고 결과물 저장"
      ]
    },
    {
      "cell_type": "code",
      "execution_count": 21,
      "metadata": {},
      "outputs": [
        {
          "data": {
            "text/plain": [
              "81"
            ]
          },
          "execution_count": 21,
          "metadata": {},
          "output_type": "execute_result"
        }
      ],
      "source": [
        "df['사진'].isna().sum()"
      ]
    },
    {
      "cell_type": "code",
      "execution_count": 22,
      "metadata": {},
      "outputs": [
        {
          "data": {
            "text/html": [
              "<div>\n",
              "<style scoped>\n",
              "    .dataframe tbody tr th:only-of-type {\n",
              "        vertical-align: middle;\n",
              "    }\n",
              "\n",
              "    .dataframe tbody tr th {\n",
              "        vertical-align: top;\n",
              "    }\n",
              "\n",
              "    .dataframe thead th {\n",
              "        text-align: right;\n",
              "    }\n",
              "</style>\n",
              "<table border=\"1\" class=\"dataframe\">\n",
              "  <thead>\n",
              "    <tr style=\"text-align: right;\">\n",
              "      <th></th>\n",
              "      <th>가게</th>\n",
              "      <th>주소</th>\n",
              "      <th>테마_분위기</th>\n",
              "      <th>테마_인기토픽</th>\n",
              "      <th>테마_찾는목적</th>\n",
              "      <th>메뉴</th>\n",
              "      <th>특징</th>\n",
              "      <th>사진</th>\n",
              "    </tr>\n",
              "  </thead>\n",
              "  <tbody>\n",
              "    <tr>\n",
              "      <th>0</th>\n",
              "      <td>고찌올레</td>\n",
              "      <td>제주 서귀포시 효돈순환로 217-3</td>\n",
              "      <td>()</td>\n",
              "      <td>()</td>\n",
              "      <td>()</td>\n",
              "      <td>((보말, 126), (보말죽, 96), (칼국수, 74), (보말칼국수, ), (...</td>\n",
              "      <td>((맛, 180), (만족도, 110), (서비스, 34), (음식량, 8), (, ))</td>\n",
              "      <td>(https://search.pstatic.net/common/?autoRotate...</td>\n",
              "    </tr>\n",
              "    <tr>\n",
              "      <th>2</th>\n",
              "      <td>고창댁풍천장어낙지</td>\n",
              "      <td>제주 제주시 동제원길 42</td>\n",
              "      <td>()</td>\n",
              "      <td>()</td>\n",
              "      <td>()</td>\n",
              "      <td>((장어, 32), (갈비, 12), (장어탕, 5), (민물장어, 2), (, ))</td>\n",
              "      <td>((맛, 45), (만족도, 39), (서비스, 8), (청결도, 2), (, ))</td>\n",
              "      <td>(https://search.pstatic.net/common/?autoRotate...</td>\n",
              "    </tr>\n",
              "    <tr>\n",
              "      <th>4</th>\n",
              "      <td>고코요</td>\n",
              "      <td>제주 제주시 동광로16길 19-13 1층</td>\n",
              "      <td>()</td>\n",
              "      <td>()</td>\n",
              "      <td>()</td>\n",
              "      <td>((꼬치, 14), (닭꼬치, 3), (하이볼, 3), (굴튀김, 2), (, ))</td>\n",
              "      <td>((맛, 32), (만족도, 31), (분위기, 17), (서비스, 7), (, ))</td>\n",
              "      <td>NaN</td>\n",
              "    </tr>\n",
              "    <tr>\n",
              "      <th>5</th>\n",
              "      <td>고평갯드르식당</td>\n",
              "      <td>제주 제주시 조천읍 남조로 2368</td>\n",
              "      <td>()</td>\n",
              "      <td>()</td>\n",
              "      <td>()</td>\n",
              "      <td>NaN</td>\n",
              "      <td>NaN</td>\n",
              "      <td>(https://search.pstatic.net/common/?autoRotate...</td>\n",
              "    </tr>\n",
              "    <tr>\n",
              "      <th>7</th>\n",
              "      <td>고할망네</td>\n",
              "      <td>제주 서귀포시 안덕면 사계남로 159-1</td>\n",
              "      <td>()</td>\n",
              "      <td>()</td>\n",
              "      <td>()</td>\n",
              "      <td>((우럭, 17), (갈치, 17), (갈치조림, 15), (생선, 14), (, ))</td>\n",
              "      <td>((맛, 109), (만족도, 60), (서비스, 21), (음식량, 4), (, ))</td>\n",
              "      <td>(https://search.pstatic.net/common/?autoRotate...</td>\n",
              "    </tr>\n",
              "    <tr>\n",
              "      <th>...</th>\n",
              "      <td>...</td>\n",
              "      <td>...</td>\n",
              "      <td>...</td>\n",
              "      <td>...</td>\n",
              "      <td>...</td>\n",
              "      <td>...</td>\n",
              "      <td>...</td>\n",
              "      <td>...</td>\n",
              "    </tr>\n",
              "    <tr>\n",
              "      <th>1395</th>\n",
              "      <td>다정한식탁</td>\n",
              "      <td>제주 서귀포시 중문로81번길 7-3</td>\n",
              "      <td>()</td>\n",
              "      <td>()</td>\n",
              "      <td>()</td>\n",
              "      <td>((돈까스, 21), (파스타, 8), (샐러드, 6), (치즈, 5), (, ))</td>\n",
              "      <td>((맛, 66), (만족도, 55), (서비스, 23), (음식량, 11), (, ))</td>\n",
              "      <td>(https://pup-review-phinf.pstatic.net/MjAyNDA5...</td>\n",
              "    </tr>\n",
              "    <tr>\n",
              "      <th>1397</th>\n",
              "      <td>다찜</td>\n",
              "      <td>경기 의정부시 부용로95번길 18 해피플러스 1층다찜</td>\n",
              "      <td>()</td>\n",
              "      <td>()</td>\n",
              "      <td>()</td>\n",
              "      <td>((아구찜, 32), (해물찜, 11), (낙지, 10), (볶음밥, 9), (, ))</td>\n",
              "      <td>((맛, 138), (만족도, 77), (서비스, 30), (음식량, 25), (, ))</td>\n",
              "      <td>(https://search.pstatic.net/common/?autoRotate...</td>\n",
              "    </tr>\n",
              "    <tr>\n",
              "      <th>1399</th>\n",
              "      <td>다트바 불스</td>\n",
              "      <td>제주 제주시 광양8길 6 지하</td>\n",
              "      <td>()</td>\n",
              "      <td>()</td>\n",
              "      <td>()</td>\n",
              "      <td>NaN</td>\n",
              "      <td>NaN</td>\n",
              "      <td>(https://search.pstatic.net/common/?autoRotate...</td>\n",
              "    </tr>\n",
              "    <tr>\n",
              "      <th>1401</th>\n",
              "      <td>다해복국</td>\n",
              "      <td>제주 제주시 문송1길 17 다해복국</td>\n",
              "      <td>()</td>\n",
              "      <td>()</td>\n",
              "      <td>()</td>\n",
              "      <td>NaN</td>\n",
              "      <td>NaN</td>\n",
              "      <td>(https://search.pstatic.net/common/?autoRotate...</td>\n",
              "    </tr>\n",
              "    <tr>\n",
              "      <th>1403</th>\n",
              "      <td>닥그네할망</td>\n",
              "      <td>제주 제주시 신성로10길 18 1층</td>\n",
              "      <td>()</td>\n",
              "      <td>()</td>\n",
              "      <td>()</td>\n",
              "      <td>((고기, 247), (육개장, 210), (해장국, 138), (몸국, 116),...</td>\n",
              "      <td>((맛, 1,442), (만족도, 692), (서비스, 335), (음식량, ), ...</td>\n",
              "      <td>(https://search.pstatic.net/common/?autoRotate...</td>\n",
              "    </tr>\n",
              "  </tbody>\n",
              "</table>\n",
              "<p>742 rows × 8 columns</p>\n",
              "</div>"
            ],
            "text/plain": [
              "             가게                             주소 테마_분위기 테마_인기토픽 테마_찾는목적  \\\n",
              "0          고찌올레            제주 서귀포시 효돈순환로 217-3     ()      ()      ()   \n",
              "2     고창댁풍천장어낙지                 제주 제주시 동제원길 42     ()      ()      ()   \n",
              "4           고코요         제주 제주시 동광로16길 19-13 1층     ()      ()      ()   \n",
              "5       고평갯드르식당            제주 제주시 조천읍 남조로 2368     ()      ()      ()   \n",
              "7          고할망네         제주 서귀포시 안덕면 사계남로 159-1     ()      ()      ()   \n",
              "...         ...                            ...    ...     ...     ...   \n",
              "1395      다정한식탁            제주 서귀포시 중문로81번길 7-3     ()      ()      ()   \n",
              "1397         다찜  경기 의정부시 부용로95번길 18 해피플러스 1층다찜     ()      ()      ()   \n",
              "1399     다트바 불스               제주 제주시 광양8길 6 지하     ()      ()      ()   \n",
              "1401       다해복국            제주 제주시 문송1길 17 다해복국     ()      ()      ()   \n",
              "1403      닥그네할망            제주 제주시 신성로10길 18 1층     ()      ()      ()   \n",
              "\n",
              "                                                     메뉴  \\\n",
              "0     ((보말, 126), (보말죽, 96), (칼국수, 74), (보말칼국수, ), (...   \n",
              "2       ((장어, 32), (갈비, 12), (장어탕, 5), (민물장어, 2), (, ))   \n",
              "4        ((꼬치, 14), (닭꼬치, 3), (하이볼, 3), (굴튀김, 2), (, ))   \n",
              "5                                                   NaN   \n",
              "7      ((우럭, 17), (갈치, 17), (갈치조림, 15), (생선, 14), (, ))   \n",
              "...                                                 ...   \n",
              "1395     ((돈까스, 21), (파스타, 8), (샐러드, 6), (치즈, 5), (, ))   \n",
              "1397   ((아구찜, 32), (해물찜, 11), (낙지, 10), (볶음밥, 9), (, ))   \n",
              "1399                                                NaN   \n",
              "1401                                                NaN   \n",
              "1403  ((고기, 247), (육개장, 210), (해장국, 138), (몸국, 116),...   \n",
              "\n",
              "                                                     특징  \\\n",
              "0     ((맛, 180), (만족도, 110), (서비스, 34), (음식량, 8), (, ))   \n",
              "2        ((맛, 45), (만족도, 39), (서비스, 8), (청결도, 2), (, ))   \n",
              "4       ((맛, 32), (만족도, 31), (분위기, 17), (서비스, 7), (, ))   \n",
              "5                                                   NaN   \n",
              "7      ((맛, 109), (만족도, 60), (서비스, 21), (음식량, 4), (, ))   \n",
              "...                                                 ...   \n",
              "1395   ((맛, 66), (만족도, 55), (서비스, 23), (음식량, 11), (, ))   \n",
              "1397  ((맛, 138), (만족도, 77), (서비스, 30), (음식량, 25), (, ))   \n",
              "1399                                                NaN   \n",
              "1401                                                NaN   \n",
              "1403  ((맛, 1,442), (만족도, 692), (서비스, 335), (음식량, ), ...   \n",
              "\n",
              "                                                     사진  \n",
              "0     (https://search.pstatic.net/common/?autoRotate...  \n",
              "2     (https://search.pstatic.net/common/?autoRotate...  \n",
              "4                                                   NaN  \n",
              "5     (https://search.pstatic.net/common/?autoRotate...  \n",
              "7     (https://search.pstatic.net/common/?autoRotate...  \n",
              "...                                                 ...  \n",
              "1395  (https://pup-review-phinf.pstatic.net/MjAyNDA5...  \n",
              "1397  (https://search.pstatic.net/common/?autoRotate...  \n",
              "1399  (https://search.pstatic.net/common/?autoRotate...  \n",
              "1401  (https://search.pstatic.net/common/?autoRotate...  \n",
              "1403  (https://search.pstatic.net/common/?autoRotate...  \n",
              "\n",
              "[742 rows x 8 columns]"
            ]
          },
          "execution_count": 22,
          "metadata": {},
          "output_type": "execute_result"
        }
      ],
      "source": [
        "df"
      ]
    },
    {
      "cell_type": "markdown",
      "metadata": {},
      "source": [
        "중복제거"
      ]
    },
    {
      "cell_type": "code",
      "execution_count": 16,
      "metadata": {},
      "outputs": [],
      "source": [
        "for col in df.columns:\n",
        "    df[col] = df[col].apply(lambda x: tuple(x) if isinstance(x, list) else (tuple(x.items()) if isinstance(x, dict) else x))\n",
        "df.drop_duplicates(inplace=True)"
      ]
    },
    {
      "cell_type": "code",
      "execution_count": 17,
      "metadata": {},
      "outputs": [],
      "source": [
        "df_dup = pd.DataFrame(df)"
      ]
    },
    {
      "cell_type": "code",
      "execution_count": 18,
      "metadata": {},
      "outputs": [
        {
          "name": "stderr",
          "output_type": "stream",
          "text": [
            "<>:1: SyntaxWarning: invalid escape sequence '\\g'\n",
            "<>:1: SyntaxWarning: invalid escape sequence '\\g'\n",
            "C:\\Users\\tldbs\\AppData\\Local\\Temp\\ipykernel_4988\\3624201447.py:1: SyntaxWarning: invalid escape sequence '\\g'\n",
            "  df_all = pd.read_csv('C:\\github\\crawling_result.csv')\n"
          ]
        }
      ],
      "source": [
        "df_all = pd.read_csv('C:\\github\\crawling_result.csv')\n",
        "df_all.drop('Unnamed: 0',axis=1, inplace=True)"
      ]
    },
    {
      "cell_type": "code",
      "execution_count": 19,
      "metadata": {},
      "outputs": [
        {
          "name": "stderr",
          "output_type": "stream",
          "text": [
            "<>:2: SyntaxWarning: invalid escape sequence '\\g'\n",
            "<>:2: SyntaxWarning: invalid escape sequence '\\g'\n",
            "C:\\Users\\tldbs\\AppData\\Local\\Temp\\ipykernel_4988\\2828121958.py:2: SyntaxWarning: invalid escape sequence '\\g'\n",
            "  df_all.to_csv('C:\\github\\crawling_result.csv')\n"
          ]
        }
      ],
      "source": [
        "df_all = pd.concat([df_all, df_dup])\n",
        "df_all.to_csv('C:\\github\\crawling_result.csv')"
      ]
    },
    {
      "cell_type": "markdown",
      "metadata": {},
      "source": [
        "실패한 부분 크롤링"
      ]
    },
    {
      "cell_type": "code",
      "execution_count": 23,
      "metadata": {},
      "outputs": [
        {
          "name": "stdout",
          "output_type": "stream",
          "text": [
            "266\n"
          ]
        }
      ],
      "source": [
        "print(len(fail_to_crawling))\n",
        "new_fail = pd.DataFrame(fail_to_crawling, columns=['lst'])\n"
      ]
    },
    {
      "cell_type": "code",
      "execution_count": 24,
      "metadata": {},
      "outputs": [
        {
          "data": {
            "text/html": [
              "<div>\n",
              "<style scoped>\n",
              "    .dataframe tbody tr th:only-of-type {\n",
              "        vertical-align: middle;\n",
              "    }\n",
              "\n",
              "    .dataframe tbody tr th {\n",
              "        vertical-align: top;\n",
              "    }\n",
              "\n",
              "    .dataframe thead th {\n",
              "        text-align: right;\n",
              "    }\n",
              "</style>\n",
              "<table border=\"1\" class=\"dataframe\">\n",
              "  <thead>\n",
              "    <tr style=\"text-align: right;\">\n",
              "      <th></th>\n",
              "      <th>lst</th>\n",
              "    </tr>\n",
              "  </thead>\n",
              "  <tbody>\n",
              "    <tr>\n",
              "      <th>0</th>\n",
              "      <td>고집순두부연동본점</td>\n",
              "    </tr>\n",
              "    <tr>\n",
              "      <th>1</th>\n",
              "      <td>고촌</td>\n",
              "    </tr>\n",
              "    <tr>\n",
              "      <th>2</th>\n",
              "      <td>고촌</td>\n",
              "    </tr>\n",
              "    <tr>\n",
              "      <th>3</th>\n",
              "      <td>고피자 시청점</td>\n",
              "    </tr>\n",
              "    <tr>\n",
              "      <th>4</th>\n",
              "      <td>곤밥2</td>\n",
              "    </tr>\n",
              "    <tr>\n",
              "      <th>...</th>\n",
              "      <td>...</td>\n",
              "    </tr>\n",
              "    <tr>\n",
              "      <th>261</th>\n",
              "      <td>다인가든</td>\n",
              "    </tr>\n",
              "    <tr>\n",
              "      <th>262</th>\n",
              "      <td>다정이네</td>\n",
              "    </tr>\n",
              "    <tr>\n",
              "      <th>263</th>\n",
              "      <td>다채움</td>\n",
              "    </tr>\n",
              "    <tr>\n",
              "      <th>264</th>\n",
              "      <td>다판다&amp;아이스크림스토리제주연동점</td>\n",
              "    </tr>\n",
              "    <tr>\n",
              "      <th>265</th>\n",
              "      <td>다희네민물장어</td>\n",
              "    </tr>\n",
              "  </tbody>\n",
              "</table>\n",
              "<p>266 rows × 1 columns</p>\n",
              "</div>"
            ],
            "text/plain": [
              "                   lst\n",
              "0            고집순두부연동본점\n",
              "1                   고촌\n",
              "2                   고촌\n",
              "3              고피자 시청점\n",
              "4                  곤밥2\n",
              "..                 ...\n",
              "261               다인가든\n",
              "262               다정이네\n",
              "263                다채움\n",
              "264  다판다&아이스크림스토리제주연동점\n",
              "265            다희네민물장어\n",
              "\n",
              "[266 rows x 1 columns]"
            ]
          },
          "execution_count": 24,
          "metadata": {},
          "output_type": "execute_result"
        }
      ],
      "source": [
        "new_fail"
      ]
    },
    {
      "cell_type": "markdown",
      "metadata": {},
      "source": [
        "이전에 저장된 부분 가져오기"
      ]
    },
    {
      "cell_type": "code",
      "execution_count": 25,
      "metadata": {},
      "outputs": [
        {
          "name": "stderr",
          "output_type": "stream",
          "text": [
            "<>:1: SyntaxWarning: invalid escape sequence '\\g'\n",
            "<>:1: SyntaxWarning: invalid escape sequence '\\g'\n",
            "C:\\Users\\tldbs\\AppData\\Local\\Temp\\ipykernel_4988\\1625917794.py:1: SyntaxWarning: invalid escape sequence '\\g'\n",
            "  crawling_list = pd.read_csv('C:\\github\\crawling_list.csv')\n"
          ]
        }
      ],
      "source": [
        "crawling_list = pd.read_csv('C:\\github\\crawling_list.csv')\n",
        "crawling_list.drop('Unnamed: 0',axis=1, inplace=True)"
      ]
    },
    {
      "cell_type": "code",
      "execution_count": 26,
      "metadata": {},
      "outputs": [
        {
          "data": {
            "text/html": [
              "<div>\n",
              "<style scoped>\n",
              "    .dataframe tbody tr th:only-of-type {\n",
              "        vertical-align: middle;\n",
              "    }\n",
              "\n",
              "    .dataframe tbody tr th {\n",
              "        vertical-align: top;\n",
              "    }\n",
              "\n",
              "    .dataframe thead th {\n",
              "        text-align: right;\n",
              "    }\n",
              "</style>\n",
              "<table border=\"1\" class=\"dataframe\">\n",
              "  <thead>\n",
              "    <tr style=\"text-align: right;\">\n",
              "      <th></th>\n",
              "      <th>lst</th>\n",
              "    </tr>\n",
              "  </thead>\n",
              "  <tbody>\n",
              "    <tr>\n",
              "      <th>0</th>\n",
              "      <td>한국수상레저안전협회 제주제주시지부</td>\n",
              "    </tr>\n",
              "    <tr>\n",
              "      <th>1</th>\n",
              "      <td>케이디에셋 담앤루</td>\n",
              "    </tr>\n",
              "    <tr>\n",
              "      <th>2</th>\n",
              "      <td>베이힐</td>\n",
              "    </tr>\n",
              "    <tr>\n",
              "      <th>3</th>\n",
              "      <td>비케이알 버거킹 제주화북DT점</td>\n",
              "    </tr>\n",
              "    <tr>\n",
              "      <th>4</th>\n",
              "      <td>신세계푸드 제주신화월드  고래라면</td>\n",
              "    </tr>\n",
              "    <tr>\n",
              "      <th>...</th>\n",
              "      <td>...</td>\n",
              "    </tr>\n",
              "    <tr>\n",
              "      <th>141</th>\n",
              "      <td>고산갈비</td>\n",
              "    </tr>\n",
              "    <tr>\n",
              "      <th>142</th>\n",
              "      <td>고성장수물식당</td>\n",
              "    </tr>\n",
              "    <tr>\n",
              "      <th>143</th>\n",
              "      <td>고씨네붕어빵</td>\n",
              "    </tr>\n",
              "    <tr>\n",
              "      <th>144</th>\n",
              "      <td>고요남</td>\n",
              "    </tr>\n",
              "    <tr>\n",
              "      <th>145</th>\n",
              "      <td>고우니제주를담다말흑돼지전복삼합전문점</td>\n",
              "    </tr>\n",
              "  </tbody>\n",
              "</table>\n",
              "<p>146 rows × 1 columns</p>\n",
              "</div>"
            ],
            "text/plain": [
              "                     lst\n",
              "0     한국수상레저안전협회 제주제주시지부\n",
              "1              케이디에셋 담앤루\n",
              "2                    베이힐\n",
              "3       비케이알 버거킹 제주화북DT점\n",
              "4     신세계푸드 제주신화월드  고래라면\n",
              "..                   ...\n",
              "141                 고산갈비\n",
              "142              고성장수물식당\n",
              "143               고씨네붕어빵\n",
              "144                  고요남\n",
              "145  고우니제주를담다말흑돼지전복삼합전문점\n",
              "\n",
              "[146 rows x 1 columns]"
            ]
          },
          "execution_count": 26,
          "metadata": {},
          "output_type": "execute_result"
        }
      ],
      "source": [
        "crawling_list"
      ]
    },
    {
      "cell_type": "code",
      "execution_count": 27,
      "metadata": {},
      "outputs": [],
      "source": [
        "store_crawling = pd.concat([crawling_list, new_fail], ignore_index=True)"
      ]
    },
    {
      "cell_type": "code",
      "execution_count": 28,
      "metadata": {},
      "outputs": [
        {
          "data": {
            "text/html": [
              "<div>\n",
              "<style scoped>\n",
              "    .dataframe tbody tr th:only-of-type {\n",
              "        vertical-align: middle;\n",
              "    }\n",
              "\n",
              "    .dataframe tbody tr th {\n",
              "        vertical-align: top;\n",
              "    }\n",
              "\n",
              "    .dataframe thead th {\n",
              "        text-align: right;\n",
              "    }\n",
              "</style>\n",
              "<table border=\"1\" class=\"dataframe\">\n",
              "  <thead>\n",
              "    <tr style=\"text-align: right;\">\n",
              "      <th></th>\n",
              "      <th>lst</th>\n",
              "    </tr>\n",
              "  </thead>\n",
              "  <tbody>\n",
              "    <tr>\n",
              "      <th>0</th>\n",
              "      <td>한국수상레저안전협회 제주제주시지부</td>\n",
              "    </tr>\n",
              "    <tr>\n",
              "      <th>1</th>\n",
              "      <td>케이디에셋 담앤루</td>\n",
              "    </tr>\n",
              "    <tr>\n",
              "      <th>2</th>\n",
              "      <td>베이힐</td>\n",
              "    </tr>\n",
              "    <tr>\n",
              "      <th>3</th>\n",
              "      <td>비케이알 버거킹 제주화북DT점</td>\n",
              "    </tr>\n",
              "    <tr>\n",
              "      <th>4</th>\n",
              "      <td>신세계푸드 제주신화월드  고래라면</td>\n",
              "    </tr>\n",
              "    <tr>\n",
              "      <th>...</th>\n",
              "      <td>...</td>\n",
              "    </tr>\n",
              "    <tr>\n",
              "      <th>407</th>\n",
              "      <td>다인가든</td>\n",
              "    </tr>\n",
              "    <tr>\n",
              "      <th>408</th>\n",
              "      <td>다정이네</td>\n",
              "    </tr>\n",
              "    <tr>\n",
              "      <th>409</th>\n",
              "      <td>다채움</td>\n",
              "    </tr>\n",
              "    <tr>\n",
              "      <th>410</th>\n",
              "      <td>다판다&amp;아이스크림스토리제주연동점</td>\n",
              "    </tr>\n",
              "    <tr>\n",
              "      <th>411</th>\n",
              "      <td>다희네민물장어</td>\n",
              "    </tr>\n",
              "  </tbody>\n",
              "</table>\n",
              "<p>412 rows × 1 columns</p>\n",
              "</div>"
            ],
            "text/plain": [
              "                    lst\n",
              "0    한국수상레저안전협회 제주제주시지부\n",
              "1             케이디에셋 담앤루\n",
              "2                   베이힐\n",
              "3      비케이알 버거킹 제주화북DT점\n",
              "4    신세계푸드 제주신화월드  고래라면\n",
              "..                  ...\n",
              "407                다인가든\n",
              "408                다정이네\n",
              "409                 다채움\n",
              "410   다판다&아이스크림스토리제주연동점\n",
              "411             다희네민물장어\n",
              "\n",
              "[412 rows x 1 columns]"
            ]
          },
          "execution_count": 28,
          "metadata": {},
          "output_type": "execute_result"
        }
      ],
      "source": [
        "store_crawling"
      ]
    },
    {
      "cell_type": "code",
      "execution_count": 29,
      "metadata": {},
      "outputs": [
        {
          "name": "stderr",
          "output_type": "stream",
          "text": [
            "<>:1: SyntaxWarning: invalid escape sequence '\\g'\n",
            "<>:1: SyntaxWarning: invalid escape sequence '\\g'\n",
            "C:\\Users\\tldbs\\AppData\\Local\\Temp\\ipykernel_4988\\4008988355.py:1: SyntaxWarning: invalid escape sequence '\\g'\n",
            "  store_crawling.to_csv('C:\\github\\crawling_list.csv')\n"
          ]
        }
      ],
      "source": [
        "store_crawling.to_csv('C:\\github\\crawling_list.csv')"
      ]
    },
    {
      "cell_type": "code",
      "execution_count": 58,
      "metadata": {},
      "outputs": [
        {
          "data": {
            "text/plain": [
              "[('https://search.pstatic.net/common/?autoRotate=true&type=w560_sharpen&src=https%3A%2F%2Fvideo-phinf.pstatic.net%2F20240723_229%2F1721745070846WJY7f_JPEG%2FQLg3eZDGkE_03.jpg',\n",
              "  'https://pup-review-phinf.pstatic.net/MjAyNDA3MjNfMTIg/MDAxNzIxNzQ1MDY1NDg0.lemw_CM6_eOV2ToDKmOxfNpVbZ6T5lfCets6jfl5Vcog.SmDHuNlH0JOYnyLG3qInzqO953Y0LssVl8wa1xrjj9og.JPEG/049A7AF2-A517-405D-8F98-66E642FEBD37.jpeg?type=w560_sharpen',\n",
              "  'https://pup-review-phinf.pstatic.net/MjAyNDA3MjNfMjcx/MDAxNzIxNzQ1MDY1NjEy.qT_vqPnPzU49rVlqwvralCU17vFpnesu7nU8eUGMTMAg.CPkD5VZZqZaFBRNWOEuNBjkWZ8Hw_pTfgsLnZH9rEwcg.JPEG/ABA8D4D0-BB1B-4757-B3ED-321C1A8279E9.jpeg?type=w560_sharpen',\n",
              "  'https://search.pstatic.net/common/?autoRotate=true&type=w560_sharpen&src=https%3A%2F%2Fphinf.pstatic.net%2Ftvcast%2F20241001_199%2FxODei_1727774502019MCzhA_JPEG%2FPublishThumb_20241001_182124_604.jpg',\n",
              "  'https://search.pstatic.net/common/?autoRotate=true&type=w560_sharpen&src=http%3A%2F%2Fimage.nmv.naver.net%2Fblog_2024_09_15_2945%2F3Ceu1MtgvR_03.jpg')]"
            ]
          },
          "execution_count": 58,
          "metadata": {},
          "output_type": "execute_result"
        }
      ],
      "source": [
        "# 이미지 확인용\n",
        "# df[df['가게'] == '24시 뼈다귀탕 제주점']['사진'].tolist()\n"
      ]
    },
    {
      "cell_type": "markdown",
      "metadata": {},
      "source": [
        "이 부분에서 수정해서 위로 올렸음. 혹시 모르니 백업한 코드"
      ]
    },
    {
      "cell_type": "code",
      "execution_count": 3,
      "metadata": {},
      "outputs": [
        {
          "ename": "NoSuchWindowException",
          "evalue": "Message: no such window: target window already closed\nfrom unknown error: web view not found\n  (Session info: chrome=129.0.6668.101)\nStacktrace:\n\tGetHandleVerifier [0x00007FF6A987B095+29557]\n\t(No symbol) [0x00007FF6A97EFA50]\n\t(No symbol) [0x00007FF6A96AB56A]\n\t(No symbol) [0x00007FF6A967FCC5]\n\t(No symbol) [0x00007FF6A972EE07]\n\t(No symbol) [0x00007FF6A9747E21]\n\t(No symbol) [0x00007FF6A9726F33]\n\t(No symbol) [0x00007FF6A96F116F]\n\t(No symbol) [0x00007FF6A96F22D1]\n\tGetHandleVerifier [0x00007FF6A9BAC96D+3378253]\n\tGetHandleVerifier [0x00007FF6A9BF8497+3688311]\n\tGetHandleVerifier [0x00007FF6A9BED1CB+3642539]\n\tGetHandleVerifier [0x00007FF6A993A6B6+813462]\n\t(No symbol) [0x00007FF6A97FAB5F]\n\t(No symbol) [0x00007FF6A97F6B74]\n\t(No symbol) [0x00007FF6A97F6D10]\n\t(No symbol) [0x00007FF6A97E5C1F]\n\tBaseThreadInitThunk [0x00007FFD77247374+20]\n\tRtlUserThreadStart [0x00007FFD785BCC91+33]\n",
          "output_type": "error",
          "traceback": [
            "\u001b[1;31m---------------------------------------------------------------------------\u001b[0m",
            "\u001b[1;31mNoSuchWindowException\u001b[0m                     Traceback (most recent call last)",
            "Cell \u001b[1;32mIn[3], line 102\u001b[0m\n\u001b[0;32m    100\u001b[0m \u001b[38;5;28;01mwhile\u001b[39;00m attempts \u001b[38;5;241m<\u001b[39m max_attempts:\n\u001b[0;32m    101\u001b[0m     \u001b[38;5;28;01mtry\u001b[39;00m:\n\u001b[1;32m--> 102\u001b[0m         driver\u001b[38;5;241m.\u001b[39mswitch_to\u001b[38;5;241m.\u001b[39mdefault_content()\n\u001b[0;32m    103\u001b[0m         iframe \u001b[38;5;241m=\u001b[39m WebDriverWait(driver, \u001b[38;5;241m5\u001b[39m)\u001b[38;5;241m.\u001b[39muntil(\n\u001b[0;32m    104\u001b[0m             EC\u001b[38;5;241m.\u001b[39mpresence_of_element_located((By\u001b[38;5;241m.\u001b[39mXPATH, \u001b[38;5;124m'\u001b[39m\u001b[38;5;124m//*[@id=\u001b[39m\u001b[38;5;124m\"\u001b[39m\u001b[38;5;124mentryIframe\u001b[39m\u001b[38;5;124m\"\u001b[39m\u001b[38;5;124m]\u001b[39m\u001b[38;5;124m'\u001b[39m))\n\u001b[0;32m    105\u001b[0m         )\n\u001b[0;32m    106\u001b[0m         \u001b[38;5;28mprint\u001b[39m(\u001b[38;5;124mf\u001b[39m\u001b[38;5;124m\"\u001b[39m\u001b[38;5;124mentryIframe 로드.\u001b[39m\u001b[38;5;124m\"\u001b[39m)\n",
            "File \u001b[1;32mc:\\Users\\tldbs\\anaconda3\\Lib\\site-packages\\selenium\\webdriver\\remote\\switch_to.py:69\u001b[0m, in \u001b[0;36mSwitchTo.default_content\u001b[1;34m(self)\u001b[0m\n\u001b[0;32m     61\u001b[0m \u001b[38;5;28;01mdef\u001b[39;00m \u001b[38;5;21mdefault_content\u001b[39m(\u001b[38;5;28mself\u001b[39m) \u001b[38;5;241m-\u001b[39m\u001b[38;5;241m>\u001b[39m \u001b[38;5;28;01mNone\u001b[39;00m:\n\u001b[0;32m     62\u001b[0m \u001b[38;5;250m    \u001b[39m\u001b[38;5;124;03m\"\"\"Switch focus to the default frame.\u001b[39;00m\n\u001b[0;32m     63\u001b[0m \n\u001b[0;32m     64\u001b[0m \u001b[38;5;124;03m    :Usage:\u001b[39;00m\n\u001b[1;32m   (...)\u001b[0m\n\u001b[0;32m     67\u001b[0m \u001b[38;5;124;03m            driver.switch_to.default_content()\u001b[39;00m\n\u001b[0;32m     68\u001b[0m \u001b[38;5;124;03m    \"\"\"\u001b[39;00m\n\u001b[1;32m---> 69\u001b[0m     \u001b[38;5;28mself\u001b[39m\u001b[38;5;241m.\u001b[39m_driver\u001b[38;5;241m.\u001b[39mexecute(Command\u001b[38;5;241m.\u001b[39mSWITCH_TO_FRAME, {\u001b[38;5;124m\"\u001b[39m\u001b[38;5;124mid\u001b[39m\u001b[38;5;124m\"\u001b[39m: \u001b[38;5;28;01mNone\u001b[39;00m})\n",
            "File \u001b[1;32mc:\\Users\\tldbs\\anaconda3\\Lib\\site-packages\\selenium\\webdriver\\remote\\webdriver.py:354\u001b[0m, in \u001b[0;36mWebDriver.execute\u001b[1;34m(self, driver_command, params)\u001b[0m\n\u001b[0;32m    352\u001b[0m response \u001b[38;5;241m=\u001b[39m \u001b[38;5;28mself\u001b[39m\u001b[38;5;241m.\u001b[39mcommand_executor\u001b[38;5;241m.\u001b[39mexecute(driver_command, params)\n\u001b[0;32m    353\u001b[0m \u001b[38;5;28;01mif\u001b[39;00m response:\n\u001b[1;32m--> 354\u001b[0m     \u001b[38;5;28mself\u001b[39m\u001b[38;5;241m.\u001b[39merror_handler\u001b[38;5;241m.\u001b[39mcheck_response(response)\n\u001b[0;32m    355\u001b[0m     response[\u001b[38;5;124m\"\u001b[39m\u001b[38;5;124mvalue\u001b[39m\u001b[38;5;124m\"\u001b[39m] \u001b[38;5;241m=\u001b[39m \u001b[38;5;28mself\u001b[39m\u001b[38;5;241m.\u001b[39m_unwrap_value(response\u001b[38;5;241m.\u001b[39mget(\u001b[38;5;124m\"\u001b[39m\u001b[38;5;124mvalue\u001b[39m\u001b[38;5;124m\"\u001b[39m, \u001b[38;5;28;01mNone\u001b[39;00m))\n\u001b[0;32m    356\u001b[0m     \u001b[38;5;28;01mreturn\u001b[39;00m response\n",
            "File \u001b[1;32mc:\\Users\\tldbs\\anaconda3\\Lib\\site-packages\\selenium\\webdriver\\remote\\errorhandler.py:229\u001b[0m, in \u001b[0;36mErrorHandler.check_response\u001b[1;34m(self, response)\u001b[0m\n\u001b[0;32m    227\u001b[0m         alert_text \u001b[38;5;241m=\u001b[39m value[\u001b[38;5;124m\"\u001b[39m\u001b[38;5;124malert\u001b[39m\u001b[38;5;124m\"\u001b[39m]\u001b[38;5;241m.\u001b[39mget(\u001b[38;5;124m\"\u001b[39m\u001b[38;5;124mtext\u001b[39m\u001b[38;5;124m\"\u001b[39m)\n\u001b[0;32m    228\u001b[0m     \u001b[38;5;28;01mraise\u001b[39;00m exception_class(message, screen, stacktrace, alert_text)  \u001b[38;5;66;03m# type: ignore[call-arg]  # mypy is not smart enough here\u001b[39;00m\n\u001b[1;32m--> 229\u001b[0m \u001b[38;5;28;01mraise\u001b[39;00m exception_class(message, screen, stacktrace)\n",
            "\u001b[1;31mNoSuchWindowException\u001b[0m: Message: no such window: target window already closed\nfrom unknown error: web view not found\n  (Session info: chrome=129.0.6668.101)\nStacktrace:\n\tGetHandleVerifier [0x00007FF6A987B095+29557]\n\t(No symbol) [0x00007FF6A97EFA50]\n\t(No symbol) [0x00007FF6A96AB56A]\n\t(No symbol) [0x00007FF6A967FCC5]\n\t(No symbol) [0x00007FF6A972EE07]\n\t(No symbol) [0x00007FF6A9747E21]\n\t(No symbol) [0x00007FF6A9726F33]\n\t(No symbol) [0x00007FF6A96F116F]\n\t(No symbol) [0x00007FF6A96F22D1]\n\tGetHandleVerifier [0x00007FF6A9BAC96D+3378253]\n\tGetHandleVerifier [0x00007FF6A9BF8497+3688311]\n\tGetHandleVerifier [0x00007FF6A9BED1CB+3642539]\n\tGetHandleVerifier [0x00007FF6A993A6B6+813462]\n\t(No symbol) [0x00007FF6A97FAB5F]\n\t(No symbol) [0x00007FF6A97F6B74]\n\t(No symbol) [0x00007FF6A97F6D10]\n\t(No symbol) [0x00007FF6A97E5C1F]\n\tBaseThreadInitThunk [0x00007FFD77247374+20]\n\tRtlUserThreadStart [0x00007FFD785BCC91+33]\n"
          ]
        }
      ],
      "source": [
        "# from selenium import webdriver\n",
        "# from selenium.webdriver.common.by import By\n",
        "# from selenium.webdriver.common.keys import Keys\n",
        "# from selenium.webdriver.support.ui import WebDriverWait\n",
        "# from selenium.webdriver.support import expected_conditions as EC\n",
        "# from selenium.common.exceptions import TimeoutException, NoSuchElementException\n",
        "# import time\n",
        "# import pandas as pd\n",
        "# from selenium.webdriver import ActionChains\n",
        "\n",
        "\n",
        "# # Define the list of stores to be scraped\n",
        "# # stores = search_cols_2\n",
        "# stores = ['협재해녀의집']\n",
        "# # Initialize webdriver options and webdriver\n",
        "# options = webdriver.ChromeOptions()\n",
        "# options.add_argument(\"--start-maximized\")\n",
        "# driver = webdriver.Chrome(options=options)\n",
        "\n",
        "# action = ActionChains(driver)\n",
        "# fail_to_crawling = []\n",
        "\n",
        "\n",
        "# ###################### 검색 키워드를 바탕으로 시작\n",
        "# results = []\n",
        "# for store in stores:\n",
        "#     ######################### 기본세팅\n",
        "#     # URL 입력\n",
        "#     keyword = store\n",
        "#     url = f'https://map.naver.com/p/search/{keyword}'\n",
        "#     driver.get(url)\n",
        "\n",
        "#     # 페이지 로드 \n",
        "#     try:\n",
        "#         WebDriverWait(driver, 3).until(\n",
        "#             lambda d: d.execute_script('return document.readyState') == 'complete'\n",
        "#         )\n",
        "#     except TimeoutException:\n",
        "#         print(f\"타임아웃 for {store}!\")\n",
        "#         continue\n",
        "\n",
        "#     ################ searchIframe 및 entryIframe에 따른 처리\n",
        "#     # 1. searchIframe일 경우 첫번째 가게 클릭하기\n",
        "#     try:\n",
        "#         search_iframe = WebDriverWait(driver, 4).until(\n",
        "#             EC.presence_of_element_located((By.XPATH, '//*[@id=\"searchIframe\"]'))\n",
        "#         )\n",
        "#         driver.switch_to.frame(search_iframe)\n",
        "        \n",
        "#         # Explicitly wait for the list container to load\n",
        "#         try:\n",
        "#             list_scroll_container = WebDriverWait(driver, 2).until(\n",
        "#             EC.presence_of_element_located((By.XPATH, '//*[@id=\"app-root\"]/div[@class=\"mFg6p\"]/div[@class=\"XUrfU\"]/div[@class=\"Ryr1F\"]'))\n",
        "#         )\n",
        "#             # 첫번째 가게항목\n",
        "#             # /ul/li[@class=\"VLTHu OW9LQ\"]/div[@class=\"qbGlu\"]/div[2]/a/div[@class=\"ApCpt\"]/div[@class=\"place_bluelink C6RjW\"]\n",
        "#             try : \n",
        "#                 first_result = list_scroll_container.find_element(By.XPATH, './ul/li[1]')\n",
        "#                 # print(f\"first_result : {first_result.get_attribute('innerHTML')}\")\n",
        "#             except : \n",
        "#                 first_result = list_scroll_container.find_element(By.CLASS_NAME, '/ul/li[@class=\"VLTHu OW9LQ\"]')\n",
        "#                 # print(f\"except first_result : {first_result.get_attribute('innerHTML')}\")\n",
        "\n",
        "#             # Try clicking using XPath first\n",
        "#             try:\n",
        "#                 link_button = first_result.find_element(By.XPATH, './div[1]/div[2]/a[1]/div/div/span')\n",
        "#                 # action chain을 이용해서 강제로 클릭하도록 설정\n",
        "#                 action.move_to_element(link_button).click().perform()\n",
        "#                 # print(f\"link_button : {link_button.get_attribute('innerHTML')}\")\n",
        "#                 # driver.execute_script(\"arguments[0].click();\", link_button)\n",
        "#                 ###### 디버깅파트\n",
        "#                 # print(f\"됐냐?\")\n",
        "#                 # current_url = driver.current_url\n",
        "#                 # print(f\"클릭 후 URL: {current_url}\")\n",
        "#                 # current_title = driver.title\n",
        "#                 # print(f\"클릭 후 페이지 타이틀: {current_title}\")\n",
        "#                 time.sleep(2)  # Wait for page transition\n",
        "#             except NoSuchElementException: \n",
        "#                 print(f\"링크버튼 어디감? xpath 대신 클래스 이름으로 시도\")\n",
        "#                 try:\n",
        "#                     # Fallback to class name\n",
        "#                     link_button = first_result.find_element(By.CLASS_NAME, 'place_bluelink')\n",
        "#                     action.move_to_element(link_button).click().perform()\n",
        "#                     time.sleep(3)  # Wait for page transition\n",
        "#                 except NoSuchElementException:\n",
        "#                     print(f\"링크버튼 어디감?\")\n",
        "#                     continue\n",
        "#         except TimeoutException:\n",
        "#             print(f\"Error while clicking first search result for {store}: Unable to locate list container.\")\n",
        "#             continue\n",
        "#     except TimeoutException:\n",
        "#         print(f\"Search iframe not found for {store}, attempting entry iframe.\")\n",
        "#         continue\n",
        "\n",
        "#     # 2. entryIframe일 경우 밑의 코드 진행 \n",
        "\n",
        "#     # iframe 세팅\n",
        "#     attempts = 0\n",
        "#     max_attempts = 3\n",
        "#     while attempts < max_attempts:\n",
        "#         try:\n",
        "#             driver.switch_to.default_content()\n",
        "#             iframe = WebDriverWait(driver, 5).until(\n",
        "#                 EC.presence_of_element_located((By.XPATH, '//*[@id=\"entryIframe\"]'))\n",
        "#             )\n",
        "#             print(f\"entryIframe 로드.\")\n",
        "#             driver.switch_to.frame(iframe)\n",
        "#             break\n",
        "#         except TimeoutException:\n",
        "#             attempts += 1\n",
        "#             time.sleep(1)  \n",
        "#             if attempts == max_attempts:\n",
        "#                 print(f\"Failed to load iframe after multiple attempts for {store}.\")\n",
        "#                 # 크롤링 실패한 부분은 리스트에 저장해서 다시 돌릴 수 있도록 지정\n",
        "#                 print(f\"crawling fatil : {store} to fail_to_crawling\")\n",
        "#                 fail_to_crawling.append(store)\n",
        "#                 continue\n",
        "\n",
        "#     # 로딩을 위해 스크롤링 진행\n",
        "#     SCROLL_PAUSE_TIME = 2\n",
        "#     last_height = driver.execute_script(\"return document.body.scrollHeight\")\n",
        "#     while True:\n",
        "#         driver.execute_script(\"window.scrollTo(0, document.body.scrollHeight);\")\n",
        "#         time.sleep(SCROLL_PAUSE_TIME)\n",
        "#         new_height = driver.execute_script(\"return document.body.scrollHeight\")\n",
        "#         if new_height == last_height:\n",
        "#             break\n",
        "#         last_height = new_height\n",
        "#     time.sleep(1)\n",
        "\n",
        "#     ###################### datalab 크롤링\n",
        "#     try:\n",
        "#         app_root = driver.find_element(By.XPATH, '//*[@id=\"app-root\"]')\n",
        "#         main_div = app_root.find_element(By.XPATH, './div/div/div[@role=\"main\"]')\n",
        "#         target_div = main_div.find_element(By.XPATH, './div[contains(@style, \"min-height\")]')\n",
        "#         datalab_section = target_div.find_element(By.XPATH, './div/div[9]')\n",
        "#         theme_keywords = datalab_section.find_element(By.CLASS_NAME, 'place_section_content')\n",
        "\n",
        "#         atmosphere_elements = theme_keywords.find_elements(By.XPATH, \".//ul/li[span[contains(text(), '분위기')]]/span[@class='sJgQj']/span\")\n",
        "#         popular_elements = theme_keywords.find_elements(By.XPATH, \".//ul/li[span[contains(text(), '인기토픽')]]/span[@class='sJgQj']/span\")\n",
        "#         purpose_elements = theme_keywords.find_elements(By.XPATH, \".//ul/li[span[contains(text(), '찾는목적')]]/span[@class='sJgQj']/span\")\n",
        "\n",
        "#         atmosphere = [elem.text for elem in atmosphere_elements]\n",
        "#         popular_topics = [elem.text for elem in popular_elements]\n",
        "#         purpose = [elem.text for elem in purpose_elements]\n",
        "\n",
        "#         result = {\n",
        "#             \"가게\": store,\n",
        "#             \"테마_분위기\": atmosphere,\n",
        "#             \"테마_인기토픽\": popular_topics,\n",
        "#             \"테마_찾는목적\": purpose\n",
        "#         }\n",
        "#         results.append(result)\n",
        "#     except Exception as e:\n",
        "#         print(f\"Error while extracting datalab information for {store}:\", e)\n",
        "    \n",
        "#     time.sleep(2)\n",
        "\n",
        "\n",
        "\n",
        "#     ############################## 리뷰로 넘어가서 진행하기\n",
        "#     try:\n",
        "#         # 리뷰버튼 클릭\n",
        "#         for k in range(1, 6) : \n",
        "#             try: \n",
        "#                 tab_button = driver.find_element(By.XPATH, f'//*[@id=\"app-root\"]/div/div/div/div[4]/div/div/div/div/a[{k}]')\n",
        "#                 span_text = tab_button.find_element(By.XPATH, './span').text\n",
        "#                 if span_text == '리뷰':\n",
        "#                     review_button = tab_button\n",
        "#                     break \n",
        "#             except Exception as e:\n",
        "#                 continue \n",
        "#         if review_button: \n",
        "#             review_button.click() \n",
        "#             # 리뷰 탭 로딩 확인\n",
        "#             try:\n",
        "#                 WebDriverWait(driver, 5).until(\n",
        "#                     EC.presence_of_element_located((By.XPATH, '//*[@id=\"app-root\"]/div/div/div/div[6]'))\n",
        "#                 )\n",
        "#                 print(f\"{store}: 리뷰 페이지 로드 성공\")\n",
        "#             except TimeoutException:\n",
        "#                 print(f\"{store}: 리뷰 페이지 로드 실패, 사진 수집으로 넘어가지 않음\")\n",
        "#                 continue\n",
        "\n",
        "#         # iframe 로딩을 위해 스크롤링 진행\n",
        "#         last_height = driver.execute_script(\"return document.body.scrollHeight\")\n",
        "#         while True:\n",
        "#             driver.execute_script(\"window.scrollTo(0, document.body.scrollHeight);\")\n",
        "#             time.sleep(SCROLL_PAUSE_TIME)\n",
        "#             new_height = driver.execute_script(\"return document.body.scrollHeight\")\n",
        "#             if new_height == last_height:\n",
        "#                 break\n",
        "#             last_height = new_height\n",
        "#         time.sleep(2)\n",
        "\n",
        "#         # 리뷰 정보를 수집할 준비\n",
        "        \n",
        "#         ############################## 리뷰 정보 수집\n",
        "#         try:\n",
        "#             review_box = driver.find_element(By.XPATH, '//*[@id=\"app-root\"]/div/div/div/div[6]/div[3]/div[3]/div[1]')\n",
        "#         except:\n",
        "#             review_box = driver.find_element(By.CLASS_NAME, 'place_section_content')\n",
        "\n",
        "#         try:\n",
        "#             tag_filters = review_box.find_element(By.XPATH, '//*[@id=\"_tag_filters\"]/div/div')\n",
        "#         except:\n",
        "#             tag_filters = review_box.find_element(By.CLASS_NAME, 'mWnvl')\n",
        "\n",
        "#         menu_features = {}\n",
        "#         feature_items = {}\n",
        "#         for n in range(1, 3):\n",
        "#             try:\n",
        "#                 div_element = tag_filters.find_element(By.XPATH, f'//*[@id=\"_tag_filters\"]/div/div[{n}]')\n",
        "#             except:\n",
        "#                 div_element = tag_filters.find_element(By.XPATH, f'.//div[{n}]')\n",
        "\n",
        "#             if n == 1:\n",
        "#                 div_class = \"JWiV0 eZMAS xcTvu\"  # 메뉴\n",
        "#             elif n == 2:\n",
        "#                 div_class = \"JWiV0 khWUF eZMAS xcTvu\"  # 특징\n",
        "\n",
        "#             try:\n",
        "#                 menu_items = div_element.find_elements(By.XPATH, './/a')\n",
        "#                 for item in menu_items:\n",
        "#                     span_1 = item.find_element(By.XPATH, './span[1]').text\n",
        "#                     span_2 = item.find_element(By.XPATH, './span[2]').text\n",
        "#                     if n == 1:\n",
        "#                         menu_features[span_1] = span_2\n",
        "#                     elif n == 2:\n",
        "#                         feature_items[span_1] = span_2\n",
        "#             except Exception as e:\n",
        "#                 print(f\"Error while extracting menu/features for {store}, div {n}:\", e)\n",
        "\n",
        "#         # Add the menu and features data to the result\n",
        "#         result[\"메뉴\"] = menu_features\n",
        "#         result[\"특징\"] = feature_items\n",
        "#     except Exception as e:\n",
        "#         print(f\"Error while navigating to reviews for {store}:\", e)\n",
        "    \n",
        "#     time.sleep(1)\n",
        "    \n",
        "#     ############################## 사진으로 넘어가서 진행하기\n",
        "#     try:\n",
        "#         # 사진 버튼 클릭\n",
        "#         photo_button = None\n",
        "#         for k in range(1, 6):\n",
        "#             try:\n",
        "#                 tab_button = driver.find_element(By.XPATH, f'//*[@id=\"app-root\"]/div/div/div/div[4]/div/div/div/div/a[{k}]')\n",
        "#                 span_text = tab_button.find_element(By.XPATH, './span').text\n",
        "#                 if span_text == '사진':\n",
        "#                     photo_button = tab_button\n",
        "#                     break\n",
        "#             except Exception as e:\n",
        "#                 continue\n",
        "\n",
        "#         if photo_button:\n",
        "#             photo_button.click()\n",
        "#         else:\n",
        "#             print(f\" 사진 버튼 없음 : {store}.\")\n",
        "#             continue\n",
        "        \n",
        "#         # 스크롤 세 번 진행\n",
        "#         for _ in range(3):\n",
        "#             driver.execute_script(\"window.scrollTo(0, document.body.scrollHeight);\")\n",
        "#         time.sleep(1)\n",
        "        \n",
        "#         # 사진 정보 수집\n",
        "#         pic_tmp = []\n",
        "#         try:\n",
        "#             app_root = driver.find_element(By.XPATH, '//*[@id=\"app-root\"]')\n",
        "#             main_div = app_root.find_element(By.XPATH, './div/div')\n",
        "#             role_main_div = main_div.find_element(By.XPATH, './div[@role=\"main\"]')\n",
        "#             target_div = role_main_div.find_element(By.XPATH, './div[contains(@style, \"min-height\")]')\n",
        "#         except Exception as e:\n",
        "#             print(f\"위치 못찾음 : {store}:\", e)\n",
        "#             continue\n",
        "\n",
        "#         try:\n",
        "#             photo_section = target_div.find_element(By.XPATH, './div[contains(@class, \"place_section\")]')\n",
        "#             # print(f'photo_section found: {photo_section}')\n",
        "#         except:\n",
        "#             try:\n",
        "#                 photo_section = target_div.find_element(By.CLASS_NAME, 'place_section no_margin')\n",
        "#                 # print(f'photo_section (alternative) found: {photo_section}')\n",
        "#             except Exception as e:\n",
        "#                 print(f\"photo section 못찾음 {store}: {e}\")\n",
        "#                 continue\n",
        "#         try:\n",
        "#             photo_content = WebDriverWait(driver, 1).until(\n",
        "#                 EC.presence_of_element_located((By.CLASS_NAME, 'place_section_content'))\n",
        "#             )\n",
        "#             # print(f'photo_content found: {photo_content}')\n",
        "#         except Exception as e:\n",
        "#             print(f'photo_content 못찾음 {store}: {e}')\n",
        "#             continue\n",
        "\n",
        "#         # print(f\"photo_content : {photo_content}\")\n",
        "#         for n in range(1, 11):\n",
        "#             try:\n",
        "#                 photo_div = photo_content.find_element(By.XPATH, f'./div/div/div[{n}]/a')\n",
        "#                 img_element = photo_div.find_element(By.XPATH, './img')\n",
        "#                 img_src = img_element.get_attribute('src')\n",
        "#                 pic_tmp.append(img_src)\n",
        "#             except Exception as e:\n",
        "#                 print(f\"이미지 추출 오류 {n} for {store}: {e}\")\n",
        "\n",
        "#         result[\"사진\"] = pic_tmp\n",
        "#     except Exception as e:\n",
        "#         print(f\"Error while navigating to photos for {store}:\", e)\n",
        "\n",
        "#     # Append the result for each store\n",
        "#     results.append(result)\n",
        "\n",
        "# ################ Close the browser\n",
        "# # driver.quit()\n",
        "\n",
        "# ################### 크롤링 최종결과를 df에 저장\n",
        "# df = pd.DataFrame(results)\n",
        "# ################## 원본데이터에 입력\n",
        "# # df = pd.merge(df, shinhan, on='가게명', how='outer')\n",
        "\n",
        "# ################### 통합된 데이터 저장\n",
        "# # df.to_csv('./crawling_shinhan.csv', index=False)\n"
      ]
    }
  ],
  "metadata": {
    "colab": {
      "provenance": []
    },
    "kernelspec": {
      "display_name": "base",
      "language": "python",
      "name": "python3"
    },
    "language_info": {
      "codemirror_mode": {
        "name": "ipython",
        "version": 3
      },
      "file_extension": ".py",
      "mimetype": "text/x-python",
      "name": "python",
      "nbconvert_exporter": "python",
      "pygments_lexer": "ipython3",
      "version": "3.12.4"
    }
  },
  "nbformat": 4,
  "nbformat_minor": 0
}
