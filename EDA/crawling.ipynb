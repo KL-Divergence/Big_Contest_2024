{
  "cells": [
    {
      "cell_type": "markdown",
      "metadata": {
        "id": "HdVB8gdufnIk"
      },
      "source": [
        "# Todo\n",
        "- 신한카드도 row가 월별로 되어있으니까 pivot table로 처리하기\n",
        "- 처리한 이후 클러스터링 진행\n",
        "    - 연령, 성별, 가격대\n",
        "    - 주소는 임베딩으로 처리하기\n",
        "- 셀레니움 코드 완성시키기\n",
        "    - 저장소는 어떻게?\n",
        "    - 로컬로 저장\n",
        "\n"
      ]
    },
    {
      "cell_type": "markdown",
      "metadata": {
        "id": "6o7sktkfsJmH"
      },
      "source": [
        "#selenium settings\n",
        "- 참고\n",
        "https://velog.io/@kimdy0915/Selenium%EC%9C%BC%EB%A1%9C-%EB%84%A4%EC%9D%B4%EB%B2%84-%EC%A7%80%EB%8F%84-%ED%81%AC%EB%A1%A4%EB%A7%81%ED%95%98%EA%B8%B0\n",
        "\n",
        "https://eastsea92-com.tistory.com/80\n",
        "\n",
        "https://jinooh.tistory.com/89\n",
        "\n"
      ]
    },
    {
      "cell_type": "code",
      "execution_count": null,
      "metadata": {},
      "outputs": [],
      "source": []
    },
    {
      "cell_type": "code",
      "execution_count": null,
      "metadata": {},
      "outputs": [],
      "source": []
    },
    {
      "cell_type": "code",
      "execution_count": 1,
      "metadata": {
        "colab": {
          "base_uri": "https://localhost:8080/"
        },
        "id": "Yaq6VCvTuII_",
        "outputId": "b5797f9d-dcec-413a-a400-69e5798e78a9"
      },
      "outputs": [
        {
          "name": "stdout",
          "output_type": "stream",
          "text": [
            "Collecting selenium\n",
            "  Downloading selenium-4.25.0-py3-none-any.whl.metadata (7.1 kB)\n",
            "Requirement already satisfied: urllib3<3,>=1.26 in c:\\users\\tldbs\\anaconda3\\lib\\site-packages (from urllib3[socks]<3,>=1.26->selenium) (2.2.2)\n",
            "Collecting trio~=0.17 (from selenium)\n",
            "  Downloading trio-0.26.2-py3-none-any.whl.metadata (8.6 kB)\n",
            "Collecting trio-websocket~=0.9 (from selenium)\n",
            "  Downloading trio_websocket-0.11.1-py3-none-any.whl.metadata (4.7 kB)\n",
            "Requirement already satisfied: certifi>=2021.10.8 in c:\\users\\tldbs\\anaconda3\\lib\\site-packages (from selenium) (2024.6.2)\n",
            "Requirement already satisfied: typing_extensions~=4.9 in c:\\users\\tldbs\\anaconda3\\lib\\site-packages (from selenium) (4.11.0)\n",
            "Requirement already satisfied: websocket-client~=1.8 in c:\\users\\tldbs\\anaconda3\\lib\\site-packages (from selenium) (1.8.0)\n",
            "Collecting attrs>=23.2.0 (from trio~=0.17->selenium)\n",
            "  Downloading attrs-24.2.0-py3-none-any.whl.metadata (11 kB)\n",
            "Requirement already satisfied: sortedcontainers in c:\\users\\tldbs\\anaconda3\\lib\\site-packages (from trio~=0.17->selenium) (2.4.0)\n",
            "Requirement already satisfied: idna in c:\\users\\tldbs\\anaconda3\\lib\\site-packages (from trio~=0.17->selenium) (3.7)\n",
            "Collecting outcome (from trio~=0.17->selenium)\n",
            "  Downloading outcome-1.3.0.post0-py2.py3-none-any.whl.metadata (2.6 kB)\n",
            "Requirement already satisfied: sniffio>=1.3.0 in c:\\users\\tldbs\\anaconda3\\lib\\site-packages (from trio~=0.17->selenium) (1.3.0)\n",
            "Requirement already satisfied: cffi>=1.14 in c:\\users\\tldbs\\anaconda3\\lib\\site-packages (from trio~=0.17->selenium) (1.16.0)\n",
            "Collecting wsproto>=0.14 (from trio-websocket~=0.9->selenium)\n",
            "  Downloading wsproto-1.2.0-py3-none-any.whl.metadata (5.6 kB)\n",
            "Requirement already satisfied: pysocks!=1.5.7,<2.0,>=1.5.6 in c:\\users\\tldbs\\anaconda3\\lib\\site-packages (from urllib3[socks]<3,>=1.26->selenium) (1.7.1)\n",
            "Requirement already satisfied: pycparser in c:\\users\\tldbs\\anaconda3\\lib\\site-packages (from cffi>=1.14->trio~=0.17->selenium) (2.21)\n",
            "Collecting h11<1,>=0.9.0 (from wsproto>=0.14->trio-websocket~=0.9->selenium)\n",
            "  Downloading h11-0.14.0-py3-none-any.whl.metadata (8.2 kB)\n",
            "Downloading selenium-4.25.0-py3-none-any.whl (9.7 MB)\n",
            "   ---------------------------------------- 0.0/9.7 MB ? eta -:--:--\n",
            "   - -------------------------------------- 0.3/9.7 MB 9.9 MB/s eta 0:00:01\n",
            "   --- ------------------------------------ 0.9/9.7 MB 11.2 MB/s eta 0:00:01\n",
            "   ----- ---------------------------------- 1.4/9.7 MB 11.4 MB/s eta 0:00:01\n",
            "   -------- ------------------------------- 2.0/9.7 MB 11.4 MB/s eta 0:00:01\n",
            "   ---------- ----------------------------- 2.5/9.7 MB 11.5 MB/s eta 0:00:01\n",
            "   ------------ --------------------------- 3.1/9.7 MB 11.5 MB/s eta 0:00:01\n",
            "   --------------- ------------------------ 3.6/9.7 MB 11.6 MB/s eta 0:00:01\n",
            "   ----------------- ---------------------- 4.2/9.7 MB 11.7 MB/s eta 0:00:01\n",
            "   ------------------- -------------------- 4.7/9.7 MB 11.7 MB/s eta 0:00:01\n",
            "   --------------------- ------------------ 5.3/9.7 MB 11.6 MB/s eta 0:00:01\n",
            "   ----------------------- ---------------- 5.8/9.7 MB 11.6 MB/s eta 0:00:01\n",
            "   ------------------------- -------------- 6.2/9.7 MB 11.6 MB/s eta 0:00:01\n",
            "   -------------------------- ------------- 6.4/9.7 MB 10.8 MB/s eta 0:00:01\n",
            "   --------------------------- ------------ 6.7/9.7 MB 10.7 MB/s eta 0:00:01\n",
            "   ---------------------------- ----------- 7.0/9.7 MB 10.3 MB/s eta 0:00:01\n",
            "   ----------------------------- ---------- 7.2/9.7 MB 10.1 MB/s eta 0:00:01\n",
            "   -------------------------------- ------- 7.8/9.7 MB 9.9 MB/s eta 0:00:01\n",
            "   --------------------------------- ------ 8.2/9.7 MB 9.9 MB/s eta 0:00:01\n",
            "   ----------------------------------- ---- 8.5/9.7 MB 9.7 MB/s eta 0:00:01\n",
            "   ------------------------------------ --- 8.8/9.7 MB 9.5 MB/s eta 0:00:01\n",
            "   -------------------------------------- - 9.3/9.7 MB 9.6 MB/s eta 0:00:01\n",
            "   ---------------------------------------  9.7/9.7 MB 9.7 MB/s eta 0:00:01\n",
            "   ---------------------------------------- 9.7/9.7 MB 9.4 MB/s eta 0:00:00\n",
            "Downloading trio-0.26.2-py3-none-any.whl (475 kB)\n",
            "   ---------------------------------------- 0.0/476.0 kB ? eta -:--:--\n",
            "   ---------------------------------------- 476.0/476.0 kB 9.9 MB/s eta 0:00:00\n",
            "Downloading trio_websocket-0.11.1-py3-none-any.whl (17 kB)\n",
            "Downloading attrs-24.2.0-py3-none-any.whl (63 kB)\n",
            "   ---------------------------------------- 0.0/63.0 kB ? eta -:--:--\n",
            "   ---------------------------------------- 63.0/63.0 kB 3.3 MB/s eta 0:00:00\n",
            "Downloading wsproto-1.2.0-py3-none-any.whl (24 kB)\n",
            "Downloading outcome-1.3.0.post0-py2.py3-none-any.whl (10 kB)\n",
            "Downloading h11-0.14.0-py3-none-any.whl (58 kB)\n",
            "   ---------------------------------------- 0.0/58.3 kB ? eta -:--:--\n",
            "   ---------------------------------------- 58.3/58.3 kB ? eta 0:00:00\n",
            "Installing collected packages: h11, attrs, wsproto, outcome, trio, trio-websocket, selenium\n",
            "  Attempting uninstall: attrs\n",
            "    Found existing installation: attrs 23.1.0\n",
            "    Uninstalling attrs-23.1.0:\n",
            "      Successfully uninstalled attrs-23.1.0\n",
            "Successfully installed attrs-24.2.0 h11-0.14.0 outcome-1.3.0.post0 selenium-4.25.0 trio-0.26.2 trio-websocket-0.11.1 wsproto-1.2.0\n"
          ]
        }
      ],
      "source": [
        "!pip install selenium"
      ]
    },
    {
      "cell_type": "code",
      "execution_count": 10,
      "metadata": {
        "id": "klP80wzayETr"
      },
      "outputs": [],
      "source": [
        "from selenium import webdriver\n",
        "from selenium.webdriver.chrome.service import Service\n",
        "from selenium.webdriver.common.keys import Keys\n",
        "from selenium.webdriver.common.by import By\n",
        "from selenium.webdriver.support.ui import WebDriverWait\n",
        "from selenium.webdriver.support import expected_conditions as EC\n",
        "import json\n",
        "import time\n",
        "from time import sleep\n",
        "import pandas as pd\n"
      ]
    },
    {
      "cell_type": "markdown",
      "metadata": {
        "id": "CrkgzG6mym0G"
      },
      "source": [
        "load chrome driver"
      ]
    },
    {
      "cell_type": "code",
      "execution_count": 11,
      "metadata": {},
      "outputs": [
        {
          "data": {
            "text/plain": [
              "'.'"
            ]
          },
          "execution_count": 11,
          "metadata": {},
          "output_type": "execute_result"
        }
      ],
      "source": [
        "import os\n",
        "os.curdir"
      ]
    },
    {
      "cell_type": "code",
      "execution_count": 25,
      "metadata": {},
      "outputs": [],
      "source": [
        "chrome_driver_path = r'C:\\github\\chromedriver.exe'\n",
        "service = Service(executable_path=chrome_driver_path)\n",
        "driver = webdriver.Chrome(service=service)\n",
        "# driver.get(\"https://www.google.com\")\n",
        "\n",
        "url = 'https://map.naver.com/p?c=15.00,0,0,0,dh'\n",
        "driver.get(url)"
      ]
    },
    {
      "cell_type": "markdown",
      "metadata": {
        "id": "3Dwwfak8ypH4"
      },
      "source": [
        "def function"
      ]
    },
    {
      "cell_type": "code",
      "execution_count": 20,
      "metadata": {
        "id": "uv_Ffc0FyqAn"
      },
      "outputs": [],
      "source": [
        "def time_wait(num,code) :\n",
        "    try :\n",
        "        wait = WebDriverWait(driver, num).until(EC.presense_of_element_located((By.CSS_SELECTOR, code)))\n",
        "    except :\n",
        "        print(code, 'tag not found')\n",
        "        driver.quit()\n",
        "    return wait\n",
        "\n",
        "# frame change method\n",
        "def switch_method(frame) :\n",
        "    driver.switch_to.default_content()\n",
        "    driver.switch_to.frame(frame)\n",
        "\n",
        "def page_down(num) :\n",
        "    body = driver.find_element(By.CSS_SELECTOR, 'body')\n",
        "    body.click()\n",
        "    for i in range(num) :\n",
        "        body.send_keys(Keys.PAGE_DOWN)\n",
        "        time.sleep(1)\n",
        "        \n",
        "        \n",
        "def get_text_by_xpath(xpath):\n",
        "    \"\"\"XPath를 이용한 텍스트 추출\"\"\"\n",
        "    try:\n",
        "        return driver.find_element(By.XPATH, xpath).text\n",
        "    except:\n",
        "        return None"
      ]
    },
    {
      "cell_type": "markdown",
      "metadata": {
        "id": "f1sOC9q1x7lG"
      },
      "source": [
        "# 절차\n",
        "\n",
        "1. 가게에 대한 unique를 list에 넣기\n",
        "2. for 문을 돌면서 해당 가게에 대한 정보\n",
        "    - 홈 - datalab 키워드\n",
        "    - 사진 - 이미지\n",
        "    - 리뷰 - 메뉴/특징\n",
        "\n",
        "\n"
      ]
    },
    {
      "cell_type": "code",
      "execution_count": 26,
      "metadata": {
        "id": "Z0icws1HtzcW"
      },
      "outputs": [
        {
          "ename": "SyntaxError",
          "evalue": "invalid syntax (741777529.py, line 48)",
          "output_type": "error",
          "traceback": [
            "\u001b[1;36m  Cell \u001b[1;32mIn[26], line 48\u001b[1;36m\u001b[0m\n\u001b[1;33m    to_click1 = /html/body/div[3]/div/div/div/div[4]/div/div/div/div/a[4]/span\u001b[0m\n\u001b[1;37m                ^\u001b[0m\n\u001b[1;31mSyntaxError\u001b[0m\u001b[1;31m:\u001b[0m invalid syntax\n"
          ]
        }
      ],
      "source": [
        "# 검색할 키워드\n",
        "## 검색할 키워드를 입력받은 후 for문장으로 해당 가게에 대한 정보 가져오기\n",
        "shinhan_store = ['','','','']\n",
        "\n",
        "datalab = []\n",
        "picture = []\n",
        "review = []\n",
        "\n",
        "\n",
        "driver = webdriver.Chrome('./chromedriver')\n",
        "driver.get('https://map.naver.com/v5/search')\n",
        "\n",
        "for store in shinhan_store:\n",
        "\n",
        "    # 10 secs wait until find css\n",
        "    time_wait(10, 'div.input_box > input.input_search')\n",
        "\n",
        "    # 검색창 찾기\n",
        "    search = driver.find_element(By.CSS_SELECTOR, 'div.input_box > input.input_search')\n",
        "    search.clear()\n",
        "    search.send_keys(store)\n",
        "    search.send_keys(Keys.ENTER)\n",
        "\n",
        "    sleep(1)\n",
        "\n",
        "    switch_method('searchIframe')\n",
        "    page_down(20)\n",
        "    sleep(3)\n",
        "\n",
        "    # 홈\n",
        "    ## datalab의 키워드\n",
        "    path = '/html/body/div[3]/div/div/div/div[6]/div/div[9]'\n",
        "    ### theme-keyword\n",
        "    /html/body/div[3]/div/div/div/div[6]/div/div[9]/div[1]/div[1]/div/ul/li[1]/span[1]\n",
        "    /html/body/div[3]/div/div/div/div[6]/div/div[9]/div[1]/div[1]/div/ul/li[2]/span[1]\n",
        "    /html/body/div[3]/div/div/div/div[6]/div/div[9]/div[1]/div[1]/div/ul/li[3]/span[1]\n",
        "    ### 내용1\n",
        "    /html/body/div[3]/div/div/div/div[6]/div/div[9]/div[1]/div[1]/div/ul/li[1]/span[2]/span[1]\n",
        "    /html/body/div[3]/div/div/div/div[6]/div/div[9]/div[1]/div[1]/div/ul/li[1]/span[2]/span[5]\n",
        "    ### 내용2\n",
        "    /html/body/div[3]/div/div/div/div[6]/div/div[9]/div[1]/div[1]/div/ul/li[2]/span[2]/span[1]\n",
        "    /html/body/div[3]/div/div/div/div[6]/div/div[9]/div[1]/div[1]/div/ul/li[2]/span[2]/span[5]\n",
        "    ### 내용3\n",
        "    /html/body/div[3]/div/div/div/div[6]/div/div[9]/div[1]/div[1]/div/ul/li[2]/span[3]/span[1]\n",
        "    /html/body/div[3]/div/div/div/div[6]/div/div[9]/div[1]/div[1]/div/ul/li[2]/span[3]/span[5]\n",
        "\n",
        "    # 리뷰\n",
        "    to_click1 = /html/body/div[3]/div/div/div/div[4]/div/div/div/div/a[4]/span\n",
        "    # 메뉴박스\n",
        "    review = /html/body/div[3]/div/div/div/div[6]/div[3]/div[3]\n",
        "    menu_box = /html/body/div[3]/div/div/div/div[6]/div[3]/div[3]/div[1]/div[1]/div/div[1]\n",
        "    menu = /html/body/div[3]/div/div/div/div[6]/div[3]/div[3]/div[1]/div[1]/div/div[1]/div/div/div/div/span[2]/a/span[1]\n",
        "    # 특징박스\n",
        "    feature = /html/body/div[3]/div/div/div/div[6]/div[3]/div[3]/div[1]/div[1]/div/div[2]\n",
        "    feqture_1 = /html/body/div[3]/div/div/div/div[6]/div[3]/div[3]/div[1]/div[1]/div/div[2]/div/div/div/div/span[2]/a/span[1]\n",
        "\n",
        "    # 사진\n",
        "    to_click2 = /html/body/div[3]/div/div/div/div[4]/div/div/div/div/a[5]/span\n",
        "    # 동영상이 아니라 사진의 경우만\n",
        "    # 대략 5~10개 이미지 url 저장\n",
        "\n",
        "    picture_box = /html/body/div[3]/div/div/div/div[6]/div[5]/div/div/div/div[1]/a\n",
        "    url = /html/body/div[3]/div/div/div/div[6]/div[5]/div/div/div/div[1]/a/div/div[1]/img\n",
        "\n",
        "\n",
        "\n"
      ]
    },
    {
      "cell_type": "code",
      "execution_count": 29,
      "metadata": {
        "id": "OBeKyTMyv3l5"
      },
      "outputs": [
        {
          "name": "stdout",
          "output_type": "stream",
          "text": [
            "리뷰를 찾는 도중 에러 발생: Message: no such element: Unable to locate element: {\"method\":\"xpath\",\"selector\":\"/html/body/div[3]/div/div/div/div[4]/div/div/div/div/a[4]/span\"}\n",
            "  (Session info: chrome=129.0.6668.90); For documentation on this error, please visit: https://www.selenium.dev/documentation/webdriver/troubleshooting/errors#no-such-element-exception\n",
            "Stacktrace:\n",
            "\tGetHandleVerifier [0x00007FF60422FDF2+29714]\n",
            "\t(No symbol) [0x00007FF6041A8069]\n",
            "\t(No symbol) [0x00007FF60406B9DA]\n",
            "\t(No symbol) [0x00007FF6040BF657]\n",
            "\t(No symbol) [0x00007FF6040BF8AC]\n",
            "\t(No symbol) [0x00007FF604109CA7]\n",
            "\t(No symbol) [0x00007FF6040E6C7F]\n",
            "\t(No symbol) [0x00007FF604106A82]\n",
            "\t(No symbol) [0x00007FF6040E69E3]\n",
            "\t(No symbol) [0x00007FF6040B114A]\n",
            "\t(No symbol) [0x00007FF6040B22B1]\n",
            "\tGetHandleVerifier [0x00007FF60455020D+3307565]\n",
            "\tGetHandleVerifier [0x00007FF60459CCE3+3621635]\n",
            "\tGetHandleVerifier [0x00007FF604592087+3577511]\n",
            "\tGetHandleVerifier [0x00007FF6042E7456+780918]\n",
            "\t(No symbol) [0x00007FF6041B31AF]\n",
            "\t(No symbol) [0x00007FF6041AED34]\n",
            "\t(No symbol) [0x00007FF6041AEEC0]\n",
            "\t(No symbol) [0x00007FF60419E3DF]\n",
            "\tBaseThreadInitThunk [0x00007FF9EBF97374+20]\n",
            "\tRtlUserThreadStart [0x00007FF9EC89CC91+33]\n",
            "\n",
            "사진을 찾는 도중 에러 발생: Message: no such element: Unable to locate element: {\"method\":\"xpath\",\"selector\":\"/html/body/div[3]/div/div/div/div[4]/div/div/div/div/a[5]/span\"}\n",
            "  (Session info: chrome=129.0.6668.90); For documentation on this error, please visit: https://www.selenium.dev/documentation/webdriver/troubleshooting/errors#no-such-element-exception\n",
            "Stacktrace:\n",
            "\tGetHandleVerifier [0x00007FF60422FDF2+29714]\n",
            "\t(No symbol) [0x00007FF6041A8069]\n",
            "\t(No symbol) [0x00007FF60406B9DA]\n",
            "\t(No symbol) [0x00007FF6040BF657]\n",
            "\t(No symbol) [0x00007FF6040BF8AC]\n",
            "\t(No symbol) [0x00007FF604109CA7]\n",
            "\t(No symbol) [0x00007FF6040E6C7F]\n",
            "\t(No symbol) [0x00007FF604106A82]\n",
            "\t(No symbol) [0x00007FF6040E69E3]\n",
            "\t(No symbol) [0x00007FF6040B114A]\n",
            "\t(No symbol) [0x00007FF6040B22B1]\n",
            "\tGetHandleVerifier [0x00007FF60455020D+3307565]\n",
            "\tGetHandleVerifier [0x00007FF60459CCE3+3621635]\n",
            "\tGetHandleVerifier [0x00007FF604592087+3577511]\n",
            "\tGetHandleVerifier [0x00007FF6042E7456+780918]\n",
            "\t(No symbol) [0x00007FF6041B31AF]\n",
            "\t(No symbol) [0x00007FF6041AED34]\n",
            "\t(No symbol) [0x00007FF6041AEEC0]\n",
            "\t(No symbol) [0x00007FF60419E3DF]\n",
            "\tBaseThreadInitThunk [0x00007FF9EBF97374+20]\n",
            "\tRtlUserThreadStart [0x00007FF9EC89CC91+33]\n",
            "\n"
          ]
        },
        {
          "ename": "TimeoutException",
          "evalue": "Message: \nStacktrace:\n\tGetHandleVerifier [0x00007FF60422FDF2+29714]\n\t(No symbol) [0x00007FF6041A8069]\n\t(No symbol) [0x00007FF60406B9DA]\n\t(No symbol) [0x00007FF6040BF657]\n\t(No symbol) [0x00007FF6040BF8AC]\n\t(No symbol) [0x00007FF604109CA7]\n\t(No symbol) [0x00007FF6040E6C7F]\n\t(No symbol) [0x00007FF604106A82]\n\t(No symbol) [0x00007FF6040E69E3]\n\t(No symbol) [0x00007FF6040B114A]\n\t(No symbol) [0x00007FF6040B22B1]\n\tGetHandleVerifier [0x00007FF60455020D+3307565]\n\tGetHandleVerifier [0x00007FF60459CCE3+3621635]\n\tGetHandleVerifier [0x00007FF604592087+3577511]\n\tGetHandleVerifier [0x00007FF6042E7456+780918]\n\t(No symbol) [0x00007FF6041B31AF]\n\t(No symbol) [0x00007FF6041AED34]\n\t(No symbol) [0x00007FF6041AEEC0]\n\t(No symbol) [0x00007FF60419E3DF]\n\tBaseThreadInitThunk [0x00007FF9EBF97374+20]\n\tRtlUserThreadStart [0x00007FF9EC89CC91+33]\n",
          "output_type": "error",
          "traceback": [
            "\u001b[1;31m---------------------------------------------------------------------------\u001b[0m",
            "\u001b[1;31mTimeoutException\u001b[0m                          Traceback (most recent call last)",
            "Cell \u001b[1;32mIn[29], line 54\u001b[0m\n\u001b[0;32m     51\u001b[0m \u001b[38;5;66;03m# 이후 코드는 동일하게 사용 가능합니다.\u001b[39;00m\n\u001b[0;32m     52\u001b[0m \u001b[38;5;28;01mfor\u001b[39;00m store \u001b[38;5;129;01min\u001b[39;00m shinhan_store:\n\u001b[0;32m     53\u001b[0m     \u001b[38;5;66;03m# 검색창 찾고 키워드 입력\u001b[39;00m\n\u001b[1;32m---> 54\u001b[0m     time_wait(\u001b[38;5;241m10\u001b[39m, \u001b[38;5;124m'\u001b[39m\u001b[38;5;124mdiv.input_box > input.input_search\u001b[39m\u001b[38;5;124m'\u001b[39m)\n\u001b[0;32m     55\u001b[0m     search \u001b[38;5;241m=\u001b[39m driver\u001b[38;5;241m.\u001b[39mfind_element(By\u001b[38;5;241m.\u001b[39mCSS_SELECTOR, \u001b[38;5;124m'\u001b[39m\u001b[38;5;124mdiv.input_box > input.input_search\u001b[39m\u001b[38;5;124m'\u001b[39m)\n\u001b[0;32m     56\u001b[0m     search\u001b[38;5;241m.\u001b[39mclear()\n",
            "Cell \u001b[1;32mIn[29], line 20\u001b[0m, in \u001b[0;36mtime_wait\u001b[1;34m(seconds, selector)\u001b[0m\n\u001b[0;32m     18\u001b[0m \u001b[38;5;28;01mdef\u001b[39;00m \u001b[38;5;21mtime_wait\u001b[39m(seconds, selector):\n\u001b[0;32m     19\u001b[0m \u001b[38;5;250m    \u001b[39m\u001b[38;5;124;03m\"\"\"지정된 시간 동안 특정 요소가 로드될 때까지 대기\"\"\"\u001b[39;00m\n\u001b[1;32m---> 20\u001b[0m     WebDriverWait(driver, seconds)\u001b[38;5;241m.\u001b[39muntil(\n\u001b[0;32m     21\u001b[0m         EC\u001b[38;5;241m.\u001b[39mpresence_of_element_located((By\u001b[38;5;241m.\u001b[39mCSS_SELECTOR, selector))\n\u001b[0;32m     22\u001b[0m     )\n",
            "File \u001b[1;32mc:\\Users\\tldbs\\anaconda3\\Lib\\site-packages\\selenium\\webdriver\\support\\wait.py:105\u001b[0m, in \u001b[0;36mWebDriverWait.until\u001b[1;34m(self, method, message)\u001b[0m\n\u001b[0;32m    103\u001b[0m     \u001b[38;5;28;01mif\u001b[39;00m time\u001b[38;5;241m.\u001b[39mmonotonic() \u001b[38;5;241m>\u001b[39m end_time:\n\u001b[0;32m    104\u001b[0m         \u001b[38;5;28;01mbreak\u001b[39;00m\n\u001b[1;32m--> 105\u001b[0m \u001b[38;5;28;01mraise\u001b[39;00m TimeoutException(message, screen, stacktrace)\n",
            "\u001b[1;31mTimeoutException\u001b[0m: Message: \nStacktrace:\n\tGetHandleVerifier [0x00007FF60422FDF2+29714]\n\t(No symbol) [0x00007FF6041A8069]\n\t(No symbol) [0x00007FF60406B9DA]\n\t(No symbol) [0x00007FF6040BF657]\n\t(No symbol) [0x00007FF6040BF8AC]\n\t(No symbol) [0x00007FF604109CA7]\n\t(No symbol) [0x00007FF6040E6C7F]\n\t(No symbol) [0x00007FF604106A82]\n\t(No symbol) [0x00007FF6040E69E3]\n\t(No symbol) [0x00007FF6040B114A]\n\t(No symbol) [0x00007FF6040B22B1]\n\tGetHandleVerifier [0x00007FF60455020D+3307565]\n\tGetHandleVerifier [0x00007FF60459CCE3+3621635]\n\tGetHandleVerifier [0x00007FF604592087+3577511]\n\tGetHandleVerifier [0x00007FF6042E7456+780918]\n\t(No symbol) [0x00007FF6041B31AF]\n\t(No symbol) [0x00007FF6041AED34]\n\t(No symbol) [0x00007FF6041AEEC0]\n\t(No symbol) [0x00007FF60419E3DF]\n\tBaseThreadInitThunk [0x00007FF9EBF97374+20]\n\tRtlUserThreadStart [0x00007FF9EC89CC91+33]\n"
          ]
        }
      ],
      "source": [
        "from selenium import webdriver\n",
        "from selenium.webdriver.chrome.service import Service\n",
        "from selenium.webdriver.common.by import By\n",
        "from selenium.webdriver.common.keys import Keys\n",
        "from selenium.webdriver.support.ui import WebDriverWait\n",
        "from selenium.webdriver.support import expected_conditions as EC\n",
        "from time import sleep\n",
        "\n",
        "shinhan_store = ['1950하우스', '2093하우스', '24시 뼈다귀탕 제주점']\n",
        "\n",
        "# 데이터 저장 리스트\n",
        "datalab = []\n",
        "pictures = []\n",
        "reviews = []\n",
        "\n",
        "\n",
        "def time_wait(seconds, selector):\n",
        "    \"\"\"지정된 시간 동안 특정 요소가 로드될 때까지 대기\"\"\"\n",
        "    WebDriverWait(driver, seconds).until(\n",
        "        EC.presence_of_element_located((By.CSS_SELECTOR, selector))\n",
        "    )\n",
        "\n",
        "def switch_iframe(iframe_name):\n",
        "    driver.switch_to.default_content()\n",
        "    driver.switch_to.frame(iframe_name)\n",
        "\n",
        "def page_down(times):\n",
        "    \"\"\"페이지 스크롤 다운\"\"\"\n",
        "    for _ in range(times):\n",
        "        driver.find_element(By.TAG_NAME, \"body\").send_keys(Keys.PAGE_DOWN)\n",
        "\n",
        "def get_text_by_xpath(xpath):\n",
        "    \"\"\"XPath를 이용한 텍스트 추출\"\"\"\n",
        "    try:\n",
        "        return driver.find_element(By.XPATH, xpath).text\n",
        "    except:\n",
        "        return None\n",
        "# ChromeDriver 경로 설정\n",
        "chrome_driver_path = r'C:\\github\\chromedriver.exe'  # chromedriver의 경로로 수정\n",
        "\n",
        "# Service 객체 생성\n",
        "service = Service(executable_path=chrome_driver_path)\n",
        "\n",
        "# 웹 드라이버 생성\n",
        "driver = webdriver.Chrome(service=service)\n",
        "\n",
        "# 네이버 지도 URL로 이동\n",
        "driver.get('https://map.naver.com/v5/search')\n",
        "\n",
        "# 이후 코드는 동일하게 사용 가능합니다.\n",
        "for store in shinhan_store:\n",
        "    # 검색창 찾고 키워드 입력\n",
        "    time_wait(10, 'div.input_box > input.input_search')\n",
        "    search = driver.find_element(By.CSS_SELECTOR, 'div.input_box > input.input_search')\n",
        "    search.clear()\n",
        "    search.send_keys(store)\n",
        "    search.send_keys(Keys.ENTER)\n",
        "\n",
        "    # 검색 결과 로드 대기 및 iframe 전환\n",
        "    sleep(1)\n",
        "    switch_iframe('searchIframe')\n",
        "    page_down(20)\n",
        "    sleep(3)\n",
        "\n",
        "    # 데이터랩 키워드 및 내용 가져오기\n",
        "    for i in range(1, 4):  # 키워드 1~3까지 추출\n",
        "        keyword_xpath = f'/html/body/div[3]/div/div/div/div[6]/div/div[9]/div[1]/div[1]/div/ul/li[{i}]/span[1]'\n",
        "        content1_xpath = f'/html/body/div[3]/div/div/div/div[6]/div/div[9]/div[1]/div[1]/div/ul/li[{i}]/span[2]/span[1]'\n",
        "        content5_xpath = f'/html/body/div[3]/div/div/div/div[6]/div/div[9]/div[1]/div[1]/div/ul/li[{i}]/span[2]/span[5]'\n",
        "\n",
        "        keyword = get_text_by_xpath(keyword_xpath)\n",
        "        content1 = get_text_by_xpath(content1_xpath)\n",
        "        content5 = get_text_by_xpath(content5_xpath)\n",
        "\n",
        "        if keyword:\n",
        "            datalab.append({'store': store, 'keyword': keyword, 'content1': content1, 'content5': content5})\n",
        "\n",
        "    # 리뷰 탭으로 전환 및 리뷰 데이터 추출\n",
        "    try:\n",
        "        to_click1 = driver.find_element(By.XPATH, '/html/body/div[3]/div/div/div/div[4]/div/div/div/div/a[4]/span')\n",
        "        to_click1.click()\n",
        "        time_wait(10, '.review')\n",
        "        review_elements = driver.find_elements(By.CSS_SELECTOR, '.review')\n",
        "        for review_element in review_elements:\n",
        "            reviews.append(review_element.text)\n",
        "    except Exception as e:\n",
        "        print(f\"리뷰를 찾는 도중 에러 발생: {e}\")\n",
        "\n",
        "    # 사진 탭으로 전환 및 사진 URL 추출\n",
        "    try:\n",
        "        to_click2 = driver.find_element(By.XPATH, '/html/body/div[3]/div/div/div/div[4]/div/div/div/div/a[5]/span')\n",
        "        to_click2.click()\n",
        "        time_wait(10, '.picture')\n",
        "        picture_elements = driver.find_elements(By.CSS_SELECTOR, '.picture img')\n",
        "        for picture_element in picture_elements[:10]:  # 상위 10개의 이미지 추출\n",
        "            pictures.append(picture_element.get_attribute('src'))\n",
        "    except Exception as e:\n",
        "        print(f\"사진을 찾는 도중 에러 발생: {e}\")\n",
        "\n",
        "# 크롤링 완료 후 드라이버 종료\n",
        "driver.quit()\n",
        "\n",
        "# 결과 출력\n",
        "print(\"DataLab: \", datalab)\n",
        "print(\"Reviews: \", reviews)\n",
        "print(\"Pictures: \", pictures)\n"
      ]
    }
  ],
  "metadata": {
    "colab": {
      "provenance": []
    },
    "kernelspec": {
      "display_name": "base",
      "language": "python",
      "name": "python3"
    },
    "language_info": {
      "codemirror_mode": {
        "name": "ipython",
        "version": 3
      },
      "file_extension": ".py",
      "mimetype": "text/x-python",
      "name": "python",
      "nbconvert_exporter": "python",
      "pygments_lexer": "ipython3",
      "version": "3.12.4"
    }
  },
  "nbformat": 4,
  "nbformat_minor": 0
}
